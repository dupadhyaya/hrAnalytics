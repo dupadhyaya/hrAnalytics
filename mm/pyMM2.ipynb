{
 "cells": [
  {
   "cell_type": "markdown",
   "id": "dec93700",
   "metadata": {},
   "source": [
    "# Python Mind Map 2\n",
    "-  \n",
    "- \n",
    "-  \n"
   ]
  },
  {
   "cell_type": "markdown",
   "id": "72718a5f",
   "metadata": {},
   "source": [
    "## load libraries"
   ]
  },
  {
   "cell_type": "code",
   "execution_count": 28,
   "id": "c036001c",
   "metadata": {},
   "outputs": [],
   "source": [
    "import numpy as np\n",
    "import pandas as pd\n",
    "from pydataset import data\n",
    "import string\n",
    "import random"
   ]
  },
  {
   "cell_type": "markdown",
   "id": "5013bc7c",
   "metadata": {},
   "source": [
    "## Create Data"
   ]
  },
  {
   "cell_type": "code",
   "execution_count": 29,
   "id": "a5f6d027",
   "metadata": {},
   "outputs": [
    {
     "data": {
      "text/plain": [
       "['E01', 'E02', 'E03']"
      ]
     },
     "execution_count": 29,
     "metadata": {},
     "output_type": "execute_result"
    }
   ],
   "source": [
    "empid = ['E01', 'E02', 'E03']\n",
    "empid"
   ]
  },
  {
   "cell_type": "code",
   "execution_count": 30,
   "id": "6788b311",
   "metadata": {},
   "outputs": [],
   "source": [
    "#help(print)"
   ]
  },
  {
   "cell_type": "code",
   "execution_count": 31,
   "id": "c78c803b",
   "metadata": {},
   "outputs": [
    {
     "name": "stdout",
     "output_type": "stream",
     "text": [
      "0,1,2,3,4,5,6,7,8,9,"
     ]
    }
   ],
   "source": [
    "for x in range(10) : print(x,  end=',')"
   ]
  },
  {
   "cell_type": "code",
   "execution_count": 32,
   "id": "6b795488",
   "metadata": {},
   "outputs": [
    {
     "data": {
      "text/html": [
       "<div>\n",
       "<style scoped>\n",
       "    .dataframe tbody tr th:only-of-type {\n",
       "        vertical-align: middle;\n",
       "    }\n",
       "\n",
       "    .dataframe tbody tr th {\n",
       "        vertical-align: top;\n",
       "    }\n",
       "\n",
       "    .dataframe thead th {\n",
       "        text-align: right;\n",
       "    }\n",
       "</style>\n",
       "<table border=\"1\" class=\"dataframe\">\n",
       "  <thead>\n",
       "    <tr style=\"text-align: right;\">\n",
       "      <th></th>\n",
       "      <th>0</th>\n",
       "      <th>1</th>\n",
       "      <th>2</th>\n",
       "      <th>3</th>\n",
       "      <th>4</th>\n",
       "    </tr>\n",
       "  </thead>\n",
       "  <tbody>\n",
       "    <tr>\n",
       "      <th>0</th>\n",
       "      <td>0.54</td>\n",
       "      <td>0.12</td>\n",
       "      <td>0.23</td>\n",
       "      <td>0.30</td>\n",
       "      <td>0.36</td>\n",
       "    </tr>\n",
       "    <tr>\n",
       "      <th>1</th>\n",
       "      <td>0.94</td>\n",
       "      <td>0.77</td>\n",
       "      <td>0.04</td>\n",
       "      <td>0.24</td>\n",
       "      <td>0.26</td>\n",
       "    </tr>\n",
       "    <tr>\n",
       "      <th>2</th>\n",
       "      <td>0.35</td>\n",
       "      <td>0.85</td>\n",
       "      <td>0.85</td>\n",
       "      <td>0.41</td>\n",
       "      <td>0.13</td>\n",
       "    </tr>\n",
       "    <tr>\n",
       "      <th>3</th>\n",
       "      <td>0.87</td>\n",
       "      <td>0.86</td>\n",
       "      <td>0.86</td>\n",
       "      <td>0.10</td>\n",
       "      <td>0.74</td>\n",
       "    </tr>\n",
       "    <tr>\n",
       "      <th>4</th>\n",
       "      <td>0.85</td>\n",
       "      <td>0.61</td>\n",
       "      <td>0.52</td>\n",
       "      <td>0.09</td>\n",
       "      <td>0.72</td>\n",
       "    </tr>\n",
       "  </tbody>\n",
       "</table>\n",
       "</div>"
      ],
      "text/plain": [
       "      0     1     2     3     4\n",
       "0  0.54  0.12  0.23  0.30  0.36\n",
       "1  0.94  0.77  0.04  0.24  0.26\n",
       "2  0.35  0.85  0.85  0.41  0.13\n",
       "3  0.87  0.86  0.86  0.10  0.74\n",
       "4  0.85  0.61  0.52  0.09  0.72"
      ]
     },
     "execution_count": 32,
     "metadata": {},
     "output_type": "execute_result"
    }
   ],
   "source": [
    "df1A = pd.DataFrame(np.random.rand(50,5).round(2))  #5 cols, 50 rows\n",
    "df1A.head()"
   ]
  },
  {
   "cell_type": "code",
   "execution_count": 33,
   "id": "7a4eed1c",
   "metadata": {},
   "outputs": [
    {
     "data": {
      "text/html": [
       "<div>\n",
       "<style scoped>\n",
       "    .dataframe tbody tr th:only-of-type {\n",
       "        vertical-align: middle;\n",
       "    }\n",
       "\n",
       "    .dataframe tbody tr th {\n",
       "        vertical-align: top;\n",
       "    }\n",
       "\n",
       "    .dataframe thead th {\n",
       "        text-align: right;\n",
       "    }\n",
       "</style>\n",
       "<table border=\"1\" class=\"dataframe\">\n",
       "  <thead>\n",
       "    <tr style=\"text-align: right;\">\n",
       "      <th></th>\n",
       "      <th>0</th>\n",
       "      <th>1</th>\n",
       "      <th>2</th>\n",
       "      <th>3</th>\n",
       "      <th>4</th>\n",
       "    </tr>\n",
       "  </thead>\n",
       "  <tbody>\n",
       "    <tr>\n",
       "      <th>2023-01-31</th>\n",
       "      <td>0.54</td>\n",
       "      <td>0.12</td>\n",
       "      <td>0.23</td>\n",
       "      <td>0.30</td>\n",
       "      <td>0.36</td>\n",
       "    </tr>\n",
       "    <tr>\n",
       "      <th>2023-02-28</th>\n",
       "      <td>0.94</td>\n",
       "      <td>0.77</td>\n",
       "      <td>0.04</td>\n",
       "      <td>0.24</td>\n",
       "      <td>0.26</td>\n",
       "    </tr>\n",
       "    <tr>\n",
       "      <th>2023-03-31</th>\n",
       "      <td>0.35</td>\n",
       "      <td>0.85</td>\n",
       "      <td>0.85</td>\n",
       "      <td>0.41</td>\n",
       "      <td>0.13</td>\n",
       "    </tr>\n",
       "    <tr>\n",
       "      <th>2023-04-30</th>\n",
       "      <td>0.87</td>\n",
       "      <td>0.86</td>\n",
       "      <td>0.86</td>\n",
       "      <td>0.10</td>\n",
       "      <td>0.74</td>\n",
       "    </tr>\n",
       "    <tr>\n",
       "      <th>2023-05-31</th>\n",
       "      <td>0.85</td>\n",
       "      <td>0.61</td>\n",
       "      <td>0.52</td>\n",
       "      <td>0.09</td>\n",
       "      <td>0.72</td>\n",
       "    </tr>\n",
       "  </tbody>\n",
       "</table>\n",
       "</div>"
      ],
      "text/plain": [
       "               0     1     2     3     4\n",
       "2023-01-31  0.54  0.12  0.23  0.30  0.36\n",
       "2023-02-28  0.94  0.77  0.04  0.24  0.26\n",
       "2023-03-31  0.35  0.85  0.85  0.41  0.13\n",
       "2023-04-30  0.87  0.86  0.86  0.10  0.74\n",
       "2023-05-31  0.85  0.61  0.52  0.09  0.72"
      ]
     },
     "execution_count": 33,
     "metadata": {},
     "output_type": "execute_result"
    }
   ],
   "source": [
    "df1A.index = pd.date_range('1/1/2023', periods=len(df1A), freq='M')\n",
    "df1A.head()"
   ]
  },
  {
   "cell_type": "code",
   "execution_count": 34,
   "id": "68962c39",
   "metadata": {},
   "outputs": [
    {
     "data": {
      "text/plain": [
       "('ABCDEFGHIJKLMNOPQRSTUVWXYZ', 'abcdefghijklmnopqrstuvwxyz')"
      ]
     },
     "execution_count": 34,
     "metadata": {},
     "output_type": "execute_result"
    }
   ],
   "source": [
    "string.ascii_uppercase , string.ascii_lowercase "
   ]
  },
  {
   "cell_type": "code",
   "execution_count": 35,
   "id": "2b060e81",
   "metadata": {},
   "outputs": [
    {
     "data": {
      "text/plain": [
       "(50, 5)"
      ]
     },
     "execution_count": 35,
     "metadata": {},
     "output_type": "execute_result"
    }
   ],
   "source": [
    "df1A.shape"
   ]
  },
  {
   "cell_type": "code",
   "execution_count": 36,
   "id": "9f9e31da",
   "metadata": {},
   "outputs": [],
   "source": [
    "rows, cols = 52, 5"
   ]
  },
  {
   "cell_type": "code",
   "execution_count": 37,
   "id": "62a4202d",
   "metadata": {},
   "outputs": [
    {
     "data": {
      "text/html": [
       "<div>\n",
       "<style scoped>\n",
       "    .dataframe tbody tr th:only-of-type {\n",
       "        vertical-align: middle;\n",
       "    }\n",
       "\n",
       "    .dataframe tbody tr th {\n",
       "        vertical-align: top;\n",
       "    }\n",
       "\n",
       "    .dataframe thead th {\n",
       "        text-align: right;\n",
       "    }\n",
       "</style>\n",
       "<table border=\"1\" class=\"dataframe\">\n",
       "  <thead>\n",
       "    <tr style=\"text-align: right;\">\n",
       "      <th></th>\n",
       "      <th>c0</th>\n",
       "      <th>c1</th>\n",
       "      <th>c2</th>\n",
       "      <th>c3</th>\n",
       "      <th>c4</th>\n",
       "    </tr>\n",
       "  </thead>\n",
       "  <tbody>\n",
       "    <tr>\n",
       "      <th>A</th>\n",
       "      <td>1.45</td>\n",
       "      <td>-1.29</td>\n",
       "      <td>1.45</td>\n",
       "      <td>-1.46</td>\n",
       "      <td>0.33</td>\n",
       "    </tr>\n",
       "    <tr>\n",
       "      <th>B</th>\n",
       "      <td>-0.82</td>\n",
       "      <td>-0.82</td>\n",
       "      <td>0.70</td>\n",
       "      <td>0.62</td>\n",
       "      <td>0.69</td>\n",
       "    </tr>\n",
       "    <tr>\n",
       "      <th>C</th>\n",
       "      <td>0.28</td>\n",
       "      <td>0.01</td>\n",
       "      <td>-0.18</td>\n",
       "      <td>0.76</td>\n",
       "      <td>0.95</td>\n",
       "    </tr>\n",
       "    <tr>\n",
       "      <th>D</th>\n",
       "      <td>-0.13</td>\n",
       "      <td>-0.85</td>\n",
       "      <td>0.56</td>\n",
       "      <td>1.41</td>\n",
       "      <td>0.29</td>\n",
       "    </tr>\n",
       "    <tr>\n",
       "      <th>E</th>\n",
       "      <td>0.64</td>\n",
       "      <td>-1.59</td>\n",
       "      <td>1.22</td>\n",
       "      <td>1.60</td>\n",
       "      <td>0.75</td>\n",
       "    </tr>\n",
       "  </tbody>\n",
       "</table>\n",
       "</div>"
      ],
      "text/plain": [
       "     c0    c1    c2    c3    c4\n",
       "A  1.45 -1.29  1.45 -1.46  0.33\n",
       "B -0.82 -0.82  0.70  0.62  0.69\n",
       "C  0.28  0.01 -0.18  0.76  0.95\n",
       "D -0.13 -0.85  0.56  1.41  0.29\n",
       "E  0.64 -1.59  1.22  1.60  0.75"
      ]
     },
     "execution_count": 37,
     "metadata": {},
     "output_type": "execute_result"
    }
   ],
   "source": [
    "df1B = pd.DataFrame(np.random.randn(rows, cols).round(2),\\\n",
    "                    columns = ['c' + str(i) for i in range(cols)] , \\\n",
    "                    index = list((string.ascii_uppercase + string.ascii_lowercase)[0:rows]))\n",
    "df1B.head()"
   ]
  },
  {
   "cell_type": "code",
   "execution_count": 38,
   "id": "f91e162c",
   "metadata": {},
   "outputs": [
    {
     "data": {
      "text/html": [
       "<div>\n",
       "<style scoped>\n",
       "    .dataframe tbody tr th:only-of-type {\n",
       "        vertical-align: middle;\n",
       "    }\n",
       "\n",
       "    .dataframe tbody tr th {\n",
       "        vertical-align: top;\n",
       "    }\n",
       "\n",
       "    .dataframe thead th {\n",
       "        text-align: right;\n",
       "    }\n",
       "</style>\n",
       "<table border=\"1\" class=\"dataframe\">\n",
       "  <thead>\n",
       "    <tr style=\"text-align: right;\">\n",
       "      <th></th>\n",
       "      <th>c0</th>\n",
       "      <th>c1</th>\n",
       "      <th>c2</th>\n",
       "      <th>c3</th>\n",
       "      <th>c4</th>\n",
       "      <th>group</th>\n",
       "    </tr>\n",
       "  </thead>\n",
       "  <tbody>\n",
       "    <tr>\n",
       "      <th>A</th>\n",
       "      <td>1.45</td>\n",
       "      <td>-1.29</td>\n",
       "      <td>1.45</td>\n",
       "      <td>-1.46</td>\n",
       "      <td>0.33</td>\n",
       "      <td>d</td>\n",
       "    </tr>\n",
       "    <tr>\n",
       "      <th>B</th>\n",
       "      <td>-0.82</td>\n",
       "      <td>-0.82</td>\n",
       "      <td>0.70</td>\n",
       "      <td>0.62</td>\n",
       "      <td>0.69</td>\n",
       "      <td>c</td>\n",
       "    </tr>\n",
       "    <tr>\n",
       "      <th>C</th>\n",
       "      <td>0.28</td>\n",
       "      <td>0.01</td>\n",
       "      <td>-0.18</td>\n",
       "      <td>0.76</td>\n",
       "      <td>0.95</td>\n",
       "      <td>a</td>\n",
       "    </tr>\n",
       "    <tr>\n",
       "      <th>D</th>\n",
       "      <td>-0.13</td>\n",
       "      <td>-0.85</td>\n",
       "      <td>0.56</td>\n",
       "      <td>1.41</td>\n",
       "      <td>0.29</td>\n",
       "      <td>b</td>\n",
       "    </tr>\n",
       "    <tr>\n",
       "      <th>E</th>\n",
       "      <td>0.64</td>\n",
       "      <td>-1.59</td>\n",
       "      <td>1.22</td>\n",
       "      <td>1.60</td>\n",
       "      <td>0.75</td>\n",
       "      <td>c</td>\n",
       "    </tr>\n",
       "  </tbody>\n",
       "</table>\n",
       "</div>"
      ],
      "text/plain": [
       "     c0    c1    c2    c3    c4 group\n",
       "A  1.45 -1.29  1.45 -1.46  0.33     d\n",
       "B -0.82 -0.82  0.70  0.62  0.69     c\n",
       "C  0.28  0.01 -0.18  0.76  0.95     a\n",
       "D -0.13 -0.85  0.56  1.41  0.29     b\n",
       "E  0.64 -1.59  1.22  1.60  0.75     c"
      ]
     },
     "execution_count": 38,
     "metadata": {},
     "output_type": "execute_result"
    }
   ],
   "source": [
    "df1B['group'] = [random.choice('abcde') for _ in range(rows)]\n",
    "df1B.head()"
   ]
  },
  {
   "cell_type": "code",
   "execution_count": 39,
   "id": "2df6a225",
   "metadata": {},
   "outputs": [
    {
     "ename": "NameError",
     "evalue": "name 'salary' is not defined",
     "output_type": "error",
     "traceback": [
      "\u001b[1;31m---------------------------------------------------------------------------\u001b[0m",
      "\u001b[1;31mNameError\u001b[0m                                 Traceback (most recent call last)",
      "Cell \u001b[1;32mIn[39], line 19\u001b[0m\n\u001b[0;32m     17\u001b[0m gender \u001b[38;5;241m=\u001b[39m random\u001b[38;5;241m.\u001b[39mchoices([\u001b[38;5;124m'\u001b[39m\u001b[38;5;124mM\u001b[39m\u001b[38;5;124m'\u001b[39m,\u001b[38;5;124m'\u001b[39m\u001b[38;5;124mF\u001b[39m\u001b[38;5;124m'\u001b[39m], weights \u001b[38;5;241m=\u001b[39m(\u001b[38;5;241m.7\u001b[39m,\u001b[38;5;241m.3\u001b[39m), k\u001b[38;5;241m=\u001b[39mn)\n\u001b[0;32m     18\u001b[0m dept \u001b[38;5;241m=\u001b[39m random\u001b[38;5;241m.\u001b[39mchoices(depts, k\u001b[38;5;241m=\u001b[39mn)\n\u001b[1;32m---> 19\u001b[0m pd\u001b[38;5;241m.\u001b[39mDataFrame({\u001b[38;5;124m'\u001b[39m\u001b[38;5;124mempID\u001b[39m\u001b[38;5;124m'\u001b[39m:empID, \u001b[38;5;124m'\u001b[39m\u001b[38;5;124mname\u001b[39m\u001b[38;5;124m'\u001b[39m:name, \u001b[38;5;124m'\u001b[39m\u001b[38;5;124mgender\u001b[39m\u001b[38;5;124m'\u001b[39m:gender, \u001b[38;5;124m'\u001b[39m\u001b[38;5;124mdept\u001b[39m\u001b[38;5;124m'\u001b[39m:dept, \u001b[38;5;124m'\u001b[39m\u001b[38;5;124mage\u001b[39m\u001b[38;5;124m'\u001b[39m:age, \u001b[38;5;124m'\u001b[39m\u001b[38;5;124msalary\u001b[39m\u001b[38;5;124m'\u001b[39m:\u001b[43msalary\u001b[49m})\n\u001b[0;32m     20\u001b[0m salary \u001b[38;5;241m=\u001b[39m np\u001b[38;5;241m.\u001b[39mrandom\u001b[38;5;241m.\u001b[39mrandint(low\u001b[38;5;241m=\u001b[39m\u001b[38;5;241m10000\u001b[39m, high\u001b[38;5;241m=\u001b[39m\u001b[38;5;241m100000\u001b[39m, size\u001b[38;5;241m=\u001b[39mn)\n\u001b[0;32m     21\u001b[0m appraisal \u001b[38;5;241m=\u001b[39m np\u001b[38;5;241m.\u001b[39mrandom\u001b[38;5;241m.\u001b[39mnormal(loc\u001b[38;5;241m=\u001b[39m\u001b[38;5;241m7\u001b[39m,scale\u001b[38;5;241m=\u001b[39m\u001b[38;5;241m1\u001b[39m,size\u001b[38;5;241m=\u001b[39mn)\u001b[38;5;241m.\u001b[39mround(n)\n",
      "\u001b[1;31mNameError\u001b[0m: name 'salary' is not defined"
     ]
    }
   ],
   "source": [
    "\n",
    "\n",
    "df1B\n",
    "\n",
    "#%%% from dictionary\n",
    "df2A = pd.DataFrame.from_dict({'R0':{'C1':0, 'C2':'A'}, 'R1':{'C1':10, 'C2':'B'}}, orient='index')\n",
    "df2A\n",
    "df2B = pd.DataFrame.from_dict({'R0':[1,2,3], 'R1':[5,6,7]}, orient='index', columns=['C3','C4','C5'])\n",
    "df2B\n",
    "#%%% create data frame\n",
    "n=50\n",
    "empID = random.sample(range(100,300),n)\n",
    "empID\n",
    "depts = ['HR','Marketing', 'Finance', 'Operations']\n",
    "name = pd.Series(['Employee' + str(i) for i in range(1,n+1)])\n",
    "name\n",
    "age = np.random.randint(low=23, high=50, size=n)\n",
    "age\n",
    "gender = random.choices(['M','F'], weights =(.7,.3), k=n)\n",
    "dept = random.choices(depts, k=n)\n",
    "pd.DataFrame({'empID':empID, 'name':name, 'gender':gender, 'dept':dept, 'age':age, 'salary':salary})\n",
    "salary = np.random.randint(low=10000, high=100000, size=n)\n",
    "appraisal = np.random.normal(loc=7,scale=1,size=n).round(n)\n",
    "appraisal\n",
    "sDate = '2020/01/01'; eDate ='2023/01/01'\n",
    "sampleDates = pd.date_range(sDate, eDate).to_series()\n",
    "sampleDates\n",
    "len(appraisal)\n",
    "doj = sampleDates.sample(n, replace=False, random_state=100)\n",
    "type(doj)\n",
    "dojList = doj.tolist()\n",
    "len(dojList)\n",
    "myList1 = [empID, name, gender, dept, age, salary, appraisal, doj]\n",
    "for i in myList1: print(len(i))\n",
    "df3 = pd.DataFrame({'empID':empID, 'name':name, 'gender':gender, 'dept':dept, 'age':age, 'salary':salary, 'appraisal':appraisal, 'doj':dojList})\n",
    "df3\n",
    "\n",
    "df3['raiseLY'] = [random.choice('YN')  for _ in range(len(df3))]\n",
    "df3['married'] = [random.choice([True,False, np.NaN])  for _ in range(len(df3))]\n",
    "df3[['raiseLY','married']]\n",
    "df3['distOffice'] = np.random.randint(low=3, high=25, size=n)\n",
    "rRows = np.random.randint(low=0, high=n, size=round(n/4))\n",
    "rRows\n",
    "df3.loc[rRows, 'distOffice'] = np.nan\n",
    "df3.isnull().sum()\n",
    "\n",
    "cities = ('Gurugram', 'Noida','Delhi', 'Mumbai', 'Bengaluru','Chennai', 'Kolkatta')\n",
    "random.sample(cities, counts=[4,13,2,14,2,12,4], k=n)\n",
    "df3['homeTown'] = np.random.choice(cities, size=50, replace=True)\n",
    "df3['homeTown'].tolist()"
   ]
  },
  {
   "cell_type": "markdown",
   "id": "ff5e2b85",
   "metadata": {},
   "source": [
    "## Load DataSet"
   ]
  },
  {
   "cell_type": "code",
   "execution_count": 5,
   "id": "48de8c79",
   "metadata": {},
   "outputs": [
    {
     "data": {
      "text/plain": [
       "(32, 11)"
      ]
     },
     "execution_count": 5,
     "metadata": {},
     "output_type": "execute_result"
    }
   ],
   "source": [
    "#inbuilt data\n",
    "mt = data('mtcars')\n",
    "mt.shape"
   ]
  },
  {
   "cell_type": "code",
   "execution_count": null,
   "id": "3baa384e",
   "metadata": {},
   "outputs": [],
   "source": [
    "#excel, csv\n"
   ]
  },
  {
   "cell_type": "markdown",
   "id": "5ff7aac6",
   "metadata": {},
   "source": [
    "## Describe Data"
   ]
  },
  {
   "cell_type": "code",
   "execution_count": null,
   "id": "a595fbc9",
   "metadata": {},
   "outputs": [],
   "source": []
  }
 ],
 "metadata": {
  "kernelspec": {
   "display_name": "Python 3 (ipykernel)",
   "language": "python",
   "name": "python3"
  },
  "language_info": {
   "codemirror_mode": {
    "name": "ipython",
    "version": 3
   },
   "file_extension": ".py",
   "mimetype": "text/x-python",
   "name": "python",
   "nbconvert_exporter": "python",
   "pygments_lexer": "ipython3",
   "version": "3.10.9"
  }
 },
 "nbformat": 4,
 "nbformat_minor": 5
}
