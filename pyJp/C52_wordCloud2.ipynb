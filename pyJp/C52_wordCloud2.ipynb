{
 "cells": [
  {
   "cell_type": "markdown",
   "id": "45204329",
   "metadata": {},
   "source": [
    "# Word Cloud\n",
    "-  https://docs.google.com/spreadsheets/d/1INLfAoJsnO6eWxUL1B23EcNIyVYY5GZnqXsJLiSGS6w/edit#gid=1196392200"
   ]
  },
  {
   "cell_type": "code",
   "execution_count": null,
   "id": "bc9bc3da",
   "metadata": {},
   "outputs": [],
   "source": [
    "import numpy as np\n",
    "import pandas as pd\n",
    "import matplotlib.pyplot as plt"
   ]
  },
  {
   "cell_type": "code",
   "execution_count": null,
   "id": "150b30ac",
   "metadata": {},
   "outputs": [],
   "source": [
    "from wordcloud import WordCloud, STOPWORDS\n",
    "from PIL import Image"
   ]
  },
  {
   "cell_type": "markdown",
   "id": "3cdeeb3a",
   "metadata": {},
   "source": [
    "## WordCloud\n",
    "-  WordCloud function from wordcloud allows creating word clouds in Python\n",
    "-  generate is the one you need to create a word cloud from a text string\n",
    "-  default, the image size is 400x200 but you can customize the size with width and height 0r using scale (defaults to 1), which is recommended for large word clouds.\n",
    "-   if you want words to be repeated set repeat = True. This is very useful for creating a word cloud from a single word or small texts.\n",
    "-  colormap you can customize the color palette used to draw the colors for each word. These colors are randomly selected from the color map.\n",
    "-  background_color argument can be used to override the default black color of the word cloud image.\n",
    "-  min_font_size (default: 4) and max_font_size (default: None) arguments which are the smallest and largest font size to use within the word cloud\n",
    "-  word cloud will try to fit up to 200 words, but you can decrease the number of words with max_words\n",
    "-  Stop words are the words that will be eliminated from the word cloud image. By default the function takes into account a predefined list of stop words, but you can set your own with stopwords. stopwords =[ .....]\n",
    "-  Python word clouds doesn’t include numbers by default, but setting include_numbers = True will add them.\n",
    "-  you can mask a shape or an image on where to draw word to a Python word cloud with mask. Note that if mask is not None, width and height will be ignored"
   ]
  },
  {
   "cell_type": "code",
   "execution_count": null,
   "id": "3b6d43d1",
   "metadata": {},
   "outputs": [],
   "source": [
    "sheet_id = '1INLfAoJsnO6eWxUL1B23EcNIyVYY5GZnqXsJLiSGS6w'\n",
    "sheet_name = 'pizza'\n",
    "url = f\"https://docs.google.com/spreadsheets/d/{sheet_id}/gviz/tq?tqx=out:csv&sheet={sheet_name}\""
   ]
  },
  {
   "cell_type": "code",
   "execution_count": null,
   "id": "0593b5d8",
   "metadata": {},
   "outputs": [],
   "source": [
    "df = pd.read_csv(url)"
   ]
  },
  {
   "cell_type": "code",
   "execution_count": null,
   "id": "adb8dd9a",
   "metadata": {},
   "outputs": [],
   "source": [
    "df.shape"
   ]
  },
  {
   "cell_type": "code",
   "execution_count": null,
   "id": "d788c7c8",
   "metadata": {},
   "outputs": [],
   "source": [
    "df.head()\n",
    "#yearwise feedback received"
   ]
  },
  {
   "cell_type": "code",
   "execution_count": null,
   "id": "95e83ad1",
   "metadata": {},
   "outputs": [],
   "source": [
    "text = ''.join(cat for cat in df.feedback)"
   ]
  },
  {
   "cell_type": "code",
   "execution_count": null,
   "id": "2818b129",
   "metadata": {},
   "outputs": [],
   "source": [
    "text[1:50]"
   ]
  },
  {
   "cell_type": "code",
   "execution_count": null,
   "id": "d8e503ac",
   "metadata": {},
   "outputs": [],
   "source": [
    "wc1 = WordCloud( width=1000, height=800, random_state=123, background_color='salmon', colormap = 'Pastel1', \\\n",
    "                collocations=False, stopwords = STOPWORDS ).generate(text)\n",
    "wc1"
   ]
  },
  {
   "cell_type": "code",
   "execution_count": null,
   "id": "e73896dc",
   "metadata": {},
   "outputs": [],
   "source": [
    "plt.figure(figsize=(10,8))\n",
    "plt.imshow(wc1)\n",
    "plt.axis('off')\n",
    "plt.show();"
   ]
  },
  {
   "cell_type": "markdown",
   "id": "8d22b1c0",
   "metadata": {},
   "source": [
    "## mask the word cloud"
   ]
  },
  {
   "cell_type": "code",
   "execution_count": null,
   "id": "dcd60bfe",
   "metadata": {},
   "outputs": [],
   "source": [
    "mask1 = np.array(Image.open('E:/analytics/projects/hrAnalytics/images/comment2.png'))\n",
    "mask1[1:2]"
   ]
  },
  {
   "cell_type": "code",
   "execution_count": null,
   "id": "b125dbb8",
   "metadata": {},
   "outputs": [],
   "source": [
    "plt.imshow(mask1)"
   ]
  },
  {
   "cell_type": "code",
   "execution_count": null,
   "id": "0c0ec799",
   "metadata": {},
   "outputs": [],
   "source": [
    "wc2 = WordCloud(width=3000, height=2000, random_state=123,  background_color=\"purple\", colormap=\"Set2\", max_words=20, \\\n",
    "                collocations=False, stopwords=STOPWORDS, mask=mask1 ).generate(text)\n",
    "wc2"
   ]
  },
  {
   "cell_type": "code",
   "execution_count": null,
   "id": "e7cd6d55",
   "metadata": {},
   "outputs": [],
   "source": [
    "plt.figure(figsize=(8,6))\n",
    "plt.imshow(wc2)\n",
    "plt.axis('off')\n",
    "plt.show();"
   ]
  },
  {
   "cell_type": "code",
   "execution_count": null,
   "id": "d78288fd",
   "metadata": {},
   "outputs": [],
   "source": [
    "# customise mask\n",
    "x, y = np.ogrid[:300, :300]\n",
    "mask3 = (x - 150) ** 2 + (y - 150) ** 2 > 130 ** 2\n",
    "mask3 = 255 * mask3.astype(int)\n",
    "mask3"
   ]
  },
  {
   "cell_type": "code",
   "execution_count": null,
   "id": "f6e9e1f7",
   "metadata": {},
   "outputs": [],
   "source": [
    "#WC 3\n",
    "wc3 = WordCloud(  width=3000,  height=2000,  random_state=123,  background_color=\"purple\", colormap=\"Set2\", \\\n",
    "                collocations=False, stopwords=STOPWORDS, mask=mask3 ).generate(text)\n",
    "wc3"
   ]
  },
  {
   "cell_type": "code",
   "execution_count": null,
   "id": "8082c908",
   "metadata": {},
   "outputs": [],
   "source": [
    "plt.axis(\"off\")\n",
    "plt.imshow(wc3, interpolation = \"bilinear\")\n",
    "plt.show()"
   ]
  },
  {
   "cell_type": "markdown",
   "id": "a97f7495",
   "metadata": {},
   "source": [
    "# Word Cloud Variety\n",
    "-  https://python-charts.com/ranking/wordcloud-matplotlib/"
   ]
  },
  {
   "cell_type": "code",
   "execution_count": null,
   "id": "dde1aa78",
   "metadata": {},
   "outputs": [],
   "source": [
    "# wc4\n",
    "import requests\n",
    "from io import BytesIO\n",
    "onlineImg = requests.get(\"https://raw.githubusercontent.com/R-CoderDotCom/samples/main/wordcloud-mask.jpg\")\n",
    "mask4 = np.array(Image.open(BytesIO(onlineImg.content)))\n",
    "mask4[1:2]"
   ]
  },
  {
   "cell_type": "code",
   "execution_count": null,
   "id": "bbf77ae1",
   "metadata": {},
   "outputs": [],
   "source": [
    "wc4 = WordCloud(background_color = \"white\", repeat = False, mask = mask4)  #repeat False\n",
    "wc4.generate(text)"
   ]
  },
  {
   "cell_type": "code",
   "execution_count": null,
   "id": "70262d83",
   "metadata": {},
   "outputs": [],
   "source": [
    "plt.figure(figsize=(10,8))\n",
    "plt.axis(\"off\")\n",
    "plt.imshow(wc4, interpolation = \"bilinear\")\n",
    "plt.show();"
   ]
  },
  {
   "cell_type": "code",
   "execution_count": null,
   "id": "748565e9",
   "metadata": {},
   "outputs": [],
   "source": [
    "textHR = \"HR Data Analytics with Python\"\n",
    "#repeating text\n",
    "# Circle mask\n",
    "x, y = np.ogrid[:300, :300]\n",
    "mask = (x - 150) ** 2 + (y - 150) ** 2 > 130 ** 2\n",
    "mask = 255 * mask.astype(int)\n",
    "\n",
    "wc = WordCloud(height = 900, width = 1500, background_color = \"white\",  repeat = True, mask = mask, contour_width = 3, contour_color = \"black\")\n",
    "wc.generate(textHR)\n",
    "plt.figure(figsize=(8,6))\n",
    "plt.axis(\"off\")\n",
    "plt.imshow(wc, interpolation = \"bilinear\")\n",
    "plt.show();"
   ]
  },
  {
   "cell_type": "code",
   "execution_count": null,
   "id": "bf6040e2",
   "metadata": {},
   "outputs": [],
   "source": [
    "#end here"
   ]
  }
 ],
 "metadata": {
  "kernelspec": {
   "display_name": "Python 3 (ipykernel)",
   "language": "python",
   "name": "python3"
  },
  "language_info": {
   "codemirror_mode": {
    "name": "ipython",
    "version": 3
   },
   "file_extension": ".py",
   "mimetype": "text/x-python",
   "name": "python",
   "nbconvert_exporter": "python",
   "pygments_lexer": "ipython3",
   "version": "3.9.16"
  }
 },
 "nbformat": 4,
 "nbformat_minor": 5
}
