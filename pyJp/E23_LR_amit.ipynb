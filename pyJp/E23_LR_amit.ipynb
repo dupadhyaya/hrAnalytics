{
 "cells": [
  {
   "cell_type": "markdown",
   "id": "a2a7ead6-91fe-4fe8-a45c-7f18579bf455",
   "metadata": {},
   "source": [
    "# Employee Data\n",
    "-  "
   ]
  },
  {
   "cell_type": "code",
   "execution_count": 1,
   "id": "7e3bfbce-a49d-429b-a95a-0406475fdb4f",
   "metadata": {
    "tags": []
   },
   "outputs": [],
   "source": [
    "#libraries\n",
    "import pandas as pd\n",
    "import numpy as np\n",
    "import matplotlib.pyplot as plt\n",
    "import seaborn as sns\n",
    "from pydataset import data"
   ]
  },
  {
   "cell_type": "code",
   "execution_count": 2,
   "id": "1956640d-1284-44eb-849d-a45c898303c0",
   "metadata": {
    "tags": []
   },
   "outputs": [],
   "source": [
    "#options\n",
    "# https://pandas.pydata.org/docs/user_guide/options.html\n",
    "pd.set_option('display.max_columns', None)\n",
    "pd.set_option('max_colwidth', None)\n",
    "pd.set_option(\"expand_frame_repr\", True)\n",
    "pd.set_option(\"max_info_columns\", 11)\n",
    "pd.set_option(\"display.precision\", 3)\n",
    "pd.set_option('display.width', 1000)  #wrap with full display"
   ]
  },
  {
   "cell_type": "code",
   "execution_count": 3,
   "id": "e4a599d4-e6f4-45b7-9a40-feeec6cdf483",
   "metadata": {
    "tags": []
   },
   "outputs": [],
   "source": [
    "df = pd.read_csv('empData1.csv')"
   ]
  },
  {
   "cell_type": "code",
   "execution_count": 4,
   "id": "daf31610-f22b-4bf1-9a46-c9753e556df3",
   "metadata": {
    "tags": []
   },
   "outputs": [
    {
     "data": {
      "text/html": [
       "<div>\n",
       "<style scoped>\n",
       "    .dataframe tbody tr th:only-of-type {\n",
       "        vertical-align: middle;\n",
       "    }\n",
       "\n",
       "    .dataframe tbody tr th {\n",
       "        vertical-align: top;\n",
       "    }\n",
       "\n",
       "    .dataframe thead th {\n",
       "        text-align: right;\n",
       "    }\n",
       "</style>\n",
       "<table border=\"1\" class=\"dataframe\">\n",
       "  <thead>\n",
       "    <tr style=\"text-align: right;\">\n",
       "      <th></th>\n",
       "      <th>ser</th>\n",
       "      <th>empCode</th>\n",
       "      <th>eName</th>\n",
       "      <th>design</th>\n",
       "      <th>dept</th>\n",
       "      <th>cat</th>\n",
       "      <th>DOJ</th>\n",
       "      <th>DOL</th>\n",
       "      <th>sal</th>\n",
       "      <th>DOB</th>\n",
       "      <th>qual</th>\n",
       "      <th>expr</th>\n",
       "      <th>regdNo</th>\n",
       "      <th>regdVal</th>\n",
       "      <th>remarks</th>\n",
       "      <th>daysServed</th>\n",
       "      <th>monServed</th>\n",
       "      <th>age</th>\n",
       "      <th>exprYr</th>\n",
       "    </tr>\n",
       "  </thead>\n",
       "  <tbody>\n",
       "    <tr>\n",
       "      <th>0</th>\n",
       "      <td>1</td>\n",
       "      <td>29</td>\n",
       "      <td>Dr. Ashwini L. Bargaje</td>\n",
       "      <td>Clinical Assistant</td>\n",
       "      <td>Medical</td>\n",
       "      <td>RMO</td>\n",
       "      <td>2020-04-12</td>\n",
       "      <td>2023-04-11</td>\n",
       "      <td>21000</td>\n",
       "      <td>1995-07-11</td>\n",
       "      <td>BHMS</td>\n",
       "      <td>2.0</td>\n",
       "      <td>75634</td>\n",
       "      <td>NaN</td>\n",
       "      <td>NaN</td>\n",
       "      <td>1094</td>\n",
       "      <td>36.0</td>\n",
       "      <td>28.0</td>\n",
       "      <td>2.0</td>\n",
       "    </tr>\n",
       "    <tr>\n",
       "      <th>1</th>\n",
       "      <td>2</td>\n",
       "      <td>25</td>\n",
       "      <td>Mr. Pratap V.Khedkar</td>\n",
       "      <td>Executive In HR</td>\n",
       "      <td>HR</td>\n",
       "      <td>Admin</td>\n",
       "      <td>2021-07-01</td>\n",
       "      <td>2022-06-30</td>\n",
       "      <td>25000</td>\n",
       "      <td>1979-11-14</td>\n",
       "      <td>Bachelor Of Arts</td>\n",
       "      <td>1.0</td>\n",
       "      <td>NaN</td>\n",
       "      <td>NaN</td>\n",
       "      <td>NaN</td>\n",
       "      <td>364</td>\n",
       "      <td>12.0</td>\n",
       "      <td>44.0</td>\n",
       "      <td>1.0</td>\n",
       "    </tr>\n",
       "    <tr>\n",
       "      <th>2</th>\n",
       "      <td>3</td>\n",
       "      <td>27</td>\n",
       "      <td>Mr. Shivdatta P. Gholap</td>\n",
       "      <td>Radiology Technician</td>\n",
       "      <td>Radiology</td>\n",
       "      <td>Technician</td>\n",
       "      <td>2021-07-01</td>\n",
       "      <td>2022-06-30</td>\n",
       "      <td>25000</td>\n",
       "      <td>1988-12-18</td>\n",
       "      <td>X-Raay Technician In Diploma</td>\n",
       "      <td>6.0</td>\n",
       "      <td>NaN</td>\n",
       "      <td>NaN</td>\n",
       "      <td>NaN</td>\n",
       "      <td>364</td>\n",
       "      <td>12.0</td>\n",
       "      <td>35.0</td>\n",
       "      <td>6.0</td>\n",
       "    </tr>\n",
       "    <tr>\n",
       "      <th>3</th>\n",
       "      <td>4</td>\n",
       "      <td>30</td>\n",
       "      <td>Dr. Akshay W. Sonar</td>\n",
       "      <td>Clinical Assistant</td>\n",
       "      <td>Medical</td>\n",
       "      <td>RMO</td>\n",
       "      <td>2021-07-27</td>\n",
       "      <td>2022-07-26</td>\n",
       "      <td>18000</td>\n",
       "      <td>1997-05-09</td>\n",
       "      <td>BHMS</td>\n",
       "      <td>4.0</td>\n",
       "      <td>1516138419</td>\n",
       "      <td>NaN</td>\n",
       "      <td>NaN</td>\n",
       "      <td>364</td>\n",
       "      <td>12.0</td>\n",
       "      <td>26.0</td>\n",
       "      <td>4.0</td>\n",
       "    </tr>\n",
       "    <tr>\n",
       "      <th>4</th>\n",
       "      <td>5</td>\n",
       "      <td>23</td>\n",
       "      <td>Dr. Akshay M. Jadhav</td>\n",
       "      <td>Clinical Assistant</td>\n",
       "      <td>Medical</td>\n",
       "      <td>RMO</td>\n",
       "      <td>2022-01-01</td>\n",
       "      <td>2022-12-31</td>\n",
       "      <td>19000</td>\n",
       "      <td>1996-10-14</td>\n",
       "      <td>BAMS</td>\n",
       "      <td>1.0</td>\n",
       "      <td>77980</td>\n",
       "      <td>2021-02-24</td>\n",
       "      <td>NaN</td>\n",
       "      <td>364</td>\n",
       "      <td>12.0</td>\n",
       "      <td>27.0</td>\n",
       "      <td>1.0</td>\n",
       "    </tr>\n",
       "  </tbody>\n",
       "</table>\n",
       "</div>"
      ],
      "text/plain": [
       "   ser  empCode                    eName                 design        dept          cat         DOJ         DOL    sal         DOB                           qual  expr      regdNo     regdVal  remarks  daysServed  monServed   age  exprYr\n",
       "0    1       29   Dr. Ashwini L. Bargaje    Clinical Assistant     Medical          RMO   2020-04-12  2023-04-11  21000  1995-07-11                           BHMS   2.0       75634         NaN      NaN        1094       36.0  28.0     2.0\n",
       "1    2       25    Mr. Pratap V.Khedkar        Executive In HR           HR       Admin   2021-07-01  2022-06-30  25000  1979-11-14              Bachelor Of Arts    1.0         NaN         NaN      NaN         364       12.0  44.0     1.0\n",
       "2    3       27  Mr. Shivdatta P. Gholap  Radiology Technician   Radiology   Technician   2021-07-01  2022-06-30  25000  1988-12-18  X-Raay Technician In Diploma    6.0         NaN         NaN      NaN         364       12.0  35.0     6.0\n",
       "3    4       30      Dr. Akshay W. Sonar    Clinical Assistant     Medical          RMO   2021-07-27  2022-07-26  18000  1997-05-09                           BHMS   4.0  1516138419         NaN      NaN         364       12.0  26.0     4.0\n",
       "4    5       23    Dr. Akshay M. Jadhav     Clinical Assistant     Medical          RMO   2022-01-01  2022-12-31  19000  1996-10-14                           BAMS   1.0       77980  2021-02-24      NaN         364       12.0  27.0     1.0"
      ]
     },
     "execution_count": 4,
     "metadata": {},
     "output_type": "execute_result"
    }
   ],
   "source": [
    "df.head()"
   ]
  },
  {
   "cell_type": "code",
   "execution_count": 5,
   "id": "db208859-5ec0-46e3-a6bf-2dcd4e57e45e",
   "metadata": {
    "tags": []
   },
   "outputs": [
    {
     "data": {
      "text/plain": [
       "Index(['ser', 'empCode', 'eName', 'design', 'dept', 'cat', 'DOJ', 'DOL', 'sal', 'DOB', 'qual', 'expr', 'regdNo', 'regdVal', 'remarks', 'daysServed', 'monServed', 'age', 'exprYr'], dtype='object')"
      ]
     },
     "execution_count": 5,
     "metadata": {},
     "output_type": "execute_result"
    }
   ],
   "source": [
    "df.columns"
   ]
  },
  {
   "cell_type": "code",
   "execution_count": 6,
   "id": "6f2054c8-1347-4e2f-bacb-85f660c8ab13",
   "metadata": {
    "tags": []
   },
   "outputs": [
    {
     "data": {
      "text/html": [
       "<div>\n",
       "<style scoped>\n",
       "    .dataframe tbody tr th:only-of-type {\n",
       "        vertical-align: middle;\n",
       "    }\n",
       "\n",
       "    .dataframe tbody tr th {\n",
       "        vertical-align: top;\n",
       "    }\n",
       "\n",
       "    .dataframe thead th {\n",
       "        text-align: right;\n",
       "    }\n",
       "</style>\n",
       "<table border=\"1\" class=\"dataframe\">\n",
       "  <thead>\n",
       "    <tr style=\"text-align: right;\">\n",
       "      <th></th>\n",
       "      <th>sal</th>\n",
       "      <th>age</th>\n",
       "      <th>exprYr</th>\n",
       "      <th>monServed</th>\n",
       "    </tr>\n",
       "  </thead>\n",
       "  <tbody>\n",
       "    <tr>\n",
       "      <th>0</th>\n",
       "      <td>21000</td>\n",
       "      <td>28.0</td>\n",
       "      <td>2.0</td>\n",
       "      <td>36.0</td>\n",
       "    </tr>\n",
       "    <tr>\n",
       "      <th>1</th>\n",
       "      <td>25000</td>\n",
       "      <td>44.0</td>\n",
       "      <td>1.0</td>\n",
       "      <td>12.0</td>\n",
       "    </tr>\n",
       "    <tr>\n",
       "      <th>2</th>\n",
       "      <td>25000</td>\n",
       "      <td>35.0</td>\n",
       "      <td>6.0</td>\n",
       "      <td>12.0</td>\n",
       "    </tr>\n",
       "    <tr>\n",
       "      <th>3</th>\n",
       "      <td>18000</td>\n",
       "      <td>26.0</td>\n",
       "      <td>4.0</td>\n",
       "      <td>12.0</td>\n",
       "    </tr>\n",
       "    <tr>\n",
       "      <th>4</th>\n",
       "      <td>19000</td>\n",
       "      <td>27.0</td>\n",
       "      <td>1.0</td>\n",
       "      <td>12.0</td>\n",
       "    </tr>\n",
       "  </tbody>\n",
       "</table>\n",
       "</div>"
      ],
      "text/plain": [
       "     sal   age  exprYr  monServed\n",
       "0  21000  28.0     2.0       36.0\n",
       "1  25000  44.0     1.0       12.0\n",
       "2  25000  35.0     6.0       12.0\n",
       "3  18000  26.0     4.0       12.0\n",
       "4  19000  27.0     1.0       12.0"
      ]
     },
     "execution_count": 6,
     "metadata": {},
     "output_type": "execute_result"
    }
   ],
   "source": [
    "df[['sal','age','exprYr','monServed']].head()"
   ]
  },
  {
   "cell_type": "code",
   "execution_count": 7,
   "id": "d12e7054-d083-4cc0-acc8-eaca2c6d1fa2",
   "metadata": {
    "tags": []
   },
   "outputs": [
    {
     "data": {
      "text/html": [
       "<div>\n",
       "<style scoped>\n",
       "    .dataframe tbody tr th:only-of-type {\n",
       "        vertical-align: middle;\n",
       "    }\n",
       "\n",
       "    .dataframe tbody tr th {\n",
       "        vertical-align: top;\n",
       "    }\n",
       "\n",
       "    .dataframe thead th {\n",
       "        text-align: right;\n",
       "    }\n",
       "</style>\n",
       "<table border=\"1\" class=\"dataframe\">\n",
       "  <thead>\n",
       "    <tr style=\"text-align: right;\">\n",
       "      <th></th>\n",
       "      <th>sal</th>\n",
       "      <th>age</th>\n",
       "      <th>exprYr</th>\n",
       "    </tr>\n",
       "  </thead>\n",
       "  <tbody>\n",
       "    <tr>\n",
       "      <th>sal</th>\n",
       "      <td>1.000</td>\n",
       "      <td>0.392</td>\n",
       "      <td>0.288</td>\n",
       "    </tr>\n",
       "    <tr>\n",
       "      <th>age</th>\n",
       "      <td>0.392</td>\n",
       "      <td>1.000</td>\n",
       "      <td>0.645</td>\n",
       "    </tr>\n",
       "    <tr>\n",
       "      <th>exprYr</th>\n",
       "      <td>0.288</td>\n",
       "      <td>0.645</td>\n",
       "      <td>1.000</td>\n",
       "    </tr>\n",
       "  </tbody>\n",
       "</table>\n",
       "</div>"
      ],
      "text/plain": [
       "          sal    age  exprYr\n",
       "sal     1.000  0.392   0.288\n",
       "age     0.392  1.000   0.645\n",
       "exprYr  0.288  0.645   1.000"
      ]
     },
     "execution_count": 7,
     "metadata": {},
     "output_type": "execute_result"
    }
   ],
   "source": [
    "df[['sal','age','exprYr']].corr()  #"
   ]
  },
  {
   "cell_type": "code",
   "execution_count": 8,
   "id": "52a52ab5-d651-45c4-91aa-6e244a7a26e0",
   "metadata": {
    "tags": []
   },
   "outputs": [
    {
     "data": {
      "image/png": "[encoded data removed]",
      "text/plain": [
       "<Figure size 640x480 with 1 Axes>"
      ]
     },
     "metadata": {},
     "output_type": "display_data"
    }
   ],
   "source": [
    "df.plot.scatter(x='age',y='sal', title='Relation of age vs sal')\n",
    "plt.show();"
   ]
  },
  {
   "cell_type": "code",
   "execution_count": 9,
   "id": "d860fa0d-3441-4753-aae2-6dce868ad892",
   "metadata": {
    "tags": []
   },
   "outputs": [],
   "source": [
    "#construct a Linear Model\n",
    "from sklearn.linear_model import LinearRegression"
   ]
  },
  {
   "cell_type": "code",
   "execution_count": 10,
   "id": "b8b7b7c7-17a8-476a-a1b4-d68956988dd5",
   "metadata": {
    "tags": []
   },
   "outputs": [],
   "source": [
    "reg1 = LinearRegression()"
   ]
  },
  {
   "cell_type": "code",
   "execution_count": 15,
   "id": "ac5f376f-5d07-4493-9995-d85ccf24b956",
   "metadata": {
    "tags": []
   },
   "outputs": [
    {
     "data": {
      "text/html": [
       "<div>\n",
       "<style scoped>\n",
       "    .dataframe tbody tr th:only-of-type {\n",
       "        vertical-align: middle;\n",
       "    }\n",
       "\n",
       "    .dataframe tbody tr th {\n",
       "        vertical-align: top;\n",
       "    }\n",
       "\n",
       "    .dataframe thead th {\n",
       "        text-align: right;\n",
       "    }\n",
       "</style>\n",
       "<table border=\"1\" class=\"dataframe\">\n",
       "  <thead>\n",
       "    <tr style=\"text-align: right;\">\n",
       "      <th></th>\n",
       "      <th>sal</th>\n",
       "      <th>age</th>\n",
       "      <th>exprYr</th>\n",
       "    </tr>\n",
       "  </thead>\n",
       "  <tbody>\n",
       "    <tr>\n",
       "      <th>0</th>\n",
       "      <td>21000</td>\n",
       "      <td>28.0</td>\n",
       "      <td>2.0</td>\n",
       "    </tr>\n",
       "    <tr>\n",
       "      <th>1</th>\n",
       "      <td>25000</td>\n",
       "      <td>44.0</td>\n",
       "      <td>1.0</td>\n",
       "    </tr>\n",
       "    <tr>\n",
       "      <th>2</th>\n",
       "      <td>25000</td>\n",
       "      <td>35.0</td>\n",
       "      <td>6.0</td>\n",
       "    </tr>\n",
       "    <tr>\n",
       "      <th>3</th>\n",
       "      <td>18000</td>\n",
       "      <td>26.0</td>\n",
       "      <td>4.0</td>\n",
       "    </tr>\n",
       "    <tr>\n",
       "      <th>4</th>\n",
       "      <td>19000</td>\n",
       "      <td>27.0</td>\n",
       "      <td>1.0</td>\n",
       "    </tr>\n",
       "  </tbody>\n",
       "</table>\n",
       "</div>"
      ],
      "text/plain": [
       "     sal   age  exprYr\n",
       "0  21000  28.0     2.0\n",
       "1  25000  44.0     1.0\n",
       "2  25000  35.0     6.0\n",
       "3  18000  26.0     4.0\n",
       "4  19000  27.0     1.0"
      ]
     },
     "execution_count": 15,
     "metadata": {},
     "output_type": "execute_result"
    }
   ],
   "source": [
    "df1 = df[['sal','age','exprYr']].copy()\n",
    "df1.head()"
   ]
  },
  {
   "cell_type": "code",
   "execution_count": 16,
   "id": "76e649ec-b85b-4941-a1a2-a75cd8bdf67a",
   "metadata": {
    "tags": []
   },
   "outputs": [
    {
     "data": {
      "text/plain": [
       "sal       0\n",
       "age       0\n",
       "exprYr    1\n",
       "dtype: int64"
      ]
     },
     "execution_count": 16,
     "metadata": {},
     "output_type": "execute_result"
    }
   ],
   "source": [
    "df1.isnull().sum()"
   ]
  },
  {
   "cell_type": "code",
   "execution_count": 21,
   "id": "b1a98598-7b9e-4282-b0e4-10c038314358",
   "metadata": {
    "tags": []
   },
   "outputs": [],
   "source": [
    "df1['exprYr'].fillna(df1['exprYr'].median(), inplace=True)"
   ]
  },
  {
   "cell_type": "code",
   "execution_count": 22,
   "id": "8ad1ce9f-a099-451b-93ed-e86070940497",
   "metadata": {
    "tags": []
   },
   "outputs": [
    {
     "data": {
      "text/plain": [
       "sal       0\n",
       "age       0\n",
       "exprYr    0\n",
       "dtype: int64"
      ]
     },
     "execution_count": 22,
     "metadata": {},
     "output_type": "execute_result"
    }
   ],
   "source": [
    "df1.isnull().sum()"
   ]
  },
  {
   "cell_type": "code",
   "execution_count": 23,
   "id": "e43e44ce-2142-4c64-868e-c87a30179ccb",
   "metadata": {
    "tags": []
   },
   "outputs": [
    {
     "name": "stdout",
     "output_type": "stream",
     "text": [
      "(32, 2) (32,)\n"
     ]
    }
   ],
   "source": [
    "#IV, DV\n",
    "#IV = age,  exprYr\n",
    "#DV = sal\n",
    "X = df1.drop(columns='sal')\n",
    "y = df.sal\n",
    "print(X.shape, y.shape)  #X- IV (hp, wt) DV (mpg) : Predict mpg by hp, wt"
   ]
  },
  {
   "cell_type": "code",
   "execution_count": 24,
   "id": "e642932a-6af9-43f7-a329-a3b739794636",
   "metadata": {
    "tags": []
   },
   "outputs": [
    {
     "data": {
      "text/html": [
       "<style>#sk-container-id-1 {color: black;}#sk-container-id-1 pre{padding: 0;}#sk-container-id-1 div.sk-toggleable {background-color: white;}#sk-container-id-1 label.sk-toggleable__label {cursor: pointer;display: block;width: 100%;margin-bottom: 0;padding: 0.3em;box-sizing: border-box;text-align: center;}#sk-container-id-1 label.sk-toggleable__label-arrow:before {content: \"▸\";float: left;margin-right: 0.25em;color: #696969;}#sk-container-id-1 label.sk-toggleable__label-arrow:hover:before {color: black;}#sk-container-id-1 div.sk-estimator:hover label.sk-toggleable__label-arrow:before {color: black;}#sk-container-id-1 div.sk-toggleable__content {max-height: 0;max-width: 0;overflow: hidden;text-align: left;background-color: #f0f8ff;}#sk-container-id-1 div.sk-toggleable__content pre {margin: 0.2em;color: black;border-radius: 0.25em;background-color: #f0f8ff;}#sk-container-id-1 input.sk-toggleable__control:checked~div.sk-toggleable__content {max-height: 200px;max-width: 100%;overflow: auto;}#sk-container-id-1 input.sk-toggleable__control:checked~label.sk-toggleable__label-arrow:before {content: \"▾\";}#sk-container-id-1 div.sk-estimator input.sk-toggleable__control:checked~label.sk-toggleable__label {background-color: #d4ebff;}#sk-container-id-1 div.sk-label input.sk-toggleable__control:checked~label.sk-toggleable__label {background-color: #d4ebff;}#sk-container-id-1 input.sk-hidden--visually {border: 0;clip: rect(1px 1px 1px 1px);clip: rect(1px, 1px, 1px, 1px);height: 1px;margin: -1px;overflow: hidden;padding: 0;position: absolute;width: 1px;}#sk-container-id-1 div.sk-estimator {font-family: monospace;background-color: #f0f8ff;border: 1px dotted black;border-radius: 0.25em;box-sizing: border-box;margin-bottom: 0.5em;}#sk-container-id-1 div.sk-estimator:hover {background-color: #d4ebff;}#sk-container-id-1 div.sk-parallel-item::after {content: \"\";width: 100%;border-bottom: 1px solid gray;flex-grow: 1;}#sk-container-id-1 div.sk-label:hover label.sk-toggleable__label {background-color: #d4ebff;}#sk-container-id-1 div.sk-serial::before {content: \"\";position: absolute;border-left: 1px solid gray;box-sizing: border-box;top: 0;bottom: 0;left: 50%;z-index: 0;}#sk-container-id-1 div.sk-serial {display: flex;flex-direction: column;align-items: center;background-color: white;padding-right: 0.2em;padding-left: 0.2em;position: relative;}#sk-container-id-1 div.sk-item {position: relative;z-index: 1;}#sk-container-id-1 div.sk-parallel {display: flex;align-items: stretch;justify-content: center;background-color: white;position: relative;}#sk-container-id-1 div.sk-item::before, #sk-container-id-1 div.sk-parallel-item::before {content: \"\";position: absolute;border-left: 1px solid gray;box-sizing: border-box;top: 0;bottom: 0;left: 50%;z-index: -1;}#sk-container-id-1 div.sk-parallel-item {display: flex;flex-direction: column;z-index: 1;position: relative;background-color: white;}#sk-container-id-1 div.sk-parallel-item:first-child::after {align-self: flex-end;width: 50%;}#sk-container-id-1 div.sk-parallel-item:last-child::after {align-self: flex-start;width: 50%;}#sk-container-id-1 div.sk-parallel-item:only-child::after {width: 0;}#sk-container-id-1 div.sk-dashed-wrapped {border: 1px dashed gray;margin: 0 0.4em 0.5em 0.4em;box-sizing: border-box;padding-bottom: 0.4em;background-color: white;}#sk-container-id-1 div.sk-label label {font-family: monospace;font-weight: bold;display: inline-block;line-height: 1.2em;}#sk-container-id-1 div.sk-label-container {text-align: center;}#sk-container-id-1 div.sk-container {/* jupyter's `normalize.less` sets `[hidden] { display: none; }` but bootstrap.min.css set `[hidden] { display: none !important; }` so we also need the `!important` here to be able to override the default hidden behavior on the sphinx rendered scikit-learn.org. See: https://github.com/scikit-learn/scikit-learn/issues/21755 */display: inline-block !important;position: relative;}#sk-container-id-1 div.sk-text-repr-fallback {display: none;}</style><div id=\"sk-container-id-1\" class=\"sk-top-container\"><div class=\"sk-text-repr-fallback\"><pre>LinearRegression()</pre><b>In a Jupyter environment, please rerun this cell to show the HTML representation or trust the notebook. <br />On GitHub, the HTML representation is unable to render, please try loading this page with nbviewer.org.</b></div><div class=\"sk-container\" hidden><div class=\"sk-item\"><div class=\"sk-estimator sk-toggleable\"><input class=\"sk-toggleable__control sk-hidden--visually\" id=\"sk-estimator-id-1\" type=\"checkbox\" checked><label for=\"sk-estimator-id-1\" class=\"sk-toggleable__label sk-toggleable__label-arrow\">LinearRegression</label><div class=\"sk-toggleable__content\"><pre>LinearRegression()</pre></div></div></div></div></div>"
      ],
      "text/plain": [
       "LinearRegression()"
      ]
     },
     "execution_count": 24,
     "metadata": {},
     "output_type": "execute_result"
    }
   ],
   "source": [
    "reg1.fit(X,y) #run the model on X, y"
   ]
  },
  {
   "cell_type": "code",
   "execution_count": 26,
   "id": "a6121491-37d9-4eab-9982-5b72694c5bc0",
   "metadata": {},
   "outputs": [
    {
     "name": "stdout",
     "output_type": "stream",
     "text": [
      "R2  0.16\n"
     ]
    }
   ],
   "source": [
    "print('R2 ', reg1.score(X,y).round(2))\n",
    "#16% of variation in sal is due to age & expr"
   ]
  },
  {
   "cell_type": "code",
   "execution_count": 27,
   "id": "fbb02f5d-2b58-44c3-996e-9bbace678a8f",
   "metadata": {
    "tags": []
   },
   "outputs": [
    {
     "name": "stdout",
     "output_type": "stream",
     "text": [
      "Coefficients  [450.92714076 154.79351882]\n",
      "Index(['age', 'exprYr'], dtype='object')\n"
     ]
    }
   ],
   "source": [
    "print('Coefficients ', reg1.coef_)\n",
    "print(X.columns)"
   ]
  },
  {
   "cell_type": "code",
   "execution_count": 31,
   "id": "f9a381f5-65dc-4cdf-986b-6e64266e24c5",
   "metadata": {
    "tags": []
   },
   "outputs": [
    {
     "data": {
      "text/html": [
       "<div>\n",
       "<style scoped>\n",
       "    .dataframe tbody tr th:only-of-type {\n",
       "        vertical-align: middle;\n",
       "    }\n",
       "\n",
       "    .dataframe tbody tr th {\n",
       "        vertical-align: top;\n",
       "    }\n",
       "\n",
       "    .dataframe thead th {\n",
       "        text-align: right;\n",
       "    }\n",
       "</style>\n",
       "<table border=\"1\" class=\"dataframe\">\n",
       "  <thead>\n",
       "    <tr style=\"text-align: right;\">\n",
       "      <th></th>\n",
       "      <th>sal</th>\n",
       "      <th>age</th>\n",
       "      <th>exprYr</th>\n",
       "    </tr>\n",
       "  </thead>\n",
       "  <tbody>\n",
       "    <tr>\n",
       "      <th>count</th>\n",
       "      <td>32.000</td>\n",
       "      <td>32.000</td>\n",
       "      <td>32.000</td>\n",
       "    </tr>\n",
       "    <tr>\n",
       "      <th>mean</th>\n",
       "      <td>22000.000</td>\n",
       "      <td>33.875</td>\n",
       "      <td>4.453</td>\n",
       "    </tr>\n",
       "    <tr>\n",
       "      <th>std</th>\n",
       "      <td>10553.122</td>\n",
       "      <td>8.257</td>\n",
       "      <td>4.210</td>\n",
       "    </tr>\n",
       "    <tr>\n",
       "      <th>min</th>\n",
       "      <td>15000.000</td>\n",
       "      <td>26.000</td>\n",
       "      <td>0.750</td>\n",
       "    </tr>\n",
       "    <tr>\n",
       "      <th>25%</th>\n",
       "      <td>16500.000</td>\n",
       "      <td>27.750</td>\n",
       "      <td>2.000</td>\n",
       "    </tr>\n",
       "    <tr>\n",
       "      <th>50%</th>\n",
       "      <td>18600.000</td>\n",
       "      <td>33.500</td>\n",
       "      <td>4.000</td>\n",
       "    </tr>\n",
       "    <tr>\n",
       "      <th>75%</th>\n",
       "      <td>22000.000</td>\n",
       "      <td>37.500</td>\n",
       "      <td>4.500</td>\n",
       "    </tr>\n",
       "    <tr>\n",
       "      <th>max</th>\n",
       "      <td>65000.000</td>\n",
       "      <td>67.000</td>\n",
       "      <td>20.000</td>\n",
       "    </tr>\n",
       "  </tbody>\n",
       "</table>\n",
       "</div>"
      ],
      "text/plain": [
       "             sal     age  exprYr\n",
       "count     32.000  32.000  32.000\n",
       "mean   22000.000  33.875   4.453\n",
       "std    10553.122   8.257   4.210\n",
       "min    15000.000  26.000   0.750\n",
       "25%    16500.000  27.750   2.000\n",
       "50%    18600.000  33.500   4.000\n",
       "75%    22000.000  37.500   4.500\n",
       "max    65000.000  67.000  20.000"
      ]
     },
     "execution_count": 31,
     "metadata": {},
     "output_type": "execute_result"
    }
   ],
   "source": [
    "df1.describe()"
   ]
  },
  {
   "cell_type": "code",
   "execution_count": 29,
   "id": "2f713f60-ec5a-41a9-921e-fcb15e447656",
   "metadata": {
    "tags": []
   },
   "outputs": [
    {
     "data": {
      "text/html": [
       "<div>\n",
       "<style scoped>\n",
       "    .dataframe tbody tr th:only-of-type {\n",
       "        vertical-align: middle;\n",
       "    }\n",
       "\n",
       "    .dataframe tbody tr th {\n",
       "        vertical-align: top;\n",
       "    }\n",
       "\n",
       "    .dataframe thead th {\n",
       "        text-align: right;\n",
       "    }\n",
       "</style>\n",
       "<table border=\"1\" class=\"dataframe\">\n",
       "  <thead>\n",
       "    <tr style=\"text-align: right;\">\n",
       "      <th></th>\n",
       "      <th>age</th>\n",
       "      <th>exprYr</th>\n",
       "    </tr>\n",
       "  </thead>\n",
       "  <tbody>\n",
       "    <tr>\n",
       "      <th>0</th>\n",
       "      <td>30</td>\n",
       "      <td>3</td>\n",
       "    </tr>\n",
       "    <tr>\n",
       "      <th>1</th>\n",
       "      <td>50</td>\n",
       "      <td>10</td>\n",
       "    </tr>\n",
       "  </tbody>\n",
       "</table>\n",
       "</div>"
      ],
      "text/plain": [
       "   age  exprYr\n",
       "0   30       3\n",
       "1   50      10"
      ]
     },
     "execution_count": 29,
     "metadata": {},
     "output_type": "execute_result"
    }
   ],
   "source": [
    "#create new set of values\n",
    "newData1 = pd.DataFrame({'age':[30,50], 'exprYr':[3, 10]})\n",
    "newData1"
   ]
  },
  {
   "cell_type": "code",
   "execution_count": 30,
   "id": "3b470b6a-8d66-4af4-8e38-db1c1041e0a4",
   "metadata": {
    "tags": []
   },
   "outputs": [
    {
     "name": "stdout",
     "output_type": "stream",
     "text": [
      "Predict Sal for new Set of Data  [20027.72 30129.82]\n"
     ]
    }
   ],
   "source": [
    "print('Predict Sal for new Set of Data ', reg1.predict(newData1).round(2))"
   ]
  },
  {
   "cell_type": "code",
   "execution_count": null,
   "id": "70977228-1a29-423d-b23a-275e8ad5e670",
   "metadata": {},
   "outputs": [],
   "source": []
  }
 ],
 "metadata": {
  "kernelspec": {
   "display_name": "Python 3 (ipykernel)",
   "language": "python",
   "name": "python3"
  },
  "language_info": {
   "codemirror_mode": {
    "name": "ipython",
    "version": 3
   },
   "file_extension": ".py",
   "mimetype": "text/x-python",
   "name": "python",
   "nbconvert_exporter": "python",
   "pygments_lexer": "ipython3",
   "version": "3.11.5"
  }
 },
 "nbformat": 4,
 "nbformat_minor": 5
}
