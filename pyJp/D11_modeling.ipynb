{
 "cells": [
  {
   "cell_type": "markdown",
   "id": "c991fc22",
   "metadata": {},
   "source": [
    "## Different Modeling Techniques\n",
    "- Continuous (eg age) - 20, 25, 22, 30.5\n",
    "- Discrete  (eg prob of selection) - Yes/No, 0/1, count of employees\n",
    "- Equation\n",
    "    - y = mx + c\n",
    "    - y = c + b1*x1 + b2 * x2\n",
    "    - y - DV, x - IV, b1, b2 - Coefficients, c - intercept\n",
    "-  Dependent variable (y)  - which depends on other variables, can be predicted\n",
    "-  Independent variable (xs) - which vary , can measure, can be changed\n",
    "\n",
    "### Linear Regression\n",
    "-  Predict Y (continous value) on Xs (independent variables - continous / categorical)\n",
    "\n",
    "### Logistic Regression\n",
    "-  Predict Y (probability of 0 or 1 ) on X (IV)\n",
    "\n",
    "### Decision Tree\n",
    "-  Classification Tree : like Logistic Regression\n",
    "-  Regression Tree : like Linear Regression\n",
    "\n",
    "### Clustering\n",
    "-  Grouping of data based on similarities \n",
    "-  eg grouping employees based on gender, salary, et\n",
    "\n",
    "### Association Rule Analysis\n",
    "-  Finding association between between variables of employees\n",
    "-  Those who live more than 20 km away they prefer to work from home\n",
    "\n",
    "### Time Series Analysis\n",
    "-  Predict manpower requirements in next few months/ years like stock market predictions\n",
    "\n",
    "### Sentiment Analysis\n",
    "-  Classifying feedback into positive or negative sentiments eg. people talk positively about their dept / seniors\n"
   ]
  },
  {
   "cell_type": "code",
   "execution_count": 1,
   "id": "025956ff",
   "metadata": {},
   "outputs": [],
   "source": [
    "#libraries\n",
    "import pandas as pd\n",
    "import numpy as np\n",
    "import matplotlib.pyplot as plt\n",
    "import seaborn as sns\n",
    "from pydataset import data"
   ]
  },
  {
   "cell_type": "markdown",
   "id": "2fa31b09",
   "metadata": {},
   "source": [
    "## Import Data"
   ]
  },
  {
   "cell_type": "markdown",
   "id": "b629a8de",
   "metadata": {},
   "source": [
    "## Understand Data"
   ]
  },
  {
   "cell_type": "markdown",
   "id": "15984ca7",
   "metadata": {},
   "source": [
    "## Create Model"
   ]
  },
  {
   "cell_type": "markdown",
   "id": "29153aa5",
   "metadata": {},
   "source": [
    "## Evaluate Model"
   ]
  },
  {
   "cell_type": "markdown",
   "id": "c2adbfed",
   "metadata": {},
   "source": [
    "## Predict with Model"
   ]
  },
  {
   "cell_type": "code",
   "execution_count": null,
   "id": "82cb63e9",
   "metadata": {},
   "outputs": [],
   "source": []
  }
 ],
 "metadata": {
  "kernelspec": {
   "display_name": "Python 3 (ipykernel)",
   "language": "python",
   "name": "python3"
  },
  "language_info": {
   "codemirror_mode": {
    "name": "ipython",
    "version": 3
   },
   "file_extension": ".py",
   "mimetype": "text/x-python",
   "name": "python",
   "nbconvert_exporter": "python",
   "pygments_lexer": "ipython3",
   "version": "3.10.9"
  }
 },
 "nbformat": 4,
 "nbformat_minor": 5
}
