{
 "cells": [
  {
   "cell_type": "markdown",
   "id": "b64f6a3d",
   "metadata": {},
   "source": [
    "# Seaborn PLot"
   ]
  },
  {
   "cell_type": "code",
   "execution_count": null,
   "id": "c42bbd10",
   "metadata": {},
   "outputs": [],
   "source": [
    "#libraries\n",
    "import pandas as pd\n",
    "import numpy as np\n",
    "import matplotlib.pyplot as plt\n",
    "import seaborn as sns\n",
    "from pydataset import data"
   ]
  },
  {
   "cell_type": "code",
   "execution_count": null,
   "id": "3557abb3",
   "metadata": {},
   "outputs": [],
   "source": [
    "pd.set_option('display.max_rows', 10)\n",
    "pd.set_option('display.max_columns', 10)\n",
    "pd.set_option('display.width', 1500)"
   ]
  },
  {
   "cell_type": "code",
   "execution_count": null,
   "id": "b245fdad",
   "metadata": {},
   "outputs": [],
   "source": [
    "mtcars = data('mtcars')\n",
    "iris = data('iris')"
   ]
  }
 ],
 "metadata": {
  "kernelspec": {
   "display_name": "Python 3 (ipykernel)",
   "language": "python",
   "name": "python3"
  },
  "language_info": {
   "codemirror_mode": {
    "name": "ipython",
    "version": 3
   },
   "file_extension": ".py",
   "mimetype": "text/x-python",
   "name": "python",
   "nbconvert_exporter": "python",
   "pygments_lexer": "ipython3",
   "version": "3.11.5"
  }
 },
 "nbformat": 4,
 "nbformat_minor": 5
}
