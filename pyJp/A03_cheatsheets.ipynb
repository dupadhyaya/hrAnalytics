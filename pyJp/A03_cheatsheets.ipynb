{
 "cells": [
  {
   "cell_type": "markdown",
   "id": "8889b94a-c47c-4c98-839f-49b86550a997",
   "metadata": {},
   "source": [
    "# A03 - Cheatsheets\n",
    "-  Cheatsheets help you remember important commands"
   ]
  },
  {
   "cell_type": "code",
   "execution_count": null,
   "id": "1a646eff-79d0-4ed9-86fb-40fa7d7b07f0",
   "metadata": {},
   "outputs": [],
   "source": []
  },
  {
   "cell_type": "markdown",
   "id": "c68e71b4-3cb7-46d0-88c1-50ed526f5d40",
   "metadata": {},
   "source": [
    "## Anaconda\n",
    "-  https://docs.conda.io/projects/conda/en/4.6.0/_downloads/52a95608c49671267e40c689e0bc00ca/conda-cheatsheet.pdf"
   ]
  },
  {
   "cell_type": "code",
   "execution_count": null,
   "id": "6178d748-48de-4998-a9d2-37acbfb056eb",
   "metadata": {},
   "outputs": [],
   "source": []
  },
  {
   "cell_type": "markdown",
   "id": "1f2abc2b-c407-4d3d-a8e6-d4dbf7f5e786",
   "metadata": {},
   "source": [
    "## Python\n",
    "-  https://www.pythoncheatsheet.org/\n",
    "-  https://www.geeksforgeeks.org/python-cheat-sheet/\n",
    "-  https://www.codewithharry.com/blogpost/python-cheatsheet/\n",
    "-  https://perso.limsi.fr/pointal/_media/python:cours:mementopython3-english.pdf\n",
    "-  https://quickref.me/python.html"
   ]
  },
  {
   "cell_type": "code",
   "execution_count": null,
   "id": "894d3b31-4be7-4427-86d0-aae5aee960f8",
   "metadata": {},
   "outputs": [],
   "source": []
  }
 ],
 "metadata": {
  "kernelspec": {
   "display_name": "Python 3 (ipykernel)",
   "language": "python",
   "name": "python3"
  },
  "language_info": {
   "codemirror_mode": {
    "name": "ipython",
    "version": 3
   },
   "file_extension": ".py",
   "mimetype": "text/x-python",
   "name": "python",
   "nbconvert_exporter": "python",
   "pygments_lexer": "ipython3",
   "version": "3.11.5"
  }
 },
 "nbformat": 4,
 "nbformat_minor": 5
}
