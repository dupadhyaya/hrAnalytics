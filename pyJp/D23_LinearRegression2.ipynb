{
 "cells": [
  {
   "cell_type": "markdown",
   "id": "816f60fa",
   "metadata": {},
   "source": [
    "## Linear Regression\n",
    "-  https://scikit-learn.org/stable/modules/generated/sklearn.linear_model.LinearRegression.html\n",
    "-  Predict Y (Dependent Variable) on the basis of Xs (Independent Variables)\n",
    "-  Y : Continous eg salary, age, increment\n",
    "-  Xs : can be continous or discrete eg. gender, age, salary, experience in yrs etc\n",
    "-  In this mtcars data set : Y (mpg) predict on the basis of Xs (wt, hp, gear)\n",
    "-  Steps\n",
    "    -  from sklearn.linear_model import LinearRegression\n",
    "    -  model = LinearRegression().fit(X,y)\n",
    "    -  r_sq = model.score(X, y)\n",
    "    -  y_pred = model.predict(X)\n",
    "    -  Y_pred(new) = model.predict(X new)"
   ]
  },
  {
   "cell_type": "code",
   "execution_count": null,
   "id": "025956ff",
   "metadata": {},
   "outputs": [],
   "source": [
    "#libraries\n",
    "import pandas as pd\n",
    "import numpy as np\n",
    "import matplotlib.pyplot as plt\n",
    "import seaborn as sns\n",
    "from pydataset import data"
   ]
  },
  {
   "cell_type": "code",
   "execution_count": null,
   "id": "7c3eb1f5",
   "metadata": {},
   "outputs": [],
   "source": [
    "#data\n",
    "mt = data('mtcars')\n",
    "print(mt.shape, mt.columns,'\\n')\n",
    "print(mt.dtypes, '\\n', mt[['mpg','wt','hp','gear']].head())"
   ]
  },
  {
   "cell_type": "markdown",
   "id": "44d2e37f",
   "metadata": {},
   "source": [
    "## Sklearn \n",
    "### Simple Linear Regression"
   ]
  },
  {
   "cell_type": "code",
   "execution_count": 36,
   "id": "354cfe91",
   "metadata": {},
   "outputs": [],
   "source": [
    "from sklearn.model_selection import train_test_split  #split\n",
    "from sklearn.linear_model import LinearRegression  #model"
   ]
  },
  {
   "cell_type": "code",
   "execution_count": 37,
   "id": "9d85184a",
   "metadata": {},
   "outputs": [
    {
     "data": {
      "text/html": [
       "<div>\n",
       "<style scoped>\n",
       "    .dataframe tbody tr th:only-of-type {\n",
       "        vertical-align: middle;\n",
       "    }\n",
       "\n",
       "    .dataframe tbody tr th {\n",
       "        vertical-align: top;\n",
       "    }\n",
       "\n",
       "    .dataframe thead th {\n",
       "        text-align: right;\n",
       "    }\n",
       "</style>\n",
       "<table border=\"1\" class=\"dataframe\">\n",
       "  <thead>\n",
       "    <tr style=\"text-align: right;\">\n",
       "      <th></th>\n",
       "      <th>mpg</th>\n",
       "      <th>wt</th>\n",
       "    </tr>\n",
       "  </thead>\n",
       "  <tbody>\n",
       "    <tr>\n",
       "      <th>Mazda RX4</th>\n",
       "      <td>21.0</td>\n",
       "      <td>2.620</td>\n",
       "    </tr>\n",
       "    <tr>\n",
       "      <th>Mazda RX4 Wag</th>\n",
       "      <td>21.0</td>\n",
       "      <td>2.875</td>\n",
       "    </tr>\n",
       "  </tbody>\n",
       "</table>\n",
       "</div>"
      ],
      "text/plain": [
       "                mpg     wt\n",
       "Mazda RX4      21.0  2.620\n",
       "Mazda RX4 Wag  21.0  2.875"
      ]
     },
     "execution_count": 37,
     "metadata": {},
     "output_type": "execute_result"
    }
   ],
   "source": [
    "df = mt[['mpg','wt']].copy()\n",
    "df.head(2)"
   ]
  },
  {
   "cell_type": "code",
   "execution_count": 38,
   "id": "de49c939",
   "metadata": {},
   "outputs": [
    {
     "name": "stdout",
     "output_type": "stream",
     "text": [
      "(32, 1) (32,)\n"
     ]
    }
   ],
   "source": [
    "df.corr()\n",
    "X = df.drop(columns='wt')\n",
    "y = df.wt\n",
    "print(X.shape, y.shape)"
   ]
  },
  {
   "cell_type": "code",
   "execution_count": 39,
   "id": "f3e099b9",
   "metadata": {},
   "outputs": [
    {
     "data": {
      "text/html": [
       "<style>#sk-container-id-2 {color: black;background-color: white;}#sk-container-id-2 pre{padding: 0;}#sk-container-id-2 div.sk-toggleable {background-color: white;}#sk-container-id-2 label.sk-toggleable__label {cursor: pointer;display: block;width: 100%;margin-bottom: 0;padding: 0.3em;box-sizing: border-box;text-align: center;}#sk-container-id-2 label.sk-toggleable__label-arrow:before {content: \"▸\";float: left;margin-right: 0.25em;color: #696969;}#sk-container-id-2 label.sk-toggleable__label-arrow:hover:before {color: black;}#sk-container-id-2 div.sk-estimator:hover label.sk-toggleable__label-arrow:before {color: black;}#sk-container-id-2 div.sk-toggleable__content {max-height: 0;max-width: 0;overflow: hidden;text-align: left;background-color: #f0f8ff;}#sk-container-id-2 div.sk-toggleable__content pre {margin: 0.2em;color: black;border-radius: 0.25em;background-color: #f0f8ff;}#sk-container-id-2 input.sk-toggleable__control:checked~div.sk-toggleable__content {max-height: 200px;max-width: 100%;overflow: auto;}#sk-container-id-2 input.sk-toggleable__control:checked~label.sk-toggleable__label-arrow:before {content: \"▾\";}#sk-container-id-2 div.sk-estimator input.sk-toggleable__control:checked~label.sk-toggleable__label {background-color: #d4ebff;}#sk-container-id-2 div.sk-label input.sk-toggleable__control:checked~label.sk-toggleable__label {background-color: #d4ebff;}#sk-container-id-2 input.sk-hidden--visually {border: 0;clip: rect(1px 1px 1px 1px);clip: rect(1px, 1px, 1px, 1px);height: 1px;margin: -1px;overflow: hidden;padding: 0;position: absolute;width: 1px;}#sk-container-id-2 div.sk-estimator {font-family: monospace;background-color: #f0f8ff;border: 1px dotted black;border-radius: 0.25em;box-sizing: border-box;margin-bottom: 0.5em;}#sk-container-id-2 div.sk-estimator:hover {background-color: #d4ebff;}#sk-container-id-2 div.sk-parallel-item::after {content: \"\";width: 100%;border-bottom: 1px solid gray;flex-grow: 1;}#sk-container-id-2 div.sk-label:hover label.sk-toggleable__label {background-color: #d4ebff;}#sk-container-id-2 div.sk-serial::before {content: \"\";position: absolute;border-left: 1px solid gray;box-sizing: border-box;top: 0;bottom: 0;left: 50%;z-index: 0;}#sk-container-id-2 div.sk-serial {display: flex;flex-direction: column;align-items: center;background-color: white;padding-right: 0.2em;padding-left: 0.2em;position: relative;}#sk-container-id-2 div.sk-item {position: relative;z-index: 1;}#sk-container-id-2 div.sk-parallel {display: flex;align-items: stretch;justify-content: center;background-color: white;position: relative;}#sk-container-id-2 div.sk-item::before, #sk-container-id-2 div.sk-parallel-item::before {content: \"\";position: absolute;border-left: 1px solid gray;box-sizing: border-box;top: 0;bottom: 0;left: 50%;z-index: -1;}#sk-container-id-2 div.sk-parallel-item {display: flex;flex-direction: column;z-index: 1;position: relative;background-color: white;}#sk-container-id-2 div.sk-parallel-item:first-child::after {align-self: flex-end;width: 50%;}#sk-container-id-2 div.sk-parallel-item:last-child::after {align-self: flex-start;width: 50%;}#sk-container-id-2 div.sk-parallel-item:only-child::after {width: 0;}#sk-container-id-2 div.sk-dashed-wrapped {border: 1px dashed gray;margin: 0 0.4em 0.5em 0.4em;box-sizing: border-box;padding-bottom: 0.4em;background-color: white;}#sk-container-id-2 div.sk-label label {font-family: monospace;font-weight: bold;display: inline-block;line-height: 1.2em;}#sk-container-id-2 div.sk-label-container {text-align: center;}#sk-container-id-2 div.sk-container {/* jupyter's `normalize.less` sets `[hidden] { display: none; }` but bootstrap.min.css set `[hidden] { display: none !important; }` so we also need the `!important` here to be able to override the default hidden behavior on the sphinx rendered scikit-learn.org. See: https://github.com/scikit-learn/scikit-learn/issues/21755 */display: inline-block !important;position: relative;}#sk-container-id-2 div.sk-text-repr-fallback {display: none;}</style><div id=\"sk-container-id-2\" class=\"sk-top-container\"><div class=\"sk-text-repr-fallback\"><pre>LinearRegression()</pre><b>In a Jupyter environment, please rerun this cell to show the HTML representation or trust the notebook. <br />On GitHub, the HTML representation is unable to render, please try loading this page with nbviewer.org.</b></div><div class=\"sk-container\" hidden><div class=\"sk-item\"><div class=\"sk-estimator sk-toggleable\"><input class=\"sk-toggleable__control sk-hidden--visually\" id=\"sk-estimator-id-2\" type=\"checkbox\" checked><label for=\"sk-estimator-id-2\" class=\"sk-toggleable__label sk-toggleable__label-arrow\">LinearRegression</label><div class=\"sk-toggleable__content\"><pre>LinearRegression()</pre></div></div></div></div></div>"
      ],
      "text/plain": [
       "LinearRegression()"
      ]
     },
     "execution_count": 39,
     "metadata": {},
     "output_type": "execute_result"
    }
   ],
   "source": [
    "model = LinearRegression().fit(X, y)\n",
    "model"
   ]
  },
  {
   "cell_type": "code",
   "execution_count": 40,
   "id": "6af88e69",
   "metadata": {},
   "outputs": [
    {
     "name": "stdout",
     "output_type": "stream",
     "text": [
      "R2  0.7528327936582646\n"
     ]
    }
   ],
   "source": [
    "print('R2 ',model.score(X,y))\n",
    "# 75% of the variation in y is dependent on Xs which are in the model"
   ]
  },
  {
   "cell_type": "code",
   "execution_count": 41,
   "id": "a6a8ad70",
   "metadata": {},
   "outputs": [
    {
     "data": {
      "text/plain": [
       "array([3.09, 3.09, 2.84, 3.03, 3.41, 3.5 , 4.03, 2.61, 2.84, 3.34, 3.54,\n",
       "       3.74, 3.61, 3.91, 4.58, 4.58, 3.98, 1.48, 1.77, 1.27, 3.02, 3.86,\n",
       "       3.91, 4.17, 3.34, 2.2 , 2.38, 1.77, 3.82, 3.27, 3.93, 3.03])"
      ]
     },
     "execution_count": 41,
     "metadata": {},
     "output_type": "execute_result"
    }
   ],
   "source": [
    "y_pred = model.predict(X).round(2)\n",
    "y_pred"
   ]
  },
  {
   "cell_type": "code",
   "execution_count": 42,
   "id": "d5824090",
   "metadata": {},
   "outputs": [
    {
     "data": {
      "text/plain": [
       "25.6"
      ]
     },
     "execution_count": 42,
     "metadata": {},
     "output_type": "execute_result"
    }
   ],
   "source": [
    "#y.tolist()\n",
    "32 * .8"
   ]
  },
  {
   "cell_type": "code",
   "execution_count": 43,
   "id": "75955ec7",
   "metadata": {},
   "outputs": [
    {
     "name": "stdout",
     "output_type": "stream",
     "text": [
      "(25, 1) (7, 1) (25,) (7,)\n"
     ]
    }
   ],
   "source": [
    "X_train, X_test, y_train, y_test = train_test_split(X, y, test_size=.2, random_state=123)\n",
    "print(X_train.shape, X_test.shape, y_train.shape, y_test.shape)  #rows=32*.8, 1(wt)"
   ]
  },
  {
   "cell_type": "code",
   "execution_count": 44,
   "id": "77935eb3",
   "metadata": {},
   "outputs": [
    {
     "data": {
      "text/plain": [
       "<matplotlib.collections.PathCollection at 0x1b606d14a90>"
      ]
     },
     "execution_count": 44,
     "metadata": {},
     "output_type": "execute_result"
    },
    {
     "data": {
      "image/png": "[encoded data removed]",
      "text/plain": [
       "<Figure size 640x480 with 1 Axes>"
      ]
     },
     "metadata": {},
     "output_type": "display_data"
    }
   ],
   "source": [
    "plt.scatter(x=X, y=y_pred)"
   ]
  },
  {
   "cell_type": "markdown",
   "id": "5e15ee82",
   "metadata": {},
   "source": [
    "## Multiple Linear Regression\n",
    "- DV - multiple IVs"
   ]
  },
  {
   "cell_type": "code",
   "execution_count": 45,
   "id": "8c178be5",
   "metadata": {},
   "outputs": [
    {
     "name": "stdout",
     "output_type": "stream",
     "text": [
      "IVs -  (32, 3) Index(['wt', 'hp', 'gear'], dtype='object') : DVs -  (32,) mpg\n"
     ]
    }
   ],
   "source": [
    "data1 = mt[['mpg','wt','hp','gear']].copy()\n",
    "X = data1.drop(columns='mpg')  #predict mpg - Y so drop from X\n",
    "y = data1.mpg  # Dep Variable\n",
    "print('IVs - ', X.shape, X.columns, ': DVs - ', y.shape,  y.name)\n",
    "#rows/cols of X, y, ; names of columsn in X, y"
   ]
  },
  {
   "cell_type": "code",
   "execution_count": 46,
   "id": "89ebeceb",
   "metadata": {},
   "outputs": [
    {
     "name": "stdout",
     "output_type": "stream",
     "text": [
      "                  wt   hp  gear\n",
      "Mazda RX4      2.620  110     4\n",
      "Mazda RX4 Wag  2.875  110     4\n",
      "Datsun 710     2.320   93     4 \n",
      " Mazda RX4        21.0\n",
      "Mazda RX4 Wag    21.0\n",
      "Datsun 710       22.8\n",
      "Name: mpg, dtype: float64\n"
     ]
    }
   ],
   "source": [
    "print(X.head(3), '\\n', y.head(3))"
   ]
  },
  {
   "cell_type": "code",
   "execution_count": 47,
   "id": "1520030d",
   "metadata": {},
   "outputs": [
    {
     "data": {
      "text/html": [
       "<div>\n",
       "<style scoped>\n",
       "    .dataframe tbody tr th:only-of-type {\n",
       "        vertical-align: middle;\n",
       "    }\n",
       "\n",
       "    .dataframe tbody tr th {\n",
       "        vertical-align: top;\n",
       "    }\n",
       "\n",
       "    .dataframe thead th {\n",
       "        text-align: right;\n",
       "    }\n",
       "</style>\n",
       "<table border=\"1\" class=\"dataframe\">\n",
       "  <thead>\n",
       "    <tr style=\"text-align: right;\">\n",
       "      <th></th>\n",
       "      <th>mpg</th>\n",
       "      <th>wt</th>\n",
       "      <th>hp</th>\n",
       "      <th>gear</th>\n",
       "    </tr>\n",
       "  </thead>\n",
       "  <tbody>\n",
       "    <tr>\n",
       "      <th>Mazda RX4</th>\n",
       "      <td>21.0</td>\n",
       "      <td>2.620</td>\n",
       "      <td>110</td>\n",
       "      <td>4</td>\n",
       "    </tr>\n",
       "    <tr>\n",
       "      <th>Mazda RX4 Wag</th>\n",
       "      <td>21.0</td>\n",
       "      <td>2.875</td>\n",
       "      <td>110</td>\n",
       "      <td>4</td>\n",
       "    </tr>\n",
       "    <tr>\n",
       "      <th>Datsun 710</th>\n",
       "      <td>22.8</td>\n",
       "      <td>2.320</td>\n",
       "      <td>93</td>\n",
       "      <td>4</td>\n",
       "    </tr>\n",
       "    <tr>\n",
       "      <th>Hornet 4 Drive</th>\n",
       "      <td>21.4</td>\n",
       "      <td>3.215</td>\n",
       "      <td>110</td>\n",
       "      <td>3</td>\n",
       "    </tr>\n",
       "    <tr>\n",
       "      <th>Hornet Sportabout</th>\n",
       "      <td>18.7</td>\n",
       "      <td>3.440</td>\n",
       "      <td>175</td>\n",
       "      <td>3</td>\n",
       "    </tr>\n",
       "  </tbody>\n",
       "</table>\n",
       "</div>"
      ],
      "text/plain": [
       "                    mpg     wt   hp  gear\n",
       "Mazda RX4          21.0  2.620  110     4\n",
       "Mazda RX4 Wag      21.0  2.875  110     4\n",
       "Datsun 710         22.8  2.320   93     4\n",
       "Hornet 4 Drive     21.4  3.215  110     3\n",
       "Hornet Sportabout  18.7  3.440  175     3"
      ]
     },
     "execution_count": 47,
     "metadata": {},
     "output_type": "execute_result"
    }
   ],
   "source": [
    "data1.head()"
   ]
  },
  {
   "cell_type": "code",
   "execution_count": 48,
   "id": "a88ff2c1",
   "metadata": {},
   "outputs": [],
   "source": [
    "X_train, X_test, y_train, y_test = train_test_split(X, y, test_size=.2, random_state=123)"
   ]
  },
  {
   "cell_type": "code",
   "execution_count": 49,
   "id": "4b5949c2",
   "metadata": {},
   "outputs": [
    {
     "name": "stdout",
     "output_type": "stream",
     "text": [
      "(25, 3) (7, 3) (25,) (7,)\n"
     ]
    }
   ],
   "source": [
    "print(X_train.shape, X_test.shape, y_train.shape, y_test.shape)"
   ]
  },
  {
   "cell_type": "code",
   "execution_count": 50,
   "id": "84d3f614",
   "metadata": {},
   "outputs": [],
   "source": [
    "reg1 = LinearRegression().fit(X_train,y_train)"
   ]
  },
  {
   "cell_type": "code",
   "execution_count": 51,
   "id": "fb5aed4d",
   "metadata": {},
   "outputs": [
    {
     "name": "stdout",
     "output_type": "stream",
     "text": [
      "R2  0.8343748866225498\n"
     ]
    }
   ],
   "source": [
    "print('R2 ', reg1.score(X,y))\n",
    "#83% of variation in Y (mpg) is dependent on X (wt, hp, gear)"
   ]
  },
  {
   "cell_type": "code",
   "execution_count": 52,
   "id": "3b471098",
   "metadata": {},
   "outputs": [
    {
     "name": "stdout",
     "output_type": "stream",
     "text": [
      "Coefficients  [-3.02600904 -0.03907936  0.94247563]\n",
      "Index(['wt', 'hp', 'gear'], dtype='object')\n"
     ]
    }
   ],
   "source": [
    "print('Coefficients ', reg1.coef_)\n",
    "print(X_train.columns)\n",
    "#if u increase wt by 1 unit, mpg will decrease by 3 units (-3)"
   ]
  },
  {
   "cell_type": "code",
   "execution_count": 53,
   "id": "f2b4bcfd",
   "metadata": {},
   "outputs": [
    {
     "data": {
      "text/plain": [
       "32.109450064221186"
      ]
     },
     "execution_count": 53,
     "metadata": {},
     "output_type": "execute_result"
    }
   ],
   "source": [
    "reg1.intercept_"
   ]
  },
  {
   "cell_type": "markdown",
   "id": "0588ce20",
   "metadata": {},
   "source": [
    "-   mpg = 32 + -3 * wt + -.03 * hp + .94 * gear "
   ]
  },
  {
   "cell_type": "code",
   "execution_count": 54,
   "id": "95c5649b",
   "metadata": {},
   "outputs": [
    {
     "name": "stdout",
     "output_type": "stream",
     "text": [
      "Predict MPG for given X values \n",
      "  [18.42 15.59 13.74 28.96 17.69 20.91 16.46  9.77 11.04 23.69 20.66 10.12\n",
      " 27.44 23.65 22.88 18.68 20.66 27.79 26.64 14.56 21.6  16.91 25.22 16.46\n",
      " 12.93]\n"
     ]
    }
   ],
   "source": [
    "y_pred = reg1.predict(X_train).round(2)\n",
    "print('Predict MPG for given X values \\n ', y_pred)"
   ]
  },
  {
   "cell_type": "code",
   "execution_count": 55,
   "id": "c76b71e7",
   "metadata": {},
   "outputs": [
    {
     "name": "stdout",
     "output_type": "stream",
     "text": [
      "                  wt   hp  gear\n",
      "Mazda RX4      2.620  110     4\n",
      "Mazda RX4 Wag  2.875  110     4 \n",
      "\n",
      "              wt          hp       gear\n",
      "count  32.000000   32.000000  32.000000\n",
      "mean    3.217250  146.687500   3.687500\n",
      "std     0.978457   68.562868   0.737804\n",
      "min     1.513000   52.000000   3.000000\n",
      "25%     2.581250   96.500000   3.000000\n",
      "50%     3.325000  123.000000   4.000000\n",
      "75%     3.610000  180.000000   4.000000\n",
      "max     5.424000  335.000000   5.000000\n"
     ]
    }
   ],
   "source": [
    "print(X.head(2), '\\n')\n",
    "print(X.describe())  #sample values between min and max of each variable"
   ]
  },
  {
   "cell_type": "code",
   "execution_count": 70,
   "id": "79b4c72c",
   "metadata": {},
   "outputs": [
    {
     "name": "stdout",
     "output_type": "stream",
     "text": [
      "Predict MPG for from test Data  [23.8  23.21 20.36 26.79 22.63 27.83 16.62]\n"
     ]
    }
   ],
   "source": [
    "y_test_pred = reg1.predict(X_test).round(2)\n",
    "print('Predict MPG for from test Data ', y_test_pred)"
   ]
  },
  {
   "cell_type": "code",
   "execution_count": 85,
   "id": "e90d2c1d",
   "metadata": {},
   "outputs": [
    {
     "data": {
      "text/html": [
       "<div>\n",
       "<style scoped>\n",
       "    .dataframe tbody tr th:only-of-type {\n",
       "        vertical-align: middle;\n",
       "    }\n",
       "\n",
       "    .dataframe tbody tr th {\n",
       "        vertical-align: top;\n",
       "    }\n",
       "\n",
       "    .dataframe thead th {\n",
       "        text-align: right;\n",
       "    }\n",
       "</style>\n",
       "<table border=\"1\" class=\"dataframe\">\n",
       "  <thead>\n",
       "    <tr style=\"text-align: right;\">\n",
       "      <th></th>\n",
       "      <th>0</th>\n",
       "      <th>1</th>\n",
       "      <th>2</th>\n",
       "      <th>3</th>\n",
       "      <th>4</th>\n",
       "      <th>5</th>\n",
       "      <th>6</th>\n",
       "    </tr>\n",
       "  </thead>\n",
       "  <tbody>\n",
       "    <tr>\n",
       "      <th>0</th>\n",
       "      <td>Merc 240D</td>\n",
       "      <td>3.190</td>\n",
       "      <td>62</td>\n",
       "      <td>4</td>\n",
       "      <td>Merc 240D</td>\n",
       "      <td>24.4</td>\n",
       "      <td>23.80</td>\n",
       "    </tr>\n",
       "    <tr>\n",
       "      <th>1</th>\n",
       "      <td>Volvo 142E</td>\n",
       "      <td>2.780</td>\n",
       "      <td>109</td>\n",
       "      <td>4</td>\n",
       "      <td>Volvo 142E</td>\n",
       "      <td>21.4</td>\n",
       "      <td>23.21</td>\n",
       "    </tr>\n",
       "    <tr>\n",
       "      <th>2</th>\n",
       "      <td>Valiant</td>\n",
       "      <td>3.460</td>\n",
       "      <td>105</td>\n",
       "      <td>3</td>\n",
       "      <td>Valiant</td>\n",
       "      <td>18.1</td>\n",
       "      <td>20.36</td>\n",
       "    </tr>\n",
       "    <tr>\n",
       "      <th>3</th>\n",
       "      <td>Porsche 914-2</td>\n",
       "      <td>2.140</td>\n",
       "      <td>91</td>\n",
       "      <td>5</td>\n",
       "      <td>Porsche 914-2</td>\n",
       "      <td>26.0</td>\n",
       "      <td>26.79</td>\n",
       "    </tr>\n",
       "    <tr>\n",
       "      <th>4</th>\n",
       "      <td>Merc 230</td>\n",
       "      <td>3.150</td>\n",
       "      <td>95</td>\n",
       "      <td>4</td>\n",
       "      <td>Merc 230</td>\n",
       "      <td>22.8</td>\n",
       "      <td>22.63</td>\n",
       "    </tr>\n",
       "    <tr>\n",
       "      <th>5</th>\n",
       "      <td>Lotus Europa</td>\n",
       "      <td>1.513</td>\n",
       "      <td>113</td>\n",
       "      <td>5</td>\n",
       "      <td>Lotus Europa</td>\n",
       "      <td>30.4</td>\n",
       "      <td>27.83</td>\n",
       "    </tr>\n",
       "    <tr>\n",
       "      <th>6</th>\n",
       "      <td>Merc 450SL</td>\n",
       "      <td>3.730</td>\n",
       "      <td>180</td>\n",
       "      <td>3</td>\n",
       "      <td>Merc 450SL</td>\n",
       "      <td>17.3</td>\n",
       "      <td>16.62</td>\n",
       "    </tr>\n",
       "  </tbody>\n",
       "</table>\n",
       "</div>"
      ],
      "text/plain": [
       "               0      1    2  3              4     5      6\n",
       "0      Merc 240D  3.190   62  4      Merc 240D  24.4  23.80\n",
       "1     Volvo 142E  2.780  109  4     Volvo 142E  21.4  23.21\n",
       "2        Valiant  3.460  105  3        Valiant  18.1  20.36\n",
       "3  Porsche 914-2  2.140   91  5  Porsche 914-2  26.0  26.79\n",
       "4       Merc 230  3.150   95  4       Merc 230  22.8  22.63\n",
       "5   Lotus Europa  1.513  113  5   Lotus Europa  30.4  27.83\n",
       "6     Merc 450SL  3.730  180  3     Merc 450SL  17.3  16.62"
      ]
     },
     "execution_count": 85,
     "metadata": {},
     "output_type": "execute_result"
    }
   ],
   "source": [
    "#print(X_test)\n",
    "#print(y_test)\n",
    "#print(y_test_pred)\n",
    "pd.concat([X_test.reset_index(), y_test.reset_index(), pd.Series(y_test_pred)], axis=1, ignore_index=True)\n",
    "#pd.concat([X_test, y.reset_index(), pd.Series(y_test_pred)],axis=1, ignore_index=True).head()\n",
    "#print(32 + -3 * 2.78 + -.03 * 109 + .94 * 4)\n",
    "#col 5 - actual mpg, col 6- predicted mpg"
   ]
  },
  {
   "cell_type": "code",
   "execution_count": 81,
   "id": "77de3e6c",
   "metadata": {},
   "outputs": [
    {
     "name": "stdout",
     "output_type": "stream",
     "text": [
      "Merc 240D        24.4\n",
      "Volvo 142E       21.4\n",
      "Valiant          18.1\n",
      "Porsche 914-2    26.0\n",
      "Merc 230         22.8\n",
      "Lotus Europa     30.4\n",
      "Merc 450SL       17.3\n",
      "Name: mpg, dtype: float64 [23.8  23.21 20.36 26.79 22.63 27.83 16.62]\n"
     ]
    }
   ],
   "source": [
    "print(y_test, y_test_pred)"
   ]
  },
  {
   "cell_type": "code",
   "execution_count": 82,
   "id": "8ce8069e",
   "metadata": {},
   "outputs": [
    {
     "name": "stdout",
     "output_type": "stream",
     "text": [
      "<class 'pandas.core.series.Series'> <class 'numpy.ndarray'>\n"
     ]
    }
   ],
   "source": [
    "print(type(y_test), type(y_test_pred))"
   ]
  },
  {
   "cell_type": "code",
   "execution_count": 86,
   "id": "c24a1bac",
   "metadata": {},
   "outputs": [
    {
     "data": {
      "text/html": [
       "<div>\n",
       "<style scoped>\n",
       "    .dataframe tbody tr th:only-of-type {\n",
       "        vertical-align: middle;\n",
       "    }\n",
       "\n",
       "    .dataframe tbody tr th {\n",
       "        vertical-align: top;\n",
       "    }\n",
       "\n",
       "    .dataframe thead th {\n",
       "        text-align: right;\n",
       "    }\n",
       "</style>\n",
       "<table border=\"1\" class=\"dataframe\">\n",
       "  <thead>\n",
       "    <tr style=\"text-align: right;\">\n",
       "      <th></th>\n",
       "      <th>0</th>\n",
       "      <th>1</th>\n",
       "      <th>2</th>\n",
       "    </tr>\n",
       "  </thead>\n",
       "  <tbody>\n",
       "    <tr>\n",
       "      <th>0</th>\n",
       "      <td>Merc 240D</td>\n",
       "      <td>24.4</td>\n",
       "      <td>23.80</td>\n",
       "    </tr>\n",
       "    <tr>\n",
       "      <th>1</th>\n",
       "      <td>Volvo 142E</td>\n",
       "      <td>21.4</td>\n",
       "      <td>23.21</td>\n",
       "    </tr>\n",
       "    <tr>\n",
       "      <th>2</th>\n",
       "      <td>Valiant</td>\n",
       "      <td>18.1</td>\n",
       "      <td>20.36</td>\n",
       "    </tr>\n",
       "    <tr>\n",
       "      <th>3</th>\n",
       "      <td>Porsche 914-2</td>\n",
       "      <td>26.0</td>\n",
       "      <td>26.79</td>\n",
       "    </tr>\n",
       "    <tr>\n",
       "      <th>4</th>\n",
       "      <td>Merc 230</td>\n",
       "      <td>22.8</td>\n",
       "      <td>22.63</td>\n",
       "    </tr>\n",
       "    <tr>\n",
       "      <th>5</th>\n",
       "      <td>Lotus Europa</td>\n",
       "      <td>30.4</td>\n",
       "      <td>27.83</td>\n",
       "    </tr>\n",
       "    <tr>\n",
       "      <th>6</th>\n",
       "      <td>Merc 450SL</td>\n",
       "      <td>17.3</td>\n",
       "      <td>16.62</td>\n",
       "    </tr>\n",
       "  </tbody>\n",
       "</table>\n",
       "</div>"
      ],
      "text/plain": [
       "               0     1      2\n",
       "0      Merc 240D  24.4  23.80\n",
       "1     Volvo 142E  21.4  23.21\n",
       "2        Valiant  18.1  20.36\n",
       "3  Porsche 914-2  26.0  26.79\n",
       "4       Merc 230  22.8  22.63\n",
       "5   Lotus Europa  30.4  27.83\n",
       "6     Merc 450SL  17.3  16.62"
      ]
     },
     "execution_count": 86,
     "metadata": {},
     "output_type": "execute_result"
    }
   ],
   "source": [
    "# Combine as DF\n",
    "pd.concat([y_test.reset_index(), pd.Series(y_test_pred)],axis=1, ignore_index=True)"
   ]
  },
  {
   "cell_type": "code",
   "execution_count": 87,
   "id": "1b107ac0",
   "metadata": {},
   "outputs": [],
   "source": [
    "from sklearn.metrics import mean_squared_error\n",
    "#pd.concat([y.reshape(-1,1), y_pred.reshape(-1,1)])\n",
    "\n",
    "#there is difference between actual (1) and predicted values(2), which show accuracy of the model ?"
   ]
  },
  {
   "cell_type": "code",
   "execution_count": 88,
   "id": "5ddf73e6",
   "metadata": {},
   "outputs": [
    {
     "name": "stdout",
     "output_type": "stream",
     "text": [
      "Merc 240D        24.4\n",
      "Volvo 142E       21.4\n",
      "Valiant          18.1\n",
      "Porsche 914-2    26.0\n",
      "Merc 230         22.8\n",
      "Lotus Europa     30.4\n",
      "Merc 450SL       17.3\n",
      "Name: mpg, dtype: float64\n",
      "[23.8  23.21 20.36 26.79 22.63 27.83 16.62]\n"
     ]
    }
   ],
   "source": [
    "print(y_test)\n",
    "print(y_test_pred)"
   ]
  },
  {
   "cell_type": "code",
   "execution_count": 91,
   "id": "d494c3a9",
   "metadata": {},
   "outputs": [
    {
     "name": "stdout",
     "output_type": "stream",
     "text": [
      "Mean Squared Error  2.35  : Root Mean Squared Error -  1.53\n"
     ]
    }
   ],
   "source": [
    "mse = mean_squared_error(y_true=y_test, y_pred=y_test_pred, squared=True)\n",
    "rmse = mean_squared_error(y_true=y_test, y_pred=y_test_pred, squared=False)\n",
    "print('Mean Squared Error ', mse.round(2), ' : Root Mean Squared Error - ', rmse.round(2))\n",
    "#rmse should be as less as possible"
   ]
  },
  {
   "cell_type": "markdown",
   "id": "b11c821d",
   "metadata": {},
   "source": [
    "## Predict for New Set of Values of Car"
   ]
  },
  {
   "cell_type": "code",
   "execution_count": 92,
   "id": "20015114",
   "metadata": {},
   "outputs": [
    {
     "data": {
      "text/html": [
       "<div>\n",
       "<style scoped>\n",
       "    .dataframe tbody tr th:only-of-type {\n",
       "        vertical-align: middle;\n",
       "    }\n",
       "\n",
       "    .dataframe tbody tr th {\n",
       "        vertical-align: top;\n",
       "    }\n",
       "\n",
       "    .dataframe thead th {\n",
       "        text-align: right;\n",
       "    }\n",
       "</style>\n",
       "<table border=\"1\" class=\"dataframe\">\n",
       "  <thead>\n",
       "    <tr style=\"text-align: right;\">\n",
       "      <th></th>\n",
       "      <th>wt</th>\n",
       "      <th>hp</th>\n",
       "      <th>gear</th>\n",
       "    </tr>\n",
       "  </thead>\n",
       "  <tbody>\n",
       "    <tr>\n",
       "      <th>0</th>\n",
       "      <td>3</td>\n",
       "      <td>200</td>\n",
       "      <td>5</td>\n",
       "    </tr>\n",
       "    <tr>\n",
       "      <th>1</th>\n",
       "      <td>5</td>\n",
       "      <td>100</td>\n",
       "      <td>4</td>\n",
       "    </tr>\n",
       "    <tr>\n",
       "      <th>2</th>\n",
       "      <td>6</td>\n",
       "      <td>300</td>\n",
       "      <td>3</td>\n",
       "    </tr>\n",
       "  </tbody>\n",
       "</table>\n",
       "</div>"
      ],
      "text/plain": [
       "   wt   hp  gear\n",
       "0   3  200     5\n",
       "1   5  100     4\n",
       "2   6  300     3"
      ]
     },
     "execution_count": 92,
     "metadata": {},
     "output_type": "execute_result"
    }
   ],
   "source": [
    "#create new set of values\n",
    "newData = pd.DataFrame({'wt':[3,5,6], 'hp':[200, 100,300], 'gear':[5,4,3]})\n",
    "newData"
   ]
  },
  {
   "cell_type": "code",
   "execution_count": 93,
   "id": "bc87b890",
   "metadata": {},
   "outputs": [
    {
     "name": "stdout",
     "output_type": "stream",
     "text": [
      "Predict MPG for new Set of Data  [19.93 16.84  5.06]\n"
     ]
    }
   ],
   "source": [
    "print('Predict MPG for new Set of Data ', reg1.predict(newData).round(2))"
   ]
  },
  {
   "cell_type": "markdown",
   "id": "57403152",
   "metadata": {},
   "source": [
    "# Stats Model\n",
    "https://www.statsmodels.org/stable/regression.html"
   ]
  },
  {
   "cell_type": "code",
   "execution_count": 94,
   "id": "09cfbb6c",
   "metadata": {},
   "outputs": [],
   "source": [
    "#different library\n",
    "from statsmodels.formula.api import ols"
   ]
  },
  {
   "cell_type": "code",
   "execution_count": 95,
   "id": "73a945df",
   "metadata": {},
   "outputs": [
    {
     "name": "stdout",
     "output_type": "stream",
     "text": [
      "IVs -  (32, 3) Index(['wt', 'hp', 'gear'], dtype='object') : DVs -  (32,) mpg\n"
     ]
    }
   ],
   "source": [
    "data1 = mt[['mpg','wt','hp','gear']].copy()\n",
    "X = data1.drop(columns='mpg')  #predict mpg - Y so drop from X\n",
    "y = data1.mpg  # Dep Variable\n",
    "print('IVs - ', X.shape, X.columns, ': DVs - ', y.shape,  y.name)\n",
    "#rows/cols of X, y, ; names of columsn in X, y"
   ]
  },
  {
   "cell_type": "code",
   "execution_count": 96,
   "id": "f15627d2",
   "metadata": {},
   "outputs": [],
   "source": [
    "reg2 = ols(\"mpg ~ wt + hp + gear\", data=data1).fit()"
   ]
  },
  {
   "cell_type": "code",
   "execution_count": 97,
   "id": "d0cc0ec8",
   "metadata": {},
   "outputs": [],
   "source": [
    "#skipping the splitting of data into train and test"
   ]
  },
  {
   "cell_type": "code",
   "execution_count": 98,
   "id": "ea534a68",
   "metadata": {},
   "outputs": [
    {
     "name": "stdout",
     "output_type": "stream",
     "text": [
      " Predicted Values of MPG from OLS technique \t [23.67 22.85 25.25 20.75 17.64 20.15 14.64 23.61 22.53 20.57 20.57 15.44\n",
      " 16.52 16.36 10.74  9.82  9.52 26.63 29.02 27.83 23.62 18.3  18.57 13.78\n",
      " 16.34 27.48 26.92 28.12 17.26 21.82 13.37 23.19]\n"
     ]
    }
   ],
   "source": [
    "y_predOLS  = reg2.predict().round(2)\n",
    "print(' Predicted Values of MPG from OLS technique \\t', y_predOLS)"
   ]
  },
  {
   "cell_type": "code",
   "execution_count": 99,
   "id": "96d35574",
   "metadata": {},
   "outputs": [
    {
     "name": "stdout",
     "output_type": "stream",
     "text": [
      "Predict MPG for new Set of Data from OLS\n",
      " 0    20.16\n",
      "1    16.43\n",
      "2     4.85\n",
      "dtype: float64\n"
     ]
    }
   ],
   "source": [
    "print('Predict MPG for new Set of Data from OLS\\n', reg2.predict(newData).round(2))"
   ]
  },
  {
   "cell_type": "code",
   "execution_count": 100,
   "id": "98ff4d6e",
   "metadata": {},
   "outputs": [
    {
     "name": "stdout",
     "output_type": "stream",
     "text": [
      "Summary of the Model                              OLS Regression Results                            \n",
      "==============================================================================\n",
      "Dep. Variable:                    mpg   R-squared:                       0.835\n",
      "Model:                            OLS   Adj. R-squared:                  0.818\n",
      "Method:                 Least Squares   F-statistic:                     47.31\n",
      "Date:                Sun, 09 Jul 2023   Prob (F-statistic):           4.33e-11\n",
      "Time:                        19:22:25   Log-Likelihood:                -73.526\n",
      "No. Observations:                  32   AIC:                             155.1\n",
      "Df Residuals:                      28   BIC:                             160.9\n",
      "Df Model:                           3                                         \n",
      "Covariance Type:            nonrobust                                         \n",
      "==============================================================================\n",
      "                 coef    std err          t      P>|t|      [0.025      0.975]\n",
      "------------------------------------------------------------------------------\n",
      "Intercept     32.0137      4.632      6.911      0.000      22.525      41.502\n",
      "wt            -3.1978      0.847     -3.777      0.001      -4.932      -1.464\n",
      "hp            -0.0368      0.010     -3.719      0.001      -0.057      -0.017\n",
      "gear           1.0200      0.851      1.198      0.241      -0.724       2.764\n",
      "==============================================================================\n",
      "Omnibus:                        6.699   Durbin-Watson:                   1.397\n",
      "Prob(Omnibus):                  0.035   Jarque-Bera (JB):                5.369\n",
      "Skew:                           0.977   Prob(JB):                       0.0682\n",
      "Kurtosis:                       3.455   Cond. No.                     1.69e+03\n",
      "==============================================================================\n",
      "\n",
      "Notes:\n",
      "[1] Standard Errors assume that the covariance matrix of the errors is correctly specified.\n",
      "[2] The condition number is large, 1.69e+03. This might indicate that there are\n",
      "strong multicollinearity or other numerical problems.\n"
     ]
    }
   ],
   "source": [
    "print('Summary of the Model ', reg2.summary())\n",
    "#understand : R2, Adjust R2, AIC, p-Value of Coefficients, F-Stats"
   ]
  },
  {
   "cell_type": "code",
   "execution_count": 102,
   "id": "7ec8447f",
   "metadata": {},
   "outputs": [
    {
     "data": {
      "text/plain": [
       "<Axes: >"
      ]
     },
     "execution_count": 102,
     "metadata": {},
     "output_type": "execute_result"
    },
    {
     "data": {
      "image/png": "[encoded data removed]",
      "text/plain": [
       "<Figure size 640x480 with 2 Axes>"
      ]
     },
     "metadata": {},
     "output_type": "display_data"
    }
   ],
   "source": [
    "#correlation map\n",
    "sns.heatmap(data1.corr(), annot=True)"
   ]
  },
  {
   "cell_type": "code",
   "execution_count": null,
   "id": "ac77b783",
   "metadata": {},
   "outputs": [],
   "source": [
    "# now try with any data set using above Linear Regression"
   ]
  },
  {
   "cell_type": "markdown",
   "id": "32dba77e",
   "metadata": {},
   "source": [
    "### end here"
   ]
  }
 ],
 "metadata": {
  "kernelspec": {
   "display_name": "Python 3 (ipykernel)",
   "language": "python",
   "name": "python3"
  },
  "language_info": {
   "codemirror_mode": {
    "name": "ipython",
    "version": 3
   },
   "file_extension": ".py",
   "mimetype": "text/x-python",
   "name": "python",
   "nbconvert_exporter": "python",
   "pygments_lexer": "ipython3",
   "version": "3.10.9"
  }
 },
 "nbformat": 4,
 "nbformat_minor": 5
}
