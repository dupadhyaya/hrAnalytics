{
 "cells": [
  {
   "cell_type": "markdown",
   "id": "a5449cc3",
   "metadata": {},
   "source": [
    "## Logistic Regression\n",
    "-  https://www.andrewvillazon.com/logistic-regression-python-statsmodels/\n",
    "-  https://www.javatpoint.com/logistic-regression-in-machine-learning\n",
    "-  Predict a category (0/1, Yes/No) on the basis of IVs (which can be continous or categories)\n",
    "-  https://scikit-learn.org/stable/modules/generated/sklearn.linear_model.LogisticRegression.html\n",
    "-  Predict Y (Dependent Variable) on the basis of Xs (Independent Variables)\n",
    "-  Y : Category Value (0 or 1)\n",
    "-  Xs : can be continous or discrete eg. gender, age, salary, experience in yrs etc\n",
    "-  In this mtcars data set : Y (am/ tx) predict on the basis of Xs (wt, hp, mpg)\n",
    "-  Steps\n",
    "    -  from sklearn.linear_model import LogisticRegression\n",
    "    -  model = LogisticRegression().fit(X,y)\n",
    "    -  r_sq = model.score(X, y)\n",
    "    -  y_pred = model.predict(X)\n",
    "    -  Y_pred(new) = model.predict(X new)\n",
    " -  Two Libraries - sklearn and statsmodels\n",
    "     -  logreg1 - sklearn\n",
    "     -  logreg2 - statsmodel"
   ]
  },
  {
   "cell_type": "code",
   "execution_count": 1,
   "id": "025956ff",
   "metadata": {
    "tags": []
   },
   "outputs": [],
   "source": [
    "#libraries\n",
    "import pandas as pd\n",
    "import numpy as np\n",
    "import matplotlib.pyplot as plt\n",
    "import seaborn as sns\n",
    "from pydataset import data"
   ]
  },
  {
   "cell_type": "code",
   "execution_count": 2,
   "id": "7c3eb1f5",
   "metadata": {
    "tags": []
   },
   "outputs": [
    {
     "name": "stdout",
     "output_type": "stream",
     "text": [
      "(32, 11) Index(['mpg', 'cyl', 'disp', 'hp', 'drat', 'wt', 'qsec', 'vs', 'am', 'gear',\n",
      "       'carb'],\n",
      "      dtype='object') \n",
      "\n",
      "mpg     float64\n",
      "cyl       int64\n",
      "disp    float64\n",
      "hp        int64\n",
      "drat    float64\n",
      "wt      float64\n",
      "qsec    float64\n",
      "vs        int64\n",
      "am        int64\n",
      "gear      int64\n",
      "carb      int64\n",
      "dtype: object \n",
      "                     mpg     wt   hp  gear\n",
      "Mazda RX4          21.0  2.620  110     4\n",
      "Mazda RX4 Wag      21.0  2.875  110     4\n",
      "Datsun 710         22.8  2.320   93     4\n",
      "Hornet 4 Drive     21.4  3.215  110     3\n",
      "Hornet Sportabout  18.7  3.440  175     3\n"
     ]
    }
   ],
   "source": [
    "#data\n",
    "mt = data('mtcars')\n",
    "print(mt.shape, mt.columns,'\\n')\n",
    "print(mt.dtypes, '\\n', mt[['mpg','wt','hp','gear']].head())"
   ]
  },
  {
   "cell_type": "code",
   "execution_count": 3,
   "id": "354cfe91",
   "metadata": {
    "tags": []
   },
   "outputs": [],
   "source": [
    "from sklearn.model_selection import train_test_split  #split"
   ]
  },
  {
   "cell_type": "code",
   "execution_count": 4,
   "id": "5e929fc0",
   "metadata": {
    "tags": []
   },
   "outputs": [],
   "source": [
    "#additional libraries\n",
    "from sklearn.linear_model import LogisticRegression\n",
    "from sklearn.metrics import classification_report, confusion_matrix\n",
    "#seaborn to create confusion matrix"
   ]
  },
  {
   "cell_type": "code",
   "execution_count": 5,
   "id": "6238ade0",
   "metadata": {
    "tags": []
   },
   "outputs": [
    {
     "name": "stdout",
     "output_type": "stream",
     "text": [
      "(32, 3) (32,)\n"
     ]
    }
   ],
   "source": [
    "data2 = mt[['am','wt', 'hp','mpg']]\n",
    "X = data2.drop(columns='am')\n",
    "y = data2.am\n",
    "print(X.shape, y.shape)"
   ]
  },
  {
   "cell_type": "code",
   "execution_count": 6,
   "id": "9a6b6854",
   "metadata": {
    "tags": []
   },
   "outputs": [
    {
     "data": {
      "text/html": [
       "<div>\n",
       "<style scoped>\n",
       "    .dataframe tbody tr th:only-of-type {\n",
       "        vertical-align: middle;\n",
       "    }\n",
       "\n",
       "    .dataframe tbody tr th {\n",
       "        vertical-align: top;\n",
       "    }\n",
       "\n",
       "    .dataframe thead th {\n",
       "        text-align: right;\n",
       "    }\n",
       "</style>\n",
       "<table border=\"1\" class=\"dataframe\">\n",
       "  <thead>\n",
       "    <tr style=\"text-align: right;\">\n",
       "      <th></th>\n",
       "      <th>am</th>\n",
       "      <th>wt</th>\n",
       "      <th>hp</th>\n",
       "      <th>mpg</th>\n",
       "    </tr>\n",
       "  </thead>\n",
       "  <tbody>\n",
       "    <tr>\n",
       "      <th>Mazda RX4</th>\n",
       "      <td>1</td>\n",
       "      <td>2.620</td>\n",
       "      <td>110</td>\n",
       "      <td>21.0</td>\n",
       "    </tr>\n",
       "    <tr>\n",
       "      <th>Mazda RX4 Wag</th>\n",
       "      <td>1</td>\n",
       "      <td>2.875</td>\n",
       "      <td>110</td>\n",
       "      <td>21.0</td>\n",
       "    </tr>\n",
       "    <tr>\n",
       "      <th>Datsun 710</th>\n",
       "      <td>1</td>\n",
       "      <td>2.320</td>\n",
       "      <td>93</td>\n",
       "      <td>22.8</td>\n",
       "    </tr>\n",
       "    <tr>\n",
       "      <th>Hornet 4 Drive</th>\n",
       "      <td>0</td>\n",
       "      <td>3.215</td>\n",
       "      <td>110</td>\n",
       "      <td>21.4</td>\n",
       "    </tr>\n",
       "    <tr>\n",
       "      <th>Hornet Sportabout</th>\n",
       "      <td>0</td>\n",
       "      <td>3.440</td>\n",
       "      <td>175</td>\n",
       "      <td>18.7</td>\n",
       "    </tr>\n",
       "  </tbody>\n",
       "</table>\n",
       "</div>"
      ],
      "text/plain": [
       "                   am     wt   hp   mpg\n",
       "Mazda RX4           1  2.620  110  21.0\n",
       "Mazda RX4 Wag       1  2.875  110  21.0\n",
       "Datsun 710          1  2.320   93  22.8\n",
       "Hornet 4 Drive      0  3.215  110  21.4\n",
       "Hornet Sportabout   0  3.440  175  18.7"
      ]
     },
     "execution_count": 6,
     "metadata": {},
     "output_type": "execute_result"
    }
   ],
   "source": [
    "data2.head()"
   ]
  },
  {
   "cell_type": "code",
   "execution_count": 7,
   "id": "55dcda50",
   "metadata": {
    "tags": []
   },
   "outputs": [
    {
     "data": {
      "text/plain": [
       "am\n",
       "0    19\n",
       "1    13\n",
       "Name: count, dtype: int64"
      ]
     },
     "execution_count": 7,
     "metadata": {},
     "output_type": "execute_result"
    }
   ],
   "source": [
    "mt.am.value_counts()"
   ]
  },
  {
   "cell_type": "code",
   "execution_count": 8,
   "id": "86fd53b8",
   "metadata": {
    "tags": []
   },
   "outputs": [],
   "source": [
    "#ogreg1 = LogisticRegression(solver='liblinear', random_state=123).fit(X,y)\n",
    "logreg1 = LogisticRegression(random_state=123).fit(X,y)"
   ]
  },
  {
   "cell_type": "code",
   "execution_count": 9,
   "id": "7c0bac30",
   "metadata": {
    "tags": []
   },
   "outputs": [
    {
     "name": "stdout",
     "output_type": "stream",
     "text": [
      " Classes  [0 1]  : Coeff  [[-1.43352673  0.04286737  0.83179644]]  : Intercept  [-18.80155606]\n",
      "Index(['am', 'wt', 'hp', 'mpg'], dtype='object')\n"
     ]
    }
   ],
   "source": [
    "print(' Classes ', logreg1.classes_, ' : Coeff ', logreg1.coef_, ' : Intercept ', logreg1.intercept_)\n",
    "print(data2.columns)"
   ]
  },
  {
   "cell_type": "code",
   "execution_count": 10,
   "id": "7e87c043",
   "metadata": {
    "tags": []
   },
   "outputs": [
    {
     "data": {
      "text/html": [
       "<div>\n",
       "<style scoped>\n",
       "    .dataframe tbody tr th:only-of-type {\n",
       "        vertical-align: middle;\n",
       "    }\n",
       "\n",
       "    .dataframe tbody tr th {\n",
       "        vertical-align: top;\n",
       "    }\n",
       "\n",
       "    .dataframe thead th {\n",
       "        text-align: right;\n",
       "    }\n",
       "</style>\n",
       "<table border=\"1\" class=\"dataframe\">\n",
       "  <thead>\n",
       "    <tr style=\"text-align: right;\">\n",
       "      <th></th>\n",
       "      <th>am</th>\n",
       "      <th>wt</th>\n",
       "      <th>hp</th>\n",
       "      <th>mpg</th>\n",
       "    </tr>\n",
       "  </thead>\n",
       "  <tbody>\n",
       "    <tr>\n",
       "      <th>Camaro Z28</th>\n",
       "      <td>0</td>\n",
       "      <td>3.840</td>\n",
       "      <td>245</td>\n",
       "      <td>13.3</td>\n",
       "    </tr>\n",
       "    <tr>\n",
       "      <th>Datsun 710</th>\n",
       "      <td>1</td>\n",
       "      <td>2.320</td>\n",
       "      <td>93</td>\n",
       "      <td>22.8</td>\n",
       "    </tr>\n",
       "    <tr>\n",
       "      <th>Mazda RX4 Wag</th>\n",
       "      <td>1</td>\n",
       "      <td>2.875</td>\n",
       "      <td>110</td>\n",
       "      <td>21.0</td>\n",
       "    </tr>\n",
       "    <tr>\n",
       "      <th>Hornet 4 Drive</th>\n",
       "      <td>0</td>\n",
       "      <td>3.215</td>\n",
       "      <td>110</td>\n",
       "      <td>21.4</td>\n",
       "    </tr>\n",
       "    <tr>\n",
       "      <th>Merc 450SL</th>\n",
       "      <td>0</td>\n",
       "      <td>3.730</td>\n",
       "      <td>180</td>\n",
       "      <td>17.3</td>\n",
       "    </tr>\n",
       "    <tr>\n",
       "      <th>Fiat 128</th>\n",
       "      <td>1</td>\n",
       "      <td>2.200</td>\n",
       "      <td>66</td>\n",
       "      <td>32.4</td>\n",
       "    </tr>\n",
       "    <tr>\n",
       "      <th>Fiat X1-9</th>\n",
       "      <td>1</td>\n",
       "      <td>1.935</td>\n",
       "      <td>66</td>\n",
       "      <td>27.3</td>\n",
       "    </tr>\n",
       "    <tr>\n",
       "      <th>Toyota Corona</th>\n",
       "      <td>0</td>\n",
       "      <td>2.465</td>\n",
       "      <td>97</td>\n",
       "      <td>21.5</td>\n",
       "    </tr>\n",
       "    <tr>\n",
       "      <th>Mazda RX4</th>\n",
       "      <td>1</td>\n",
       "      <td>2.620</td>\n",
       "      <td>110</td>\n",
       "      <td>21.0</td>\n",
       "    </tr>\n",
       "    <tr>\n",
       "      <th>Valiant</th>\n",
       "      <td>0</td>\n",
       "      <td>3.460</td>\n",
       "      <td>105</td>\n",
       "      <td>18.1</td>\n",
       "    </tr>\n",
       "  </tbody>\n",
       "</table>\n",
       "</div>"
      ],
      "text/plain": [
       "                am     wt   hp   mpg\n",
       "Camaro Z28       0  3.840  245  13.3\n",
       "Datsun 710       1  2.320   93  22.8\n",
       "Mazda RX4 Wag    1  2.875  110  21.0\n",
       "Hornet 4 Drive   0  3.215  110  21.4\n",
       "Merc 450SL       0  3.730  180  17.3\n",
       "Fiat 128         1  2.200   66  32.4\n",
       "Fiat X1-9        1  1.935   66  27.3\n",
       "Toyota Corona    0  2.465   97  21.5\n",
       "Mazda RX4        1  2.620  110  21.0\n",
       "Valiant          0  3.460  105  18.1"
      ]
     },
     "execution_count": 10,
     "metadata": {},
     "output_type": "execute_result"
    }
   ],
   "source": [
    "newData2 = data2.sample(10)\n",
    "newData2"
   ]
  },
  {
   "cell_type": "code",
   "execution_count": 11,
   "id": "163bb01a",
   "metadata": {
    "tags": []
   },
   "outputs": [
    {
     "data": {
      "text/plain": [
       "array([[9.39397332e-01, 6.06026678e-02],\n",
       "       [3.04854517e-01, 6.95145483e-01],\n",
       "       [6.76954111e-01, 3.23045889e-01],\n",
       "       [7.09815802e-01, 2.90184198e-01],\n",
       "       [8.85177951e-01, 1.14822049e-01],\n",
       "       [3.99803921e-04, 9.99600196e-01],\n",
       "       [1.86724123e-02, 9.81327588e-01],\n",
       "       [5.72838283e-01, 4.27161717e-01],\n",
       "       [5.92487891e-01, 4.07512109e-01],\n",
       "       [9.85298119e-01, 1.47018813e-02]])"
      ]
     },
     "execution_count": 11,
     "metadata": {},
     "output_type": "execute_result"
    }
   ],
   "source": [
    "logreg1.predict_proba(newData2.drop(columns='am'))"
   ]
  },
  {
   "cell_type": "code",
   "execution_count": 12,
   "id": "8bf9c80a",
   "metadata": {
    "tags": []
   },
   "outputs": [
    {
     "data": {
      "text/plain": [
       "array([0, 1, 0, 0, 0, 1, 1, 0, 0, 0], dtype=int64)"
      ]
     },
     "execution_count": 12,
     "metadata": {},
     "output_type": "execute_result"
    }
   ],
   "source": [
    "logreg1.predict(newData2.drop(columns='am'))"
   ]
  },
  {
   "cell_type": "code",
   "execution_count": 13,
   "id": "250052d6",
   "metadata": {
    "tags": []
   },
   "outputs": [
    {
     "data": {
      "text/plain": [
       "array([[0.67695411, 0.32304589],\n",
       "       [0.30485452, 0.69514548],\n",
       "       [0.7098158 , 0.2901842 ],\n",
       "       [0.66295804, 0.33704196]])"
      ]
     },
     "execution_count": 13,
     "metadata": {},
     "output_type": "execute_result"
    }
   ],
   "source": [
    "logreg1.predict_proba(X)[1:5]\n",
    "#predict probabilities of each row value of X"
   ]
  },
  {
   "cell_type": "code",
   "execution_count": 45,
   "id": "fdcae799",
   "metadata": {},
   "outputs": [
    {
     "name": "stdout",
     "output_type": "stream",
     "text": [
      "Predicted values of AM (Y) from IV (wt, mpg, hp) :  [0, 0, 1, 0, 0, 0, 0, 0, 0, 0, 0, 0, 0, 0, 0, 0, 0, 1, 1, 1, 0, 0, 0, 0, 0, 1, 1, 1, 1, 1, 1, 0]\n"
     ]
    }
   ],
   "source": [
    "y_predLG1 = logreg1.predict(X)\n",
    "print('Predicted values of AM (Y) from IV (wt, mpg, hp) : ', y_predLG1.tolist())\n",
    "#predict class (0 or 1)"
   ]
  },
  {
   "cell_type": "code",
   "execution_count": 46,
   "id": "9099e7bf",
   "metadata": {},
   "outputs": [
    {
     "data": {
      "text/plain": [
       "0.90625"
      ]
     },
     "execution_count": 46,
     "metadata": {},
     "output_type": "execute_result"
    }
   ],
   "source": [
    "logreg1.score(X,y)\n",
    "#9 times out of 10, model predicts right category"
   ]
  },
  {
   "cell_type": "code",
   "execution_count": 47,
   "id": "693bf2d7",
   "metadata": {},
   "outputs": [
    {
     "data": {
      "text/plain": [
       "array([0, 0, 0, 0, 0, 0, 0, 0, 1, 0], dtype=int64)"
      ]
     },
     "execution_count": 47,
     "metadata": {},
     "output_type": "execute_result"
    }
   ],
   "source": [
    "logreg1.predict(newData2.drop(columns='am', axis=1))"
   ]
  },
  {
   "cell_type": "code",
   "execution_count": 48,
   "id": "6ce86daa",
   "metadata": {},
   "outputs": [
    {
     "data": {
      "text/plain": [
       "array([[19,  0],\n",
       "       [ 3, 10]], dtype=int64)"
      ]
     },
     "execution_count": 48,
     "metadata": {},
     "output_type": "execute_result"
    }
   ],
   "source": [
    "#check accuracy of the model\n",
    "confusion_matrix(y, y_predLG1)"
   ]
  },
  {
   "cell_type": "code",
   "execution_count": 49,
   "id": "0e81d3b6",
   "metadata": {},
   "outputs": [
    {
     "data": {
      "text/html": [
       "<div>\n",
       "<style scoped>\n",
       "    .dataframe tbody tr th:only-of-type {\n",
       "        vertical-align: middle;\n",
       "    }\n",
       "\n",
       "    .dataframe tbody tr th {\n",
       "        vertical-align: top;\n",
       "    }\n",
       "\n",
       "    .dataframe thead th {\n",
       "        text-align: right;\n",
       "    }\n",
       "</style>\n",
       "<table border=\"1\" class=\"dataframe\">\n",
       "  <thead>\n",
       "    <tr style=\"text-align: right;\">\n",
       "      <th></th>\n",
       "      <th>0</th>\n",
       "      <th>1</th>\n",
       "      <th>2</th>\n",
       "    </tr>\n",
       "  </thead>\n",
       "  <tbody>\n",
       "    <tr>\n",
       "      <th>0</th>\n",
       "      <td>Mazda RX4</td>\n",
       "      <td>1</td>\n",
       "      <td>0</td>\n",
       "    </tr>\n",
       "    <tr>\n",
       "      <th>1</th>\n",
       "      <td>Mazda RX4 Wag</td>\n",
       "      <td>1</td>\n",
       "      <td>0</td>\n",
       "    </tr>\n",
       "    <tr>\n",
       "      <th>2</th>\n",
       "      <td>Datsun 710</td>\n",
       "      <td>1</td>\n",
       "      <td>1</td>\n",
       "    </tr>\n",
       "    <tr>\n",
       "      <th>3</th>\n",
       "      <td>Hornet 4 Drive</td>\n",
       "      <td>0</td>\n",
       "      <td>0</td>\n",
       "    </tr>\n",
       "    <tr>\n",
       "      <th>4</th>\n",
       "      <td>Hornet Sportabout</td>\n",
       "      <td>0</td>\n",
       "      <td>0</td>\n",
       "    </tr>\n",
       "    <tr>\n",
       "      <th>5</th>\n",
       "      <td>Valiant</td>\n",
       "      <td>0</td>\n",
       "      <td>0</td>\n",
       "    </tr>\n",
       "    <tr>\n",
       "      <th>6</th>\n",
       "      <td>Duster 360</td>\n",
       "      <td>0</td>\n",
       "      <td>0</td>\n",
       "    </tr>\n",
       "    <tr>\n",
       "      <th>7</th>\n",
       "      <td>Merc 240D</td>\n",
       "      <td>0</td>\n",
       "      <td>0</td>\n",
       "    </tr>\n",
       "    <tr>\n",
       "      <th>8</th>\n",
       "      <td>Merc 230</td>\n",
       "      <td>0</td>\n",
       "      <td>0</td>\n",
       "    </tr>\n",
       "    <tr>\n",
       "      <th>9</th>\n",
       "      <td>Merc 280</td>\n",
       "      <td>0</td>\n",
       "      <td>0</td>\n",
       "    </tr>\n",
       "  </tbody>\n",
       "</table>\n",
       "</div>"
      ],
      "text/plain": [
       "                   0  1  2\n",
       "0          Mazda RX4  1  0\n",
       "1      Mazda RX4 Wag  1  0\n",
       "2         Datsun 710  1  1\n",
       "3     Hornet 4 Drive  0  0\n",
       "4  Hornet Sportabout  0  0\n",
       "5            Valiant  0  0\n",
       "6         Duster 360  0  0\n",
       "7          Merc 240D  0  0\n",
       "8           Merc 230  0  0\n",
       "9           Merc 280  0  0"
      ]
     },
     "execution_count": 49,
     "metadata": {},
     "output_type": "execute_result"
    }
   ],
   "source": [
    "pd.concat([y.reset_index(), pd.Series(y_predLG1)],axis=1, ignore_index=True).head(10)"
   ]
  },
  {
   "cell_type": "code",
   "execution_count": 50,
   "id": "1fce12c2",
   "metadata": {},
   "outputs": [
    {
     "data": {
      "text/plain": [
       "<Axes: >"
      ]
     },
     "execution_count": 50,
     "metadata": {},
     "output_type": "execute_result"
    },
    {
     "data": {
      "image/png": "[encoded data removed]",
      "text/plain": [
       "<Figure size 640x480 with 2 Axes>"
      ]
     },
     "metadata": {},
     "output_type": "display_data"
    }
   ],
   "source": [
    "cm = confusion_matrix(y, y_predLG1)\n",
    "cm\n",
    "sns.heatmap(cm, annot=True)"
   ]
  },
  {
   "cell_type": "code",
   "execution_count": 51,
   "id": "6405cbc9",
   "metadata": {},
   "outputs": [
    {
     "data": {
      "text/plain": [
       "0.90625"
      ]
     },
     "execution_count": 51,
     "metadata": {},
     "output_type": "execute_result"
    }
   ],
   "source": [
    "(19 + 10)/32"
   ]
  },
  {
   "cell_type": "code",
   "execution_count": 52,
   "id": "1bf02cfa",
   "metadata": {},
   "outputs": [
    {
     "name": "stdout",
     "output_type": "stream",
     "text": [
      "Classification Report : \n",
      "               precision    recall  f1-score   support\n",
      "\n",
      "           0       0.86      1.00      0.93        19\n",
      "           1       1.00      0.77      0.87        13\n",
      "\n",
      "    accuracy                           0.91        32\n",
      "   macro avg       0.93      0.88      0.90        32\n",
      "weighted avg       0.92      0.91      0.90        32\n",
      "\n"
     ]
    }
   ],
   "source": [
    "clsreport = classification_report(y,y_predLG1)\n",
    "print('Classification Report : \\n', clsreport)"
   ]
  },
  {
   "cell_type": "markdown",
   "id": "c45628bb",
   "metadata": {},
   "source": [
    "# Stats Model\n",
    "-  https://www.statsmodels.org/stable/discretemod.html"
   ]
  },
  {
   "cell_type": "code",
   "execution_count": 53,
   "id": "6591aae0",
   "metadata": {},
   "outputs": [
    {
     "name": "stdout",
     "output_type": "stream",
     "text": [
      "(32, 4) (32, 3) (32,)\n"
     ]
    }
   ],
   "source": [
    "#import statsmodels.api as sm\n",
    "print(data2.shape, X.shape, y.shape)"
   ]
  },
  {
   "cell_type": "code",
   "execution_count": 54,
   "id": "ccebf008",
   "metadata": {},
   "outputs": [],
   "source": [
    "import statsmodels.formula.api as smf"
   ]
  },
  {
   "cell_type": "code",
   "execution_count": 55,
   "id": "12c668a8",
   "metadata": {},
   "outputs": [
    {
     "name": "stdout",
     "output_type": "stream",
     "text": [
      "Optimization terminated successfully.\n",
      "         Current function value: 0.136970\n",
      "         Iterations 11\n"
     ]
    }
   ],
   "source": [
    "logreg2 = smf.logit(\"am ~ wt + mpg + hp\", data=data2).fit()"
   ]
  },
  {
   "cell_type": "code",
   "execution_count": 56,
   "id": "5e9e557b",
   "metadata": {},
   "outputs": [
    {
     "name": "stdout",
     "output_type": "stream",
     "text": [
      "                           Logit Regression Results                           \n",
      "==============================================================================\n",
      "Dep. Variable:                     am   No. Observations:                   32\n",
      "Model:                          Logit   Df Residuals:                       28\n",
      "Method:                           MLE   Df Model:                            3\n",
      "Date:                Sun, 09 Jul 2023   Pseudo R-squ.:                  0.7972\n",
      "Time:                        19:23:13   Log-Likelihood:                -4.3831\n",
      "converged:                       True   LL-Null:                       -21.615\n",
      "Covariance Type:            nonrobust   LLR p-value:                 1.581e-07\n",
      "==============================================================================\n",
      "                 coef    std err          z      P>|z|      [0.025      0.975]\n",
      "------------------------------------------------------------------------------\n",
      "Intercept    -15.7214     40.003     -0.393      0.694     -94.125      62.683\n",
      "wt            -6.9549      3.353     -2.074      0.038     -13.527      -0.383\n",
      "mpg            1.2293      1.581      0.778      0.437      -1.870       4.328\n",
      "hp             0.0839      0.082      1.020      0.308      -0.077       0.245\n",
      "==============================================================================\n",
      "\n",
      "Possibly complete quasi-separation: A fraction 0.25 of observations can be\n",
      "perfectly predicted. This might indicate that there is complete\n",
      "quasi-separation. In this case some parameters will not be identified.\n"
     ]
    }
   ],
   "source": [
    "print(logreg2.summary())"
   ]
  },
  {
   "cell_type": "code",
   "execution_count": 57,
   "id": "c0646253",
   "metadata": {},
   "outputs": [
    {
     "name": "stdout",
     "output_type": "stream",
     "text": [
      "Intercept   -15.721371\n",
      "wt           -6.954924\n",
      "mpg           1.229302\n",
      "hp            0.083893\n",
      "dtype: float64\n"
     ]
    }
   ],
   "source": [
    "print(logreg2.params)"
   ]
  },
  {
   "cell_type": "code",
   "execution_count": 58,
   "id": "779eff44",
   "metadata": {},
   "outputs": [
    {
     "name": "stdout",
     "output_type": "stream",
     "text": [
      "['__class__', '__delattr__', '__dict__', '__dir__', '__doc__', '__eq__', '__format__', '__ge__', '__getattribute__', '__getstate__', '__gt__', '__hash__', '__init__', '__init_subclass__', '__le__', '__lt__', '__module__', '__ne__', '__new__', '__reduce__', '__reduce_ex__', '__repr__', '__setattr__', '__sizeof__', '__str__', '__subclasshook__', '__weakref__', '_cache', '_data_attr', '_data_in_cache', '_get_endog_name', '_get_robustcov_results', '_get_wald_nonlinear', '_transform_predict_exog', '_use_t', 'aic', 'bic', 'bse', 'conf_int', 'converged', 'cov_kwds', 'cov_params', 'cov_type', 'df_model', 'df_resid', 'f_test', 'fittedvalues', 'get_distribution', 'get_influence', 'get_margeff', 'get_prediction', 'im_ratio', 'info_criteria', 'initialize', 'k_constant', 'llf', 'llnull', 'llr', 'llr_pvalue', 'load', 'method', 'mle_retvals', 'mle_settings', 'model', 'nobs', 'normalized_cov_params', 'params', 'pred_table', 'predict', 'prsquared', 'pvalues', 'remove_data', 'resid_dev', 'resid_generalized', 'resid_pearson', 'resid_response', 'save', 'scale', 'score_test', 'set_null_options', 'summary', 'summary2', 't_test', 't_test_pairwise', 'tvalues', 'use_t', 'wald_test', 'wald_test_terms']\n"
     ]
    }
   ],
   "source": [
    "print(dir(logreg2))  #functions available"
   ]
  },
  {
   "cell_type": "code",
   "execution_count": 59,
   "id": "e9e4efbf",
   "metadata": {},
   "outputs": [
    {
     "name": "stdout",
     "output_type": "stream",
     "text": [
      "[0.75, 0.34, 0.98, 0.07, 0.12, 0.0, 0.08, 0.06, 0.16, 0.0, 0.0, 0.0, 0.0, 0.0, 0.0, 0.0, 0.0, 1.0, 1.0, 1.0, 0.85, 0.0, 0.0, 0.0, 0.02, 1.0, 1.0, 1.0, 0.98, 0.98, 1.0, 0.6]\n"
     ]
    }
   ],
   "source": [
    "y_predLG2 = logreg2.predict(X).round(2)\n",
    "print(y_predLG2.tolist())"
   ]
  },
  {
   "cell_type": "code",
   "execution_count": 60,
   "id": "1977c43a",
   "metadata": {},
   "outputs": [
    {
     "name": "stdout",
     "output_type": "stream",
     "text": [
      "<class 'pandas.core.series.Series'> <class 'pandas.core.series.Series'>\n"
     ]
    },
    {
     "data": {
      "text/html": [
       "<div>\n",
       "<style scoped>\n",
       "    .dataframe tbody tr th:only-of-type {\n",
       "        vertical-align: middle;\n",
       "    }\n",
       "\n",
       "    .dataframe tbody tr th {\n",
       "        vertical-align: top;\n",
       "    }\n",
       "\n",
       "    .dataframe thead th {\n",
       "        text-align: right;\n",
       "    }\n",
       "</style>\n",
       "<table border=\"1\" class=\"dataframe\">\n",
       "  <thead>\n",
       "    <tr style=\"text-align: right;\">\n",
       "      <th></th>\n",
       "      <th>am</th>\n",
       "      <th>0</th>\n",
       "    </tr>\n",
       "  </thead>\n",
       "  <tbody>\n",
       "    <tr>\n",
       "      <th>Mazda RX4</th>\n",
       "      <td>1</td>\n",
       "      <td>0.75</td>\n",
       "    </tr>\n",
       "    <tr>\n",
       "      <th>Mazda RX4 Wag</th>\n",
       "      <td>1</td>\n",
       "      <td>0.34</td>\n",
       "    </tr>\n",
       "    <tr>\n",
       "      <th>Datsun 710</th>\n",
       "      <td>1</td>\n",
       "      <td>0.98</td>\n",
       "    </tr>\n",
       "    <tr>\n",
       "      <th>Hornet 4 Drive</th>\n",
       "      <td>0</td>\n",
       "      <td>0.07</td>\n",
       "    </tr>\n",
       "    <tr>\n",
       "      <th>Hornet Sportabout</th>\n",
       "      <td>0</td>\n",
       "      <td>0.12</td>\n",
       "    </tr>\n",
       "  </tbody>\n",
       "</table>\n",
       "</div>"
      ],
      "text/plain": [
       "                   am     0\n",
       "Mazda RX4           1  0.75\n",
       "Mazda RX4 Wag       1  0.34\n",
       "Datsun 710          1  0.98\n",
       "Hornet 4 Drive      0  0.07\n",
       "Hornet Sportabout   0  0.12"
      ]
     },
     "execution_count": 60,
     "metadata": {},
     "output_type": "execute_result"
    }
   ],
   "source": [
    "print(type(y), type(y_predLG2))\n",
    "pd.concat([y, y_predLG2], axis=1).head()"
   ]
  },
  {
   "cell_type": "code",
   "execution_count": 61,
   "id": "9291402b",
   "metadata": {},
   "outputs": [],
   "source": [
    "from sklearn.metrics import log_loss, roc_auc_score, recall_score, precision_score, average_precision_score, f1_score, classification_report, accuracy_score"
   ]
  },
  {
   "cell_type": "code",
   "execution_count": 62,
   "id": "065d1894",
   "metadata": {},
   "outputs": [
    {
     "data": {
      "text/plain": [
       "0.1367269573716344"
      ]
     },
     "execution_count": 62,
     "metadata": {},
     "output_type": "execute_result"
    }
   ],
   "source": [
    "log_loss(y, y_predLG2)"
   ]
  },
  {
   "cell_type": "code",
   "execution_count": 63,
   "id": "7ba33476",
   "metadata": {},
   "outputs": [
    {
     "name": "stdout",
     "output_type": "stream",
     "text": [
      "Log loss = 0.13673\n",
      "AUC = 0.98785\n",
      "Average Precision = 0.98218\n"
     ]
    }
   ],
   "source": [
    "print('Log loss = {:.5f}'.format(log_loss(y, y_predLG2)))\n",
    "print('AUC = {:.5f}'.format(roc_auc_score(y, y_predLG2)))\n",
    "print('Average Precision = {:.5f}'.format(average_precision_score(y, y_predLG2)))"
   ]
  },
  {
   "cell_type": "code",
   "execution_count": 64,
   "id": "61fad293",
   "metadata": {},
   "outputs": [],
   "source": [
    "#try this exercise \n",
    "# https://heds.nz/posts/logistic-regression-python/\n",
    "# https://www.justintodata.com/logistic-regression-example-in-python/"
   ]
  },
  {
   "cell_type": "markdown",
   "id": "32dba77e",
   "metadata": {},
   "source": [
    "### end here"
   ]
  }
 ],
 "metadata": {
  "kernelspec": {
   "display_name": "Python 3 (ipykernel)",
   "language": "python",
   "name": "python3"
  },
  "language_info": {
   "codemirror_mode": {
    "name": "ipython",
    "version": 3
   },
   "file_extension": ".py",
   "mimetype": "text/x-python",
   "name": "python",
   "nbconvert_exporter": "python",
   "pygments_lexer": "ipython3",
   "version": "3.11.5"
  }
 },
 "nbformat": 4,
 "nbformat_minor": 5
}
