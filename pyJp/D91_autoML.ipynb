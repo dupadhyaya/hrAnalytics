{
 "cells": [
  {
   "cell_type": "markdown",
   "id": "d7fd37bb",
   "metadata": {},
   "source": [
    "## AutoML\n",
    "- under preparation\n",
    "https://automl.github.io/auto-sklearn/master/installation.html\n",
    "conda install auto-sklearn\n",
    "#https://pypi.org/project/auto-sklearn/\n",
    "import autosklearn.regression\n",
    "import autosklearn.classification"
   ]
  },
  {
   "cell_type": "code",
   "execution_count": null,
   "id": "1b7d561a",
   "metadata": {},
   "outputs": [],
   "source": [
    "import autosklearn.classification\n",
    "cls = autosklearn.classification.AutoSklearnClassifier()\n",
    "cls.fit(X_train, y_train)\n",
    "predictions = cls.predict(X_test)"
   ]
  },
  {
   "cell_type": "code",
   "execution_count": null,
   "id": "61839c29",
   "metadata": {},
   "outputs": [],
   "source": [
    "!pip install autosklearn"
   ]
  },
  {
   "cell_type": "code",
   "execution_count": 3,
   "id": "45f76423",
   "metadata": {},
   "outputs": [],
   "source": [
    "import h2o\n",
    "from h2o.automl import H2OAutoML"
   ]
  },
  {
   "cell_type": "code",
   "execution_count": 4,
   "id": "8d39ea6d",
   "metadata": {},
   "outputs": [],
   "source": [
    "#!pip install h2o"
   ]
  },
  {
   "cell_type": "code",
   "execution_count": null,
   "id": "73192a05",
   "metadata": {},
   "outputs": [],
   "source": []
  }
 ],
 "metadata": {
  "kernelspec": {
   "display_name": "Python 3 (ipykernel)",
   "language": "python",
   "name": "python3"
  },
  "language_info": {
   "codemirror_mode": {
    "name": "ipython",
    "version": 3
   },
   "file_extension": ".py",
   "mimetype": "text/x-python",
   "name": "python",
   "nbconvert_exporter": "python",
   "pygments_lexer": "ipython3",
   "version": "3.10.9"
  }
 },
 "nbformat": 4,
 "nbformat_minor": 5
}
