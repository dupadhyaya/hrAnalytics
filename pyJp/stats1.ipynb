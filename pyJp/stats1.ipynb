{
 "cells": [
  {
   "cell_type": "markdown",
   "id": "c0d44df8",
   "metadata": {},
   "source": [
    "# Hypothesis tests"
   ]
  },
  {
   "cell_type": "markdown",
   "id": "1ff348ae",
   "metadata": {},
   "source": [
    "## Terms\n",
    "### Statistics\n",
    "mean\n",
    "median\n",
    "mode\n",
    "skewness\n",
    "kurtosis\n",
    "std\n",
    "var\n",
    "\n",
    "### Population\n",
    "\n",
    "### Sample\n",
    "\n",
    "### Null Hypothesis (Ho)\n",
    "\n",
    "### Alternative Hypothesis(H1/Ha)\n",
    "\n",
    "### Level of Significance\n",
    "Confidence interval is generally called alpha (α). The typical value of alpha (α) is 0.05. This statement implies that there is 95% confidence for the valid conclusion of the test.\n",
    "### P-Value\n",
    "\n"
   ]
  },
  {
   "cell_type": "markdown",
   "id": "1afbfb45",
   "metadata": {},
   "source": [
    "### Tail - 1 or 2\n",
    "-  2 Tail\n",
    "    -  Ho : U1 = U2  ; Ha : U1 != U2 ; alpha = .05 \n",
    "-  1 Tail\n",
    "    - Left : Ho : U1 <= U2  ; Ha : U1 != U2 ;  alpha = .05/2 \n",
    "    - Left : Ho : U1 >= U2  ; Ha : U1 < U2  ;  alpha = .05/2"
   ]
  },
  {
   "cell_type": "code",
   "execution_count": 1,
   "id": "cdcf70f1",
   "metadata": {},
   "outputs": [],
   "source": [
    "import numpy as np\n",
    "p_value = np.array([0.04])\n",
    "alpha = np.array([0.04])"
   ]
  },
  {
   "cell_type": "code",
   "execution_count": 2,
   "id": "aa4d6e37",
   "metadata": {
    "tags": []
   },
   "outputs": [
    {
     "name": "stdout",
     "output_type": "stream",
     "text": [
      "Reject Ho in favour of Ha\n"
     ]
    }
   ],
   "source": [
    "if (p_value > alpha):    print ('Accept Ho & Reject Ha')\n",
    "else:    print ('Reject Ho in favour of Ha')"
   ]
  },
  {
   "cell_type": "code",
   "execution_count": 3,
   "id": "940f2f7b",
   "metadata": {
    "tags": []
   },
   "outputs": [],
   "source": [
    "def testCheck(tn=None, pv=None, a=.05):\n",
    "    if (pv > a ):        print (tn, ' : Accept Ho & Reject Ha : pv=', pv.round(2), ':: a= ', a, ' T/F pv > a is ' , pv < a)\n",
    "    else:        print (tn, ' : Reject Ho in favour of Ha : pv=', pv.round(2), ':: a= ', a, ' T/F pv < a is ', pv < a)"
   ]
  },
  {
   "cell_type": "code",
   "execution_count": 4,
   "id": "b9c252d5",
   "metadata": {},
   "outputs": [
    {
     "name": "stdout",
     "output_type": "stream",
     "text": [
      "Stats  : Reject Ho in favour of Ha : pv= [0.04] :: a=  [0.04]  T/F pv < a is  [False]\n"
     ]
    }
   ],
   "source": [
    "testCheck(tn='Stats', pv=p_value, a=alpha)"
   ]
  },
  {
   "cell_type": "markdown",
   "id": "38e5331e",
   "metadata": {},
   "source": [
    "## Python Libraries\n",
    "-  import scipy.stats as stats\n",
    "-  from scipy.stats import ttest_1samp  # 1 sample t-test\n",
    "-  t_value, p_value = stats.ttest_ind(data1, data2) # 2 sample t-test Independent\n",
    "-  t_value, p_value = stats.ttest_rel(data1, data2)  # 2 sample t-test Dependent/Paired\n",
    "-  https://docs.scipy.org/doc/scipy/reference/stats.html"
   ]
  },
  {
   "cell_type": "markdown",
   "id": "4afb8fa0",
   "metadata": {},
   "source": [
    "# Assumptions in these parameteric tests\n",
    "- Whether the two samples data groups are independent.\n",
    "- Whether the data elements in respective groups follow any normal distribution.\n",
    "- Whether the given two samples have similar variances. This assumption is also known as the homogeneity assumption."
   ]
  },
  {
   "cell_type": "code",
   "execution_count": 5,
   "id": "848bdf11",
   "metadata": {
    "tags": []
   },
   "outputs": [],
   "source": [
    "#import libraries\n",
    "import numpy as np\n",
    "import pandas as pd\n",
    "import scipy.stats as stats"
   ]
  },
  {
   "cell_type": "code",
   "execution_count": 6,
   "id": "3916194b",
   "metadata": {
    "tags": []
   },
   "outputs": [],
   "source": [
    "np.set_printoptions(precision=4)"
   ]
  },
  {
   "cell_type": "markdown",
   "id": "a4b6fa16",
   "metadata": {},
   "source": [
    "## Z tests\n",
    "- z-statistic has a normal distribution\n",
    "-  As per central limit theorem, observations are assumed to be roughly normally distributed as sample size increases.\n",
    "-  Hence the z-test is most effective for samples bigger than 30."
   ]
  },
  {
   "cell_type": "code",
   "execution_count": 7,
   "id": "f77eb47e",
   "metadata": {
    "tags": []
   },
   "outputs": [],
   "source": [
    "from scipy import stats  \n",
    "from statsmodels.stats import weightstats as stests  "
   ]
  },
  {
   "cell_type": "code",
   "execution_count": 8,
   "id": "ac5a3b87",
   "metadata": {
    "tags": []
   },
   "outputs": [
    {
     "name": "stdout",
     "output_type": "stream",
     "text": [
      "20 102.65\n"
     ]
    }
   ],
   "source": [
    "data1 = [89, 93, 95, 93, 97, 98, 96, 99, 93, 97,  110, 104, 119, 105, 104, 110, 110, 112, 115, 114]\n",
    "print(len(data1), np.mean(data1))"
   ]
  },
  {
   "cell_type": "code",
   "execution_count": 9,
   "id": "77900b3a",
   "metadata": {},
   "outputs": [
    {
     "name": "stdout",
     "output_type": "stream",
     "text": [
      "Z-Test : 1 sample -29.114 2.417334226169332e-186 0.0\n"
     ]
    }
   ],
   "source": [
    "alpha = 0.05\n",
    "z_test , p_value = stests.ztest(data1, x2 = None, value = 160)\n",
    "testName = 'Z-Test : 1 sample'\n",
    "print(testName, z_test.round(3), p_value,  p_value.round(3))"
   ]
  },
  {
   "cell_type": "code",
   "execution_count": 10,
   "id": "a184bda8",
   "metadata": {},
   "outputs": [
    {
     "name": "stdout",
     "output_type": "stream",
     "text": [
      "Z-Test : 1 sample  : Reject Ho in favour of Ha : pv= 0.0 :: a=  0.05  T/F pv < a is  True\n"
     ]
    }
   ],
   "source": [
    "testCheck(testName, p_value, alpha)"
   ]
  },
  {
   "cell_type": "markdown",
   "id": "6d1f081d",
   "metadata": {},
   "source": [
    "### Z-test : 2-sample"
   ]
  },
  {
   "cell_type": "code",
   "execution_count": 11,
   "id": "fae15b1e",
   "metadata": {},
   "outputs": [
    {
     "name": "stdout",
     "output_type": "stream",
     "text": [
      "20 20\n",
      "Z-Test : 2 sample :  -1.976 0.04813782199434202 0.048\n"
     ]
    }
   ],
   "source": [
    "data1 = [83, 85, 86, 90, 90, 93, 93, 95, 97, 97, 106, 108, 106, 108, 111, 113, 113, 112, 116, 111]  \n",
    "data2 = [92, 92, 90, 93, 93, 97, 94, 98, 109, 108, 110, 117, 110, 115, 114, 114, 130, 130, 149, 131]  \n",
    "testName = 'Z-Test : 2 sample : '  \n",
    "print(len(data1), len(data2))\n",
    "z_test ,p_value = stests.ztest(x1=data1, x2 = data2, value = 0, alternative = 'two-sided')  \n",
    "print(testName, z_test.round(3), p_value,  p_value.round(3)) "
   ]
  },
  {
   "cell_type": "code",
   "execution_count": 12,
   "id": "b4142502",
   "metadata": {},
   "outputs": [
    {
     "name": "stdout",
     "output_type": "stream",
     "text": [
      "Z-Test : 2 sample :   : Reject Ho in favour of Ha : pv= 0.05 :: a=  0.05  T/F pv < a is  True\n"
     ]
    }
   ],
   "source": [
    "testCheck(testName, p_value, alpha)"
   ]
  },
  {
   "cell_type": "markdown",
   "id": "f5e2a148-cccb-45fc-8672-f99376a732da",
   "metadata": {},
   "source": [
    "# T - Tests\n",
    "- Independent Samples T-test: This test is used to compare the averages or means for two groups.\n",
    "- Paired Sample T-test: This test is used to compare means from the same group at different times (For example, one year apart).\n",
    "- One Sample T-test: This test is used to test the mean of a single group against an acknowledged mean."
   ]
  },
  {
   "cell_type": "markdown",
   "id": "0e2f5d26",
   "metadata": {},
   "source": [
    "## t-test - 1 Sample\n",
    "-  Sample average differs statistically from an actual or assumed population mean\n",
    "-  Sample size < 30\n",
    "<br> eg\n",
    "-  Average age of 10 staff is 30\n",
    "-  Average salaries of 25 staff is 50000"
   ]
  },
  {
   "cell_type": "code",
   "execution_count": 13,
   "id": "074ccd01",
   "metadata": {},
   "outputs": [
    {
     "data": {
      "text/plain": [
       "45.4"
      ]
     },
     "execution_count": 13,
     "metadata": {},
     "output_type": "execute_result"
    }
   ],
   "source": [
    "from scipy.stats import ttest_1samp  \n",
    "data1 = [45, 89, 23, 46, 12, 69, 45, 24, 34, 67]  \n",
    "np.mean(data1)"
   ]
  },
  {
   "cell_type": "code",
   "execution_count": 14,
   "id": "0327ab70",
   "metadata": {},
   "outputs": [
    {
     "data": {
      "text/plain": [
       "False"
      ]
     },
     "execution_count": 14,
     "metadata": {},
     "output_type": "execute_result"
    }
   ],
   "source": [
    "np.mean(data1) == 30"
   ]
  },
  {
   "cell_type": "code",
   "execution_count": 15,
   "id": "2dcc0b40",
   "metadata": {},
   "outputs": [
    {
     "name": "stdout",
     "output_type": "stream",
     "text": [
      "T-Test : 1-sample :  2.04 0.07179988272763561 0.0718 0.05\n"
     ]
    }
   ],
   "source": [
    "testName = 'T-Test : 1-sample : '\n",
    "t_test, p_value = ttest_1samp(data1, 30)\n",
    "alpha = .05\n",
    "print(testName, t_test.round(2), p_value, p_value.round(4), alpha)"
   ]
  },
  {
   "cell_type": "code",
   "execution_count": 16,
   "id": "bfcfcd42",
   "metadata": {},
   "outputs": [
    {
     "name": "stdout",
     "output_type": "stream",
     "text": [
      "T-Test : 1-sample :   : Accept Ho & Reject Ha : pv= 0.07 :: a=  0.05  T/F pv > a is  False\n"
     ]
    }
   ],
   "source": [
    "testCheck(testName, p_value, alpha)  # 2 tail alpha = alpha"
   ]
  },
  {
   "cell_type": "markdown",
   "id": "d4556c33",
   "metadata": {},
   "source": [
    "## t-test - 2 Sample (Independent)\n",
    "2 tails\n",
    "Ho : U1  = U2\n",
    "Ha : U1 != U2\n",
    "egs:\n",
    "-  Is mean salary of Males and Females same.. Here males and females will form different population group, hence idependent\n",
    "-  Is mean age of staff from HR and Marketing Dept same... Here 2 depts will form different population from where samples will be drawn"
   ]
  },
  {
   "cell_type": "markdown",
   "id": "48e9eeb6",
   "metadata": {},
   "source": [
    "### TTest-2SI\n",
    "2 Different classes - Samples are independent\n",
    "We collect heights of 15 students out of 60 from each class\n",
    "-  Ho : mean(class1) = mean(class2)\n",
    "-  Ho : mean(class1) != mean(class2)\n"
   ]
  },
  {
   "cell_type": "code",
   "execution_count": 17,
   "id": "2ead420a",
   "metadata": {},
   "outputs": [
    {
     "name": "stdout",
     "output_type": "stream",
     "text": [
      "20 20\n",
      "7.73 12.26\n",
      "15.15 15.8\n"
     ]
    }
   ],
   "source": [
    "class1 = np.array([14, 15, 15, 16, 13, 8, 14,17, 16, 14, 19, 20, 21, 15, 15, 16, 16, 13, 14, 12])\n",
    "class2 = np.array([15, 17, 14, 17, 14, 8, 12,19, 19, 14, 17, 22, 24, 16, 13, 16, 13, 18, 15, 13])\n",
    "print(len(class1), len(class2))\n",
    "print(np.var(class1).round(2), np.var(class2).round(2)) #variance\n",
    "print(np.mean(class1).round(2), np.mean(class2).round(2))  #mean"
   ]
  },
  {
   "cell_type": "code",
   "execution_count": 18,
   "id": "be577703",
   "metadata": {},
   "outputs": [
    {
     "name": "stdout",
     "output_type": "stream",
     "text": [
      "0.53  : is pvalue < a level for rejecting Ho :  False\n"
     ]
    }
   ],
   "source": [
    "# Perform the two sample t-test with equal variances\n",
    "alpha=.05\n",
    "t_stats, p_value = stats.ttest_ind(a=class1, b=class2, equal_var=True)\n",
    "print(p_value.round(2), ' : is pvalue < a level for rejecting Ho : ', p_value < alpha)\n",
    "#annot reject the null hypothesis of the test.\n",
    "#We do not have sufficient evidence to say that the mean height of students between the two data groups is different."
   ]
  },
  {
   "cell_type": "markdown",
   "id": "43f11656",
   "metadata": {},
   "source": [
    "#### Eg TTest - 2S - Indep"
   ]
  },
  {
   "cell_type": "code",
   "execution_count": 19,
   "id": "1ef76b7c",
   "metadata": {},
   "outputs": [
    {
     "data": {
      "text/html": [
       "<div>\n",
       "<style scoped>\n",
       "    .dataframe tbody tr th:only-of-type {\n",
       "        vertical-align: middle;\n",
       "    }\n",
       "\n",
       "    .dataframe tbody tr th {\n",
       "        vertical-align: top;\n",
       "    }\n",
       "\n",
       "    .dataframe thead th {\n",
       "        text-align: right;\n",
       "    }\n",
       "</style>\n",
       "<table border=\"1\" class=\"dataframe\">\n",
       "  <thead>\n",
       "    <tr style=\"text-align: right;\">\n",
       "      <th></th>\n",
       "      <th>gender</th>\n",
       "      <th>salary</th>\n",
       "    </tr>\n",
       "  </thead>\n",
       "  <tbody>\n",
       "    <tr>\n",
       "      <th>0</th>\n",
       "      <td>M</td>\n",
       "      <td>70368</td>\n",
       "    </tr>\n",
       "    <tr>\n",
       "      <th>1</th>\n",
       "      <td>F</td>\n",
       "      <td>35884</td>\n",
       "    </tr>\n",
       "    <tr>\n",
       "      <th>2</th>\n",
       "      <td>M</td>\n",
       "      <td>70664</td>\n",
       "    </tr>\n",
       "    <tr>\n",
       "      <th>3</th>\n",
       "      <td>F</td>\n",
       "      <td>59589</td>\n",
       "    </tr>\n",
       "    <tr>\n",
       "      <th>4</th>\n",
       "      <td>F</td>\n",
       "      <td>49353</td>\n",
       "    </tr>\n",
       "  </tbody>\n",
       "</table>\n",
       "</div>"
      ],
      "text/plain": [
       "  gender  salary\n",
       "0      M   70368\n",
       "1      F   35884\n",
       "2      M   70664\n",
       "3      F   59589\n",
       "4      F   49353"
      ]
     },
     "execution_count": 19,
     "metadata": {},
     "output_type": "execute_result"
    }
   ],
   "source": [
    "import random\n",
    "gender = random.choices(['M','F'], k=1000, weights=[.6, .4])\n",
    "#pd.Series(gender).value_counts()\n",
    "sal = np.random.randint(low=30000, high=200000, size=1000)\n",
    "salaries = pd.DataFrame({'gender':gender, 'salary':sal})\n",
    "salaries.head()"
   ]
  },
  {
   "cell_type": "code",
   "execution_count": 20,
   "id": "9a58ebd0",
   "metadata": {},
   "outputs": [
    {
     "data": {
      "text/html": [
       "<div>\n",
       "<style scoped>\n",
       "    .dataframe tbody tr th:only-of-type {\n",
       "        vertical-align: middle;\n",
       "    }\n",
       "\n",
       "    .dataframe tbody tr th {\n",
       "        vertical-align: top;\n",
       "    }\n",
       "\n",
       "    .dataframe thead tr th {\n",
       "        text-align: left;\n",
       "    }\n",
       "</style>\n",
       "<table border=\"1\" class=\"dataframe\">\n",
       "  <thead>\n",
       "    <tr>\n",
       "      <th></th>\n",
       "      <th>gender</th>\n",
       "      <th colspan=\"2\" halign=\"left\">salary</th>\n",
       "    </tr>\n",
       "    <tr>\n",
       "      <th></th>\n",
       "      <th></th>\n",
       "      <th>count</th>\n",
       "      <th>mean</th>\n",
       "    </tr>\n",
       "  </thead>\n",
       "  <tbody>\n",
       "    <tr>\n",
       "      <th>0</th>\n",
       "      <td>F</td>\n",
       "      <td>410</td>\n",
       "      <td>114807.0</td>\n",
       "    </tr>\n",
       "    <tr>\n",
       "      <th>1</th>\n",
       "      <td>M</td>\n",
       "      <td>590</td>\n",
       "      <td>110990.0</td>\n",
       "    </tr>\n",
       "  </tbody>\n",
       "</table>\n",
       "</div>"
      ],
      "text/plain": [
       "  gender salary          \n",
       "          count      mean\n",
       "0      F    410  114807.0\n",
       "1      M    590  110990.0"
      ]
     },
     "execution_count": 20,
     "metadata": {},
     "output_type": "execute_result"
    }
   ],
   "source": [
    "salaries.groupby('gender').agg(['count', np.mean]).reset_index().round()"
   ]
  },
  {
   "cell_type": "code",
   "execution_count": 21,
   "id": "32ce8b98",
   "metadata": {},
   "outputs": [
    {
     "data": {
      "text/html": [
       "<div>\n",
       "<style scoped>\n",
       "    .dataframe tbody tr th:only-of-type {\n",
       "        vertical-align: middle;\n",
       "    }\n",
       "\n",
       "    .dataframe tbody tr th {\n",
       "        vertical-align: top;\n",
       "    }\n",
       "\n",
       "    .dataframe thead th {\n",
       "        text-align: right;\n",
       "    }\n",
       "</style>\n",
       "<table border=\"1\" class=\"dataframe\">\n",
       "  <thead>\n",
       "    <tr style=\"text-align: right;\">\n",
       "      <th></th>\n",
       "      <th>mSal</th>\n",
       "      <th>fSal</th>\n",
       "    </tr>\n",
       "  </thead>\n",
       "  <tbody>\n",
       "    <tr>\n",
       "      <th>0</th>\n",
       "      <td>86810</td>\n",
       "      <td>148932</td>\n",
       "    </tr>\n",
       "    <tr>\n",
       "      <th>1</th>\n",
       "      <td>168353</td>\n",
       "      <td>76887</td>\n",
       "    </tr>\n",
       "    <tr>\n",
       "      <th>2</th>\n",
       "      <td>189414</td>\n",
       "      <td>96843</td>\n",
       "    </tr>\n",
       "    <tr>\n",
       "      <th>3</th>\n",
       "      <td>125728</td>\n",
       "      <td>135463</td>\n",
       "    </tr>\n",
       "    <tr>\n",
       "      <th>4</th>\n",
       "      <td>122573</td>\n",
       "      <td>199411</td>\n",
       "    </tr>\n",
       "    <tr>\n",
       "      <th>5</th>\n",
       "      <td>157609</td>\n",
       "      <td>98025</td>\n",
       "    </tr>\n",
       "    <tr>\n",
       "      <th>6</th>\n",
       "      <td>123799</td>\n",
       "      <td>161529</td>\n",
       "    </tr>\n",
       "    <tr>\n",
       "      <th>7</th>\n",
       "      <td>107623</td>\n",
       "      <td>56775</td>\n",
       "    </tr>\n",
       "    <tr>\n",
       "      <th>8</th>\n",
       "      <td>146515</td>\n",
       "      <td>62441</td>\n",
       "    </tr>\n",
       "    <tr>\n",
       "      <th>9</th>\n",
       "      <td>69323</td>\n",
       "      <td>150549</td>\n",
       "    </tr>\n",
       "  </tbody>\n",
       "</table>\n",
       "</div>"
      ],
      "text/plain": [
       "     mSal    fSal\n",
       "0   86810  148932\n",
       "1  168353   76887\n",
       "2  189414   96843\n",
       "3  125728  135463\n",
       "4  122573  199411\n",
       "5  157609   98025\n",
       "6  123799  161529\n",
       "7  107623   56775\n",
       "8  146515   62441\n",
       "9   69323  150549"
      ]
     },
     "execution_count": 21,
     "metadata": {},
     "output_type": "execute_result"
    }
   ],
   "source": [
    "# 10 samples of each of male and female\n",
    "mSal = salaries.loc[salaries['gender']=='M', 'salary'].sample(n=10).tolist()\n",
    "fSal = salaries.loc[salaries['gender']=='M', 'salary'].sample(n=10).tolist()\n",
    "genderSal = pd.DataFrame({'mSal':mSal, 'fSal':fSal})\n",
    "genderSal"
   ]
  },
  {
   "cell_type": "code",
   "execution_count": 22,
   "id": "732593aa",
   "metadata": {},
   "outputs": [
    {
     "data": {
      "text/html": [
       "<div>\n",
       "<style scoped>\n",
       "    .dataframe tbody tr th:only-of-type {\n",
       "        vertical-align: middle;\n",
       "    }\n",
       "\n",
       "    .dataframe tbody tr th {\n",
       "        vertical-align: top;\n",
       "    }\n",
       "\n",
       "    .dataframe thead th {\n",
       "        text-align: right;\n",
       "    }\n",
       "</style>\n",
       "<table border=\"1\" class=\"dataframe\">\n",
       "  <thead>\n",
       "    <tr style=\"text-align: right;\">\n",
       "      <th></th>\n",
       "      <th>mSal</th>\n",
       "      <th>fSal</th>\n",
       "    </tr>\n",
       "  </thead>\n",
       "  <tbody>\n",
       "    <tr>\n",
       "      <th>mean</th>\n",
       "      <td>129775.0</td>\n",
       "      <td>118686.0</td>\n",
       "    </tr>\n",
       "    <tr>\n",
       "      <th>std</th>\n",
       "      <td>36811.0</td>\n",
       "      <td>47389.0</td>\n",
       "    </tr>\n",
       "    <tr>\n",
       "      <th>count</th>\n",
       "      <td>10.0</td>\n",
       "      <td>10.0</td>\n",
       "    </tr>\n",
       "    <tr>\n",
       "      <th>amin</th>\n",
       "      <td>69323.0</td>\n",
       "      <td>56775.0</td>\n",
       "    </tr>\n",
       "    <tr>\n",
       "      <th>amax</th>\n",
       "      <td>189414.0</td>\n",
       "      <td>199411.0</td>\n",
       "    </tr>\n",
       "  </tbody>\n",
       "</table>\n",
       "</div>"
      ],
      "text/plain": [
       "           mSal      fSal\n",
       "mean   129775.0  118686.0\n",
       "std     36811.0   47389.0\n",
       "count      10.0      10.0\n",
       "amin    69323.0   56775.0\n",
       "amax   189414.0  199411.0"
      ]
     },
     "execution_count": 22,
     "metadata": {},
     "output_type": "execute_result"
    }
   ],
   "source": [
    "genderSal.agg([np.mean, np.std, 'count', np.min, np.max]).round()"
   ]
  },
  {
   "cell_type": "code",
   "execution_count": 23,
   "id": "fc5853b3",
   "metadata": {},
   "outputs": [
    {
     "name": "stdout",
     "output_type": "stream",
     "text": [
      ": T-Test 2-sample IND :  0.58 0.57 0.5662 0.05\n"
     ]
    }
   ],
   "source": [
    "# H test\n",
    "testName = ': T-Test 2-sample IND : '\n",
    "from scipy.stats import ttest_ind  \n",
    "alpha = .05\n",
    "t_test,p_value = ttest_ind(genderSal.mSal, genderSal.fSal)\n",
    "print(testName, t_test.round(2), p_value.round(2), p_value.round(4), alpha)"
   ]
  },
  {
   "cell_type": "code",
   "execution_count": 24,
   "id": "878d54f9",
   "metadata": {},
   "outputs": [
    {
     "name": "stdout",
     "output_type": "stream",
     "text": [
      ": T-Test 2-sample IND :   : Accept Ho & Reject Ha : pv= 0.57 :: a=  0.05  T/F pv > a is  False\n"
     ]
    }
   ],
   "source": [
    "testCheck(testName, p_value, alpha) "
   ]
  },
  {
   "cell_type": "code",
   "execution_count": 25,
   "id": "ea6b6a0e",
   "metadata": {},
   "outputs": [],
   "source": [
    "#eg - Part 2: R Style Data frame : statsmodels\n",
    "from statsmodels.stats.weightstats import ttest_ind"
   ]
  },
  {
   "cell_type": "code",
   "execution_count": 26,
   "id": "c7624bd1",
   "metadata": {},
   "outputs": [
    {
     "name": "stdout",
     "output_type": "stream",
     "text": [
      "T_Stats : 0.58  P Value :  0.57  Degrees of Freedom  18.0\n"
     ]
    }
   ],
   "source": [
    "t_stats, p_value, dof = ttest_ind(genderSal['mSal'], genderSal['fSal'])\n",
    "print('T_Stats :', t_stats.round(2), ' P Value : ', p_value.round(2), ' Degrees of Freedom ', dof)"
   ]
  },
  {
   "cell_type": "code",
   "execution_count": 27,
   "id": "88ca9770",
   "metadata": {},
   "outputs": [
    {
     "name": "stdout",
     "output_type": "stream",
     "text": [
      ": T-Test 2-sample IND :   : Accept Ho & Reject Ha : pv= 0.57 :: a=  0.05  T/F pv > a is  False\n"
     ]
    }
   ],
   "source": [
    "testCheck(testName, p_value, alpha)\n",
    "#average height of students of class1 is not statistically different from class2"
   ]
  },
  {
   "cell_type": "code",
   "execution_count": 28,
   "id": "c566ea08",
   "metadata": {},
   "outputs": [],
   "source": [
    "#end"
   ]
  },
  {
   "cell_type": "markdown",
   "id": "c6c514f0",
   "metadata": {},
   "source": [
    "## t-test - 2 Sample (Dependent) / Paired\n",
    "2 tails  : Ho : U1 = U2 ; Ha : U1 <= U2 \n",
    "1 tail   : Ho : U1 = U2 ; Ha : U1 != U2\n",
    "<br> Same set of people (Paired/Dependent); Measure if there was any change.\n",
    "<br> Medicene is sent to market if there are positive changes only (trials)\n",
    "egs\n",
    "-  Persons BP before and after medications\n",
    "-  Performance of staff before and after training\n",
    "-  Performance of staff during covid and after covid"
   ]
  },
  {
   "cell_type": "code",
   "execution_count": 29,
   "id": "86603411",
   "metadata": {},
   "outputs": [],
   "source": [
    "alpha = 0.05\n",
    "beforeTrg =[23, 20, 19, 21, 18, 20, 18, 17, 23, 16, 19] #d1\n",
    "afterTrg = [24, 19, 22, 18, 20, 22, 20, 20, 23, 20, 18] #d2"
   ]
  },
  {
   "cell_type": "code",
   "execution_count": 30,
   "id": "f5f48fa1",
   "metadata": {},
   "outputs": [
    {
     "name": "stdout",
     "output_type": "stream",
     "text": [
      "19.45\n",
      "20.55\n",
      "11\n"
     ]
    }
   ],
   "source": [
    "print(np.mean(beforeTrg).round(2)), print(np.mean(afterTrg).round(2))\n",
    "print(len(beforeTrg))\n",
    "#some improvement, but statistically check the data"
   ]
  },
  {
   "cell_type": "code",
   "execution_count": 31,
   "id": "e43c6f85",
   "metadata": {},
   "outputs": [],
   "source": [
    "testName = 'T-Test 2-sample Paired/Dependent '\n",
    "t_value,p_value=stats.ttest_rel(beforeTrg, afterTrg)"
   ]
  },
  {
   "cell_type": "code",
   "execution_count": 32,
   "id": "3cb0ac68",
   "metadata": {},
   "outputs": [
    {
     "name": "stdout",
     "output_type": "stream",
     "text": [
      "T-Test 2-sample Paired/Dependent  T-Stats =  -1.71  : P-Value =  0.12  : Significance Level alpha =  0.05\n"
     ]
    }
   ],
   "source": [
    "print(testName, 'T-Stats = ', t_value.round(2) , ' : P-Value = ', p_value.round(2), ' : Significance Level alpha = ', alpha)"
   ]
  },
  {
   "cell_type": "code",
   "execution_count": 33,
   "id": "25498774",
   "metadata": {},
   "outputs": [
    {
     "name": "stdout",
     "output_type": "stream",
     "text": [
      "T-Test 2-sample Paired/Dependent   : Accept Ho & Reject Ha : pv= 0.12 :: a=  0.05  T/F pv > a is  False\n"
     ]
    }
   ],
   "source": [
    "testCheck(testName, p_value, alpha) "
   ]
  },
  {
   "cell_type": "code",
   "execution_count": 34,
   "id": "bd080574",
   "metadata": {},
   "outputs": [],
   "source": [
    "#employees have not benefitted from the training \n",
    "#Sampling was done for 100 times. More than 5 times , \n",
    "#it was found that mean values before and after trg did not vary much at 5% significance level"
   ]
  },
  {
   "cell_type": "markdown",
   "id": "941100ec",
   "metadata": {},
   "source": [
    "## Anova \n",
    "1 way F-test : Compare 2 group\n",
    "if there are more than 2 groups, each group is compared with other in combination\n",
    "It can be determined whether groups are similar or not "
   ]
  },
  {
   "cell_type": "code",
   "execution_count": 35,
   "id": "ffa29d5c",
   "metadata": {},
   "outputs": [
    {
     "name": "stdout",
     "output_type": "stream",
     "text": [
      "\n",
      " Data [0.0842, 0.0368, 0.0847, 0.0935, 0.0376, 0.0963, 0.0684, 0.0758, 0.0854, 0.0855] \n",
      " [0.0785, 0.0845, 0.0758, 0.0853, 0.0946, 0.0785, 0.0853, 0.0685] \n",
      " [0.0864, 0.2522, 0.0894, 0.2724, 0.0853, 0.1367, 0.853]\n",
      "\n",
      " Length :\t10\t8\t7\n",
      "\n",
      " Mean : \t0.07\t0.08\t0.25\n",
      "\n",
      " SD : \t0.020235997627989583\t0.0073216715987539345\t0.2553831111671008\n"
     ]
    }
   ],
   "source": [
    "#data\n",
    "np.set_printoptions(precision=4)\n",
    "data1 = [0.0842, 0.0368, 0.0847, 0.0935, 0.0376, 0.0963, 0.0684, 0.0758, 0.0854, 0.0855]  \n",
    "data2 = [0.0785, 0.0845, 0.0758, 0.0853, 0.0946, 0.0785, 0.0853, 0.0685]  \n",
    "data3 = [0.0864, 0.2522, 0.0894, 0.2724, 0.0853, 0.1367, 0.853] \n",
    "print('\\n Data', data1, '\\n',data2, '\\n', data3)\n",
    "print(\"\\n Length :\",  np.count_nonzero(data1),  np.count_nonzero(data2),  len(data3), sep='\\t')\n",
    "print(\"\\n Mean : \", np.mean(data1).round(2), np.mean(data2).round(2), np.mean(data3).round(2), sep='\\t')\n",
    "print(\"\\n SD : \", np.std(data1), np.std(data2), np.std(data3), sep='\\t' )"
   ]
  },
  {
   "cell_type": "code",
   "execution_count": 36,
   "id": "aa108b3d",
   "metadata": {},
   "outputs": [],
   "source": [
    "import scipy.stats \n",
    "testName = 'Anova (F-Test) : more than 2 group'\n",
    "f_test, p_value = scipy.stats.f_oneway(data1, data2, data3)  "
   ]
  },
  {
   "cell_type": "code",
   "execution_count": 37,
   "id": "b1b16241",
   "metadata": {},
   "outputs": [
    {
     "name": "stdout",
     "output_type": "stream",
     "text": [
      "Anova (F-Test) : more than 2 group 3.72 0.04 0.0404 0.05\n"
     ]
    }
   ],
   "source": [
    "print(testName, f_test.round(2), p_value.round(2), p_value.round(4), alpha)"
   ]
  },
  {
   "cell_type": "code",
   "execution_count": 38,
   "id": "edb65a40",
   "metadata": {},
   "outputs": [
    {
     "name": "stdout",
     "output_type": "stream",
     "text": [
      "Anova (F-Test) : more than 2 group  : Reject Ho in favour of Ha : pv= 0.04 :: a=  0.05  T/F pv < a is  True\n"
     ]
    }
   ],
   "source": [
    "testCheck(testName, p_value, alpha) \n",
    "#No 2 groups are same"
   ]
  },
  {
   "cell_type": "markdown",
   "id": "5fb64554-c39b-4c98-bb40-59ca94ac2fce",
   "metadata": {},
   "source": [
    "### eg Blood Pressure : Before and After ----\n",
    "https://www.pythonfordatascience.org/independent-samples-t-test-python/#ttest_scipy_stats"
   ]
  },
  {
   "cell_type": "code",
   "execution_count": 39,
   "id": "f9a9693b-a5e0-42a7-89e2-a4bf02b3e6f5",
   "metadata": {
    "tags": []
   },
   "outputs": [
    {
     "ename": "ModuleNotFoundError",
     "evalue": "No module named 'researchpy'",
     "output_type": "error",
     "traceback": [
      "\u001b[1;31m---------------------------------------------------------------------------\u001b[0m",
      "\u001b[1;31mModuleNotFoundError\u001b[0m                       Traceback (most recent call last)",
      "Cell \u001b[1;32mIn[39], line 1\u001b[0m\n\u001b[1;32m----> 1\u001b[0m \u001b[38;5;28;01mimport\u001b[39;00m \u001b[38;5;21;01mresearchpy\u001b[39;00m \u001b[38;5;28;01mas\u001b[39;00m \u001b[38;5;21;01mrp\u001b[39;00m\n",
      "\u001b[1;31mModuleNotFoundError\u001b[0m: No module named 'researchpy'"
     ]
    }
   ],
   "source": [
    "import researchpy as rp"
   ]
  },
  {
   "cell_type": "code",
   "execution_count": null,
   "id": "0ac9a0c7-dc55-4c48-be7d-6e6f9ddb7543",
   "metadata": {
    "tags": []
   },
   "outputs": [],
   "source": [
    "df = pd.read_csv(\"https://raw.githubusercontent.com/researchpy/Data-sets/master/blood_pressure.csv\")\n",
    "df.info()"
   ]
  },
  {
   "cell_type": "code",
   "execution_count": null,
   "id": "44c90d82-6645-4a09-9406-7aa64abcdf92",
   "metadata": {
    "tags": []
   },
   "outputs": [],
   "source": [
    "df.head()"
   ]
  },
  {
   "cell_type": "code",
   "execution_count": null,
   "id": "e4b6abfc-4251-4ec7-9ad9-5de0252d0490",
   "metadata": {
    "tags": []
   },
   "outputs": [],
   "source": [
    "rp.ttest(group1= df['bp_after'][df['sex'] == 'Male'], group1_name= \"Male\",   group2= df['bp_after'][df['sex'] == 'Female'], group2_name= \"Female\")\n"
   ]
  },
  {
   "cell_type": "code",
   "execution_count": null,
   "id": "a6d11872-ff18-414c-ab20-cb6daf3b06d4",
   "metadata": {
    "tags": []
   },
   "outputs": [],
   "source": [
    "summary, results = rp.ttest(group1= df['bp_after'][df['sex'] == 'Male'], group1_name= \"Male\",\n",
    "                            group2= df['bp_after'][df['sex'] == 'Female'], group2_name= \"Female\")\n",
    "print(summary)"
   ]
  },
  {
   "cell_type": "code",
   "execution_count": null,
   "id": "fdf7ef78-303f-4307-8147-f75c22c75529",
   "metadata": {
    "tags": []
   },
   "outputs": [],
   "source": [
    "print(results)"
   ]
  },
  {
   "cell_type": "code",
   "execution_count": null,
   "id": "dc28c448-9488-4e0d-838a-df45d2050dca",
   "metadata": {
    "tags": []
   },
   "outputs": [],
   "source": [
    "import scipy.stats as stats\n",
    "stats.ttest_ind(df['bp_after'][df['sex'] == 'Male'],  df['bp_after'][df['sex'] == 'Female'])"
   ]
  },
  {
   "cell_type": "code",
   "execution_count": null,
   "id": "9668df8c-c35d-4c0f-bbec-789f3d685173",
   "metadata": {},
   "outputs": [],
   "source": [
    "#here is a statistically significant difference in the average post blood pressure \n",
    "#between males and females, t= 3.3480, p= 0.001."
   ]
  },
  {
   "cell_type": "markdown",
   "id": "3e5b6099",
   "metadata": {},
   "source": [
    "## Chi-Square\n",
    "- This test is used when two categorized variables are from the same population. Its purpose is to decide if the two elements are significantly associated. chi-square test evaluating independence.\n",
    "<br> eg\n",
    "- employees giving feedback on org culture : Gender(M/F) - Feedback Rating(Good/Satisfactory/Poor). Does Gender has effect on ratings\n",
    "- Large Sample size, 2 nominal/categorical variables\n",
    "- Types \n",
    "    -  Independence : whether feedback type is related to gender type\n",
    "    -  Goodness of fit : Values of feedback fit our belief from gender types"
   ]
  },
  {
   "cell_type": "code",
   "execution_count": null,
   "id": "f99e19a4",
   "metadata": {},
   "outputs": [],
   "source": [
    "from scipy.stats import chi2_contingency  \n",
    "testName = 'Chi Square Test for Independence'"
   ]
  },
  {
   "cell_type": "markdown",
   "id": "134b1004",
   "metadata": {},
   "source": [
    "Ho : Gender and Feedback variables do not have correlation\n",
    "H1 : Gender and Feedback variables have correlation : Males & Female have pattern in giving feedback"
   ]
  },
  {
   "cell_type": "code",
   "execution_count": 40,
   "id": "8da8b7d8",
   "metadata": {},
   "outputs": [
    {
     "data": {
      "text/html": [
       "<div>\n",
       "<style scoped>\n",
       "    .dataframe tbody tr th:only-of-type {\n",
       "        vertical-align: middle;\n",
       "    }\n",
       "\n",
       "    .dataframe tbody tr th {\n",
       "        vertical-align: top;\n",
       "    }\n",
       "\n",
       "    .dataframe thead th {\n",
       "        text-align: right;\n",
       "    }\n",
       "</style>\n",
       "<table border=\"1\" class=\"dataframe\">\n",
       "  <thead>\n",
       "    <tr style=\"text-align: right;\">\n",
       "      <th></th>\n",
       "      <th>gender</th>\n",
       "      <th>feedback</th>\n",
       "    </tr>\n",
       "  </thead>\n",
       "  <tbody>\n",
       "    <tr>\n",
       "      <th>0</th>\n",
       "      <td>M</td>\n",
       "      <td>Poor</td>\n",
       "    </tr>\n",
       "    <tr>\n",
       "      <th>1</th>\n",
       "      <td>M</td>\n",
       "      <td>Good</td>\n",
       "    </tr>\n",
       "    <tr>\n",
       "      <th>2</th>\n",
       "      <td>F</td>\n",
       "      <td>Good</td>\n",
       "    </tr>\n",
       "    <tr>\n",
       "      <th>3</th>\n",
       "      <td>F</td>\n",
       "      <td>Good</td>\n",
       "    </tr>\n",
       "    <tr>\n",
       "      <th>4</th>\n",
       "      <td>F</td>\n",
       "      <td>Satisfactory</td>\n",
       "    </tr>\n",
       "  </tbody>\n",
       "</table>\n",
       "</div>"
      ],
      "text/plain": [
       "  gender      feedback\n",
       "0      M          Poor\n",
       "1      M          Good\n",
       "2      F          Good\n",
       "3      F          Good\n",
       "4      F  Satisfactory"
      ]
     },
     "execution_count": 40,
     "metadata": {},
     "output_type": "execute_result"
    }
   ],
   "source": [
    "#create data\n",
    "random.seed(100)\n",
    "gender = random.choices(['M','F'], k=1000, weights=[.6, .4])\n",
    "random.seed(115)\n",
    "feedback = random.choices(['Good','Satisfactory','Poor'], k=1000, weights=[.4, .3,.2])\n",
    "empFeedback = pd.DataFrame({'gender':gender, 'feedback':feedback})\n",
    "empFeedback.head()"
   ]
  },
  {
   "cell_type": "code",
   "execution_count": 41,
   "id": "a84cf434",
   "metadata": {},
   "outputs": [
    {
     "data": {
      "text/html": [
       "<div>\n",
       "<style scoped>\n",
       "    .dataframe tbody tr th:only-of-type {\n",
       "        vertical-align: middle;\n",
       "    }\n",
       "\n",
       "    .dataframe tbody tr th {\n",
       "        vertical-align: top;\n",
       "    }\n",
       "\n",
       "    .dataframe thead th {\n",
       "        text-align: right;\n",
       "    }\n",
       "</style>\n",
       "<table border=\"1\" class=\"dataframe\">\n",
       "  <thead>\n",
       "    <tr style=\"text-align: right;\">\n",
       "      <th>feedback</th>\n",
       "      <th>Good</th>\n",
       "      <th>Poor</th>\n",
       "      <th>Satisfactory</th>\n",
       "    </tr>\n",
       "    <tr>\n",
       "      <th>gender</th>\n",
       "      <th></th>\n",
       "      <th></th>\n",
       "      <th></th>\n",
       "    </tr>\n",
       "  </thead>\n",
       "  <tbody>\n",
       "    <tr>\n",
       "      <th>F</th>\n",
       "      <td>149</td>\n",
       "      <td>98</td>\n",
       "      <td>156</td>\n",
       "    </tr>\n",
       "    <tr>\n",
       "      <th>M</th>\n",
       "      <td>251</td>\n",
       "      <td>140</td>\n",
       "      <td>206</td>\n",
       "    </tr>\n",
       "  </tbody>\n",
       "</table>\n",
       "</div>"
      ],
      "text/plain": [
       "feedback  Good  Poor  Satisfactory\n",
       "gender                            \n",
       "F          149    98           156\n",
       "M          251   140           206"
      ]
     },
     "execution_count": 41,
     "metadata": {},
     "output_type": "execute_result"
    }
   ],
   "source": [
    "empF1 = pd.crosstab(empFeedback['gender'],empFeedback['feedback'])\n",
    "empF1"
   ]
  },
  {
   "cell_type": "code",
   "execution_count": 42,
   "id": "f50d808a",
   "metadata": {},
   "outputs": [
    {
     "data": {
      "text/plain": [
       "gender\n",
       "F    403\n",
       "M    597\n",
       "dtype: int64"
      ]
     },
     "execution_count": 42,
     "metadata": {},
     "output_type": "execute_result"
    }
   ],
   "source": [
    "empF1.sum(axis=1)\n",
    "#data = [[149, 98, 156],[251, 140, 206]]"
   ]
  },
  {
   "cell_type": "code",
   "execution_count": 43,
   "id": "b5b28636",
   "metadata": {},
   "outputs": [
    {
     "data": {
      "text/html": [
       "<div>\n",
       "<style scoped>\n",
       "    .dataframe tbody tr th:only-of-type {\n",
       "        vertical-align: middle;\n",
       "    }\n",
       "\n",
       "    .dataframe tbody tr th {\n",
       "        vertical-align: top;\n",
       "    }\n",
       "\n",
       "    .dataframe thead th {\n",
       "        text-align: right;\n",
       "    }\n",
       "</style>\n",
       "<table border=\"1\" class=\"dataframe\">\n",
       "  <thead>\n",
       "    <tr style=\"text-align: right;\">\n",
       "      <th>feedback</th>\n",
       "      <th>Good</th>\n",
       "      <th>Poor</th>\n",
       "      <th>Satisfactory</th>\n",
       "    </tr>\n",
       "    <tr>\n",
       "      <th>gender</th>\n",
       "      <th></th>\n",
       "      <th></th>\n",
       "      <th></th>\n",
       "    </tr>\n",
       "  </thead>\n",
       "  <tbody>\n",
       "    <tr>\n",
       "      <th>F</th>\n",
       "      <td>0.37</td>\n",
       "      <td>0.24</td>\n",
       "      <td>0.39</td>\n",
       "    </tr>\n",
       "    <tr>\n",
       "      <th>M</th>\n",
       "      <td>0.42</td>\n",
       "      <td>0.23</td>\n",
       "      <td>0.35</td>\n",
       "    </tr>\n",
       "  </tbody>\n",
       "</table>\n",
       "</div>"
      ],
      "text/plain": [
       "feedback  Good  Poor  Satisfactory\n",
       "gender                            \n",
       "F         0.37  0.24          0.39\n",
       "M         0.42  0.23          0.35"
      ]
     },
     "execution_count": 43,
     "metadata": {},
     "output_type": "execute_result"
    }
   ],
   "source": [
    "empF1.div(empF1.sum(axis=1), axis=0).round(2)"
   ]
  },
  {
   "cell_type": "code",
   "execution_count": 44,
   "id": "f387c6ee",
   "metadata": {},
   "outputs": [
    {
     "name": "stdout",
     "output_type": "stream",
     "text": [
      "[[149  98 156]\n",
      " [251 140 206]]\n"
     ]
    }
   ],
   "source": [
    "#data = [[231, 256, 321], [245, 312, 213]]  \n",
    "data = [[149, 98, 156],[251, 140, 206]]\n",
    "print(np.array(data))"
   ]
  },
  {
   "cell_type": "code",
   "execution_count": 45,
   "id": "ff709194",
   "metadata": {},
   "outputs": [
    {
     "ename": "NameError",
     "evalue": "name 'chi2_contingency' is not defined",
     "output_type": "error",
     "traceback": [
      "\u001b[1;31m---------------------------------------------------------------------------\u001b[0m",
      "\u001b[1;31mNameError\u001b[0m                                 Traceback (most recent call last)",
      "Cell \u001b[1;32mIn[45], line 1\u001b[0m\n\u001b[1;32m----> 1\u001b[0m test, p_value, dof, expected_val \u001b[38;5;241m=\u001b[39m \u001b[43mchi2_contingency\u001b[49m(data)  \n\u001b[0;32m      2\u001b[0m \u001b[38;5;28mprint\u001b[39m(testName, f_test\u001b[38;5;241m.\u001b[39mround(\u001b[38;5;241m2\u001b[39m), p_value\u001b[38;5;241m.\u001b[39mround(\u001b[38;5;241m2\u001b[39m), p_value\u001b[38;5;241m.\u001b[39mround(\u001b[38;5;241m4\u001b[39m), alpha)\n",
      "\u001b[1;31mNameError\u001b[0m: name 'chi2_contingency' is not defined"
     ]
    }
   ],
   "source": [
    "test, p_value, dof, expected_val = chi2_contingency(data)  \n",
    "print(testName, f_test.round(2), p_value.round(2), p_value.round(4), alpha)"
   ]
  },
  {
   "cell_type": "code",
   "execution_count": 46,
   "id": "6a5f4e1e",
   "metadata": {},
   "outputs": [
    {
     "ename": "NameError",
     "evalue": "name 'chi2_contingency' is not defined",
     "output_type": "error",
     "traceback": [
      "\u001b[1;31m---------------------------------------------------------------------------\u001b[0m",
      "\u001b[1;31mNameError\u001b[0m                                 Traceback (most recent call last)",
      "Cell \u001b[1;32mIn[46], line 1\u001b[0m\n\u001b[1;32m----> 1\u001b[0m test, p_value, dof, expected_val \u001b[38;5;241m=\u001b[39m \u001b[43mchi2_contingency\u001b[49m(empF1)  \n\u001b[0;32m      2\u001b[0m \u001b[38;5;28mprint\u001b[39m(testName, f_test\u001b[38;5;241m.\u001b[39mround(\u001b[38;5;241m2\u001b[39m), p_value\u001b[38;5;241m.\u001b[39mround(\u001b[38;5;241m2\u001b[39m), p_value\u001b[38;5;241m.\u001b[39mround(\u001b[38;5;241m4\u001b[39m), alpha)\n",
      "\u001b[1;31mNameError\u001b[0m: name 'chi2_contingency' is not defined"
     ]
    }
   ],
   "source": [
    "test, p_value, dof, expected_val = chi2_contingency(empF1)  \n",
    "print(testName, f_test.round(2), p_value.round(2), p_value.round(4), alpha)"
   ]
  },
  {
   "cell_type": "code",
   "execution_count": 47,
   "id": "838b47aa",
   "metadata": {},
   "outputs": [
    {
     "name": "stdout",
     "output_type": "stream",
     "text": [
      "Anova (F-Test) : more than 2 group  : Reject Ho in favour of Ha : pv= 0.04 :: a=  0.05  T/F pv < a is  True\n"
     ]
    }
   ],
   "source": [
    "testCheck(testName, p_value, alpha) \n",
    "#if pvalue < .05, strong correlation between gender and feedback type else gender and feedback are independent\n",
    "#here pvalue > .05, hence, the gender and feedback are not related"
   ]
  },
  {
   "cell_type": "code",
   "execution_count": 48,
   "id": "d80b95d1",
   "metadata": {},
   "outputs": [
    {
     "ename": "NameError",
     "evalue": "name 'chi2_contingency' is not defined",
     "output_type": "error",
     "traceback": [
      "\u001b[1;31m---------------------------------------------------------------------------\u001b[0m",
      "\u001b[1;31mNameError\u001b[0m                                 Traceback (most recent call last)",
      "Cell \u001b[1;32mIn[48], line 2\u001b[0m\n\u001b[0;32m      1\u001b[0m data \u001b[38;5;241m=\u001b[39m [[\u001b[38;5;241m207\u001b[39m, \u001b[38;5;241m282\u001b[39m, \u001b[38;5;241m241\u001b[39m], [\u001b[38;5;241m234\u001b[39m, \u001b[38;5;241m242\u001b[39m, \u001b[38;5;241m232\u001b[39m]]\n\u001b[1;32m----> 2\u001b[0m stat, p, dof, expected \u001b[38;5;241m=\u001b[39m \u001b[43mchi2_contingency\u001b[49m(data)\n\u001b[0;32m      3\u001b[0m \u001b[38;5;28mprint\u001b[39m(p)\n",
      "\u001b[1;31mNameError\u001b[0m: name 'chi2_contingency' is not defined"
     ]
    }
   ],
   "source": [
    "data = [[207, 282, 241], [234, 242, 232]]\n",
    "stat, p, dof, expected = chi2_contingency(data)\n",
    "print(p) #  Ho - indep"
   ]
  },
  {
   "cell_type": "code",
   "execution_count": 360,
   "id": "f2d500ce",
   "metadata": {},
   "outputs": [
    {
     "name": "stdout",
     "output_type": "stream",
     "text": [
      "0.24695302988409282\n"
     ]
    }
   ],
   "source": [
    "data = [[149, 98, 156],[251, 140, 206]]\n",
    "stat, p, dof, expected = chi2_contingency(data)\n",
    "print(p) # Ho - indep"
   ]
  },
  {
   "cell_type": "code",
   "execution_count": 363,
   "id": "a95d9c9f",
   "metadata": {},
   "outputs": [
    {
     "name": "stdout",
     "output_type": "stream",
     "text": [
      "   BJP  Congress  Independent\n",
      "M  200       150           50\n",
      "F  250       300           50\n",
      "0.0003029775487145488\n"
     ]
    }
   ],
   "source": [
    "M=[200,150,50]\n",
    "F=[250,300,50]\n",
    "cn=[\"BJP\",\"Congress\", \"Independent\"]\n",
    "data = pd.DataFrame({'BJP':[200, 250], 'Congress':[150, 300], 'Independent':[50, 50]}, index=['M','F'])\n",
    "print(data)\n",
    "stat, p, dof, expected = chi2_contingency(data)\n",
    "print(p) # Reject Ho, Accept Ha : gender-Party dependent"
   ]
  },
  {
   "cell_type": "code",
   "execution_count": 364,
   "id": "ba95b53f",
   "metadata": {},
   "outputs": [
    {
     "data": {
      "text/html": [
       "<div>\n",
       "<style scoped>\n",
       "    .dataframe tbody tr th:only-of-type {\n",
       "        vertical-align: middle;\n",
       "    }\n",
       "\n",
       "    .dataframe tbody tr th {\n",
       "        vertical-align: top;\n",
       "    }\n",
       "\n",
       "    .dataframe thead th {\n",
       "        text-align: right;\n",
       "    }\n",
       "</style>\n",
       "<table border=\"1\" class=\"dataframe\">\n",
       "  <thead>\n",
       "    <tr style=\"text-align: right;\">\n",
       "      <th></th>\n",
       "      <th>BJP</th>\n",
       "      <th>Congress</th>\n",
       "      <th>Independent</th>\n",
       "    </tr>\n",
       "  </thead>\n",
       "  <tbody>\n",
       "    <tr>\n",
       "      <th>M</th>\n",
       "      <td>0.50</td>\n",
       "      <td>0.38</td>\n",
       "      <td>0.12</td>\n",
       "    </tr>\n",
       "    <tr>\n",
       "      <th>F</th>\n",
       "      <td>0.42</td>\n",
       "      <td>0.50</td>\n",
       "      <td>0.08</td>\n",
       "    </tr>\n",
       "  </tbody>\n",
       "</table>\n",
       "</div>"
      ],
      "text/plain": [
       "    BJP  Congress  Independent\n",
       "M  0.50      0.38         0.12\n",
       "F  0.42      0.50         0.08"
      ]
     },
     "execution_count": 364,
     "metadata": {},
     "output_type": "execute_result"
    }
   ],
   "source": [
    "data.div(data.sum(axis=1), axis=0).round(2)"
   ]
  },
  {
   "cell_type": "markdown",
   "id": "c3f94ab9",
   "metadata": {},
   "source": [
    "### Goodness of Fit\n",
    "https://docs.scipy.org/doc/scipy/reference/generated/scipy.stats.goodness_of_fit.html\n",
    "res = stats.goodness_of_fit(stats.rayleigh, x, statistic='cvm',  known_params={'loc': 0}, random_state=rng)\n",
    "res.fit_result , res.statistic, res.pvalue\n",
    "chi_square_test_statistic, p_value = stats.chisquare( observed_data, expected_data)\n",
    "-  Questions\n",
    "    -  Equal proportions of M & F employees\n",
    "    -  Equal proportion of ...\n",
    "    -  More Good Feedback and very less Poor feedback\n",
    "https://www.scribbr.com/statistics/chi-square-goodness-of-fit/    "
   ]
  },
  {
   "cell_type": "code",
   "execution_count": 381,
   "id": "1bf6d0d0",
   "metadata": {},
   "outputs": [],
   "source": [
    "from scipy import stats"
   ]
  },
  {
   "cell_type": "code",
   "execution_count": 382,
   "id": "a4b72982",
   "metadata": {},
   "outputs": [
    {
     "name": "stdout",
     "output_type": "stream",
     "text": [
      "0    0.152542\n",
      "1    0.135593\n",
      "2    0.186441\n",
      "3    0.135593\n",
      "4    0.169492\n",
      "5    0.118644\n",
      "6    0.101695\n",
      "dtype: float64\n"
     ]
    }
   ],
   "source": [
    "# no of hours a staff works in day k of a week vs expected no of hours\n",
    "observed_data = [8, 6, 10, 7, 8, 11, 9] \n",
    "expected_data = [9, 8, 11, 8, 10, 7, 6]\n",
    "print(pd.Series(expected_data)/sum(expected_data))"
   ]
  },
  {
   "cell_type": "code",
   "execution_count": 383,
   "id": "2cdfa4d5",
   "metadata": {},
   "outputs": [],
   "source": [
    "testName = 'Chi Sqs Goodness of Fit '\n",
    "#when goodness of fit is high, values expected are close to observed data & vice-versa\n",
    "#we conclude that population also follows this pattern\n",
    "chi_square_test_statistic, p_value = stats.chisquare( observed_data, expected_data)"
   ]
  },
  {
   "cell_type": "code",
   "execution_count": 372,
   "id": "a70780a2",
   "metadata": {},
   "outputs": [
    {
     "name": "stdout",
     "output_type": "stream",
     "text": [
      "chi_square_test_statistic is : 5.01\n",
      "p_value : 0.54\n",
      "12.591587243743977\n"
     ]
    }
   ],
   "source": [
    "# chi square test statistic and p value\n",
    "print('chi_square_test_statistic is : ' +  str(chi_square_test_statistic.round(2)))\n",
    "print('p_value : ' + str(p_value.round(2)))  \n",
    "# find Chi-Square critical value\n",
    "print(stats.chi2.ppf(1-0.05, df=6))"
   ]
  },
  {
   "cell_type": "code",
   "execution_count": 373,
   "id": "75481d10",
   "metadata": {},
   "outputs": [
    {
     "name": "stdout",
     "output_type": "stream",
     "text": [
      "Chi Sqs Goodness of Fit  5.01 0.54 0.5422 0.05\n"
     ]
    }
   ],
   "source": [
    "print(testName, chi_square_test_statistic.round(2), p_value.round(2), p_value.round(4), alpha)"
   ]
  },
  {
   "cell_type": "code",
   "execution_count": 374,
   "id": "d0d5d3ad",
   "metadata": {},
   "outputs": [
    {
     "name": "stdout",
     "output_type": "stream",
     "text": [
      "Chi Sqs Goodness of Fit   : Accept Ho & Reject Ha : pv= 0.54 :: a=  0.05  T/F pv > a is  False\n"
     ]
    }
   ],
   "source": [
    "testCheck(testName, p_value, alpha) "
   ]
  },
  {
   "cell_type": "markdown",
   "id": "3c5bb1f2",
   "metadata": {},
   "source": [
    "## F-test Variance"
   ]
  },
  {
   "cell_type": "code",
   "execution_count": null,
   "id": "d5c9819d",
   "metadata": {},
   "outputs": [],
   "source": [
    "\n"
   ]
  },
  {
   "cell_type": "code",
   "execution_count": null,
   "id": "5093200d-fdc1-4005-9519-1d17db570c70",
   "metadata": {},
   "outputs": [],
   "source": []
  },
  {
   "cell_type": "code",
   "execution_count": null,
   "id": "adad726a-e3ae-40c3-aca7-12d34c935d91",
   "metadata": {},
   "outputs": [],
   "source": []
  },
  {
   "cell_type": "code",
   "execution_count": null,
   "id": "75953556-323b-4f8e-a895-24f3c83015aa",
   "metadata": {},
   "outputs": [],
   "source": []
  },
  {
   "cell_type": "markdown",
   "id": "1f25a65b-8aa1-496c-bfef-83dcd9164f6a",
   "metadata": {},
   "source": [
    "#Links\n",
    "https://www.datacamp.com/tutorial/an-introduction-to-python-t-tests\n",
    "https://docs.scipy.org/doc/scipy/reference/generated/scipy.stats.ttest_ind.html\n"
   ]
  }
 ],
 "metadata": {
  "kernelspec": {
   "display_name": "Python 3 (ipykernel)",
   "language": "python",
   "name": "python3"
  },
  "language_info": {
   "codemirror_mode": {
    "name": "ipython",
    "version": 3
   },
   "file_extension": ".py",
   "mimetype": "text/x-python",
   "name": "python",
   "nbconvert_exporter": "python",
   "pygments_lexer": "ipython3",
   "version": "3.10.9"
  }
 },
 "nbformat": 4,
 "nbformat_minor": 5
}
