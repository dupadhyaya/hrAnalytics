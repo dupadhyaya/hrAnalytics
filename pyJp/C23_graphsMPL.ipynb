{
 "cells": [
  {
   "cell_type": "markdown",
   "id": "cad5c5b6-9376-46c6-bbd7-4c02d99225cf",
   "metadata": {},
   "source": [
    "# C22 Graphs Matplotlib\n",
    "-  \n",
    "-  \n"
   ]
  }
 ],
 "metadata": {
  "kernelspec": {
   "display_name": "Python 3 (ipykernel)",
   "language": "python",
   "name": "python3"
  },
  "language_info": {
   "codemirror_mode": {
    "name": "ipython",
    "version": 3
   },
   "file_extension": ".py",
   "mimetype": "text/x-python",
   "name": "python",
   "nbconvert_exporter": "python",
   "pygments_lexer": "ipython3",
   "version": "3.11.5"
  }
 },
 "nbformat": 4,
 "nbformat_minor": 5
}
