{
 "cells": [
  {
   "cell_type": "markdown",
   "id": "461f850c",
   "metadata": {},
   "source": [
    "# Links/Help\n"
   ]
  },
  {
   "cell_type": "markdown",
   "id": "747b4ad4",
   "metadata": {},
   "source": [
    "# Jupyter Markdown\n",
    "-  https://www.ibm.com/docs/en/watson-studio-local/1.2.3?topic=notebooks-markdown-jupyter-cheatsheet\n",
    "-  Convert Jp notebook to py script\n",
    "    -  https://mljar.com/blog/convert-jupyter-notebook-python/"
   ]
  },
  {
   "cell_type": "markdown",
   "id": "60b4a68d",
   "metadata": {},
   "source": [
    "# Cheatsheets\n",
    "-  https://www.pythoncheatsheet.org/"
   ]
  },
  {
   "cell_type": "markdown",
   "id": "1731c628",
   "metadata": {},
   "source": [
    "# Pandas\n",
    "-  https://www.bu.edu/tech/files/2017/09/Python-for-Data-Analysis.pdf\n",
    "-  http://datasciencefree.com/pandas.pdf"
   ]
  },
  {
   "cell_type": "markdown",
   "id": "e5ae0138",
   "metadata": {},
   "source": [
    "# Graphs\n",
    "-  Matplotlib\n",
    "    -  https://matplotlib.org/Matplotlib.pdf"
   ]
  },
  {
   "cell_type": "code",
   "execution_count": null,
   "id": "241e599e",
   "metadata": {},
   "outputs": [],
   "source": []
  }
 ],
 "metadata": {
  "kernelspec": {
   "display_name": "Python 3 (ipykernel)",
   "language": "python",
   "name": "python3"
  },
  "language_info": {
   "codemirror_mode": {
    "name": "ipython",
    "version": 3
   },
   "file_extension": ".py",
   "mimetype": "text/x-python",
   "name": "python",
   "nbconvert_exporter": "python",
   "pygments_lexer": "ipython3",
   "version": "3.11.5"
  }
 },
 "nbformat": 4,
 "nbformat_minor": 5
}
