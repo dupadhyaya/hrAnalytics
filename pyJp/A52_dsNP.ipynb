{
 "cells": [
  {
   "cell_type": "markdown",
   "id": "2467a2b6-e142-438b-b996-5a74f890b57f",
   "metadata": {},
   "source": [
    "# Data Structure - 2\n",
    "-  numpy "
   ]
  },
  {
   "cell_type": "markdown",
   "id": "dabf9df3-8ee2-4855-8df4-255f38a513ea",
   "metadata": {},
   "source": [
    "## Numpy \n",
    "-  similar to list, but items to be one type (so less memory required to store and manipulate) more functions available helps in matrix computations"
   ]
  },
  {
   "cell_type": "code",
   "execution_count": 1,
   "id": "d9076712-79c6-419a-bda3-e454881deb5e",
   "metadata": {
    "tags": []
   },
   "outputs": [
    {
     "data": {
      "text/plain": [
       "[1, 2, 3, 5]"
      ]
     },
     "execution_count": 1,
     "metadata": {},
     "output_type": "execute_result"
    }
   ],
   "source": [
    "#%% #numpy - array - same data type - numerical python\n",
    "list1 = [1,2,3,5]\n",
    "list1"
   ]
  },
  {
   "cell_type": "code",
   "execution_count": 2,
   "id": "399d8e50-7e29-4e15-a44d-d5d7e70c18cf",
   "metadata": {
    "tags": []
   },
   "outputs": [
    {
     "name": "stdout",
     "output_type": "stream",
     "text": [
      "[10 20]\n",
      "[[1 2 3 5]]\n"
     ]
    }
   ],
   "source": [
    "import numpy\n",
    "print(numpy.array([10,20])) #list to numpy array\n",
    "print(numpy.array([list1])) #list inside a list"
   ]
  },
  {
   "cell_type": "code",
   "execution_count": 3,
   "id": "8997e44b-3039-4a9a-bd73-1a0056bad3a9",
   "metadata": {
    "tags": []
   },
   "outputs": [
    {
     "name": "stdout",
     "output_type": "stream",
     "text": [
      "1.24.3\n"
     ]
    }
   ],
   "source": [
    "import numpy as np #np is alias\n",
    "print(np.__version__)"
   ]
  },
  {
   "cell_type": "code",
   "execution_count": 4,
   "id": "4867dabe-11c8-4ba8-8caa-dd5d513f6e66",
   "metadata": {
    "tags": []
   },
   "outputs": [
    {
     "data": {
      "text/plain": [
       "array([ 1, 11, 21, 31, 41, 51, 61, 71, 81, 91])"
      ]
     },
     "execution_count": 4,
     "metadata": {},
     "output_type": "execute_result"
    }
   ],
   "source": [
    "np.arange(1,100,10)  #start, stop, setp"
   ]
  },
  {
   "cell_type": "code",
   "execution_count": 5,
   "id": "a7338fd4-1740-401d-a7ad-23de8abed92c",
   "metadata": {
    "tags": []
   },
   "outputs": [],
   "source": [
    "#help(np.arange)"
   ]
  },
  {
   "cell_type": "code",
   "execution_count": 6,
   "id": "48c7bfc9-f6ff-492d-8b9f-8d0f28b06169",
   "metadata": {
    "tags": []
   },
   "outputs": [
    {
     "data": {
      "text/plain": [
       "array([1, 2, 3, 4, 5, 6, 7, 8, 9])"
      ]
     },
     "execution_count": 6,
     "metadata": {},
     "output_type": "execute_result"
    }
   ],
   "source": [
    "np1 = np.arange(1,10)\n",
    "np1"
   ]
  },
  {
   "cell_type": "code",
   "execution_count": 7,
   "id": "1d577030-359a-42d5-9b80-97ec4653257c",
   "metadata": {
    "tags": []
   },
   "outputs": [
    {
     "data": {
      "text/plain": [
       "500000"
      ]
     },
     "execution_count": 7,
     "metadata": {},
     "output_type": "execute_result"
    }
   ],
   "source": [
    "x=np.arange(start=1,stop=1000000,step=2)  #very large number series\n",
    "len(x)"
   ]
  },
  {
   "cell_type": "code",
   "execution_count": 8,
   "id": "cfbf7342-2d5e-4985-8fb9-4509c8e7af75",
   "metadata": {
    "tags": []
   },
   "outputs": [
    {
     "name": "stdout",
     "output_type": "stream",
     "text": [
      "[  3   5   7   9  11  13  15  17  19  21  23  25  27  29  31  33  35  37\n",
      "  39  41  43  45  47  49  51  53  55  57  59  61  63  65  67  69  71  73\n",
      "  75  77  79  81  83  85  87  89  91  93  95  97  99 101 103 105 107 109\n",
      " 111 113 115 117 119 121 123 125 127 129 131 133 135 137 139 141 143 145\n",
      " 147 149 151 153 155 157 159 161 163 165 167 169 171 173 175 177 179 181\n",
      " 183 185 187 189 191 193 195 197 199]\n",
      "\n",
      "[ 3 23 43 63 83]\n"
     ]
    }
   ],
   "source": [
    "print(x[1:100])  # print from 1st position to 100th position\n",
    "print()\n",
    "print(x[1:50:10])  # print at interval of 10 starting 1st position to 50th position"
   ]
  },
  {
   "cell_type": "code",
   "execution_count": 9,
   "id": "bb50de2a-4c9f-4ef7-a175-cf81ff601d21",
   "metadata": {
    "tags": []
   },
   "outputs": [
    {
     "name": "stdout",
     "output_type": "stream",
     "text": [
      "5000000.0\n"
     ]
    }
   ],
   "source": [
    "print(np.mean(np.arange(1,10000000)))\n",
    "#mean of np array of numbers from 1 to 10^7"
   ]
  },
  {
   "cell_type": "code",
   "execution_count": null,
   "id": "111238f7-c297-4c57-a276-0cfb9c77b4a8",
   "metadata": {},
   "outputs": [],
   "source": []
  },
  {
   "cell_type": "code",
   "execution_count": 10,
   "id": "d5f7c78e-0c95-42c1-a5e5-07b736f4f3c6",
   "metadata": {
    "tags": []
   },
   "outputs": [
    {
     "name": "stdout",
     "output_type": "stream",
     "text": [
      "<class 'numpy.ndarray'>\n",
      "['T', '__abs__', '__add__', '__and__', '__array__', '__array_finalize__', '__array_function__', '__array_interface__', '__array_prepare__', '__array_priority__', '__array_struct__', '__array_ufunc__', '__array_wrap__', '__bool__', '__class__', '__class_getitem__', '__complex__', '__contains__', '__copy__', '__deepcopy__', '__delattr__', '__delitem__', '__dir__', '__divmod__', '__dlpack__', '__dlpack_device__', '__doc__', '__eq__', '__float__', '__floordiv__', '__format__', '__ge__', '__getattribute__', '__getitem__', '__getstate__', '__gt__', '__hash__', '__iadd__', '__iand__', '__ifloordiv__', '__ilshift__', '__imatmul__', '__imod__', '__imul__', '__index__', '__init__', '__init_subclass__', '__int__', '__invert__', '__ior__', '__ipow__', '__irshift__', '__isub__', '__iter__', '__itruediv__', '__ixor__', '__le__', '__len__', '__lshift__', '__lt__', '__matmul__', '__mod__', '__mul__', '__ne__', '__neg__', '__new__', '__or__', '__pos__', '__pow__', '__radd__', '__rand__', '__rdivmod__', '__reduce__', '__reduce_ex__', '__repr__', '__rfloordiv__', '__rlshift__', '__rmatmul__', '__rmod__', '__rmul__', '__ror__', '__rpow__', '__rrshift__', '__rshift__', '__rsub__', '__rtruediv__', '__rxor__', '__setattr__', '__setitem__', '__setstate__', '__sizeof__', '__str__', '__sub__', '__subclasshook__', '__truediv__', '__xor__', 'all', 'any', 'argmax', 'argmin', 'argpartition', 'argsort', 'astype', 'base', 'byteswap', 'choose', 'clip', 'compress', 'conj', 'conjugate', 'copy', 'ctypes', 'cumprod', 'cumsum', 'data', 'diagonal', 'dot', 'dtype', 'dump', 'dumps', 'fill', 'flags', 'flat', 'flatten', 'getfield', 'imag', 'item', 'itemset', 'itemsize', 'max', 'mean', 'min', 'nbytes', 'ndim', 'newbyteorder', 'nonzero', 'partition', 'prod', 'ptp', 'put', 'ravel', 'real', 'repeat', 'reshape', 'resize', 'round', 'searchsorted', 'setfield', 'setflags', 'shape', 'size', 'sort', 'squeeze', 'std', 'strides', 'sum', 'swapaxes', 'take', 'tobytes', 'tofile', 'tolist', 'tostring', 'trace', 'transpose', 'var', 'view']\n"
     ]
    }
   ],
   "source": [
    "print(type(np1))\n",
    "print(dir(np1), sep ='\\t')"
   ]
  },
  {
   "cell_type": "code",
   "execution_count": 11,
   "id": "373165fe-e47e-480b-bd88-d1c9b5436142",
   "metadata": {
    "tags": []
   },
   "outputs": [],
   "source": [
    "#help(np)\n",
    "#https://numpy.org/doc/stable/user/index.html"
   ]
  },
  {
   "cell_type": "markdown",
   "id": "af67b9c3-a06f-4a4e-a0cb-d6712e46de9b",
   "metadata": {},
   "source": [
    "## Array Creation"
   ]
  },
  {
   "cell_type": "code",
   "execution_count": 12,
   "id": "28b60532-5756-44e1-9f8f-23ddc5bd26aa",
   "metadata": {
    "tags": []
   },
   "outputs": [
    {
     "data": {
      "text/plain": [
       "array([ 1,  2,  3,  4, 10])"
      ]
     },
     "execution_count": 12,
     "metadata": {},
     "output_type": "execute_result"
    }
   ],
   "source": [
    "np.array(([1,2,3,4,10]))  # from list"
   ]
  },
  {
   "cell_type": "code",
   "execution_count": 13,
   "id": "a1cfb604-0b37-41e1-a367-91ac0646fd6a",
   "metadata": {
    "tags": []
   },
   "outputs": [
    {
     "data": {
      "text/plain": [
       "array([[0., 0., 0., 0.],\n",
       "       [0., 0., 0., 0.],\n",
       "       [0., 0., 0., 0.]])"
      ]
     },
     "execution_count": 13,
     "metadata": {},
     "output_type": "execute_result"
    }
   ],
   "source": [
    "np.zeros((3,4))  # array of 0s; 3ros x 4cols"
   ]
  },
  {
   "cell_type": "code",
   "execution_count": 14,
   "id": "3ac5a4ab-a57d-4a47-82f1-7b95824a217d",
   "metadata": {
    "tags": []
   },
   "outputs": [
    {
     "data": {
      "text/plain": [
       "array([[1., 1.],\n",
       "       [1., 1.]])"
      ]
     },
     "execution_count": 14,
     "metadata": {},
     "output_type": "execute_result"
    }
   ],
   "source": [
    "np.ones((2,2))  # array of 1s; 2rows x 2cols"
   ]
  },
  {
   "cell_type": "code",
   "execution_count": 15,
   "id": "71703f34-c33e-42a2-aeb9-5b644694698f",
   "metadata": {
    "tags": []
   },
   "outputs": [
    {
     "data": {
      "text/plain": [
       "array([0, 1, 2, 3, 4, 5, 6, 7, 8, 9])"
      ]
     },
     "execution_count": 15,
     "metadata": {},
     "output_type": "execute_result"
    }
   ],
   "source": [
    "np.arange(0,10)  #range of values"
   ]
  },
  {
   "cell_type": "code",
   "execution_count": 16,
   "id": "c0865379-0bc8-47fa-b66b-847a9f8e3973",
   "metadata": {
    "tags": []
   },
   "outputs": [
    {
     "data": {
      "text/plain": [
       "array([[0.95254466, 0.30727016, 0.51521714, 0.79993781],\n",
       "       [0.9142572 , 0.00243109, 0.50129545, 0.42262824],\n",
       "       [0.52163286, 0.81370929, 0.45332374, 0.44488983]])"
      ]
     },
     "execution_count": 16,
     "metadata": {},
     "output_type": "execute_result"
    }
   ],
   "source": [
    "np.random.rand(3, 4)  # array of random nos betw 0 and 1 : shape of 3 rows x 4 cols"
   ]
  },
  {
   "cell_type": "markdown",
   "id": "0647cd8a-fe9e-49d2-872c-d8b71aef9947",
   "metadata": {},
   "source": [
    "## Array Attributes"
   ]
  },
  {
   "cell_type": "code",
   "execution_count": 17,
   "id": "52b4ab17-46b1-4c5e-86a8-8c45e0d75205",
   "metadata": {
    "tags": []
   },
   "outputs": [
    {
     "name": "stdout",
     "output_type": "stream",
     "text": [
      "[90 50 60 70]\n",
      "Sorted NP array  [50 60 70 90]\n"
     ]
    }
   ],
   "source": [
    "np2 = np.array([ 90, 50, 60, 70 ])\n",
    "print(np2)\n",
    "print('Sorted NP array ', np.sort(np2))"
   ]
  },
  {
   "cell_type": "code",
   "execution_count": 18,
   "id": "a7591080-275f-477d-b045-6ddf9312ce8b",
   "metadata": {
    "tags": []
   },
   "outputs": [
    {
     "data": {
      "text/plain": [
       "array([[ 1,  4],\n",
       "       [ 3,  1],\n",
       "       [ 5,  6],\n",
       "       [10, 50]])"
      ]
     },
     "execution_count": 18,
     "metadata": {},
     "output_type": "execute_result"
    }
   ],
   "source": [
    "np3 = np.array([[1,4],[3,1],[5,6],[10,50]])\n",
    "np3\n",
    "#multi dim np array like matrix"
   ]
  },
  {
   "cell_type": "code",
   "execution_count": 19,
   "id": "0f24e6bd-fba0-4e00-b5d1-f3878a945fb8",
   "metadata": {
    "tags": []
   },
   "outputs": [
    {
     "name": "stdout",
     "output_type": "stream",
     "text": [
      "(4, 2)\n",
      "4\n",
      "2\n",
      "No of elements  8\n",
      "int32\n"
     ]
    }
   ],
   "source": [
    "print(np3.shape)   #rows, columns\n",
    "print(np3.shape[0]) #rows\n",
    "print(np3.shape[1]) #cols\n",
    "x= np3.shape[0] * np3.shape[1]\n",
    "print('No of elements ', x)\n",
    "print(np3.dtype)  # datatype"
   ]
  },
  {
   "cell_type": "code",
   "execution_count": 20,
   "id": "74ea7da5-2c3c-488b-8e79-f7fccd461013",
   "metadata": {
    "tags": []
   },
   "outputs": [
    {
     "data": {
      "text/plain": [
       "array([ 1,  2,  3,  4, 10])"
      ]
     },
     "execution_count": 20,
     "metadata": {},
     "output_type": "execute_result"
    }
   ],
   "source": [
    "## slicing\\\n",
    "np4 = np.array(([1,2,3,4,10])) \n",
    "np4"
   ]
  },
  {
   "cell_type": "code",
   "execution_count": 21,
   "id": "7fd153e4-6bdc-4a24-928f-d6497f71c790",
   "metadata": {
    "tags": []
   },
   "outputs": [
    {
     "name": "stdout",
     "output_type": "stream",
     "text": [
      "1\n",
      "10\n",
      "[2 3]\n"
     ]
    }
   ],
   "source": [
    "print(np4[0])  # first element\n",
    "print(np4[-1])  #last element\n",
    "print(np4[1:3])  #slice from 2nd to 3rd"
   ]
  },
  {
   "cell_type": "code",
   "execution_count": null,
   "id": "66b62daf-0e35-484f-a75d-41188517f6fe",
   "metadata": {},
   "outputs": [],
   "source": []
  },
  {
   "cell_type": "code",
   "execution_count": null,
   "id": "940beeba-8a1c-4005-8c91-1f65e378983d",
   "metadata": {},
   "outputs": [],
   "source": []
  },
  {
   "cell_type": "code",
   "execution_count": 22,
   "id": "b9c9b6bf-bf1b-4f85-9969-75b591ce9c18",
   "metadata": {
    "tags": []
   },
   "outputs": [
    {
     "name": "stdout",
     "output_type": "stream",
     "text": [
      "True\n",
      "False\n",
      "4\n"
     ]
    }
   ],
   "source": [
    "print(x%2 == 0)   #divisible by 2 : Even no of elements\n",
    "print(x%3 == 0)   #divisible by 3\n",
    "print(len(np3))   #no of rows"
   ]
  },
  {
   "cell_type": "code",
   "execution_count": 23,
   "id": "0f59c69d-79fa-4588-a4d9-4a6823472b21",
   "metadata": {
    "tags": []
   },
   "outputs": [
    {
     "data": {
      "text/plain": [
       "array([[ 1,  4],\n",
       "       [ 3,  1],\n",
       "       [ 5,  6],\n",
       "       [10, 50]])"
      ]
     },
     "execution_count": 23,
     "metadata": {},
     "output_type": "execute_result"
    }
   ],
   "source": [
    "np3"
   ]
  },
  {
   "cell_type": "code",
   "execution_count": 24,
   "id": "f9617ad3-1db0-4dbe-ac5d-93d45d044740",
   "metadata": {
    "tags": []
   },
   "outputs": [
    {
     "data": {
      "text/plain": [
       "array([[ 1],\n",
       "       [ 4],\n",
       "       [ 3],\n",
       "       [ 1],\n",
       "       [ 5],\n",
       "       [ 6],\n",
       "       [10],\n",
       "       [50]])"
      ]
     },
     "execution_count": 24,
     "metadata": {},
     "output_type": "execute_result"
    }
   ],
   "source": [
    "# change the shape of np array - vertical stack\n",
    "np3.reshape((-1,1))  #1 column from 2 column\n",
    "#np.reshape((-1, noCols))   # from any number of columns change to 1 columns"
   ]
  },
  {
   "cell_type": "code",
   "execution_count": 25,
   "id": "2457c568-c4d9-4199-bb31-5005ebb0c42a",
   "metadata": {
    "tags": []
   },
   "outputs": [
    {
     "data": {
      "text/plain": [
       "array([ 1,  4,  3,  1,  5,  6, 10, 50])"
      ]
     },
     "execution_count": 25,
     "metadata": {},
     "output_type": "execute_result"
    }
   ],
   "source": [
    "np3.reshape((-1))   # no columns"
   ]
  },
  {
   "cell_type": "code",
   "execution_count": 26,
   "id": "c0faff77-d479-4e9c-b780-31544102bc5a",
   "metadata": {
    "tags": []
   },
   "outputs": [
    {
     "data": {
      "text/plain": [
       "array([[ 1,  4],\n",
       "       [ 3,  1],\n",
       "       [ 5,  6],\n",
       "       [10, 50]])"
      ]
     },
     "execution_count": 26,
     "metadata": {},
     "output_type": "execute_result"
    }
   ],
   "source": [
    "np3.reshape((-1,2))"
   ]
  },
  {
   "cell_type": "code",
   "execution_count": 27,
   "id": "15b63ffc-7348-4ee0-b6b7-6745ef7ca777",
   "metadata": {
    "tags": []
   },
   "outputs": [],
   "source": [
    "#np3.reshape((-1,3))  #error\n",
    "#cannot be converted to 3 columns as there are 8 elements and 8 is not divisible by 3"
   ]
  },
  {
   "cell_type": "markdown",
   "id": "076b2a63-8900-4151-b2b8-933d7bf765bf",
   "metadata": {},
   "source": [
    "## Stacking"
   ]
  },
  {
   "cell_type": "code",
   "execution_count": 28,
   "id": "bae35f97-1640-4d42-a563-01b713679024",
   "metadata": {
    "tags": []
   },
   "outputs": [
    {
     "data": {
      "text/plain": [
       "array([[ 1,  4],\n",
       "       [ 3,  1],\n",
       "       [ 5,  6],\n",
       "       [10, 50],\n",
       "       [ 1,  4],\n",
       "       [ 3,  1],\n",
       "       [ 5,  6],\n",
       "       [10, 50]])"
      ]
     },
     "execution_count": 28,
     "metadata": {},
     "output_type": "execute_result"
    }
   ],
   "source": [
    "# Vertical Stack\n",
    "np.vstack([np3, np3])"
   ]
  },
  {
   "cell_type": "code",
   "execution_count": 29,
   "id": "909111ae-1a1c-4d0d-a090-3090a1a1e2d5",
   "metadata": {},
   "outputs": [
    {
     "data": {
      "text/plain": [
       "array([[ 1,  4,  1,  4],\n",
       "       [ 3,  1,  3,  1],\n",
       "       [ 5,  6,  5,  6],\n",
       "       [10, 50, 10, 50]])"
      ]
     },
     "execution_count": 29,
     "metadata": {},
     "output_type": "execute_result"
    }
   ],
   "source": [
    "np.hstack([np3, np3])"
   ]
  },
  {
   "cell_type": "code",
   "execution_count": 30,
   "id": "ab3ae971-02ba-4915-b3a4-21e91bfad350",
   "metadata": {},
   "outputs": [],
   "source": [
    "## Aritmetic Operations"
   ]
  },
  {
   "cell_type": "code",
   "execution_count": 31,
   "id": "3a626215-99a4-49ec-b3af-0aaf01abe733",
   "metadata": {
    "tags": []
   },
   "outputs": [
    {
     "name": "stdout",
     "output_type": "stream",
     "text": [
      "[1 2 3] [4 5 6]\n"
     ]
    }
   ],
   "source": [
    "arr1 = np.array([1,2,3])\n",
    "arr2 = np.array([4,5,6])\n",
    "print(arr1, arr2)"
   ]
  },
  {
   "cell_type": "code",
   "execution_count": 32,
   "id": "9cdfe390-4964-463b-ab92-ee211781a387",
   "metadata": {
    "tags": []
   },
   "outputs": [
    {
     "data": {
      "text/plain": [
       "array([5, 7, 9])"
      ]
     },
     "execution_count": 32,
     "metadata": {},
     "output_type": "execute_result"
    }
   ],
   "source": [
    "arr1 + arr2"
   ]
  },
  {
   "cell_type": "code",
   "execution_count": 33,
   "id": "0bada48a-864e-4bd9-b284-9d25ac8cd129",
   "metadata": {
    "tags": []
   },
   "outputs": [
    {
     "data": {
      "text/plain": [
       "array([-3, -3, -3])"
      ]
     },
     "execution_count": 33,
     "metadata": {},
     "output_type": "execute_result"
    }
   ],
   "source": [
    "arr1 - arr2"
   ]
  },
  {
   "cell_type": "code",
   "execution_count": 34,
   "id": "d80c6bb7-6904-4c0d-9b8e-38b37dc852be",
   "metadata": {
    "tags": []
   },
   "outputs": [
    {
     "data": {
      "text/plain": [
       "array([ 4, 10, 18])"
      ]
     },
     "execution_count": 34,
     "metadata": {},
     "output_type": "execute_result"
    }
   ],
   "source": [
    "arr1 * arr2"
   ]
  },
  {
   "cell_type": "code",
   "execution_count": 35,
   "id": "0a6d3b6e-fc15-413c-83bf-1f62a06f9f9f",
   "metadata": {
    "tags": []
   },
   "outputs": [
    {
     "data": {
      "text/plain": [
       "array([0.25, 0.4 , 0.5 ])"
      ]
     },
     "execution_count": 35,
     "metadata": {},
     "output_type": "execute_result"
    }
   ],
   "source": [
    "arr1 / arr2"
   ]
  },
  {
   "cell_type": "markdown",
   "id": "3b810350-9c62-4352-a020-47f20ca2c3df",
   "metadata": {},
   "source": [
    "## Statistics"
   ]
  },
  {
   "cell_type": "code",
   "execution_count": 36,
   "id": "257ee460-60e3-495e-a42e-9a62c5d30431",
   "metadata": {
    "tags": []
   },
   "outputs": [
    {
     "data": {
      "text/plain": [
       "array([1, 2, 3, 4, 5])"
      ]
     },
     "execution_count": 36,
     "metadata": {},
     "output_type": "execute_result"
    }
   ],
   "source": [
    "arr = np.array([1,2,3,4,5])\n",
    "arr"
   ]
  },
  {
   "cell_type": "code",
   "execution_count": 37,
   "id": "5886c37c-446b-48e5-a834-09a5e2cc4b69",
   "metadata": {
    "tags": []
   },
   "outputs": [
    {
     "name": "stdout",
     "output_type": "stream",
     "text": [
      "3.0\n",
      "3.0\n",
      "1.4142135623730951\n",
      "5\n",
      "1\n",
      "2.0\n"
     ]
    }
   ],
   "source": [
    "print(np.mean(arr))  #mean\n",
    "print(np.median(arr))  #median\n",
    "print(np.std(arr))  #sd\n",
    "print(np.max(arr))  #max\n",
    "print(np.min(arr))  #min\n",
    "print(np.var(arr))  #variance"
   ]
  },
  {
   "cell_type": "markdown",
   "id": "d3be35ed-dc0b-409e-9fee-3b251229706c",
   "metadata": {},
   "source": [
    "## Blank\n",
    "-  "
   ]
  },
  {
   "cell_type": "markdown",
   "id": "75f07ff1-3e30-42d3-8567-cb15a19d4888",
   "metadata": {},
   "source": [
    "## Links\n",
    "-  "
   ]
  },
  {
   "cell_type": "code",
   "execution_count": null,
   "id": "22c5916a-3d87-48ce-87d4-18a85e996a39",
   "metadata": {},
   "outputs": [],
   "source": []
  },
  {
   "cell_type": "markdown",
   "id": "afd5351d-74e1-4e61-9148-908f610adfa3",
   "metadata": {},
   "source": [
    "## Next \n",
    "-  Pandas"
   ]
  },
  {
   "cell_type": "code",
   "execution_count": null,
   "id": "6c7abf8a-4303-4418-8733-7b2c69bc79ba",
   "metadata": {},
   "outputs": [],
   "source": []
  }
 ],
 "metadata": {
  "kernelspec": {
   "display_name": "Python 3 (ipykernel)",
   "language": "python",
   "name": "python3"
  },
  "language_info": {
   "codemirror_mode": {
    "name": "ipython",
    "version": 3
   },
   "file_extension": ".py",
   "mimetype": "text/x-python",
   "name": "python",
   "nbconvert_exporter": "python",
   "pygments_lexer": "ipython3",
   "version": "3.11.5"
  }
 },
 "nbformat": 4,
 "nbformat_minor": 5
}
