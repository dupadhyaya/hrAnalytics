{
 "cells": [
  {
   "cell_type": "code",
   "execution_count": 1,
   "id": "aa07bc6e",
   "metadata": {},
   "outputs": [],
   "source": [
    "# HR Analytics Case Study"
   ]
  },
  {
   "cell_type": "code",
   "execution_count": 5,
   "id": "383f4799",
   "metadata": {},
   "outputs": [],
   "source": [
    "#libraries\n",
    "import pandas as pd\n",
    "import numpy as np\n",
    "import matplotlib.pyplot as plt\n",
    "import seaborn as sns\n",
    "from pydataset import data"
   ]
  },
  {
   "cell_type": "code",
   "execution_count": 13,
   "id": "54304616",
   "metadata": {},
   "outputs": [],
   "source": [
    "#other libraries if required\n"
   ]
  },
  {
   "cell_type": "code",
   "execution_count": 6,
   "id": "915bd10e",
   "metadata": {},
   "outputs": [],
   "source": [
    "#data"
   ]
  },
  {
   "cell_type": "code",
   "execution_count": 7,
   "id": "2c20d2ae",
   "metadata": {},
   "outputs": [],
   "source": [
    "#understand"
   ]
  },
  {
   "cell_type": "code",
   "execution_count": 8,
   "id": "12b0afc6",
   "metadata": {},
   "outputs": [],
   "source": [
    "#clean"
   ]
  },
  {
   "cell_type": "code",
   "execution_count": 9,
   "id": "28dac774",
   "metadata": {},
   "outputs": [],
   "source": [
    "#visualise"
   ]
  },
  {
   "cell_type": "code",
   "execution_count": 10,
   "id": "c14482ba",
   "metadata": {},
   "outputs": [],
   "source": [
    "#model"
   ]
  },
  {
   "cell_type": "code",
   "execution_count": 11,
   "id": "1e00c875",
   "metadata": {},
   "outputs": [],
   "source": [
    "#evalulate"
   ]
  },
  {
   "cell_type": "code",
   "execution_count": 12,
   "id": "ae6f3a39",
   "metadata": {},
   "outputs": [],
   "source": [
    "#conclude"
   ]
  },
  {
   "cell_type": "code",
   "execution_count": null,
   "id": "4ab35530",
   "metadata": {},
   "outputs": [],
   "source": [
    "#Links"
   ]
  }
 ],
 "metadata": {
  "kernelspec": {
   "display_name": "Python 3 (ipykernel)",
   "language": "python",
   "name": "python3"
  },
  "language_info": {
   "codemirror_mode": {
    "name": "ipython",
    "version": 3
   },
   "file_extension": ".py",
   "mimetype": "text/x-python",
   "name": "python",
   "nbconvert_exporter": "python",
   "pygments_lexer": "ipython3",
   "version": "3.10.9"
  }
 },
 "nbformat": 4,
 "nbformat_minor": 5
}
