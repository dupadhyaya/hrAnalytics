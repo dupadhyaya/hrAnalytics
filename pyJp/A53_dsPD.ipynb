{
 "cells": [
  {
   "cell_type": "markdown",
   "id": "2467a2b6-e142-438b-b996-5a74f890b57f",
   "metadata": {},
   "source": [
    "# Data Structure - 3\n",
    "-  pandas"
   ]
  },
  {
   "cell_type": "markdown",
   "id": "1eb8e635-2d38-4cc5-bed1-845b82d52434",
   "metadata": {
    "tags": []
   },
   "source": [
    "## Pandas\n",
    "-  http://cs231n.github.io/python-numpy-tutorial/\n",
    "-  pandas - dataframe, excel like \n",
    "-  https://mode.com/python-tutorial/pandas-dataframe/ \n",
    "-  https://pandas.pydata.org/pandas-docs/stable/\n",
    "-  "
   ]
  },
  {
   "cell_type": "code",
   "execution_count": 21,
   "id": "259b7266-c928-46af-b0c4-4eaccd8be115",
   "metadata": {
    "tags": []
   },
   "outputs": [],
   "source": [
    "import pandas as pd\n",
    "#https://pandas.pydata.org/"
   ]
  },
  {
   "cell_type": "code",
   "execution_count": 3,
   "id": "92041c2c-701a-4ad9-a2f1-4e17f9f772c7",
   "metadata": {
    "tags": []
   },
   "outputs": [
    {
     "name": "stdout",
     "output_type": "stream",
     "text": [
      "   rollno    name  marks gender\n",
      "0       1  Dhiraj   40.0      M\n",
      "1       2  Kounal   50.0      M\n",
      "2       3   Akhil   60.5      M\n",
      "3       4   Pooja   70.0      F\n",
      "4       5   Disha   93.0      F\n"
     ]
    },
    {
     "data": {
      "text/plain": [
       "pandas.core.frame.DataFrame"
      ]
     },
     "execution_count": 3,
     "metadata": {},
     "output_type": "execute_result"
    }
   ],
   "source": [
    "df1 = pd.DataFrame({'rollno':[1,2,3,4,5], \n",
    "                    'name': [ \"Dhiraj\", \"Kounal\", \"Akhil\", \"Pooja\",\"Disha\" ], \n",
    "                    'marks':[ 40, 50, 60.5, 70, 93 ], \n",
    "                    'gender':['M', 'M','M', 'F', 'F']})\n",
    "print(df1)  # dict format\n",
    "type(df1) "
   ]
  },
  {
   "cell_type": "code",
   "execution_count": 29,
   "id": "c4ba36ae-d2bb-48c8-90d9-b7998bef2f33",
   "metadata": {
    "tags": []
   },
   "outputs": [
    {
     "name": "stdout",
     "output_type": "stream",
     "text": [
      "Column Names -  Index(['rollno', 'name', 'marks', 'gender'], dtype='object')\n",
      "Index/ Row Names -  RangeIndex(start=0, stop=5, step=1)\n",
      "Data Types -\n",
      " rollno      int64\n",
      "name       object\n",
      "marks     float64\n",
      "gender     object\n",
      "dtype: object\n",
      "Shape of DF(R-C) - (5, 4)\n"
     ]
    }
   ],
   "source": [
    "print('Column Names - ', df1.columns)  #column names\n",
    "print('Index/ Row Names - ', df1.index)  #row ids/ names  - here auto created\n",
    "print('Data Types -\\n', df1.dtypes) #data types\n",
    "print('Shape of DF(R-C) -', df1.shape)  # rows and columns"
   ]
  },
  {
   "cell_type": "code",
   "execution_count": 30,
   "id": "8fa036bd-6bc6-46b5-9764-d63c48bd97f9",
   "metadata": {
    "tags": []
   },
   "outputs": [
    {
     "name": "stdout",
     "output_type": "stream",
     "text": [
      "Describe Values (Numerical)-\t  \n"
     ]
    },
    {
     "data": {
      "text/html": [
       "<div>\n",
       "<style scoped>\n",
       "    .dataframe tbody tr th:only-of-type {\n",
       "        vertical-align: middle;\n",
       "    }\n",
       "\n",
       "    .dataframe tbody tr th {\n",
       "        vertical-align: top;\n",
       "    }\n",
       "\n",
       "    .dataframe thead th {\n",
       "        text-align: right;\n",
       "    }\n",
       "</style>\n",
       "<table border=\"1\" class=\"dataframe\">\n",
       "  <thead>\n",
       "    <tr style=\"text-align: right;\">\n",
       "      <th></th>\n",
       "      <th>rollno</th>\n",
       "      <th>marks</th>\n",
       "    </tr>\n",
       "  </thead>\n",
       "  <tbody>\n",
       "    <tr>\n",
       "      <th>count</th>\n",
       "      <td>5.000000</td>\n",
       "      <td>5.000000</td>\n",
       "    </tr>\n",
       "    <tr>\n",
       "      <th>mean</th>\n",
       "      <td>3.000000</td>\n",
       "      <td>62.700000</td>\n",
       "    </tr>\n",
       "    <tr>\n",
       "      <th>std</th>\n",
       "      <td>1.581139</td>\n",
       "      <td>20.327322</td>\n",
       "    </tr>\n",
       "    <tr>\n",
       "      <th>min</th>\n",
       "      <td>1.000000</td>\n",
       "      <td>40.000000</td>\n",
       "    </tr>\n",
       "    <tr>\n",
       "      <th>25%</th>\n",
       "      <td>2.000000</td>\n",
       "      <td>50.000000</td>\n",
       "    </tr>\n",
       "    <tr>\n",
       "      <th>50%</th>\n",
       "      <td>3.000000</td>\n",
       "      <td>60.500000</td>\n",
       "    </tr>\n",
       "    <tr>\n",
       "      <th>75%</th>\n",
       "      <td>4.000000</td>\n",
       "      <td>70.000000</td>\n",
       "    </tr>\n",
       "    <tr>\n",
       "      <th>max</th>\n",
       "      <td>5.000000</td>\n",
       "      <td>93.000000</td>\n",
       "    </tr>\n",
       "  </tbody>\n",
       "</table>\n",
       "</div>"
      ],
      "text/plain": [
       "         rollno      marks\n",
       "count  5.000000   5.000000\n",
       "mean   3.000000  62.700000\n",
       "std    1.581139  20.327322\n",
       "min    1.000000  40.000000\n",
       "25%    2.000000  50.000000\n",
       "50%    3.000000  60.500000\n",
       "75%    4.000000  70.000000\n",
       "max    5.000000  93.000000"
      ]
     },
     "execution_count": 30,
     "metadata": {},
     "output_type": "execute_result"
    }
   ],
   "source": [
    "print('Describe Values (Numerical)-\\t  ')\n",
    "df1.describe() #description of numerical values"
   ]
  },
  {
   "cell_type": "code",
   "execution_count": 31,
   "id": "577fb5c0-5a57-496c-8c84-277c4f1b00a4",
   "metadata": {
    "tags": []
   },
   "outputs": [
    {
     "data": {
      "text/plain": [
       "gender\n",
       "F    2\n",
       "M    3\n",
       "dtype: int64"
      ]
     },
     "execution_count": 31,
     "metadata": {},
     "output_type": "execute_result"
    }
   ],
   "source": [
    "# Groupby Functions on DF\n",
    "df1.groupby('gender').size()  # how many M, F"
   ]
  },
  {
   "cell_type": "code",
   "execution_count": null,
   "id": "ab3ae971-02ba-4915-b3a4-21e91bfad350",
   "metadata": {},
   "outputs": [],
   "source": []
  }
 ],
 "metadata": {
  "kernelspec": {
   "display_name": "Python 3 (ipykernel)",
   "language": "python",
   "name": "python3"
  },
  "language_info": {
   "codemirror_mode": {
    "name": "ipython",
    "version": 3
   },
   "file_extension": ".py",
   "mimetype": "text/x-python",
   "name": "python",
   "nbconvert_exporter": "python",
   "pygments_lexer": "ipython3",
   "version": "3.11.5"
  }
 },
 "nbformat": 4,
 "nbformat_minor": 5
}
