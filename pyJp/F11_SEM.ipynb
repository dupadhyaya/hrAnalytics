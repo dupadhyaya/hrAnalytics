{
 "cells": [
  {
   "cell_type": "markdown",
   "id": "4b96802a",
   "metadata": {},
   "source": [
    "# Structured Equation Modeling\n",
    "-  https://www.linkedin.com/pulse/structural-equation-modeling-sem-andrew-f/\n",
    "-  https://pypi.org/project/semopy/\n",
    "-  https://github.com/vicky60629/Structural-Equation-Modelling/blob/master/Structural%20Equation%20Modelling.ipynb"
   ]
  },
  {
   "cell_type": "code",
   "execution_count": 2,
   "id": "486df044",
   "metadata": {},
   "outputs": [],
   "source": [
    "#!pip install semopy"
   ]
  },
  {
   "cell_type": "code",
   "execution_count": 7,
   "id": "fed021e0",
   "metadata": {},
   "outputs": [],
   "source": [
    "import pandas as pd\n",
    "import numpy as np"
   ]
  },
  {
   "cell_type": "code",
   "execution_count": 4,
   "id": "6539767c",
   "metadata": {},
   "outputs": [],
   "source": [
    "# The first step\n",
    "from semopy import Model\n",
    "mod = \"\"\" x1 ~ x2 + x3\n",
    "          x3 ~ x2 + eta1\n",
    "          eta1 =~ y1 + y2 + y3\n",
    "          eta1 ~ x1\n",
    "      \"\"\""
   ]
  },
  {
   "cell_type": "code",
   "execution_count": 5,
   "id": "576e1481",
   "metadata": {},
   "outputs": [],
   "source": [
    "model = Model(mod)"
   ]
  },
  {
   "cell_type": "code",
   "execution_count": 6,
   "id": "dab87001",
   "metadata": {},
   "outputs": [
    {
     "data": {
      "text/plain": [
       "<semopy.model.Model at 0x23981489490>"
      ]
     },
     "execution_count": 6,
     "metadata": {},
     "output_type": "execute_result"
    }
   ],
   "source": [
    "model"
   ]
  },
  {
   "cell_type": "code",
   "execution_count": null,
   "id": "14056737",
   "metadata": {},
   "outputs": [],
   "source": [
    "# The second step\n",
    "from pandas import read_csv\n",
    "data = read_csv(\"my_data_file.csv\", index_col=0)"
   ]
  },
  {
   "cell_type": "code",
   "execution_count": null,
   "id": "79d71d25",
   "metadata": {},
   "outputs": [],
   "source": [
    "#To estimate parameters of the model we run a fit method \n",
    "#with the dataset as an argument:\n",
    "\n",
    "# The third step\n",
    "model.fit(data)"
   ]
  },
  {
   "cell_type": "markdown",
   "id": "4fa2e1ee",
   "metadata": {},
   "source": [
    "-  The default objective function for estimating parameters is the likelihood function and the optimisation method is SLSQP (Sequential Least-Squares Quadratic Programming). However, the semopy supports a wide range of other objective functions and optimisation schemes being specified as parameters in the fit method.\n",
    "-  Finally, user can inspect parameters' estimates:"
   ]
  },
  {
   "cell_type": "code",
   "execution_count": null,
   "id": "24cfaaa7",
   "metadata": {},
   "outputs": [],
   "source": [
    "model.inspect()"
   ]
  },
  {
   "cell_type": "markdown",
   "id": "dafa5f55",
   "metadata": {},
   "source": [
    "-  SEM is a powerful statistical technique that allows researchers to model complex causal relationships between variables. Python-based SEM packages like Statsmodels and sklearn provide researchers with flexible, user-friendly tools to conduct SEM analyses. These packages have become increasingly popular among researchers in the social sciences, economics, and psychology. With the increasing popularity of Python for data analysis, it is expected that more researchers will turn to Python-based SEM packages for their analyses."
   ]
  },
  {
   "cell_type": "markdown",
   "id": "8e9a5014",
   "metadata": {},
   "source": [
    "# SEM in R\n",
    "-  https://rpubs.com/Agrele/SEM\n",
    "- https://medium.com/geekculture/how-to-perform-structural-equation-modeling-in-r-with-the-lavaan-package-d224a65668b5\n",
    "-  https://bookdown.org/bean_jerry/using_r_for_social_work_research/structural-equation-modeling.html\n",
    "-  https://advstats.psychstat.org/book/sem/index.php\n",
    "-  https://personality-project.org/r/r.sem.html"
   ]
  },
  {
   "cell_type": "code",
   "execution_count": null,
   "id": "c224ff2e",
   "metadata": {},
   "outputs": [],
   "source": []
  }
 ],
 "metadata": {
  "kernelspec": {
   "display_name": "Python 3 (ipykernel)",
   "language": "python",
   "name": "python3"
  },
  "language_info": {
   "codemirror_mode": {
    "name": "ipython",
    "version": 3
   },
   "file_extension": ".py",
   "mimetype": "text/x-python",
   "name": "python",
   "nbconvert_exporter": "python",
   "pygments_lexer": "ipython3",
   "version": "3.11.5"
  }
 },
 "nbformat": 4,
 "nbformat_minor": 5
}
