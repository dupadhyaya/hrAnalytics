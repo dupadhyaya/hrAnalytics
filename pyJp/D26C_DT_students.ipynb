{
 "cells": [
  {
   "cell_type": "markdown",
   "id": "34768954-372c-4dd7-8539-0e51e3ebaaf3",
   "metadata": {},
   "source": [
    "# D26C - Decision Tree"
   ]
  },
  {
   "cell_type": "code",
   "execution_count": 64,
   "id": "d0a21336-9df2-43e0-8d14-613ecfd02fa1",
   "metadata": {
    "tags": []
   },
   "outputs": [],
   "source": [
    "#libraries\n",
    "import numpy as np\n",
    "import pandas as pd\n",
    "import matplotlib.pyplot as plt\n",
    "import seaborn as sns\n",
    "import os\n",
    "import math"
   ]
  },
  {
   "cell_type": "code",
   "execution_count": 71,
   "id": "e7ed0631-27b9-4e45-ac80-e14afb67409f",
   "metadata": {
    "tags": []
   },
   "outputs": [
    {
     "data": {
      "text/plain": [
       "10.0"
      ]
     },
     "execution_count": 71,
     "metadata": {},
     "output_type": "execute_result"
    }
   ],
   "source": [
    "math.sqrt(100)\n",
    "#https://docs.python.org/3/library/math.html"
   ]
  },
  {
   "cell_type": "code",
   "execution_count": 72,
   "id": "28cb181d-f860-40cd-8a30-97057576bef0",
   "metadata": {
    "tags": []
   },
   "outputs": [],
   "source": [
    "from sklearn.preprocessing import LabelEncoder, OrdinalEncoder"
   ]
  },
  {
   "cell_type": "code",
   "execution_count": 73,
   "id": "d47b97f4-c465-4d30-9d68-a3cbfcc0a8f8",
   "metadata": {
    "tags": []
   },
   "outputs": [],
   "source": [
    "#Options\n",
    "pd.set_option('display.max_columns', 500, 'display.width', 1000)"
   ]
  },
  {
   "cell_type": "code",
   "execution_count": 125,
   "id": "f6071c90-4b0b-4258-b6ce-bf4bb8e117bd",
   "metadata": {
    "tags": []
   },
   "outputs": [
    {
     "name": "stdout",
     "output_type": "stream",
     "text": [
      "['Mandakini', 23, 200, 'HR', 'F', 'Yes'] ['Catherine', 23, 154, 'IT', 'F', 'No'] ['Akshay', 25, 360, 'FIN', 'M', 'Yes'] ['Amit', 24, 470, 'IT', 'M', 'Yes']\n"
     ]
    }
   ],
   "source": [
    "#values represented by 2 coordinates x, y\n",
    "m = ['Mandakini', 23, 200, 'HR', 'F', 'Yes']  # age, salary in 1000, gender, left or not\n",
    "c = ['Catherine', 23, 154, 'IT', 'F', 'No']\n",
    "a = ['Akshay', 25, 360, 'FIN', 'M', 'Yes']\n",
    "k = ['Amit', 24, 470, 'IT','M', 'Yes']\n",
    "rownames = ['m','c','a','k']\n",
    "colnames = ['name', 'age','salary', 'dept', 'gender', 'attrition']\n",
    "#form 2 groups by closeness\n",
    "print(m, c, a, k)"
   ]
  },
  {
   "cell_type": "code",
   "execution_count": 126,
   "id": "950db358-98ec-43da-aa58-7c992972366c",
   "metadata": {
    "tags": []
   },
   "outputs": [
    {
     "data": {
      "text/html": [
       "<div>\n",
       "<style scoped>\n",
       "    .dataframe tbody tr th:only-of-type {\n",
       "        vertical-align: middle;\n",
       "    }\n",
       "\n",
       "    .dataframe tbody tr th {\n",
       "        vertical-align: top;\n",
       "    }\n",
       "\n",
       "    .dataframe thead th {\n",
       "        text-align: right;\n",
       "    }\n",
       "</style>\n",
       "<table border=\"1\" class=\"dataframe\">\n",
       "  <thead>\n",
       "    <tr style=\"text-align: right;\">\n",
       "      <th></th>\n",
       "      <th>name</th>\n",
       "      <th>age</th>\n",
       "      <th>salary</th>\n",
       "      <th>dept</th>\n",
       "      <th>gender</th>\n",
       "      <th>attrition</th>\n",
       "    </tr>\n",
       "  </thead>\n",
       "  <tbody>\n",
       "    <tr>\n",
       "      <th>m</th>\n",
       "      <td>Mandakini</td>\n",
       "      <td>23</td>\n",
       "      <td>200</td>\n",
       "      <td>HR</td>\n",
       "      <td>F</td>\n",
       "      <td>Yes</td>\n",
       "    </tr>\n",
       "    <tr>\n",
       "      <th>c</th>\n",
       "      <td>Catherine</td>\n",
       "      <td>23</td>\n",
       "      <td>154</td>\n",
       "      <td>IT</td>\n",
       "      <td>F</td>\n",
       "      <td>No</td>\n",
       "    </tr>\n",
       "    <tr>\n",
       "      <th>a</th>\n",
       "      <td>Akshay</td>\n",
       "      <td>25</td>\n",
       "      <td>360</td>\n",
       "      <td>FIN</td>\n",
       "      <td>M</td>\n",
       "      <td>Yes</td>\n",
       "    </tr>\n",
       "    <tr>\n",
       "      <th>k</th>\n",
       "      <td>Amit</td>\n",
       "      <td>24</td>\n",
       "      <td>470</td>\n",
       "      <td>IT</td>\n",
       "      <td>M</td>\n",
       "      <td>Yes</td>\n",
       "    </tr>\n",
       "  </tbody>\n",
       "</table>\n",
       "</div>"
      ],
      "text/plain": [
       "        name  age  salary dept gender attrition\n",
       "m  Mandakini   23     200   HR      F       Yes\n",
       "c  Catherine   23     154   IT      F        No\n",
       "a     Akshay   25     360  FIN      M       Yes\n",
       "k       Amit   24     470   IT      M       Yes"
      ]
     },
     "execution_count": 126,
     "metadata": {},
     "output_type": "execute_result"
    }
   ],
   "source": [
    "data = [m,c,a, k]\n",
    "df = pd.DataFrame(data, columns=colnames, index=rownames)\n",
    "df"
   ]
  },
  {
   "cell_type": "code",
   "execution_count": 127,
   "id": "7eb9566a-e08a-446f-8df9-4a49578ed3e6",
   "metadata": {
    "tags": []
   },
   "outputs": [],
   "source": [
    "from sklearn.preprocessing import LabelEncoder\n",
    "#ordEncoder = OrdinalEncoder()\n",
    "label_encoder = LabelEncoder()"
   ]
  },
  {
   "cell_type": "code",
   "execution_count": 128,
   "id": "1b0e26a9-ff7e-4a7b-81c3-20fe45da07e9",
   "metadata": {
    "tags": []
   },
   "outputs": [
    {
     "name": "stdout",
     "output_type": "stream",
     "text": [
      "  dept gender attrition\n",
      "m   HR      F       Yes\n",
      "c   IT      F        No\n",
      "a  FIN      M       Yes\n",
      "k   IT      M       Yes\n"
     ]
    }
   ],
   "source": [
    "cat_cols =['dept', 'gender', 'attrition']\n",
    "print(df[cat_cols].head())"
   ]
  },
  {
   "cell_type": "code",
   "execution_count": 129,
   "id": "e18571cd-d490-492e-b164-72b4453c5794",
   "metadata": {
    "tags": []
   },
   "outputs": [
    {
     "data": {
      "text/html": [
       "<div>\n",
       "<style scoped>\n",
       "    .dataframe tbody tr th:only-of-type {\n",
       "        vertical-align: middle;\n",
       "    }\n",
       "\n",
       "    .dataframe tbody tr th {\n",
       "        vertical-align: top;\n",
       "    }\n",
       "\n",
       "    .dataframe thead th {\n",
       "        text-align: right;\n",
       "    }\n",
       "</style>\n",
       "<table border=\"1\" class=\"dataframe\">\n",
       "  <thead>\n",
       "    <tr style=\"text-align: right;\">\n",
       "      <th></th>\n",
       "      <th>name</th>\n",
       "      <th>age</th>\n",
       "      <th>salary</th>\n",
       "      <th>dept</th>\n",
       "      <th>gender</th>\n",
       "      <th>attrition</th>\n",
       "    </tr>\n",
       "  </thead>\n",
       "  <tbody>\n",
       "    <tr>\n",
       "      <th>m</th>\n",
       "      <td>Mandakini</td>\n",
       "      <td>23</td>\n",
       "      <td>200</td>\n",
       "      <td>1</td>\n",
       "      <td>0</td>\n",
       "      <td>1</td>\n",
       "    </tr>\n",
       "    <tr>\n",
       "      <th>c</th>\n",
       "      <td>Catherine</td>\n",
       "      <td>23</td>\n",
       "      <td>154</td>\n",
       "      <td>2</td>\n",
       "      <td>0</td>\n",
       "      <td>0</td>\n",
       "    </tr>\n",
       "    <tr>\n",
       "      <th>a</th>\n",
       "      <td>Akshay</td>\n",
       "      <td>25</td>\n",
       "      <td>360</td>\n",
       "      <td>0</td>\n",
       "      <td>1</td>\n",
       "      <td>1</td>\n",
       "    </tr>\n",
       "    <tr>\n",
       "      <th>k</th>\n",
       "      <td>Amit</td>\n",
       "      <td>24</td>\n",
       "      <td>470</td>\n",
       "      <td>2</td>\n",
       "      <td>1</td>\n",
       "      <td>1</td>\n",
       "    </tr>\n",
       "  </tbody>\n",
       "</table>\n",
       "</div>"
      ],
      "text/plain": [
       "        name  age  salary  dept  gender  attrition\n",
       "m  Mandakini   23     200     1       0          1\n",
       "c  Catherine   23     154     2       0          0\n",
       "a     Akshay   25     360     0       1          1\n",
       "k       Amit   24     470     2       1          1"
      ]
     },
     "execution_count": 129,
     "metadata": {},
     "output_type": "execute_result"
    }
   ],
   "source": [
    "for col in cat_cols:\n",
    "    df[col] = label_encoder.fit_transform(df[col])\n",
    "df"
   ]
  },
  {
   "cell_type": "markdown",
   "id": "9783c690-6abb-4398-a63a-4e86e46dd98a",
   "metadata": {},
   "source": [
    "-  Gender : F-0, M-1 ; \n",
    "-  Attition : Yes-1, No-0"
   ]
  },
  {
   "cell_type": "code",
   "execution_count": 130,
   "id": "cb49b64f-e04f-4676-942e-5a0eed47e553",
   "metadata": {
    "tags": []
   },
   "outputs": [
    {
     "data": {
      "text/html": [
       "<div>\n",
       "<style scoped>\n",
       "    .dataframe tbody tr th:only-of-type {\n",
       "        vertical-align: middle;\n",
       "    }\n",
       "\n",
       "    .dataframe tbody tr th {\n",
       "        vertical-align: top;\n",
       "    }\n",
       "\n",
       "    .dataframe thead th {\n",
       "        text-align: right;\n",
       "    }\n",
       "</style>\n",
       "<table border=\"1\" class=\"dataframe\">\n",
       "  <thead>\n",
       "    <tr style=\"text-align: right;\">\n",
       "      <th></th>\n",
       "      <th>name</th>\n",
       "      <th>age</th>\n",
       "      <th>salary</th>\n",
       "      <th>dept</th>\n",
       "      <th>gender</th>\n",
       "      <th>attrition</th>\n",
       "    </tr>\n",
       "  </thead>\n",
       "  <tbody>\n",
       "    <tr>\n",
       "      <th>m</th>\n",
       "      <td>Mandakini</td>\n",
       "      <td>23</td>\n",
       "      <td>200</td>\n",
       "      <td>1</td>\n",
       "      <td>0</td>\n",
       "      <td>1</td>\n",
       "    </tr>\n",
       "    <tr>\n",
       "      <th>c</th>\n",
       "      <td>Catherine</td>\n",
       "      <td>23</td>\n",
       "      <td>154</td>\n",
       "      <td>2</td>\n",
       "      <td>0</td>\n",
       "      <td>0</td>\n",
       "    </tr>\n",
       "    <tr>\n",
       "      <th>a</th>\n",
       "      <td>Akshay</td>\n",
       "      <td>25</td>\n",
       "      <td>360</td>\n",
       "      <td>0</td>\n",
       "      <td>1</td>\n",
       "      <td>1</td>\n",
       "    </tr>\n",
       "    <tr>\n",
       "      <th>k</th>\n",
       "      <td>Amit</td>\n",
       "      <td>24</td>\n",
       "      <td>470</td>\n",
       "      <td>2</td>\n",
       "      <td>1</td>\n",
       "      <td>1</td>\n",
       "    </tr>\n",
       "  </tbody>\n",
       "</table>\n",
       "</div>"
      ],
      "text/plain": [
       "        name  age  salary  dept  gender  attrition\n",
       "m  Mandakini   23     200     1       0          1\n",
       "c  Catherine   23     154     2       0          0\n",
       "a     Akshay   25     360     0       1          1\n",
       "k       Amit   24     470     2       1          1"
      ]
     },
     "execution_count": 130,
     "metadata": {},
     "output_type": "execute_result"
    }
   ],
   "source": [
    "df"
   ]
  },
  {
   "cell_type": "code",
   "execution_count": 131,
   "id": "bbf04246-df84-4dc1-9e8b-13af3b851d1c",
   "metadata": {
    "tags": []
   },
   "outputs": [],
   "source": [
    "from sklearn.tree import DecisionTreeClassifier"
   ]
  },
  {
   "cell_type": "code",
   "execution_count": 132,
   "id": "b284d516-663e-4dd3-835a-8153bfc1574a",
   "metadata": {
    "tags": []
   },
   "outputs": [
    {
     "name": "stdout",
     "output_type": "stream",
     "text": [
      "   age  salary  dept  gender\n",
      "m   23     200     1       0\n",
      "c   23     154     2       0\n",
      "a   25     360     0       1\n",
      "k   24     470     2       1 \n",
      " m    1\n",
      "c    0\n",
      "a    1\n",
      "k    1\n",
      "Name: attrition, dtype: int32\n"
     ]
    }
   ],
   "source": [
    "X = df.drop(columns =['name','attrition'])\n",
    "y = df.attrition\n",
    "print(X, '\\n', y)"
   ]
  },
  {
   "cell_type": "code",
   "execution_count": 133,
   "id": "fee45d77-b9f2-41e7-9895-33aeb0fb303d",
   "metadata": {
    "tags": []
   },
   "outputs": [
    {
     "data": {
      "text/plain": [
       "array([0, 1])"
      ]
     },
     "execution_count": 133,
     "metadata": {},
     "output_type": "execute_result"
    }
   ],
   "source": [
    "clsModel = DecisionTreeClassifier(max_depth=3, random_state=123).fit(X, y)  #model with parameter\n",
    "clsModel.classes_"
   ]
  },
  {
   "cell_type": "code",
   "execution_count": 134,
   "id": "a12dd1e0-9a22-42be-940c-e328c70f7898",
   "metadata": {
    "tags": []
   },
   "outputs": [
    {
     "data": {
      "text/plain": [
       "array([1, 0, 1, 1])"
      ]
     },
     "execution_count": 134,
     "metadata": {},
     "output_type": "execute_result"
    }
   ],
   "source": [
    "y_pred = clsModel.predict(X)\n",
    "y_pred"
   ]
  },
  {
   "cell_type": "code",
   "execution_count": 135,
   "id": "d3fad228-162b-495b-b5cd-fa6c96c85dbd",
   "metadata": {
    "tags": []
   },
   "outputs": [
    {
     "data": {
      "text/html": [
       "<div>\n",
       "<style scoped>\n",
       "    .dataframe tbody tr th:only-of-type {\n",
       "        vertical-align: middle;\n",
       "    }\n",
       "\n",
       "    .dataframe tbody tr th {\n",
       "        vertical-align: top;\n",
       "    }\n",
       "\n",
       "    .dataframe thead th {\n",
       "        text-align: right;\n",
       "    }\n",
       "</style>\n",
       "<table border=\"1\" class=\"dataframe\">\n",
       "  <thead>\n",
       "    <tr style=\"text-align: right;\">\n",
       "      <th></th>\n",
       "      <th>attrition</th>\n",
       "      <th>Predicted</th>\n",
       "    </tr>\n",
       "  </thead>\n",
       "  <tbody>\n",
       "    <tr>\n",
       "      <th>0</th>\n",
       "      <td>1</td>\n",
       "      <td>1</td>\n",
       "    </tr>\n",
       "    <tr>\n",
       "      <th>1</th>\n",
       "      <td>0</td>\n",
       "      <td>0</td>\n",
       "    </tr>\n",
       "    <tr>\n",
       "      <th>2</th>\n",
       "      <td>1</td>\n",
       "      <td>1</td>\n",
       "    </tr>\n",
       "    <tr>\n",
       "      <th>3</th>\n",
       "      <td>1</td>\n",
       "      <td>1</td>\n",
       "    </tr>\n",
       "  </tbody>\n",
       "</table>\n",
       "</div>"
      ],
      "text/plain": [
       "   attrition  Predicted\n",
       "0          1          1\n",
       "1          0          0\n",
       "2          1          1\n",
       "3          1          1"
      ]
     },
     "execution_count": 135,
     "metadata": {},
     "output_type": "execute_result"
    }
   ],
   "source": [
    "pd.concat([y.reset_index(drop=True), pd.Series(y_pred, name='Predicted').reset_index(drop=True)], axis=1)"
   ]
  },
  {
   "cell_type": "code",
   "execution_count": 136,
   "id": "1eafd37c-2b61-4193-ab57-2e360257fd18",
   "metadata": {
    "tags": []
   },
   "outputs": [],
   "source": [
    "from sklearn.metrics import classification_report, confusion_matrix, accuracy_score"
   ]
  },
  {
   "cell_type": "code",
   "execution_count": 137,
   "id": "606d5e97-1a7c-41f5-9301-0c98b6f63fe5",
   "metadata": {
    "tags": []
   },
   "outputs": [
    {
     "name": "stdout",
     "output_type": "stream",
     "text": [
      "Classification Report                precision    recall  f1-score   support\n",
      "\n",
      "           0       1.00      1.00      1.00         1\n",
      "           1       1.00      1.00      1.00         3\n",
      "\n",
      "    accuracy                           1.00         4\n",
      "   macro avg       1.00      1.00      1.00         4\n",
      "weighted avg       1.00      1.00      1.00         4\n",
      "\n"
     ]
    }
   ],
   "source": [
    "clsReport = classification_report(y_true=np.array(y), y_pred= y_pred)\n",
    "print('Classification Report ', clsReport)"
   ]
  },
  {
   "cell_type": "code",
   "execution_count": 138,
   "id": "9f759ac1-075d-48e3-8d85-37029ee260bc",
   "metadata": {
    "tags": []
   },
   "outputs": [
    {
     "name": "stdout",
     "output_type": "stream",
     "text": [
      "Confusion Matrix  [[1 0]\n",
      " [0 3]]\n"
     ]
    }
   ],
   "source": [
    "cm = confusion_matrix(y_true=y, y_pred=y_pred)\n",
    "print('Confusion Matrix ', cm)"
   ]
  },
  {
   "cell_type": "code",
   "execution_count": 139,
   "id": "32fcd72b-bcdc-4b24-8cb2-cf9162c91231",
   "metadata": {
    "tags": []
   },
   "outputs": [
    {
     "name": "stdout",
     "output_type": "stream",
     "text": [
      "Accuracy Score  1.0\n"
     ]
    }
   ],
   "source": [
    "accScore = accuracy_score(y_true=y, y_pred=y_pred)\n",
    "print('Accuracy Score ', accScore) #1.0 100%"
   ]
  },
  {
   "cell_type": "code",
   "execution_count": 140,
   "id": "222dea6a-0abf-497f-bc74-73c4b42bc3ab",
   "metadata": {
    "tags": []
   },
   "outputs": [],
   "source": [
    "from sklearn.tree import plot_tree"
   ]
  },
  {
   "cell_type": "code",
   "execution_count": 141,
   "id": "06c8d5f8-5492-4e05-9364-61c96f43dd0d",
   "metadata": {
    "tags": []
   },
   "outputs": [
    {
     "data": {
      "text/plain": [
       "[Text(0.5, 0.75, 'x[1] <= 177.0\\ngini = 0.375\\nsamples = 4\\nvalue = [1, 3]'),\n",
       " Text(0.25, 0.25, 'gini = 0.0\\nsamples = 1\\nvalue = [1, 0]'),\n",
       " Text(0.75, 0.25, 'gini = 0.0\\nsamples = 3\\nvalue = [0, 3]')]"
      ]
     },
     "execution_count": 141,
     "metadata": {},
     "output_type": "execute_result"
    },
    {
     "data": {
      "image/png": "[encoded data removed]",
      "text/plain": [
       "<Figure size 640x480 with 1 Axes>"
      ]
     },
     "metadata": {},
     "output_type": "display_data"
    }
   ],
   "source": [
    "plot_tree(decision_tree=clsModel)"
   ]
  },
  {
   "cell_type": "code",
   "execution_count": 143,
   "id": "18afaef4-817d-49c5-9e19-4a7150759a16",
   "metadata": {
    "tags": []
   },
   "outputs": [
    {
     "data": {
      "image/png": "[encoded data removed]",
      "text/plain": [
       "<Figure size 1000x700 with 1 Axes>"
      ]
     },
     "metadata": {},
     "output_type": "display_data"
    }
   ],
   "source": [
    "plt.figure(figsize=(10,7))\n",
    "plot_tree(clsModel, filled=True, feature_names=['age','salary', 'dept', 'gender'], class_names=['No','Yes'], fontsize=12, max_depth=3)\n",
    "plt.title(\"Decision tree trained on all the Employee Churn : Predict No or Yes\")\n",
    "plt.show();"
   ]
  },
  {
   "cell_type": "code",
   "execution_count": 144,
   "id": "f1d714b9-76a8-4506-b784-e56251fa8b67",
   "metadata": {
    "tags": []
   },
   "outputs": [
    {
     "data": {
      "text/html": [
       "<div>\n",
       "<style scoped>\n",
       "    .dataframe tbody tr th:only-of-type {\n",
       "        vertical-align: middle;\n",
       "    }\n",
       "\n",
       "    .dataframe tbody tr th {\n",
       "        vertical-align: top;\n",
       "    }\n",
       "\n",
       "    .dataframe thead th {\n",
       "        text-align: right;\n",
       "    }\n",
       "</style>\n",
       "<table border=\"1\" class=\"dataframe\">\n",
       "  <thead>\n",
       "    <tr style=\"text-align: right;\">\n",
       "      <th></th>\n",
       "      <th>name</th>\n",
       "      <th>age</th>\n",
       "      <th>salary</th>\n",
       "      <th>dept</th>\n",
       "      <th>gender</th>\n",
       "      <th>attrition</th>\n",
       "    </tr>\n",
       "  </thead>\n",
       "  <tbody>\n",
       "    <tr>\n",
       "      <th>m</th>\n",
       "      <td>Mandakini</td>\n",
       "      <td>23</td>\n",
       "      <td>200</td>\n",
       "      <td>1</td>\n",
       "      <td>0</td>\n",
       "      <td>1</td>\n",
       "    </tr>\n",
       "    <tr>\n",
       "      <th>c</th>\n",
       "      <td>Catherine</td>\n",
       "      <td>23</td>\n",
       "      <td>154</td>\n",
       "      <td>2</td>\n",
       "      <td>0</td>\n",
       "      <td>0</td>\n",
       "    </tr>\n",
       "    <tr>\n",
       "      <th>a</th>\n",
       "      <td>Akshay</td>\n",
       "      <td>25</td>\n",
       "      <td>360</td>\n",
       "      <td>0</td>\n",
       "      <td>1</td>\n",
       "      <td>1</td>\n",
       "    </tr>\n",
       "    <tr>\n",
       "      <th>k</th>\n",
       "      <td>Amit</td>\n",
       "      <td>24</td>\n",
       "      <td>470</td>\n",
       "      <td>2</td>\n",
       "      <td>1</td>\n",
       "      <td>1</td>\n",
       "    </tr>\n",
       "  </tbody>\n",
       "</table>\n",
       "</div>"
      ],
      "text/plain": [
       "        name  age  salary  dept  gender  attrition\n",
       "m  Mandakini   23     200     1       0          1\n",
       "c  Catherine   23     154     2       0          0\n",
       "a     Akshay   25     360     0       1          1\n",
       "k       Amit   24     470     2       1          1"
      ]
     },
     "execution_count": 144,
     "metadata": {},
     "output_type": "execute_result"
    }
   ],
   "source": [
    "df"
   ]
  },
  {
   "cell_type": "code",
   "execution_count": 149,
   "id": "ec15b198-ec14-4374-9546-955e48f8d0d4",
   "metadata": {
    "tags": []
   },
   "outputs": [
    {
     "data": {
      "text/html": [
       "<div>\n",
       "<style scoped>\n",
       "    .dataframe tbody tr th:only-of-type {\n",
       "        vertical-align: middle;\n",
       "    }\n",
       "\n",
       "    .dataframe tbody tr th {\n",
       "        vertical-align: top;\n",
       "    }\n",
       "\n",
       "    .dataframe thead th {\n",
       "        text-align: right;\n",
       "    }\n",
       "</style>\n",
       "<table border=\"1\" class=\"dataframe\">\n",
       "  <thead>\n",
       "    <tr style=\"text-align: right;\">\n",
       "      <th></th>\n",
       "      <th>age</th>\n",
       "      <th>salary</th>\n",
       "      <th>dept</th>\n",
       "      <th>gender</th>\n",
       "    </tr>\n",
       "  </thead>\n",
       "  <tbody>\n",
       "    <tr>\n",
       "      <th>0</th>\n",
       "      <td>24</td>\n",
       "      <td>100</td>\n",
       "      <td>0</td>\n",
       "      <td>0</td>\n",
       "    </tr>\n",
       "    <tr>\n",
       "      <th>1</th>\n",
       "      <td>25</td>\n",
       "      <td>200</td>\n",
       "      <td>2</td>\n",
       "      <td>1</td>\n",
       "    </tr>\n",
       "  </tbody>\n",
       "</table>\n",
       "</div>"
      ],
      "text/plain": [
       "   age  salary  dept  gender\n",
       "0   24     100     0       0\n",
       "1   25     200     2       1"
      ]
     },
     "execution_count": 149,
     "metadata": {},
     "output_type": "execute_result"
    }
   ],
   "source": [
    "newData1 = pd.DataFrame({'age':[24, 25],  'salary':[100, 200],  'dept':[0,2], 'gender':[0,1]})\n",
    "newData1"
   ]
  },
  {
   "cell_type": "code",
   "execution_count": 150,
   "id": "69faf2b5-2db8-4687-872a-b845fed41024",
   "metadata": {
    "tags": []
   },
   "outputs": [
    {
     "data": {
      "text/plain": [
       "array([0, 1])"
      ]
     },
     "execution_count": 150,
     "metadata": {},
     "output_type": "execute_result"
    }
   ],
   "source": [
    "clsModel.predict(newData1)\n",
    "#predict Salary of these persons(they will leave)"
   ]
  },
  {
   "cell_type": "code",
   "execution_count": 151,
   "id": "d0f99e23-354b-42a6-a27d-8e0ac87f4b91",
   "metadata": {
    "tags": []
   },
   "outputs": [],
   "source": [
    "from sklearn.tree import DecisionTreeRegressor"
   ]
  },
  {
   "cell_type": "code",
   "execution_count": 156,
   "id": "083003de-277d-498f-86d9-40b5964116df",
   "metadata": {
    "tags": []
   },
   "outputs": [
    {
     "data": {
      "text/html": [
       "<div>\n",
       "<style scoped>\n",
       "    .dataframe tbody tr th:only-of-type {\n",
       "        vertical-align: middle;\n",
       "    }\n",
       "\n",
       "    .dataframe tbody tr th {\n",
       "        vertical-align: top;\n",
       "    }\n",
       "\n",
       "    .dataframe thead th {\n",
       "        text-align: right;\n",
       "    }\n",
       "</style>\n",
       "<table border=\"1\" class=\"dataframe\">\n",
       "  <thead>\n",
       "    <tr style=\"text-align: right;\">\n",
       "      <th></th>\n",
       "      <th>name</th>\n",
       "      <th>age</th>\n",
       "      <th>salary</th>\n",
       "      <th>dept</th>\n",
       "      <th>gender</th>\n",
       "      <th>attrition</th>\n",
       "    </tr>\n",
       "  </thead>\n",
       "  <tbody>\n",
       "    <tr>\n",
       "      <th>m</th>\n",
       "      <td>Mandakini</td>\n",
       "      <td>23</td>\n",
       "      <td>200</td>\n",
       "      <td>1</td>\n",
       "      <td>0</td>\n",
       "      <td>1</td>\n",
       "    </tr>\n",
       "    <tr>\n",
       "      <th>c</th>\n",
       "      <td>Catherine</td>\n",
       "      <td>23</td>\n",
       "      <td>154</td>\n",
       "      <td>2</td>\n",
       "      <td>0</td>\n",
       "      <td>0</td>\n",
       "    </tr>\n",
       "    <tr>\n",
       "      <th>a</th>\n",
       "      <td>Akshay</td>\n",
       "      <td>25</td>\n",
       "      <td>360</td>\n",
       "      <td>0</td>\n",
       "      <td>1</td>\n",
       "      <td>1</td>\n",
       "    </tr>\n",
       "    <tr>\n",
       "      <th>k</th>\n",
       "      <td>Amit</td>\n",
       "      <td>24</td>\n",
       "      <td>470</td>\n",
       "      <td>2</td>\n",
       "      <td>1</td>\n",
       "      <td>1</td>\n",
       "    </tr>\n",
       "  </tbody>\n",
       "</table>\n",
       "</div>"
      ],
      "text/plain": [
       "        name  age  salary  dept  gender  attrition\n",
       "m  Mandakini   23     200     1       0          1\n",
       "c  Catherine   23     154     2       0          0\n",
       "a     Akshay   25     360     0       1          1\n",
       "k       Amit   24     470     2       1          1"
      ]
     },
     "execution_count": 156,
     "metadata": {},
     "output_type": "execute_result"
    }
   ],
   "source": [
    "df"
   ]
  },
  {
   "cell_type": "code",
   "execution_count": 159,
   "id": "0cd9d483-1d07-4261-939d-b4e5905d073d",
   "metadata": {
    "tags": []
   },
   "outputs": [
    {
     "name": "stdout",
     "output_type": "stream",
     "text": [
      "   age  dept  gender  attrition\n",
      "m   23     1       0          1\n",
      "c   23     2       0          0\n",
      "a   25     0       1          1\n",
      "k   24     2       1          1 \n",
      " m    200\n",
      "c    154\n",
      "a    360\n",
      "k    470\n",
      "Name: salary, dtype: int64\n"
     ]
    }
   ],
   "source": [
    "X1 = df.drop(columns =['name', 'salary'])\n",
    "y1 = df.salary\n",
    "print(X1, '\\n', y1)"
   ]
  },
  {
   "cell_type": "code",
   "execution_count": 160,
   "id": "19855a9e-2570-42c4-add3-9749f19f3b38",
   "metadata": {
    "tags": []
   },
   "outputs": [
    {
     "data": {
      "text/html": [
       "<style>#sk-container-id-3 {color: black;}#sk-container-id-3 pre{padding: 0;}#sk-container-id-3 div.sk-toggleable {background-color: white;}#sk-container-id-3 label.sk-toggleable__label {cursor: pointer;display: block;width: 100%;margin-bottom: 0;padding: 0.3em;box-sizing: border-box;text-align: center;}#sk-container-id-3 label.sk-toggleable__label-arrow:before {content: \"▸\";float: left;margin-right: 0.25em;color: #696969;}#sk-container-id-3 label.sk-toggleable__label-arrow:hover:before {color: black;}#sk-container-id-3 div.sk-estimator:hover label.sk-toggleable__label-arrow:before {color: black;}#sk-container-id-3 div.sk-toggleable__content {max-height: 0;max-width: 0;overflow: hidden;text-align: left;background-color: #f0f8ff;}#sk-container-id-3 div.sk-toggleable__content pre {margin: 0.2em;color: black;border-radius: 0.25em;background-color: #f0f8ff;}#sk-container-id-3 input.sk-toggleable__control:checked~div.sk-toggleable__content {max-height: 200px;max-width: 100%;overflow: auto;}#sk-container-id-3 input.sk-toggleable__control:checked~label.sk-toggleable__label-arrow:before {content: \"▾\";}#sk-container-id-3 div.sk-estimator input.sk-toggleable__control:checked~label.sk-toggleable__label {background-color: #d4ebff;}#sk-container-id-3 div.sk-label input.sk-toggleable__control:checked~label.sk-toggleable__label {background-color: #d4ebff;}#sk-container-id-3 input.sk-hidden--visually {border: 0;clip: rect(1px 1px 1px 1px);clip: rect(1px, 1px, 1px, 1px);height: 1px;margin: -1px;overflow: hidden;padding: 0;position: absolute;width: 1px;}#sk-container-id-3 div.sk-estimator {font-family: monospace;background-color: #f0f8ff;border: 1px dotted black;border-radius: 0.25em;box-sizing: border-box;margin-bottom: 0.5em;}#sk-container-id-3 div.sk-estimator:hover {background-color: #d4ebff;}#sk-container-id-3 div.sk-parallel-item::after {content: \"\";width: 100%;border-bottom: 1px solid gray;flex-grow: 1;}#sk-container-id-3 div.sk-label:hover label.sk-toggleable__label {background-color: #d4ebff;}#sk-container-id-3 div.sk-serial::before {content: \"\";position: absolute;border-left: 1px solid gray;box-sizing: border-box;top: 0;bottom: 0;left: 50%;z-index: 0;}#sk-container-id-3 div.sk-serial {display: flex;flex-direction: column;align-items: center;background-color: white;padding-right: 0.2em;padding-left: 0.2em;position: relative;}#sk-container-id-3 div.sk-item {position: relative;z-index: 1;}#sk-container-id-3 div.sk-parallel {display: flex;align-items: stretch;justify-content: center;background-color: white;position: relative;}#sk-container-id-3 div.sk-item::before, #sk-container-id-3 div.sk-parallel-item::before {content: \"\";position: absolute;border-left: 1px solid gray;box-sizing: border-box;top: 0;bottom: 0;left: 50%;z-index: -1;}#sk-container-id-3 div.sk-parallel-item {display: flex;flex-direction: column;z-index: 1;position: relative;background-color: white;}#sk-container-id-3 div.sk-parallel-item:first-child::after {align-self: flex-end;width: 50%;}#sk-container-id-3 div.sk-parallel-item:last-child::after {align-self: flex-start;width: 50%;}#sk-container-id-3 div.sk-parallel-item:only-child::after {width: 0;}#sk-container-id-3 div.sk-dashed-wrapped {border: 1px dashed gray;margin: 0 0.4em 0.5em 0.4em;box-sizing: border-box;padding-bottom: 0.4em;background-color: white;}#sk-container-id-3 div.sk-label label {font-family: monospace;font-weight: bold;display: inline-block;line-height: 1.2em;}#sk-container-id-3 div.sk-label-container {text-align: center;}#sk-container-id-3 div.sk-container {/* jupyter's `normalize.less` sets `[hidden] { display: none; }` but bootstrap.min.css set `[hidden] { display: none !important; }` so we also need the `!important` here to be able to override the default hidden behavior on the sphinx rendered scikit-learn.org. See: https://github.com/scikit-learn/scikit-learn/issues/21755 */display: inline-block !important;position: relative;}#sk-container-id-3 div.sk-text-repr-fallback {display: none;}</style><div id=\"sk-container-id-3\" class=\"sk-top-container\"><div class=\"sk-text-repr-fallback\"><pre>DecisionTreeRegressor(max_depth=5)</pre><b>In a Jupyter environment, please rerun this cell to show the HTML representation or trust the notebook. <br />On GitHub, the HTML representation is unable to render, please try loading this page with nbviewer.org.</b></div><div class=\"sk-container\" hidden><div class=\"sk-item\"><div class=\"sk-estimator sk-toggleable\"><input class=\"sk-toggleable__control sk-hidden--visually\" id=\"sk-estimator-id-3\" type=\"checkbox\" checked><label for=\"sk-estimator-id-3\" class=\"sk-toggleable__label sk-toggleable__label-arrow\">DecisionTreeRegressor</label><div class=\"sk-toggleable__content\"><pre>DecisionTreeRegressor(max_depth=5)</pre></div></div></div></div></div>"
      ],
      "text/plain": [
       "DecisionTreeRegressor(max_depth=5)"
      ]
     },
     "execution_count": 160,
     "metadata": {},
     "output_type": "execute_result"
    }
   ],
   "source": [
    "regDT = DecisionTreeRegressor(max_depth=5).fit(X1, y1)\n",
    "regDT"
   ]
  },
  {
   "cell_type": "code",
   "execution_count": 162,
   "id": "f9c174de-5732-4daf-9c35-ad8397785073",
   "metadata": {
    "tags": []
   },
   "outputs": [
    {
     "data": {
      "image/png": "[encoded data removed]",
      "text/plain": [
       "<Figure size 1000x700 with 1 Axes>"
      ]
     },
     "metadata": {},
     "output_type": "display_data"
    }
   ],
   "source": [
    "plt.figure(figsize=(10,7))\n",
    "plot_tree(regDT, filled=True, feature_names=['age', 'dept', 'gender', 'attrition'], fontsize=12, max_depth=2)\n",
    "plt.title(\"Decision tree (Regession) on all the Employee Featurs features to Predict Salary\")\n",
    "plt.show();\n",
    "#keep changing value of max_dept to see the effect on tree"
   ]
  },
  {
   "cell_type": "code",
   "execution_count": null,
   "id": "9b10f4fb-933f-45e9-b506-fa5a91496b54",
   "metadata": {
    "tags": []
   },
   "outputs": [],
   "source": [
    "newData2 = pd.DataFrame({'age':[24, 25], 'gender':[0,1], 'attrition':[0,0]})\n",
    "newData2"
   ]
  },
  {
   "cell_type": "code",
   "execution_count": null,
   "id": "02a1a4ca-386c-461a-b7f6-945f0dd76012",
   "metadata": {
    "tags": []
   },
   "outputs": [],
   "source": [
    "regDT.predict(newData2)\n",
    "#predict Salary of these persons"
   ]
  },
  {
   "cell_type": "markdown",
   "id": "4d12dbdb-e71e-45de-9987-edd2d8a895fb",
   "metadata": {
    "tags": []
   },
   "source": [
    "# End here\n",
    "-   use large data\n",
    "-   encode\n",
    "-   train, test, validation\n",
    "-   random forests"
   ]
  },
  {
   "cell_type": "code",
   "execution_count": null,
   "id": "7aad98db-2858-4a1a-ac42-6156b3604ad3",
   "metadata": {},
   "outputs": [],
   "source": []
  }
 ],
 "metadata": {
  "kernelspec": {
   "display_name": "Python 3 (ipykernel)",
   "language": "python",
   "name": "python3"
  },
  "language_info": {
   "codemirror_mode": {
    "name": "ipython",
    "version": 3
   },
   "file_extension": ".py",
   "mimetype": "text/x-python",
   "name": "python",
   "nbconvert_exporter": "python",
   "pygments_lexer": "ipython3",
   "version": "3.11.5"
  }
 },
 "nbformat": 4,
 "nbformat_minor": 5
}
