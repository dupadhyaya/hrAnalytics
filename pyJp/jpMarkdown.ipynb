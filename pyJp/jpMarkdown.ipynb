{
 "cells": [
  {
   "cell_type": "markdown",
   "id": "747b4ad4",
   "metadata": {},
   "source": [
    "# Jupyter Markdown\n"
   ]
  },
  {
   "cell_type": "markdown",
   "id": "461f850c",
   "metadata": {},
   "source": [
    "# Links\n",
    "https://www.ibm.com/docs/en/watson-studio-local/1.2.3?topic=notebooks-markdown-jupyter-cheatsheet"
   ]
  }
 ],
 "metadata": {
  "kernelspec": {
   "display_name": "Python 3 (ipykernel)",
   "language": "python",
   "name": "python3"
  },
  "language_info": {
   "codemirror_mode": {
    "name": "ipython",
    "version": 3
   },
   "file_extension": ".py",
   "mimetype": "text/x-python",
   "name": "python",
   "nbconvert_exporter": "python",
   "pygments_lexer": "ipython3",
   "version": "3.9.16"
  }
 },
 "nbformat": 4,
 "nbformat_minor": 5
}
