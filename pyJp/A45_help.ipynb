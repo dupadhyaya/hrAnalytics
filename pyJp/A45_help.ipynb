{
 "cells": [
  {
   "cell_type": "code",
   "execution_count": 1,
   "id": "6ac8a02f-2213-4d7a-976d-a3a9807916c2",
   "metadata": {
    "tags": []
   },
   "outputs": [],
   "source": [
    "# Help / Documentation in Python"
   ]
  },
  {
   "cell_type": "code",
   "execution_count": null,
   "id": "041cec9e-13d1-4dc1-adb0-dbd6b57dec08",
   "metadata": {},
   "outputs": [],
   "source": []
  },
  {
   "cell_type": "markdown",
   "id": "06007fcd-10f5-44ff-9cd8-d88995cdb137",
   "metadata": {},
   "source": [
    "## module\n"
   ]
  },
  {
   "cell_type": "code",
   "execution_count": 2,
   "id": "4e7d67aa-5e1e-4d66-b63f-a9c199a510f7",
   "metadata": {
    "tags": []
   },
   "outputs": [],
   "source": [
    "import pandas"
   ]
  },
  {
   "cell_type": "code",
   "execution_count": 8,
   "id": "ead695ee-d0b8-40ef-938a-93a24ddde080",
   "metadata": {
    "tags": []
   },
   "outputs": [],
   "source": [
    "#pandas.*?"
   ]
  },
  {
   "cell_type": "code",
   "execution_count": 9,
   "id": "793404c4-e2e7-41fc-97f5-fa23c5bb7a19",
   "metadata": {
    "tags": []
   },
   "outputs": [
    {
     "name": "stderr",
     "output_type": "stream",
     "text": [
      "IOPub data rate exceeded.\n",
      "The notebook server will temporarily stop sending output\n",
      "to the client in order to avoid crashing it.\n",
      "To change this limit, set the config variable\n",
      "`--NotebookApp.iopub_data_rate_limit`.\n",
      "\n",
      "Current values:\n",
      "NotebookApp.iopub_data_rate_limit=1000000.0 (bytes/sec)\n",
      "NotebookApp.rate_limit_window=3.0 (secs)\n",
      "\n"
     ]
    }
   ],
   "source": []
  },
  {
   "cell_type": "code",
   "execution_count": 12,
   "id": "a1e732ba-f504-4a46-8fc1-48f12fff3930",
   "metadata": {
    "tags": []
   },
   "outputs": [],
   "source": [
    "# list of all the public functions and classes in a module (those that do not start with underscores - _)\n",
    "#pandas.__all__"
   ]
  },
  {
   "cell_type": "code",
   "execution_count": 21,
   "id": "b57be641-71bc-4fe3-8050-69c92738a768",
   "metadata": {
    "tags": []
   },
   "outputs": [
    {
     "name": "stdout",
     "output_type": "stream",
     "text": [
      "Help on built-in function print in module builtins:\n",
      "\n",
      "print(*args, sep=' ', end='\\n', file=None, flush=False)\n",
      "    Prints the values to a stream, or to sys.stdout by default.\n",
      "    \n",
      "    sep\n",
      "      string inserted between values, default a space.\n",
      "    end\n",
      "      string appended after the last value, default a newline.\n",
      "    file\n",
      "      a file-like object (stream); defaults to the current sys.stdout.\n",
      "    flush\n",
      "      whether to forcibly flush the stream.\n",
      "\n"
     ]
    }
   ],
   "source": [
    "#help(list)\n",
    "help(print)"
   ]
  },
  {
   "cell_type": "code",
   "execution_count": 28,
   "id": "50e1ca9d-d1ae-4bd2-80a9-4374e4606e4b",
   "metadata": {
    "tags": []
   },
   "outputs": [
    {
     "name": "stdout",
     "output_type": "stream",
     "text": [
      "Dhiraj,Upadhyaya,HR,Analytics\n"
     ]
    }
   ],
   "source": [
    "print('Dhiraj', 'Upadhyaya', 'HR', 'Analytics', sep=',')"
   ]
  },
  {
   "cell_type": "code",
   "execution_count": 30,
   "id": "880d03c8-87e3-4e11-b2e1-88cebb218cfa",
   "metadata": {
    "tags": []
   },
   "outputs": [
    {
     "name": "stdout",
     "output_type": "stream",
     "text": [
      "1::\t2::\t3::\t4::\t"
     ]
    }
   ],
   "source": [
    "for i in range(1,5)  : print(i, end='::\\t')"
   ]
  },
  {
   "cell_type": "code",
   "execution_count": 16,
   "id": "6a0f8c48-0806-446e-b984-859545bbae18",
   "metadata": {
    "tags": []
   },
   "outputs": [],
   "source": [
    "#dir(pandas)"
   ]
  },
  {
   "cell_type": "code",
   "execution_count": 22,
   "id": "e75c0cca-5f58-48a6-af58-739a6a38cf17",
   "metadata": {
    "tags": []
   },
   "outputs": [
    {
     "name": "stdout",
     "output_type": "stream",
     "text": [
      "ArrowDtype\tBooleanDtype\tCategorical\tCategoricalDtype\tCategoricalIndex\tDataFrame\tDateOffset\tDatetimeIndex\tDatetimeTZDtype\tExcelFile\tExcelWriter\tFlags\tFloat32Dtype\tFloat64Dtype\tGrouper\tHDFStore\tIndex\tIndexSlice\tInt16Dtype\tInt32Dtype\tInt64Dtype\tInt8Dtype\tInterval\tIntervalDtype\tIntervalIndex\tMultiIndex\tNA\tNaT\tNamedAgg\tPeriod\tPeriodDtype\tPeriodIndex\tRangeIndex\tSeries\tSparseDtype\tStringDtype\tTimedelta\tTimedeltaIndex\tTimestamp\tUInt16Dtype\tUInt32Dtype\tUInt64Dtype\tUInt8Dtype\t__all__\t__annotations__\t__builtins__\t__cached__\t__doc__\t__docformat__\t__file__\t__git_version__\t__loader__\t__name__\t__package__\t__path__\t__spec__\t__version__\t_built_with_meson\t_config\t_is_numpy_dev\t_libs\t_pandas_datetime_CAPI\t_pandas_parser_CAPI\t_testing\t_typing\t_version_meson\tannotations\tapi\tarray\tarrays\tbdate_range\tcompat\tconcat\tcore\tcrosstab\tcut\tdate_range\tdescribe_option\terrors\teval\tfactorize\tfrom_dummies\tget_dummies\tget_option\tinfer_freq\tinterval_range\tio\tisna\tisnull\tjson_normalize\tlreshape\tmelt\tmerge\tmerge_asof\tmerge_ordered\tnotna\tnotnull\toffsets\toption_context\toptions\tpandas\tperiod_range\tpivot\tpivot_table\tplotting\tqcut\tread_clipboard\tread_csv\tread_excel\tread_feather\tread_fwf\tread_gbq\tread_hdf\tread_html\tread_json\tread_orc\tread_parquet\tread_pickle\tread_sas\tread_spss\tread_sql\tread_sql_query\tread_sql_table\tread_stata\tread_table\tread_xml\treset_option\tset_eng_float_format\tset_option\tshow_versions\ttest\ttesting\ttimedelta_range\tto_datetime\tto_numeric\tto_pickle\tto_timedelta\ttseries\tunique\tutil\tvalue_counts\twide_to_long\t"
     ]
    }
   ],
   "source": [
    "for i in dir(pandas) : print( i, end='\\t')"
   ]
  },
  {
   "cell_type": "code",
   "execution_count": 31,
   "id": "0c19ee27-7b01-475a-9eda-02508fcf9d12",
   "metadata": {
    "tags": []
   },
   "outputs": [],
   "source": [
    "from inspect import getmembers, isfunction"
   ]
  },
  {
   "cell_type": "code",
   "execution_count": 33,
   "id": "55d06017-c908-4ba9-a15d-5b745d577aaf",
   "metadata": {
    "tags": []
   },
   "outputs": [],
   "source": [
    "#getmembers(pandas)"
   ]
  },
  {
   "cell_type": "code",
   "execution_count": null,
   "id": "db1f6f75-b64e-45dd-9e6e-0fb16e5a821f",
   "metadata": {},
   "outputs": [],
   "source": []
  }
 ],
 "metadata": {
  "kernelspec": {
   "display_name": "Python 3 (ipykernel)",
   "language": "python",
   "name": "python3"
  },
  "language_info": {
   "codemirror_mode": {
    "name": "ipython",
    "version": 3
   },
   "file_extension": ".py",
   "mimetype": "text/x-python",
   "name": "python",
   "nbconvert_exporter": "python",
   "pygments_lexer": "ipython3",
   "version": "3.11.5"
  }
 },
 "nbformat": 4,
 "nbformat_minor": 5
}
