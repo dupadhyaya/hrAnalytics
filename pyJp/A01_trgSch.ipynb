{
 "cells": [
  {
   "cell_type": "markdown",
   "id": "8941a3ab-886b-4214-a7e0-5344718866ae",
   "metadata": {},
   "source": [
    "# Lesson Plan/ Training Plan\n",
    "- This will lay down the structure with further reading \n"
   ]
  },
  {
   "cell_type": "code",
   "execution_count": null,
   "id": "dac95c0c-35a9-49d6-ab07-fc277cdbad73",
   "metadata": {},
   "outputs": [],
   "source": []
  },
  {
   "cell_type": "markdown",
   "id": "620874df-4258-4f26-970c-35877bab9d00",
   "metadata": {
    "tags": []
   },
   "source": [
    "## Pre-Requisites Suggested\n",
    "-  Subject Areas\n",
    "    -  Computer Knowledge\n",
    "    -  Excel / Google Sheets / SQL\n",
    "    -  Basic Statistics\n",
    "-  Excel Functions\n",
    "    -  Sum, Average, Median, Mode, Standard Deviation\n",
    "    -  Pivot Table, \n",
    "    -  Graphs - Pie, Bar, Line, Histogram, Heat Map, Mosaic\n",
    "-  Domain Knowledge (HR)\n",
    "    -  What are the core functions of HR\n",
    "    -  What are the metrics used for HR - Performance, etc\n",
    "    -  What are the kind of decisions HR takes\n",
    "    -  Other - Recruitment, Appraisal, Attrition, Pay & Allowences etc\n",
    "-  Key Words \n",
    "    -  HR Analytics, Benefits of HR Analytics \n",
    "-  Reading Links (use this link  & search for more content on related key words)\n",
    "    -  https://www.gartner.com/en/human-resources/glossary/hr-analytics \n",
    "    -  https://www.aihr.com/blog/what-is-hr-analytics/ \n",
    "    -  "
   ]
  },
  {
   "cell_type": "markdown",
   "id": "18930f34-3538-4ba1-8595-fa36e7265b39",
   "metadata": {},
   "source": [
    "# Setup Instructions\n",
    "-  Create Folder in Laptop  (all small cases without any space)\n",
    "    -  analytics\n",
    "        -  projects  - Analytics Project\n",
    "        -  ebooks  - document for reading\n",
    "        -  data  - external data in csv, excel \n",
    "        -  setup - setup files\n",
    "-  Download Software for use (INTO : xxxxx/analytics/setup  folder)\n",
    "    -   Anaconda (Data Science Environment)\n",
    "        -  https://www.anaconda.com/download  (Download for OS version)\n",
    "    -   Git  (Project Management)\n",
    "        -  https://git-scm.com/download/win  (64bit for Windows, Mac has inbuilt Git)\n",
    "        -  https://desktop.github.com/  (Download for Win 64 bit or Mac as applicable)\n",
    "    -   Java  (Required for certain libraries)\n",
    "        -  https://www.java.com/en/download/  (Lates version)\n",
    "-   Create Git id\n",
    "    -  https://github.com/  (create userid and verify account; use general options)\n",
    "    -  Login and create a new repository  https://github.com/new\n",
    "        -   pyanalytics\n",
    "-   Install/ Configuration above apps in the order   (as administrator)\n",
    "    -   Git for Windows\n",
    "    -   Git Desktop\n",
    "        -  Login using web browser\n",
    "        -  Authorise Desktop \n",
    "        -  Open Git Desktop App ->  Add -> Clone Repository -> (select GitHub)  -> you will see available repositories\n",
    "        -  Select userid/pyAnalytics  \n",
    "        -  Choose local path for cloning ( xxxx/analytics/projects)\n",
    "        -  Clone  (you will find a folder xxxxx/analytics/projects/pyanalytics  )\n",
    "    -   Anaconda (this will take some time to install : 5 to 15 min)\n",
    "        -  use default options (all users)\n",
    "-   Configure Jupyter to open pyanalytics repository\n",
    "    -   Windows Search App - Jupyter  -> Add Shortcut to Taskbar\n",
    "    -   Right Click on Jupyter shortcut (taskbar) and open properties windows\n",
    "    -   Start In : xxx\\analytics\\projects\\pyAnalytics\n",
    "    -   Target : xxxxxxxxxscript.py   \"xxx\\analytics\\projects\\pyAnalytics\"\n",
    "    -   Apply/ Save\n",
    "-   Working\n",
    "    -   Click on Jupyter Shortcut linking to Repository Folder\n",
    "    -   Browser will open at :  http://localhost:8888/tree\n",
    "    -   Alternate way of using Jupyter : http://localhost:8888/lab\n",
    "-   Create Python Jupyter Notebook\n",
    "    -   File - > New -> Python Notebook (ipynb)\n",
    "    -   Save or use Autosave\n",
    "    -   Type/ Edit Code\n",
    "    -   Learn to use Jupyter IDE and reading reference doc in Help section of Jupyter Notebook"
   ]
  },
  {
   "cell_type": "markdown",
   "id": "df1ff25c-6315-46c9-8ae7-90ffb5c546d2",
   "metadata": {},
   "source": [
    "## Development\n",
    "-  Coding\n",
    "    -  Create Python Notebooks and if required put them in folders\n",
    "    -  Once done, save, close tabs and shutdown jupyter\n",
    "-  Save/Push to Git\n",
    "    -  Open Git Desktop\n",
    "    -  Select the repository\n",
    "    -  Enter some words in Comments\n",
    "    -  Push /publish Branch\n",
    "    -  Open the GitHub url with credentials and see the updates done"
   ]
  },
  {
   "cell_type": "markdown",
   "id": "313c2b5c-fa4e-40db-8d09-5b836f7bce69",
   "metadata": {
    "tags": []
   },
   "source": [
    "## Update Conda  ((pen anaconda prompt as Administrator))\n",
    "    -  conda update -n base conda \n",
    "    -  conda update conda\n",
    "    -  conda update anaconda\n",
    "    -  conda update --all\n",
    "    -  conda install anaconda=2023.3\n",
    "    -  conda --version   : conda -V\n",
    "    -  conda info\n",
    "    -  conda list anaconda$\n",
    "    -  python -V\n",
    "    -  conda list python"
   ]
  },
  {
   "cell_type": "markdown",
   "id": "37435228-d515-4745-9004-322e113711e9",
   "metadata": {},
   "source": [
    "## Other Links for Reference\n",
    "-  Anaconda\n",
    "    -  for Mac OS  : https://docs.anaconda.com/anaconda/install/mac-os/\n",
    "    -  for Linux : https://docs.anaconda.com/free/anaconda/install/linux/\n",
    "-  Git\n",
    "    -  Mac  : https://git-scm.com/download/mac\n",
    "    -  Git Desktop for Mac : https://central.github.com/deployments/desktop/desktop/latest/darwin\n",
    "-  Python Packages\n",
    "    -  https://anaconda.cloud/package-categories\n",
    "-  Python Learning\n",
    "    -  https://learning.anaconda.cloud/\n",
    "    -  https://learning.anaconda.cloud/get-started-with-anaconda\n",
    "-  Python Jup Cloud\n",
    "    -  https://anaconda.cloud/sign-in"
   ]
  },
  {
   "cell_type": "markdown",
   "id": "c39cb6f1-81ad-417e-be09-d33961c013a7",
   "metadata": {},
   "source": [
    "## 08 OCt 2023\n",
    "-  data - Amit\n",
    "   -  various of summaries\n",
    "   -  questions\n",
    "-  graphs - pandas - bar, pie, line, ....\n"
   ]
  }
 ],
 "metadata": {
  "kernelspec": {
   "display_name": "Python 3 (ipykernel)",
   "language": "python",
   "name": "python3"
  },
  "language_info": {
   "codemirror_mode": {
    "name": "ipython",
    "version": 3
   },
   "file_extension": ".py",
   "mimetype": "text/x-python",
   "name": "python",
   "nbconvert_exporter": "python",
   "pygments_lexer": "ipython3",
   "version": "3.11.5"
  }
 },
 "nbformat": 4,
 "nbformat_minor": 5
}
