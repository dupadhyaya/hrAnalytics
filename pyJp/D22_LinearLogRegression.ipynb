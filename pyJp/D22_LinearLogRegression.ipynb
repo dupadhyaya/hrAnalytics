{
 "cells": [
  {
   "cell_type": "markdown",
   "id": "c991fc22",
   "metadata": {},
   "source": [
    "## Different Modeling Techniques\n",
    "- Continuous (eg age) - 20, 25,22, 30.5\n",
    "- Discrete  (eg prob of selection) - Yes/No, 0/1\n",
    "- Equation\n",
    "    - y = mx + c\n",
    "    - y = c + b1*x1 + b2 * x2\n",
    "    - y - DV, x - IV, b1, b2 - Coefficients, c - intercept\n",
    "-  Dependent variable (y)  - which depends on other variables, can be predicted\n",
    "-  Independent variable (xs) - which vary , can measure, can be changed\n",
    "\n",
    "### Linear Regression\n",
    "-  Predict Y (continous value) on Xs (independent variables - continous / categorical)\n",
    "\n",
    "### Logistic Regression\n",
    "-  Predict Y (probability of 0 or 1 ) on X (IV)\n",
    "\n",
    "### Decision Tree\n",
    "-  Classification Tree : like Logistic Regression\n",
    "-  Regression Tree : like Linear Regression\n",
    "\n",
    "### Clustering\n",
    "-  Grouping of data based on similarities \n",
    "-  eg grouping employees based on gender, salary, et\n",
    "\n",
    "### Association Rule Analysis\n",
    "-  Finding association between between variables of employees\n",
    "-  Those who live more than 20 km away they prefer to work from home\n",
    "\n",
    "### Time Series Analysis\n",
    "-  Predict manpower requirements in next few months/ years like stock market predictions\n",
    "\n",
    "### Sentiment Analysis\n",
    "-  Classifying feedback into positive or negative sentiments eg. people talk positively about their dept / seniors\n"
   ]
  },
  {
   "cell_type": "code",
   "execution_count": 2,
   "id": "025956ff",
   "metadata": {},
   "outputs": [],
   "source": [
    "#libraries\n",
    "import pandas as pd\n",
    "import numpy as np\n",
    "import matplotlib.pyplot as plt\n",
    "import seaborn as sns\n",
    "from pydataset import data"
   ]
  },
  {
   "cell_type": "code",
   "execution_count": 12,
   "id": "7c3eb1f5",
   "metadata": {},
   "outputs": [
    {
     "name": "stdout",
     "output_type": "stream",
     "text": [
      "(32, 11) Index(['mpg', 'cyl', 'disp', 'hp', 'drat', 'wt', 'qsec', 'vs', 'am', 'gear',\n",
      "       'carb'],\n",
      "      dtype='object') \n",
      "\n",
      "mpg     float64\n",
      "cyl       int64\n",
      "disp    float64\n",
      "hp        int64\n",
      "drat    float64\n",
      "wt      float64\n",
      "qsec    float64\n",
      "vs        int64\n",
      "am        int64\n",
      "gear      int64\n",
      "carb      int64\n",
      "dtype: object \n",
      "                     mpg     wt   hp  gear\n",
      "Mazda RX4          21.0  2.620  110     4\n",
      "Mazda RX4 Wag      21.0  2.875  110     4\n",
      "Datsun 710         22.8  2.320   93     4\n",
      "Hornet 4 Drive     21.4  3.215  110     3\n",
      "Hornet Sportabout  18.7  3.440  175     3\n"
     ]
    }
   ],
   "source": [
    "#data\n",
    "mt = data('mtcars')\n",
    "print(mt.shape, mt.columns,'\\n')\n",
    "print(mt.dtypes, '\\n', mt[['mpg','wt','hp','gear']].head())"
   ]
  },
  {
   "cell_type": "markdown",
   "id": "816f60fa",
   "metadata": {},
   "source": [
    "## Linear Regression\n",
    "-  https://scikit-learn.org/stable/modules/generated/sklearn.linear_model.LinearRegression.html\n",
    "-  Predict Y (Dependent Variable) on the basis of Xs (Independent Variables)\n",
    "-  Y : Continous eg salary, age, increment\n",
    "-  Xs : can be continous or discrete eg. gender, age, salary, experience in yrs etc\n",
    "-  In this mtcars data set : Y (mpg) predict on the basis of Xs (wt, hp, gear)\n",
    "-  Steps\n",
    "    -  from sklearn.linear_model import LinearRegression\n",
    "    -  model = LinearRegression()\n",
    "    -  model.fit(X,y)\n",
    "    -  r_sq = model.score(X, y)\n",
    "    -  y_pred = model.predict(X)"
   ]
  },
  {
   "cell_type": "code",
   "execution_count": 24,
   "id": "354cfe91",
   "metadata": {},
   "outputs": [],
   "source": [
    "from sklearn.model_selection import train_test_split\n",
    "from sklearn.linear_model import LinearRegression"
   ]
  },
  {
   "cell_type": "code",
   "execution_count": 82,
   "id": "8c178be5",
   "metadata": {},
   "outputs": [
    {
     "name": "stdout",
     "output_type": "stream",
     "text": [
      "(32, 3) (32,) Index(['wt', 'hp', 'gear'], dtype='object') mpg\n"
     ]
    }
   ],
   "source": [
    "data1 = mt[['mpg','wt','hp','gear']]\n",
    "X = data1.drop(columns='mpg')\n",
    "y= data1.mpg\n",
    "print(X.shape, y.shape, X.columns, y.name)\n",
    "#rows/cols of X, y, ; names of columsn in X, y"
   ]
  },
  {
   "cell_type": "code",
   "execution_count": 23,
   "id": "89ebeceb",
   "metadata": {},
   "outputs": [
    {
     "name": "stdout",
     "output_type": "stream",
     "text": [
      "                  wt   hp  gear\n",
      "Mazda RX4      2.620  110     4\n",
      "Mazda RX4 Wag  2.875  110     4\n",
      "Datsun 710     2.320   93     4 \n",
      " Mazda RX4        21.0\n",
      "Mazda RX4 Wag    21.0\n",
      "Datsun 710       22.8\n",
      "Name: mpg, dtype: float64\n"
     ]
    }
   ],
   "source": [
    "print(X.head(3), '\\n', y.head(3))"
   ]
  },
  {
   "cell_type": "code",
   "execution_count": 28,
   "id": "a88ff2c1",
   "metadata": {},
   "outputs": [],
   "source": [
    "X_train, X_test, y_train, y_test = train_test_split(X, y, test_size=.2, random_state=123)"
   ]
  },
  {
   "cell_type": "code",
   "execution_count": 29,
   "id": "4b5949c2",
   "metadata": {},
   "outputs": [
    {
     "name": "stdout",
     "output_type": "stream",
     "text": [
      "(25, 3) (7, 3) (25,) (7,)\n"
     ]
    }
   ],
   "source": [
    "print(X_train.shape, X_test.shape, y_train.shape, y_test.shape)"
   ]
  },
  {
   "cell_type": "code",
   "execution_count": 49,
   "id": "84d3f614",
   "metadata": {},
   "outputs": [],
   "source": [
    "reg1 = LinearRegression().fit(X,y)"
   ]
  },
  {
   "cell_type": "code",
   "execution_count": 50,
   "id": "fb5aed4d",
   "metadata": {},
   "outputs": [
    {
     "name": "stdout",
     "output_type": "stream",
     "text": [
      "R2  0.8352309600685556\n"
     ]
    }
   ],
   "source": [
    "print('R2 ', reg1.score(X,y))"
   ]
  },
  {
   "cell_type": "code",
   "execution_count": 51,
   "id": "3b471098",
   "metadata": {},
   "outputs": [
    {
     "name": "stdout",
     "output_type": "stream",
     "text": [
      "Coefficients  [-3.19781062 -0.03678606  1.01998087]\n"
     ]
    }
   ],
   "source": [
    "print('Coefficients ', reg1.coef_)"
   ]
  },
  {
   "cell_type": "code",
   "execution_count": 65,
   "id": "95c5649b",
   "metadata": {},
   "outputs": [
    {
     "name": "stdout",
     "output_type": "stream",
     "text": [
      "Predict MPG for given X values \n",
      "  [23.67 22.85 25.25 20.75 17.64 20.15 14.64 23.61 22.53 20.57 20.57 15.44\n",
      " 16.52 16.36 10.74  9.82  9.52 26.63 29.02 27.83 23.62 18.3  18.57 13.78\n",
      " 16.34 27.48 26.92 28.12 17.26 21.82 13.37 23.19]\n"
     ]
    }
   ],
   "source": [
    "y_pred = reg1.predict(X).round(2)\n",
    "print('Predict MPG for given X values \\n ', y_pred)"
   ]
  },
  {
   "cell_type": "code",
   "execution_count": 66,
   "id": "c76b71e7",
   "metadata": {},
   "outputs": [
    {
     "name": "stdout",
     "output_type": "stream",
     "text": [
      "                  wt   hp  gear\n",
      "Mazda RX4      2.620  110     4\n",
      "Mazda RX4 Wag  2.875  110     4 \n",
      "\n",
      "              wt          hp       gear\n",
      "count  32.000000   32.000000  32.000000\n",
      "mean    3.217250  146.687500   3.687500\n",
      "std     0.978457   68.562868   0.737804\n",
      "min     1.513000   52.000000   3.000000\n",
      "25%     2.581250   96.500000   3.000000\n",
      "50%     3.325000  123.000000   4.000000\n",
      "75%     3.610000  180.000000   4.000000\n",
      "max     5.424000  335.000000   5.000000\n"
     ]
    }
   ],
   "source": [
    "print(X.head(2), '\\n')\n",
    "print(X.describe())  #sample values between min and max of each variable"
   ]
  },
  {
   "cell_type": "code",
   "execution_count": 67,
   "id": "20015114",
   "metadata": {},
   "outputs": [
    {
     "data": {
      "text/html": [
       "<div>\n",
       "<style scoped>\n",
       "    .dataframe tbody tr th:only-of-type {\n",
       "        vertical-align: middle;\n",
       "    }\n",
       "\n",
       "    .dataframe tbody tr th {\n",
       "        vertical-align: top;\n",
       "    }\n",
       "\n",
       "    .dataframe thead th {\n",
       "        text-align: right;\n",
       "    }\n",
       "</style>\n",
       "<table border=\"1\" class=\"dataframe\">\n",
       "  <thead>\n",
       "    <tr style=\"text-align: right;\">\n",
       "      <th></th>\n",
       "      <th>wt</th>\n",
       "      <th>hp</th>\n",
       "      <th>gear</th>\n",
       "    </tr>\n",
       "  </thead>\n",
       "  <tbody>\n",
       "    <tr>\n",
       "      <th>0</th>\n",
       "      <td>3</td>\n",
       "      <td>200</td>\n",
       "      <td>5</td>\n",
       "    </tr>\n",
       "    <tr>\n",
       "      <th>1</th>\n",
       "      <td>5</td>\n",
       "      <td>100</td>\n",
       "      <td>4</td>\n",
       "    </tr>\n",
       "    <tr>\n",
       "      <th>2</th>\n",
       "      <td>6</td>\n",
       "      <td>300</td>\n",
       "      <td>3</td>\n",
       "    </tr>\n",
       "  </tbody>\n",
       "</table>\n",
       "</div>"
      ],
      "text/plain": [
       "   wt   hp  gear\n",
       "0   3  200     5\n",
       "1   5  100     4\n",
       "2   6  300     3"
      ]
     },
     "execution_count": 67,
     "metadata": {},
     "output_type": "execute_result"
    }
   ],
   "source": [
    "#create new set of values\n",
    "newData = pd.DataFrame({'wt':[3,5,6], 'hp':[200, 100,300], 'gear':[5,4,3]})\n",
    "newData"
   ]
  },
  {
   "cell_type": "code",
   "execution_count": 68,
   "id": "bc87b890",
   "metadata": {},
   "outputs": [
    {
     "name": "stdout",
     "output_type": "stream",
     "text": [
      "Predict MPG for new Set of Data  [20.16 16.43  4.85]\n"
     ]
    }
   ],
   "source": [
    "print('Predict MPG for new Set of Data ', reg1.predict(newData).round(2))"
   ]
  },
  {
   "cell_type": "code",
   "execution_count": 69,
   "id": "8ce8069e",
   "metadata": {},
   "outputs": [
    {
     "name": "stdout",
     "output_type": "stream",
     "text": [
      "<class 'pandas.core.series.Series'> <class 'numpy.ndarray'>\n"
     ]
    }
   ],
   "source": [
    "print(type(y), type(y_pred))"
   ]
  },
  {
   "cell_type": "code",
   "execution_count": 78,
   "id": "1b107ac0",
   "metadata": {},
   "outputs": [
    {
     "data": {
      "text/html": [
       "<div>\n",
       "<style scoped>\n",
       "    .dataframe tbody tr th:only-of-type {\n",
       "        vertical-align: middle;\n",
       "    }\n",
       "\n",
       "    .dataframe tbody tr th {\n",
       "        vertical-align: top;\n",
       "    }\n",
       "\n",
       "    .dataframe thead th {\n",
       "        text-align: right;\n",
       "    }\n",
       "</style>\n",
       "<table border=\"1\" class=\"dataframe\">\n",
       "  <thead>\n",
       "    <tr style=\"text-align: right;\">\n",
       "      <th></th>\n",
       "      <th>0</th>\n",
       "      <th>1</th>\n",
       "      <th>2</th>\n",
       "    </tr>\n",
       "  </thead>\n",
       "  <tbody>\n",
       "    <tr>\n",
       "      <th>0</th>\n",
       "      <td>Mazda RX4</td>\n",
       "      <td>21.0</td>\n",
       "      <td>23.67</td>\n",
       "    </tr>\n",
       "    <tr>\n",
       "      <th>1</th>\n",
       "      <td>Mazda RX4 Wag</td>\n",
       "      <td>21.0</td>\n",
       "      <td>22.85</td>\n",
       "    </tr>\n",
       "    <tr>\n",
       "      <th>2</th>\n",
       "      <td>Datsun 710</td>\n",
       "      <td>22.8</td>\n",
       "      <td>25.25</td>\n",
       "    </tr>\n",
       "    <tr>\n",
       "      <th>3</th>\n",
       "      <td>Hornet 4 Drive</td>\n",
       "      <td>21.4</td>\n",
       "      <td>20.75</td>\n",
       "    </tr>\n",
       "    <tr>\n",
       "      <th>4</th>\n",
       "      <td>Hornet Sportabout</td>\n",
       "      <td>18.7</td>\n",
       "      <td>17.64</td>\n",
       "    </tr>\n",
       "  </tbody>\n",
       "</table>\n",
       "</div>"
      ],
      "text/plain": [
       "                   0     1      2\n",
       "0          Mazda RX4  21.0  23.67\n",
       "1      Mazda RX4 Wag  21.0  22.85\n",
       "2         Datsun 710  22.8  25.25\n",
       "3     Hornet 4 Drive  21.4  20.75\n",
       "4  Hornet Sportabout  18.7  17.64"
      ]
     },
     "execution_count": 78,
     "metadata": {},
     "output_type": "execute_result"
    }
   ],
   "source": [
    "from sklearn.metrics import mean_squared_error\n",
    "#pd.concat([y.reshape(-1,1), y_pred.reshape(-1,1)])\n",
    "pd.concat([y.reset_index(), pd.Series(y_pred)],axis=1, ignore_index=True).head()\n",
    "#there is difference between actual (1) and predicted values(2), which show accuracy of the model ?"
   ]
  },
  {
   "cell_type": "code",
   "execution_count": 81,
   "id": "d494c3a9",
   "metadata": {},
   "outputs": [
    {
     "name": "stdout",
     "output_type": "stream",
     "text": [
      "Mean Squared Error  5.8  : Root Mean Squared Error -  2.41\n"
     ]
    }
   ],
   "source": [
    "mse = mean_squared_error(y_true=y, y_pred=y_pred, squared=True)\n",
    "rmse = mean_squared_error(y_true=y, y_pred=y_pred, squared=False)\n",
    "print('Mean Squared Error ', mse.round(2), ' : Root Mean Squared Error - ', rmse.round(2))\n",
    "#rmse should be as less as possible"
   ]
  },
  {
   "cell_type": "code",
   "execution_count": 84,
   "id": "09cfbb6c",
   "metadata": {},
   "outputs": [],
   "source": [
    "#different library\n",
    "from statsmodels.formula.api import ols"
   ]
  },
  {
   "cell_type": "code",
   "execution_count": 85,
   "id": "f15627d2",
   "metadata": {},
   "outputs": [],
   "source": [
    "reg2 = ols(\"mpg ~ wt + hp + gear\", data=data1).fit()"
   ]
  },
  {
   "cell_type": "code",
   "execution_count": 88,
   "id": "ea534a68",
   "metadata": {},
   "outputs": [
    {
     "name": "stdout",
     "output_type": "stream",
     "text": [
      " Predicted Values of MPG from OLS technique \t [23.67 22.85 25.25 20.75 17.64 20.15 14.64 23.61 22.53 20.57 20.57 15.44\n",
      " 16.52 16.36 10.74  9.82  9.52 26.63 29.02 27.83 23.62 18.3  18.57 13.78\n",
      " 16.34 27.48 26.92 28.12 17.26 21.82 13.37 23.19]\n"
     ]
    }
   ],
   "source": [
    "y_predOLS  = reg2.predict().round(2)\n",
    "print(' Predicted Values of MPG from OLS technique \\t', y_predOLS)"
   ]
  },
  {
   "cell_type": "code",
   "execution_count": 91,
   "id": "96d35574",
   "metadata": {},
   "outputs": [
    {
     "name": "stdout",
     "output_type": "stream",
     "text": [
      "Predict MPG for new Set of Data from OLS\n",
      " 0    20.16\n",
      "1    16.43\n",
      "2     4.85\n",
      "dtype: float64\n"
     ]
    }
   ],
   "source": [
    "print('Predict MPG for new Set of Data from OLS\\n', reg2.predict(newData).round(2))"
   ]
  },
  {
   "cell_type": "code",
   "execution_count": 92,
   "id": "98ff4d6e",
   "metadata": {},
   "outputs": [
    {
     "name": "stdout",
     "output_type": "stream",
     "text": [
      "Summary of the Model                              OLS Regression Results                            \n",
      "==============================================================================\n",
      "Dep. Variable:                    mpg   R-squared:                       0.835\n",
      "Model:                            OLS   Adj. R-squared:                  0.818\n",
      "Method:                 Least Squares   F-statistic:                     47.31\n",
      "Date:                Thu, 06 Jul 2023   Prob (F-statistic):           4.33e-11\n",
      "Time:                        11:14:00   Log-Likelihood:                -73.526\n",
      "No. Observations:                  32   AIC:                             155.1\n",
      "Df Residuals:                      28   BIC:                             160.9\n",
      "Df Model:                           3                                         \n",
      "Covariance Type:            nonrobust                                         \n",
      "==============================================================================\n",
      "                 coef    std err          t      P>|t|      [0.025      0.975]\n",
      "------------------------------------------------------------------------------\n",
      "Intercept     32.0137      4.632      6.911      0.000      22.525      41.502\n",
      "wt            -3.1978      0.847     -3.777      0.001      -4.932      -1.464\n",
      "hp            -0.0368      0.010     -3.719      0.001      -0.057      -0.017\n",
      "gear           1.0200      0.851      1.198      0.241      -0.724       2.764\n",
      "==============================================================================\n",
      "Omnibus:                        6.699   Durbin-Watson:                   1.397\n",
      "Prob(Omnibus):                  0.035   Jarque-Bera (JB):                5.369\n",
      "Skew:                           0.977   Prob(JB):                       0.0682\n",
      "Kurtosis:                       3.455   Cond. No.                     1.69e+03\n",
      "==============================================================================\n",
      "\n",
      "Notes:\n",
      "[1] Standard Errors assume that the covariance matrix of the errors is correctly specified.\n",
      "[2] The condition number is large, 1.69e+03. This might indicate that there are\n",
      "strong multicollinearity or other numerical problems.\n"
     ]
    }
   ],
   "source": [
    "print('Summary of the Model ', reg2.summary())\n",
    "#understand : R2, Adjust R2, AIC, p-Value of Coefficients, F-Stats"
   ]
  },
  {
   "cell_type": "code",
   "execution_count": 97,
   "id": "7ec8447f",
   "metadata": {},
   "outputs": [
    {
     "data": {
      "text/plain": [
       "<Axes: >"
      ]
     },
     "execution_count": 97,
     "metadata": {},
     "output_type": "execute_result"
    },
    {
     "data": {
      "image/png": "[encoded data removed]",
      "text/plain": [
       "<Figure size 640x480 with 2 Axes>"
      ]
     },
     "metadata": {},
     "output_type": "display_data"
    }
   ],
   "source": [
    "#correlation map\n",
    "sns.heatmap(data.corr(), annot=True)"
   ]
  },
  {
   "cell_type": "code",
   "execution_count": 98,
   "id": "ac77b783",
   "metadata": {},
   "outputs": [],
   "source": [
    "# now try with any data set using above Linear Regression"
   ]
  },
  {
   "cell_type": "markdown",
   "id": "a5449cc3",
   "metadata": {},
   "source": [
    "## Logistic Regression\n",
    "-  https://www.andrewvillazon.com/logistic-regression-python-statsmodels/\n",
    "-  Predict a category (0/1, Yes/No) on the basis of IVs (which can be continous or categories)"
   ]
  },
  {
   "cell_type": "code",
   "execution_count": 100,
   "id": "5e929fc0",
   "metadata": {},
   "outputs": [],
   "source": [
    "#additional libraries\n",
    "from sklearn.linear_model import LogisticRegression\n",
    "from sklearn.metrics import classification_report, confusion_matrix\n",
    "#seaborn to create confusion matrix"
   ]
  },
  {
   "cell_type": "code",
   "execution_count": 107,
   "id": "6238ade0",
   "metadata": {},
   "outputs": [
    {
     "name": "stdout",
     "output_type": "stream",
     "text": [
      "(32, 3) (32,)\n"
     ]
    }
   ],
   "source": [
    "data2 = mt[['am','wt', 'hp','mpg']]\n",
    "X = data2.drop(columns='am')\n",
    "y = data2.am\n",
    "print(X.shape, y.shape)"
   ]
  },
  {
   "cell_type": "code",
   "execution_count": 105,
   "id": "55dcda50",
   "metadata": {},
   "outputs": [
    {
     "data": {
      "text/plain": [
       "0    19\n",
       "1    13\n",
       "Name: am, dtype: int64"
      ]
     },
     "execution_count": 105,
     "metadata": {},
     "output_type": "execute_result"
    }
   ],
   "source": [
    "mt.am.value_counts()"
   ]
  },
  {
   "cell_type": "code",
   "execution_count": 108,
   "id": "86fd53b8",
   "metadata": {},
   "outputs": [],
   "source": [
    "logreg1 = LogisticRegression(solver='liblinear', random_state=123).fit(X,y)"
   ]
  },
  {
   "cell_type": "code",
   "execution_count": 112,
   "id": "7c0bac30",
   "metadata": {},
   "outputs": [
    {
     "name": "stdout",
     "output_type": "stream",
     "text": [
      " Classes  [0 1]  : Coeff  [[-2.24355102  0.01767402  0.2113765 ]]  : Intercept  [-0.22238215]\n"
     ]
    }
   ],
   "source": [
    "print(' Classes ', logreg1.classes_, ' : Coeff ', logreg1.coef_, ' : Intercept ', logreg1.intercept_)"
   ]
  },
  {
   "cell_type": "code",
   "execution_count": 113,
   "id": "7e87c043",
   "metadata": {},
   "outputs": [
    {
     "data": {
      "text/html": [
       "<div>\n",
       "<style scoped>\n",
       "    .dataframe tbody tr th:only-of-type {\n",
       "        vertical-align: middle;\n",
       "    }\n",
       "\n",
       "    .dataframe tbody tr th {\n",
       "        vertical-align: top;\n",
       "    }\n",
       "\n",
       "    .dataframe thead th {\n",
       "        text-align: right;\n",
       "    }\n",
       "</style>\n",
       "<table border=\"1\" class=\"dataframe\">\n",
       "  <thead>\n",
       "    <tr style=\"text-align: right;\">\n",
       "      <th></th>\n",
       "      <th>am</th>\n",
       "      <th>wt</th>\n",
       "      <th>hp</th>\n",
       "      <th>mpg</th>\n",
       "    </tr>\n",
       "  </thead>\n",
       "  <tbody>\n",
       "    <tr>\n",
       "      <th>Merc 230</th>\n",
       "      <td>0</td>\n",
       "      <td>3.15</td>\n",
       "      <td>95</td>\n",
       "      <td>22.8</td>\n",
       "    </tr>\n",
       "    <tr>\n",
       "      <th>Ford Pantera L</th>\n",
       "      <td>1</td>\n",
       "      <td>3.17</td>\n",
       "      <td>264</td>\n",
       "      <td>15.8</td>\n",
       "    </tr>\n",
       "    <tr>\n",
       "      <th>Mazda RX4</th>\n",
       "      <td>1</td>\n",
       "      <td>2.62</td>\n",
       "      <td>110</td>\n",
       "      <td>21.0</td>\n",
       "    </tr>\n",
       "  </tbody>\n",
       "</table>\n",
       "</div>"
      ],
      "text/plain": [
       "                am    wt   hp   mpg\n",
       "Merc 230         0  3.15   95  22.8\n",
       "Ford Pantera L   1  3.17  264  15.8\n",
       "Mazda RX4        1  2.62  110  21.0"
      ]
     },
     "execution_count": 113,
     "metadata": {},
     "output_type": "execute_result"
    }
   ],
   "source": [
    "newData2 = data2.sample(3)\n",
    "newData2"
   ]
  },
  {
   "cell_type": "code",
   "execution_count": 116,
   "id": "250052d6",
   "metadata": {},
   "outputs": [
    {
     "data": {
      "text/plain": [
       "array([[0.57188422, 0.42811578],\n",
       "       [0.26199072, 0.73800928],\n",
       "       [0.7246807 , 0.2753193 ],\n",
       "       [0.70981876, 0.29018124]])"
      ]
     },
     "execution_count": 116,
     "metadata": {},
     "output_type": "execute_result"
    }
   ],
   "source": [
    "logreg1.predict_proba(X)[1:5]\n",
    "#predict probabilities of each row value of X"
   ]
  },
  {
   "cell_type": "code",
   "execution_count": 134,
   "id": "fdcae799",
   "metadata": {},
   "outputs": [
    {
     "name": "stdout",
     "output_type": "stream",
     "text": [
      "Predicted values of AM (Y) from IV (wt, mpg, hp) :  [1, 0, 1, 0, 0, 0, 0, 0, 0, 0, 0, 0, 0, 0, 0, 0, 0, 1, 1, 1, 1, 0, 0, 0, 0, 1, 1, 1, 1, 1, 1, 0]\n"
     ]
    }
   ],
   "source": [
    "y_predLG1 = logreg1.predict(X)\n",
    "print('Predicted values of AM (Y) from IV (wt, mpg, hp) : ', y_predLG2.tolist())\n",
    "#predict class (0 or 1)"
   ]
  },
  {
   "cell_type": "code",
   "execution_count": 121,
   "id": "9099e7bf",
   "metadata": {},
   "outputs": [
    {
     "data": {
      "text/plain": [
       "0.90625"
      ]
     },
     "execution_count": 121,
     "metadata": {},
     "output_type": "execute_result"
    }
   ],
   "source": [
    "logreg1.score(X,y)\n",
    "#9 times out of 10, model predicts right category"
   ]
  },
  {
   "cell_type": "code",
   "execution_count": 120,
   "id": "693bf2d7",
   "metadata": {},
   "outputs": [
    {
     "data": {
      "text/plain": [
       "array([0, 1, 1], dtype=int64)"
      ]
     },
     "execution_count": 120,
     "metadata": {},
     "output_type": "execute_result"
    }
   ],
   "source": [
    "logreg1.predict(newData2.drop(columns='am', axis=1))"
   ]
  },
  {
   "cell_type": "code",
   "execution_count": 135,
   "id": "6ce86daa",
   "metadata": {},
   "outputs": [
    {
     "data": {
      "text/plain": [
       "array([[18,  1],\n",
       "       [ 2, 11]], dtype=int64)"
      ]
     },
     "execution_count": 135,
     "metadata": {},
     "output_type": "execute_result"
    }
   ],
   "source": [
    "#check accuracy of the model\n",
    "confusion_matrix(y, y_predLG1)"
   ]
  },
  {
   "cell_type": "code",
   "execution_count": 132,
   "id": "0e81d3b6",
   "metadata": {},
   "outputs": [
    {
     "data": {
      "text/html": [
       "<div>\n",
       "<style scoped>\n",
       "    .dataframe tbody tr th:only-of-type {\n",
       "        vertical-align: middle;\n",
       "    }\n",
       "\n",
       "    .dataframe tbody tr th {\n",
       "        vertical-align: top;\n",
       "    }\n",
       "\n",
       "    .dataframe thead th {\n",
       "        text-align: right;\n",
       "    }\n",
       "</style>\n",
       "<table border=\"1\" class=\"dataframe\">\n",
       "  <thead>\n",
       "    <tr style=\"text-align: right;\">\n",
       "      <th></th>\n",
       "      <th>0</th>\n",
       "      <th>1</th>\n",
       "      <th>2</th>\n",
       "    </tr>\n",
       "  </thead>\n",
       "  <tbody>\n",
       "    <tr>\n",
       "      <th>0</th>\n",
       "      <td>Mazda RX4</td>\n",
       "      <td>1</td>\n",
       "      <td>1</td>\n",
       "    </tr>\n",
       "    <tr>\n",
       "      <th>1</th>\n",
       "      <td>Mazda RX4 Wag</td>\n",
       "      <td>1</td>\n",
       "      <td>0</td>\n",
       "    </tr>\n",
       "    <tr>\n",
       "      <th>2</th>\n",
       "      <td>Datsun 710</td>\n",
       "      <td>1</td>\n",
       "      <td>1</td>\n",
       "    </tr>\n",
       "    <tr>\n",
       "      <th>3</th>\n",
       "      <td>Hornet 4 Drive</td>\n",
       "      <td>0</td>\n",
       "      <td>0</td>\n",
       "    </tr>\n",
       "    <tr>\n",
       "      <th>4</th>\n",
       "      <td>Hornet Sportabout</td>\n",
       "      <td>0</td>\n",
       "      <td>0</td>\n",
       "    </tr>\n",
       "    <tr>\n",
       "      <th>5</th>\n",
       "      <td>Valiant</td>\n",
       "      <td>0</td>\n",
       "      <td>0</td>\n",
       "    </tr>\n",
       "    <tr>\n",
       "      <th>6</th>\n",
       "      <td>Duster 360</td>\n",
       "      <td>0</td>\n",
       "      <td>0</td>\n",
       "    </tr>\n",
       "    <tr>\n",
       "      <th>7</th>\n",
       "      <td>Merc 240D</td>\n",
       "      <td>0</td>\n",
       "      <td>0</td>\n",
       "    </tr>\n",
       "    <tr>\n",
       "      <th>8</th>\n",
       "      <td>Merc 230</td>\n",
       "      <td>0</td>\n",
       "      <td>0</td>\n",
       "    </tr>\n",
       "    <tr>\n",
       "      <th>9</th>\n",
       "      <td>Merc 280</td>\n",
       "      <td>0</td>\n",
       "      <td>0</td>\n",
       "    </tr>\n",
       "  </tbody>\n",
       "</table>\n",
       "</div>"
      ],
      "text/plain": [
       "                   0  1  2\n",
       "0          Mazda RX4  1  1\n",
       "1      Mazda RX4 Wag  1  0\n",
       "2         Datsun 710  1  1\n",
       "3     Hornet 4 Drive  0  0\n",
       "4  Hornet Sportabout  0  0\n",
       "5            Valiant  0  0\n",
       "6         Duster 360  0  0\n",
       "7          Merc 240D  0  0\n",
       "8           Merc 230  0  0\n",
       "9           Merc 280  0  0"
      ]
     },
     "execution_count": 132,
     "metadata": {},
     "output_type": "execute_result"
    }
   ],
   "source": [
    "pd.concat([y.reset_index(), pd.Series(y_predLG2)],axis=1, ignore_index=True).head(10)"
   ]
  },
  {
   "cell_type": "code",
   "execution_count": 136,
   "id": "1fce12c2",
   "metadata": {},
   "outputs": [
    {
     "data": {
      "text/plain": [
       "<Axes: >"
      ]
     },
     "execution_count": 136,
     "metadata": {},
     "output_type": "execute_result"
    },
    {
     "data": {
      "image/png": "[encoded data removed]",
      "text/plain": [
       "<Figure size 640x480 with 2 Axes>"
      ]
     },
     "metadata": {},
     "output_type": "display_data"
    }
   ],
   "source": [
    "cm = confusion_matrix(y, y_predLG1)\n",
    "cm\n",
    "sns.heatmap(cm, annot=True)"
   ]
  },
  {
   "cell_type": "code",
   "execution_count": 138,
   "id": "1bf02cfa",
   "metadata": {},
   "outputs": [
    {
     "name": "stdout",
     "output_type": "stream",
     "text": [
      "Classification Report : \n",
      "               precision    recall  f1-score   support\n",
      "\n",
      "           0       0.90      0.95      0.92        19\n",
      "           1       0.92      0.85      0.88        13\n",
      "\n",
      "    accuracy                           0.91        32\n",
      "   macro avg       0.91      0.90      0.90        32\n",
      "weighted avg       0.91      0.91      0.91        32\n",
      "\n"
     ]
    }
   ],
   "source": [
    "clsreport = classification_report(y,y_predLG1)\n",
    "print('Classification Report : \\n', clsreport)"
   ]
  },
  {
   "cell_type": "code",
   "execution_count": 145,
   "id": "6591aae0",
   "metadata": {},
   "outputs": [
    {
     "name": "stdout",
     "output_type": "stream",
     "text": [
      "(32, 4) (32, 3) (32,)\n"
     ]
    }
   ],
   "source": [
    "# Stats Model\n",
    "#import statsmodels.api as sm\n",
    "print(data2.shape, X.shape, y.shape)"
   ]
  },
  {
   "cell_type": "code",
   "execution_count": 148,
   "id": "ccebf008",
   "metadata": {},
   "outputs": [],
   "source": [
    "import statsmodels.formula.api as smf"
   ]
  },
  {
   "cell_type": "code",
   "execution_count": 149,
   "id": "12c668a8",
   "metadata": {},
   "outputs": [
    {
     "name": "stdout",
     "output_type": "stream",
     "text": [
      "Optimization terminated successfully.\n",
      "         Current function value: 0.136970\n",
      "         Iterations 11\n"
     ]
    }
   ],
   "source": [
    "logreg2 = smf.logit(\"am ~ wt + mpg + hp\", data=data2).fit()"
   ]
  },
  {
   "cell_type": "code",
   "execution_count": 150,
   "id": "5e9e557b",
   "metadata": {},
   "outputs": [
    {
     "name": "stdout",
     "output_type": "stream",
     "text": [
      "                           Logit Regression Results                           \n",
      "==============================================================================\n",
      "Dep. Variable:                     am   No. Observations:                   32\n",
      "Model:                          Logit   Df Residuals:                       28\n",
      "Method:                           MLE   Df Model:                            3\n",
      "Date:                Thu, 06 Jul 2023   Pseudo R-squ.:                  0.7972\n",
      "Time:                        11:48:59   Log-Likelihood:                -4.3831\n",
      "converged:                       True   LL-Null:                       -21.615\n",
      "Covariance Type:            nonrobust   LLR p-value:                 1.581e-07\n",
      "==============================================================================\n",
      "                 coef    std err          z      P>|z|      [0.025      0.975]\n",
      "------------------------------------------------------------------------------\n",
      "Intercept    -15.7214     40.003     -0.393      0.694     -94.125      62.683\n",
      "wt            -6.9549      3.353     -2.074      0.038     -13.527      -0.383\n",
      "mpg            1.2293      1.581      0.778      0.437      -1.870       4.328\n",
      "hp             0.0839      0.082      1.020      0.308      -0.077       0.245\n",
      "==============================================================================\n",
      "\n",
      "Possibly complete quasi-separation: A fraction 0.25 of observations can be\n",
      "perfectly predicted. This might indicate that there is complete\n",
      "quasi-separation. In this case some parameters will not be identified.\n"
     ]
    }
   ],
   "source": [
    "print(logreg2.summary())"
   ]
  },
  {
   "cell_type": "code",
   "execution_count": 151,
   "id": "c0646253",
   "metadata": {},
   "outputs": [
    {
     "name": "stdout",
     "output_type": "stream",
     "text": [
      "Intercept   -15.721371\n",
      "wt           -6.954924\n",
      "mpg           1.229302\n",
      "hp            0.083893\n",
      "dtype: float64\n"
     ]
    }
   ],
   "source": [
    "print(logreg2.params)"
   ]
  },
  {
   "cell_type": "code",
   "execution_count": 152,
   "id": "779eff44",
   "metadata": {},
   "outputs": [
    {
     "name": "stdout",
     "output_type": "stream",
     "text": [
      "['__class__', '__delattr__', '__dict__', '__dir__', '__doc__', '__eq__', '__format__', '__ge__', '__getattribute__', '__getstate__', '__gt__', '__hash__', '__init__', '__init_subclass__', '__le__', '__lt__', '__module__', '__ne__', '__new__', '__reduce__', '__reduce_ex__', '__repr__', '__setattr__', '__sizeof__', '__str__', '__subclasshook__', '__weakref__', '_cache', '_data_attr', '_data_in_cache', '_get_endog_name', '_get_robustcov_results', '_use_t', 'aic', 'bic', 'bse', 'conf_int', 'cov_kwds', 'cov_params', 'cov_type', 'df_model', 'df_resid', 'f_test', 'fittedvalues', 'get_margeff', 'initialize', 'k_constant', 'llf', 'llnull', 'llr', 'llr_pvalue', 'load', 'mle_retvals', 'mle_settings', 'model', 'nobs', 'normalized_cov_params', 'params', 'pred_table', 'predict', 'prsquared', 'pvalues', 'remove_data', 'resid_dev', 'resid_generalized', 'resid_pearson', 'resid_response', 'save', 'scale', 'set_null_options', 'summary', 'summary2', 't_test', 't_test_pairwise', 'tvalues', 'use_t', 'wald_test', 'wald_test_terms']\n"
     ]
    }
   ],
   "source": [
    "print(dir(logreg2))  #functions available"
   ]
  },
  {
   "cell_type": "code",
   "execution_count": 226,
   "id": "e9e4efbf",
   "metadata": {},
   "outputs": [
    {
     "name": "stdout",
     "output_type": "stream",
     "text": [
      "[0.75, 0.34, 0.98, 0.07, 0.12, 0.0, 0.08, 0.06, 0.16, 0.0, 0.0, 0.0, 0.0, 0.0, 0.0, 0.0, 0.0, 1.0, 1.0, 1.0, 0.85, 0.0, 0.0, 0.0, 0.02, 1.0, 1.0, 1.0, 0.98, 0.98, 1.0, 0.6]\n"
     ]
    }
   ],
   "source": [
    "y_predLG2 = logreg2.predict(X).round(2)\n",
    "print(y_predLG2.tolist())"
   ]
  },
  {
   "cell_type": "code",
   "execution_count": 195,
   "id": "1977c43a",
   "metadata": {},
   "outputs": [
    {
     "name": "stdout",
     "output_type": "stream",
     "text": [
      "<class 'pandas.core.series.Series'> <class 'pandas.core.series.Series'>\n"
     ]
    },
    {
     "data": {
      "text/html": [
       "<div>\n",
       "<style scoped>\n",
       "    .dataframe tbody tr th:only-of-type {\n",
       "        vertical-align: middle;\n",
       "    }\n",
       "\n",
       "    .dataframe tbody tr th {\n",
       "        vertical-align: top;\n",
       "    }\n",
       "\n",
       "    .dataframe thead th {\n",
       "        text-align: right;\n",
       "    }\n",
       "</style>\n",
       "<table border=\"1\" class=\"dataframe\">\n",
       "  <thead>\n",
       "    <tr style=\"text-align: right;\">\n",
       "      <th></th>\n",
       "      <th>am</th>\n",
       "      <th>0</th>\n",
       "    </tr>\n",
       "  </thead>\n",
       "  <tbody>\n",
       "    <tr>\n",
       "      <th>Mazda RX4</th>\n",
       "      <td>1</td>\n",
       "      <td>0.75</td>\n",
       "    </tr>\n",
       "    <tr>\n",
       "      <th>Mazda RX4 Wag</th>\n",
       "      <td>1</td>\n",
       "      <td>0.34</td>\n",
       "    </tr>\n",
       "    <tr>\n",
       "      <th>Datsun 710</th>\n",
       "      <td>1</td>\n",
       "      <td>0.98</td>\n",
       "    </tr>\n",
       "    <tr>\n",
       "      <th>Hornet 4 Drive</th>\n",
       "      <td>0</td>\n",
       "      <td>0.07</td>\n",
       "    </tr>\n",
       "    <tr>\n",
       "      <th>Hornet Sportabout</th>\n",
       "      <td>0</td>\n",
       "      <td>0.12</td>\n",
       "    </tr>\n",
       "  </tbody>\n",
       "</table>\n",
       "</div>"
      ],
      "text/plain": [
       "                   am     0\n",
       "Mazda RX4           1  0.75\n",
       "Mazda RX4 Wag       1  0.34\n",
       "Datsun 710          1  0.98\n",
       "Hornet 4 Drive      0  0.07\n",
       "Hornet Sportabout   0  0.12"
      ]
     },
     "execution_count": 195,
     "metadata": {},
     "output_type": "execute_result"
    }
   ],
   "source": [
    "print(type(y), type(y_predLG2))\n",
    "pd.concat([y, y_predLG2], axis=1).head()"
   ]
  },
  {
   "cell_type": "code",
   "execution_count": 208,
   "id": "9291402b",
   "metadata": {},
   "outputs": [],
   "source": [
    "from sklearn.metrics import log_loss, roc_auc_score, recall_score, precision_score, average_precision_score, f1_score, classification_report, accuracy_score"
   ]
  },
  {
   "cell_type": "code",
   "execution_count": 212,
   "id": "065d1894",
   "metadata": {},
   "outputs": [
    {
     "data": {
      "text/plain": [
       "0.1367269573716344"
      ]
     },
     "execution_count": 212,
     "metadata": {},
     "output_type": "execute_result"
    }
   ],
   "source": [
    "log_loss(y, y_predLG2)"
   ]
  },
  {
   "cell_type": "code",
   "execution_count": 227,
   "id": "7ba33476",
   "metadata": {},
   "outputs": [
    {
     "name": "stdout",
     "output_type": "stream",
     "text": [
      "Log loss = 0.13673\n",
      "AUC = 0.98785\n",
      "Average Precision = 0.98218\n"
     ]
    }
   ],
   "source": [
    "print('Log loss = {:.5f}'.format(log_loss(y, y_predLG2)))\n",
    "print('AUC = {:.5f}'.format(roc_auc_score(y, y_predLG2)))\n",
    "print('Average Precision = {:.5f}'.format(average_precision_score(y, y_predLG2)))"
   ]
  },
  {
   "cell_type": "code",
   "execution_count": 157,
   "id": "61fad293",
   "metadata": {},
   "outputs": [],
   "source": [
    "#try this exercise \n",
    "# https://heds.nz/posts/logistic-regression-python/\n",
    "# https://www.justintodata.com/logistic-regression-example-in-python/"
   ]
  },
  {
   "cell_type": "code",
   "execution_count": null,
   "id": "7e553060",
   "metadata": {},
   "outputs": [],
   "source": []
  }
 ],
 "metadata": {
  "kernelspec": {
   "display_name": "Python 3 (ipykernel)",
   "language": "python",
   "name": "python3"
  },
  "language_info": {
   "codemirror_mode": {
    "name": "ipython",
    "version": 3
   },
   "file_extension": ".py",
   "mimetype": "text/x-python",
   "name": "python",
   "nbconvert_exporter": "python",
   "pygments_lexer": "ipython3",
   "version": "3.9.16"
  }
 },
 "nbformat": 4,
 "nbformat_minor": 5
}
