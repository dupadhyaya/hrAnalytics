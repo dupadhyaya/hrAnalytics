{
 "cells": [
  {
   "cell_type": "code",
   "execution_count": null,
   "id": "41474a23",
   "metadata": {},
   "outputs": [],
   "source": [
    "#interactive graphs"
   ]
  },
  {
   "cell_type": "code",
   "execution_count": null,
   "id": "fa914520",
   "metadata": {},
   "outputs": [],
   "source": [
    "#pip install ipympl"
   ]
  },
  {
   "cell_type": "code",
   "execution_count": 2,
   "id": "767f6723",
   "metadata": {},
   "outputs": [],
   "source": []
  },
  {
   "cell_type": "code",
   "execution_count": 3,
   "id": "65d2bed7",
   "metadata": {},
   "outputs": [],
   "source": [
    "import pandas as pd\n",
    "import numpy as np\n",
    "import matplotlib.pyplot as plt\n",
    "import seaborn as sns\n",
    "import datetime as dt\n",
    "from pydataset import data"
   ]
  },
  {
   "cell_type": "code",
   "execution_count": 5,
   "id": "fab427f5",
   "metadata": {},
   "outputs": [],
   "source": [
    "#%%%\n",
    "mt = data('mtcars')\n",
    "mt.head()"
   ]
  },
  {
   "cell_type": "code",
   "execution_count": 7,
   "id": "b73896ba",
   "metadata": {},
   "outputs": [],
   "source": [
    "#interaactive notbook\n",
    "%matplotlib widget\n",
    "fig, ax = plt.subplots() \n",
    "ln, = ax.plot(range(5))\n",
    "ln.set_color('orange')\n",
    "plt.show();"
   ]
  },
  {
   "cell_type": "code",
   "execution_count": null,
   "id": "5a07be89",
   "metadata": {},
   "outputs": [],
   "source": [
    "#lcassic notebook\n",
    "%matplotlib notebook\n",
    "fig, ax = plt.subplots() \n",
    "ln, = ax.plot(range(5))\n",
    "ln.set_color('orange')\n",
    "plt.show();"
   ]
  }
 ],
 "metadata": {
  "kernelspec": {
   "display_name": "Python 3 (ipykernel)",
   "language": "python",
   "name": "python3"
  },
  "language_info": {
   "codemirror_mode": {
    "name": "ipython",
    "version": 3
   },
   "file_extension": ".py",
   "mimetype": "text/x-python",
   "name": "python",
   "nbconvert_exporter": "python",
   "pygments_lexer": "ipython3",
   "version": "3.9.16"
  }
 },
 "nbformat": 4,
 "nbformat_minor": 5
}
