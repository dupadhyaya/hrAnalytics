{
 "cells": [
  {
   "cell_type": "markdown",
   "id": "2bec88b0-8872-48df-a7bf-d205593a04e5",
   "metadata": {},
   "source": [
    "# E22 Case Study Simulated\n",
    "-  A Simulated Case Study to see how analysis can be done\n",
    "-  create your own columns\n",
    "    -  empID, empName, DOB, age, dept, DOJ, DOL, gender, salary\n",
    "    -  city, state, country, marriedStatus, education, status\n",
    "    -  title, reportingMgr, level (band)"
   ]
  },
  {
   "cell_type": "code",
   "execution_count": 53,
   "id": "8cdaa0e7-d326-434b-bdb1-393d37fe8f86",
   "metadata": {
    "tags": []
   },
   "outputs": [],
   "source": [
    "#libraries\n",
    "import pandas as pd\n",
    "import numpy as np\n",
    "import matplotlib.pyplot as plt\n",
    "import datetime as dt\n",
    "import seaborn as sns\n",
    "import random\n",
    "import collections\n",
    "#other libraries as required"
   ]
  },
  {
   "cell_type": "code",
   "execution_count": 2,
   "id": "3dae5054-7d49-40a5-a783-8fb7a61d1801",
   "metadata": {
    "tags": []
   },
   "outputs": [],
   "source": [
    "#formating\n",
    "np.set_printoptions(edgeitems=10,linewidth=180)\n",
    "pd.set_option('display.max_columns', None)\n",
    "pd.set_option('max_colwidth', None)\n",
    "pd.set_option(\"expand_frame_repr\", True)\n",
    "pd.set_option(\"max_info_columns\", 11)\n",
    "pd.set_option(\"display.precision\", 3)\n",
    "pd.set_option('display.width', 1000)  #wrap with full display"
   ]
  },
  {
   "cell_type": "code",
   "execution_count": 12,
   "id": "77720a2e-4920-464c-87c1-8134d58065da",
   "metadata": {
    "tags": []
   },
   "outputs": [
    {
     "name": "stdout",
     "output_type": "stream",
     "text": [
      "200 [1000 1001 1002 1003 1004] [1195 1196 1197 1198 1199]\n"
     ]
    }
   ],
   "source": [
    "#empld\n",
    "empID = np.arange(1000, 1200, 1)\n",
    "print(len(empID), empID[0:5], empID[-5:])\n",
    "n=len(empID)"
   ]
  },
  {
   "cell_type": "code",
   "execution_count": 74,
   "id": "5d5b25a5-3770-4ee1-b02a-ade4b964b3ca",
   "metadata": {
    "tags": []
   },
   "outputs": [
    {
     "name": "stdout",
     "output_type": "stream",
     "text": [
      "No of employees -  200 \n",
      " 0        employee 1\n",
      "1        employee 2\n",
      "2        employee 3\n",
      "3        employee 4\n",
      "4        employee 5\n",
      "           ...     \n",
      "195    employee 196\n",
      "196    employee 197\n",
      "197    employee 198\n",
      "198    employee 199\n",
      "199    employee 200\n",
      "Length: 200, dtype: object\n"
     ]
    }
   ],
   "source": [
    "#empName\n",
    "empName = pd.Series([\"employee \" + str(i) for i in range(1,n+1)])\n",
    "print('No of employees - ', len(empName), '\\n', empName)"
   ]
  },
  {
   "cell_type": "code",
   "execution_count": 17,
   "id": "321e93d5-8b46-4b1e-9b46-1f9ac058dee5",
   "metadata": {
    "tags": []
   },
   "outputs": [
    {
     "name": "stdout",
     "output_type": "stream",
     "text": [
      "200 ['Sales' 'Engineering' 'Quality' 'Sales' 'Marketing'] ['HR' 'HR' 'Sales' 'Engineering' 'HR']\n"
     ]
    }
   ],
   "source": [
    "#dept\n",
    "deptNames = ['HR','Marketing','Quality','Sales', 'Engineering']\n",
    "dept = np.random.choice(a=deptNames, size=n,replace=True, p=[.1, .1, .15, .25, .4])\n",
    "print(len(dept), dept[0:5], dept[-5:])\n"
   ]
  },
  {
   "cell_type": "code",
   "execution_count": 20,
   "id": "fcc736f0-91f1-4615-bfc7-0ee5238a5a6e",
   "metadata": {
    "tags": []
   },
   "outputs": [
    {
     "name": "stdout",
     "output_type": "stream",
     "text": [
      "200 ['F' 'M' 'M' 'M' 'F'] ['M' 'F' 'M' 'M' 'F']\n"
     ]
    }
   ],
   "source": [
    "#gender\n",
    "sex = ['M','F']\n",
    "gender = np.random.choice(a=sex, size=n, replace=True, p=[.6, .4])\n",
    "print(len(gender), gender[0:5], gender[-5:])"
   ]
  },
  {
   "cell_type": "code",
   "execution_count": 30,
   "id": "cacfd782-2a6f-4897-b1c6-f23f49e2de16",
   "metadata": {
    "tags": []
   },
   "outputs": [
    {
     "name": "stdout",
     "output_type": "stream",
     "text": [
      "200 48.37\n"
     ]
    }
   ],
   "source": [
    "#age\n",
    "age = np.random.randint(low=25,high=75, size=n)\n",
    "print(len(age), np.mean(age))"
   ]
  },
  {
   "cell_type": "code",
   "execution_count": 33,
   "id": "cf1ca070-41a7-48d2-8102-aed867964ec6",
   "metadata": {
    "tags": []
   },
   "outputs": [
    {
     "name": "stdout",
     "output_type": "stream",
     "text": [
      "200 61418.86595 19782.450609868894 7687.84 115303.03\n"
     ]
    }
   ],
   "source": [
    "#salary\n",
    "salary = np.round(np.random.normal(60000,20000, size=n),2)\n",
    "print(len(salary), np.mean(salary), np.std(salary), np.min(salary), np.max(salary))"
   ]
  },
  {
   "cell_type": "code",
   "execution_count": 83,
   "id": "ad372fe5-ef52-4b37-a00c-a3c24e5389a6",
   "metadata": {
    "tags": []
   },
   "outputs": [
    {
     "name": "stdout",
     "output_type": "stream",
     "text": [
      "Start and End Date -  2015-01-01  : 2023-08-01\n",
      "200 [Timestamp('2015-07-10 00:00:00') Timestamp('2022-12-24 00:00:00') Timestamp('2021-02-28 00:00:00') Timestamp('2021-10-23 00:00:00') Timestamp('2023-04-13 00:00:00')] [Timestamp('2018-08-29 00:00:00') Timestamp('2017-10-12 00:00:00') Timestamp('2021-07-07 00:00:00') Timestamp('2015-04-27 00:00:00') Timestamp('2017-03-02 00:00:00')]\n"
     ]
    }
   ],
   "source": [
    "#DOJ\n",
    "d1, d2 = dt.date(2015,1,1), dt.date(2023,8,1)\n",
    "print('Start and End Date - ', d1, ' :',d2)\n",
    "dates = pd.date_range(start=d1, end=d2, freq='D')\n",
    "#DOJ = random.sample(list(dates), n)\n",
    "DOJ = np.random.choice(a=list(dates), size=n, replace=True)\n",
    "print(len(DOJ), DOJ[0:5], DOJ[-5:])\n",
    "#date + time \n",
    "#dt.datetime.fromtimestamp(dt.datetime.now())\n",
    "#https://www.tutorialspoint.com/how-to-generate-k-random-dates-between-two-other-dates-using-python"
   ]
  },
  {
   "cell_type": "markdown",
   "id": "1ac44058-02be-47f6-b77c-fef158c21779",
   "metadata": {
    "tags": []
   },
   "source": [
    "for employee in range(200):\n",
    "    # assign a random date of birth (employees are aged between sixteen and sixty five)\n",
    "    dlt = random.randint(365*20, 365*65)\n",
    "    dob = dt.datetime.today() - dt.timedelta(days=dlt)\n",
    "    # assign a random date of hire sometime between sixteenth birthday and today\n",
    "    doj = dt.datetime.today() - dt.timedelta(days=random.randint(0, dlt-365*20))\n",
    "    print(employee+1,\" - born {} hired {}\".format(dob.strftime(\"%d-%m-%Y\"), doj.strftime(\"%d-%m-%Y\")))"
   ]
  },
  {
   "cell_type": "code",
   "execution_count": 35,
   "id": "8f4b3b0c-4887-491e-a3e3-7fedbba24d7b",
   "metadata": {
    "tags": []
   },
   "outputs": [],
   "source": [
    "#DOL"
   ]
  },
  {
   "cell_type": "code",
   "execution_count": 72,
   "id": "08ddb54d-918c-4bf5-8e9e-7560b3c987f0",
   "metadata": {
    "tags": []
   },
   "outputs": [
    {
     "name": "stdout",
     "output_type": "stream",
     "text": [
      "200 ['Active' 'Active' 'Active' 'Inactive' 'Active'] ['Inactive' 'Active' 'Inactive' 'Inactive' 'Active']\n"
     ]
    },
    {
     "data": {
      "text/plain": [
       "Counter({'Active': 144, 'Inactive': 56})"
      ]
     },
     "execution_count": 72,
     "metadata": {},
     "output_type": "execute_result"
    }
   ],
   "source": [
    "#status\n",
    "status = np.random.choice(a=['Active','Inactive'], size=n, replace=True, p=[.7,.3])\n",
    "print(len(status), status[0:5], status[-5:])\n",
    "collections.Counter(status)"
   ]
  },
  {
   "cell_type": "code",
   "execution_count": 54,
   "id": "557d0691-57f2-4ef6-a826-02fc01ff67b2",
   "metadata": {
    "tags": []
   },
   "outputs": [
    {
     "data": {
      "text/plain": [
       "Counter({'Mumbai': 37,\n",
       "         'Faridabad': 34,\n",
       "         'Noida': 32,\n",
       "         'Kolkatta': 31,\n",
       "         'Chennai': 29,\n",
       "         'Delhi': 22,\n",
       "         'Gurugram': 15})"
      ]
     },
     "execution_count": 54,
     "metadata": {},
     "output_type": "execute_result"
    }
   ],
   "source": [
    "#city\n",
    "city = np.random.choice(a=['Delhi', 'Gurugram','Noida','Faridabad','Mumbai','Chennai','Kolkatta'], size=n, replace=True)\n",
    "collections.Counter(city)"
   ]
  },
  {
   "cell_type": "code",
   "execution_count": 38,
   "id": "7d6cea29-2fa2-4727-b164-25a25dbcc1e7",
   "metadata": {
    "tags": []
   },
   "outputs": [],
   "source": [
    "#level"
   ]
  },
  {
   "cell_type": "code",
   "execution_count": 116,
   "id": "30a3aef3-5948-4fe2-a758-5fff8588c11d",
   "metadata": {
    "tags": []
   },
   "outputs": [
    {
     "name": "stdout",
     "output_type": "stream",
     "text": [
      "(200,) <class 'numpy.ndarray'>\n",
      "(200,) <class 'pandas.core.series.Series'>\n",
      "(200,) <class 'numpy.ndarray'>\n",
      "(200,) <class 'numpy.ndarray'>\n",
      "(200,) <class 'numpy.ndarray'>\n",
      "(200,) <class 'numpy.ndarray'>\n",
      "(200,) <class 'numpy.ndarray'>\n",
      "(200,) <class 'numpy.ndarray'>\n",
      "(200,) <class 'numpy.ndarray'>\n"
     ]
    }
   ],
   "source": [
    "# created variables \n",
    "varList = [empID, empName, age, gender, dept, status, city, DOJ, salary]\n",
    "#print(varList)\n",
    "for i in varList :\n",
    "    print(i.shape, type(i))"
   ]
  },
  {
   "cell_type": "code",
   "execution_count": 117,
   "id": "cea91c9b-0e2d-4405-8ce6-c95766121af5",
   "metadata": {
    "tags": []
   },
   "outputs": [
    {
     "name": "stdout",
     "output_type": "stream",
     "text": [
      "   empID     empName  age gender         dept    status       city        DOJ    salary\n",
      "0   1000  employee 1   68      F        Sales    Active  Faridabad 2015-07-10  67176.11\n",
      "1   1001  employee 2   73      M  Engineering    Active      Noida 2022-12-24  45802.65\n",
      "2   1002  employee 3   48      M      Quality    Active     Mumbai 2021-02-28  63538.68\n",
      "3   1003  employee 4   33      M        Sales  Inactive   Gurugram 2021-10-23  70483.79\n",
      "4   1004  employee 5   42      F    Marketing    Active  Faridabad 2023-04-13  46991.52 (200, 9)\n"
     ]
    }
   ],
   "source": [
    "#create data frame\n",
    "df = pd.DataFrame({'empID':pd.Series(empID), 'empName':pd.Series(empName),'age':pd.Series(age), 'gender':pd.Series(gender),'dept':pd.Series(dept),'status':pd.Series(status), \n",
    "                   'city':pd.Series(city), 'DOJ':pd.Series(DOJ), 'salary':pd.Series(salary)})\n",
    "print(df.head(), df.shape)"
   ]
  },
  {
   "cell_type": "code",
   "execution_count": 97,
   "id": "3b881aa7-1b98-428f-b4f3-412c7fe98779",
   "metadata": {
    "tags": []
   },
   "outputs": [
    {
     "data": {
      "text/html": [
       "<div>\n",
       "<style scoped>\n",
       "    .dataframe tbody tr th:only-of-type {\n",
       "        vertical-align: middle;\n",
       "    }\n",
       "\n",
       "    .dataframe tbody tr th {\n",
       "        vertical-align: top;\n",
       "    }\n",
       "\n",
       "    .dataframe thead th {\n",
       "        text-align: right;\n",
       "    }\n",
       "</style>\n",
       "<table border=\"1\" class=\"dataframe\">\n",
       "  <thead>\n",
       "    <tr style=\"text-align: right;\">\n",
       "      <th></th>\n",
       "      <th>empID</th>\n",
       "      <th>empName</th>\n",
       "      <th>age</th>\n",
       "      <th>gender</th>\n",
       "      <th>dept</th>\n",
       "      <th>status</th>\n",
       "      <th>city</th>\n",
       "      <th>DOJ</th>\n",
       "    </tr>\n",
       "  </thead>\n",
       "  <tbody>\n",
       "    <tr>\n",
       "      <th>count</th>\n",
       "      <td>200.000</td>\n",
       "      <td>200</td>\n",
       "      <td>200.000</td>\n",
       "      <td>200</td>\n",
       "      <td>200</td>\n",
       "      <td>200</td>\n",
       "      <td>200</td>\n",
       "      <td>200</td>\n",
       "    </tr>\n",
       "    <tr>\n",
       "      <th>unique</th>\n",
       "      <td>NaN</td>\n",
       "      <td>200</td>\n",
       "      <td>NaN</td>\n",
       "      <td>2</td>\n",
       "      <td>5</td>\n",
       "      <td>2</td>\n",
       "      <td>7</td>\n",
       "      <td>NaN</td>\n",
       "    </tr>\n",
       "    <tr>\n",
       "      <th>top</th>\n",
       "      <td>NaN</td>\n",
       "      <td>employee 1</td>\n",
       "      <td>NaN</td>\n",
       "      <td>M</td>\n",
       "      <td>Engineering</td>\n",
       "      <td>Active</td>\n",
       "      <td>Mumbai</td>\n",
       "      <td>NaN</td>\n",
       "    </tr>\n",
       "    <tr>\n",
       "      <th>freq</th>\n",
       "      <td>NaN</td>\n",
       "      <td>1</td>\n",
       "      <td>NaN</td>\n",
       "      <td>119</td>\n",
       "      <td>88</td>\n",
       "      <td>144</td>\n",
       "      <td>37</td>\n",
       "      <td>NaN</td>\n",
       "    </tr>\n",
       "    <tr>\n",
       "      <th>mean</th>\n",
       "      <td>1099.500</td>\n",
       "      <td>NaN</td>\n",
       "      <td>48.370</td>\n",
       "      <td>NaN</td>\n",
       "      <td>NaN</td>\n",
       "      <td>NaN</td>\n",
       "      <td>NaN</td>\n",
       "      <td>2019-04-26 05:45:36</td>\n",
       "    </tr>\n",
       "    <tr>\n",
       "      <th>min</th>\n",
       "      <td>1000.000</td>\n",
       "      <td>NaN</td>\n",
       "      <td>25.000</td>\n",
       "      <td>NaN</td>\n",
       "      <td>NaN</td>\n",
       "      <td>NaN</td>\n",
       "      <td>NaN</td>\n",
       "      <td>2015-01-14 00:00:00</td>\n",
       "    </tr>\n",
       "    <tr>\n",
       "      <th>25%</th>\n",
       "      <td>1049.750</td>\n",
       "      <td>NaN</td>\n",
       "      <td>35.000</td>\n",
       "      <td>NaN</td>\n",
       "      <td>NaN</td>\n",
       "      <td>NaN</td>\n",
       "      <td>NaN</td>\n",
       "      <td>2016-12-19 00:00:00</td>\n",
       "    </tr>\n",
       "    <tr>\n",
       "      <th>50%</th>\n",
       "      <td>1099.500</td>\n",
       "      <td>NaN</td>\n",
       "      <td>48.000</td>\n",
       "      <td>NaN</td>\n",
       "      <td>NaN</td>\n",
       "      <td>NaN</td>\n",
       "      <td>NaN</td>\n",
       "      <td>2019-02-17 00:00:00</td>\n",
       "    </tr>\n",
       "    <tr>\n",
       "      <th>75%</th>\n",
       "      <td>1149.250</td>\n",
       "      <td>NaN</td>\n",
       "      <td>60.000</td>\n",
       "      <td>NaN</td>\n",
       "      <td>NaN</td>\n",
       "      <td>NaN</td>\n",
       "      <td>NaN</td>\n",
       "      <td>2021-08-26 00:00:00</td>\n",
       "    </tr>\n",
       "    <tr>\n",
       "      <th>max</th>\n",
       "      <td>1199.000</td>\n",
       "      <td>NaN</td>\n",
       "      <td>74.000</td>\n",
       "      <td>NaN</td>\n",
       "      <td>NaN</td>\n",
       "      <td>NaN</td>\n",
       "      <td>NaN</td>\n",
       "      <td>2023-07-21 00:00:00</td>\n",
       "    </tr>\n",
       "    <tr>\n",
       "      <th>std</th>\n",
       "      <td>57.879</td>\n",
       "      <td>NaN</td>\n",
       "      <td>14.093</td>\n",
       "      <td>NaN</td>\n",
       "      <td>NaN</td>\n",
       "      <td>NaN</td>\n",
       "      <td>NaN</td>\n",
       "      <td>NaN</td>\n",
       "    </tr>\n",
       "  </tbody>\n",
       "</table>\n",
       "</div>"
      ],
      "text/plain": [
       "           empID     empName      age gender         dept  status    city                  DOJ\n",
       "count    200.000         200  200.000    200          200     200     200                  200\n",
       "unique       NaN         200      NaN      2            5       2       7                  NaN\n",
       "top          NaN  employee 1      NaN      M  Engineering  Active  Mumbai                  NaN\n",
       "freq         NaN           1      NaN    119           88     144      37                  NaN\n",
       "mean    1099.500         NaN   48.370    NaN          NaN     NaN     NaN  2019-04-26 05:45:36\n",
       "min     1000.000         NaN   25.000    NaN          NaN     NaN     NaN  2015-01-14 00:00:00\n",
       "25%     1049.750         NaN   35.000    NaN          NaN     NaN     NaN  2016-12-19 00:00:00\n",
       "50%     1099.500         NaN   48.000    NaN          NaN     NaN     NaN  2019-02-17 00:00:00\n",
       "75%     1149.250         NaN   60.000    NaN          NaN     NaN     NaN  2021-08-26 00:00:00\n",
       "max     1199.000         NaN   74.000    NaN          NaN     NaN     NaN  2023-07-21 00:00:00\n",
       "std       57.879         NaN   14.093    NaN          NaN     NaN     NaN                  NaN"
      ]
     },
     "execution_count": 97,
     "metadata": {},
     "output_type": "execute_result"
    }
   ],
   "source": [
    "df.describe(include='all')"
   ]
  },
  {
   "cell_type": "code",
   "execution_count": 107,
   "id": "35a22814-b578-4d61-b025-41f8516bbf4a",
   "metadata": {
    "tags": []
   },
   "outputs": [
    {
     "data": {
      "text/html": [
       "<div>\n",
       "<style scoped>\n",
       "    .dataframe tbody tr th:only-of-type {\n",
       "        vertical-align: middle;\n",
       "    }\n",
       "\n",
       "    .dataframe tbody tr th {\n",
       "        vertical-align: top;\n",
       "    }\n",
       "\n",
       "    .dataframe thead th {\n",
       "        text-align: right;\n",
       "    }\n",
       "</style>\n",
       "<table border=\"1\" class=\"dataframe\">\n",
       "  <thead>\n",
       "    <tr style=\"text-align: right;\">\n",
       "      <th>DEPT</th>\n",
       "      <th>Engineering</th>\n",
       "      <th>HR</th>\n",
       "      <th>Marketing</th>\n",
       "      <th>Quality</th>\n",
       "      <th>Sales</th>\n",
       "    </tr>\n",
       "    <tr>\n",
       "      <th>GENDER</th>\n",
       "      <th></th>\n",
       "      <th></th>\n",
       "      <th></th>\n",
       "      <th></th>\n",
       "      <th></th>\n",
       "    </tr>\n",
       "  </thead>\n",
       "  <tbody>\n",
       "    <tr>\n",
       "      <th>F</th>\n",
       "      <td>45</td>\n",
       "      <td>7</td>\n",
       "      <td>6</td>\n",
       "      <td>8</td>\n",
       "      <td>15</td>\n",
       "    </tr>\n",
       "    <tr>\n",
       "      <th>M</th>\n",
       "      <td>43</td>\n",
       "      <td>14</td>\n",
       "      <td>11</td>\n",
       "      <td>18</td>\n",
       "      <td>33</td>\n",
       "    </tr>\n",
       "  </tbody>\n",
       "</table>\n",
       "</div>"
      ],
      "text/plain": [
       "DEPT    Engineering  HR  Marketing  Quality  Sales\n",
       "GENDER                                            \n",
       "F                45   7          6        8     15\n",
       "M                43  14         11       18     33"
      ]
     },
     "execution_count": 107,
     "metadata": {},
     "output_type": "execute_result"
    }
   ],
   "source": [
    "# Cross tab|\n",
    "pd.crosstab(df.gender, df.dept, rownames=['GENDER'], colnames=['DEPT'])  #for categories only"
   ]
  },
  {
   "cell_type": "code",
   "execution_count": 102,
   "id": "4bf29dd3-cb18-4f98-8776-4bfcc716861b",
   "metadata": {
    "tags": []
   },
   "outputs": [
    {
     "data": {
      "text/html": [
       "<div>\n",
       "<style scoped>\n",
       "    .dataframe tbody tr th:only-of-type {\n",
       "        vertical-align: middle;\n",
       "    }\n",
       "\n",
       "    .dataframe tbody tr th {\n",
       "        vertical-align: top;\n",
       "    }\n",
       "\n",
       "    .dataframe thead tr th {\n",
       "        text-align: left;\n",
       "    }\n",
       "</style>\n",
       "<table border=\"1\" class=\"dataframe\">\n",
       "  <thead>\n",
       "    <tr>\n",
       "      <th>dept</th>\n",
       "      <th>city</th>\n",
       "      <th colspan=\"2\" halign=\"left\">Engineering</th>\n",
       "      <th colspan=\"2\" halign=\"left\">HR</th>\n",
       "      <th colspan=\"2\" halign=\"left\">Marketing</th>\n",
       "      <th colspan=\"2\" halign=\"left\">Quality</th>\n",
       "      <th colspan=\"2\" halign=\"left\">Sales</th>\n",
       "    </tr>\n",
       "    <tr>\n",
       "      <th>gender</th>\n",
       "      <th></th>\n",
       "      <th>F</th>\n",
       "      <th>M</th>\n",
       "      <th>F</th>\n",
       "      <th>M</th>\n",
       "      <th>F</th>\n",
       "      <th>M</th>\n",
       "      <th>F</th>\n",
       "      <th>M</th>\n",
       "      <th>F</th>\n",
       "      <th>M</th>\n",
       "    </tr>\n",
       "  </thead>\n",
       "  <tbody>\n",
       "    <tr>\n",
       "      <th>0</th>\n",
       "      <td>Chennai</td>\n",
       "      <td>4</td>\n",
       "      <td>8</td>\n",
       "      <td>0</td>\n",
       "      <td>4</td>\n",
       "      <td>1</td>\n",
       "      <td>1</td>\n",
       "      <td>0</td>\n",
       "      <td>2</td>\n",
       "      <td>5</td>\n",
       "      <td>4</td>\n",
       "    </tr>\n",
       "    <tr>\n",
       "      <th>1</th>\n",
       "      <td>Delhi</td>\n",
       "      <td>5</td>\n",
       "      <td>3</td>\n",
       "      <td>0</td>\n",
       "      <td>1</td>\n",
       "      <td>0</td>\n",
       "      <td>1</td>\n",
       "      <td>2</td>\n",
       "      <td>1</td>\n",
       "      <td>2</td>\n",
       "      <td>7</td>\n",
       "    </tr>\n",
       "    <tr>\n",
       "      <th>2</th>\n",
       "      <td>Faridabad</td>\n",
       "      <td>10</td>\n",
       "      <td>10</td>\n",
       "      <td>0</td>\n",
       "      <td>1</td>\n",
       "      <td>1</td>\n",
       "      <td>2</td>\n",
       "      <td>0</td>\n",
       "      <td>3</td>\n",
       "      <td>4</td>\n",
       "      <td>3</td>\n",
       "    </tr>\n",
       "    <tr>\n",
       "      <th>3</th>\n",
       "      <td>Gurugram</td>\n",
       "      <td>4</td>\n",
       "      <td>1</td>\n",
       "      <td>1</td>\n",
       "      <td>1</td>\n",
       "      <td>0</td>\n",
       "      <td>2</td>\n",
       "      <td>2</td>\n",
       "      <td>1</td>\n",
       "      <td>0</td>\n",
       "      <td>3</td>\n",
       "    </tr>\n",
       "    <tr>\n",
       "      <th>4</th>\n",
       "      <td>Kolkatta</td>\n",
       "      <td>4</td>\n",
       "      <td>5</td>\n",
       "      <td>4</td>\n",
       "      <td>3</td>\n",
       "      <td>1</td>\n",
       "      <td>1</td>\n",
       "      <td>1</td>\n",
       "      <td>5</td>\n",
       "      <td>2</td>\n",
       "      <td>5</td>\n",
       "    </tr>\n",
       "    <tr>\n",
       "      <th>5</th>\n",
       "      <td>Mumbai</td>\n",
       "      <td>11</td>\n",
       "      <td>6</td>\n",
       "      <td>1</td>\n",
       "      <td>4</td>\n",
       "      <td>2</td>\n",
       "      <td>2</td>\n",
       "      <td>2</td>\n",
       "      <td>3</td>\n",
       "      <td>1</td>\n",
       "      <td>5</td>\n",
       "    </tr>\n",
       "    <tr>\n",
       "      <th>6</th>\n",
       "      <td>Noida</td>\n",
       "      <td>7</td>\n",
       "      <td>10</td>\n",
       "      <td>1</td>\n",
       "      <td>0</td>\n",
       "      <td>1</td>\n",
       "      <td>2</td>\n",
       "      <td>1</td>\n",
       "      <td>3</td>\n",
       "      <td>1</td>\n",
       "      <td>6</td>\n",
       "    </tr>\n",
       "  </tbody>\n",
       "</table>\n",
       "</div>"
      ],
      "text/plain": [
       "dept         city Engineering     HR    Marketing    Quality    Sales   \n",
       "gender                      F   M  F  M         F  M       F  M     F  M\n",
       "0         Chennai           4   8  0  4         1  1       0  2     5  4\n",
       "1           Delhi           5   3  0  1         0  1       2  1     2  7\n",
       "2       Faridabad          10  10  0  1         1  2       0  3     4  3\n",
       "3        Gurugram           4   1  1  1         0  2       2  1     0  3\n",
       "4        Kolkatta           4   5  4  3         1  1       1  5     2  5\n",
       "5          Mumbai          11   6  1  4         2  2       2  3     1  5\n",
       "6           Noida           7  10  1  0         1  2       1  3     1  6"
      ]
     },
     "execution_count": 102,
     "metadata": {},
     "output_type": "execute_result"
    }
   ],
   "source": [
    "pd.crosstab(df.city, [df.dept, df.gender]).reset_index()"
   ]
  },
  {
   "cell_type": "code",
   "execution_count": 103,
   "id": "49c4e222-839c-4ae4-bdc4-749e987fc9a5",
   "metadata": {
    "tags": []
   },
   "outputs": [
    {
     "data": {
      "text/plain": [
       "<Axes: xlabel='dept', ylabel='gender'>"
      ]
     },
     "execution_count": 103,
     "metadata": {},
     "output_type": "execute_result"
    },
    {
     "data": {
      "image/png": "[encoded data removed]",
      "text/plain": [
       "<Figure size 640x480 with 1 Axes>"
      ]
     },
     "metadata": {},
     "output_type": "display_data"
    }
   ],
   "source": [
    "xtab1 = pd.crosstab(df.gender, df.dept)\n",
    "sns.heatmap(xtab1,  cmap=\"YlGnBu\", annot=True, cbar=False)"
   ]
  },
  {
   "cell_type": "code",
   "execution_count": 112,
   "id": "de841d79-e087-4fc3-b33a-b62729190603",
   "metadata": {
    "tags": []
   },
   "outputs": [
    {
     "data": {
      "text/html": [
       "<div>\n",
       "<style scoped>\n",
       "    .dataframe tbody tr th:only-of-type {\n",
       "        vertical-align: middle;\n",
       "    }\n",
       "\n",
       "    .dataframe tbody tr th {\n",
       "        vertical-align: top;\n",
       "    }\n",
       "\n",
       "    .dataframe thead tr th {\n",
       "        text-align: left;\n",
       "    }\n",
       "\n",
       "    .dataframe thead tr:last-of-type th {\n",
       "        text-align: right;\n",
       "    }\n",
       "</style>\n",
       "<table border=\"1\" class=\"dataframe\">\n",
       "  <thead>\n",
       "    <tr>\n",
       "      <th></th>\n",
       "      <th>mean</th>\n",
       "      <th>max</th>\n",
       "    </tr>\n",
       "    <tr>\n",
       "      <th></th>\n",
       "      <th>age</th>\n",
       "      <th>age</th>\n",
       "    </tr>\n",
       "    <tr>\n",
       "      <th>city</th>\n",
       "      <th></th>\n",
       "      <th></th>\n",
       "    </tr>\n",
       "  </thead>\n",
       "  <tbody>\n",
       "    <tr>\n",
       "      <th>Chennai</th>\n",
       "      <td>50.000</td>\n",
       "      <td>74</td>\n",
       "    </tr>\n",
       "    <tr>\n",
       "      <th>Delhi</th>\n",
       "      <td>49.955</td>\n",
       "      <td>74</td>\n",
       "    </tr>\n",
       "    <tr>\n",
       "      <th>Faridabad</th>\n",
       "      <td>48.176</td>\n",
       "      <td>73</td>\n",
       "    </tr>\n",
       "    <tr>\n",
       "      <th>Gurugram</th>\n",
       "      <td>44.733</td>\n",
       "      <td>61</td>\n",
       "    </tr>\n",
       "    <tr>\n",
       "      <th>Kolkatta</th>\n",
       "      <td>48.548</td>\n",
       "      <td>71</td>\n",
       "    </tr>\n",
       "    <tr>\n",
       "      <th>Mumbai</th>\n",
       "      <td>46.189</td>\n",
       "      <td>72</td>\n",
       "    </tr>\n",
       "    <tr>\n",
       "      <th>Noida</th>\n",
       "      <td>50.062</td>\n",
       "      <td>74</td>\n",
       "    </tr>\n",
       "  </tbody>\n",
       "</table>\n",
       "</div>"
      ],
      "text/plain": [
       "             mean max\n",
       "              age age\n",
       "city                 \n",
       "Chennai    50.000  74\n",
       "Delhi      49.955  74\n",
       "Faridabad  48.176  73\n",
       "Gurugram   44.733  61\n",
       "Kolkatta   48.548  71\n",
       "Mumbai     46.189  72\n",
       "Noida      50.062  74"
      ]
     },
     "execution_count": 112,
     "metadata": {},
     "output_type": "execute_result"
    }
   ],
   "source": [
    "# Pivot\n",
    "df.pivot_table(values='age', index='city', aggfunc=['mean','max'])"
   ]
  },
  {
   "cell_type": "code",
   "execution_count": 128,
   "id": "7ee5b141-221f-4998-aed3-4c4fe8909c4e",
   "metadata": {
    "tags": []
   },
   "outputs": [
    {
     "data": {
      "text/html": [
       "<div>\n",
       "<style scoped>\n",
       "    .dataframe tbody tr th:only-of-type {\n",
       "        vertical-align: middle;\n",
       "    }\n",
       "\n",
       "    .dataframe tbody tr th {\n",
       "        vertical-align: top;\n",
       "    }\n",
       "\n",
       "    .dataframe thead tr th {\n",
       "        text-align: left;\n",
       "    }\n",
       "</style>\n",
       "<table border=\"1\" class=\"dataframe\">\n",
       "  <thead>\n",
       "    <tr>\n",
       "      <th></th>\n",
       "      <th colspan=\"7\" halign=\"left\">count</th>\n",
       "    </tr>\n",
       "    <tr>\n",
       "      <th>city</th>\n",
       "      <th>Chennai</th>\n",
       "      <th>Delhi</th>\n",
       "      <th>Faridabad</th>\n",
       "      <th>Gurugram</th>\n",
       "      <th>Kolkatta</th>\n",
       "      <th>Mumbai</th>\n",
       "      <th>Noida</th>\n",
       "    </tr>\n",
       "  </thead>\n",
       "  <tbody>\n",
       "    <tr>\n",
       "      <th>empID</th>\n",
       "      <td>29</td>\n",
       "      <td>22</td>\n",
       "      <td>34</td>\n",
       "      <td>15</td>\n",
       "      <td>31</td>\n",
       "      <td>37</td>\n",
       "      <td>32</td>\n",
       "    </tr>\n",
       "  </tbody>\n",
       "</table>\n",
       "</div>"
      ],
      "text/plain": [
       "        count                                               \n",
       "city  Chennai Delhi Faridabad Gurugram Kolkatta Mumbai Noida\n",
       "empID      29    22        34       15       31     37    32"
      ]
     },
     "execution_count": 128,
     "metadata": {},
     "output_type": "execute_result"
    }
   ],
   "source": [
    "df.pivot_table(values='empID', columns='city', aggfunc=['count'])"
   ]
  },
  {
   "cell_type": "code",
   "execution_count": 130,
   "id": "ec01b435-3d7e-470c-9648-4044fe17e267",
   "metadata": {
    "tags": []
   },
   "outputs": [
    {
     "data": {
      "text/html": [
       "<div>\n",
       "<style scoped>\n",
       "    .dataframe tbody tr th:only-of-type {\n",
       "        vertical-align: middle;\n",
       "    }\n",
       "\n",
       "    .dataframe tbody tr th {\n",
       "        vertical-align: top;\n",
       "    }\n",
       "\n",
       "    .dataframe thead tr th {\n",
       "        text-align: left;\n",
       "    }\n",
       "\n",
       "    .dataframe thead tr:last-of-type th {\n",
       "        text-align: right;\n",
       "    }\n",
       "</style>\n",
       "<table border=\"1\" class=\"dataframe\">\n",
       "  <thead>\n",
       "    <tr>\n",
       "      <th></th>\n",
       "      <th></th>\n",
       "      <th colspan=\"5\" halign=\"left\">age</th>\n",
       "      <th colspan=\"5\" halign=\"left\">salary</th>\n",
       "    </tr>\n",
       "    <tr>\n",
       "      <th></th>\n",
       "      <th>dept</th>\n",
       "      <th>Engineering</th>\n",
       "      <th>HR</th>\n",
       "      <th>Marketing</th>\n",
       "      <th>Quality</th>\n",
       "      <th>Sales</th>\n",
       "      <th>Engineering</th>\n",
       "      <th>HR</th>\n",
       "      <th>Marketing</th>\n",
       "      <th>Quality</th>\n",
       "      <th>Sales</th>\n",
       "    </tr>\n",
       "    <tr>\n",
       "      <th>city</th>\n",
       "      <th>gender</th>\n",
       "      <th></th>\n",
       "      <th></th>\n",
       "      <th></th>\n",
       "      <th></th>\n",
       "      <th></th>\n",
       "      <th></th>\n",
       "      <th></th>\n",
       "      <th></th>\n",
       "      <th></th>\n",
       "      <th></th>\n",
       "    </tr>\n",
       "  </thead>\n",
       "  <tbody>\n",
       "    <tr>\n",
       "      <th rowspan=\"2\" valign=\"top\">Chennai</th>\n",
       "      <th>F</th>\n",
       "      <td>68.0</td>\n",
       "      <td>NaN</td>\n",
       "      <td>59.0</td>\n",
       "      <td>NaN</td>\n",
       "      <td>70.0</td>\n",
       "      <td>57288.24</td>\n",
       "      <td>NaN</td>\n",
       "      <td>70503.72</td>\n",
       "      <td>NaN</td>\n",
       "      <td>28361.34</td>\n",
       "    </tr>\n",
       "    <tr>\n",
       "      <th>M</th>\n",
       "      <td>74.0</td>\n",
       "      <td>56.0</td>\n",
       "      <td>27.0</td>\n",
       "      <td>69.0</td>\n",
       "      <td>58.0</td>\n",
       "      <td>37896.08</td>\n",
       "      <td>38980.56</td>\n",
       "      <td>61481.92</td>\n",
       "      <td>52649.18</td>\n",
       "      <td>32389.41</td>\n",
       "    </tr>\n",
       "    <tr>\n",
       "      <th rowspan=\"2\" valign=\"top\">Delhi</th>\n",
       "      <th>F</th>\n",
       "      <td>65.0</td>\n",
       "      <td>NaN</td>\n",
       "      <td>NaN</td>\n",
       "      <td>61.0</td>\n",
       "      <td>59.0</td>\n",
       "      <td>41660.72</td>\n",
       "      <td>NaN</td>\n",
       "      <td>NaN</td>\n",
       "      <td>35778.06</td>\n",
       "      <td>62427.15</td>\n",
       "    </tr>\n",
       "    <tr>\n",
       "      <th>M</th>\n",
       "      <td>74.0</td>\n",
       "      <td>44.0</td>\n",
       "      <td>32.0</td>\n",
       "      <td>28.0</td>\n",
       "      <td>73.0</td>\n",
       "      <td>17645.76</td>\n",
       "      <td>85136.37</td>\n",
       "      <td>56019.97</td>\n",
       "      <td>71164.96</td>\n",
       "      <td>36906.63</td>\n",
       "    </tr>\n",
       "    <tr>\n",
       "      <th rowspan=\"2\" valign=\"top\">Faridabad</th>\n",
       "      <th>F</th>\n",
       "      <td>65.0</td>\n",
       "      <td>NaN</td>\n",
       "      <td>42.0</td>\n",
       "      <td>NaN</td>\n",
       "      <td>68.0</td>\n",
       "      <td>24487.49</td>\n",
       "      <td>NaN</td>\n",
       "      <td>46991.52</td>\n",
       "      <td>NaN</td>\n",
       "      <td>52519.29</td>\n",
       "    </tr>\n",
       "    <tr>\n",
       "      <th>M</th>\n",
       "      <td>73.0</td>\n",
       "      <td>55.0</td>\n",
       "      <td>51.0</td>\n",
       "      <td>46.0</td>\n",
       "      <td>67.0</td>\n",
       "      <td>23100.26</td>\n",
       "      <td>55149.54</td>\n",
       "      <td>58921.75</td>\n",
       "      <td>36698.07</td>\n",
       "      <td>50013.92</td>\n",
       "    </tr>\n",
       "    <tr>\n",
       "      <th rowspan=\"2\" valign=\"top\">Gurugram</th>\n",
       "      <th>F</th>\n",
       "      <td>60.0</td>\n",
       "      <td>42.0</td>\n",
       "      <td>NaN</td>\n",
       "      <td>61.0</td>\n",
       "      <td>NaN</td>\n",
       "      <td>7687.84</td>\n",
       "      <td>54576.68</td>\n",
       "      <td>NaN</td>\n",
       "      <td>29153.92</td>\n",
       "      <td>NaN</td>\n",
       "    </tr>\n",
       "    <tr>\n",
       "      <th>M</th>\n",
       "      <td>26.0</td>\n",
       "      <td>54.0</td>\n",
       "      <td>48.0</td>\n",
       "      <td>37.0</td>\n",
       "      <td>50.0</td>\n",
       "      <td>53411.01</td>\n",
       "      <td>75928.65</td>\n",
       "      <td>10121.37</td>\n",
       "      <td>43461.63</td>\n",
       "      <td>45543.70</td>\n",
       "    </tr>\n",
       "    <tr>\n",
       "      <th rowspan=\"2\" valign=\"top\">Kolkatta</th>\n",
       "      <th>F</th>\n",
       "      <td>62.0</td>\n",
       "      <td>68.0</td>\n",
       "      <td>62.0</td>\n",
       "      <td>49.0</td>\n",
       "      <td>36.0</td>\n",
       "      <td>73243.74</td>\n",
       "      <td>41306.98</td>\n",
       "      <td>53793.96</td>\n",
       "      <td>47175.52</td>\n",
       "      <td>58934.96</td>\n",
       "    </tr>\n",
       "    <tr>\n",
       "      <th>M</th>\n",
       "      <td>62.0</td>\n",
       "      <td>51.0</td>\n",
       "      <td>28.0</td>\n",
       "      <td>71.0</td>\n",
       "      <td>69.0</td>\n",
       "      <td>48115.00</td>\n",
       "      <td>21761.18</td>\n",
       "      <td>36794.22</td>\n",
       "      <td>45816.77</td>\n",
       "      <td>24387.58</td>\n",
       "    </tr>\n",
       "    <tr>\n",
       "      <th rowspan=\"2\" valign=\"top\">Mumbai</th>\n",
       "      <th>F</th>\n",
       "      <td>71.0</td>\n",
       "      <td>26.0</td>\n",
       "      <td>57.0</td>\n",
       "      <td>31.0</td>\n",
       "      <td>71.0</td>\n",
       "      <td>32882.36</td>\n",
       "      <td>96031.50</td>\n",
       "      <td>51559.00</td>\n",
       "      <td>73471.98</td>\n",
       "      <td>89975.47</td>\n",
       "    </tr>\n",
       "    <tr>\n",
       "      <th>M</th>\n",
       "      <td>57.0</td>\n",
       "      <td>66.0</td>\n",
       "      <td>72.0</td>\n",
       "      <td>48.0</td>\n",
       "      <td>72.0</td>\n",
       "      <td>60264.45</td>\n",
       "      <td>49435.35</td>\n",
       "      <td>54608.05</td>\n",
       "      <td>32949.15</td>\n",
       "      <td>14369.08</td>\n",
       "    </tr>\n",
       "    <tr>\n",
       "      <th rowspan=\"2\" valign=\"top\">Noida</th>\n",
       "      <th>F</th>\n",
       "      <td>64.0</td>\n",
       "      <td>37.0</td>\n",
       "      <td>55.0</td>\n",
       "      <td>48.0</td>\n",
       "      <td>69.0</td>\n",
       "      <td>46462.52</td>\n",
       "      <td>46606.55</td>\n",
       "      <td>80562.40</td>\n",
       "      <td>38632.41</td>\n",
       "      <td>59635.97</td>\n",
       "    </tr>\n",
       "    <tr>\n",
       "      <th>M</th>\n",
       "      <td>74.0</td>\n",
       "      <td>NaN</td>\n",
       "      <td>56.0</td>\n",
       "      <td>38.0</td>\n",
       "      <td>68.0</td>\n",
       "      <td>27861.36</td>\n",
       "      <td>NaN</td>\n",
       "      <td>45507.87</td>\n",
       "      <td>48179.74</td>\n",
       "      <td>28234.80</td>\n",
       "    </tr>\n",
       "  </tbody>\n",
       "</table>\n",
       "</div>"
      ],
      "text/plain": [
       "                         age                                    salary                                        \n",
       "dept             Engineering    HR Marketing Quality Sales Engineering        HR Marketing   Quality     Sales\n",
       "city      gender                                                                                              \n",
       "Chennai   F             68.0   NaN      59.0     NaN  70.0    57288.24       NaN  70503.72       NaN  28361.34\n",
       "          M             74.0  56.0      27.0    69.0  58.0    37896.08  38980.56  61481.92  52649.18  32389.41\n",
       "Delhi     F             65.0   NaN       NaN    61.0  59.0    41660.72       NaN       NaN  35778.06  62427.15\n",
       "          M             74.0  44.0      32.0    28.0  73.0    17645.76  85136.37  56019.97  71164.96  36906.63\n",
       "Faridabad F             65.0   NaN      42.0     NaN  68.0    24487.49       NaN  46991.52       NaN  52519.29\n",
       "          M             73.0  55.0      51.0    46.0  67.0    23100.26  55149.54  58921.75  36698.07  50013.92\n",
       "Gurugram  F             60.0  42.0       NaN    61.0   NaN     7687.84  54576.68       NaN  29153.92       NaN\n",
       "          M             26.0  54.0      48.0    37.0  50.0    53411.01  75928.65  10121.37  43461.63  45543.70\n",
       "Kolkatta  F             62.0  68.0      62.0    49.0  36.0    73243.74  41306.98  53793.96  47175.52  58934.96\n",
       "          M             62.0  51.0      28.0    71.0  69.0    48115.00  21761.18  36794.22  45816.77  24387.58\n",
       "Mumbai    F             71.0  26.0      57.0    31.0  71.0    32882.36  96031.50  51559.00  73471.98  89975.47\n",
       "          M             57.0  66.0      72.0    48.0  72.0    60264.45  49435.35  54608.05  32949.15  14369.08\n",
       "Noida     F             64.0  37.0      55.0    48.0  69.0    46462.52  46606.55  80562.40  38632.41  59635.97\n",
       "          M             74.0   NaN      56.0    38.0  68.0    27861.36       NaN  45507.87  48179.74  28234.80"
      ]
     },
     "execution_count": 130,
     "metadata": {},
     "output_type": "execute_result"
    }
   ],
   "source": [
    "df.pivot_table(index=['city','gender'], columns=['dept'],  aggfunc ={'age':'max','salary': 'min'})"
   ]
  },
  {
   "cell_type": "markdown",
   "id": "329341b1-abf8-463e-85fc-03781389b2f4",
   "metadata": {},
   "source": [
    "## Groupby  - gender, city, dept  \n",
    "## aggregate  - count, min, max, age, std, \n",
    "## plot the group summaries"
   ]
  },
  {
   "cell_type": "code",
   "execution_count": 131,
   "id": "f5771733-8f98-4fe0-abbb-9031fc5d90fd",
   "metadata": {
    "tags": []
   },
   "outputs": [
    {
     "data": {
      "text/plain": [
       "gender\n",
       "F     81\n",
       "M    119\n",
       "dtype: int64"
      ]
     },
     "execution_count": 131,
     "metadata": {},
     "output_type": "execute_result"
    }
   ],
   "source": [
    "df.groupby('gender').size()"
   ]
  },
  {
   "cell_type": "code",
   "execution_count": 133,
   "id": "24057c50-19fe-4221-9d18-04fca8a426ff",
   "metadata": {
    "tags": []
   },
   "outputs": [
    {
     "data": {
      "text/plain": [
       "<Axes: xlabel='gender'>"
      ]
     },
     "execution_count": 133,
     "metadata": {},
     "output_type": "execute_result"
    },
    {
     "data": {
      "image/png": "[encoded data removed]",
      "text/plain": [
       "<Figure size 640x480 with 1 Axes>"
      ]
     },
     "metadata": {},
     "output_type": "display_data"
    }
   ],
   "source": [
    "df.groupby('gender').size().plot(kind='bar')"
   ]
  },
  {
   "cell_type": "code",
   "execution_count": 137,
   "id": "c2eef67e-9f31-4c74-8f54-815e03590aeb",
   "metadata": {
    "tags": []
   },
   "outputs": [
    {
     "data": {
      "text/plain": [
       "<Axes: xlabel='gender'>"
      ]
     },
     "execution_count": 137,
     "metadata": {},
     "output_type": "execute_result"
    },
    {
     "data": {
      "image/png": "[encoded data removed]",
      "text/plain": [
       "<Figure size 640x480 with 1 Axes>"
      ]
     },
     "metadata": {},
     "output_type": "display_data"
    }
   ],
   "source": [
    "df.gender.value_counts().plot(kind='bar')"
   ]
  },
  {
   "cell_type": "code",
   "execution_count": null,
   "id": "de84aabd-1b71-4480-a84f-870273073eda",
   "metadata": {},
   "outputs": [],
   "source": []
  }
 ],
 "metadata": {
  "kernelspec": {
   "display_name": "Python 3 (ipykernel)",
   "language": "python",
   "name": "python3"
  },
  "language_info": {
   "codemirror_mode": {
    "name": "ipython",
    "version": 3
   },
   "file_extension": ".py",
   "mimetype": "text/x-python",
   "name": "python",
   "nbconvert_exporter": "python",
   "pygments_lexer": "ipython3",
   "version": "3.11.5"
  }
 },
 "nbformat": 4,
 "nbformat_minor": 5
}
