{
 "cells": [
  {
   "cell_type": "markdown",
   "id": "6cb7da55",
   "metadata": {},
   "source": [
    "# BERT\n",
    "-  https://www.analyticsvidhya.com/blog/2019/09/demystifying-bert-groundbreaking-nlp-framework/"
   ]
  },
  {
   "cell_type": "code",
   "execution_count": 1,
   "id": "d0cfb2a3",
   "metadata": {},
   "outputs": [],
   "source": [
    "#!pip install bert-serving-client\n",
    "from bert_serving.client import BertClient"
   ]
  },
  {
   "cell_type": "code",
   "execution_count": null,
   "id": "2beb5541",
   "metadata": {},
   "outputs": [],
   "source": [
    "#from bert_serving.client import BertClient\n",
    "\n",
    "# make a connection with the BERT server using it's ip address; do not give any ip if same computer\n",
    "#bc = BertClient(ip=\"SERVER_IP_HERE\")\n",
    "bc = BertClient()"
   ]
  },
  {
   "cell_type": "code",
   "execution_count": null,
   "id": "0ed39f18",
   "metadata": {},
   "outputs": [],
   "source": [
    "# get the embedding\n",
    "embedding = bc.encode([\"I love data science and analytics vidhya.\"])\n",
    "# check the shape of embedding, it should be 1x768\n",
    "print(embedding.shape)"
   ]
  },
  {
   "cell_type": "markdown",
   "id": "3b2e67c7",
   "metadata": {},
   "source": [
    "The shape of the returned embedding would be (1,768) as there is only a single sentence which is represented by 768 hidden units in BERT’s architecture"
   ]
  },
  {
   "cell_type": "code",
   "execution_count": null,
   "id": "66923bdf",
   "metadata": {},
   "outputs": [],
   "source": []
  }
 ],
 "metadata": {
  "kernelspec": {
   "display_name": "Python 3 (ipykernel)",
   "language": "python",
   "name": "python3"
  },
  "language_info": {
   "codemirror_mode": {
    "name": "ipython",
    "version": 3
   },
   "file_extension": ".py",
   "mimetype": "text/x-python",
   "name": "python",
   "nbconvert_exporter": "python",
   "pygments_lexer": "ipython3",
   "version": "3.9.16"
  }
 },
 "nbformat": 4,
 "nbformat_minor": 5
}
