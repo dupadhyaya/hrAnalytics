{
 "cells": [
  {
   "cell_type": "markdown",
   "id": "94b3db15-a124-4497-a8e8-6108431e50b4",
   "metadata": {},
   "source": [
    "# Date Time\n",
    "-  https://opensource.com/article/18/4/python-datetime-libraries"
   ]
  },
  {
   "cell_type": "markdown",
   "id": "29883873-ef00-4d2e-a7ba-c872b6240f1c",
   "metadata": {},
   "source": [
    "# date forms\n",
    "-  20230716\n",
    "-  2023-07-16\n",
    "-  16-Jul-2023\n",
    "-  2023.76423\n",
    "-  2023-07-16T17:45:25Z\n"
   ]
  },
  {
   "cell_type": "code",
   "execution_count": 2,
   "id": "97a5021d-0055-4555-8384-6cc5bea23f43",
   "metadata": {
    "tags": []
   },
   "outputs": [],
   "source": [
    "#libraries\n",
    "import numpy as np\n",
    "import pandas as pd\n",
    "import datetime as dt"
   ]
  },
  {
   "cell_type": "code",
   "execution_count": null,
   "id": "39864947-1dab-4962-84fd-faf064200b95",
   "metadata": {},
   "outputs": [],
   "source": [
    "#additional libraries\n",
    "import dateutil\n",
    "import Arrow\n"
   ]
  },
  {
   "cell_type": "code",
   "execution_count": 8,
   "id": "47ea4d07-f6e4-427a-b1a6-03a257af2fb4",
   "metadata": {
    "tags": []
   },
   "outputs": [
    {
     "name": "stdout",
     "output_type": "stream",
     "text": [
      "2023-07-16 10:12:04.535594\n"
     ]
    }
   ],
   "source": [
    "# datetime\n",
    "import datetime as dt \n",
    "now = dt.datetime.now()\n",
    "print(now)"
   ]
  },
  {
   "cell_type": "code",
   "execution_count": 9,
   "id": "133b3ef7-d3c9-415a-a264-e064d7898f82",
   "metadata": {
    "tags": []
   },
   "outputs": [
    {
     "name": "stdout",
     "output_type": "stream",
     "text": [
      "Sun\n"
     ]
    }
   ],
   "source": [
    "print(now.strftime('%a'))  #day from date"
   ]
  },
  {
   "cell_type": "code",
   "execution_count": 41,
   "id": "10bee677-4370-4ae4-bde4-749a234e482b",
   "metadata": {
    "tags": []
   },
   "outputs": [],
   "source": [
    "#sampledates\n",
    "d1= ''\n",
    "d2 = '2023-07-16T10:30:25Z'"
   ]
  },
  {
   "cell_type": "code",
   "execution_count": 18,
   "id": "abfb4c76-cc54-4896-a264-9b170f08e6e0",
   "metadata": {
    "tags": []
   },
   "outputs": [
    {
     "name": "stdout",
     "output_type": "stream",
     "text": [
      "Sun Sunday 0 29 28 16 197 07 Jul July 23 2023  \n",
      ": 10 12 04 : 10 535594 :\n",
      " AM Sun Jul 16 10:12:04 2023 07/16/23 10:12:04 \n",
      " 2023 7 28\n"
     ]
    }
   ],
   "source": [
    "print(now.strftime('%a %A %w %U %W %d %j %m %b %B %y %Y  \\n: \\\n",
    "%H %M %S : %I %f :\\n %p %c %x %X \\n %G %u %V'))"
   ]
  },
  {
   "cell_type": "code",
   "execution_count": 19,
   "id": "88fa001c-9ff5-4a20-8417-0eb79a91d977",
   "metadata": {
    "tags": []
   },
   "outputs": [
    {
     "data": {
      "text/plain": [
       "datetime.datetime"
      ]
     },
     "execution_count": 19,
     "metadata": {},
     "output_type": "execute_result"
    }
   ],
   "source": [
    "type(now)  #class"
   ]
  },
  {
   "cell_type": "code",
   "execution_count": 20,
   "id": "63746894-718a-4866-b0c8-b2323091fb39",
   "metadata": {
    "tags": []
   },
   "outputs": [
    {
     "data": {
      "text/plain": [
       "datetime.datetime(2023, 7, 16, 0, 0)"
      ]
     },
     "execution_count": 20,
     "metadata": {},
     "output_type": "execute_result"
    }
   ],
   "source": [
    "dt.datetime(2023,7,16)"
   ]
  },
  {
   "cell_type": "code",
   "execution_count": 22,
   "id": "e9000c50-5800-4774-9389-1f19d77e05ef",
   "metadata": {
    "tags": []
   },
   "outputs": [
    {
     "data": {
      "text/plain": [
       "datetime.datetime(2023, 7, 16, 10, 25, 30)"
      ]
     },
     "execution_count": 22,
     "metadata": {},
     "output_type": "execute_result"
    }
   ],
   "source": [
    "dt.datetime(2023,7,16,10,25,30)"
   ]
  },
  {
   "cell_type": "code",
   "execution_count": 29,
   "id": "76f9fe7a-c708-40a3-b0ff-8c2d483bfa67",
   "metadata": {
    "tags": []
   },
   "outputs": [
    {
     "data": {
      "text/plain": [
       "datetime.time(10, 25, 30, 999991)"
      ]
     },
     "execution_count": 29,
     "metadata": {},
     "output_type": "execute_result"
    }
   ],
   "source": [
    "dt.time(10, 25, 30, 999991)  #H, M, S, MS"
   ]
  },
  {
   "cell_type": "code",
   "execution_count": 42,
   "id": "f240ce87-d353-4ef5-973d-5b3815ae6f50",
   "metadata": {
    "tags": []
   },
   "outputs": [
    {
     "data": {
      "text/plain": [
       "datetime.datetime(2023, 7, 16, 10, 30, 25)"
      ]
     },
     "execution_count": 42,
     "metadata": {},
     "output_type": "execute_result"
    }
   ],
   "source": [
    "dt.datetime.strptime(d2, '%Y-%m-%dT%H:%M:%SZ')"
   ]
  },
  {
   "cell_type": "code",
   "execution_count": 6,
   "id": "916aac24-7ccb-48be-870c-ae4283e75fe4",
   "metadata": {
    "tags": []
   },
   "outputs": [
    {
     "data": {
      "text/plain": [
       "datetime.datetime(2018, 4, 29, 17, 45, 25)"
      ]
     },
     "execution_count": 6,
     "metadata": {},
     "output_type": "execute_result"
    }
   ],
   "source": [
    "dt.datetime(2018, 4, 29, 17, 45, 25)"
   ]
  },
  {
   "cell_type": "code",
   "execution_count": null,
   "id": "483c76f8-61b8-465a-bdc4-e895316c5b66",
   "metadata": {},
   "outputs": [],
   "source": []
  },
  {
   "cell_type": "markdown",
   "id": "932672d2-8d57-42ee-a8fb-d925b3fd8487",
   "metadata": {},
   "source": [
    "#parse\n",
    "-  dateutil module\n",
    "-  https://dateutil.readthedocs.io/en/stable/"
   ]
  },
  {
   "cell_type": "code",
   "execution_count": 30,
   "id": "49d16167-5e4e-4111-ac8e-c60738147e8b",
   "metadata": {
    "tags": []
   },
   "outputs": [],
   "source": [
    "from dateutil.parser import parse\n"
   ]
  },
  {
   "cell_type": "code",
   "execution_count": 43,
   "id": "638a8bae-998a-40d7-bb51-611947d27548",
   "metadata": {
    "tags": []
   },
   "outputs": [
    {
     "data": {
      "text/plain": [
       "datetime.datetime(2023, 7, 16, 10, 30, 25, tzinfo=tzutc())"
      ]
     },
     "execution_count": 43,
     "metadata": {},
     "output_type": "execute_result"
    }
   ],
   "source": [
    "parse(d2)\n",
    "#automatically return the string's time zone if it's included. \n",
    "#Since ours was in UTC, you can see that the datetime object returned that. If you want parse to ignore time zone information entirely and return a naive datetime object,\n",
    "#you can pass the parameter ignoretz=True to parse"
   ]
  },
  {
   "cell_type": "code",
   "execution_count": 44,
   "id": "bc3d6996-fcbb-4999-a408-a4b6aee76119",
   "metadata": {
    "tags": []
   },
   "outputs": [
    {
     "data": {
      "text/plain": [
       "datetime.datetime(2023, 7, 16, 10, 30, 25)"
      ]
     },
     "execution_count": 44,
     "metadata": {},
     "output_type": "execute_result"
    }
   ],
   "source": [
    "parse(d2, ignoretz=True)"
   ]
  },
  {
   "cell_type": "code",
   "execution_count": 33,
   "id": "857771a1-c4d2-4905-a01b-9c8589cf83d9",
   "metadata": {
    "tags": []
   },
   "outputs": [
    {
     "data": {
      "text/plain": [
       "datetime.datetime(2023, 7, 16, 10, 30)"
      ]
     },
     "execution_count": 33,
     "metadata": {},
     "output_type": "execute_result"
    }
   ],
   "source": [
    "parse('Jul 16th, 2023 at 10:30 am')"
   ]
  },
  {
   "cell_type": "markdown",
   "id": "f35f4494-152d-45e9-b601-0d0b6bebb534",
   "metadata": {},
   "source": [
    "# Arrow\n",
    "-  Arrow is another library with the goal of making manipulating, formatting, and otherwise dealing with dates and times friendlier to humans. It includes dateutil and, according to its docs, aims to \"help you work with dates and times with fewer imports and a lot less code.\"\n",
    "-  https://github.com/crsmithdev/arrow\n",
    "-  https://arrow.readthedocs.io/en/latest/"
   ]
  },
  {
   "cell_type": "code",
   "execution_count": 34,
   "id": "7e315c3f-8d4c-498e-8631-c685795cb7af",
   "metadata": {
    "tags": []
   },
   "outputs": [],
   "source": [
    "import arrow "
   ]
  },
  {
   "cell_type": "code",
   "execution_count": 45,
   "id": "3681bbf3-75a8-486e-8e9e-5a93268fea33",
   "metadata": {
    "tags": []
   },
   "outputs": [
    {
     "data": {
      "text/plain": [
       "<Arrow [2023-07-16T10:30:25+00:00]>"
      ]
     },
     "execution_count": 45,
     "metadata": {},
     "output_type": "execute_result"
    }
   ],
   "source": [
    "arrow.get(d2)"
   ]
  },
  {
   "cell_type": "code",
   "execution_count": 46,
   "id": "c25fa093-89f6-4f7c-8bb7-59fabb24b2d6",
   "metadata": {
    "tags": []
   },
   "outputs": [
    {
     "data": {
      "text/plain": [
       "datetime.datetime(2023, 7, 16, 10, 30, 25, tzinfo=tzutc())"
      ]
     },
     "execution_count": 46,
     "metadata": {},
     "output_type": "execute_result"
    }
   ],
   "source": [
    "arrow.get(d2).datetime"
   ]
  },
  {
   "cell_type": "code",
   "execution_count": 38,
   "id": "a5363c1e-9e97-4b22-afc6-85e0fcb5621d",
   "metadata": {
    "tags": []
   },
   "outputs": [
    {
     "data": {
      "text/plain": [
       "'just now'"
      ]
     },
     "execution_count": 38,
     "metadata": {},
     "output_type": "execute_result"
    }
   ],
   "source": [
    "#its humanize() method translates datetimes into human-readable phrases, like\n",
    "utc = arrow.utcnow()\n",
    "utc.humanize()"
   ]
  },
  {
   "cell_type": "markdown",
   "id": "89d06192-d8bf-4227-8a63-d471e561b176",
   "metadata": {},
   "source": [
    "# Moment\n",
    "-  Moment's creator considers it \"alpha quality,\" but even though it's in early stages, it is well-liked and we wanted to mention it."
   ]
  },
  {
   "cell_type": "code",
   "execution_count": 47,
   "id": "e40fe476-9763-44ce-b1e1-887cb632c79c",
   "metadata": {
    "tags": []
   },
   "outputs": [],
   "source": [
    "#!pip install moment\n",
    "import moment"
   ]
  },
  {
   "cell_type": "code",
   "execution_count": 48,
   "id": "3650ea43-fefc-4f80-9a32-de6adcbd98ab",
   "metadata": {
    "tags": []
   },
   "outputs": [
    {
     "data": {
      "text/plain": [
       "<Moment(2023-07-16T10:30:25)>"
      ]
     },
     "execution_count": 48,
     "metadata": {},
     "output_type": "execute_result"
    }
   ],
   "source": [
    "moment.date(d2)"
   ]
  },
  {
   "cell_type": "code",
   "execution_count": 50,
   "id": "0d44f45b-5ec3-4661-92c8-5ffe79988d33",
   "metadata": {
    "tags": []
   },
   "outputs": [
    {
     "data": {
      "text/plain": [
       "datetime.datetime(2023, 7, 16, 10, 30, 25, tzinfo=<StaticTzInfo 'Z'>)"
      ]
     },
     "execution_count": 50,
     "metadata": {},
     "output_type": "execute_result"
    }
   ],
   "source": [
    "moment.date(d2).date  #its own class"
   ]
  },
  {
   "cell_type": "code",
   "execution_count": 51,
   "id": "cb448148-dec1-4b7f-8dca-43a3731ab83d",
   "metadata": {
    "tags": []
   },
   "outputs": [
    {
     "data": {
      "text/plain": [
       "<Moment(2023-07-17T10:30:08)>"
      ]
     },
     "execution_count": 51,
     "metadata": {},
     "output_type": "execute_result"
    }
   ],
   "source": [
    "moment.date('tomorrow')"
   ]
  },
  {
   "cell_type": "code",
   "execution_count": 52,
   "id": "f1bf9823-5dce-4c1b-8c44-cef481df8aef",
   "metadata": {
    "tags": []
   },
   "outputs": [
    {
     "data": {
      "text/plain": [
       "<Moment(2023-07-18T10:30:18)>"
      ]
     },
     "execution_count": 52,
     "metadata": {},
     "output_type": "execute_result"
    }
   ],
   "source": [
    "moment.date(\"tomorrow\").add(days=1)"
   ]
  },
  {
   "cell_type": "markdown",
   "id": "be053a5e-ce34-40ee-86e1-236b8f41c07d",
   "metadata": {},
   "source": [
    "## Maya\n",
    "-  Maya includes other popular libraries that deal with datetimes in Python, including Humanize, pytz, and pendulum, among others. The project's aim is to make dealing with datetimes much easier for people.\n",
    "- "
   ]
  },
  {
   "cell_type": "code",
   "execution_count": 54,
   "id": "901a42b4-86b2-440f-81b9-48e18cc6dcc3",
   "metadata": {
    "tags": []
   },
   "outputs": [],
   "source": [
    "#!pip install maya\n",
    "import maya"
   ]
  },
  {
   "cell_type": "code",
   "execution_count": 55,
   "id": "cd87a412-1b32-4511-868b-7c19b1e1049c",
   "metadata": {
    "tags": []
   },
   "outputs": [
    {
     "data": {
      "text/plain": [
       "<MayaDT epoch=1689503425.0>"
      ]
     },
     "execution_count": 55,
     "metadata": {},
     "output_type": "execute_result"
    }
   ],
   "source": [
    "maya.parse(d2)"
   ]
  },
  {
   "cell_type": "code",
   "execution_count": 56,
   "id": "334356b2-cb2e-4a67-893e-af7e85bb1fa8",
   "metadata": {
    "tags": []
   },
   "outputs": [
    {
     "data": {
      "text/plain": [
       "datetime.datetime(2023, 7, 16, 10, 30, 25, tzinfo=<UTC>)"
      ]
     },
     "execution_count": 56,
     "metadata": {},
     "output_type": "execute_result"
    }
   ],
   "source": [
    "maya.parse(d2).datetime()"
   ]
  },
  {
   "cell_type": "code",
   "execution_count": 62,
   "id": "99acb49e-7656-4a36-9b50-b73eb4a80405",
   "metadata": {
    "tags": []
   },
   "outputs": [
    {
     "data": {
      "text/plain": [
       "datetime.timedelta(days=10)"
      ]
     },
     "execution_count": 62,
     "metadata": {},
     "output_type": "execute_result"
    }
   ],
   "source": [
    "dt.timedelta(10)"
   ]
  },
  {
   "cell_type": "code",
   "execution_count": 63,
   "id": "9618a0eb-c063-494d-a083-f85a1d1cffe1",
   "metadata": {
    "tags": []
   },
   "outputs": [
    {
     "data": {
      "text/plain": [
       "'in 3 weeks'"
      ]
     },
     "execution_count": 63,
     "metadata": {},
     "output_type": "execute_result"
    }
   ],
   "source": [
    "maya.parse(now + dt.timedelta(20)).slang_time()"
   ]
  },
  {
   "cell_type": "markdown",
   "id": "416883ed-05f0-4391-a987-02965541c93c",
   "metadata": {},
   "source": [
    "# Delorean\n",
    "-  Delorean, named for the time-traveling car in the Back to the Future movies, is particularly helpful for manipulating datetimes: converting datetimes to other time zones and adding or subtracting time"
   ]
  },
  {
   "cell_type": "code",
   "execution_count": 65,
   "id": "83d1da75-645b-4239-ae1b-0db11ad60d04",
   "metadata": {
    "tags": []
   },
   "outputs": [],
   "source": [
    "#!pip install delorean"
   ]
  },
  {
   "cell_type": "code",
   "execution_count": 66,
   "id": "1297f7ee-6084-496b-b598-67b3ba6e9013",
   "metadata": {
    "tags": []
   },
   "outputs": [
    {
     "data": {
      "text/plain": [
       "datetime.datetime(2023, 7, 16, 10, 30, 25, tzinfo=<UTC>)"
      ]
     },
     "execution_count": 66,
     "metadata": {},
     "output_type": "execute_result"
    }
   ],
   "source": [
    "import maya\n",
    "d_t = maya.parse(d2).datetime()\n",
    "d_t"
   ]
  },
  {
   "cell_type": "code",
   "execution_count": 69,
   "id": "fa84b70d-ab64-48ca-bb3b-2f13cf9c882c",
   "metadata": {
    "tags": []
   },
   "outputs": [
    {
     "data": {
      "text/plain": [
       "Delorean(datetime=datetime.datetime(2023, 7, 16, 10, 30, 25), timezone='UTC')"
      ]
     },
     "execution_count": 69,
     "metadata": {},
     "output_type": "execute_result"
    }
   ],
   "source": [
    "from delorean import Delorean\n",
    "d = Delorean(d_t)\n",
    "d"
   ]
  },
  {
   "cell_type": "code",
   "execution_count": 72,
   "id": "c1a32c13-256d-4f10-93ad-b6a5a0dbcecd",
   "metadata": {
    "tags": []
   },
   "outputs": [
    {
     "data": {
      "text/plain": [
       "Delorean(datetime=datetime.datetime(2023, 7, 16, 6, 30, 25), timezone='US/Eastern')"
      ]
     },
     "execution_count": 72,
     "metadata": {},
     "output_type": "execute_result"
    }
   ],
   "source": [
    "d.shift('US/Eastern')"
   ]
  },
  {
   "cell_type": "code",
   "execution_count": 74,
   "id": "5184a577-52d4-4935-8b17-71af5cb7a370",
   "metadata": {
    "tags": []
   },
   "outputs": [
    {
     "data": {
      "text/plain": [
       "Delorean(datetime=datetime.datetime(2023, 7, 21, 6, 30, 25), timezone='US/Eastern')"
      ]
     },
     "execution_count": 74,
     "metadata": {},
     "output_type": "execute_result"
    }
   ],
   "source": [
    "d.next_friday()"
   ]
  },
  {
   "cell_type": "markdown",
   "id": "e5b18836-eaf4-4df4-a8df-2e603a66691e",
   "metadata": {},
   "source": [
    "# Freezegun\n",
    "-  Freezegun is a library that helps you test with specific datetimes in your Python code. Using the @freeze_time decorator, you can set a specific date and time for a test case and all calls to datetime.datetime.now(), datetime.datetime.utcnow(), etc. will return the date and time you specified.\n",
    "-  https://github.com/spulec/freezegun"
   ]
  },
  {
   "cell_type": "code",
   "execution_count": 76,
   "id": "42c50b7d-55a0-406b-a308-fa2b6322e6ef",
   "metadata": {
    "tags": []
   },
   "outputs": [],
   "source": [
    "#!pip install freezegun"
   ]
  },
  {
   "cell_type": "code",
   "execution_count": 77,
   "id": "3404b098-af6c-4439-b799-f59a98f47398",
   "metadata": {
    "tags": []
   },
   "outputs": [],
   "source": [
    "from freezegun import freeze_time\n",
    "import datetime"
   ]
  },
  {
   "cell_type": "code",
   "execution_count": 80,
   "id": "5a74a4b7-c4da-4834-b859-068edcc25a78",
   "metadata": {
    "tags": []
   },
   "outputs": [],
   "source": [
    "@freeze_time(\"2023-07-17\")\n",
    "def test():\n",
    "    assert datetime.datetime.now() == datetime.datetime(2023, 7, 16)"
   ]
  },
  {
   "cell_type": "code",
   "execution_count": 82,
   "id": "fbc1dace-e72a-48ab-af9f-6f7239dcc2fa",
   "metadata": {
    "tags": []
   },
   "outputs": [],
   "source": [
    "# understand more about this"
   ]
  },
  {
   "cell_type": "code",
   "execution_count": 83,
   "id": "1bf925a7-382c-42a7-9c90-71aea8c15fb0",
   "metadata": {
    "tags": []
   },
   "outputs": [],
   "source": [
    "## Timestamp"
   ]
  },
  {
   "cell_type": "code",
   "execution_count": 84,
   "id": "e0175cc1-8354-492e-9c57-00b105c8467d",
   "metadata": {
    "tags": []
   },
   "outputs": [
    {
     "data": {
      "text/plain": [
       "Timestamp('2023-07-16 00:00:00')"
      ]
     },
     "execution_count": 84,
     "metadata": {},
     "output_type": "execute_result"
    }
   ],
   "source": [
    "ts = pd.Timestamp(2023,7,16)\n",
    "ts"
   ]
  },
  {
   "cell_type": "code",
   "execution_count": 85,
   "id": "db952c4f-d953-4ae2-9025-a7b701bc8b8c",
   "metadata": {
    "tags": []
   },
   "outputs": [
    {
     "data": {
      "text/plain": [
       "16"
      ]
     },
     "execution_count": 85,
     "metadata": {},
     "output_type": "execute_result"
    }
   ],
   "source": [
    "ts.day"
   ]
  },
  {
   "cell_type": "code",
   "execution_count": 86,
   "id": "a2d15150-d0f7-456b-8601-f38052a003a4",
   "metadata": {
    "tags": []
   },
   "outputs": [
    {
     "data": {
      "text/plain": [
       "6"
      ]
     },
     "execution_count": 86,
     "metadata": {},
     "output_type": "execute_result"
    }
   ],
   "source": [
    "ts.day_of_week"
   ]
  },
  {
   "cell_type": "code",
   "execution_count": 87,
   "id": "490218c4-1afb-4e06-87f5-36bf08951eba",
   "metadata": {
    "tags": []
   },
   "outputs": [
    {
     "data": {
      "text/plain": [
       "6"
      ]
     },
     "execution_count": 87,
     "metadata": {},
     "output_type": "execute_result"
    }
   ],
   "source": [
    "ts.dayofweek"
   ]
  },
  {
   "cell_type": "code",
   "execution_count": 88,
   "id": "8661ed19-953a-4bb2-912d-ab597c817ba1",
   "metadata": {
    "tags": []
   },
   "outputs": [
    {
     "data": {
      "text/plain": [
       "197"
      ]
     },
     "execution_count": 88,
     "metadata": {},
     "output_type": "execute_result"
    }
   ],
   "source": [
    "ts.day_of_year"
   ]
  },
  {
   "cell_type": "code",
   "execution_count": 89,
   "id": "2f477235-c3be-4eaa-bc07-f4818601f5f2",
   "metadata": {
    "tags": []
   },
   "outputs": [
    {
     "data": {
      "text/plain": [
       "31"
      ]
     },
     "execution_count": 89,
     "metadata": {},
     "output_type": "execute_result"
    }
   ],
   "source": [
    "ts.days_in_month"
   ]
  },
  {
   "cell_type": "code",
   "execution_count": 90,
   "id": "29d25c09-40c0-45c7-a947-edadef622b53",
   "metadata": {
    "tags": []
   },
   "outputs": [
    {
     "data": {
      "text/plain": [
       "31"
      ]
     },
     "execution_count": 90,
     "metadata": {},
     "output_type": "execute_result"
    }
   ],
   "source": [
    "ts.daysinmonth"
   ]
  },
  {
   "cell_type": "code",
   "execution_count": 91,
   "id": "1445fb4a-eeae-4998-bc21-c46cc87c69ce",
   "metadata": {
    "tags": []
   },
   "outputs": [
    {
     "data": {
      "text/plain": [
       "0"
      ]
     },
     "execution_count": 91,
     "metadata": {},
     "output_type": "execute_result"
    }
   ],
   "source": [
    "ts.fold"
   ]
  },
  {
   "cell_type": "code",
   "execution_count": 92,
   "id": "81c85b7e-d4ad-485c-850a-b2a9b423b266",
   "metadata": {
    "tags": []
   },
   "outputs": [
    {
     "data": {
      "text/plain": [
       "0"
      ]
     },
     "execution_count": 92,
     "metadata": {},
     "output_type": "execute_result"
    }
   ],
   "source": [
    "ts.hour"
   ]
  },
  {
   "cell_type": "code",
   "execution_count": 93,
   "id": "ead81099-19db-4d5c-9487-2d0365b91384",
   "metadata": {
    "tags": []
   },
   "outputs": [
    {
     "data": {
      "text/plain": [
       "False"
      ]
     },
     "execution_count": 93,
     "metadata": {},
     "output_type": "execute_result"
    }
   ],
   "source": [
    "ts.is_month_end"
   ]
  },
  {
   "cell_type": "code",
   "execution_count": 95,
   "id": "14c99e69-c3be-4a4b-9c68-5c671e664ef8",
   "metadata": {
    "tags": []
   },
   "outputs": [
    {
     "data": {
      "text/plain": [
       "True"
      ]
     },
     "execution_count": 95,
     "metadata": {},
     "output_type": "execute_result"
    }
   ],
   "source": [
    "pd.Timestamp(2023,7,31).is_month_end"
   ]
  },
  {
   "cell_type": "code",
   "execution_count": 96,
   "id": "c52856e4-f2f2-4e2d-93b9-90af07fe1aab",
   "metadata": {
    "tags": []
   },
   "outputs": [
    {
     "data": {
      "text/plain": [
       "True"
      ]
     },
     "execution_count": 96,
     "metadata": {},
     "output_type": "execute_result"
    }
   ],
   "source": [
    "pd.Timestamp(2023,7,1).is_month_start"
   ]
  },
  {
   "cell_type": "code",
   "execution_count": 99,
   "id": "a83bbe97-d5a6-479f-b601-8b88e8ede635",
   "metadata": {
    "tags": []
   },
   "outputs": [
    {
     "data": {
      "text/plain": [
       "True"
      ]
     },
     "execution_count": 99,
     "metadata": {},
     "output_type": "execute_result"
    }
   ],
   "source": [
    "pd.Timestamp(2023,7,1).is_quarter_start"
   ]
  },
  {
   "cell_type": "code",
   "execution_count": 101,
   "id": "d3fb7b84-7604-4da2-af81-5132d6e1cf56",
   "metadata": {
    "tags": []
   },
   "outputs": [
    {
     "data": {
      "text/plain": [
       "True"
      ]
     },
     "execution_count": 101,
     "metadata": {},
     "output_type": "execute_result"
    }
   ],
   "source": [
    "pd.Timestamp(2023,6,30).is_quarter_end"
   ]
  },
  {
   "cell_type": "code",
   "execution_count": 102,
   "id": "bd25343a-ceb6-45b9-a647-cb4c14513d94",
   "metadata": {
    "tags": []
   },
   "outputs": [
    {
     "data": {
      "text/plain": [
       "True"
      ]
     },
     "execution_count": 102,
     "metadata": {},
     "output_type": "execute_result"
    }
   ],
   "source": [
    "pd.Timestamp(2023,12,31).is_year_end"
   ]
  },
  {
   "cell_type": "code",
   "execution_count": 103,
   "id": "963388de-8399-4f7e-b236-bdd5777ae77d",
   "metadata": {
    "tags": []
   },
   "outputs": [
    {
     "data": {
      "text/plain": [
       "True"
      ]
     },
     "execution_count": 103,
     "metadata": {},
     "output_type": "execute_result"
    }
   ],
   "source": [
    "pd.Timestamp(2023,1,1).is_year_start"
   ]
  },
  {
   "cell_type": "code",
   "execution_count": 104,
   "id": "29dfa80d-a996-4282-9238-8ca0aa488bb1",
   "metadata": {
    "tags": []
   },
   "outputs": [
    {
     "data": {
      "text/plain": [
       "0"
      ]
     },
     "execution_count": 104,
     "metadata": {},
     "output_type": "execute_result"
    }
   ],
   "source": [
    "ts.minute"
   ]
  },
  {
   "cell_type": "code",
   "execution_count": 105,
   "id": "16c83376-acb2-491a-9636-af4064ced50f",
   "metadata": {
    "tags": []
   },
   "outputs": [
    {
     "data": {
      "text/plain": [
       "7"
      ]
     },
     "execution_count": 105,
     "metadata": {},
     "output_type": "execute_result"
    }
   ],
   "source": [
    "ts.month"
   ]
  },
  {
   "cell_type": "code",
   "execution_count": 106,
   "id": "38c00fc3-0b03-4870-9112-19dac8f8d1c1",
   "metadata": {
    "tags": []
   },
   "outputs": [
    {
     "data": {
      "text/plain": [
       "2023"
      ]
     },
     "execution_count": 106,
     "metadata": {},
     "output_type": "execute_result"
    }
   ],
   "source": [
    "ts.year"
   ]
  },
  {
   "cell_type": "code",
   "execution_count": 107,
   "id": "fb8235fb-236c-427f-a0e9-343e1fee107f",
   "metadata": {
    "tags": []
   },
   "outputs": [
    {
     "data": {
      "text/plain": [
       "3"
      ]
     },
     "execution_count": 107,
     "metadata": {},
     "output_type": "execute_result"
    }
   ],
   "source": [
    "ts.quarter"
   ]
  },
  {
   "cell_type": "code",
   "execution_count": 108,
   "id": "2c20cd13-bfae-476e-b2eb-3ab981126f85",
   "metadata": {
    "tags": []
   },
   "outputs": [],
   "source": [
    "ts.tz"
   ]
  },
  {
   "cell_type": "code",
   "execution_count": 113,
   "id": "f3d42b76-69d9-4174-8abe-70de42c67848",
   "metadata": {
    "tags": []
   },
   "outputs": [],
   "source": [
    "#ts.as_unit('ms')"
   ]
  },
  {
   "cell_type": "code",
   "execution_count": 114,
   "id": "c995ac57-9fde-49bb-8c88-e36264555e1c",
   "metadata": {
    "tags": []
   },
   "outputs": [
    {
     "data": {
      "text/plain": [
       "datetime.date(2023, 7, 16)"
      ]
     },
     "execution_count": 114,
     "metadata": {},
     "output_type": "execute_result"
    }
   ],
   "source": [
    "ts.date()"
   ]
  },
  {
   "cell_type": "code",
   "execution_count": 115,
   "id": "dcd353b7-d7a2-4831-84e8-ee1af49cb4b6",
   "metadata": {
    "tags": []
   },
   "outputs": [
    {
     "data": {
      "text/plain": [
       "'Sunday'"
      ]
     },
     "execution_count": 115,
     "metadata": {},
     "output_type": "execute_result"
    }
   ],
   "source": [
    "ts.day_name()"
   ]
  },
  {
   "cell_type": "code",
   "execution_count": 116,
   "id": "2d811ba8-0c4c-44b4-9247-36050e914096",
   "metadata": {
    "tags": []
   },
   "outputs": [
    {
     "data": {
      "text/plain": [
       "'2023-07-16T00:00:00'"
      ]
     },
     "execution_count": 116,
     "metadata": {},
     "output_type": "execute_result"
    }
   ],
   "source": [
    "ts.isoformat()"
   ]
  },
  {
   "cell_type": "code",
   "execution_count": 117,
   "id": "766dd198-5301-4649-b67e-83b42d129a3b",
   "metadata": {
    "tags": []
   },
   "outputs": [
    {
     "data": {
      "text/plain": [
       "'2023-07-16T00:00:00.000000'"
      ]
     },
     "execution_count": 117,
     "metadata": {},
     "output_type": "execute_result"
    }
   ],
   "source": [
    "ts.isoformat(timespec='microseconds')"
   ]
  },
  {
   "cell_type": "code",
   "execution_count": 118,
   "id": "752cf01b-9f87-4384-be7f-75db5e651fe8",
   "metadata": {
    "tags": []
   },
   "outputs": [
    {
     "data": {
      "text/plain": [
       "'July'"
      ]
     },
     "execution_count": 118,
     "metadata": {},
     "output_type": "execute_result"
    }
   ],
   "source": [
    "ts.month_name()"
   ]
  },
  {
   "cell_type": "code",
   "execution_count": 120,
   "id": "da8343b0-fe93-4269-a514-66ded3e288ae",
   "metadata": {
    "tags": []
   },
   "outputs": [
    {
     "data": {
      "text/plain": [
       "Timestamp('2023-07-16 00:00:00')"
      ]
     },
     "execution_count": 120,
     "metadata": {},
     "output_type": "execute_result"
    }
   ],
   "source": [
    "ts.floor(freq='H')"
   ]
  },
  {
   "cell_type": "code",
   "execution_count": 126,
   "id": "b77426e4-f6a6-4936-aeb9-f27493c9f01d",
   "metadata": {
    "tags": []
   },
   "outputs": [
    {
     "data": {
      "text/plain": [
       "Timestamp('2023-07-16 00:00:00')"
      ]
     },
     "execution_count": 126,
     "metadata": {},
     "output_type": "execute_result"
    }
   ],
   "source": [
    "ts.floor(freq='1H20T') #hour, minute"
   ]
  },
  {
   "cell_type": "code",
   "execution_count": 128,
   "id": "ac876231-d388-4343-9676-2c35a66bd77e",
   "metadata": {
    "tags": []
   },
   "outputs": [
    {
     "data": {
      "text/plain": [
       "'Sun Jul 16 00:00:00 2023'"
      ]
     },
     "execution_count": 128,
     "metadata": {},
     "output_type": "execute_result"
    }
   ],
   "source": [
    "ts.ctime() #string"
   ]
  },
  {
   "cell_type": "code",
   "execution_count": 129,
   "id": "19c3b28d-a4f2-45ac-af59-bab6b6f465bb",
   "metadata": {
    "tags": []
   },
   "outputs": [
    {
     "data": {
      "text/plain": [
       "datetime.datetime(2023, 7, 16, 0, 0)"
      ]
     },
     "execution_count": 129,
     "metadata": {},
     "output_type": "execute_result"
    }
   ],
   "source": [
    "ts.to_pydatetime()"
   ]
  },
  {
   "cell_type": "code",
   "execution_count": 130,
   "id": "49844d11-27c8-4e2b-812f-5b9b8602c989",
   "metadata": {
    "tags": []
   },
   "outputs": [
    {
     "data": {
      "text/plain": [
       "Timestamp('2023-07-16 11:33:15.849660')"
      ]
     },
     "execution_count": 130,
     "metadata": {},
     "output_type": "execute_result"
    }
   ],
   "source": [
    "ts.today()"
   ]
  },
  {
   "cell_type": "code",
   "execution_count": 132,
   "id": "f4b53def-3214-46ea-a776-e8433bd432dc",
   "metadata": {
    "tags": []
   },
   "outputs": [
    {
     "data": {
      "text/plain": [
       "738717"
      ]
     },
     "execution_count": 132,
     "metadata": {},
     "output_type": "execute_result"
    }
   ],
   "source": [
    "ts.toordinal()  #day1 is jan1"
   ]
  },
  {
   "cell_type": "code",
   "execution_count": 135,
   "id": "72d753e6-3e30-4de7-ba16-865b5750f4e8",
   "metadata": {
    "tags": []
   },
   "outputs": [],
   "source": [
    "import pytz"
   ]
  },
  {
   "cell_type": "code",
   "execution_count": 136,
   "id": "a8fe166a-64e6-4f93-9885-f40cb643bb6a",
   "metadata": {
    "tags": []
   },
   "outputs": [],
   "source": [
    "IST = pytz.timezone('Asia/Kolkata')"
   ]
  },
  {
   "cell_type": "code",
   "execution_count": 138,
   "id": "69a5b202-7d40-4933-a1eb-cbf28b256358",
   "metadata": {
    "tags": []
   },
   "outputs": [
    {
     "data": {
      "text/plain": [
       "datetime.datetime(2023, 7, 16, 11, 36, 19, 745137, tzinfo=<DstTzInfo 'Asia/Kolkata' IST+5:30:00 STD>)"
      ]
     },
     "execution_count": 138,
     "metadata": {},
     "output_type": "execute_result"
    }
   ],
   "source": [
    "dt.datetime.now(IST)"
   ]
  },
  {
   "cell_type": "code",
   "execution_count": 141,
   "id": "808c5ced-f97f-4f16-a062-6bbe81a05159",
   "metadata": {
    "tags": []
   },
   "outputs": [],
   "source": [
    "#ts.tz_convert(tz='Asia/Kolkata')"
   ]
  },
  {
   "cell_type": "code",
   "execution_count": 155,
   "id": "fd968425-c6d7-49c7-98a6-1d8cfda395b7",
   "metadata": {
    "tags": []
   },
   "outputs": [
    {
     "data": {
      "text/plain": [
       "Timestamp('2023-07-16 11:00:52.192548651')"
      ]
     },
     "execution_count": 155,
     "metadata": {},
     "output_type": "execute_result"
    }
   ],
   "source": [
    "ts2 = pd.Timestamp('2023-07-16T11:00:52.192548651')\n",
    "ts2"
   ]
  },
  {
   "cell_type": "code",
   "execution_count": 153,
   "id": "69adf4d6-c853-492d-ab46-f0a3c98f6265",
   "metadata": {
    "tags": []
   },
   "outputs": [
    {
     "data": {
      "text/plain": [
       "Timestamp('2023-07-16 11:00:52.192548651+0200', tz='Europe/Stockholm')"
      ]
     },
     "execution_count": 153,
     "metadata": {},
     "output_type": "execute_result"
    }
   ],
   "source": [
    "ts2.tz_localize(tz='Europe/Stockholm')"
   ]
  },
  {
   "cell_type": "code",
   "execution_count": 154,
   "id": "26a04ceb-fc37-431c-ae6c-c85cc7547bf2",
   "metadata": {
    "tags": []
   },
   "outputs": [
    {
     "data": {
      "text/plain": [
       "Timestamp('2023-07-16 11:00:52.192548651+0530', tz='Asia/Kolkata')"
      ]
     },
     "execution_count": 154,
     "metadata": {},
     "output_type": "execute_result"
    }
   ],
   "source": [
    "ts2.tz_localize(tz='Asia/Kolkata')"
   ]
  },
  {
   "cell_type": "code",
   "execution_count": 156,
   "id": "b5c03c97-257c-46e7-a036-514c8a742e14",
   "metadata": {
    "tags": []
   },
   "outputs": [],
   "source": [
    "ts2.tzname()"
   ]
  },
  {
   "cell_type": "code",
   "execution_count": 165,
   "id": "a2968c1c-d58a-4c30-9472-be37f4f7eb48",
   "metadata": {
    "tags": []
   },
   "outputs": [],
   "source": [
    "#pd.fromtimestamp(pd.Timestamp(1584199972,'UTC'))"
   ]
  },
  {
   "cell_type": "code",
   "execution_count": 166,
   "id": "9854cb8a-5076-4b7b-80df-3069e7c2a20d",
   "metadata": {
    "tags": []
   },
   "outputs": [
    {
     "data": {
      "text/plain": [
       "time.struct_time(tm_year=2023, tm_mon=7, tm_mday=16, tm_hour=11, tm_min=0, tm_sec=52, tm_wday=6, tm_yday=197, tm_isdst=0)"
      ]
     },
     "execution_count": 166,
     "metadata": {},
     "output_type": "execute_result"
    }
   ],
   "source": [
    "ts2.utctimetuple()"
   ]
  },
  {
   "cell_type": "code",
   "execution_count": 173,
   "id": "96ca4651-cdcd-44e4-8c7f-623340d90b97",
   "metadata": {
    "tags": []
   },
   "outputs": [
    {
     "data": {
      "text/plain": [
       "Timestamp('2023-07-26 00:00:00')"
      ]
     },
     "execution_count": 173,
     "metadata": {},
     "output_type": "execute_result"
    }
   ],
   "source": [
    "ts + pd.Timedelta(value=10, unit='d')"
   ]
  },
  {
   "cell_type": "code",
   "execution_count": 177,
   "id": "c98aee44-86e1-4b34-8fcc-a68d36368b42",
   "metadata": {
    "tags": []
   },
   "outputs": [
    {
     "data": {
      "text/plain": [
       "Timestamp('2023-07-26 00:00:00')"
      ]
     },
     "execution_count": 177,
     "metadata": {},
     "output_type": "execute_result"
    }
   ],
   "source": [
    "(ts + pd.Timedelta(value=10, unit='d').ceil(freq='D'))\n",
    "#??"
   ]
  },
  {
   "cell_type": "code",
   "execution_count": 178,
   "id": "1c64515d-1661-47f5-8dcd-6ee2571b74b5",
   "metadata": {
    "tags": []
   },
   "outputs": [
    {
     "data": {
      "text/plain": [
       "Components(days=2, hours=0, minutes=4, seconds=0, milliseconds=0, microseconds=3, nanoseconds=42)"
      ]
     },
     "execution_count": 178,
     "metadata": {},
     "output_type": "execute_result"
    }
   ],
   "source": [
    "td = pd.Timedelta('2 day 4 min 3 us 42 ns')\n",
    "td.components"
   ]
  },
  {
   "cell_type": "markdown",
   "id": "ee98a455-10a9-4c61-b93f-6e6b33eb77d9",
   "metadata": {
    "tags": []
   },
   "source": [
    "# more here\n",
    "-  https://pandas.pydata.org/docs/reference/api/pandas.Float64Dtype.html"
   ]
  },
  {
   "cell_type": "code",
   "execution_count": 188,
   "id": "189c5060-79f5-4152-a329-e8cbe76f099d",
   "metadata": {
    "tags": []
   },
   "outputs": [
    {
     "data": {
      "text/plain": [
       "'MAXYEAR, MINYEAR, __all__, __builtins__, __cached__, __doc__, __file__, __loader__, __name__, __package__, __spec__, date, datetime, datetime_CAPI, sys, time, timedelta, timezone, tzinfo'"
      ]
     },
     "execution_count": 188,
     "metadata": {},
     "output_type": "execute_result"
    }
   ],
   "source": [
    "import datetime as dt\n",
    "import pandas as pd\n",
    "', '.join(dir(dt))"
   ]
  },
  {
   "cell_type": "code",
   "execution_count": 185,
   "id": "6aceb7cb-9432-4b28-8368-15ab5c55ce5a",
   "metadata": {
    "tags": []
   },
   "outputs": [
    {
     "data": {
      "text/plain": [
       "'__add__, __class__, __delattr__, __dir__, __doc__, __eq__, __format__, __ge__, __getattribute__, __gt__, __hash__, __init__, __init_subclass__, __le__, __lt__, __ne__, __new__, __radd__, __reduce__, __reduce_ex__, __repr__, __rsub__, __setattr__, __sizeof__, __str__, __sub__, __subclasshook__, astimezone, combine, ctime, date, day, dst, fold, fromisocalendar, fromisoformat, fromordinal, fromtimestamp, hour, isocalendar, isoformat, isoweekday, max, microsecond, min, minute, month, now, replace, resolution, second, strftime, strptime, time, timestamp, timetuple, timetz, today, toordinal, tzinfo, tzname, utcfromtimestamp, utcnow, utcoffset, utctimetuple, weekday, year'"
      ]
     },
     "execution_count": 185,
     "metadata": {},
     "output_type": "execute_result"
    }
   ],
   "source": [
    "', '.join(dir(dt.datetime))"
   ]
  },
  {
   "cell_type": "code",
   "execution_count": 186,
   "id": "dd45d3d1-dfe3-4016-80cb-b5be365d0b1f",
   "metadata": {
    "tags": []
   },
   "outputs": [
    {
     "data": {
      "text/plain": [
       "'__add__, __class__, __delattr__, __dir__, __doc__, __eq__, __format__, __ge__, __getattribute__, __gt__, __hash__, __init__, __init_subclass__, __le__, __lt__, __ne__, __new__, __radd__, __reduce__, __reduce_ex__, __repr__, __rsub__, __setattr__, __sizeof__, __str__, __sub__, __subclasshook__, ctime, day, fromisocalendar, fromisoformat, fromordinal, fromtimestamp, isocalendar, isoformat, isoweekday, max, min, month, replace, resolution, strftime, timetuple, today, toordinal, weekday, year'"
      ]
     },
     "execution_count": 186,
     "metadata": {},
     "output_type": "execute_result"
    }
   ],
   "source": [
    "', '.join(dir(dt.date))"
   ]
  },
  {
   "cell_type": "code",
   "execution_count": 187,
   "id": "add499a3-6477-4921-9f46-f94fc63e648b",
   "metadata": {
    "tags": []
   },
   "outputs": [
    {
     "data": {
      "text/plain": [
       "'__class__, __delattr__, __dir__, __doc__, __eq__, __format__, __ge__, __getattribute__, __gt__, __hash__, __init__, __init_subclass__, __le__, __lt__, __ne__, __new__, __reduce__, __reduce_ex__, __repr__, __setattr__, __sizeof__, __str__, __subclasshook__, dst, fold, fromisoformat, hour, isoformat, max, microsecond, min, minute, replace, resolution, second, strftime, tzinfo, tzname, utcoffset'"
      ]
     },
     "execution_count": 187,
     "metadata": {},
     "output_type": "execute_result"
    }
   ],
   "source": [
    "', '.join(dir(dt.time))"
   ]
  },
  {
   "cell_type": "code",
   "execution_count": 189,
   "id": "8bb6bd09-c2dc-42ef-af9f-ef94c1128805",
   "metadata": {
    "tags": []
   },
   "outputs": [
    {
     "data": {
      "text/plain": [
       "'ArrowDtype, BooleanDtype, Categorical, CategoricalDtype, CategoricalIndex, DataFrame, DateOffset, DatetimeIndex, DatetimeTZDtype, ExcelFile, ExcelWriter, Flags, Float32Dtype, Float64Dtype, Float64Index, Grouper, HDFStore, Index, IndexSlice, Int16Dtype, Int32Dtype, Int64Dtype, Int64Index, Int8Dtype, Interval, IntervalDtype, IntervalIndex, MultiIndex, NA, NaT, NamedAgg, Period, PeriodDtype, PeriodIndex, RangeIndex, Series, SparseDtype, StringDtype, Timedelta, TimedeltaIndex, Timestamp, UInt16Dtype, UInt32Dtype, UInt64Dtype, UInt64Index, UInt8Dtype, __all__, __builtins__, __cached__, __deprecated_num_index_names, __dir__, __doc__, __docformat__, __file__, __getattr__, __git_version__, __loader__, __name__, __package__, __path__, __spec__, __version__, _config, _is_numpy_dev, _libs, _testing, _typing, _version, annotations, api, array, arrays, bdate_range, compat, concat, core, crosstab, cut, date_range, describe_option, errors, eval, factorize, from_dummies, get_dummies, get_option, infer_freq, interval_range, io, isna, isnull, json_normalize, lreshape, melt, merge, merge_asof, merge_ordered, notna, notnull, offsets, option_context, options, pandas, period_range, pivot, pivot_table, plotting, qcut, read_clipboard, read_csv, read_excel, read_feather, read_fwf, read_gbq, read_hdf, read_html, read_json, read_orc, read_parquet, read_pickle, read_sas, read_spss, read_sql, read_sql_query, read_sql_table, read_stata, read_table, read_xml, reset_option, set_eng_float_format, set_option, show_versions, test, testing, timedelta_range, to_datetime, to_numeric, to_pickle, to_timedelta, tseries, unique, util, value_counts, wide_to_long'"
      ]
     },
     "execution_count": 189,
     "metadata": {},
     "output_type": "execute_result"
    }
   ],
   "source": [
    "', '.join(dir(pd))"
   ]
  },
  {
   "cell_type": "code",
   "execution_count": 190,
   "id": "b78d05be-069c-45e7-b9ef-f9dce0d38084",
   "metadata": {
    "tags": []
   },
   "outputs": [
    {
     "data": {
      "text/plain": [
       "Timestamp('2017-03-22 15:16:45')"
      ]
     },
     "execution_count": 190,
     "metadata": {},
     "output_type": "execute_result"
    }
   ],
   "source": [
    "pd.to_datetime(1490195805, unit='s')"
   ]
  },
  {
   "cell_type": "code",
   "execution_count": 191,
   "id": "000c88da-7eaa-4077-99ce-b955f9468541",
   "metadata": {
    "tags": []
   },
   "outputs": [
    {
     "data": {
      "text/plain": [
       "Timestamp('2017-03-22 15:16:45.433502912')"
      ]
     },
     "execution_count": 191,
     "metadata": {},
     "output_type": "execute_result"
    }
   ],
   "source": [
    "pd.to_datetime(1490195805433502912, unit='ns')"
   ]
  },
  {
   "cell_type": "code",
   "execution_count": 192,
   "id": "833a797c-d542-4784-9c97-56f37c6acc69",
   "metadata": {
    "tags": []
   },
   "outputs": [
    {
     "data": {
      "text/plain": [
       "DatetimeIndex(['2023-01-02', '2023-01-03', '2023-04-11', '2023-07-17'], dtype='datetime64[ns]', freq=None)"
      ]
     },
     "execution_count": 192,
     "metadata": {},
     "output_type": "execute_result"
    }
   ],
   "source": [
    "pd.to_datetime([1, 2, 100, 197], unit='D',  origin=pd.Timestamp('2023-01-01'))"
   ]
  },
  {
   "cell_type": "code",
   "execution_count": 194,
   "id": "9987e347-07c4-4df8-a474-e6c1ae8217f9",
   "metadata": {
    "tags": []
   },
   "outputs": [
    {
     "data": {
      "text/plain": [
       "DatetimeIndex(['2023-01-01', '2023-04-15', '2023-07-17'], dtype='datetime64[ns]', freq=None)"
      ]
     },
     "execution_count": 194,
     "metadata": {},
     "output_type": "execute_result"
    }
   ],
   "source": [
    "pd.to_datetime([20230101, 20230415,20230717], format='%Y%m%d')"
   ]
  },
  {
   "cell_type": "code",
   "execution_count": 195,
   "id": "ac1903ec-0b18-4c0e-89c5-468baf8808e5",
   "metadata": {
    "tags": []
   },
   "outputs": [
    {
     "data": {
      "text/plain": [
       "DatetimeIndex(['2023-01-01 05:55:00', '2023-04-15 10:15:00',\n",
       "               '2023-07-17 11:45:00'],\n",
       "              dtype='datetime64[ns]', freq=None)"
      ]
     },
     "execution_count": 195,
     "metadata": {},
     "output_type": "execute_result"
    }
   ],
   "source": [
    "pd.to_datetime([202301010555, 202304151015,202307171145], format='%Y%m%d%H%M')"
   ]
  },
  {
   "cell_type": "code",
   "execution_count": 196,
   "id": "a271f7e5-0abb-4b96-a217-1aa535f8819b",
   "metadata": {
    "tags": []
   },
   "outputs": [
    {
     "data": {
      "text/plain": [
       "DatetimeIndex(['1970-01-01 00:03:22.301010555',\n",
       "               '1970-01-01 00:03:22.304151015',\n",
       "               '1970-01-01 00:03:22.307171145'],\n",
       "              dtype='datetime64[ns]', freq=None)"
      ]
     },
     "execution_count": 196,
     "metadata": {},
     "output_type": "execute_result"
    }
   ],
   "source": [
    "pd.to_datetime([202301010555, 202304151015,202307171145], infer_datetime_format=True)"
   ]
  },
  {
   "cell_type": "code",
   "execution_count": 197,
   "id": "e484af2f-f7b5-4717-a713-4f9276c2fd9f",
   "metadata": {
    "tags": []
   },
   "outputs": [
    {
     "data": {
      "text/plain": [
       "datetime.datetime(2023, 7, 16, 12, 7, 24, 187265)"
      ]
     },
     "execution_count": 197,
     "metadata": {},
     "output_type": "execute_result"
    }
   ],
   "source": [
    "now = datetime.datetime.now()\n",
    "now"
   ]
  },
  {
   "cell_type": "code",
   "execution_count": 199,
   "id": "9b12f0f6-96ea-4e76-b826-d98d9487579a",
   "metadata": {
    "tags": []
   },
   "outputs": [
    {
     "data": {
      "text/plain": [
       "20230716120724"
      ]
     },
     "execution_count": 199,
     "metadata": {},
     "output_type": "execute_result"
    }
   ],
   "source": [
    "int(now.strftime(\"%Y%m%d%H%M%S\"))"
   ]
  },
  {
   "cell_type": "code",
   "execution_count": 210,
   "id": "b12b7723-4114-4966-a1c7-06f6087abac1",
   "metadata": {
    "tags": []
   },
   "outputs": [
    {
     "data": {
      "text/plain": [
       "1689489444.187265"
      ]
     },
     "execution_count": 210,
     "metadata": {},
     "output_type": "execute_result"
    }
   ],
   "source": [
    "now.timestamp()"
   ]
  },
  {
   "cell_type": "code",
   "execution_count": 214,
   "id": "961c893d-8487-49c2-9ba4-c4253ca88958",
   "metadata": {
    "tags": []
   },
   "outputs": [
    {
     "data": {
      "text/plain": [
       "197"
      ]
     },
     "execution_count": 214,
     "metadata": {},
     "output_type": "execute_result"
    }
   ],
   "source": [
    "pd.Timestamp(now).day_of_year"
   ]
  },
  {
   "cell_type": "code",
   "execution_count": 209,
   "id": "5eac87a9-c3a9-4ed4-be06-d74622e29195",
   "metadata": {
    "tags": []
   },
   "outputs": [
    {
     "data": {
      "text/plain": [
       "197"
      ]
     },
     "execution_count": 209,
     "metadata": {},
     "output_type": "execute_result"
    }
   ],
   "source": [
    "pd.Timestamp(now).day_of_year"
   ]
  },
  {
   "cell_type": "code",
   "execution_count": 216,
   "id": "e8d57713-6117-419b-8b38-f3dc377728e6",
   "metadata": {
    "tags": []
   },
   "outputs": [
    {
     "data": {
      "text/plain": [
       "2023.5369863013698"
      ]
     },
     "execution_count": 216,
     "metadata": {},
     "output_type": "execute_result"
    }
   ],
   "source": [
    "dtFloat1 = now.year + (pd.Timestamp(now).day_of_year - 1)/365\n",
    "dtFloat1"
   ]
  },
  {
   "cell_type": "code",
   "execution_count": 217,
   "id": "be1b3dd6-60c4-412d-9b11-a4c84d8f4fc0",
   "metadata": {
    "tags": []
   },
   "outputs": [
    {
     "data": {
      "text/plain": [
       "2023"
      ]
     },
     "execution_count": 217,
     "metadata": {},
     "output_type": "execute_result"
    }
   ],
   "source": [
    "int(dtFloat1)"
   ]
  },
  {
   "cell_type": "code",
   "execution_count": 218,
   "id": "770bcd9d-35fd-4326-a94b-86c6a93f9726",
   "metadata": {
    "tags": []
   },
   "outputs": [
    {
     "data": {
      "text/plain": [
       "0.5369863013697795"
      ]
     },
     "execution_count": 218,
     "metadata": {},
     "output_type": "execute_result"
    }
   ],
   "source": [
    "frac = dtFloat1 % 1\n",
    "frac"
   ]
  },
  {
   "cell_type": "code",
   "execution_count": 221,
   "id": "b1deaa0f-3ec4-42f4-ae42-de4f1f8fa66c",
   "metadata": {
    "tags": []
   },
   "outputs": [
    {
     "data": {
      "text/plain": [
       "0.5369863013697795"
      ]
     },
     "execution_count": 221,
     "metadata": {},
     "output_type": "execute_result"
    }
   ],
   "source": [
    "dtFloat1 - int(dtFloat1)"
   ]
  },
  {
   "cell_type": "code",
   "execution_count": 226,
   "id": "b65f86c9-3a4b-4b9a-b58c-d97155f6c4d9",
   "metadata": {
    "tags": []
   },
   "outputs": [
    {
     "name": "stdout",
     "output_type": "stream",
     "text": [
      "2023 197\n"
     ]
    }
   ],
   "source": [
    "#float to date\n",
    "year = int(dtFloat1)\n",
    "day = round((dtFloat1 %1) * 365 + 1)\n",
    "print(year, day)"
   ]
  },
  {
   "cell_type": "code",
   "execution_count": 231,
   "id": "e95c2b7d-dfd3-4044-97e2-63db5724f321",
   "metadata": {
    "tags": []
   },
   "outputs": [
    {
     "data": {
      "text/plain": [
       "datetime.date(2023, 1, 1)"
      ]
     },
     "execution_count": 231,
     "metadata": {},
     "output_type": "execute_result"
    }
   ],
   "source": [
    "dt.date(int(year), 1, 1)"
   ]
  },
  {
   "cell_type": "code",
   "execution_count": 233,
   "id": "5df67d93-0cdd-4c75-a0ce-1d82a0f3bffb",
   "metadata": {
    "tags": []
   },
   "outputs": [
    {
     "data": {
      "text/plain": [
       "datetime.timedelta(days=197)"
      ]
     },
     "execution_count": 233,
     "metadata": {},
     "output_type": "execute_result"
    }
   ],
   "source": [
    "dt.timedelta(days=int(day))"
   ]
  },
  {
   "cell_type": "code",
   "execution_count": 236,
   "id": "c19abdb9-3e04-4739-8fc4-983900713c0b",
   "metadata": {
    "tags": []
   },
   "outputs": [
    {
     "data": {
      "text/plain": [
       "datetime.date(2023, 7, 17)"
      ]
     },
     "execution_count": 236,
     "metadata": {},
     "output_type": "execute_result"
    }
   ],
   "source": [
    "newDate = dt.date(int(year), 1, 1)  + dt.timedelta(days=int(day))\n",
    "newDate"
   ]
  },
  {
   "cell_type": "code",
   "execution_count": 245,
   "id": "0aab9907-31c8-4f58-b669-d6c2fbdec9f1",
   "metadata": {
    "tags": []
   },
   "outputs": [
    {
     "data": {
      "text/plain": [
       "datetime.date(2023, 7, 17)"
      ]
     },
     "execution_count": 245,
     "metadata": {},
     "output_type": "execute_result"
    }
   ],
   "source": [
    "pd.to_datetime(newDate).date()"
   ]
  },
  {
   "cell_type": "markdown",
   "id": "10b85fd7-7262-422e-8d95-b71929fa400b",
   "metadata": {},
   "source": [
    "## from built in datasets"
   ]
  },
  {
   "cell_type": "code",
   "execution_count": 355,
   "id": "9c18a902-87df-4509-94e4-47119de4a52d",
   "metadata": {
    "tags": []
   },
   "outputs": [
    {
     "data": {
      "text/html": [
       "<div>\n",
       "<style scoped>\n",
       "    .dataframe tbody tr th:only-of-type {\n",
       "        vertical-align: middle;\n",
       "    }\n",
       "\n",
       "    .dataframe tbody tr th {\n",
       "        vertical-align: top;\n",
       "    }\n",
       "\n",
       "    .dataframe thead th {\n",
       "        text-align: right;\n",
       "    }\n",
       "</style>\n",
       "<table border=\"1\" class=\"dataframe\">\n",
       "  <thead>\n",
       "    <tr style=\"text-align: right;\">\n",
       "      <th></th>\n",
       "      <th>time</th>\n",
       "      <th>AirPassengers</th>\n",
       "    </tr>\n",
       "  </thead>\n",
       "  <tbody>\n",
       "    <tr>\n",
       "      <th>1</th>\n",
       "      <td>1949.000000</td>\n",
       "      <td>112</td>\n",
       "    </tr>\n",
       "    <tr>\n",
       "      <th>2</th>\n",
       "      <td>1949.083333</td>\n",
       "      <td>118</td>\n",
       "    </tr>\n",
       "    <tr>\n",
       "      <th>3</th>\n",
       "      <td>1949.166667</td>\n",
       "      <td>132</td>\n",
       "    </tr>\n",
       "    <tr>\n",
       "      <th>4</th>\n",
       "      <td>1949.250000</td>\n",
       "      <td>129</td>\n",
       "    </tr>\n",
       "    <tr>\n",
       "      <th>5</th>\n",
       "      <td>1949.333333</td>\n",
       "      <td>121</td>\n",
       "    </tr>\n",
       "  </tbody>\n",
       "</table>\n",
       "</div>"
      ],
      "text/plain": [
       "          time  AirPassengers\n",
       "1  1949.000000            112\n",
       "2  1949.083333            118\n",
       "3  1949.166667            132\n",
       "4  1949.250000            129\n",
       "5  1949.333333            121"
      ]
     },
     "execution_count": 355,
     "metadata": {},
     "output_type": "execute_result"
    }
   ],
   "source": [
    "from pydataset import data\n",
    "airp= data('AirPassengers')\n",
    "airp.head()"
   ]
  },
  {
   "cell_type": "code",
   "execution_count": 356,
   "id": "c99d7d82-2650-4338-ac6b-7daa98131aeb",
   "metadata": {
    "tags": []
   },
   "outputs": [
    {
     "data": {
      "text/plain": [
       "time             float64\n",
       "AirPassengers      int64\n",
       "dtype: object"
      ]
     },
     "execution_count": 356,
     "metadata": {},
     "output_type": "execute_result"
    }
   ],
   "source": [
    "airp.dtypes"
   ]
  },
  {
   "cell_type": "code",
   "execution_count": 357,
   "id": "57ebbf87-f286-473b-8282-67b804d409f2",
   "metadata": {
    "tags": []
   },
   "outputs": [
    {
     "data": {
      "text/html": [
       "<div>\n",
       "<style scoped>\n",
       "    .dataframe tbody tr th:only-of-type {\n",
       "        vertical-align: middle;\n",
       "    }\n",
       "\n",
       "    .dataframe tbody tr th {\n",
       "        vertical-align: top;\n",
       "    }\n",
       "\n",
       "    .dataframe thead th {\n",
       "        text-align: right;\n",
       "    }\n",
       "</style>\n",
       "<table border=\"1\" class=\"dataframe\">\n",
       "  <thead>\n",
       "    <tr style=\"text-align: right;\">\n",
       "      <th></th>\n",
       "      <th>time</th>\n",
       "      <th>AirPassengers</th>\n",
       "      <th>year</th>\n",
       "    </tr>\n",
       "  </thead>\n",
       "  <tbody>\n",
       "    <tr>\n",
       "      <th>1</th>\n",
       "      <td>1949.000000</td>\n",
       "      <td>112</td>\n",
       "      <td>1949</td>\n",
       "    </tr>\n",
       "    <tr>\n",
       "      <th>2</th>\n",
       "      <td>1949.083333</td>\n",
       "      <td>118</td>\n",
       "      <td>1949</td>\n",
       "    </tr>\n",
       "    <tr>\n",
       "      <th>3</th>\n",
       "      <td>1949.166667</td>\n",
       "      <td>132</td>\n",
       "      <td>1949</td>\n",
       "    </tr>\n",
       "    <tr>\n",
       "      <th>4</th>\n",
       "      <td>1949.250000</td>\n",
       "      <td>129</td>\n",
       "      <td>1949</td>\n",
       "    </tr>\n",
       "    <tr>\n",
       "      <th>5</th>\n",
       "      <td>1949.333333</td>\n",
       "      <td>121</td>\n",
       "      <td>1949</td>\n",
       "    </tr>\n",
       "  </tbody>\n",
       "</table>\n",
       "</div>"
      ],
      "text/plain": [
       "          time  AirPassengers  year\n",
       "1  1949.000000            112  1949\n",
       "2  1949.083333            118  1949\n",
       "3  1949.166667            132  1949\n",
       "4  1949.250000            129  1949\n",
       "5  1949.333333            121  1949"
      ]
     },
     "execution_count": 357,
     "metadata": {},
     "output_type": "execute_result"
    }
   ],
   "source": [
    "airp['year'] = airp['time'].astype(int)\n",
    "airp.head()"
   ]
  },
  {
   "cell_type": "code",
   "execution_count": 358,
   "id": "665fdb6e-825a-4d56-974c-8d7282e54fc2",
   "metadata": {
    "tags": []
   },
   "outputs": [
    {
     "data": {
      "text/html": [
       "<div>\n",
       "<style scoped>\n",
       "    .dataframe tbody tr th:only-of-type {\n",
       "        vertical-align: middle;\n",
       "    }\n",
       "\n",
       "    .dataframe tbody tr th {\n",
       "        vertical-align: top;\n",
       "    }\n",
       "\n",
       "    .dataframe thead th {\n",
       "        text-align: right;\n",
       "    }\n",
       "</style>\n",
       "<table border=\"1\" class=\"dataframe\">\n",
       "  <thead>\n",
       "    <tr style=\"text-align: right;\">\n",
       "      <th></th>\n",
       "      <th>time</th>\n",
       "      <th>AirPassengers</th>\n",
       "      <th>year</th>\n",
       "      <th>day</th>\n",
       "    </tr>\n",
       "  </thead>\n",
       "  <tbody>\n",
       "    <tr>\n",
       "      <th>1</th>\n",
       "      <td>1949.000000</td>\n",
       "      <td>112</td>\n",
       "      <td>1949</td>\n",
       "      <td>1</td>\n",
       "    </tr>\n",
       "    <tr>\n",
       "      <th>2</th>\n",
       "      <td>1949.083333</td>\n",
       "      <td>118</td>\n",
       "      <td>1949</td>\n",
       "      <td>31</td>\n",
       "    </tr>\n",
       "    <tr>\n",
       "      <th>3</th>\n",
       "      <td>1949.166667</td>\n",
       "      <td>132</td>\n",
       "      <td>1949</td>\n",
       "      <td>62</td>\n",
       "    </tr>\n",
       "    <tr>\n",
       "      <th>4</th>\n",
       "      <td>1949.250000</td>\n",
       "      <td>129</td>\n",
       "      <td>1949</td>\n",
       "      <td>92</td>\n",
       "    </tr>\n",
       "    <tr>\n",
       "      <th>5</th>\n",
       "      <td>1949.333333</td>\n",
       "      <td>121</td>\n",
       "      <td>1949</td>\n",
       "      <td>123</td>\n",
       "    </tr>\n",
       "  </tbody>\n",
       "</table>\n",
       "</div>"
      ],
      "text/plain": [
       "          time  AirPassengers  year  day\n",
       "1  1949.000000            112  1949    1\n",
       "2  1949.083333            118  1949   31\n",
       "3  1949.166667            132  1949   62\n",
       "4  1949.250000            129  1949   92\n",
       "5  1949.333333            121  1949  123"
      ]
     },
     "execution_count": 358,
     "metadata": {},
     "output_type": "execute_result"
    }
   ],
   "source": [
    "airp['day'] = airp['time'].apply(lambda x: (x % 1) * 365 + 1).round().astype(int)\n",
    "airp.head()"
   ]
  },
  {
   "cell_type": "code",
   "execution_count": 359,
   "id": "b83ede86-b387-4ca6-86c4-955f2b7768c7",
   "metadata": {
    "tags": []
   },
   "outputs": [],
   "source": [
    "def dayToDate(C1, C2):    return dt.date(int(C1),1,1) + dt.timedelta(int(C2))  "
   ]
  },
  {
   "cell_type": "code",
   "execution_count": 360,
   "id": "58d6d6ab-5c3a-4781-8aa8-4a64580fa816",
   "metadata": {
    "tags": []
   },
   "outputs": [
    {
     "data": {
      "text/plain": [
       "datetime.date(1949, 2, 1)"
      ]
     },
     "execution_count": 360,
     "metadata": {},
     "output_type": "execute_result"
    }
   ],
   "source": [
    "dayToDate(1949,31)"
   ]
  },
  {
   "cell_type": "code",
   "execution_count": 361,
   "id": "afbe3482-a863-4c4a-b611-51dd18c8c8a7",
   "metadata": {
    "tags": []
   },
   "outputs": [
    {
     "data": {
      "text/html": [
       "<div>\n",
       "<style scoped>\n",
       "    .dataframe tbody tr th:only-of-type {\n",
       "        vertical-align: middle;\n",
       "    }\n",
       "\n",
       "    .dataframe tbody tr th {\n",
       "        vertical-align: top;\n",
       "    }\n",
       "\n",
       "    .dataframe thead th {\n",
       "        text-align: right;\n",
       "    }\n",
       "</style>\n",
       "<table border=\"1\" class=\"dataframe\">\n",
       "  <thead>\n",
       "    <tr style=\"text-align: right;\">\n",
       "      <th></th>\n",
       "      <th>time</th>\n",
       "      <th>AirPassengers</th>\n",
       "      <th>year</th>\n",
       "      <th>day</th>\n",
       "    </tr>\n",
       "  </thead>\n",
       "  <tbody>\n",
       "    <tr>\n",
       "      <th>1</th>\n",
       "      <td>1949.000000</td>\n",
       "      <td>112</td>\n",
       "      <td>1949</td>\n",
       "      <td>1</td>\n",
       "    </tr>\n",
       "    <tr>\n",
       "      <th>2</th>\n",
       "      <td>1949.083333</td>\n",
       "      <td>118</td>\n",
       "      <td>1949</td>\n",
       "      <td>31</td>\n",
       "    </tr>\n",
       "    <tr>\n",
       "      <th>3</th>\n",
       "      <td>1949.166667</td>\n",
       "      <td>132</td>\n",
       "      <td>1949</td>\n",
       "      <td>62</td>\n",
       "    </tr>\n",
       "    <tr>\n",
       "      <th>4</th>\n",
       "      <td>1949.250000</td>\n",
       "      <td>129</td>\n",
       "      <td>1949</td>\n",
       "      <td>92</td>\n",
       "    </tr>\n",
       "    <tr>\n",
       "      <th>5</th>\n",
       "      <td>1949.333333</td>\n",
       "      <td>121</td>\n",
       "      <td>1949</td>\n",
       "      <td>123</td>\n",
       "    </tr>\n",
       "  </tbody>\n",
       "</table>\n",
       "</div>"
      ],
      "text/plain": [
       "          time  AirPassengers  year  day\n",
       "1  1949.000000            112  1949    1\n",
       "2  1949.083333            118  1949   31\n",
       "3  1949.166667            132  1949   62\n",
       "4  1949.250000            129  1949   92\n",
       "5  1949.333333            121  1949  123"
      ]
     },
     "execution_count": 361,
     "metadata": {},
     "output_type": "execute_result"
    }
   ],
   "source": [
    "airp.head()"
   ]
  },
  {
   "cell_type": "code",
   "execution_count": 362,
   "id": "76788ad9-cbfa-4f96-acd1-8eb50be6e72e",
   "metadata": {
    "tags": []
   },
   "outputs": [
    {
     "data": {
      "text/plain": [
       "time             float64\n",
       "AirPassengers      int64\n",
       "year               int32\n",
       "day                int32\n",
       "dtype: object"
      ]
     },
     "execution_count": 362,
     "metadata": {},
     "output_type": "execute_result"
    }
   ],
   "source": [
    "airp.dtypes"
   ]
  },
  {
   "cell_type": "code",
   "execution_count": 363,
   "id": "b53e5a37-1d23-46aa-b592-be5c93a70981",
   "metadata": {
    "tags": []
   },
   "outputs": [
    {
     "data": {
      "text/html": [
       "<div>\n",
       "<style scoped>\n",
       "    .dataframe tbody tr th:only-of-type {\n",
       "        vertical-align: middle;\n",
       "    }\n",
       "\n",
       "    .dataframe tbody tr th {\n",
       "        vertical-align: top;\n",
       "    }\n",
       "\n",
       "    .dataframe thead th {\n",
       "        text-align: right;\n",
       "    }\n",
       "</style>\n",
       "<table border=\"1\" class=\"dataframe\">\n",
       "  <thead>\n",
       "    <tr style=\"text-align: right;\">\n",
       "      <th></th>\n",
       "      <th>time</th>\n",
       "      <th>AirPassengers</th>\n",
       "      <th>year</th>\n",
       "      <th>day</th>\n",
       "      <th>cDate</th>\n",
       "    </tr>\n",
       "  </thead>\n",
       "  <tbody>\n",
       "    <tr>\n",
       "      <th>1</th>\n",
       "      <td>1949.000000</td>\n",
       "      <td>112</td>\n",
       "      <td>1949</td>\n",
       "      <td>1</td>\n",
       "      <td>1949-01-02</td>\n",
       "    </tr>\n",
       "    <tr>\n",
       "      <th>2</th>\n",
       "      <td>1949.083333</td>\n",
       "      <td>118</td>\n",
       "      <td>1949</td>\n",
       "      <td>31</td>\n",
       "      <td>1949-02-01</td>\n",
       "    </tr>\n",
       "    <tr>\n",
       "      <th>3</th>\n",
       "      <td>1949.166667</td>\n",
       "      <td>132</td>\n",
       "      <td>1949</td>\n",
       "      <td>62</td>\n",
       "      <td>1949-03-04</td>\n",
       "    </tr>\n",
       "    <tr>\n",
       "      <th>4</th>\n",
       "      <td>1949.250000</td>\n",
       "      <td>129</td>\n",
       "      <td>1949</td>\n",
       "      <td>92</td>\n",
       "      <td>1949-04-03</td>\n",
       "    </tr>\n",
       "    <tr>\n",
       "      <th>5</th>\n",
       "      <td>1949.333333</td>\n",
       "      <td>121</td>\n",
       "      <td>1949</td>\n",
       "      <td>123</td>\n",
       "      <td>1949-05-04</td>\n",
       "    </tr>\n",
       "  </tbody>\n",
       "</table>\n",
       "</div>"
      ],
      "text/plain": [
       "          time  AirPassengers  year  day       cDate\n",
       "1  1949.000000            112  1949    1  1949-01-02\n",
       "2  1949.083333            118  1949   31  1949-02-01\n",
       "3  1949.166667            132  1949   62  1949-03-04\n",
       "4  1949.250000            129  1949   92  1949-04-03\n",
       "5  1949.333333            121  1949  123  1949-05-04"
      ]
     },
     "execution_count": 363,
     "metadata": {},
     "output_type": "execute_result"
    }
   ],
   "source": [
    "airp['cDate'] = airp.apply(lambda row: dayToDate(row['year'], row['day']), axis=1)\n",
    "airp.head()"
   ]
  },
  {
   "cell_type": "code",
   "execution_count": 364,
   "id": "089b00ba-4022-42d9-b8d5-b58a810d319f",
   "metadata": {
    "tags": []
   },
   "outputs": [
    {
     "data": {
      "text/plain": [
       "time             float64\n",
       "AirPassengers      int64\n",
       "year               int32\n",
       "day                int32\n",
       "cDate             object\n",
       "dtype: object"
      ]
     },
     "execution_count": 364,
     "metadata": {},
     "output_type": "execute_result"
    }
   ],
   "source": [
    "airp.dtypes"
   ]
  },
  {
   "cell_type": "code",
   "execution_count": 365,
   "id": "8d7068af-5c69-4d0a-85a3-ea7946290ae1",
   "metadata": {
    "tags": []
   },
   "outputs": [],
   "source": [
    "#airp['fDate']= pd.to_datetime(airp['cDate']).dt.date\n",
    "airp['fDate']= pd.to_datetime(airp['cDate']).dt.normalize()"
   ]
  },
  {
   "cell_type": "code",
   "execution_count": 366,
   "id": "49ad6a85-9ade-4aaa-8167-26e7c83268a2",
   "metadata": {
    "tags": []
   },
   "outputs": [
    {
     "data": {
      "text/plain": [
       "time                    float64\n",
       "AirPassengers             int64\n",
       "year                      int32\n",
       "day                       int32\n",
       "cDate                    object\n",
       "fDate            datetime64[ns]\n",
       "dtype: object"
      ]
     },
     "execution_count": 366,
     "metadata": {},
     "output_type": "execute_result"
    }
   ],
   "source": [
    "airp.dtypes"
   ]
  },
  {
   "cell_type": "code",
   "execution_count": 367,
   "id": "e20a91ad-8d50-4b2f-9b26-8aa9b09df538",
   "metadata": {
    "tags": []
   },
   "outputs": [
    {
     "data": {
      "text/plain": [
       "1    1949-Jan\n",
       "2    1949-Feb\n",
       "3    1949-Mar\n",
       "4    1949-Apr\n",
       "5    1949-May\n",
       "Name: cDate, dtype: object"
      ]
     },
     "execution_count": 367,
     "metadata": {},
     "output_type": "execute_result"
    }
   ],
   "source": [
    "airp['cDate'].apply(lambda x: x.strftime('%Y-%b')).head()"
   ]
  },
  {
   "cell_type": "code",
   "execution_count": 368,
   "id": "3322f9d1-efed-4796-9f9c-94dc9e0e01dd",
   "metadata": {
    "tags": []
   },
   "outputs": [
    {
     "data": {
      "text/plain": [
       "time                    float64\n",
       "AirPassengers             int64\n",
       "year                      int32\n",
       "day                       int32\n",
       "cDate                    object\n",
       "fDate            datetime64[ns]\n",
       "dtype: object"
      ]
     },
     "execution_count": 368,
     "metadata": {},
     "output_type": "execute_result"
    }
   ],
   "source": [
    "airp.dtypes"
   ]
  },
  {
   "cell_type": "code",
   "execution_count": 369,
   "id": "d0402f56-1f7d-42b3-beee-66b635e6c3d7",
   "metadata": {
    "tags": []
   },
   "outputs": [
    {
     "data": {
      "text/html": [
       "<div>\n",
       "<style scoped>\n",
       "    .dataframe tbody tr th:only-of-type {\n",
       "        vertical-align: middle;\n",
       "    }\n",
       "\n",
       "    .dataframe tbody tr th {\n",
       "        vertical-align: top;\n",
       "    }\n",
       "\n",
       "    .dataframe thead th {\n",
       "        text-align: right;\n",
       "    }\n",
       "</style>\n",
       "<table border=\"1\" class=\"dataframe\">\n",
       "  <thead>\n",
       "    <tr style=\"text-align: right;\">\n",
       "      <th></th>\n",
       "      <th>time</th>\n",
       "      <th>AirPassengers</th>\n",
       "      <th>year</th>\n",
       "      <th>day</th>\n",
       "      <th>cDate</th>\n",
       "      <th>fDate</th>\n",
       "    </tr>\n",
       "  </thead>\n",
       "  <tbody>\n",
       "    <tr>\n",
       "      <th>1</th>\n",
       "      <td>1949.000000</td>\n",
       "      <td>112</td>\n",
       "      <td>1949</td>\n",
       "      <td>1</td>\n",
       "      <td>1949-01-02</td>\n",
       "      <td>1949-01-02</td>\n",
       "    </tr>\n",
       "    <tr>\n",
       "      <th>2</th>\n",
       "      <td>1949.083333</td>\n",
       "      <td>118</td>\n",
       "      <td>1949</td>\n",
       "      <td>31</td>\n",
       "      <td>1949-02-01</td>\n",
       "      <td>1949-02-01</td>\n",
       "    </tr>\n",
       "    <tr>\n",
       "      <th>3</th>\n",
       "      <td>1949.166667</td>\n",
       "      <td>132</td>\n",
       "      <td>1949</td>\n",
       "      <td>62</td>\n",
       "      <td>1949-03-04</td>\n",
       "      <td>1949-03-04</td>\n",
       "    </tr>\n",
       "    <tr>\n",
       "      <th>4</th>\n",
       "      <td>1949.250000</td>\n",
       "      <td>129</td>\n",
       "      <td>1949</td>\n",
       "      <td>92</td>\n",
       "      <td>1949-04-03</td>\n",
       "      <td>1949-04-03</td>\n",
       "    </tr>\n",
       "    <tr>\n",
       "      <th>5</th>\n",
       "      <td>1949.333333</td>\n",
       "      <td>121</td>\n",
       "      <td>1949</td>\n",
       "      <td>123</td>\n",
       "      <td>1949-05-04</td>\n",
       "      <td>1949-05-04</td>\n",
       "    </tr>\n",
       "  </tbody>\n",
       "</table>\n",
       "</div>"
      ],
      "text/plain": [
       "          time  AirPassengers  year  day       cDate      fDate\n",
       "1  1949.000000            112  1949    1  1949-01-02 1949-01-02\n",
       "2  1949.083333            118  1949   31  1949-02-01 1949-02-01\n",
       "3  1949.166667            132  1949   62  1949-03-04 1949-03-04\n",
       "4  1949.250000            129  1949   92  1949-04-03 1949-04-03\n",
       "5  1949.333333            121  1949  123  1949-05-04 1949-05-04"
      ]
     },
     "execution_count": 369,
     "metadata": {},
     "output_type": "execute_result"
    }
   ],
   "source": [
    "airp.head()"
   ]
  },
  {
   "cell_type": "code",
   "execution_count": 396,
   "id": "91cef288-1348-4576-b014-41da372c2f6e",
   "metadata": {
    "tags": []
   },
   "outputs": [
    {
     "data": {
      "text/plain": [
       "1     January\n",
       "2    February\n",
       "3       March\n",
       "4       April\n",
       "5         May\n",
       "Name: fDate, dtype: object"
      ]
     },
     "execution_count": 396,
     "metadata": {},
     "output_type": "execute_result"
    }
   ],
   "source": [
    "airp.fDate.dt.month_name().head()"
   ]
  },
  {
   "cell_type": "code",
   "execution_count": 399,
   "id": "6e522be2-e084-4dab-944a-7c6a8765a8c8",
   "metadata": {
    "tags": []
   },
   "outputs": [
    {
     "data": {
      "text/plain": [
       "1    Jan\n",
       "2    Feb\n",
       "3    Mar\n",
       "4    Apr\n",
       "5    May\n",
       "Name: fDate, dtype: object"
      ]
     },
     "execution_count": 399,
     "metadata": {},
     "output_type": "execute_result"
    }
   ],
   "source": [
    "airp.fDate.dt.strftime('%b').head()"
   ]
  },
  {
   "cell_type": "code",
   "execution_count": 415,
   "id": "af59a5ed-df4f-4ef2-a99a-1c8d752d7f0a",
   "metadata": {
    "tags": []
   },
   "outputs": [
    {
     "name": "stdout",
     "output_type": "stream",
     "text": [
      "   fDate  fDate\n",
      "1   1949      1\n",
      "2   1949      2\n",
      "3   1949      3\n",
      "4   1949      4\n",
      "5   1949      5\n"
     ]
    }
   ],
   "source": [
    "print(pd.concat([airp.fDate.dt.year, airp.fDate.dt.month],axis=1).head())"
   ]
  },
  {
   "cell_type": "code",
   "execution_count": 417,
   "id": "cfa52d77-bec3-4568-8dee-a20f3e84f06c",
   "metadata": {
    "tags": []
   },
   "outputs": [],
   "source": [
    "#pd.Period(value=airp['fDate'], freq='M')"
   ]
  },
  {
   "cell_type": "code",
   "execution_count": 414,
   "id": "194aa9d1-164b-424f-bc26-84878efb8615",
   "metadata": {
    "tags": []
   },
   "outputs": [
    {
     "data": {
      "text/html": [
       "<div>\n",
       "<style scoped>\n",
       "    .dataframe tbody tr th:only-of-type {\n",
       "        vertical-align: middle;\n",
       "    }\n",
       "\n",
       "    .dataframe tbody tr th {\n",
       "        vertical-align: top;\n",
       "    }\n",
       "\n",
       "    .dataframe thead th {\n",
       "        text-align: right;\n",
       "    }\n",
       "</style>\n",
       "<table border=\"1\" class=\"dataframe\">\n",
       "  <thead>\n",
       "    <tr style=\"text-align: right;\">\n",
       "      <th></th>\n",
       "      <th>Ozone</th>\n",
       "      <th>Solar.R</th>\n",
       "      <th>Wind</th>\n",
       "      <th>Temp</th>\n",
       "      <th>Month</th>\n",
       "      <th>Day</th>\n",
       "    </tr>\n",
       "  </thead>\n",
       "  <tbody>\n",
       "    <tr>\n",
       "      <th>1</th>\n",
       "      <td>41.0</td>\n",
       "      <td>190.0</td>\n",
       "      <td>7.4</td>\n",
       "      <td>67</td>\n",
       "      <td>5</td>\n",
       "      <td>1</td>\n",
       "    </tr>\n",
       "    <tr>\n",
       "      <th>2</th>\n",
       "      <td>36.0</td>\n",
       "      <td>118.0</td>\n",
       "      <td>8.0</td>\n",
       "      <td>72</td>\n",
       "      <td>5</td>\n",
       "      <td>2</td>\n",
       "    </tr>\n",
       "    <tr>\n",
       "      <th>3</th>\n",
       "      <td>12.0</td>\n",
       "      <td>149.0</td>\n",
       "      <td>12.6</td>\n",
       "      <td>74</td>\n",
       "      <td>5</td>\n",
       "      <td>3</td>\n",
       "    </tr>\n",
       "    <tr>\n",
       "      <th>4</th>\n",
       "      <td>18.0</td>\n",
       "      <td>313.0</td>\n",
       "      <td>11.5</td>\n",
       "      <td>62</td>\n",
       "      <td>5</td>\n",
       "      <td>4</td>\n",
       "    </tr>\n",
       "    <tr>\n",
       "      <th>5</th>\n",
       "      <td>NaN</td>\n",
       "      <td>NaN</td>\n",
       "      <td>14.3</td>\n",
       "      <td>56</td>\n",
       "      <td>5</td>\n",
       "      <td>5</td>\n",
       "    </tr>\n",
       "  </tbody>\n",
       "</table>\n",
       "</div>"
      ],
      "text/plain": [
       "   Ozone  Solar.R  Wind  Temp  Month  Day\n",
       "1   41.0    190.0   7.4    67      5    1\n",
       "2   36.0    118.0   8.0    72      5    2\n",
       "3   12.0    149.0  12.6    74      5    3\n",
       "4   18.0    313.0  11.5    62      5    4\n",
       "5    NaN      NaN  14.3    56      5    5"
      ]
     },
     "execution_count": 414,
     "metadata": {},
     "output_type": "execute_result"
    }
   ],
   "source": [
    "data('airquality').head()"
   ]
  },
  {
   "cell_type": "markdown",
   "id": "8c117935-13b2-4b00-b171-8566dcac3e29",
   "metadata": {},
   "source": [
    "# Using Calendar Module"
   ]
  },
  {
   "cell_type": "code",
   "execution_count": 412,
   "id": "6896eec3-ffe9-43e3-84bf-4d4ee5d828e9",
   "metadata": {
    "tags": []
   },
   "outputs": [
    {
     "name": "stdout",
     "output_type": "stream",
     "text": [
      "DateTime: 1994-08-14 00:00:00\n",
      "Month Number: 8\n",
      "Month full name is: August\n"
     ]
    }
   ],
   "source": [
    "import calendar\n",
    "from datetime import datetime\n",
    "\n",
    "dob = datetime(1994, 8, 14)\n",
    "print('DateTime:', dob)\n",
    "\n",
    "# get month number\n",
    "num = dob.month\n",
    "print('Month Number:', num)\n",
    "\n",
    "# month number to month name\n",
    "fn = calendar.month_name[num]\n",
    "print('Month full name is:', fn)\n"
   ]
  },
  {
   "cell_type": "code",
   "execution_count": 420,
   "id": "80a5cb1e-915c-48b8-bd77-f84393757c67",
   "metadata": {
    "tags": []
   },
   "outputs": [
    {
     "name": "stdout",
     "output_type": "stream",
     "text": [
      "Student Details\n",
      "    name  join_month join_monthName\n",
      "0    Joe           8         August\n",
      "1    Nat           4          April\n",
      "2  Harry          11       November\n"
     ]
    }
   ],
   "source": [
    "# Create dict object\n",
    "student_dict = {\"name\": [\"Joe\", \"Nat\", \"Harry\"], \"join_month\": [8, 4, 11]}\n",
    "# Create DataFrame from dict\n",
    "df = pd.DataFrame(student_dict)\n",
    "# get months name\n",
    "month_names = df['join_month'].apply(lambda x: calendar.month_name[x])\n",
    "# replace column join_month\n",
    "df['join_monthName'] = month_names\n",
    "print('Student Details')\n",
    "print(df)"
   ]
  },
  {
   "cell_type": "code",
   "execution_count": null,
   "id": "7acfb52b-172d-4813-895f-c4b9a5bb9daa",
   "metadata": {},
   "outputs": [],
   "source": []
  }
 ],
 "metadata": {
  "kernelspec": {
   "display_name": "Python 3 (ipykernel)",
   "language": "python",
   "name": "python3"
  },
  "language_info": {
   "codemirror_mode": {
    "name": "ipython",
    "version": 3
   },
   "file_extension": ".py",
   "mimetype": "text/x-python",
   "name": "python",
   "nbconvert_exporter": "python",
   "pygments_lexer": "ipython3",
   "version": "3.9.16"
  }
 },
 "nbformat": 4,
 "nbformat_minor": 5
}
