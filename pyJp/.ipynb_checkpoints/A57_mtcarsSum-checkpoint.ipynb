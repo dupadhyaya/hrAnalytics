{
 "cells": [
  {
   "cell_type": "markdown",
   "id": "e7de601f-0648-48f6-8ca1-7b621eec18e6",
   "metadata": {
    "tags": []
   },
   "source": [
    "# mt cars Summary"
   ]
  },
  {
   "cell_type": "code",
   "execution_count": 3,
   "id": "be6f9e1c-2a58-45eb-beb0-f01936264ad3",
   "metadata": {
    "tags": []
   },
   "outputs": [],
   "source": [
    "import pandas as pd\n",
    "import numpy as np\n",
    "import matplotlib.pyplot as plt\n",
    "import seaborn as sns\n",
    "import datetime as dt\n",
    "from pydataset import data\n",
    "import random\n",
    "#others"
   ]
  },
  {
   "cell_type": "code",
   "execution_count": 5,
   "id": "81326c4f-57b4-43e1-80ec-7f12606484d2",
   "metadata": {
    "tags": []
   },
   "outputs": [],
   "source": [
    "#https://pandas.pydata.org/docs/user_guide/options.html\n",
    "pd.set_option(\"display.max_rows\", 10)\n",
    "pd.set_option(\"display.precision\", 2)\n",
    "pd.set_option(\"display.min_rows\", 5)\n",
    "pd.set_option(\"expand_frame_repr\", True)  # avoid dots with multiple cols\n",
    "pd.set_option(\"large_repr\", \"truncate\")\n",
    "pd.set_option(\"max_colwidth\", 10)\n",
    "pd.set_option(\"max_info_columns\", 11)\n",
    "pd.set_option(\"max_info_columns\", 11)\n",
    "pd.set_option(\"colheader_justify\", \"right\")"
   ]
  },
  {
   "cell_type": "code",
   "execution_count": 4,
   "id": "d3a08cb0-387c-4706-8ea3-94c065820919",
   "metadata": {
    "tags": []
   },
   "outputs": [],
   "source": [
    "#data \n",
    "mtcars = data('mtcars')"
   ]
  },
  {
   "cell_type": "code",
   "execution_count": null,
   "id": "66de59a2-ac18-4418-9e97-741e8b8b0d6e",
   "metadata": {},
   "outputs": [],
   "source": []
  }
 ],
 "metadata": {
  "kernelspec": {
   "display_name": "Python 3 (ipykernel)",
   "language": "python",
   "name": "python3"
  },
  "language_info": {
   "codemirror_mode": {
    "name": "ipython",
    "version": 3
   },
   "file_extension": ".py",
   "mimetype": "text/x-python",
   "name": "python",
   "nbconvert_exporter": "python",
   "pygments_lexer": "ipython3",
   "version": "3.11.5"
  }
 },
 "nbformat": 4,
 "nbformat_minor": 5
}
