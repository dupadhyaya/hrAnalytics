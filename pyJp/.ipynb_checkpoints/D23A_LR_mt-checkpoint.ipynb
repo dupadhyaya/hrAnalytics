{
 "cells": [
  {
   "cell_type": "markdown",
   "id": "816f60fa",
   "metadata": {},
   "source": [
    "## Linear Regression\n",
    "-  https://scikit-learn.org/stable/modules/generated/sklearn.linear_model.LinearRegression.html\n",
    "-  Predict Y (Dependent Variable) on the basis of Xs (Independent Variables)\n",
    "-  Y : Continous eg salary, age, increment\n",
    "-  Xs : can be continous or discrete eg. gender, age, salary, experience in yrs etc\n",
    "-  In this mtcars data set : Y (mpg) predict on the basis of Xs (wt, hp, gear)\n",
    "-  Steps\n",
    "    -  from sklearn.linear_model import LinearRegression\n",
    "    -  model = LinearRegression().fit(X,y)\n",
    "    -  r_sq = model.score(X, y)\n",
    "    -  y_pred = model.predict(X)\n",
    "    -  Y_pred(new) = model.predict(X new)"
   ]
  },
  {
   "cell_type": "code",
   "execution_count": 2,
   "id": "025956ff",
   "metadata": {},
   "outputs": [],
   "source": [
    "#libraries\n",
    "import pandas as pd\n",
    "import numpy as np\n",
    "import matplotlib.pyplot as plt\n",
    "import seaborn as sns\n",
    "from pydataset import data"
   ]
  },
  {
   "cell_type": "code",
   "execution_count": 4,
   "id": "7c3eb1f5",
   "metadata": {},
   "outputs": [
    {
     "name": "stdout",
     "output_type": "stream",
     "text": [
      "(32, 11) Index(['mpg', 'cyl', 'disp', 'hp', 'drat', 'wt', 'qsec', 'vs', 'am', 'gear',\n",
      "       'carb'],\n",
      "      dtype='object') \n",
      "\n",
      "mpg     float64\n",
      "cyl       int64\n",
      "disp    float64\n",
      "hp        int64\n",
      "drat    float64\n",
      "wt      float64\n",
      "qsec    float64\n",
      "vs        int64\n",
      "am        int64\n",
      "gear      int64\n",
      "carb      int64\n",
      "dtype: object \n",
      "                     mpg     wt   hp  gear\n",
      "Mazda RX4          21.0  2.620  110     4\n",
      "Mazda RX4 Wag      21.0  2.875  110     4\n",
      "Datsun 710         22.8  2.320   93     4\n",
      "Hornet 4 Drive     21.4  3.215  110     3\n",
      "Hornet Sportabout  18.7  3.440  175     3\n"
     ]
    }
   ],
   "source": [
    "#data\n",
    "mt = data('mtcars')\n",
    "print(mt.shape, mt.columns,'\\n')\n",
    "print(mt.dtypes, '\\n', mt[['mpg','wt','hp','gear']].head())"
   ]
  },
  {
   "cell_type": "markdown",
   "id": "44d2e37f",
   "metadata": {},
   "source": [
    "## Sklearn \n",
    "### Simple Linear Regression"
   ]
  },
  {
   "cell_type": "code",
   "execution_count": 5,
   "id": "354cfe91",
   "metadata": {},
   "outputs": [],
   "source": [
    "from sklearn.model_selection import train_test_split  #split\n",
    "from sklearn.linear_model import LinearRegression  #model"
   ]
  },
  {
   "cell_type": "code",
   "execution_count": 6,
   "id": "9d85184a",
   "metadata": {},
   "outputs": [
    {
     "data": {
      "text/html": [
       "<div>\n",
       "<style scoped>\n",
       "    .dataframe tbody tr th:only-of-type {\n",
       "        vertical-align: middle;\n",
       "    }\n",
       "\n",
       "    .dataframe tbody tr th {\n",
       "        vertical-align: top;\n",
       "    }\n",
       "\n",
       "    .dataframe thead th {\n",
       "        text-align: right;\n",
       "    }\n",
       "</style>\n",
       "<table border=\"1\" class=\"dataframe\">\n",
       "  <thead>\n",
       "    <tr style=\"text-align: right;\">\n",
       "      <th></th>\n",
       "      <th>mpg</th>\n",
       "      <th>wt</th>\n",
       "    </tr>\n",
       "  </thead>\n",
       "  <tbody>\n",
       "    <tr>\n",
       "      <th>Mazda RX4</th>\n",
       "      <td>21.0</td>\n",
       "      <td>2.620</td>\n",
       "    </tr>\n",
       "    <tr>\n",
       "      <th>Mazda RX4 Wag</th>\n",
       "      <td>21.0</td>\n",
       "      <td>2.875</td>\n",
       "    </tr>\n",
       "  </tbody>\n",
       "</table>\n",
       "</div>"
      ],
      "text/plain": [
       "                mpg     wt\n",
       "Mazda RX4      21.0  2.620\n",
       "Mazda RX4 Wag  21.0  2.875"
      ]
     },
     "execution_count": 6,
     "metadata": {},
     "output_type": "execute_result"
    }
   ],
   "source": [
    "df = mt[['mpg','wt']].copy()\n",
    "df.head(2)"
   ]
  },
  {
   "cell_type": "code",
   "execution_count": 9,
   "id": "b7acec27-06c1-4ac9-bb21-9ca528ce731c",
   "metadata": {},
   "outputs": [
    {
     "data": {
      "text/html": [
       "<div>\n",
       "<style scoped>\n",
       "    .dataframe tbody tr th:only-of-type {\n",
       "        vertical-align: middle;\n",
       "    }\n",
       "\n",
       "    .dataframe tbody tr th {\n",
       "        vertical-align: top;\n",
       "    }\n",
       "\n",
       "    .dataframe thead th {\n",
       "        text-align: right;\n",
       "    }\n",
       "</style>\n",
       "<table border=\"1\" class=\"dataframe\">\n",
       "  <thead>\n",
       "    <tr style=\"text-align: right;\">\n",
       "      <th></th>\n",
       "      <th>mpg</th>\n",
       "      <th>wt</th>\n",
       "    </tr>\n",
       "  </thead>\n",
       "  <tbody>\n",
       "    <tr>\n",
       "      <th>mpg</th>\n",
       "      <td>1.000000</td>\n",
       "      <td>-0.867659</td>\n",
       "    </tr>\n",
       "    <tr>\n",
       "      <th>wt</th>\n",
       "      <td>-0.867659</td>\n",
       "      <td>1.000000</td>\n",
       "    </tr>\n",
       "  </tbody>\n",
       "</table>\n",
       "</div>"
      ],
      "text/plain": [
       "          mpg        wt\n",
       "mpg  1.000000 -0.867659\n",
       "wt  -0.867659  1.000000"
      ]
     },
     "execution_count": 9,
     "metadata": {},
     "output_type": "execute_result"
    }
   ],
   "source": [
    "df.corr()"
   ]
  },
  {
   "cell_type": "code",
   "execution_count": 10,
   "id": "de49c939",
   "metadata": {},
   "outputs": [
    {
     "name": "stdout",
     "output_type": "stream",
     "text": [
      "(32, 1) (32,)\n"
     ]
    }
   ],
   "source": [
    "X = df.drop(columns='wt')\n",
    "y = df.wt\n",
    "print(X.shape, y.shape)"
   ]
  },
  {
   "cell_type": "code",
   "execution_count": 11,
   "id": "f3e099b9",
   "metadata": {},
   "outputs": [
    {
     "data": {
      "text/html": [
       "<style>#sk-container-id-1 {color: black;background-color: white;}#sk-container-id-1 pre{padding: 0;}#sk-container-id-1 div.sk-toggleable {background-color: white;}#sk-container-id-1 label.sk-toggleable__label {cursor: pointer;display: block;width: 100%;margin-bottom: 0;padding: 0.3em;box-sizing: border-box;text-align: center;}#sk-container-id-1 label.sk-toggleable__label-arrow:before {content: \"▸\";float: left;margin-right: 0.25em;color: #696969;}#sk-container-id-1 label.sk-toggleable__label-arrow:hover:before {color: black;}#sk-container-id-1 div.sk-estimator:hover label.sk-toggleable__label-arrow:before {color: black;}#sk-container-id-1 div.sk-toggleable__content {max-height: 0;max-width: 0;overflow: hidden;text-align: left;background-color: #f0f8ff;}#sk-container-id-1 div.sk-toggleable__content pre {margin: 0.2em;color: black;border-radius: 0.25em;background-color: #f0f8ff;}#sk-container-id-1 input.sk-toggleable__control:checked~div.sk-toggleable__content {max-height: 200px;max-width: 100%;overflow: auto;}#sk-container-id-1 input.sk-toggleable__control:checked~label.sk-toggleable__label-arrow:before {content: \"▾\";}#sk-container-id-1 div.sk-estimator input.sk-toggleable__control:checked~label.sk-toggleable__label {background-color: #d4ebff;}#sk-container-id-1 div.sk-label input.sk-toggleable__control:checked~label.sk-toggleable__label {background-color: #d4ebff;}#sk-container-id-1 input.sk-hidden--visually {border: 0;clip: rect(1px 1px 1px 1px);clip: rect(1px, 1px, 1px, 1px);height: 1px;margin: -1px;overflow: hidden;padding: 0;position: absolute;width: 1px;}#sk-container-id-1 div.sk-estimator {font-family: monospace;background-color: #f0f8ff;border: 1px dotted black;border-radius: 0.25em;box-sizing: border-box;margin-bottom: 0.5em;}#sk-container-id-1 div.sk-estimator:hover {background-color: #d4ebff;}#sk-container-id-1 div.sk-parallel-item::after {content: \"\";width: 100%;border-bottom: 1px solid gray;flex-grow: 1;}#sk-container-id-1 div.sk-label:hover label.sk-toggleable__label {background-color: #d4ebff;}#sk-container-id-1 div.sk-serial::before {content: \"\";position: absolute;border-left: 1px solid gray;box-sizing: border-box;top: 0;bottom: 0;left: 50%;z-index: 0;}#sk-container-id-1 div.sk-serial {display: flex;flex-direction: column;align-items: center;background-color: white;padding-right: 0.2em;padding-left: 0.2em;position: relative;}#sk-container-id-1 div.sk-item {position: relative;z-index: 1;}#sk-container-id-1 div.sk-parallel {display: flex;align-items: stretch;justify-content: center;background-color: white;position: relative;}#sk-container-id-1 div.sk-item::before, #sk-container-id-1 div.sk-parallel-item::before {content: \"\";position: absolute;border-left: 1px solid gray;box-sizing: border-box;top: 0;bottom: 0;left: 50%;z-index: -1;}#sk-container-id-1 div.sk-parallel-item {display: flex;flex-direction: column;z-index: 1;position: relative;background-color: white;}#sk-container-id-1 div.sk-parallel-item:first-child::after {align-self: flex-end;width: 50%;}#sk-container-id-1 div.sk-parallel-item:last-child::after {align-self: flex-start;width: 50%;}#sk-container-id-1 div.sk-parallel-item:only-child::after {width: 0;}#sk-container-id-1 div.sk-dashed-wrapped {border: 1px dashed gray;margin: 0 0.4em 0.5em 0.4em;box-sizing: border-box;padding-bottom: 0.4em;background-color: white;}#sk-container-id-1 div.sk-label label {font-family: monospace;font-weight: bold;display: inline-block;line-height: 1.2em;}#sk-container-id-1 div.sk-label-container {text-align: center;}#sk-container-id-1 div.sk-container {/* jupyter's `normalize.less` sets `[hidden] { display: none; }` but bootstrap.min.css set `[hidden] { display: none !important; }` so we also need the `!important` here to be able to override the default hidden behavior on the sphinx rendered scikit-learn.org. See: https://github.com/scikit-learn/scikit-learn/issues/21755 */display: inline-block !important;position: relative;}#sk-container-id-1 div.sk-text-repr-fallback {display: none;}</style><div id=\"sk-container-id-1\" class=\"sk-top-container\"><div class=\"sk-text-repr-fallback\"><pre>LinearRegression()</pre><b>In a Jupyter environment, please rerun this cell to show the HTML representation or trust the notebook. <br />On GitHub, the HTML representation is unable to render, please try loading this page with nbviewer.org.</b></div><div class=\"sk-container\" hidden><div class=\"sk-item\"><div class=\"sk-estimator sk-toggleable\"><input class=\"sk-toggleable__control sk-hidden--visually\" id=\"sk-estimator-id-1\" type=\"checkbox\" checked><label for=\"sk-estimator-id-1\" class=\"sk-toggleable__label sk-toggleable__label-arrow\">LinearRegression</label><div class=\"sk-toggleable__content\"><pre>LinearRegression()</pre></div></div></div></div></div>"
      ],
      "text/plain": [
       "LinearRegression()"
      ]
     },
     "execution_count": 11,
     "metadata": {},
     "output_type": "execute_result"
    }
   ],
   "source": [
    "model = LinearRegression().fit(X, y)\n",
    "model"
   ]
  },
  {
   "cell_type": "code",
   "execution_count": 12,
   "id": "6af88e69",
   "metadata": {},
   "outputs": [
    {
     "name": "stdout",
     "output_type": "stream",
     "text": [
      "R2  0.7528327936582646\n"
     ]
    }
   ],
   "source": [
    "print('R2 ',model.score(X,y))\n",
    "# 75% of the variation in y(mpg) is dependent on Xs (wt) which are in the model"
   ]
  },
  {
   "cell_type": "code",
   "execution_count": 13,
   "id": "a6a8ad70",
   "metadata": {},
   "outputs": [
    {
     "data": {
      "text/plain": [
       "array([3.09, 3.09, 2.84, 3.03, 3.41, 3.5 , 4.03, 2.61, 2.84, 3.34, 3.54,\n",
       "       3.74, 3.61, 3.91, 4.58, 4.58, 3.98, 1.48, 1.77, 1.27, 3.02, 3.86,\n",
       "       3.91, 4.17, 3.34, 2.2 , 2.38, 1.77, 3.82, 3.27, 3.93, 3.03])"
      ]
     },
     "execution_count": 13,
     "metadata": {},
     "output_type": "execute_result"
    }
   ],
   "source": [
    "y_pred = model.predict(X).round(2)\n",
    "y_pred"
   ]
  },
  {
   "cell_type": "code",
   "execution_count": 15,
   "id": "e2cf96c9-a182-4e11-91e6-a59712e49959",
   "metadata": {},
   "outputs": [
    {
     "data": {
      "text/plain": [
       "(array([-0.14086197]), 6.047255013458308)"
      ]
     },
     "execution_count": 15,
     "metadata": {},
     "output_type": "execute_result"
    }
   ],
   "source": [
    "model.coef_, model.intercept_\n",
    "#y = 6.04 + -.14 * x"
   ]
  },
  {
   "cell_type": "code",
   "execution_count": 16,
   "id": "d5824090",
   "metadata": {},
   "outputs": [
    {
     "data": {
      "text/plain": [
       "25.6"
      ]
     },
     "execution_count": 16,
     "metadata": {},
     "output_type": "execute_result"
    }
   ],
   "source": [
    "#y.tolist()\n",
    "32 * .8"
   ]
  },
  {
   "cell_type": "code",
   "execution_count": 17,
   "id": "75955ec7",
   "metadata": {},
   "outputs": [
    {
     "name": "stdout",
     "output_type": "stream",
     "text": [
      "(25, 1) (7, 1) (25,) (7,)\n"
     ]
    }
   ],
   "source": [
    "X_train, X_test, y_train, y_test = train_test_split(X, y, test_size=.2, random_state=123)\n",
    "print(X_train.shape, X_test.shape, y_train.shape, y_test.shape)  #rows=32*.8, 1(wt)"
   ]
  },
  {
   "cell_type": "code",
   "execution_count": 21,
   "id": "77935eb3",
   "metadata": {},
   "outputs": [
    {
     "data": {
      "image/png": "[encoded data removed]",
      "text/plain": [
       "<Figure size 640x480 with 1 Axes>"
      ]
     },
     "metadata": {},
     "output_type": "display_data"
    }
   ],
   "source": [
    "plt.scatter(x=X, y=y_pred)\n",
    "plt.show()"
   ]
  },
  {
   "cell_type": "markdown",
   "id": "5e15ee82",
   "metadata": {},
   "source": [
    "## Multiple Linear Regression\n",
    "- DV - multiple IVs"
   ]
  },
  {
   "cell_type": "code",
   "execution_count": null,
   "id": "8c178be5",
   "metadata": {},
   "outputs": [],
   "source": [
    "data1 = mt[['mpg','wt','hp','gear']].copy()\n",
    "X = data1.drop(columns='mpg')  #predict mpg - Y so drop from X\n",
    "y = data1.mpg  # Dep Variable\n",
    "print('IVs - ', X.shape, X.columns, ': DVs - ', y.shape,  y.name)\n",
    "#rows/cols of X, y, ; names of columsn in X, y"
   ]
  },
  {
   "cell_type": "code",
   "execution_count": null,
   "id": "89ebeceb",
   "metadata": {},
   "outputs": [],
   "source": [
    "print(X.head(3), '\\n', y.head(3))"
   ]
  },
  {
   "cell_type": "code",
   "execution_count": null,
   "id": "1520030d",
   "metadata": {},
   "outputs": [],
   "source": [
    "data1.head()"
   ]
  },
  {
   "cell_type": "code",
   "execution_count": null,
   "id": "a88ff2c1",
   "metadata": {},
   "outputs": [],
   "source": [
    "X_train, X_test, y_train, y_test = train_test_split(X, y, test_size=.2, random_state=123)"
   ]
  },
  {
   "cell_type": "code",
   "execution_count": null,
   "id": "4b5949c2",
   "metadata": {},
   "outputs": [],
   "source": [
    "print(X_train.shape, X_test.shape, y_train.shape, y_test.shape)"
   ]
  },
  {
   "cell_type": "code",
   "execution_count": null,
   "id": "84d3f614",
   "metadata": {},
   "outputs": [],
   "source": [
    "reg1 = LinearRegression().fit(X_train,y_train)"
   ]
  },
  {
   "cell_type": "code",
   "execution_count": null,
   "id": "fb5aed4d",
   "metadata": {},
   "outputs": [],
   "source": [
    "print('R2 ', reg1.score(X,y))\n",
    "#83% of variation in Y (mpg) is dependent on X (wt, hp, gear)"
   ]
  },
  {
   "cell_type": "code",
   "execution_count": null,
   "id": "3b471098",
   "metadata": {},
   "outputs": [],
   "source": [
    "print('Coefficients ', reg1.coef_)\n",
    "print(X_train.columns)\n",
    "#if u increase wt by 1 unit, mpg will decrease by 3 units (-3)"
   ]
  },
  {
   "cell_type": "code",
   "execution_count": null,
   "id": "f2b4bcfd",
   "metadata": {},
   "outputs": [],
   "source": [
    "reg1.intercept_"
   ]
  },
  {
   "cell_type": "markdown",
   "id": "0588ce20",
   "metadata": {},
   "source": [
    "-   mpg = 32 + -3 * wt + -.03 * hp + .94 * gear "
   ]
  },
  {
   "cell_type": "code",
   "execution_count": null,
   "id": "95c5649b",
   "metadata": {},
   "outputs": [],
   "source": [
    "y_pred = reg1.predict(X_train).round(2)\n",
    "print('Predict MPG for given X values \\n ', y_pred)"
   ]
  },
  {
   "cell_type": "code",
   "execution_count": null,
   "id": "c76b71e7",
   "metadata": {},
   "outputs": [],
   "source": [
    "print(X.head(2), '\\n')\n",
    "print(X.describe())  #sample values between min and max of each variable"
   ]
  },
  {
   "cell_type": "code",
   "execution_count": null,
   "id": "79b4c72c",
   "metadata": {},
   "outputs": [],
   "source": [
    "y_test_pred = reg1.predict(X_test).round(2)\n",
    "print('Predict MPG for from test Data ', y_test_pred)"
   ]
  },
  {
   "cell_type": "code",
   "execution_count": null,
   "id": "e90d2c1d",
   "metadata": {},
   "outputs": [],
   "source": [
    "#print(X_test)\n",
    "#print(y_test)\n",
    "#print(y_test_pred)\n",
    "pd.concat([X_test.reset_index(), y_test.reset_index(), pd.Series(y_test_pred)], axis=1, ignore_index=True)\n",
    "#pd.concat([X_test, y.reset_index(), pd.Series(y_test_pred)],axis=1, ignore_index=True).head()\n",
    "#print(32 + -3 * 2.78 + -.03 * 109 + .94 * 4)\n",
    "#col 5 - actual mpg, col 6- predicted mpg"
   ]
  },
  {
   "cell_type": "code",
   "execution_count": null,
   "id": "77de3e6c",
   "metadata": {},
   "outputs": [],
   "source": [
    "print(y_test, y_test_pred)"
   ]
  },
  {
   "cell_type": "code",
   "execution_count": null,
   "id": "8ce8069e",
   "metadata": {},
   "outputs": [],
   "source": [
    "print(type(y_test), type(y_test_pred))"
   ]
  },
  {
   "cell_type": "code",
   "execution_count": null,
   "id": "c24a1bac",
   "metadata": {},
   "outputs": [],
   "source": [
    "# Combine as DF\n",
    "pd.concat([y_test.reset_index(), pd.Series(y_test_pred)],axis=1, ignore_index=True)"
   ]
  },
  {
   "cell_type": "code",
   "execution_count": null,
   "id": "1b107ac0",
   "metadata": {},
   "outputs": [],
   "source": [
    "from sklearn.metrics import mean_squared_error\n",
    "#pd.concat([y.reshape(-1,1), y_pred.reshape(-1,1)])\n",
    "\n",
    "#there is difference between actual (1) and predicted values(2), which show accuracy of the model ?"
   ]
  },
  {
   "cell_type": "code",
   "execution_count": null,
   "id": "5ddf73e6",
   "metadata": {},
   "outputs": [],
   "source": [
    "print(y_test)\n",
    "print(y_test_pred)"
   ]
  },
  {
   "cell_type": "code",
   "execution_count": null,
   "id": "d494c3a9",
   "metadata": {},
   "outputs": [],
   "source": [
    "mse = mean_squared_error(y_true=y_test, y_pred=y_test_pred, squared=True)\n",
    "rmse = mean_squared_error(y_true=y_test, y_pred=y_test_pred, squared=False)\n",
    "print('Mean Squared Error ', mse.round(2), ' : Root Mean Squared Error - ', rmse.round(2))\n",
    "#rmse should be as less as possible"
   ]
  },
  {
   "cell_type": "markdown",
   "id": "b11c821d",
   "metadata": {},
   "source": [
    "## Predict for New Set of Values of Car"
   ]
  },
  {
   "cell_type": "code",
   "execution_count": null,
   "id": "20015114",
   "metadata": {},
   "outputs": [],
   "source": [
    "#create new set of values\n",
    "newData = pd.DataFrame({'wt':[3,5,6], 'hp':[200, 100,300], 'gear':[5,4,3]})\n",
    "newData"
   ]
  },
  {
   "cell_type": "code",
   "execution_count": null,
   "id": "bc87b890",
   "metadata": {},
   "outputs": [],
   "source": [
    "print('Predict MPG for new Set of Data ', reg1.predict(newData).round(2))"
   ]
  },
  {
   "cell_type": "markdown",
   "id": "57403152",
   "metadata": {},
   "source": [
    "# Stats Model\n",
    "https://www.statsmodels.org/stable/regression.html"
   ]
  },
  {
   "cell_type": "code",
   "execution_count": null,
   "id": "09cfbb6c",
   "metadata": {},
   "outputs": [],
   "source": [
    "#different library\n",
    "from statsmodels.formula.api import ols"
   ]
  },
  {
   "cell_type": "code",
   "execution_count": null,
   "id": "73a945df",
   "metadata": {},
   "outputs": [],
   "source": [
    "data1 = mt[['mpg','wt','hp','gear']].copy()\n",
    "X = data1.drop(columns='mpg')  #predict mpg - Y so drop from X\n",
    "y = data1.mpg  # Dep Variable\n",
    "print('IVs - ', X.shape, X.columns, ': DVs - ', y.shape,  y.name)\n",
    "#rows/cols of X, y, ; names of columsn in X, y"
   ]
  },
  {
   "cell_type": "code",
   "execution_count": null,
   "id": "f15627d2",
   "metadata": {},
   "outputs": [],
   "source": [
    "reg2 = ols(\"mpg ~ wt + hp + gear\", data=data1).fit()"
   ]
  },
  {
   "cell_type": "code",
   "execution_count": null,
   "id": "d0cc0ec8",
   "metadata": {},
   "outputs": [],
   "source": [
    "#skipping the splitting of data into train and test"
   ]
  },
  {
   "cell_type": "code",
   "execution_count": null,
   "id": "ea534a68",
   "metadata": {},
   "outputs": [],
   "source": [
    "y_predOLS  = reg2.predict().round(2)\n",
    "print(' Predicted Values of MPG from OLS technique \\t', y_predOLS)"
   ]
  },
  {
   "cell_type": "code",
   "execution_count": null,
   "id": "96d35574",
   "metadata": {},
   "outputs": [],
   "source": [
    "print('Predict MPG for new Set of Data from OLS\\n', reg2.predict(newData).round(2))"
   ]
  },
  {
   "cell_type": "code",
   "execution_count": null,
   "id": "98ff4d6e",
   "metadata": {},
   "outputs": [],
   "source": [
    "print('Summary of the Model ', reg2.summary())\n",
    "#understand : R2, Adjust R2, AIC, p-Value of Coefficients, F-Stats"
   ]
  },
  {
   "cell_type": "code",
   "execution_count": null,
   "id": "7ec8447f",
   "metadata": {},
   "outputs": [],
   "source": [
    "#correlation map\n",
    "sns.heatmap(data1.corr(), annot=True)"
   ]
  },
  {
   "cell_type": "code",
   "execution_count": null,
   "id": "ac77b783",
   "metadata": {},
   "outputs": [],
   "source": [
    "# now try with any data set using above Linear Regression"
   ]
  },
  {
   "cell_type": "markdown",
   "id": "32dba77e",
   "metadata": {},
   "source": [
    "### end here"
   ]
  },
  {
   "cell_type": "code",
   "execution_count": null,
   "id": "0917b26d-d387-4a1d-9f8a-3e1da997c6c6",
   "metadata": {},
   "outputs": [],
   "source": []
  },
  {
   "cell_type": "code",
   "execution_count": null,
   "id": "2785e27a-f471-4bee-a691-310eefe7203b",
   "metadata": {},
   "outputs": [],
   "source": []
  }
 ],
 "metadata": {
  "kernelspec": {
   "display_name": "Python 3 (ipykernel)",
   "language": "python",
   "name": "python3"
  },
  "language_info": {
   "codemirror_mode": {
    "name": "ipython",
    "version": 3
   },
   "file_extension": ".py",
   "mimetype": "text/x-python",
   "name": "python",
   "nbconvert_exporter": "python",
   "pygments_lexer": "ipython3",
   "version": "3.11.8"
  }
 },
 "nbformat": 4,
 "nbformat_minor": 5
}
