{
 "cells": [
  {
   "cell_type": "markdown",
   "id": "2467a2b6-e142-438b-b996-5a74f890b57f",
   "metadata": {},
   "source": [
    "# Data Structure - 2\n",
    "-  numpy "
   ]
  },
  {
   "cell_type": "markdown",
   "id": "dabf9df3-8ee2-4855-8df4-255f38a513ea",
   "metadata": {},
   "source": [
    "## Numpy \n",
    "-  similar to list, but items to be one type (so less memory required to store and manipulate) more functions available helps in matrix computations"
   ]
  },
  {
   "cell_type": "code",
   "execution_count": 4,
   "id": "d9076712-79c6-419a-bda3-e454881deb5e",
   "metadata": {
    "tags": []
   },
   "outputs": [
    {
     "data": {
      "text/plain": [
       "[1, 2, 3, 5]"
      ]
     },
     "execution_count": 4,
     "metadata": {},
     "output_type": "execute_result"
    }
   ],
   "source": [
    "#%% #numpy - array - same data type - numerical python\n",
    "list1 = [1,2,3,5]\n",
    "list1"
   ]
  },
  {
   "cell_type": "code",
   "execution_count": 5,
   "id": "399d8e50-7e29-4e15-a44d-d5d7e70c18cf",
   "metadata": {
    "tags": []
   },
   "outputs": [
    {
     "name": "stdout",
     "output_type": "stream",
     "text": [
      "[10 20]\n",
      "[[1 2 3 5]]\n"
     ]
    }
   ],
   "source": [
    "import numpy\n",
    "print(numpy.array([10,20])) #list to numpy array\n",
    "print(numpy.array([list1])) #list inside a list"
   ]
  },
  {
   "cell_type": "code",
   "execution_count": 6,
   "id": "8997e44b-3039-4a9a-bd73-1a0056bad3a9",
   "metadata": {
    "tags": []
   },
   "outputs": [],
   "source": [
    "import numpy as np #np is alias"
   ]
  },
  {
   "cell_type": "code",
   "execution_count": 8,
   "id": "4867dabe-11c8-4ba8-8caa-dd5d513f6e66",
   "metadata": {
    "tags": []
   },
   "outputs": [
    {
     "data": {
      "text/plain": [
       "array([ 1, 11, 21, 31, 41, 51, 61, 71, 81, 91])"
      ]
     },
     "execution_count": 8,
     "metadata": {},
     "output_type": "execute_result"
    }
   ],
   "source": [
    "np.arange(1,100,10)  #start, stop, setp"
   ]
  },
  {
   "cell_type": "code",
   "execution_count": 10,
   "id": "a7338fd4-1740-401d-a7ad-23de8abed92c",
   "metadata": {
    "tags": []
   },
   "outputs": [],
   "source": [
    "#help(np.arange)"
   ]
  },
  {
   "cell_type": "code",
   "execution_count": 11,
   "id": "48c7bfc9-f6ff-492d-8b9f-8d0f28b06169",
   "metadata": {
    "tags": []
   },
   "outputs": [
    {
     "data": {
      "text/plain": [
       "array([1, 2, 3, 4, 5, 6, 7, 8, 9])"
      ]
     },
     "execution_count": 11,
     "metadata": {},
     "output_type": "execute_result"
    }
   ],
   "source": [
    "np1 = np.arange(1,10)\n",
    "np1"
   ]
  },
  {
   "cell_type": "code",
   "execution_count": 12,
   "id": "1d577030-359a-42d5-9b80-97ec4653257c",
   "metadata": {
    "tags": []
   },
   "outputs": [
    {
     "data": {
      "text/plain": [
       "500000"
      ]
     },
     "execution_count": 12,
     "metadata": {},
     "output_type": "execute_result"
    }
   ],
   "source": [
    "x=np.arange(start=1,stop=1000000,step=2)  #very large number series\n",
    "len(x)"
   ]
  },
  {
   "cell_type": "code",
   "execution_count": 13,
   "id": "cfbf7342-2d5e-4985-8fb9-4509c8e7af75",
   "metadata": {
    "tags": []
   },
   "outputs": [
    {
     "name": "stdout",
     "output_type": "stream",
     "text": [
      "[  3   5   7   9  11  13  15  17  19  21  23  25  27  29  31  33  35  37\n",
      "  39  41  43  45  47  49  51  53  55  57  59  61  63  65  67  69  71  73\n",
      "  75  77  79  81  83  85  87  89  91  93  95  97  99 101 103 105 107 109\n",
      " 111 113 115 117 119 121 123 125 127 129 131 133 135 137 139 141 143 145\n",
      " 147 149 151 153 155 157 159 161 163 165 167 169 171 173 175 177 179 181\n",
      " 183 185 187 189 191 193 195 197 199]\n",
      "\n",
      "[ 3 23 43 63 83]\n"
     ]
    }
   ],
   "source": [
    "print(x[1:100])  # print from 1st position to 100th position\n",
    "print()\n",
    "print(x[1:50:10])  # print at interval of 10 starting 1st position to 50th position"
   ]
  },
  {
   "cell_type": "code",
   "execution_count": 14,
   "id": "bb50de2a-4c9f-4ef7-a175-cf81ff601d21",
   "metadata": {
    "tags": []
   },
   "outputs": [
    {
     "name": "stdout",
     "output_type": "stream",
     "text": [
      "5000000.0\n"
     ]
    }
   ],
   "source": [
    "print(np.mean(np.arange(1,10000000)))\n",
    "#mean of np array of numbers from 1 to 10^7"
   ]
  },
  {
   "cell_type": "code",
   "execution_count": null,
   "id": "111238f7-c297-4c57-a276-0cfb9c77b4a8",
   "metadata": {},
   "outputs": [],
   "source": []
  },
  {
   "cell_type": "code",
   "execution_count": 15,
   "id": "d5f7c78e-0c95-42c1-a5e5-07b736f4f3c6",
   "metadata": {
    "tags": []
   },
   "outputs": [
    {
     "name": "stdout",
     "output_type": "stream",
     "text": [
      "<class 'numpy.ndarray'>\n",
      "['T', '__abs__', '__add__', '__and__', '__array__', '__array_finalize__', '__array_function__', '__array_interface__', '__array_prepare__', '__array_priority__', '__array_struct__', '__array_ufunc__', '__array_wrap__', '__bool__', '__class__', '__class_getitem__', '__complex__', '__contains__', '__copy__', '__deepcopy__', '__delattr__', '__delitem__', '__dir__', '__divmod__', '__dlpack__', '__dlpack_device__', '__doc__', '__eq__', '__float__', '__floordiv__', '__format__', '__ge__', '__getattribute__', '__getitem__', '__getstate__', '__gt__', '__hash__', '__iadd__', '__iand__', '__ifloordiv__', '__ilshift__', '__imatmul__', '__imod__', '__imul__', '__index__', '__init__', '__init_subclass__', '__int__', '__invert__', '__ior__', '__ipow__', '__irshift__', '__isub__', '__iter__', '__itruediv__', '__ixor__', '__le__', '__len__', '__lshift__', '__lt__', '__matmul__', '__mod__', '__mul__', '__ne__', '__neg__', '__new__', '__or__', '__pos__', '__pow__', '__radd__', '__rand__', '__rdivmod__', '__reduce__', '__reduce_ex__', '__repr__', '__rfloordiv__', '__rlshift__', '__rmatmul__', '__rmod__', '__rmul__', '__ror__', '__rpow__', '__rrshift__', '__rshift__', '__rsub__', '__rtruediv__', '__rxor__', '__setattr__', '__setitem__', '__setstate__', '__sizeof__', '__str__', '__sub__', '__subclasshook__', '__truediv__', '__xor__', 'all', 'any', 'argmax', 'argmin', 'argpartition', 'argsort', 'astype', 'base', 'byteswap', 'choose', 'clip', 'compress', 'conj', 'conjugate', 'copy', 'ctypes', 'cumprod', 'cumsum', 'data', 'diagonal', 'dot', 'dtype', 'dump', 'dumps', 'fill', 'flags', 'flat', 'flatten', 'getfield', 'imag', 'item', 'itemset', 'itemsize', 'max', 'mean', 'min', 'nbytes', 'ndim', 'newbyteorder', 'nonzero', 'partition', 'prod', 'ptp', 'put', 'ravel', 'real', 'repeat', 'reshape', 'resize', 'round', 'searchsorted', 'setfield', 'setflags', 'shape', 'size', 'sort', 'squeeze', 'std', 'strides', 'sum', 'swapaxes', 'take', 'tobytes', 'tofile', 'tolist', 'tostring', 'trace', 'transpose', 'var', 'view']\n"
     ]
    }
   ],
   "source": [
    "print(type(np1))\n",
    "print(dir(np1), sep ='\\t')"
   ]
  },
  {
   "cell_type": "code",
   "execution_count": 17,
   "id": "373165fe-e47e-480b-bd88-d1c9b5436142",
   "metadata": {
    "tags": []
   },
   "outputs": [],
   "source": [
    "#help(np)\n",
    "#https://numpy.org/doc/stable/user/index.html"
   ]
  },
  {
   "cell_type": "code",
   "execution_count": 19,
   "id": "64c1deda-d29f-4178-8508-ba5ff61b435d",
   "metadata": {
    "tags": []
   },
   "outputs": [
    {
     "name": "stdout",
     "output_type": "stream",
     "text": [
      "[90 50 60 70]\n",
      "Sorted NP array  [50 60 70 90]\n"
     ]
    }
   ],
   "source": [
    "np2 = np.array([ 90, 50, 60, 70 ])\n",
    "print(np2)\n",
    "print('Sorted NP array ', np.sort(np2))"
   ]
  },
  {
   "cell_type": "code",
   "execution_count": 20,
   "id": "a7591080-275f-477d-b045-6ddf9312ce8b",
   "metadata": {
    "tags": []
   },
   "outputs": [
    {
     "data": {
      "text/plain": [
       "array([[ 1,  4],\n",
       "       [ 3,  1],\n",
       "       [ 5,  6],\n",
       "       [10, 50]])"
      ]
     },
     "execution_count": 20,
     "metadata": {},
     "output_type": "execute_result"
    }
   ],
   "source": [
    "np3 = np.array([[1,4],[3,1],[5,6],[10,50]])\n",
    "np3\n",
    "#multi dim np array like matrix"
   ]
  },
  {
   "cell_type": "code",
   "execution_count": 22,
   "id": "0f24e6bd-fba0-4e00-b5d1-f3878a945fb8",
   "metadata": {
    "tags": []
   },
   "outputs": [
    {
     "name": "stdout",
     "output_type": "stream",
     "text": [
      "(4, 2)\n",
      "4\n",
      "2\n",
      "No of elements  8\n"
     ]
    }
   ],
   "source": [
    "print(np3.shape)   #rows, columns\n",
    "print(np3.shape[0]) #rows\n",
    "print(np3.shape[1]) #cols\n",
    "x= np3.shape[0] * np3.shape[1]\n",
    "print('No of elements ', x)"
   ]
  },
  {
   "cell_type": "code",
   "execution_count": 23,
   "id": "b9c9b6bf-bf1b-4f85-9969-75b591ce9c18",
   "metadata": {
    "tags": []
   },
   "outputs": [
    {
     "name": "stdout",
     "output_type": "stream",
     "text": [
      "True\n",
      "False\n",
      "4\n"
     ]
    }
   ],
   "source": [
    "print(x%2 == 0)   #divisible by 2 : Even no of elements\n",
    "print(x%3 == 0)   #divisible by 3\n",
    "print(len(np3))   #no of rows"
   ]
  },
  {
   "cell_type": "code",
   "execution_count": 24,
   "id": "f9617ad3-1db0-4dbe-ac5d-93d45d044740",
   "metadata": {
    "tags": []
   },
   "outputs": [
    {
     "data": {
      "text/plain": [
       "array([[ 1],\n",
       "       [ 4],\n",
       "       [ 3],\n",
       "       [ 1],\n",
       "       [ 5],\n",
       "       [ 6],\n",
       "       [10],\n",
       "       [50]])"
      ]
     },
     "execution_count": 24,
     "metadata": {},
     "output_type": "execute_result"
    }
   ],
   "source": [
    "# change the shape of np array\n",
    "np3.reshape((-1,1))  #1 column from 2 column\n",
    "#np.reshape((-1, noCols))   # from any number of columns change to 1 columns"
   ]
  },
  {
   "cell_type": "code",
   "execution_count": 25,
   "id": "2457c568-c4d9-4199-bb31-5005ebb0c42a",
   "metadata": {
    "tags": []
   },
   "outputs": [
    {
     "data": {
      "text/plain": [
       "array([ 1,  4,  3,  1,  5,  6, 10, 50])"
      ]
     },
     "execution_count": 25,
     "metadata": {},
     "output_type": "execute_result"
    }
   ],
   "source": [
    "np3.reshape((-1))   # no columns"
   ]
  },
  {
   "cell_type": "code",
   "execution_count": 26,
   "id": "c0faff77-d479-4e9c-b780-31544102bc5a",
   "metadata": {
    "tags": []
   },
   "outputs": [
    {
     "data": {
      "text/plain": [
       "array([[ 1,  4],\n",
       "       [ 3,  1],\n",
       "       [ 5,  6],\n",
       "       [10, 50]])"
      ]
     },
     "execution_count": 26,
     "metadata": {},
     "output_type": "execute_result"
    }
   ],
   "source": [
    "np3.reshape((-1,2))"
   ]
  },
  {
   "cell_type": "code",
   "execution_count": 28,
   "id": "15b63ffc-7348-4ee0-b6b7-6745ef7ca777",
   "metadata": {
    "tags": []
   },
   "outputs": [],
   "source": [
    "#np3.reshape((-1,3))  #error\n",
    "#cannot be converted to 3 columns as there are 8 elements and 8 is not divisible by 3"
   ]
  },
  {
   "cell_type": "code",
   "execution_count": null,
   "id": "01f9c758-57ac-4edb-a8bb-2c13af11b01c",
   "metadata": {},
   "outputs": [],
   "source": []
  },
  {
   "cell_type": "code",
   "execution_count": null,
   "id": "909111ae-1a1c-4d0d-a090-3090a1a1e2d5",
   "metadata": {},
   "outputs": [],
   "source": []
  },
  {
   "cell_type": "markdown",
   "id": "1eb8e635-2d38-4cc5-bed1-845b82d52434",
   "metadata": {
    "tags": []
   },
   "source": [
    "## Pandas\n",
    "-  http://cs231n.github.io/python-numpy-tutorial/\n",
    "-  pandas - dataframe, excel like \n",
    "-  https://mode.com/python-tutorial/pandas-dataframe/ \n",
    "-  https://pandas.pydata.org/pandas-docs/stable/\n",
    "-  "
   ]
  },
  {
   "cell_type": "code",
   "execution_count": 21,
   "id": "259b7266-c928-46af-b0c4-4eaccd8be115",
   "metadata": {
    "tags": []
   },
   "outputs": [],
   "source": [
    "import pandas as pd\n",
    "#https://pandas.pydata.org/"
   ]
  },
  {
   "cell_type": "code",
   "execution_count": 3,
   "id": "92041c2c-701a-4ad9-a2f1-4e17f9f772c7",
   "metadata": {
    "tags": []
   },
   "outputs": [
    {
     "name": "stdout",
     "output_type": "stream",
     "text": [
      "   rollno    name  marks gender\n",
      "0       1  Dhiraj   40.0      M\n",
      "1       2  Kounal   50.0      M\n",
      "2       3   Akhil   60.5      M\n",
      "3       4   Pooja   70.0      F\n",
      "4       5   Disha   93.0      F\n"
     ]
    },
    {
     "data": {
      "text/plain": [
       "pandas.core.frame.DataFrame"
      ]
     },
     "execution_count": 3,
     "metadata": {},
     "output_type": "execute_result"
    }
   ],
   "source": [
    "df1 = pd.DataFrame({'rollno':[1,2,3,4,5], \n",
    "                    'name': [ \"Dhiraj\", \"Kounal\", \"Akhil\", \"Pooja\",\"Disha\" ], \n",
    "                    'marks':[ 40, 50, 60.5, 70, 93 ], \n",
    "                    'gender':['M', 'M','M', 'F', 'F']})\n",
    "print(df1)  # dict format\n",
    "type(df1) "
   ]
  },
  {
   "cell_type": "code",
   "execution_count": 29,
   "id": "c4ba36ae-d2bb-48c8-90d9-b7998bef2f33",
   "metadata": {
    "tags": []
   },
   "outputs": [
    {
     "name": "stdout",
     "output_type": "stream",
     "text": [
      "Column Names -  Index(['rollno', 'name', 'marks', 'gender'], dtype='object')\n",
      "Index/ Row Names -  RangeIndex(start=0, stop=5, step=1)\n",
      "Data Types -\n",
      " rollno      int64\n",
      "name       object\n",
      "marks     float64\n",
      "gender     object\n",
      "dtype: object\n",
      "Shape of DF(R-C) - (5, 4)\n"
     ]
    }
   ],
   "source": [
    "print('Column Names - ', df1.columns)  #column names\n",
    "print('Index/ Row Names - ', df1.index)  #row ids/ names  - here auto created\n",
    "print('Data Types -\\n', df1.dtypes) #data types\n",
    "print('Shape of DF(R-C) -', df1.shape)  # rows and columns"
   ]
  },
  {
   "cell_type": "code",
   "execution_count": 30,
   "id": "8fa036bd-6bc6-46b5-9764-d63c48bd97f9",
   "metadata": {
    "tags": []
   },
   "outputs": [
    {
     "name": "stdout",
     "output_type": "stream",
     "text": [
      "Describe Values (Numerical)-\t  \n"
     ]
    },
    {
     "data": {
      "text/html": [
       "<div>\n",
       "<style scoped>\n",
       "    .dataframe tbody tr th:only-of-type {\n",
       "        vertical-align: middle;\n",
       "    }\n",
       "\n",
       "    .dataframe tbody tr th {\n",
       "        vertical-align: top;\n",
       "    }\n",
       "\n",
       "    .dataframe thead th {\n",
       "        text-align: right;\n",
       "    }\n",
       "</style>\n",
       "<table border=\"1\" class=\"dataframe\">\n",
       "  <thead>\n",
       "    <tr style=\"text-align: right;\">\n",
       "      <th></th>\n",
       "      <th>rollno</th>\n",
       "      <th>marks</th>\n",
       "    </tr>\n",
       "  </thead>\n",
       "  <tbody>\n",
       "    <tr>\n",
       "      <th>count</th>\n",
       "      <td>5.000000</td>\n",
       "      <td>5.000000</td>\n",
       "    </tr>\n",
       "    <tr>\n",
       "      <th>mean</th>\n",
       "      <td>3.000000</td>\n",
       "      <td>62.700000</td>\n",
       "    </tr>\n",
       "    <tr>\n",
       "      <th>std</th>\n",
       "      <td>1.581139</td>\n",
       "      <td>20.327322</td>\n",
       "    </tr>\n",
       "    <tr>\n",
       "      <th>min</th>\n",
       "      <td>1.000000</td>\n",
       "      <td>40.000000</td>\n",
       "    </tr>\n",
       "    <tr>\n",
       "      <th>25%</th>\n",
       "      <td>2.000000</td>\n",
       "      <td>50.000000</td>\n",
       "    </tr>\n",
       "    <tr>\n",
       "      <th>50%</th>\n",
       "      <td>3.000000</td>\n",
       "      <td>60.500000</td>\n",
       "    </tr>\n",
       "    <tr>\n",
       "      <th>75%</th>\n",
       "      <td>4.000000</td>\n",
       "      <td>70.000000</td>\n",
       "    </tr>\n",
       "    <tr>\n",
       "      <th>max</th>\n",
       "      <td>5.000000</td>\n",
       "      <td>93.000000</td>\n",
       "    </tr>\n",
       "  </tbody>\n",
       "</table>\n",
       "</div>"
      ],
      "text/plain": [
       "         rollno      marks\n",
       "count  5.000000   5.000000\n",
       "mean   3.000000  62.700000\n",
       "std    1.581139  20.327322\n",
       "min    1.000000  40.000000\n",
       "25%    2.000000  50.000000\n",
       "50%    3.000000  60.500000\n",
       "75%    4.000000  70.000000\n",
       "max    5.000000  93.000000"
      ]
     },
     "execution_count": 30,
     "metadata": {},
     "output_type": "execute_result"
    }
   ],
   "source": [
    "print('Describe Values (Numerical)-\\t  ')\n",
    "df1.describe() #description of numerical values"
   ]
  },
  {
   "cell_type": "code",
   "execution_count": 31,
   "id": "577fb5c0-5a57-496c-8c84-277c4f1b00a4",
   "metadata": {
    "tags": []
   },
   "outputs": [
    {
     "data": {
      "text/plain": [
       "gender\n",
       "F    2\n",
       "M    3\n",
       "dtype: int64"
      ]
     },
     "execution_count": 31,
     "metadata": {},
     "output_type": "execute_result"
    }
   ],
   "source": [
    "# Groupby Functions on DF\n",
    "df1.groupby('gender').size()  # how many M, F"
   ]
  },
  {
   "cell_type": "code",
   "execution_count": null,
   "id": "ab3ae971-02ba-4915-b3a4-21e91bfad350",
   "metadata": {},
   "outputs": [],
   "source": []
  }
 ],
 "metadata": {
  "kernelspec": {
   "display_name": "Python 3 (ipykernel)",
   "language": "python",
   "name": "python3"
  },
  "language_info": {
   "codemirror_mode": {
    "name": "ipython",
    "version": 3
   },
   "file_extension": ".py",
   "mimetype": "text/x-python",
   "name": "python",
   "nbconvert_exporter": "python",
   "pygments_lexer": "ipython3",
   "version": "3.11.5"
  }
 },
 "nbformat": 4,
 "nbformat_minor": 5
}
