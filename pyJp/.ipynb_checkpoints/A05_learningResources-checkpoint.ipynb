{
 "cells": [
  {
   "cell_type": "markdown",
   "id": "7e3c7fc0-8bd0-49a8-a76d-825f8b86e9a1",
   "metadata": {},
   "source": [
    "## A05 - Learning through online documents and videos"
   ]
  },
  {
   "cell_type": "markdown",
   "id": "48aef3f3-aef6-44b7-b15f-fcc1f2054fb2",
   "metadata": {
    "tags": []
   },
   "source": [
    "## My Resources\n",
    "-  Git Hub\n",
    "    -   https://github.com/dupadhyaya/hrAnalytics\n",
    "-  Slides\n",
    "    -  https://docs.google.com/presentation/d/e/2PACX-1vRaGoWzHoRN1UHaSS0Bzk2YR5FammjqRoA0LeHI7tbuyP6g0einIBk8c_Poem1gh6hjyxRsRjjDJbe9/pub?start=false&loop=false&delayms=3000\n",
    "    "
   ]
  },
  {
   "cell_type": "markdown",
   "id": "14ff830e-fb7a-4ba7-bd37-1b45d5f5f0ef",
   "metadata": {},
   "source": [
    "## Jupyter Notebook\n",
    "-   https://jupyter.org/\n",
    "-   https://docs.jupyter.org/en/latest/\n",
    "-   Videos\n",
    "    -   https://www.youtube.com/watch?v=5pf0_bpNbkw\n",
    "    -   https://www.youtube.com/watch?v=yjjE-MJD5TI\n",
    "    -   https://www.youtube.com/watch?v=0Jw8seqai18\n",
    "    -   https://www.youtube.com/watch?v=JGnoTN1OnWY"
   ]
  },
  {
   "cell_type": "markdown",
   "id": "be27f744-ad65-458d-9f0c-e828a23e6b81",
   "metadata": {},
   "source": [
    "## Data Structures\n",
    "-  https://docs.python.org/3/tutorial/datastructures.html\n",
    "-  https://www.edureka.co/blog/data-structures-in-python/\n",
    "-  https://www.educative.io/blog/8-python-data-structures\n",
    "-  Video\n",
    "    -  https://www.youtube.com/watch?v=_t2GVaQasRY&list=PLeo1K3hjS3uu_n_a__MI_KktGTLYopZ12\n",
    "    -  https://www.youtube.com/watch?v=m9n2f9lhtrw\n",
    "    -  https://www.youtube.com/watch?v=fAw8pM_dQP4\n",
    "    -  https://www.youtube.com/watch?v=f9Aje_cN_CY\n",
    "    -  https://www.youtube.com/watch?v=r51TRDECIw4\n",
    "    -  https://www.youtube.com/watch?v=GPVsHOlRBBI"
   ]
  },
  {
   "cell_type": "markdown",
   "id": "b9434ac6-017e-4db2-97e2-c9e5dd2bb161",
   "metadata": {},
   "source": [
    "## Numpy  - Numerical Python\n",
    "-  https://numpy.org/doc/stable/user/whatisnumpy.html\n",
    "-  https://numpy.org/\n",
    "-  https://www.w3schools.com/python/numpy/numpy_intro.asp\n",
    "-  Video\n",
    "    -  https://www.youtube.com/watch?v=8JfDAm9y_7s\n",
    "    -  https://www.youtube.com/watch?v=Rbh1rieb3zc\n",
    "    -  https://www.youtube.com/watch?v=lLRBYKwP8GQ\n",
    "    -  "
   ]
  },
  {
   "cell_type": "markdown",
   "id": "d5559550-ff47-4bd2-bf1a-27d795f1c18b",
   "metadata": {
    "tags": []
   },
   "source": [
    "## Pandas - Data Format\n",
    "-  https://pandas.pydata.org/\n",
    "-  https://www.w3schools.com/python/pandas/default.asp\n",
    "-  https://www.datacamp.com/tutorial/pandas\n",
    "-  Video\n",
    "    -  https://www.youtube.com/watch?v=dcqPhpY7tWk\n",
    "    -  https://www.youtube.com/watch?v=KHoEbRH46Zk\n",
    "    -  https://www.youtube.com/watch?v=u4_c2LDi4b8\n",
    "    -  https://www.youtube.com/watch?v=2AFGPdNn4FM\n",
    "    -  https://www.youtube.com/watch?v=xvpNA7bC8cs\n",
    "    -  https://www.youtube.com/watch?v=SAFmrTnEHLg"
   ]
  },
  {
   "cell_type": "markdown",
   "id": "995a5c7a-3629-4421-bf0c-05173d4bf27e",
   "metadata": {},
   "source": [
    "## Exploratory Data Analysis\n",
    "-  Video\n",
    "    -  https://www.youtube.com/watch?v=xi0vhXFPegw&t=124s\n",
    "    -  https://www.youtube.com/watch?v=R67XuYc9NQ4\n",
    "    -  https://www.youtube.com/watch?v=_Eb0utIRdkw&t=1324s"
   ]
  },
  {
   "cell_type": "markdown",
   "id": "09aa2925-b05d-4c8f-80e8-d2a91ab8e335",
   "metadata": {
    "tags": []
   },
   "source": [
    "## Statistics\n",
    "-  \n",
    "-   \n",
    "-   \n",
    "-  Videos\n",
    "    -   \n",
    "    -   \n",
    "    -   "
   ]
  },
  {
   "cell_type": "markdown",
   "id": "8a82ae08-2670-4bca-836d-197b5ca1a175",
   "metadata": {
    "tags": []
   },
   "source": [
    "## Graphs\n",
    "-  \n",
    "-   \n",
    "-   \n",
    "-  Videos\n",
    "    -   \n",
    "    -   \n",
    "    -   "
   ]
  },
  {
   "cell_type": "markdown",
   "id": "eaeaf9aa-b44a-440a-9afc-a6147fa0bc44",
   "metadata": {
    "tags": []
   },
   "source": [
    "## Linear Regression\n",
    "-  \n",
    "-   \n",
    "-   \n",
    "-  Videos\n",
    "    -   \n",
    "    -   \n",
    "    -   "
   ]
  },
  {
   "cell_type": "markdown",
   "id": "71c859fc-bd66-4748-8bb1-cc4a9dc64952",
   "metadata": {
    "tags": []
   },
   "source": [
    "## Logistic Regression\n",
    "-  \n",
    "-   \n",
    "-   \n",
    "-  Videos\n",
    "    -   \n",
    "    -   \n",
    "    -   "
   ]
  },
  {
   "cell_type": "markdown",
   "id": "5d7219bd-c530-4195-980a-d19b955ce42d",
   "metadata": {
    "tags": []
   },
   "source": [
    "## Decision Trees\n",
    "-  \n",
    "-   \n",
    "-   \n",
    "-  Videos\n",
    "    -   \n",
    "    -   \n",
    "    -   "
   ]
  },
  {
   "cell_type": "markdown",
   "id": "bc59b7bf-2dea-4594-8219-fbe5c1f50e8d",
   "metadata": {
    "tags": []
   },
   "source": [
    "## Clustering\n",
    "-  \n",
    "-   \n",
    "-   \n",
    "-  Videos\n",
    "    -   \n",
    "    -   \n",
    "    -   "
   ]
  },
  {
   "cell_type": "markdown",
   "id": "7d3b678b-3718-465a-a95d-8e528e7cba03",
   "metadata": {
    "tags": []
   },
   "source": [
    "## Association Rule Analysis\n",
    "-  \n",
    "-   \n",
    "-   \n",
    "-  Videos\n",
    "    -   \n",
    "    -   \n",
    "    -   "
   ]
  },
  {
   "cell_type": "markdown",
   "id": "d5597fc7-198b-4971-bd1f-c7c6a05a04bc",
   "metadata": {
    "tags": []
   },
   "source": [
    "## Time Series Analysis\n",
    "-  \n",
    "-   \n",
    "-   \n",
    "-  Videos\n",
    "    -   \n",
    "    -   \n",
    "    -   "
   ]
  },
  {
   "cell_type": "markdown",
   "id": "ac0c2dd4-58df-4bd3-b38d-430434316bad",
   "metadata": {
    "tags": []
   },
   "source": [
    "## Text Analysis\n",
    "-  \n",
    "-   \n",
    "-   \n",
    "-  Videos\n",
    "    -   \n",
    "    -   \n",
    "    -   "
   ]
  },
  {
   "cell_type": "markdown",
   "id": "4b014c46-4f45-4d92-9a1c-1ff746c8fd70",
   "metadata": {
    "tags": []
   },
   "source": [
    "## Summary\n",
    "-  \n",
    "-   \n",
    "-   \n",
    "-  Videos\n",
    "    -   \n",
    "    -   \n",
    "    -   "
   ]
  }
 ],
 "metadata": {
  "kernelspec": {
   "display_name": "Python 3 (ipykernel)",
   "language": "python",
   "name": "python3"
  },
  "language_info": {
   "codemirror_mode": {
    "name": "ipython",
    "version": 3
   },
   "file_extension": ".py",
   "mimetype": "text/x-python",
   "name": "python",
   "nbconvert_exporter": "python",
   "pygments_lexer": "ipython3",
   "version": "3.11.5"
  }
 },
 "nbformat": 4,
 "nbformat_minor": 5
}
