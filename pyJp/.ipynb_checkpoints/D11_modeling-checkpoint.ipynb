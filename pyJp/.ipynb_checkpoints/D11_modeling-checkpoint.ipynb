{
 "cells": [
  {
   "cell_type": "markdown",
   "id": "c991fc22",
   "metadata": {},
   "source": [
    "## Different Modeling Techniques\n",
    "- Continuous (eg age) - 20, 25, 22, 30.5\n",
    "- Discrete  (eg prob of selection) - Yes/No, 0/1, count of employees\n",
    "- Equation\n",
    "    - y = mx + c\n",
    "    - y = c + b1*x1 + b2 * x2\n",
    "    - y - DV, x - IV, b1, b2 - Coefficients, c - intercept\n",
    "-  Dependent variable (y)  - which depends on other variables, can be predicted\n",
    "-  Independent variable (xs) - which vary , can measure, can be changed\n",
    "\n",
    "### Linear Regression\n",
    "-  Predict Y (continous value) on Xs (independent variables - continous / categorical)\n",
    "\n",
    "### Logistic Regression\n",
    "-  Predict Y (probability of 0 or 1 ) on X (IV)\n",
    "\n",
    "### Decision Tree\n",
    "-  Classification Tree : like Logistic Regression\n",
    "-  Regression Tree : like Linear Regression\n",
    "\n",
    "### Clustering\n",
    "-  Grouping of data based on similarities \n",
    "-  eg grouping employees based on gender, salary, et\n",
    "\n",
    "### Association Rule Analysis\n",
    "-  Finding association between between variables of employees\n",
    "-  Those who live more than 20 km away they prefer to work from home\n",
    "\n",
    "### Time Series Analysis\n",
    "-  Predict manpower requirements in next few months/ years like stock market predictions\n",
    "\n",
    "### Sentiment Analysis\n",
    "-  Classifying feedback into positive or negative sentiments eg. people talk positively about their dept / seniors\n"
   ]
  },
  {
   "cell_type": "code",
   "execution_count": null,
   "id": "19c65461",
   "metadata": {},
   "outputs": [],
   "source": [
    "salary = c + m * priorexpr"
   ]
  },
  {
   "cell_type": "code",
   "execution_count": 1,
   "id": "025956ff",
   "metadata": {},
   "outputs": [],
   "source": [
    "#libraries\n",
    "import pandas as pd\n",
    "import numpy as np\n",
    "import matplotlib.pyplot as plt\n",
    "import seaborn as sns\n",
    "from pydataset import data"
   ]
  },
  {
   "cell_type": "code",
   "execution_count": 2,
   "id": "7c3eb1f5",
   "metadata": {},
   "outputs": [
    {
     "name": "stdout",
     "output_type": "stream",
     "text": [
      "(32, 11) Index(['mpg', 'cyl', 'disp', 'hp', 'drat', 'wt', 'qsec', 'vs', 'am', 'gear',\n",
      "       'carb'],\n",
      "      dtype='object') \n",
      "\n",
      "mpg     float64\n",
      "cyl       int64\n",
      "disp    float64\n",
      "hp        int64\n",
      "drat    float64\n",
      "wt      float64\n",
      "qsec    float64\n",
      "vs        int64\n",
      "am        int64\n",
      "gear      int64\n",
      "carb      int64\n",
      "dtype: object \n",
      "                     mpg     wt   hp  gear\n",
      "Mazda RX4          21.0  2.620  110     4\n",
      "Mazda RX4 Wag      21.0  2.875  110     4\n",
      "Datsun 710         22.8  2.320   93     4\n",
      "Hornet 4 Drive     21.4  3.215  110     3\n",
      "Hornet Sportabout  18.7  3.440  175     3\n"
     ]
    }
   ],
   "source": [
    "#data\n",
    "mt = data('mtcars')\n",
    "print(mt.shape, mt.columns,'\\n')\n",
    "print(mt.dtypes, '\\n', mt[['mpg','wt','hp','gear']].head())"
   ]
  },
  {
   "cell_type": "markdown",
   "id": "816f60fa",
   "metadata": {},
   "source": [
    "## Linear Regression\n",
    "-  https://scikit-learn.org/stable/modules/generated/sklearn.linear_model.LinearRegression.html\n",
    "-  Predict Y (Dependent Variable) on the basis of Xs (Independent Variables)\n",
    "-  Y : Continous eg salary, age, increment\n",
    "-  Xs : can be continous or discrete eg. gender, age, salary, experience in yrs etc\n",
    "-  In this mtcars data set : Y (mpg) predict on the basis of Xs (wt, hp, gear)\n",
    "-  Steps\n",
    "    -  from sklearn.linear_model import LinearRegression\n",
    "    -  model = LinearRegression().fit(X,y)\n",
    "    -  r_sq = model.score(X, y)\n",
    "    -  y_pred = model.predict(X)\n",
    "    -  Y_pred(new) = model.predict(X new)"
   ]
  },
  {
   "cell_type": "code",
   "execution_count": 4,
   "id": "354cfe91",
   "metadata": {},
   "outputs": [],
   "source": [
    "from sklearn.model_selection import train_test_split  #split\n",
    "from sklearn.linear_model import LinearRegression  #model"
   ]
  },
  {
   "cell_type": "code",
   "execution_count": 22,
   "id": "9d85184a",
   "metadata": {},
   "outputs": [
    {
     "data": {
      "text/html": [
       "<div>\n",
       "<style scoped>\n",
       "    .dataframe tbody tr th:only-of-type {\n",
       "        vertical-align: middle;\n",
       "    }\n",
       "\n",
       "    .dataframe tbody tr th {\n",
       "        vertical-align: top;\n",
       "    }\n",
       "\n",
       "    .dataframe thead th {\n",
       "        text-align: right;\n",
       "    }\n",
       "</style>\n",
       "<table border=\"1\" class=\"dataframe\">\n",
       "  <thead>\n",
       "    <tr style=\"text-align: right;\">\n",
       "      <th></th>\n",
       "      <th>mpg</th>\n",
       "      <th>wt</th>\n",
       "    </tr>\n",
       "  </thead>\n",
       "  <tbody>\n",
       "    <tr>\n",
       "      <th>Mazda RX4</th>\n",
       "      <td>21.0</td>\n",
       "      <td>2.620</td>\n",
       "    </tr>\n",
       "    <tr>\n",
       "      <th>Mazda RX4 Wag</th>\n",
       "      <td>21.0</td>\n",
       "      <td>2.875</td>\n",
       "    </tr>\n",
       "  </tbody>\n",
       "</table>\n",
       "</div>"
      ],
      "text/plain": [
       "                mpg     wt\n",
       "Mazda RX4      21.0  2.620\n",
       "Mazda RX4 Wag  21.0  2.875"
      ]
     },
     "execution_count": 22,
     "metadata": {},
     "output_type": "execute_result"
    }
   ],
   "source": [
    "df = mt[['mpg','wt']].copy()\n",
    "df.head(2)"
   ]
  },
  {
   "cell_type": "code",
   "execution_count": 25,
   "id": "de49c939",
   "metadata": {},
   "outputs": [
    {
     "name": "stdout",
     "output_type": "stream",
     "text": [
      "(32, 1) (32,)\n"
     ]
    }
   ],
   "source": [
    "df.corr()\n",
    "X = df.drop(columns='wt')\n",
    "y = df.wt\n",
    "print(X.shape, y.shape)"
   ]
  },
  {
   "cell_type": "code",
   "execution_count": 26,
   "id": "f3e099b9",
   "metadata": {},
   "outputs": [
    {
     "data": {
      "text/html": [
       "<style>#sk-container-id-1 {color: black;background-color: white;}#sk-container-id-1 pre{padding: 0;}#sk-container-id-1 div.sk-toggleable {background-color: white;}#sk-container-id-1 label.sk-toggleable__label {cursor: pointer;display: block;width: 100%;margin-bottom: 0;padding: 0.3em;box-sizing: border-box;text-align: center;}#sk-container-id-1 label.sk-toggleable__label-arrow:before {content: \"▸\";float: left;margin-right: 0.25em;color: #696969;}#sk-container-id-1 label.sk-toggleable__label-arrow:hover:before {color: black;}#sk-container-id-1 div.sk-estimator:hover label.sk-toggleable__label-arrow:before {color: black;}#sk-container-id-1 div.sk-toggleable__content {max-height: 0;max-width: 0;overflow: hidden;text-align: left;background-color: #f0f8ff;}#sk-container-id-1 div.sk-toggleable__content pre {margin: 0.2em;color: black;border-radius: 0.25em;background-color: #f0f8ff;}#sk-container-id-1 input.sk-toggleable__control:checked~div.sk-toggleable__content {max-height: 200px;max-width: 100%;overflow: auto;}#sk-container-id-1 input.sk-toggleable__control:checked~label.sk-toggleable__label-arrow:before {content: \"▾\";}#sk-container-id-1 div.sk-estimator input.sk-toggleable__control:checked~label.sk-toggleable__label {background-color: #d4ebff;}#sk-container-id-1 div.sk-label input.sk-toggleable__control:checked~label.sk-toggleable__label {background-color: #d4ebff;}#sk-container-id-1 input.sk-hidden--visually {border: 0;clip: rect(1px 1px 1px 1px);clip: rect(1px, 1px, 1px, 1px);height: 1px;margin: -1px;overflow: hidden;padding: 0;position: absolute;width: 1px;}#sk-container-id-1 div.sk-estimator {font-family: monospace;background-color: #f0f8ff;border: 1px dotted black;border-radius: 0.25em;box-sizing: border-box;margin-bottom: 0.5em;}#sk-container-id-1 div.sk-estimator:hover {background-color: #d4ebff;}#sk-container-id-1 div.sk-parallel-item::after {content: \"\";width: 100%;border-bottom: 1px solid gray;flex-grow: 1;}#sk-container-id-1 div.sk-label:hover label.sk-toggleable__label {background-color: #d4ebff;}#sk-container-id-1 div.sk-serial::before {content: \"\";position: absolute;border-left: 1px solid gray;box-sizing: border-box;top: 0;bottom: 0;left: 50%;z-index: 0;}#sk-container-id-1 div.sk-serial {display: flex;flex-direction: column;align-items: center;background-color: white;padding-right: 0.2em;padding-left: 0.2em;position: relative;}#sk-container-id-1 div.sk-item {position: relative;z-index: 1;}#sk-container-id-1 div.sk-parallel {display: flex;align-items: stretch;justify-content: center;background-color: white;position: relative;}#sk-container-id-1 div.sk-item::before, #sk-container-id-1 div.sk-parallel-item::before {content: \"\";position: absolute;border-left: 1px solid gray;box-sizing: border-box;top: 0;bottom: 0;left: 50%;z-index: -1;}#sk-container-id-1 div.sk-parallel-item {display: flex;flex-direction: column;z-index: 1;position: relative;background-color: white;}#sk-container-id-1 div.sk-parallel-item:first-child::after {align-self: flex-end;width: 50%;}#sk-container-id-1 div.sk-parallel-item:last-child::after {align-self: flex-start;width: 50%;}#sk-container-id-1 div.sk-parallel-item:only-child::after {width: 0;}#sk-container-id-1 div.sk-dashed-wrapped {border: 1px dashed gray;margin: 0 0.4em 0.5em 0.4em;box-sizing: border-box;padding-bottom: 0.4em;background-color: white;}#sk-container-id-1 div.sk-label label {font-family: monospace;font-weight: bold;display: inline-block;line-height: 1.2em;}#sk-container-id-1 div.sk-label-container {text-align: center;}#sk-container-id-1 div.sk-container {/* jupyter's `normalize.less` sets `[hidden] { display: none; }` but bootstrap.min.css set `[hidden] { display: none !important; }` so we also need the `!important` here to be able to override the default hidden behavior on the sphinx rendered scikit-learn.org. See: https://github.com/scikit-learn/scikit-learn/issues/21755 */display: inline-block !important;position: relative;}#sk-container-id-1 div.sk-text-repr-fallback {display: none;}</style><div id=\"sk-container-id-1\" class=\"sk-top-container\"><div class=\"sk-text-repr-fallback\"><pre>LinearRegression()</pre><b>In a Jupyter environment, please rerun this cell to show the HTML representation or trust the notebook. <br />On GitHub, the HTML representation is unable to render, please try loading this page with nbviewer.org.</b></div><div class=\"sk-container\" hidden><div class=\"sk-item\"><div class=\"sk-estimator sk-toggleable\"><input class=\"sk-toggleable__control sk-hidden--visually\" id=\"sk-estimator-id-1\" type=\"checkbox\" checked><label for=\"sk-estimator-id-1\" class=\"sk-toggleable__label sk-toggleable__label-arrow\">LinearRegression</label><div class=\"sk-toggleable__content\"><pre>LinearRegression()</pre></div></div></div></div></div>"
      ],
      "text/plain": [
       "LinearRegression()"
      ]
     },
     "execution_count": 26,
     "metadata": {},
     "output_type": "execute_result"
    }
   ],
   "source": [
    "model = LinearRegression().fit(X, y)\n",
    "model"
   ]
  },
  {
   "cell_type": "code",
   "execution_count": 27,
   "id": "6af88e69",
   "metadata": {},
   "outputs": [
    {
     "name": "stdout",
     "output_type": "stream",
     "text": [
      "R2  0.7528327936582646\n"
     ]
    }
   ],
   "source": [
    "print('R2 ',model.score(X,y))\n",
    "# 75% of the variation in y is dependent on Xs which are in the model"
   ]
  },
  {
   "cell_type": "code",
   "execution_count": 29,
   "id": "a6a8ad70",
   "metadata": {},
   "outputs": [
    {
     "data": {
      "text/plain": [
       "array([3.09, 3.09, 2.84, 3.03, 3.41, 3.5 , 4.03, 2.61, 2.84, 3.34, 3.54,\n",
       "       3.74, 3.61, 3.91, 4.58, 4.58, 3.98, 1.48, 1.77, 1.27, 3.02, 3.86,\n",
       "       3.91, 4.17, 3.34, 2.2 , 2.38, 1.77, 3.82, 3.27, 3.93, 3.03])"
      ]
     },
     "execution_count": 29,
     "metadata": {},
     "output_type": "execute_result"
    }
   ],
   "source": [
    "y_pred = model.predict(X).round(2)\n",
    "y_pred"
   ]
  },
  {
   "cell_type": "code",
   "execution_count": 39,
   "id": "d5824090",
   "metadata": {},
   "outputs": [
    {
     "data": {
      "text/plain": [
       "25.6"
      ]
     },
     "execution_count": 39,
     "metadata": {},
     "output_type": "execute_result"
    }
   ],
   "source": [
    "#y.tolist()\n",
    "32 * .8"
   ]
  },
  {
   "cell_type": "code",
   "execution_count": 42,
   "id": "75955ec7",
   "metadata": {},
   "outputs": [
    {
     "name": "stdout",
     "output_type": "stream",
     "text": [
      "(25, 1) (7, 1) (25,) (7,)\n"
     ]
    }
   ],
   "source": [
    "X_train, X_test, y_train, y_test = train_test_split(X, y, test_size=.2, random_state=123)\n",
    "print(X_train.shape, X_test.shape, y_train.shape, y_test.shape)  #rows=32*.8, 1(wt)"
   ]
  },
  {
   "cell_type": "code",
   "execution_count": 35,
   "id": "77935eb3",
   "metadata": {},
   "outputs": [
    {
     "data": {
      "text/plain": [
       "<matplotlib.collections.PathCollection at 0x23100fa7b50>"
      ]
     },
     "execution_count": 35,
     "metadata": {},
     "output_type": "execute_result"
    },
    {
     "data": {
      "image/png": "[encoded data removed]",
      "text/plain": [
       "<Figure size 640x480 with 1 Axes>"
      ]
     },
     "metadata": {},
     "output_type": "display_data"
    }
   ],
   "source": [
    "plt.scatter(x=X, y=y_pred)"
   ]
  },
  {
   "cell_type": "markdown",
   "id": "5e15ee82",
   "metadata": {},
   "source": [
    "## Multiple Linear Regression\n",
    "- DV - multiple IVs"
   ]
  },
  {
   "cell_type": "code",
   "execution_count": 43,
   "id": "8c178be5",
   "metadata": {},
   "outputs": [
    {
     "name": "stdout",
     "output_type": "stream",
     "text": [
      "IVs -  (32, 3) Index(['wt', 'hp', 'gear'], dtype='object') : DVs -  (32,) mpg\n"
     ]
    }
   ],
   "source": [
    "data1 = mt[['mpg','wt','hp','gear']].copy()\n",
    "X = data1.drop(columns='mpg')  #predict mpg - Y so drop from X\n",
    "y = data1.mpg  # Dep Variable\n",
    "print('IVs - ', X.shape, X.columns, ': DVs - ', y.shape,  y.name)\n",
    "#rows/cols of X, y, ; names of columsn in X, y"
   ]
  },
  {
   "cell_type": "code",
   "execution_count": 44,
   "id": "89ebeceb",
   "metadata": {},
   "outputs": [
    {
     "name": "stdout",
     "output_type": "stream",
     "text": [
      "                  wt   hp  gear\n",
      "Mazda RX4      2.620  110     4\n",
      "Mazda RX4 Wag  2.875  110     4\n",
      "Datsun 710     2.320   93     4 \n",
      " Mazda RX4        21.0\n",
      "Mazda RX4 Wag    21.0\n",
      "Datsun 710       22.8\n",
      "Name: mpg, dtype: float64\n"
     ]
    }
   ],
   "source": [
    "print(X.head(3), '\\n', y.head(3))"
   ]
  },
  {
   "cell_type": "code",
   "execution_count": 45,
   "id": "1520030d",
   "metadata": {},
   "outputs": [
    {
     "data": {
      "text/html": [
       "<div>\n",
       "<style scoped>\n",
       "    .dataframe tbody tr th:only-of-type {\n",
       "        vertical-align: middle;\n",
       "    }\n",
       "\n",
       "    .dataframe tbody tr th {\n",
       "        vertical-align: top;\n",
       "    }\n",
       "\n",
       "    .dataframe thead th {\n",
       "        text-align: right;\n",
       "    }\n",
       "</style>\n",
       "<table border=\"1\" class=\"dataframe\">\n",
       "  <thead>\n",
       "    <tr style=\"text-align: right;\">\n",
       "      <th></th>\n",
       "      <th>mpg</th>\n",
       "      <th>wt</th>\n",
       "      <th>hp</th>\n",
       "      <th>gear</th>\n",
       "    </tr>\n",
       "  </thead>\n",
       "  <tbody>\n",
       "    <tr>\n",
       "      <th>Mazda RX4</th>\n",
       "      <td>21.0</td>\n",
       "      <td>2.620</td>\n",
       "      <td>110</td>\n",
       "      <td>4</td>\n",
       "    </tr>\n",
       "    <tr>\n",
       "      <th>Mazda RX4 Wag</th>\n",
       "      <td>21.0</td>\n",
       "      <td>2.875</td>\n",
       "      <td>110</td>\n",
       "      <td>4</td>\n",
       "    </tr>\n",
       "    <tr>\n",
       "      <th>Datsun 710</th>\n",
       "      <td>22.8</td>\n",
       "      <td>2.320</td>\n",
       "      <td>93</td>\n",
       "      <td>4</td>\n",
       "    </tr>\n",
       "    <tr>\n",
       "      <th>Hornet 4 Drive</th>\n",
       "      <td>21.4</td>\n",
       "      <td>3.215</td>\n",
       "      <td>110</td>\n",
       "      <td>3</td>\n",
       "    </tr>\n",
       "    <tr>\n",
       "      <th>Hornet Sportabout</th>\n",
       "      <td>18.7</td>\n",
       "      <td>3.440</td>\n",
       "      <td>175</td>\n",
       "      <td>3</td>\n",
       "    </tr>\n",
       "  </tbody>\n",
       "</table>\n",
       "</div>"
      ],
      "text/plain": [
       "                    mpg     wt   hp  gear\n",
       "Mazda RX4          21.0  2.620  110     4\n",
       "Mazda RX4 Wag      21.0  2.875  110     4\n",
       "Datsun 710         22.8  2.320   93     4\n",
       "Hornet 4 Drive     21.4  3.215  110     3\n",
       "Hornet Sportabout  18.7  3.440  175     3"
      ]
     },
     "execution_count": 45,
     "metadata": {},
     "output_type": "execute_result"
    }
   ],
   "source": [
    "data1.head()"
   ]
  },
  {
   "cell_type": "code",
   "execution_count": 46,
   "id": "a88ff2c1",
   "metadata": {},
   "outputs": [],
   "source": [
    "X_train, X_test, y_train, y_test = train_test_split(X, y, test_size=.2, random_state=123)"
   ]
  },
  {
   "cell_type": "code",
   "execution_count": 47,
   "id": "4b5949c2",
   "metadata": {},
   "outputs": [
    {
     "name": "stdout",
     "output_type": "stream",
     "text": [
      "(25, 3) (7, 3) (25,) (7,)\n"
     ]
    }
   ],
   "source": [
    "print(X_train.shape, X_test.shape, y_train.shape, y_test.shape)"
   ]
  },
  {
   "cell_type": "code",
   "execution_count": 48,
   "id": "84d3f614",
   "metadata": {},
   "outputs": [],
   "source": [
    "reg1 = LinearRegression().fit(X_train,y_train)"
   ]
  },
  {
   "cell_type": "code",
   "execution_count": 49,
   "id": "fb5aed4d",
   "metadata": {},
   "outputs": [
    {
     "name": "stdout",
     "output_type": "stream",
     "text": [
      "R2  0.8343748866225498\n"
     ]
    }
   ],
   "source": [
    "print('R2 ', reg1.score(X,y))\n",
    "#83% of variation in Y (mpg) is dependent on X (wt, hp, gear)"
   ]
  },
  {
   "cell_type": "code",
   "execution_count": 57,
   "id": "3b471098",
   "metadata": {},
   "outputs": [
    {
     "name": "stdout",
     "output_type": "stream",
     "text": [
      "Coefficients  [-3.02600904 -0.03907936  0.94247563]\n",
      "Index(['wt', 'hp', 'gear'], dtype='object')\n"
     ]
    }
   ],
   "source": [
    "print('Coefficients ', reg1.coef_)\n",
    "print(X_train.columns)\n",
    "#if u increase wt by 1 unit, mpg will decrease by 3 units (-3)"
   ]
  },
  {
   "cell_type": "code",
   "execution_count": 59,
   "id": "f2b4bcfd",
   "metadata": {},
   "outputs": [
    {
     "data": {
      "text/plain": [
       "32.109450064221186"
      ]
     },
     "execution_count": 59,
     "metadata": {},
     "output_type": "execute_result"
    }
   ],
   "source": [
    "reg1.intercept_"
   ]
  },
  {
   "cell_type": "markdown",
   "id": "0588ce20",
   "metadata": {},
   "source": [
    "## mpg = 32 + -3 * wt + -.03 * hp + .94 * gear "
   ]
  },
  {
   "cell_type": "code",
   "execution_count": 52,
   "id": "95c5649b",
   "metadata": {},
   "outputs": [
    {
     "name": "stdout",
     "output_type": "stream",
     "text": [
      "Predict MPG for given X values \n",
      "  [18.42 15.59 13.74 28.96 17.69 20.91 16.46  9.77 11.04 23.69 20.66 10.12\n",
      " 27.44 23.65 22.88 18.68 20.66 27.79 26.64 14.56 21.6  16.91 25.22 16.46\n",
      " 12.93]\n"
     ]
    }
   ],
   "source": [
    "y_pred = reg1.predict(X_train).round(2)\n",
    "print('Predict MPG for given X values \\n ', y_pred)"
   ]
  },
  {
   "cell_type": "code",
   "execution_count": 66,
   "id": "c76b71e7",
   "metadata": {},
   "outputs": [
    {
     "name": "stdout",
     "output_type": "stream",
     "text": [
      "                  wt   hp  gear\n",
      "Mazda RX4      2.620  110     4\n",
      "Mazda RX4 Wag  2.875  110     4 \n",
      "\n",
      "              wt          hp       gear\n",
      "count  32.000000   32.000000  32.000000\n",
      "mean    3.217250  146.687500   3.687500\n",
      "std     0.978457   68.562868   0.737804\n",
      "min     1.513000   52.000000   3.000000\n",
      "25%     2.581250   96.500000   3.000000\n",
      "50%     3.325000  123.000000   4.000000\n",
      "75%     3.610000  180.000000   4.000000\n",
      "max     5.424000  335.000000   5.000000\n"
     ]
    }
   ],
   "source": [
    "print(X.head(2), '\\n')\n",
    "print(X.describe())  #sample values between min and max of each variable"
   ]
  },
  {
   "cell_type": "code",
   "execution_count": 53,
   "id": "79b4c72c",
   "metadata": {},
   "outputs": [
    {
     "name": "stdout",
     "output_type": "stream",
     "text": [
      "Predict MPG for from test Data  [23.8  23.21 20.36 26.79 22.63 27.83 16.62]\n"
     ]
    }
   ],
   "source": [
    "print('Predict MPG for from test Data ', reg1.predict(X_test).round(2))"
   ]
  },
  {
   "cell_type": "code",
   "execution_count": 63,
   "id": "e90d2c1d",
   "metadata": {},
   "outputs": [
    {
     "name": "stdout",
     "output_type": "stream",
     "text": [
      "                  wt   hp  gear\n",
      "Merc 240D      3.190   62     4\n",
      "Volvo 142E     2.780  109     4\n",
      "Valiant        3.460  105     3\n",
      "Porsche 914-2  2.140   91     5\n",
      "Merc 230       3.150   95     4\n",
      "Lotus Europa   1.513  113     5\n",
      "Merc 450SL     3.730  180     3\n",
      "24.15\n"
     ]
    }
   ],
   "source": [
    "print(X_test)\n",
    "print(32 + -3 * 2.78 + -.03 * 109 + .94 * 4)"
   ]
  },
  {
   "cell_type": "code",
   "execution_count": 64,
   "id": "77de3e6c",
   "metadata": {},
   "outputs": [
    {
     "name": "stdout",
     "output_type": "stream",
     "text": [
      "Merc 240D        24.4\n",
      "Volvo 142E       21.4\n",
      "Valiant          18.1\n",
      "Porsche 914-2    26.0\n",
      "Merc 230         22.8\n",
      "Lotus Europa     30.4\n",
      "Merc 450SL       17.3\n",
      "Name: mpg, dtype: float64 [23.8  23.21 20.36 26.79 22.63 27.83 16.62]\n"
     ]
    }
   ],
   "source": [
    "print(y_test, reg1.predict(X_test).round(2))"
   ]
  },
  {
   "cell_type": "code",
   "execution_count": 65,
   "id": "20015114",
   "metadata": {},
   "outputs": [
    {
     "data": {
      "text/html": [
       "<div>\n",
       "<style scoped>\n",
       "    .dataframe tbody tr th:only-of-type {\n",
       "        vertical-align: middle;\n",
       "    }\n",
       "\n",
       "    .dataframe tbody tr th {\n",
       "        vertical-align: top;\n",
       "    }\n",
       "\n",
       "    .dataframe thead th {\n",
       "        text-align: right;\n",
       "    }\n",
       "</style>\n",
       "<table border=\"1\" class=\"dataframe\">\n",
       "  <thead>\n",
       "    <tr style=\"text-align: right;\">\n",
       "      <th></th>\n",
       "      <th>wt</th>\n",
       "      <th>hp</th>\n",
       "      <th>gear</th>\n",
       "    </tr>\n",
       "  </thead>\n",
       "  <tbody>\n",
       "    <tr>\n",
       "      <th>0</th>\n",
       "      <td>3</td>\n",
       "      <td>200</td>\n",
       "      <td>5</td>\n",
       "    </tr>\n",
       "    <tr>\n",
       "      <th>1</th>\n",
       "      <td>5</td>\n",
       "      <td>100</td>\n",
       "      <td>4</td>\n",
       "    </tr>\n",
       "    <tr>\n",
       "      <th>2</th>\n",
       "      <td>6</td>\n",
       "      <td>300</td>\n",
       "      <td>3</td>\n",
       "    </tr>\n",
       "  </tbody>\n",
       "</table>\n",
       "</div>"
      ],
      "text/plain": [
       "   wt   hp  gear\n",
       "0   3  200     5\n",
       "1   5  100     4\n",
       "2   6  300     3"
      ]
     },
     "execution_count": 65,
     "metadata": {},
     "output_type": "execute_result"
    }
   ],
   "source": [
    "#create new set of values\n",
    "newData = pd.DataFrame({'wt':[3,5,6], 'hp':[200, 100,300], 'gear':[5,4,3]})\n",
    "newData"
   ]
  },
  {
   "cell_type": "code",
   "execution_count": 66,
   "id": "bc87b890",
   "metadata": {},
   "outputs": [
    {
     "name": "stdout",
     "output_type": "stream",
     "text": [
      "Predict MPG for new Set of Data  [19.93 16.84  5.06]\n"
     ]
    }
   ],
   "source": [
    "print('Predict MPG for new Set of Data ', reg1.predict(newData).round(2))"
   ]
  },
  {
   "cell_type": "code",
   "execution_count": 67,
   "id": "8ce8069e",
   "metadata": {},
   "outputs": [
    {
     "name": "stdout",
     "output_type": "stream",
     "text": [
      "<class 'pandas.core.series.Series'> <class 'numpy.ndarray'>\n"
     ]
    }
   ],
   "source": [
    "print(type(y_test), type(reg1.predict(X_test).round(2)))"
   ]
  },
  {
   "cell_type": "code",
   "execution_count": 78,
   "id": "1b107ac0",
   "metadata": {},
   "outputs": [
    {
     "data": {
      "text/html": [
       "<div>\n",
       "<style scoped>\n",
       "    .dataframe tbody tr th:only-of-type {\n",
       "        vertical-align: middle;\n",
       "    }\n",
       "\n",
       "    .dataframe tbody tr th {\n",
       "        vertical-align: top;\n",
       "    }\n",
       "\n",
       "    .dataframe thead th {\n",
       "        text-align: right;\n",
       "    }\n",
       "</style>\n",
       "<table border=\"1\" class=\"dataframe\">\n",
       "  <thead>\n",
       "    <tr style=\"text-align: right;\">\n",
       "      <th></th>\n",
       "      <th>0</th>\n",
       "      <th>1</th>\n",
       "      <th>2</th>\n",
       "    </tr>\n",
       "  </thead>\n",
       "  <tbody>\n",
       "    <tr>\n",
       "      <th>0</th>\n",
       "      <td>Mazda RX4</td>\n",
       "      <td>21.0</td>\n",
       "      <td>23.67</td>\n",
       "    </tr>\n",
       "    <tr>\n",
       "      <th>1</th>\n",
       "      <td>Mazda RX4 Wag</td>\n",
       "      <td>21.0</td>\n",
       "      <td>22.85</td>\n",
       "    </tr>\n",
       "    <tr>\n",
       "      <th>2</th>\n",
       "      <td>Datsun 710</td>\n",
       "      <td>22.8</td>\n",
       "      <td>25.25</td>\n",
       "    </tr>\n",
       "    <tr>\n",
       "      <th>3</th>\n",
       "      <td>Hornet 4 Drive</td>\n",
       "      <td>21.4</td>\n",
       "      <td>20.75</td>\n",
       "    </tr>\n",
       "    <tr>\n",
       "      <th>4</th>\n",
       "      <td>Hornet Sportabout</td>\n",
       "      <td>18.7</td>\n",
       "      <td>17.64</td>\n",
       "    </tr>\n",
       "  </tbody>\n",
       "</table>\n",
       "</div>"
      ],
      "text/plain": [
       "                   0     1      2\n",
       "0          Mazda RX4  21.0  23.67\n",
       "1      Mazda RX4 Wag  21.0  22.85\n",
       "2         Datsun 710  22.8  25.25\n",
       "3     Hornet 4 Drive  21.4  20.75\n",
       "4  Hornet Sportabout  18.7  17.64"
      ]
     },
     "execution_count": 78,
     "metadata": {},
     "output_type": "execute_result"
    }
   ],
   "source": [
    "from sklearn.metrics import mean_squared_error\n",
    "#pd.concat([y.reshape(-1,1), y_pred.reshape(-1,1)])\n",
    "pd.concat([y.reset_index(), pd.Series(y_pred)],axis=1, ignore_index=True).head()\n",
    "#there is difference between actual (1) and predicted values(2), which show accuracy of the model ?"
   ]
  },
  {
   "cell_type": "code",
   "execution_count": 81,
   "id": "d494c3a9",
   "metadata": {},
   "outputs": [
    {
     "name": "stdout",
     "output_type": "stream",
     "text": [
      "Mean Squared Error  5.8  : Root Mean Squared Error -  2.41\n"
     ]
    }
   ],
   "source": [
    "mse = mean_squared_error(y_true=y, y_pred=y_pred, squared=True)\n",
    "rmse = mean_squared_error(y_true=y, y_pred=y_pred, squared=False)\n",
    "print('Mean Squared Error ', mse.round(2), ' : Root Mean Squared Error - ', rmse.round(2))\n",
    "#rmse should be as less as possible"
   ]
  },
  {
   "cell_type": "code",
   "execution_count": 84,
   "id": "09cfbb6c",
   "metadata": {},
   "outputs": [],
   "source": [
    "#different library\n",
    "from statsmodels.formula.api import ols"
   ]
  },
  {
   "cell_type": "code",
   "execution_count": 85,
   "id": "f15627d2",
   "metadata": {},
   "outputs": [],
   "source": [
    "reg2 = ols(\"mpg ~ wt + hp + gear\", data=data1).fit()"
   ]
  },
  {
   "cell_type": "code",
   "execution_count": 88,
   "id": "ea534a68",
   "metadata": {},
   "outputs": [
    {
     "name": "stdout",
     "output_type": "stream",
     "text": [
      " Predicted Values of MPG from OLS technique \t [23.67 22.85 25.25 20.75 17.64 20.15 14.64 23.61 22.53 20.57 20.57 15.44\n",
      " 16.52 16.36 10.74  9.82  9.52 26.63 29.02 27.83 23.62 18.3  18.57 13.78\n",
      " 16.34 27.48 26.92 28.12 17.26 21.82 13.37 23.19]\n"
     ]
    }
   ],
   "source": [
    "y_predOLS  = reg2.predict().round(2)\n",
    "print(' Predicted Values of MPG from OLS technique \\t', y_predOLS)"
   ]
  },
  {
   "cell_type": "code",
   "execution_count": 91,
   "id": "96d35574",
   "metadata": {},
   "outputs": [
    {
     "name": "stdout",
     "output_type": "stream",
     "text": [
      "Predict MPG for new Set of Data from OLS\n",
      " 0    20.16\n",
      "1    16.43\n",
      "2     4.85\n",
      "dtype: float64\n"
     ]
    }
   ],
   "source": [
    "print('Predict MPG for new Set of Data from OLS\\n', reg2.predict(newData).round(2))"
   ]
  },
  {
   "cell_type": "code",
   "execution_count": 92,
   "id": "98ff4d6e",
   "metadata": {},
   "outputs": [
    {
     "name": "stdout",
     "output_type": "stream",
     "text": [
      "Summary of the Model                              OLS Regression Results                            \n",
      "==============================================================================\n",
      "Dep. Variable:                    mpg   R-squared:                       0.835\n",
      "Model:                            OLS   Adj. R-squared:                  0.818\n",
      "Method:                 Least Squares   F-statistic:                     47.31\n",
      "Date:                Thu, 06 Jul 2023   Prob (F-statistic):           4.33e-11\n",
      "Time:                        11:14:00   Log-Likelihood:                -73.526\n",
      "No. Observations:                  32   AIC:                             155.1\n",
      "Df Residuals:                      28   BIC:                             160.9\n",
      "Df Model:                           3                                         \n",
      "Covariance Type:            nonrobust                                         \n",
      "==============================================================================\n",
      "                 coef    std err          t      P>|t|      [0.025      0.975]\n",
      "------------------------------------------------------------------------------\n",
      "Intercept     32.0137      4.632      6.911      0.000      22.525      41.502\n",
      "wt            -3.1978      0.847     -3.777      0.001      -4.932      -1.464\n",
      "hp            -0.0368      0.010     -3.719      0.001      -0.057      -0.017\n",
      "gear           1.0200      0.851      1.198      0.241      -0.724       2.764\n",
      "==============================================================================\n",
      "Omnibus:                        6.699   Durbin-Watson:                   1.397\n",
      "Prob(Omnibus):                  0.035   Jarque-Bera (JB):                5.369\n",
      "Skew:                           0.977   Prob(JB):                       0.0682\n",
      "Kurtosis:                       3.455   Cond. No.                     1.69e+03\n",
      "==============================================================================\n",
      "\n",
      "Notes:\n",
      "[1] Standard Errors assume that the covariance matrix of the errors is correctly specified.\n",
      "[2] The condition number is large, 1.69e+03. This might indicate that there are\n",
      "strong multicollinearity or other numerical problems.\n"
     ]
    }
   ],
   "source": [
    "print('Summary of the Model ', reg2.summary())\n",
    "#understand : R2, Adjust R2, AIC, p-Value of Coefficients, F-Stats"
   ]
  },
  {
   "cell_type": "code",
   "execution_count": 97,
   "id": "7ec8447f",
   "metadata": {},
   "outputs": [
    {
     "data": {
      "text/plain": [
       "<Axes: >"
      ]
     },
     "execution_count": 97,
     "metadata": {},
     "output_type": "execute_result"
    },
    {
     "data": {
      "image/png": "[encoded data removed]",
      "text/plain": [
       "<Figure size 640x480 with 2 Axes>"
      ]
     },
     "metadata": {},
     "output_type": "display_data"
    }
   ],
   "source": [
    "#correlation map\n",
    "sns.heatmap(data.corr(), annot=True)"
   ]
  },
  {
   "cell_type": "code",
   "execution_count": 98,
   "id": "ac77b783",
   "metadata": {},
   "outputs": [],
   "source": [
    "# now try with any data set using above Linear Regression"
   ]
  },
  {
   "cell_type": "markdown",
   "id": "a5449cc3",
   "metadata": {},
   "source": [
    "## Logistic Regression\n",
    "-  https://www.andrewvillazon.com/logistic-regression-python-statsmodels/\n",
    "-  https://www.javatpoint.com/logistic-regression-in-machine-learning\n",
    "-  Predict a category (0/1, Yes/No) on the basis of IVs (which can be continous or categories)"
   ]
  },
  {
   "cell_type": "code",
   "execution_count": 68,
   "id": "5e929fc0",
   "metadata": {},
   "outputs": [],
   "source": [
    "#additional libraries\n",
    "from sklearn.linear_model import LogisticRegression\n",
    "from sklearn.metrics import classification_report, confusion_matrix\n",
    "#seaborn to create confusion matrix"
   ]
  },
  {
   "cell_type": "code",
   "execution_count": 92,
   "id": "6238ade0",
   "metadata": {},
   "outputs": [
    {
     "name": "stdout",
     "output_type": "stream",
     "text": [
      "(32, 3) (32,)\n"
     ]
    }
   ],
   "source": [
    "data2 = mt[['am','wt', 'hp','mpg']]\n",
    "X = data2.drop(columns='am')\n",
    "y = data2.am\n",
    "print(X.shape, y.shape)"
   ]
  },
  {
   "cell_type": "code",
   "execution_count": 93,
   "id": "9a6b6854",
   "metadata": {},
   "outputs": [
    {
     "data": {
      "text/html": [
       "<div>\n",
       "<style scoped>\n",
       "    .dataframe tbody tr th:only-of-type {\n",
       "        vertical-align: middle;\n",
       "    }\n",
       "\n",
       "    .dataframe tbody tr th {\n",
       "        vertical-align: top;\n",
       "    }\n",
       "\n",
       "    .dataframe thead th {\n",
       "        text-align: right;\n",
       "    }\n",
       "</style>\n",
       "<table border=\"1\" class=\"dataframe\">\n",
       "  <thead>\n",
       "    <tr style=\"text-align: right;\">\n",
       "      <th></th>\n",
       "      <th>am</th>\n",
       "      <th>wt</th>\n",
       "      <th>hp</th>\n",
       "      <th>mpg</th>\n",
       "    </tr>\n",
       "  </thead>\n",
       "  <tbody>\n",
       "    <tr>\n",
       "      <th>Mazda RX4</th>\n",
       "      <td>1</td>\n",
       "      <td>2.620</td>\n",
       "      <td>110</td>\n",
       "      <td>21.0</td>\n",
       "    </tr>\n",
       "    <tr>\n",
       "      <th>Mazda RX4 Wag</th>\n",
       "      <td>1</td>\n",
       "      <td>2.875</td>\n",
       "      <td>110</td>\n",
       "      <td>21.0</td>\n",
       "    </tr>\n",
       "    <tr>\n",
       "      <th>Datsun 710</th>\n",
       "      <td>1</td>\n",
       "      <td>2.320</td>\n",
       "      <td>93</td>\n",
       "      <td>22.8</td>\n",
       "    </tr>\n",
       "    <tr>\n",
       "      <th>Hornet 4 Drive</th>\n",
       "      <td>0</td>\n",
       "      <td>3.215</td>\n",
       "      <td>110</td>\n",
       "      <td>21.4</td>\n",
       "    </tr>\n",
       "    <tr>\n",
       "      <th>Hornet Sportabout</th>\n",
       "      <td>0</td>\n",
       "      <td>3.440</td>\n",
       "      <td>175</td>\n",
       "      <td>18.7</td>\n",
       "    </tr>\n",
       "  </tbody>\n",
       "</table>\n",
       "</div>"
      ],
      "text/plain": [
       "                   am     wt   hp   mpg\n",
       "Mazda RX4           1  2.620  110  21.0\n",
       "Mazda RX4 Wag       1  2.875  110  21.0\n",
       "Datsun 710          1  2.320   93  22.8\n",
       "Hornet 4 Drive      0  3.215  110  21.4\n",
       "Hornet Sportabout   0  3.440  175  18.7"
      ]
     },
     "execution_count": 93,
     "metadata": {},
     "output_type": "execute_result"
    }
   ],
   "source": [
    "data2.head()"
   ]
  },
  {
   "cell_type": "code",
   "execution_count": 94,
   "id": "55dcda50",
   "metadata": {},
   "outputs": [
    {
     "data": {
      "text/plain": [
       "0    19\n",
       "1    13\n",
       "Name: am, dtype: int64"
      ]
     },
     "execution_count": 94,
     "metadata": {},
     "output_type": "execute_result"
    }
   ],
   "source": [
    "mt.am.value_counts()"
   ]
  },
  {
   "cell_type": "code",
   "execution_count": 95,
   "id": "86fd53b8",
   "metadata": {},
   "outputs": [],
   "source": [
    "#ogreg1 = LogisticRegression(solver='liblinear', random_state=123).fit(X,y)\n",
    "logreg1 = LogisticRegression(random_state=123).fit(X,y)"
   ]
  },
  {
   "cell_type": "code",
   "execution_count": 96,
   "id": "7c0bac30",
   "metadata": {},
   "outputs": [
    {
     "name": "stdout",
     "output_type": "stream",
     "text": [
      " Classes  [0 1]  : Coeff  [[-1.43352673  0.04286737  0.83179644]]  : Intercept  [-18.80155606]\n",
      "Index(['am', 'wt', 'hp', 'mpg'], dtype='object')\n"
     ]
    }
   ],
   "source": [
    "print(' Classes ', logreg1.classes_, ' : Coeff ', logreg1.coef_, ' : Intercept ', logreg1.intercept_)\n",
    "print(data2.columns)"
   ]
  },
  {
   "cell_type": "code",
   "execution_count": 97,
   "id": "7e87c043",
   "metadata": {},
   "outputs": [
    {
     "data": {
      "text/html": [
       "<div>\n",
       "<style scoped>\n",
       "    .dataframe tbody tr th:only-of-type {\n",
       "        vertical-align: middle;\n",
       "    }\n",
       "\n",
       "    .dataframe tbody tr th {\n",
       "        vertical-align: top;\n",
       "    }\n",
       "\n",
       "    .dataframe thead th {\n",
       "        text-align: right;\n",
       "    }\n",
       "</style>\n",
       "<table border=\"1\" class=\"dataframe\">\n",
       "  <thead>\n",
       "    <tr style=\"text-align: right;\">\n",
       "      <th></th>\n",
       "      <th>am</th>\n",
       "      <th>wt</th>\n",
       "      <th>hp</th>\n",
       "      <th>mpg</th>\n",
       "    </tr>\n",
       "  </thead>\n",
       "  <tbody>\n",
       "    <tr>\n",
       "      <th>Merc 240D</th>\n",
       "      <td>0</td>\n",
       "      <td>3.190</td>\n",
       "      <td>62</td>\n",
       "      <td>24.4</td>\n",
       "    </tr>\n",
       "    <tr>\n",
       "      <th>Fiat X1-9</th>\n",
       "      <td>1</td>\n",
       "      <td>1.935</td>\n",
       "      <td>66</td>\n",
       "      <td>27.3</td>\n",
       "    </tr>\n",
       "    <tr>\n",
       "      <th>Merc 230</th>\n",
       "      <td>0</td>\n",
       "      <td>3.150</td>\n",
       "      <td>95</td>\n",
       "      <td>22.8</td>\n",
       "    </tr>\n",
       "    <tr>\n",
       "      <th>Porsche 914-2</th>\n",
       "      <td>1</td>\n",
       "      <td>2.140</td>\n",
       "      <td>91</td>\n",
       "      <td>26.0</td>\n",
       "    </tr>\n",
       "    <tr>\n",
       "      <th>Datsun 710</th>\n",
       "      <td>1</td>\n",
       "      <td>2.320</td>\n",
       "      <td>93</td>\n",
       "      <td>22.8</td>\n",
       "    </tr>\n",
       "    <tr>\n",
       "      <th>Maserati Bora</th>\n",
       "      <td>1</td>\n",
       "      <td>3.570</td>\n",
       "      <td>335</td>\n",
       "      <td>15.0</td>\n",
       "    </tr>\n",
       "    <tr>\n",
       "      <th>Honda Civic</th>\n",
       "      <td>1</td>\n",
       "      <td>1.615</td>\n",
       "      <td>52</td>\n",
       "      <td>30.4</td>\n",
       "    </tr>\n",
       "    <tr>\n",
       "      <th>Volvo 142E</th>\n",
       "      <td>1</td>\n",
       "      <td>2.780</td>\n",
       "      <td>109</td>\n",
       "      <td>21.4</td>\n",
       "    </tr>\n",
       "    <tr>\n",
       "      <th>Pontiac Firebird</th>\n",
       "      <td>0</td>\n",
       "      <td>3.845</td>\n",
       "      <td>175</td>\n",
       "      <td>19.2</td>\n",
       "    </tr>\n",
       "    <tr>\n",
       "      <th>Dodge Challenger</th>\n",
       "      <td>0</td>\n",
       "      <td>3.520</td>\n",
       "      <td>150</td>\n",
       "      <td>15.5</td>\n",
       "    </tr>\n",
       "  </tbody>\n",
       "</table>\n",
       "</div>"
      ],
      "text/plain": [
       "                  am     wt   hp   mpg\n",
       "Merc 240D          0  3.190   62  24.4\n",
       "Fiat X1-9          1  1.935   66  27.3\n",
       "Merc 230           0  3.150   95  22.8\n",
       "Porsche 914-2      1  2.140   91  26.0\n",
       "Datsun 710         1  2.320   93  22.8\n",
       "Maserati Bora      1  3.570  335  15.0\n",
       "Honda Civic        1  1.615   52  30.4\n",
       "Volvo 142E         1  2.780  109  21.4\n",
       "Pontiac Firebird   0  3.845  175  19.2\n",
       "Dodge Challenger   0  3.520  150  15.5"
      ]
     },
     "execution_count": 97,
     "metadata": {},
     "output_type": "execute_result"
    }
   ],
   "source": [
    "newData2 = data2.sample(10)\n",
    "newData2"
   ]
  },
  {
   "cell_type": "code",
   "execution_count": 98,
   "id": "163bb01a",
   "metadata": {},
   "outputs": [
    {
     "data": {
      "text/plain": [
       "array([[0.60369764, 0.39630236],\n",
       "       [0.01867241, 0.98132759],\n",
       "       [0.56949865, 0.43050135],\n",
       "       [0.02512771, 0.97487229],\n",
       "       [0.30485452, 0.69514548],\n",
       "       [0.05125776, 0.94874224],\n",
       "       [0.00166044, 0.99833956],\n",
       "       [0.57780591, 0.42219409],\n",
       "       [0.6987146 , 0.3012854 ],\n",
       "       [0.98927738, 0.01072262]])"
      ]
     },
     "execution_count": 98,
     "metadata": {},
     "output_type": "execute_result"
    }
   ],
   "source": [
    "logreg1.predict_proba(newData2.drop(columns='am'))"
   ]
  },
  {
   "cell_type": "code",
   "execution_count": 99,
   "id": "8bf9c80a",
   "metadata": {},
   "outputs": [
    {
     "data": {
      "text/plain": [
       "array([0, 1, 0, 1, 1, 1, 1, 0, 0, 0], dtype=int64)"
      ]
     },
     "execution_count": 99,
     "metadata": {},
     "output_type": "execute_result"
    }
   ],
   "source": [
    "logreg1.predict(newData2.drop(columns='am'))"
   ]
  },
  {
   "cell_type": "code",
   "execution_count": 100,
   "id": "250052d6",
   "metadata": {},
   "outputs": [
    {
     "data": {
      "text/plain": [
       "array([[0.67695411, 0.32304589],\n",
       "       [0.30485452, 0.69514548],\n",
       "       [0.7098158 , 0.2901842 ],\n",
       "       [0.66295804, 0.33704196]])"
      ]
     },
     "execution_count": 100,
     "metadata": {},
     "output_type": "execute_result"
    }
   ],
   "source": [
    "logreg1.predict_proba(X)[1:5]\n",
    "#predict probabilities of each row value of X"
   ]
  },
  {
   "cell_type": "code",
   "execution_count": 104,
   "id": "fdcae799",
   "metadata": {},
   "outputs": [
    {
     "name": "stdout",
     "output_type": "stream",
     "text": [
      "Predicted values of AM (Y) from IV (wt, mpg, hp) :  [0, 0, 1, 0, 0, 0, 0, 0, 0, 0, 0, 0, 0, 0, 0, 0, 0, 1, 1, 1, 0, 0, 0, 0, 0, 1, 1, 1, 1, 1, 1, 0]\n"
     ]
    }
   ],
   "source": [
    "y_predLG1 = logreg1.predict(X)\n",
    "print('Predicted values of AM (Y) from IV (wt, mpg, hp) : ', y_predLG1.tolist())\n",
    "#predict class (0 or 1)"
   ]
  },
  {
   "cell_type": "code",
   "execution_count": 105,
   "id": "9099e7bf",
   "metadata": {},
   "outputs": [
    {
     "data": {
      "text/plain": [
       "0.90625"
      ]
     },
     "execution_count": 105,
     "metadata": {},
     "output_type": "execute_result"
    }
   ],
   "source": [
    "logreg1.score(X,y)\n",
    "#9 times out of 10, model predicts right category"
   ]
  },
  {
   "cell_type": "code",
   "execution_count": 106,
   "id": "693bf2d7",
   "metadata": {},
   "outputs": [
    {
     "data": {
      "text/plain": [
       "array([0, 1, 0, 1, 1, 1, 1, 0, 0, 0], dtype=int64)"
      ]
     },
     "execution_count": 106,
     "metadata": {},
     "output_type": "execute_result"
    }
   ],
   "source": [
    "logreg1.predict(newData2.drop(columns='am', axis=1))"
   ]
  },
  {
   "cell_type": "code",
   "execution_count": 107,
   "id": "6ce86daa",
   "metadata": {},
   "outputs": [
    {
     "data": {
      "text/plain": [
       "array([[19,  0],\n",
       "       [ 3, 10]], dtype=int64)"
      ]
     },
     "execution_count": 107,
     "metadata": {},
     "output_type": "execute_result"
    }
   ],
   "source": [
    "#check accuracy of the model\n",
    "confusion_matrix(y, y_predLG1)"
   ]
  },
  {
   "cell_type": "code",
   "execution_count": 110,
   "id": "0e81d3b6",
   "metadata": {},
   "outputs": [
    {
     "data": {
      "text/html": [
       "<div>\n",
       "<style scoped>\n",
       "    .dataframe tbody tr th:only-of-type {\n",
       "        vertical-align: middle;\n",
       "    }\n",
       "\n",
       "    .dataframe tbody tr th {\n",
       "        vertical-align: top;\n",
       "    }\n",
       "\n",
       "    .dataframe thead th {\n",
       "        text-align: right;\n",
       "    }\n",
       "</style>\n",
       "<table border=\"1\" class=\"dataframe\">\n",
       "  <thead>\n",
       "    <tr style=\"text-align: right;\">\n",
       "      <th></th>\n",
       "      <th>0</th>\n",
       "      <th>1</th>\n",
       "      <th>2</th>\n",
       "    </tr>\n",
       "  </thead>\n",
       "  <tbody>\n",
       "    <tr>\n",
       "      <th>0</th>\n",
       "      <td>Mazda RX4</td>\n",
       "      <td>1</td>\n",
       "      <td>0</td>\n",
       "    </tr>\n",
       "    <tr>\n",
       "      <th>1</th>\n",
       "      <td>Mazda RX4 Wag</td>\n",
       "      <td>1</td>\n",
       "      <td>0</td>\n",
       "    </tr>\n",
       "    <tr>\n",
       "      <th>2</th>\n",
       "      <td>Datsun 710</td>\n",
       "      <td>1</td>\n",
       "      <td>1</td>\n",
       "    </tr>\n",
       "    <tr>\n",
       "      <th>3</th>\n",
       "      <td>Hornet 4 Drive</td>\n",
       "      <td>0</td>\n",
       "      <td>0</td>\n",
       "    </tr>\n",
       "    <tr>\n",
       "      <th>4</th>\n",
       "      <td>Hornet Sportabout</td>\n",
       "      <td>0</td>\n",
       "      <td>0</td>\n",
       "    </tr>\n",
       "    <tr>\n",
       "      <th>5</th>\n",
       "      <td>Valiant</td>\n",
       "      <td>0</td>\n",
       "      <td>0</td>\n",
       "    </tr>\n",
       "    <tr>\n",
       "      <th>6</th>\n",
       "      <td>Duster 360</td>\n",
       "      <td>0</td>\n",
       "      <td>0</td>\n",
       "    </tr>\n",
       "    <tr>\n",
       "      <th>7</th>\n",
       "      <td>Merc 240D</td>\n",
       "      <td>0</td>\n",
       "      <td>0</td>\n",
       "    </tr>\n",
       "    <tr>\n",
       "      <th>8</th>\n",
       "      <td>Merc 230</td>\n",
       "      <td>0</td>\n",
       "      <td>0</td>\n",
       "    </tr>\n",
       "    <tr>\n",
       "      <th>9</th>\n",
       "      <td>Merc 280</td>\n",
       "      <td>0</td>\n",
       "      <td>0</td>\n",
       "    </tr>\n",
       "  </tbody>\n",
       "</table>\n",
       "</div>"
      ],
      "text/plain": [
       "                   0  1  2\n",
       "0          Mazda RX4  1  0\n",
       "1      Mazda RX4 Wag  1  0\n",
       "2         Datsun 710  1  1\n",
       "3     Hornet 4 Drive  0  0\n",
       "4  Hornet Sportabout  0  0\n",
       "5            Valiant  0  0\n",
       "6         Duster 360  0  0\n",
       "7          Merc 240D  0  0\n",
       "8           Merc 230  0  0\n",
       "9           Merc 280  0  0"
      ]
     },
     "execution_count": 110,
     "metadata": {},
     "output_type": "execute_result"
    }
   ],
   "source": [
    "pd.concat([y.reset_index(), pd.Series(y_predLG1)],axis=1, ignore_index=True).head(10)"
   ]
  },
  {
   "cell_type": "code",
   "execution_count": 111,
   "id": "1fce12c2",
   "metadata": {},
   "outputs": [
    {
     "data": {
      "text/plain": [
       "<Axes: >"
      ]
     },
     "execution_count": 111,
     "metadata": {},
     "output_type": "execute_result"
    },
    {
     "data": {
      "image/png": "[encoded data removed]",
      "text/plain": [
       "<Figure size 640x480 with 2 Axes>"
      ]
     },
     "metadata": {},
     "output_type": "display_data"
    }
   ],
   "source": [
    "cm = confusion_matrix(y, y_predLG1)\n",
    "cm\n",
    "sns.heatmap(cm, annot=True)"
   ]
  },
  {
   "cell_type": "code",
   "execution_count": 112,
   "id": "6405cbc9",
   "metadata": {},
   "outputs": [
    {
     "data": {
      "text/plain": [
       "0.90625"
      ]
     },
     "execution_count": 112,
     "metadata": {},
     "output_type": "execute_result"
    }
   ],
   "source": [
    "(19 + 10)/32"
   ]
  },
  {
   "cell_type": "code",
   "execution_count": 138,
   "id": "1bf02cfa",
   "metadata": {},
   "outputs": [
    {
     "name": "stdout",
     "output_type": "stream",
     "text": [
      "Classification Report : \n",
      "               precision    recall  f1-score   support\n",
      "\n",
      "           0       0.90      0.95      0.92        19\n",
      "           1       0.92      0.85      0.88        13\n",
      "\n",
      "    accuracy                           0.91        32\n",
      "   macro avg       0.91      0.90      0.90        32\n",
      "weighted avg       0.91      0.91      0.91        32\n",
      "\n"
     ]
    }
   ],
   "source": [
    "clsreport = classification_report(y,y_predLG1)\n",
    "print('Classification Report : \\n', clsreport)"
   ]
  },
  {
   "cell_type": "code",
   "execution_count": 145,
   "id": "6591aae0",
   "metadata": {},
   "outputs": [
    {
     "name": "stdout",
     "output_type": "stream",
     "text": [
      "(32, 4) (32, 3) (32,)\n"
     ]
    }
   ],
   "source": [
    "# Stats Model\n",
    "#import statsmodels.api as sm\n",
    "print(data2.shape, X.shape, y.shape)"
   ]
  },
  {
   "cell_type": "code",
   "execution_count": 148,
   "id": "ccebf008",
   "metadata": {},
   "outputs": [],
   "source": [
    "import statsmodels.formula.api as smf"
   ]
  },
  {
   "cell_type": "code",
   "execution_count": 149,
   "id": "12c668a8",
   "metadata": {},
   "outputs": [
    {
     "name": "stdout",
     "output_type": "stream",
     "text": [
      "Optimization terminated successfully.\n",
      "         Current function value: 0.136970\n",
      "         Iterations 11\n"
     ]
    }
   ],
   "source": [
    "logreg2 = smf.logit(\"am ~ wt + mpg + hp\", data=data2).fit()"
   ]
  },
  {
   "cell_type": "code",
   "execution_count": 150,
   "id": "5e9e557b",
   "metadata": {},
   "outputs": [
    {
     "name": "stdout",
     "output_type": "stream",
     "text": [
      "                           Logit Regression Results                           \n",
      "==============================================================================\n",
      "Dep. Variable:                     am   No. Observations:                   32\n",
      "Model:                          Logit   Df Residuals:                       28\n",
      "Method:                           MLE   Df Model:                            3\n",
      "Date:                Thu, 06 Jul 2023   Pseudo R-squ.:                  0.7972\n",
      "Time:                        11:48:59   Log-Likelihood:                -4.3831\n",
      "converged:                       True   LL-Null:                       -21.615\n",
      "Covariance Type:            nonrobust   LLR p-value:                 1.581e-07\n",
      "==============================================================================\n",
      "                 coef    std err          z      P>|z|      [0.025      0.975]\n",
      "------------------------------------------------------------------------------\n",
      "Intercept    -15.7214     40.003     -0.393      0.694     -94.125      62.683\n",
      "wt            -6.9549      3.353     -2.074      0.038     -13.527      -0.383\n",
      "mpg            1.2293      1.581      0.778      0.437      -1.870       4.328\n",
      "hp             0.0839      0.082      1.020      0.308      -0.077       0.245\n",
      "==============================================================================\n",
      "\n",
      "Possibly complete quasi-separation: A fraction 0.25 of observations can be\n",
      "perfectly predicted. This might indicate that there is complete\n",
      "quasi-separation. In this case some parameters will not be identified.\n"
     ]
    }
   ],
   "source": [
    "print(logreg2.summary())"
   ]
  },
  {
   "cell_type": "code",
   "execution_count": 151,
   "id": "c0646253",
   "metadata": {},
   "outputs": [
    {
     "name": "stdout",
     "output_type": "stream",
     "text": [
      "Intercept   -15.721371\n",
      "wt           -6.954924\n",
      "mpg           1.229302\n",
      "hp            0.083893\n",
      "dtype: float64\n"
     ]
    }
   ],
   "source": [
    "print(logreg2.params)"
   ]
  },
  {
   "cell_type": "code",
   "execution_count": 152,
   "id": "779eff44",
   "metadata": {},
   "outputs": [
    {
     "name": "stdout",
     "output_type": "stream",
     "text": [
      "['__class__', '__delattr__', '__dict__', '__dir__', '__doc__', '__eq__', '__format__', '__ge__', '__getattribute__', '__getstate__', '__gt__', '__hash__', '__init__', '__init_subclass__', '__le__', '__lt__', '__module__', '__ne__', '__new__', '__reduce__', '__reduce_ex__', '__repr__', '__setattr__', '__sizeof__', '__str__', '__subclasshook__', '__weakref__', '_cache', '_data_attr', '_data_in_cache', '_get_endog_name', '_get_robustcov_results', '_use_t', 'aic', 'bic', 'bse', 'conf_int', 'cov_kwds', 'cov_params', 'cov_type', 'df_model', 'df_resid', 'f_test', 'fittedvalues', 'get_margeff', 'initialize', 'k_constant', 'llf', 'llnull', 'llr', 'llr_pvalue', 'load', 'mle_retvals', 'mle_settings', 'model', 'nobs', 'normalized_cov_params', 'params', 'pred_table', 'predict', 'prsquared', 'pvalues', 'remove_data', 'resid_dev', 'resid_generalized', 'resid_pearson', 'resid_response', 'save', 'scale', 'set_null_options', 'summary', 'summary2', 't_test', 't_test_pairwise', 'tvalues', 'use_t', 'wald_test', 'wald_test_terms']\n"
     ]
    }
   ],
   "source": [
    "print(dir(logreg2))  #functions available"
   ]
  },
  {
   "cell_type": "code",
   "execution_count": 226,
   "id": "e9e4efbf",
   "metadata": {},
   "outputs": [
    {
     "name": "stdout",
     "output_type": "stream",
     "text": [
      "[0.75, 0.34, 0.98, 0.07, 0.12, 0.0, 0.08, 0.06, 0.16, 0.0, 0.0, 0.0, 0.0, 0.0, 0.0, 0.0, 0.0, 1.0, 1.0, 1.0, 0.85, 0.0, 0.0, 0.0, 0.02, 1.0, 1.0, 1.0, 0.98, 0.98, 1.0, 0.6]\n"
     ]
    }
   ],
   "source": [
    "y_predLG2 = logreg2.predict(X).round(2)\n",
    "print(y_predLG2.tolist())"
   ]
  },
  {
   "cell_type": "code",
   "execution_count": 195,
   "id": "1977c43a",
   "metadata": {},
   "outputs": [
    {
     "name": "stdout",
     "output_type": "stream",
     "text": [
      "<class 'pandas.core.series.Series'> <class 'pandas.core.series.Series'>\n"
     ]
    },
    {
     "data": {
      "text/html": [
       "<div>\n",
       "<style scoped>\n",
       "    .dataframe tbody tr th:only-of-type {\n",
       "        vertical-align: middle;\n",
       "    }\n",
       "\n",
       "    .dataframe tbody tr th {\n",
       "        vertical-align: top;\n",
       "    }\n",
       "\n",
       "    .dataframe thead th {\n",
       "        text-align: right;\n",
       "    }\n",
       "</style>\n",
       "<table border=\"1\" class=\"dataframe\">\n",
       "  <thead>\n",
       "    <tr style=\"text-align: right;\">\n",
       "      <th></th>\n",
       "      <th>am</th>\n",
       "      <th>0</th>\n",
       "    </tr>\n",
       "  </thead>\n",
       "  <tbody>\n",
       "    <tr>\n",
       "      <th>Mazda RX4</th>\n",
       "      <td>1</td>\n",
       "      <td>0.75</td>\n",
       "    </tr>\n",
       "    <tr>\n",
       "      <th>Mazda RX4 Wag</th>\n",
       "      <td>1</td>\n",
       "      <td>0.34</td>\n",
       "    </tr>\n",
       "    <tr>\n",
       "      <th>Datsun 710</th>\n",
       "      <td>1</td>\n",
       "      <td>0.98</td>\n",
       "    </tr>\n",
       "    <tr>\n",
       "      <th>Hornet 4 Drive</th>\n",
       "      <td>0</td>\n",
       "      <td>0.07</td>\n",
       "    </tr>\n",
       "    <tr>\n",
       "      <th>Hornet Sportabout</th>\n",
       "      <td>0</td>\n",
       "      <td>0.12</td>\n",
       "    </tr>\n",
       "  </tbody>\n",
       "</table>\n",
       "</div>"
      ],
      "text/plain": [
       "                   am     0\n",
       "Mazda RX4           1  0.75\n",
       "Mazda RX4 Wag       1  0.34\n",
       "Datsun 710          1  0.98\n",
       "Hornet 4 Drive      0  0.07\n",
       "Hornet Sportabout   0  0.12"
      ]
     },
     "execution_count": 195,
     "metadata": {},
     "output_type": "execute_result"
    }
   ],
   "source": [
    "print(type(y), type(y_predLG2))\n",
    "pd.concat([y, y_predLG2], axis=1).head()"
   ]
  },
  {
   "cell_type": "code",
   "execution_count": 208,
   "id": "9291402b",
   "metadata": {},
   "outputs": [],
   "source": [
    "from sklearn.metrics import log_loss, roc_auc_score, recall_score, precision_score, average_precision_score, f1_score, classification_report, accuracy_score"
   ]
  },
  {
   "cell_type": "code",
   "execution_count": 212,
   "id": "065d1894",
   "metadata": {},
   "outputs": [
    {
     "data": {
      "text/plain": [
       "0.1367269573716344"
      ]
     },
     "execution_count": 212,
     "metadata": {},
     "output_type": "execute_result"
    }
   ],
   "source": [
    "log_loss(y, y_predLG2)"
   ]
  },
  {
   "cell_type": "code",
   "execution_count": 227,
   "id": "7ba33476",
   "metadata": {},
   "outputs": [
    {
     "name": "stdout",
     "output_type": "stream",
     "text": [
      "Log loss = 0.13673\n",
      "AUC = 0.98785\n",
      "Average Precision = 0.98218\n"
     ]
    }
   ],
   "source": [
    "print('Log loss = {:.5f}'.format(log_loss(y, y_predLG2)))\n",
    "print('AUC = {:.5f}'.format(roc_auc_score(y, y_predLG2)))\n",
    "print('Average Precision = {:.5f}'.format(average_precision_score(y, y_predLG2)))"
   ]
  },
  {
   "cell_type": "code",
   "execution_count": 157,
   "id": "61fad293",
   "metadata": {},
   "outputs": [],
   "source": [
    "#try this exercise \n",
    "# https://heds.nz/posts/logistic-regression-python/\n",
    "# https://www.justintodata.com/logistic-regression-example-in-python/"
   ]
  },
  {
   "cell_type": "markdown",
   "id": "32dba77e",
   "metadata": {},
   "source": [
    "### end here"
   ]
  }
 ],
 "metadata": {
  "kernelspec": {
   "display_name": "Python 3 (ipykernel)",
   "language": "python",
   "name": "python3"
  },
  "language_info": {
   "codemirror_mode": {
    "name": "ipython",
    "version": 3
   },
   "file_extension": ".py",
   "mimetype": "text/x-python",
   "name": "python",
   "nbconvert_exporter": "python",
   "pygments_lexer": "ipython3",
   "version": "3.10.9"
  }
 },
 "nbformat": 4,
 "nbformat_minor": 5
}
