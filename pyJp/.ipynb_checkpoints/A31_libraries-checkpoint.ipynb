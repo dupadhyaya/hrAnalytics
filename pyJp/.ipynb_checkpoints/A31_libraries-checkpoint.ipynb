{
 "cells": [
  {
   "cell_type": "markdown",
   "id": "4b90b4f2",
   "metadata": {},
   "source": [
    "# Libraries in Python"
   ]
  },
  {
   "cell_type": "markdown",
   "id": "c9bab9d9",
   "metadata": {},
   "source": [
    "# Install\n",
    "-  Install from pip\n",
    "    -  pip install package_name\n",
    "    \n",
    "\n",
    "# Uninstall from system\n",
    "-  pip uninstall package_name"
   ]
  },
  {
   "cell_type": "markdown",
   "id": "c551370e",
   "metadata": {},
   "source": [
    "# Import Library\n",
    "https://codeberryschool.com/blog/en/how-to-import-a-library-in-python/\n",
    "\n",
    "-  Intire Libary\n",
    "    -  import random\n",
    "-  Specific Module from Library\n",
    "    -  from random import randint\n",
    "-  Import Library Module as an alias\n",
    "    -  from matplotlib.pyplot as plt"
   ]
  },
  {
   "cell_type": "code",
   "execution_count": null,
   "id": "8b69c49e",
   "metadata": {},
   "outputs": [],
   "source": []
  }
 ],
 "metadata": {
  "kernelspec": {
   "display_name": "Python 3 (ipykernel)",
   "language": "python",
   "name": "python3"
  },
  "language_info": {
   "codemirror_mode": {
    "name": "ipython",
    "version": 3
   },
   "file_extension": ".py",
   "mimetype": "text/x-python",
   "name": "python",
   "nbconvert_exporter": "python",
   "pygments_lexer": "ipython3",
   "version": "3.9.16"
  }
 },
 "nbformat": 4,
 "nbformat_minor": 5
}
