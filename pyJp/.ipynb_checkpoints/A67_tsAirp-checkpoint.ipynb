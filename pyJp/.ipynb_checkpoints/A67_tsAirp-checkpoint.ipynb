{
 "cells": [
  {
   "cell_type": "markdown",
   "id": "040ebf8d-326d-4db5-b740-4b22be5026c2",
   "metadata": {},
   "source": [
    "# Time Series : Data Sets\n",
    "-  "
   ]
  },
  {
   "cell_type": "code",
   "execution_count": 43,
   "id": "2cde6b88-b8f7-4999-aca7-283bce6a87f1",
   "metadata": {},
   "outputs": [],
   "source": [
    "import numpy as np\n",
    "import pandas as pd\n",
    "import matplotlib.pyplot as plt\n",
    "import seaborn as sns\n",
    "from pydataset import data\n",
    "from datetime import datetime, timedelta\n",
    "import math"
   ]
  },
  {
   "cell_type": "code",
   "execution_count": 32,
   "id": "85e4ce43-9aa1-4405-b26e-9c3539fb913c",
   "metadata": {},
   "outputs": [
    {
     "name": "stdout",
     "output_type": "stream",
     "text": [
      "      dataset_id                                        title\n",
      "0  AirPassengers  Monthly Airline Passenger Numbers 1949-1960\n",
      "1        BJsales            Sales Data with Leading Indicator\n",
      "2            BOD                    Biochemical Oxygen Demand\n",
      "3   Formaldehyde                Determination of Formaldehyde\n",
      "4   HairEyeColor    Hair and Eye Color of Statistics Students <class 'pandas.core.frame.DataFrame'>\n"
     ]
    }
   ],
   "source": [
    "dsets = data()\n",
    "print(dsets.head(), type(dsets))"
   ]
  },
  {
   "cell_type": "code",
   "execution_count": 33,
   "id": "edbb41d1-ffaa-4065-8410-bd4ddc551858",
   "metadata": {},
   "outputs": [
    {
     "data": {
      "text/html": [
       "<div>\n",
       "<style scoped>\n",
       "    .dataframe tbody tr th:only-of-type {\n",
       "        vertical-align: middle;\n",
       "    }\n",
       "\n",
       "    .dataframe tbody tr th {\n",
       "        vertical-align: top;\n",
       "    }\n",
       "\n",
       "    .dataframe thead th {\n",
       "        text-align: right;\n",
       "    }\n",
       "</style>\n",
       "<table border=\"1\" class=\"dataframe\">\n",
       "  <thead>\n",
       "    <tr style=\"text-align: right;\">\n",
       "      <th></th>\n",
       "      <th>dataset_id</th>\n",
       "      <th>title</th>\n",
       "    </tr>\n",
       "  </thead>\n",
       "  <tbody>\n",
       "    <tr>\n",
       "      <th>0</th>\n",
       "      <td>AirPassengers</td>\n",
       "      <td>Monthly Airline Passenger Numbers 1949-1960</td>\n",
       "    </tr>\n",
       "    <tr>\n",
       "      <th>4</th>\n",
       "      <td>HairEyeColor</td>\n",
       "      <td>Hair and Eye Color of Statistics Students</td>\n",
       "    </tr>\n",
       "    <tr>\n",
       "      <th>25</th>\n",
       "      <td>airmiles</td>\n",
       "      <td>Passenger Miles on Commercial US Airlines, 1937-1960</td>\n",
       "    </tr>\n",
       "    <tr>\n",
       "      <th>26</th>\n",
       "      <td>airquality</td>\n",
       "      <td>New York Air Quality Measurements</td>\n",
       "    </tr>\n",
       "    <tr>\n",
       "      <th>73</th>\n",
       "      <td>aircondit</td>\n",
       "      <td>Failures of Air-conditioning Equipment</td>\n",
       "    </tr>\n",
       "    <tr>\n",
       "      <th>74</th>\n",
       "      <td>aircondit7</td>\n",
       "      <td>Failures of Air-conditioning Equipment</td>\n",
       "    </tr>\n",
       "    <tr>\n",
       "      <th>148</th>\n",
       "      <td>NOxEmissions</td>\n",
       "      <td>NOx Air Pollution Data</td>\n",
       "    </tr>\n",
       "    <tr>\n",
       "      <th>150</th>\n",
       "      <td>aircraft</td>\n",
       "      <td>Aircraft Data</td>\n",
       "    </tr>\n",
       "    <tr>\n",
       "      <th>151</th>\n",
       "      <td>airmay</td>\n",
       "      <td>Air Quality Data</td>\n",
       "    </tr>\n",
       "    <tr>\n",
       "      <th>153</th>\n",
       "      <td>ambientNOxCH</td>\n",
       "      <td>Daily Means of NOx (mono-nitrogen oxides) in air</td>\n",
       "    </tr>\n",
       "    <tr>\n",
       "      <th>240</th>\n",
       "      <td>affairs</td>\n",
       "      <td>affairs</td>\n",
       "    </tr>\n",
       "    <tr>\n",
       "      <th>262</th>\n",
       "      <td>Airline</td>\n",
       "      <td>Cost for U.S. Airlines</td>\n",
       "    </tr>\n",
       "    <tr>\n",
       "      <th>263</th>\n",
       "      <td>Airq</td>\n",
       "      <td>Air Quality for Californian Metropolitan Areas</td>\n",
       "    </tr>\n",
       "    <tr>\n",
       "      <th>289</th>\n",
       "      <td>Fair</td>\n",
       "      <td>Extramarital Affairs Data</td>\n",
       "    </tr>\n",
       "    <tr>\n",
       "      <th>419</th>\n",
       "      <td>Wheat</td>\n",
       "      <td>Playfair's Data on Wages and the Price of Wheat</td>\n",
       "    </tr>\n",
       "    <tr>\n",
       "      <th>420</th>\n",
       "      <td>Wheat.monarchs</td>\n",
       "      <td>Playfair's Data on Wages and the Price of Wheat</td>\n",
       "    </tr>\n",
       "    <tr>\n",
       "      <th>423</th>\n",
       "      <td>ZeaMays</td>\n",
       "      <td>Darwin's Heights of Cross- and Self-fertilized Zea May Pairs</td>\n",
       "    </tr>\n",
       "    <tr>\n",
       "      <th>461</th>\n",
       "      <td>caith</td>\n",
       "      <td>Colours of Eyes and Hair of People in Caithness</td>\n",
       "    </tr>\n",
       "    <tr>\n",
       "      <th>644</th>\n",
       "      <td>GHQ</td>\n",
       "      <td>General Health Questionnaire</td>\n",
       "    </tr>\n",
       "    <tr>\n",
       "      <th>713</th>\n",
       "      <td>msq</td>\n",
       "      <td>75 mood items from the Motivational State Questionnaire for 3896 participants</td>\n",
       "    </tr>\n",
       "    <tr>\n",
       "      <th>735</th>\n",
       "      <td>summer</td>\n",
       "      <td>Air pollution data, separately for summer and winter months</td>\n",
       "    </tr>\n",
       "    <tr>\n",
       "      <th>737</th>\n",
       "      <td>winter</td>\n",
       "      <td>Air pollution data, separately for summer and winter months</td>\n",
       "    </tr>\n",
       "  </tbody>\n",
       "</table>\n",
       "</div>"
      ],
      "text/plain": [
       "         dataset_id  \\\n",
       "0     AirPassengers   \n",
       "4      HairEyeColor   \n",
       "25         airmiles   \n",
       "26       airquality   \n",
       "73        aircondit   \n",
       "74       aircondit7   \n",
       "148    NOxEmissions   \n",
       "150        aircraft   \n",
       "151          airmay   \n",
       "153    ambientNOxCH   \n",
       "240         affairs   \n",
       "262         Airline   \n",
       "263            Airq   \n",
       "289            Fair   \n",
       "419           Wheat   \n",
       "420  Wheat.monarchs   \n",
       "423         ZeaMays   \n",
       "461           caith   \n",
       "644             GHQ   \n",
       "713             msq   \n",
       "735          summer   \n",
       "737          winter   \n",
       "\n",
       "                                                                             title  \n",
       "0                                      Monthly Airline Passenger Numbers 1949-1960  \n",
       "4                                        Hair and Eye Color of Statistics Students  \n",
       "25                            Passenger Miles on Commercial US Airlines, 1937-1960  \n",
       "26                                               New York Air Quality Measurements  \n",
       "73                                          Failures of Air-conditioning Equipment  \n",
       "74                                          Failures of Air-conditioning Equipment  \n",
       "148                                                         NOx Air Pollution Data  \n",
       "150                                                                  Aircraft Data  \n",
       "151                                                               Air Quality Data  \n",
       "153                               Daily Means of NOx (mono-nitrogen oxides) in air  \n",
       "240                                                                        affairs  \n",
       "262                                                         Cost for U.S. Airlines  \n",
       "263                                 Air Quality for Californian Metropolitan Areas  \n",
       "289                                                      Extramarital Affairs Data  \n",
       "419                                Playfair's Data on Wages and the Price of Wheat  \n",
       "420                                Playfair's Data on Wages and the Price of Wheat  \n",
       "423                   Darwin's Heights of Cross- and Self-fertilized Zea May Pairs  \n",
       "461                                Colours of Eyes and Hair of People in Caithness  \n",
       "644                                                   General Health Questionnaire  \n",
       "713  75 mood items from the Motivational State Questionnaire for 3896 participants  \n",
       "735                    Air pollution data, separately for summer and winter months  \n",
       "737                    Air pollution data, separately for summer and winter months  "
      ]
     },
     "execution_count": 33,
     "metadata": {},
     "output_type": "execute_result"
    }
   ],
   "source": [
    "dsets[dsets['title'].str.contains(\"air\", case=False)]"
   ]
  },
  {
   "cell_type": "code",
   "execution_count": 34,
   "id": "319af51d-58da-4c0e-9d48-aca6c215f1f1",
   "metadata": {},
   "outputs": [
    {
     "data": {
      "text/plain": [
       "'Monthly Airline Passenger Numbers 1949-1960, Sales Data with Leading Indicator, Biochemical Oxygen Demand, Determination of Formaldehyde, Hair and Eye Color of Statistics Students, Effectiveness of In'"
      ]
     },
     "execution_count": 34,
     "metadata": {},
     "output_type": "execute_result"
    }
   ],
   "source": [
    "', '.join(data().title)[0:200]"
   ]
  },
  {
   "cell_type": "code",
   "execution_count": 35,
   "id": "165e6664-664a-4dd8-a25b-b2c51c84fea2",
   "metadata": {},
   "outputs": [
    {
     "data": {
      "text/html": [
       "<div>\n",
       "<style scoped>\n",
       "    .dataframe tbody tr th:only-of-type {\n",
       "        vertical-align: middle;\n",
       "    }\n",
       "\n",
       "    .dataframe tbody tr th {\n",
       "        vertical-align: top;\n",
       "    }\n",
       "\n",
       "    .dataframe thead th {\n",
       "        text-align: right;\n",
       "    }\n",
       "</style>\n",
       "<table border=\"1\" class=\"dataframe\">\n",
       "  <thead>\n",
       "    <tr style=\"text-align: right;\">\n",
       "      <th></th>\n",
       "      <th>Ozone</th>\n",
       "      <th>Solar.R</th>\n",
       "      <th>Wind</th>\n",
       "      <th>Temp</th>\n",
       "      <th>Month</th>\n",
       "      <th>Day</th>\n",
       "    </tr>\n",
       "  </thead>\n",
       "  <tbody>\n",
       "    <tr>\n",
       "      <th>1</th>\n",
       "      <td>41.0</td>\n",
       "      <td>190.0</td>\n",
       "      <td>7.4</td>\n",
       "      <td>67</td>\n",
       "      <td>5</td>\n",
       "      <td>1</td>\n",
       "    </tr>\n",
       "    <tr>\n",
       "      <th>2</th>\n",
       "      <td>36.0</td>\n",
       "      <td>118.0</td>\n",
       "      <td>8.0</td>\n",
       "      <td>72</td>\n",
       "      <td>5</td>\n",
       "      <td>2</td>\n",
       "    </tr>\n",
       "    <tr>\n",
       "      <th>3</th>\n",
       "      <td>12.0</td>\n",
       "      <td>149.0</td>\n",
       "      <td>12.6</td>\n",
       "      <td>74</td>\n",
       "      <td>5</td>\n",
       "      <td>3</td>\n",
       "    </tr>\n",
       "    <tr>\n",
       "      <th>4</th>\n",
       "      <td>18.0</td>\n",
       "      <td>313.0</td>\n",
       "      <td>11.5</td>\n",
       "      <td>62</td>\n",
       "      <td>5</td>\n",
       "      <td>4</td>\n",
       "    </tr>\n",
       "    <tr>\n",
       "      <th>5</th>\n",
       "      <td>NaN</td>\n",
       "      <td>NaN</td>\n",
       "      <td>14.3</td>\n",
       "      <td>56</td>\n",
       "      <td>5</td>\n",
       "      <td>5</td>\n",
       "    </tr>\n",
       "  </tbody>\n",
       "</table>\n",
       "</div>"
      ],
      "text/plain": [
       "   Ozone  Solar.R  Wind  Temp  Month  Day\n",
       "1   41.0    190.0   7.4    67      5    1\n",
       "2   36.0    118.0   8.0    72      5    2\n",
       "3   12.0    149.0  12.6    74      5    3\n",
       "4   18.0    313.0  11.5    62      5    4\n",
       "5    NaN      NaN  14.3    56      5    5"
      ]
     },
     "execution_count": 35,
     "metadata": {},
     "output_type": "execute_result"
    }
   ],
   "source": [
    "airquality = data('airquality')\n",
    "airquality.head()"
   ]
  },
  {
   "cell_type": "code",
   "execution_count": 36,
   "id": "6130310b-4692-47de-b508-b5e90fc39227",
   "metadata": {},
   "outputs": [
    {
     "data": {
      "text/html": [
       "<div>\n",
       "<style scoped>\n",
       "    .dataframe tbody tr th:only-of-type {\n",
       "        vertical-align: middle;\n",
       "    }\n",
       "\n",
       "    .dataframe tbody tr th {\n",
       "        vertical-align: top;\n",
       "    }\n",
       "\n",
       "    .dataframe thead th {\n",
       "        text-align: right;\n",
       "    }\n",
       "</style>\n",
       "<table border=\"1\" class=\"dataframe\">\n",
       "  <thead>\n",
       "    <tr style=\"text-align: right;\">\n",
       "      <th></th>\n",
       "      <th>time</th>\n",
       "      <th>AirPassengers</th>\n",
       "    </tr>\n",
       "  </thead>\n",
       "  <tbody>\n",
       "    <tr>\n",
       "      <th>1</th>\n",
       "      <td>1949.000000</td>\n",
       "      <td>112</td>\n",
       "    </tr>\n",
       "    <tr>\n",
       "      <th>2</th>\n",
       "      <td>1949.083333</td>\n",
       "      <td>118</td>\n",
       "    </tr>\n",
       "    <tr>\n",
       "      <th>3</th>\n",
       "      <td>1949.166667</td>\n",
       "      <td>132</td>\n",
       "    </tr>\n",
       "    <tr>\n",
       "      <th>4</th>\n",
       "      <td>1949.250000</td>\n",
       "      <td>129</td>\n",
       "    </tr>\n",
       "    <tr>\n",
       "      <th>5</th>\n",
       "      <td>1949.333333</td>\n",
       "      <td>121</td>\n",
       "    </tr>\n",
       "  </tbody>\n",
       "</table>\n",
       "</div>"
      ],
      "text/plain": [
       "          time  AirPassengers\n",
       "1  1949.000000            112\n",
       "2  1949.083333            118\n",
       "3  1949.166667            132\n",
       "4  1949.250000            129\n",
       "5  1949.333333            121"
      ]
     },
     "execution_count": 36,
     "metadata": {},
     "output_type": "execute_result"
    }
   ],
   "source": [
    "airp = data('AirPassengers')\n",
    "airp.head()"
   ]
  },
  {
   "cell_type": "code",
   "execution_count": 37,
   "id": "efaaa00b-82aa-4bd4-abc5-951676caa303",
   "metadata": {},
   "outputs": [
    {
     "data": {
      "text/html": [
       "<div>\n",
       "<style scoped>\n",
       "    .dataframe tbody tr th:only-of-type {\n",
       "        vertical-align: middle;\n",
       "    }\n",
       "\n",
       "    .dataframe tbody tr th {\n",
       "        vertical-align: top;\n",
       "    }\n",
       "\n",
       "    .dataframe thead th {\n",
       "        text-align: right;\n",
       "    }\n",
       "</style>\n",
       "<table border=\"1\" class=\"dataframe\">\n",
       "  <thead>\n",
       "    <tr style=\"text-align: right;\">\n",
       "      <th></th>\n",
       "      <th>time</th>\n",
       "      <th>AirPassengers</th>\n",
       "    </tr>\n",
       "  </thead>\n",
       "  <tbody>\n",
       "    <tr>\n",
       "      <th>140</th>\n",
       "      <td>1960.583333</td>\n",
       "      <td>606</td>\n",
       "    </tr>\n",
       "    <tr>\n",
       "      <th>141</th>\n",
       "      <td>1960.666667</td>\n",
       "      <td>508</td>\n",
       "    </tr>\n",
       "    <tr>\n",
       "      <th>142</th>\n",
       "      <td>1960.750000</td>\n",
       "      <td>461</td>\n",
       "    </tr>\n",
       "    <tr>\n",
       "      <th>143</th>\n",
       "      <td>1960.833333</td>\n",
       "      <td>390</td>\n",
       "    </tr>\n",
       "    <tr>\n",
       "      <th>144</th>\n",
       "      <td>1960.916667</td>\n",
       "      <td>432</td>\n",
       "    </tr>\n",
       "  </tbody>\n",
       "</table>\n",
       "</div>"
      ],
      "text/plain": [
       "            time  AirPassengers\n",
       "140  1960.583333            606\n",
       "141  1960.666667            508\n",
       "142  1960.750000            461\n",
       "143  1960.833333            390\n",
       "144  1960.916667            432"
      ]
     },
     "execution_count": 37,
     "metadata": {},
     "output_type": "execute_result"
    }
   ],
   "source": [
    "airp.tail()"
   ]
  },
  {
   "cell_type": "code",
   "execution_count": 41,
   "id": "731c51d2-065c-4d4e-9858-d2761efb2f2c",
   "metadata": {},
   "outputs": [
    {
     "data": {
      "text/plain": [
       "datetime.datetime(1970, 1, 1, 6, 2, 29)"
      ]
     },
     "execution_count": 41,
     "metadata": {},
     "output_type": "execute_result"
    }
   ],
   "source": [
    "timestamp = datetime.fromtimestamp(1949)\n",
    "timestamp"
   ]
  },
  {
   "cell_type": "code",
   "execution_count": 42,
   "id": "ef2d2ae7-b8d1-4b9f-9c8c-dabae39209de",
   "metadata": {},
   "outputs": [
    {
     "name": "stdout",
     "output_type": "stream",
     "text": [
      "0.0 1949.0\n"
     ]
    }
   ],
   "source": [
    "import math\n",
    "frac, whole = math.modf(1949.00000)\n",
    "print(frac, whole)"
   ]
  },
  {
   "cell_type": "code",
   "execution_count": 44,
   "id": "56e2e5aa-73b9-4893-9f1a-598b69e0b799",
   "metadata": {},
   "outputs": [
    {
     "data": {
      "text/plain": [
       "datetime.datetime(1960, 7, 31, 21, 59, 49, 488001)"
      ]
     },
     "execution_count": 44,
     "metadata": {},
     "output_type": "execute_result"
    }
   ],
   "source": [
    "x=1960.583333\n",
    "datetime(int(x), 1, 1) + timedelta(days = (x % 1) * 365)"
   ]
  },
  {
   "cell_type": "code",
   "execution_count": 45,
   "id": "9ba48609-48bc-4e2d-90ca-fd6cb7786038",
   "metadata": {},
   "outputs": [],
   "source": [
    "airp['date']= airp['time'].apply(lambda x : datetime(int(x), 1, 1) + timedelta(days = (x % 1) * 365+1))"
   ]
  },
  {
   "cell_type": "code",
   "execution_count": 46,
   "id": "9a04b60e-bc72-43fe-afed-86edb9d3de11",
   "metadata": {},
   "outputs": [
    {
     "data": {
      "text/html": [
       "<div>\n",
       "<style scoped>\n",
       "    .dataframe tbody tr th:only-of-type {\n",
       "        vertical-align: middle;\n",
       "    }\n",
       "\n",
       "    .dataframe tbody tr th {\n",
       "        vertical-align: top;\n",
       "    }\n",
       "\n",
       "    .dataframe thead th {\n",
       "        text-align: right;\n",
       "    }\n",
       "</style>\n",
       "<table border=\"1\" class=\"dataframe\">\n",
       "  <thead>\n",
       "    <tr style=\"text-align: right;\">\n",
       "      <th></th>\n",
       "      <th>time</th>\n",
       "      <th>AirPassengers</th>\n",
       "      <th>date</th>\n",
       "    </tr>\n",
       "  </thead>\n",
       "  <tbody>\n",
       "    <tr>\n",
       "      <th>1</th>\n",
       "      <td>1949.000000</td>\n",
       "      <td>112</td>\n",
       "      <td>1949-01-02 00:00:00.000000</td>\n",
       "    </tr>\n",
       "    <tr>\n",
       "      <th>2</th>\n",
       "      <td>1949.083333</td>\n",
       "      <td>118</td>\n",
       "      <td>1949-02-01 09:59:59.999897</td>\n",
       "    </tr>\n",
       "    <tr>\n",
       "      <th>3</th>\n",
       "      <td>1949.166667</td>\n",
       "      <td>132</td>\n",
       "      <td>1949-03-03 20:00:00.000103</td>\n",
       "    </tr>\n",
       "    <tr>\n",
       "      <th>4</th>\n",
       "      <td>1949.250000</td>\n",
       "      <td>129</td>\n",
       "      <td>1949-04-03 06:00:00.000000</td>\n",
       "    </tr>\n",
       "    <tr>\n",
       "      <th>5</th>\n",
       "      <td>1949.333333</td>\n",
       "      <td>121</td>\n",
       "      <td>1949-05-03 15:59:59.999897</td>\n",
       "    </tr>\n",
       "  </tbody>\n",
       "</table>\n",
       "</div>"
      ],
      "text/plain": [
       "          time  AirPassengers                       date\n",
       "1  1949.000000            112 1949-01-02 00:00:00.000000\n",
       "2  1949.083333            118 1949-02-01 09:59:59.999897\n",
       "3  1949.166667            132 1949-03-03 20:00:00.000103\n",
       "4  1949.250000            129 1949-04-03 06:00:00.000000\n",
       "5  1949.333333            121 1949-05-03 15:59:59.999897"
      ]
     },
     "execution_count": 46,
     "metadata": {},
     "output_type": "execute_result"
    }
   ],
   "source": [
    "airp.head()"
   ]
  },
  {
   "cell_type": "code",
   "execution_count": 47,
   "id": "ef164c2c-0a10-4bca-927c-2a5b0abb517b",
   "metadata": {},
   "outputs": [],
   "source": [
    "airp['monYr'] = airp['date'].dt.strftime('%b-%Y')"
   ]
  },
  {
   "cell_type": "code",
   "execution_count": 48,
   "id": "e8219f82-1ce3-4b8b-968d-0de01ebbf713",
   "metadata": {},
   "outputs": [
    {
     "data": {
      "text/html": [
       "<div>\n",
       "<style scoped>\n",
       "    .dataframe tbody tr th:only-of-type {\n",
       "        vertical-align: middle;\n",
       "    }\n",
       "\n",
       "    .dataframe tbody tr th {\n",
       "        vertical-align: top;\n",
       "    }\n",
       "\n",
       "    .dataframe thead th {\n",
       "        text-align: right;\n",
       "    }\n",
       "</style>\n",
       "<table border=\"1\" class=\"dataframe\">\n",
       "  <thead>\n",
       "    <tr style=\"text-align: right;\">\n",
       "      <th></th>\n",
       "      <th>time</th>\n",
       "      <th>AirPassengers</th>\n",
       "      <th>date</th>\n",
       "      <th>monYr</th>\n",
       "    </tr>\n",
       "  </thead>\n",
       "  <tbody>\n",
       "    <tr>\n",
       "      <th>1</th>\n",
       "      <td>1949.000000</td>\n",
       "      <td>112</td>\n",
       "      <td>1949-01-02 00:00:00.000000</td>\n",
       "      <td>Jan-1949</td>\n",
       "    </tr>\n",
       "    <tr>\n",
       "      <th>2</th>\n",
       "      <td>1949.083333</td>\n",
       "      <td>118</td>\n",
       "      <td>1949-02-01 09:59:59.999897</td>\n",
       "      <td>Feb-1949</td>\n",
       "    </tr>\n",
       "    <tr>\n",
       "      <th>3</th>\n",
       "      <td>1949.166667</td>\n",
       "      <td>132</td>\n",
       "      <td>1949-03-03 20:00:00.000103</td>\n",
       "      <td>Mar-1949</td>\n",
       "    </tr>\n",
       "    <tr>\n",
       "      <th>4</th>\n",
       "      <td>1949.250000</td>\n",
       "      <td>129</td>\n",
       "      <td>1949-04-03 06:00:00.000000</td>\n",
       "      <td>Apr-1949</td>\n",
       "    </tr>\n",
       "    <tr>\n",
       "      <th>5</th>\n",
       "      <td>1949.333333</td>\n",
       "      <td>121</td>\n",
       "      <td>1949-05-03 15:59:59.999897</td>\n",
       "      <td>May-1949</td>\n",
       "    </tr>\n",
       "  </tbody>\n",
       "</table>\n",
       "</div>"
      ],
      "text/plain": [
       "          time  AirPassengers                       date     monYr\n",
       "1  1949.000000            112 1949-01-02 00:00:00.000000  Jan-1949\n",
       "2  1949.083333            118 1949-02-01 09:59:59.999897  Feb-1949\n",
       "3  1949.166667            132 1949-03-03 20:00:00.000103  Mar-1949\n",
       "4  1949.250000            129 1949-04-03 06:00:00.000000  Apr-1949\n",
       "5  1949.333333            121 1949-05-03 15:59:59.999897  May-1949"
      ]
     },
     "execution_count": 48,
     "metadata": {},
     "output_type": "execute_result"
    }
   ],
   "source": [
    "airp.head()"
   ]
  },
  {
   "cell_type": "code",
   "execution_count": 49,
   "id": "b534e75c-6fd7-4a5b-80b9-b27cbf65c4fa",
   "metadata": {},
   "outputs": [
    {
     "name": "stdout",
     "output_type": "stream",
     "text": [
      "<class 'pandas.core.frame.DataFrame'>\n",
      "Index: 144 entries, 1 to 144\n",
      "Data columns (total 4 columns):\n",
      " #   Column         Non-Null Count  Dtype         \n",
      "---  ------         --------------  -----         \n",
      " 0   time           144 non-null    float64       \n",
      " 1   AirPassengers  144 non-null    int64         \n",
      " 2   date           144 non-null    datetime64[ns]\n",
      " 3   monYr          144 non-null    object        \n",
      "dtypes: datetime64[ns](1), float64(1), int64(1), object(1)\n",
      "memory usage: 5.6+ KB\n"
     ]
    }
   ],
   "source": [
    "airp.info()"
   ]
  },
  {
   "cell_type": "code",
   "execution_count": 50,
   "id": "8588d406-4736-4228-9c24-dbe291e83910",
   "metadata": {},
   "outputs": [
    {
     "data": {
      "text/plain": [
       "1   1949-01-02 00:00:00.000000\n",
       "2   1949-02-01 09:59:59.999897\n",
       "3   1949-03-03 20:00:00.000103\n",
       "4   1949-04-03 06:00:00.000000\n",
       "5   1949-05-03 15:59:59.999897\n",
       "Name: date, dtype: datetime64[ns]"
      ]
     },
     "execution_count": 50,
     "metadata": {},
     "output_type": "execute_result"
    }
   ],
   "source": [
    "airp['date'].head()"
   ]
  },
  {
   "cell_type": "code",
   "execution_count": 51,
   "id": "e5116d6a-815e-44ff-86bb-2539c977dd1d",
   "metadata": {},
   "outputs": [
    {
     "data": {
      "text/plain": [
       "1    1949-01-02\n",
       "2    1949-02-01\n",
       "3    1949-03-03\n",
       "4    1949-04-03\n",
       "5    1949-05-03\n",
       "Name: date, dtype: object"
      ]
     },
     "execution_count": 51,
     "metadata": {},
     "output_type": "execute_result"
    }
   ],
   "source": [
    "airp['date'].dt.date.head()"
   ]
  },
  {
   "cell_type": "code",
   "execution_count": 52,
   "id": "834ac0bd-d16d-4e18-9acf-207f3b3895d1",
   "metadata": {},
   "outputs": [
    {
     "data": {
      "text/html": [
       "<div>\n",
       "<style scoped>\n",
       "    .dataframe tbody tr th:only-of-type {\n",
       "        vertical-align: middle;\n",
       "    }\n",
       "\n",
       "    .dataframe tbody tr th {\n",
       "        vertical-align: top;\n",
       "    }\n",
       "\n",
       "    .dataframe thead th {\n",
       "        text-align: right;\n",
       "    }\n",
       "</style>\n",
       "<table border=\"1\" class=\"dataframe\">\n",
       "  <thead>\n",
       "    <tr style=\"text-align: right;\">\n",
       "      <th></th>\n",
       "      <th>time</th>\n",
       "      <th>AirPassengers</th>\n",
       "      <th>date</th>\n",
       "      <th>monYr</th>\n",
       "    </tr>\n",
       "    <tr>\n",
       "      <th>date</th>\n",
       "      <th></th>\n",
       "      <th></th>\n",
       "      <th></th>\n",
       "      <th></th>\n",
       "    </tr>\n",
       "  </thead>\n",
       "  <tbody>\n",
       "    <tr>\n",
       "      <th>1949-01-02</th>\n",
       "      <td>1949.000000</td>\n",
       "      <td>112</td>\n",
       "      <td>1949-01-02 00:00:00.000000</td>\n",
       "      <td>Jan-1949</td>\n",
       "    </tr>\n",
       "    <tr>\n",
       "      <th>1949-02-01</th>\n",
       "      <td>1949.083333</td>\n",
       "      <td>118</td>\n",
       "      <td>1949-02-01 09:59:59.999897</td>\n",
       "      <td>Feb-1949</td>\n",
       "    </tr>\n",
       "    <tr>\n",
       "      <th>1949-03-03</th>\n",
       "      <td>1949.166667</td>\n",
       "      <td>132</td>\n",
       "      <td>1949-03-03 20:00:00.000103</td>\n",
       "      <td>Mar-1949</td>\n",
       "    </tr>\n",
       "    <tr>\n",
       "      <th>1949-04-03</th>\n",
       "      <td>1949.250000</td>\n",
       "      <td>129</td>\n",
       "      <td>1949-04-03 06:00:00.000000</td>\n",
       "      <td>Apr-1949</td>\n",
       "    </tr>\n",
       "    <tr>\n",
       "      <th>1949-05-03</th>\n",
       "      <td>1949.333333</td>\n",
       "      <td>121</td>\n",
       "      <td>1949-05-03 15:59:59.999897</td>\n",
       "      <td>May-1949</td>\n",
       "    </tr>\n",
       "  </tbody>\n",
       "</table>\n",
       "</div>"
      ],
      "text/plain": [
       "                   time  AirPassengers                       date     monYr\n",
       "date                                                                       \n",
       "1949-01-02  1949.000000            112 1949-01-02 00:00:00.000000  Jan-1949\n",
       "1949-02-01  1949.083333            118 1949-02-01 09:59:59.999897  Feb-1949\n",
       "1949-03-03  1949.166667            132 1949-03-03 20:00:00.000103  Mar-1949\n",
       "1949-04-03  1949.250000            129 1949-04-03 06:00:00.000000  Apr-1949\n",
       "1949-05-03  1949.333333            121 1949-05-03 15:59:59.999897  May-1949"
      ]
     },
     "execution_count": 52,
     "metadata": {},
     "output_type": "execute_result"
    }
   ],
   "source": [
    "airp.index = airp['date'].dt.date\n",
    "airp.head()"
   ]
  },
  {
   "cell_type": "code",
   "execution_count": 53,
   "id": "41514aa7-8b1b-4570-92f3-aa59a1f2c68e",
   "metadata": {},
   "outputs": [
    {
     "data": {
      "text/plain": [
       "DatetimeIndex(['1949-01-02', '1949-02-01', '1949-03-03', '1949-04-03',\n",
       "               '1949-05-03', '1949-06-03', '1949-07-03', '1949-08-02',\n",
       "               '1949-09-02', '1949-10-02',\n",
       "               ...\n",
       "               '1960-03-02', '1960-04-02', '1960-05-02', '1960-06-02',\n",
       "               '1960-07-02', '1960-08-01', '1960-09-01', '1960-10-01',\n",
       "               '1960-11-01', '1960-12-01'],\n",
       "              dtype='datetime64[ns]', name='date', length=144, freq=None)"
      ]
     },
     "execution_count": 53,
     "metadata": {},
     "output_type": "execute_result"
    }
   ],
   "source": [
    "airp.index = pd.to_datetime(airp.index)\n",
    "airp.index"
   ]
  },
  {
   "cell_type": "code",
   "execution_count": 54,
   "id": "5cd3b8c0-b82f-4706-a411-1be682180352",
   "metadata": {},
   "outputs": [
    {
     "data": {
      "text/html": [
       "<div>\n",
       "<style scoped>\n",
       "    .dataframe tbody tr th:only-of-type {\n",
       "        vertical-align: middle;\n",
       "    }\n",
       "\n",
       "    .dataframe tbody tr th {\n",
       "        vertical-align: top;\n",
       "    }\n",
       "\n",
       "    .dataframe thead th {\n",
       "        text-align: right;\n",
       "    }\n",
       "</style>\n",
       "<table border=\"1\" class=\"dataframe\">\n",
       "  <thead>\n",
       "    <tr style=\"text-align: right;\">\n",
       "      <th></th>\n",
       "      <th>time</th>\n",
       "      <th>AirPassengers</th>\n",
       "      <th>date</th>\n",
       "      <th>monYr</th>\n",
       "    </tr>\n",
       "    <tr>\n",
       "      <th>date</th>\n",
       "      <th></th>\n",
       "      <th></th>\n",
       "      <th></th>\n",
       "      <th></th>\n",
       "    </tr>\n",
       "  </thead>\n",
       "  <tbody>\n",
       "    <tr>\n",
       "      <th>1949-01-02</th>\n",
       "      <td>1949.000000</td>\n",
       "      <td>112</td>\n",
       "      <td>1949-01-02 00:00:00.000000</td>\n",
       "      <td>Jan-1949</td>\n",
       "    </tr>\n",
       "    <tr>\n",
       "      <th>1949-02-01</th>\n",
       "      <td>1949.083333</td>\n",
       "      <td>118</td>\n",
       "      <td>1949-02-01 09:59:59.999897</td>\n",
       "      <td>Feb-1949</td>\n",
       "    </tr>\n",
       "    <tr>\n",
       "      <th>1949-03-03</th>\n",
       "      <td>1949.166667</td>\n",
       "      <td>132</td>\n",
       "      <td>1949-03-03 20:00:00.000103</td>\n",
       "      <td>Mar-1949</td>\n",
       "    </tr>\n",
       "    <tr>\n",
       "      <th>1949-04-03</th>\n",
       "      <td>1949.250000</td>\n",
       "      <td>129</td>\n",
       "      <td>1949-04-03 06:00:00.000000</td>\n",
       "      <td>Apr-1949</td>\n",
       "    </tr>\n",
       "    <tr>\n",
       "      <th>1949-05-03</th>\n",
       "      <td>1949.333333</td>\n",
       "      <td>121</td>\n",
       "      <td>1949-05-03 15:59:59.999897</td>\n",
       "      <td>May-1949</td>\n",
       "    </tr>\n",
       "  </tbody>\n",
       "</table>\n",
       "</div>"
      ],
      "text/plain": [
       "                   time  AirPassengers                       date     monYr\n",
       "date                                                                       \n",
       "1949-01-02  1949.000000            112 1949-01-02 00:00:00.000000  Jan-1949\n",
       "1949-02-01  1949.083333            118 1949-02-01 09:59:59.999897  Feb-1949\n",
       "1949-03-03  1949.166667            132 1949-03-03 20:00:00.000103  Mar-1949\n",
       "1949-04-03  1949.250000            129 1949-04-03 06:00:00.000000  Apr-1949\n",
       "1949-05-03  1949.333333            121 1949-05-03 15:59:59.999897  May-1949"
      ]
     },
     "execution_count": 54,
     "metadata": {},
     "output_type": "execute_result"
    }
   ],
   "source": [
    "# resample or convert the freq to month/ Year\n",
    "airp.head()"
   ]
  },
  {
   "cell_type": "code",
   "execution_count": 55,
   "id": "177ccd44-18c5-474f-b740-1a71b1b47228",
   "metadata": {},
   "outputs": [
    {
     "data": {
      "text/plain": [
       "date\n",
       "1949-01-02    112\n",
       "1949-02-01    118\n",
       "1949-03-03    132\n",
       "1949-04-03    129\n",
       "1949-05-03    121\n",
       "Name: AirPassengers, dtype: int64"
      ]
     },
     "execution_count": 55,
     "metadata": {},
     "output_type": "execute_result"
    }
   ],
   "source": [
    "airp2 = airp['AirPassengers']\n",
    "airp2.head()"
   ]
  },
  {
   "cell_type": "code",
   "execution_count": 56,
   "id": "be866766-4b51-492a-9d9e-2a450c12b2d9",
   "metadata": {},
   "outputs": [
    {
     "data": {
      "text/plain": [
       "date\n",
       "1949-01-01    112\n",
       "1949-02-01    118\n",
       "1949-03-01    132\n",
       "1949-04-01    129\n",
       "1949-05-01    121\n",
       "Freq: MS, Name: AirPassengers, dtype: int64"
      ]
     },
     "execution_count": 56,
     "metadata": {},
     "output_type": "execute_result"
    }
   ],
   "source": [
    "airp3 = airp2.resample('MS').sum().sort_index(ascending=True)\n",
    "airp3.head()\n",
    "#now data is set for month freq calculations"
   ]
  },
  {
   "cell_type": "code",
   "execution_count": 57,
   "id": "4cdf5ebd-a442-43a3-a278-b081fc8b5136",
   "metadata": {},
   "outputs": [
    {
     "data": {
      "text/plain": [
       "<Axes: xlabel='date'>"
      ]
     },
     "execution_count": 57,
     "metadata": {},
     "output_type": "execute_result"
    },
    {
     "data": {
      "image/png": "[encoded data removed]",
      "text/plain": [
       "<Figure size 640x480 with 1 Axes>"
      ]
     },
     "metadata": {},
     "output_type": "display_data"
    }
   ],
   "source": [
    "airp3.plot()"
   ]
  },
  {
   "cell_type": "code",
   "execution_count": 58,
   "id": "8234049a-7333-485b-8b2b-7a4f16ccc28c",
   "metadata": {},
   "outputs": [
    {
     "data": {
      "image/png": "[encoded data removed]",
      "text/plain": [
       "<Figure size 1000x800 with 1 Axes>"
      ]
     },
     "metadata": {},
     "output_type": "display_data"
    }
   ],
   "source": [
    "plt.figure(figsize=(10,8))\n",
    "plt.xlabel('Date')\n",
    "plt.ylabel('Number Of Air Passengers')\n",
    "plt.plot(airp3)\n",
    "plt.show();"
   ]
  },
  {
   "cell_type": "code",
   "execution_count": 59,
   "id": "1278c2ef-8a91-440d-ba82-9546746bfe47",
   "metadata": {},
   "outputs": [],
   "source": [
    "#moving averages"
   ]
  },
  {
   "cell_type": "code",
   "execution_count": 60,
   "id": "776be262-12e4-4e16-9ed8-e59359666af0",
   "metadata": {},
   "outputs": [
    {
     "data": {
      "text/plain": [
       "date\n",
       "1949-01-01       NaN\n",
       "1949-02-01       NaN\n",
       "1949-03-01       NaN\n",
       "1949-04-01    122.75\n",
       "1949-05-01    125.00\n",
       "Freq: MS, Name: AirPassengers, dtype: float64"
      ]
     },
     "execution_count": 60,
     "metadata": {},
     "output_type": "execute_result"
    }
   ],
   "source": [
    "airp3.rolling(window=4).mean().head()"
   ]
  },
  {
   "cell_type": "code",
   "execution_count": 61,
   "id": "77c62636-8757-41d1-b2f0-f5db2daf45a6",
   "metadata": {},
   "outputs": [
    {
     "data": {
      "text/plain": [
       "<Axes: xlabel='date'>"
      ]
     },
     "execution_count": 61,
     "metadata": {},
     "output_type": "execute_result"
    },
    {
     "data": {
      "image/png": "[encoded data removed]",
      "text/plain": [
       "<Figure size 640x480 with 1 Axes>"
      ]
     },
     "metadata": {},
     "output_type": "display_data"
    }
   ],
   "source": [
    "airp3.rolling(window=4).mean().plot()"
   ]
  },
  {
   "cell_type": "markdown",
   "id": "b63cffd0-a0fe-4ec8-b888-7ff6bfb7e3cc",
   "metadata": {},
   "source": [
    "-  https://matplotlib.org/stable/api/_as_gen/matplotlib.axes.Axes.set.html\n"
   ]
  },
  {
   "cell_type": "code",
   "execution_count": 62,
   "id": "6b944574-3cf8-458c-bf15-1d4444c40ab7",
   "metadata": {},
   "outputs": [
    {
     "data": {
      "image/png": "[encoded data removed]",
      "text/plain": [
       "<Figure size 1000x600 with 1 Axes>"
      ]
     },
     "metadata": {},
     "output_type": "display_data"
    }
   ],
   "source": [
    "# Two lines\n",
    "rolling_avg = airp3.rolling(window=12).mean()\n",
    "#  Create the plot\n",
    "plt.figure(figsize=(10, 6))  # Adjust the figure size as needed\n",
    "plt.plot(airp3.index, airp3, label='Actual : Monthwise ')\n",
    "plt.plot(airp3.index, rolling_avg, label='Rolling Average : Year Average')\n",
    "plt.xlabel('Date')\n",
    "plt.ylabel('Value')\n",
    "plt.title('Time Series Plot with Rolling Average : Air Passengers')\n",
    "plt.legend()\n",
    "plt.grid(True)\n",
    "plt.show()"
   ]
  },
  {
   "cell_type": "code",
   "execution_count": 63,
   "id": "478c6048-a444-4b4c-bef6-ecb9d605fb9c",
   "metadata": {},
   "outputs": [
    {
     "name": "stderr",
     "output_type": "stream",
     "text": [
      "No artists with labels found to put in legend.  Note that artists whose label start with an underscore are ignored when legend() is called with no argument.\n",
      "No artists with labels found to put in legend.  Note that artists whose label start with an underscore are ignored when legend() is called with no argument.\n"
     ]
    },
    {
     "data": {
      "image/png": "[encoded data removed]",
      "text/plain": [
       "<Figure size 1200x800 with 2 Axes>"
      ]
     },
     "metadata": {},
     "output_type": "display_data"
    }
   ],
   "source": [
    "# Two lines\n",
    "rolling_avg = airp3.rolling(window=12).mean()\n",
    "#  Create the plot\n",
    "fig, axs = plt.subplots(nrows=1, ncols=2, sharey=True, sharex=True, figsize=(12,8), width_ratios=[.4, .6])\n",
    "axs[0].plot(airp3.index, airp3, color='red') #, label='Actual : Monthwise ')\n",
    "axs[1].plot(airp3.index, rolling_avg, color='tab:green') #, label='Rolling Average : Year Average')\n",
    "#axs[0].set_xlabel('Month/Year')\n",
    "#axs[0].set_ylabel('Count')\n",
    "fig.suptitle('Time Series Plot with Rolling Average : Air Passengers')\n",
    "axs[0].legend()\n",
    "axs[1].legend()\n",
    "for ax in axs.flat:    \n",
    "    ax.grid(True)\n",
    "plt.setp(axs[0], title='Actuals', ylabel='Count', xlabel='Month Year of Actual Data', facecolor='cyan')\n",
    "plt.setp(axs[1], title='Moving Average', ylabel='Count', xlabel='Month Year of MA', mouseover=True)\n",
    "\n",
    "plt.show();"
   ]
  },
  {
   "cell_type": "code",
   "execution_count": 64,
   "id": "7bebf668-cad3-43bd-b02f-b34fe6f7d284",
   "metadata": {},
   "outputs": [
    {
     "data": {
      "text/html": [
       "<div>\n",
       "<style scoped>\n",
       "    .dataframe tbody tr th:only-of-type {\n",
       "        vertical-align: middle;\n",
       "    }\n",
       "\n",
       "    .dataframe tbody tr th {\n",
       "        vertical-align: top;\n",
       "    }\n",
       "\n",
       "    .dataframe thead th {\n",
       "        text-align: right;\n",
       "    }\n",
       "</style>\n",
       "<table border=\"1\" class=\"dataframe\">\n",
       "  <thead>\n",
       "    <tr style=\"text-align: right;\">\n",
       "      <th></th>\n",
       "      <th>time</th>\n",
       "      <th>AirPassengers</th>\n",
       "      <th>date</th>\n",
       "      <th>monYr</th>\n",
       "    </tr>\n",
       "    <tr>\n",
       "      <th>date</th>\n",
       "      <th></th>\n",
       "      <th></th>\n",
       "      <th></th>\n",
       "      <th></th>\n",
       "    </tr>\n",
       "  </thead>\n",
       "  <tbody>\n",
       "    <tr>\n",
       "      <th>1949-01-02</th>\n",
       "      <td>1949.000000</td>\n",
       "      <td>112</td>\n",
       "      <td>1949-01-02 00:00:00.000000</td>\n",
       "      <td>Jan-1949</td>\n",
       "    </tr>\n",
       "    <tr>\n",
       "      <th>1949-02-01</th>\n",
       "      <td>1949.083333</td>\n",
       "      <td>118</td>\n",
       "      <td>1949-02-01 09:59:59.999897</td>\n",
       "      <td>Feb-1949</td>\n",
       "    </tr>\n",
       "    <tr>\n",
       "      <th>1949-03-03</th>\n",
       "      <td>1949.166667</td>\n",
       "      <td>132</td>\n",
       "      <td>1949-03-03 20:00:00.000103</td>\n",
       "      <td>Mar-1949</td>\n",
       "    </tr>\n",
       "    <tr>\n",
       "      <th>1949-04-03</th>\n",
       "      <td>1949.250000</td>\n",
       "      <td>129</td>\n",
       "      <td>1949-04-03 06:00:00.000000</td>\n",
       "      <td>Apr-1949</td>\n",
       "    </tr>\n",
       "    <tr>\n",
       "      <th>1949-05-03</th>\n",
       "      <td>1949.333333</td>\n",
       "      <td>121</td>\n",
       "      <td>1949-05-03 15:59:59.999897</td>\n",
       "      <td>May-1949</td>\n",
       "    </tr>\n",
       "  </tbody>\n",
       "</table>\n",
       "</div>"
      ],
      "text/plain": [
       "                   time  AirPassengers                       date     monYr\n",
       "date                                                                       \n",
       "1949-01-02  1949.000000            112 1949-01-02 00:00:00.000000  Jan-1949\n",
       "1949-02-01  1949.083333            118 1949-02-01 09:59:59.999897  Feb-1949\n",
       "1949-03-03  1949.166667            132 1949-03-03 20:00:00.000103  Mar-1949\n",
       "1949-04-03  1949.250000            129 1949-04-03 06:00:00.000000  Apr-1949\n",
       "1949-05-03  1949.333333            121 1949-05-03 15:59:59.999897  May-1949"
      ]
     },
     "execution_count": 64,
     "metadata": {},
     "output_type": "execute_result"
    }
   ],
   "source": [
    "# another way\n",
    "airp.head()"
   ]
  },
  {
   "cell_type": "code",
   "execution_count": 65,
   "id": "b6fc6df0-7f65-4b1d-a957-054df00d9756",
   "metadata": {},
   "outputs": [
    {
     "data": {
      "text/html": [
       "<div>\n",
       "<style scoped>\n",
       "    .dataframe tbody tr th:only-of-type {\n",
       "        vertical-align: middle;\n",
       "    }\n",
       "\n",
       "    .dataframe tbody tr th {\n",
       "        vertical-align: top;\n",
       "    }\n",
       "\n",
       "    .dataframe thead th {\n",
       "        text-align: right;\n",
       "    }\n",
       "</style>\n",
       "<table border=\"1\" class=\"dataframe\">\n",
       "  <thead>\n",
       "    <tr style=\"text-align: right;\">\n",
       "      <th></th>\n",
       "      <th>time</th>\n",
       "      <th>AirPassengers</th>\n",
       "      <th>date</th>\n",
       "      <th>monYr</th>\n",
       "    </tr>\n",
       "    <tr>\n",
       "      <th>date</th>\n",
       "      <th></th>\n",
       "      <th></th>\n",
       "      <th></th>\n",
       "      <th></th>\n",
       "    </tr>\n",
       "  </thead>\n",
       "  <tbody>\n",
       "    <tr>\n",
       "      <th>1949-01-02</th>\n",
       "      <td>1949.000000</td>\n",
       "      <td>112</td>\n",
       "      <td>1949-01-02 00:00:00.000000</td>\n",
       "      <td>Jan-1949</td>\n",
       "    </tr>\n",
       "    <tr>\n",
       "      <th>1949-02-01</th>\n",
       "      <td>1949.083333</td>\n",
       "      <td>118</td>\n",
       "      <td>1949-02-01 09:59:59.999897</td>\n",
       "      <td>Feb-1949</td>\n",
       "    </tr>\n",
       "    <tr>\n",
       "      <th>1949-03-03</th>\n",
       "      <td>1949.166667</td>\n",
       "      <td>132</td>\n",
       "      <td>1949-03-03 20:00:00.000103</td>\n",
       "      <td>Mar-1949</td>\n",
       "    </tr>\n",
       "    <tr>\n",
       "      <th>1949-04-03</th>\n",
       "      <td>1949.250000</td>\n",
       "      <td>129</td>\n",
       "      <td>1949-04-03 06:00:00.000000</td>\n",
       "      <td>Apr-1949</td>\n",
       "    </tr>\n",
       "    <tr>\n",
       "      <th>1949-05-03</th>\n",
       "      <td>1949.333333</td>\n",
       "      <td>121</td>\n",
       "      <td>1949-05-03 15:59:59.999897</td>\n",
       "      <td>May-1949</td>\n",
       "    </tr>\n",
       "  </tbody>\n",
       "</table>\n",
       "</div>"
      ],
      "text/plain": [
       "                   time  AirPassengers                       date     monYr\n",
       "date                                                                       \n",
       "1949-01-02  1949.000000            112 1949-01-02 00:00:00.000000  Jan-1949\n",
       "1949-02-01  1949.083333            118 1949-02-01 09:59:59.999897  Feb-1949\n",
       "1949-03-03  1949.166667            132 1949-03-03 20:00:00.000103  Mar-1949\n",
       "1949-04-03  1949.250000            129 1949-04-03 06:00:00.000000  Apr-1949\n",
       "1949-05-03  1949.333333            121 1949-05-03 15:59:59.999897  May-1949"
      ]
     },
     "execution_count": 65,
     "metadata": {},
     "output_type": "execute_result"
    }
   ],
   "source": [
    "airp5 = airp.copy()\n",
    "airp5.head()"
   ]
  },
  {
   "cell_type": "code",
   "execution_count": 69,
   "id": "794a58d5-70f2-4a72-9e65-ed3b506e8e84",
   "metadata": {},
   "outputs": [
    {
     "data": {
      "text/html": [
       "<div>\n",
       "<style scoped>\n",
       "    .dataframe tbody tr th:only-of-type {\n",
       "        vertical-align: middle;\n",
       "    }\n",
       "\n",
       "    .dataframe tbody tr th {\n",
       "        vertical-align: top;\n",
       "    }\n",
       "\n",
       "    .dataframe thead th {\n",
       "        text-align: right;\n",
       "    }\n",
       "</style>\n",
       "<table border=\"1\" class=\"dataframe\">\n",
       "  <thead>\n",
       "    <tr style=\"text-align: right;\">\n",
       "      <th></th>\n",
       "      <th>time</th>\n",
       "      <th>AirPassengers</th>\n",
       "      <th>date</th>\n",
       "      <th>monYr</th>\n",
       "      <th>date2</th>\n",
       "    </tr>\n",
       "    <tr>\n",
       "      <th>date</th>\n",
       "      <th></th>\n",
       "      <th></th>\n",
       "      <th></th>\n",
       "      <th></th>\n",
       "      <th></th>\n",
       "    </tr>\n",
       "  </thead>\n",
       "  <tbody>\n",
       "    <tr>\n",
       "      <th>1949-01-02</th>\n",
       "      <td>1949.000000</td>\n",
       "      <td>112</td>\n",
       "      <td>1949-01-02 00:00:00.000000</td>\n",
       "      <td>Jan-1949</td>\n",
       "      <td>1949-01-02</td>\n",
       "    </tr>\n",
       "    <tr>\n",
       "      <th>1949-02-01</th>\n",
       "      <td>1949.083333</td>\n",
       "      <td>118</td>\n",
       "      <td>1949-02-01 09:59:59.999897</td>\n",
       "      <td>Feb-1949</td>\n",
       "      <td>1949-02-01</td>\n",
       "    </tr>\n",
       "    <tr>\n",
       "      <th>1949-03-03</th>\n",
       "      <td>1949.166667</td>\n",
       "      <td>132</td>\n",
       "      <td>1949-03-03 20:00:00.000103</td>\n",
       "      <td>Mar-1949</td>\n",
       "      <td>1949-03-03</td>\n",
       "    </tr>\n",
       "    <tr>\n",
       "      <th>1949-04-03</th>\n",
       "      <td>1949.250000</td>\n",
       "      <td>129</td>\n",
       "      <td>1949-04-03 06:00:00.000000</td>\n",
       "      <td>Apr-1949</td>\n",
       "      <td>1949-04-03</td>\n",
       "    </tr>\n",
       "    <tr>\n",
       "      <th>1949-05-03</th>\n",
       "      <td>1949.333333</td>\n",
       "      <td>121</td>\n",
       "      <td>1949-05-03 15:59:59.999897</td>\n",
       "      <td>May-1949</td>\n",
       "      <td>1949-05-03</td>\n",
       "    </tr>\n",
       "  </tbody>\n",
       "</table>\n",
       "</div>"
      ],
      "text/plain": [
       "                   time  AirPassengers                       date     monYr  \\\n",
       "date                                                                          \n",
       "1949-01-02  1949.000000            112 1949-01-02 00:00:00.000000  Jan-1949   \n",
       "1949-02-01  1949.083333            118 1949-02-01 09:59:59.999897  Feb-1949   \n",
       "1949-03-03  1949.166667            132 1949-03-03 20:00:00.000103  Mar-1949   \n",
       "1949-04-03  1949.250000            129 1949-04-03 06:00:00.000000  Apr-1949   \n",
       "1949-05-03  1949.333333            121 1949-05-03 15:59:59.999897  May-1949   \n",
       "\n",
       "                date2  \n",
       "date                   \n",
       "1949-01-02 1949-01-02  \n",
       "1949-02-01 1949-02-01  \n",
       "1949-03-03 1949-03-03  \n",
       "1949-04-03 1949-04-03  \n",
       "1949-05-03 1949-05-03  "
      ]
     },
     "execution_count": 69,
     "metadata": {},
     "output_type": "execute_result"
    }
   ],
   "source": [
    "airp5['date2'] = airp5.index\n",
    "airp5.head()"
   ]
  },
  {
   "cell_type": "code",
   "execution_count": 73,
   "id": "ee3cabeb-bff2-4b77-b19f-6233ba00f443",
   "metadata": {},
   "outputs": [
    {
     "data": {
      "text/html": [
       "<div>\n",
       "<style scoped>\n",
       "    .dataframe tbody tr th:only-of-type {\n",
       "        vertical-align: middle;\n",
       "    }\n",
       "\n",
       "    .dataframe tbody tr th {\n",
       "        vertical-align: top;\n",
       "    }\n",
       "\n",
       "    .dataframe thead th {\n",
       "        text-align: right;\n",
       "    }\n",
       "</style>\n",
       "<table border=\"1\" class=\"dataframe\">\n",
       "  <thead>\n",
       "    <tr style=\"text-align: right;\">\n",
       "      <th></th>\n",
       "      <th>time</th>\n",
       "      <th>AirPassengers</th>\n",
       "      <th>date</th>\n",
       "      <th>monYr</th>\n",
       "      <th>date2</th>\n",
       "    </tr>\n",
       "  </thead>\n",
       "  <tbody>\n",
       "    <tr>\n",
       "      <th>0</th>\n",
       "      <td>1949.000000</td>\n",
       "      <td>112</td>\n",
       "      <td>1949-01-02 00:00:00.000000</td>\n",
       "      <td>Jan-1949</td>\n",
       "      <td>1949-01-02</td>\n",
       "    </tr>\n",
       "    <tr>\n",
       "      <th>1</th>\n",
       "      <td>1949.083333</td>\n",
       "      <td>118</td>\n",
       "      <td>1949-02-01 09:59:59.999897</td>\n",
       "      <td>Feb-1949</td>\n",
       "      <td>1949-02-01</td>\n",
       "    </tr>\n",
       "    <tr>\n",
       "      <th>2</th>\n",
       "      <td>1949.166667</td>\n",
       "      <td>132</td>\n",
       "      <td>1949-03-03 20:00:00.000103</td>\n",
       "      <td>Mar-1949</td>\n",
       "      <td>1949-03-03</td>\n",
       "    </tr>\n",
       "    <tr>\n",
       "      <th>3</th>\n",
       "      <td>1949.250000</td>\n",
       "      <td>129</td>\n",
       "      <td>1949-04-03 06:00:00.000000</td>\n",
       "      <td>Apr-1949</td>\n",
       "      <td>1949-04-03</td>\n",
       "    </tr>\n",
       "    <tr>\n",
       "      <th>4</th>\n",
       "      <td>1949.333333</td>\n",
       "      <td>121</td>\n",
       "      <td>1949-05-03 15:59:59.999897</td>\n",
       "      <td>May-1949</td>\n",
       "      <td>1949-05-03</td>\n",
       "    </tr>\n",
       "  </tbody>\n",
       "</table>\n",
       "</div>"
      ],
      "text/plain": [
       "          time  AirPassengers                       date     monYr      date2\n",
       "0  1949.000000            112 1949-01-02 00:00:00.000000  Jan-1949 1949-01-02\n",
       "1  1949.083333            118 1949-02-01 09:59:59.999897  Feb-1949 1949-02-01\n",
       "2  1949.166667            132 1949-03-03 20:00:00.000103  Mar-1949 1949-03-03\n",
       "3  1949.250000            129 1949-04-03 06:00:00.000000  Apr-1949 1949-04-03\n",
       "4  1949.333333            121 1949-05-03 15:59:59.999897  May-1949 1949-05-03"
      ]
     },
     "execution_count": 73,
     "metadata": {},
     "output_type": "execute_result"
    }
   ],
   "source": [
    "airp5.reset_index(drop=True, inplace=True)\n",
    "airp5.head()"
   ]
  },
  {
   "cell_type": "code",
   "execution_count": 74,
   "id": "c9bdf69c-993e-43c7-97c8-34f16c02ebc0",
   "metadata": {},
   "outputs": [
    {
     "name": "stdout",
     "output_type": "stream",
     "text": [
      "<class 'pandas.core.frame.DataFrame'>\n",
      "RangeIndex: 144 entries, 0 to 143\n",
      "Data columns (total 5 columns):\n",
      " #   Column         Non-Null Count  Dtype         \n",
      "---  ------         --------------  -----         \n",
      " 0   time           144 non-null    float64       \n",
      " 1   AirPassengers  144 non-null    int64         \n",
      " 2   date           144 non-null    datetime64[ns]\n",
      " 3   monYr          144 non-null    object        \n",
      " 4   date2          144 non-null    datetime64[ns]\n",
      "dtypes: datetime64[ns](2), float64(1), int64(1), object(1)\n",
      "memory usage: 5.8+ KB\n"
     ]
    }
   ],
   "source": [
    "airp5.info()"
   ]
  },
  {
   "cell_type": "code",
   "execution_count": 84,
   "id": "3742855f-5bba-4b2f-ab23-a0cdd76c4a21",
   "metadata": {},
   "outputs": [
    {
     "data": {
      "text/html": [
       "<div>\n",
       "<style scoped>\n",
       "    .dataframe tbody tr th:only-of-type {\n",
       "        vertical-align: middle;\n",
       "    }\n",
       "\n",
       "    .dataframe tbody tr th {\n",
       "        vertical-align: top;\n",
       "    }\n",
       "\n",
       "    .dataframe thead th {\n",
       "        text-align: right;\n",
       "    }\n",
       "</style>\n",
       "<table border=\"1\" class=\"dataframe\">\n",
       "  <thead>\n",
       "    <tr style=\"text-align: right;\">\n",
       "      <th></th>\n",
       "      <th>time</th>\n",
       "      <th>AirPassengers</th>\n",
       "      <th>date</th>\n",
       "      <th>monYr</th>\n",
       "      <th>date2</th>\n",
       "      <th>month</th>\n",
       "      <th>year</th>\n",
       "    </tr>\n",
       "  </thead>\n",
       "  <tbody>\n",
       "    <tr>\n",
       "      <th>0</th>\n",
       "      <td>1949.000000</td>\n",
       "      <td>112</td>\n",
       "      <td>1949-01-02 00:00:00.000000</td>\n",
       "      <td>Jan-1949</td>\n",
       "      <td>1949-01-02</td>\n",
       "      <td>1</td>\n",
       "      <td>1949</td>\n",
       "    </tr>\n",
       "    <tr>\n",
       "      <th>1</th>\n",
       "      <td>1949.083333</td>\n",
       "      <td>118</td>\n",
       "      <td>1949-02-01 09:59:59.999897</td>\n",
       "      <td>Feb-1949</td>\n",
       "      <td>1949-02-01</td>\n",
       "      <td>2</td>\n",
       "      <td>1949</td>\n",
       "    </tr>\n",
       "    <tr>\n",
       "      <th>2</th>\n",
       "      <td>1949.166667</td>\n",
       "      <td>132</td>\n",
       "      <td>1949-03-03 20:00:00.000103</td>\n",
       "      <td>Mar-1949</td>\n",
       "      <td>1949-03-03</td>\n",
       "      <td>3</td>\n",
       "      <td>1949</td>\n",
       "    </tr>\n",
       "    <tr>\n",
       "      <th>3</th>\n",
       "      <td>1949.250000</td>\n",
       "      <td>129</td>\n",
       "      <td>1949-04-03 06:00:00.000000</td>\n",
       "      <td>Apr-1949</td>\n",
       "      <td>1949-04-03</td>\n",
       "      <td>4</td>\n",
       "      <td>1949</td>\n",
       "    </tr>\n",
       "    <tr>\n",
       "      <th>4</th>\n",
       "      <td>1949.333333</td>\n",
       "      <td>121</td>\n",
       "      <td>1949-05-03 15:59:59.999897</td>\n",
       "      <td>May-1949</td>\n",
       "      <td>1949-05-03</td>\n",
       "      <td>5</td>\n",
       "      <td>1949</td>\n",
       "    </tr>\n",
       "  </tbody>\n",
       "</table>\n",
       "</div>"
      ],
      "text/plain": [
       "          time  AirPassengers                       date     monYr      date2  \\\n",
       "0  1949.000000            112 1949-01-02 00:00:00.000000  Jan-1949 1949-01-02   \n",
       "1  1949.083333            118 1949-02-01 09:59:59.999897  Feb-1949 1949-02-01   \n",
       "2  1949.166667            132 1949-03-03 20:00:00.000103  Mar-1949 1949-03-03   \n",
       "3  1949.250000            129 1949-04-03 06:00:00.000000  Apr-1949 1949-04-03   \n",
       "4  1949.333333            121 1949-05-03 15:59:59.999897  May-1949 1949-05-03   \n",
       "\n",
       "   month  year  \n",
       "0      1  1949  \n",
       "1      2  1949  \n",
       "2      3  1949  \n",
       "3      4  1949  \n",
       "4      5  1949  "
      ]
     },
     "execution_count": 84,
     "metadata": {},
     "output_type": "execute_result"
    }
   ],
   "source": [
    "import datetime as dt\n",
    "airp5['month']= airp5['date2'].dt.month\n",
    "airp5['year']= airp5['date2'].dt.year\n",
    "airp5.head()"
   ]
  },
  {
   "cell_type": "code",
   "execution_count": 92,
   "id": "8ab31736-c9e1-4ff6-a6f9-692ab217ccd7",
   "metadata": {},
   "outputs": [
    {
     "data": {
      "image/png": "[encoded data removed]",
      "text/plain": [
       "<Figure size 1000x600 with 1 Axes>"
      ]
     },
     "metadata": {},
     "output_type": "display_data"
    }
   ],
   "source": [
    "plt.figure(figsize=(10,6))\n",
    "sns.lineplot(data=airp5,  x='month', y='AirPassengers', hue='year')\n",
    "plt.xticks(range(13))\n",
    "plt.show();"
   ]
  },
  {
   "cell_type": "code",
   "execution_count": 99,
   "id": "f3cd855c-8d3c-4c8f-8e49-be4d2a2ad1a1",
   "metadata": {},
   "outputs": [
    {
     "data": {
      "text/html": [
       "<div>\n",
       "<style scoped>\n",
       "    .dataframe tbody tr th:only-of-type {\n",
       "        vertical-align: middle;\n",
       "    }\n",
       "\n",
       "    .dataframe tbody tr th {\n",
       "        vertical-align: top;\n",
       "    }\n",
       "\n",
       "    .dataframe thead th {\n",
       "        text-align: right;\n",
       "    }\n",
       "</style>\n",
       "<table border=\"1\" class=\"dataframe\">\n",
       "  <thead>\n",
       "    <tr style=\"text-align: right;\">\n",
       "      <th></th>\n",
       "      <th>date2</th>\n",
       "      <th>total</th>\n",
       "    </tr>\n",
       "  </thead>\n",
       "  <tbody>\n",
       "    <tr>\n",
       "      <th>0</th>\n",
       "      <td>1949-03-31</td>\n",
       "      <td>362</td>\n",
       "    </tr>\n",
       "    <tr>\n",
       "      <th>1</th>\n",
       "      <td>1949-06-30</td>\n",
       "      <td>385</td>\n",
       "    </tr>\n",
       "    <tr>\n",
       "      <th>2</th>\n",
       "      <td>1949-09-30</td>\n",
       "      <td>432</td>\n",
       "    </tr>\n",
       "    <tr>\n",
       "      <th>3</th>\n",
       "      <td>1949-12-31</td>\n",
       "      <td>341</td>\n",
       "    </tr>\n",
       "    <tr>\n",
       "      <th>4</th>\n",
       "      <td>1950-03-31</td>\n",
       "      <td>382</td>\n",
       "    </tr>\n",
       "    <tr>\n",
       "      <th>5</th>\n",
       "      <td>1950-06-30</td>\n",
       "      <td>409</td>\n",
       "    </tr>\n",
       "    <tr>\n",
       "      <th>6</th>\n",
       "      <td>1950-09-30</td>\n",
       "      <td>498</td>\n",
       "    </tr>\n",
       "    <tr>\n",
       "      <th>7</th>\n",
       "      <td>1950-12-31</td>\n",
       "      <td>387</td>\n",
       "    </tr>\n",
       "    <tr>\n",
       "      <th>8</th>\n",
       "      <td>1951-03-31</td>\n",
       "      <td>473</td>\n",
       "    </tr>\n",
       "    <tr>\n",
       "      <th>9</th>\n",
       "      <td>1951-06-30</td>\n",
       "      <td>513</td>\n",
       "    </tr>\n",
       "    <tr>\n",
       "      <th>10</th>\n",
       "      <td>1951-09-30</td>\n",
       "      <td>582</td>\n",
       "    </tr>\n",
       "    <tr>\n",
       "      <th>11</th>\n",
       "      <td>1951-12-31</td>\n",
       "      <td>474</td>\n",
       "    </tr>\n",
       "    <tr>\n",
       "      <th>12</th>\n",
       "      <td>1952-03-31</td>\n",
       "      <td>544</td>\n",
       "    </tr>\n",
       "    <tr>\n",
       "      <th>13</th>\n",
       "      <td>1952-06-30</td>\n",
       "      <td>582</td>\n",
       "    </tr>\n",
       "    <tr>\n",
       "      <th>14</th>\n",
       "      <td>1952-09-30</td>\n",
       "      <td>681</td>\n",
       "    </tr>\n",
       "    <tr>\n",
       "      <th>15</th>\n",
       "      <td>1952-12-31</td>\n",
       "      <td>557</td>\n",
       "    </tr>\n",
       "    <tr>\n",
       "      <th>16</th>\n",
       "      <td>1953-03-31</td>\n",
       "      <td>628</td>\n",
       "    </tr>\n",
       "    <tr>\n",
       "      <th>17</th>\n",
       "      <td>1953-06-30</td>\n",
       "      <td>707</td>\n",
       "    </tr>\n",
       "    <tr>\n",
       "      <th>18</th>\n",
       "      <td>1953-09-30</td>\n",
       "      <td>773</td>\n",
       "    </tr>\n",
       "    <tr>\n",
       "      <th>19</th>\n",
       "      <td>1953-12-31</td>\n",
       "      <td>592</td>\n",
       "    </tr>\n",
       "    <tr>\n",
       "      <th>20</th>\n",
       "      <td>1954-03-31</td>\n",
       "      <td>627</td>\n",
       "    </tr>\n",
       "    <tr>\n",
       "      <th>21</th>\n",
       "      <td>1954-06-30</td>\n",
       "      <td>725</td>\n",
       "    </tr>\n",
       "    <tr>\n",
       "      <th>22</th>\n",
       "      <td>1954-09-30</td>\n",
       "      <td>854</td>\n",
       "    </tr>\n",
       "    <tr>\n",
       "      <th>23</th>\n",
       "      <td>1954-12-31</td>\n",
       "      <td>661</td>\n",
       "    </tr>\n",
       "    <tr>\n",
       "      <th>24</th>\n",
       "      <td>1955-03-31</td>\n",
       "      <td>742</td>\n",
       "    </tr>\n",
       "    <tr>\n",
       "      <th>25</th>\n",
       "      <td>1955-06-30</td>\n",
       "      <td>854</td>\n",
       "    </tr>\n",
       "    <tr>\n",
       "      <th>26</th>\n",
       "      <td>1955-09-30</td>\n",
       "      <td>1023</td>\n",
       "    </tr>\n",
       "    <tr>\n",
       "      <th>27</th>\n",
       "      <td>1955-12-31</td>\n",
       "      <td>789</td>\n",
       "    </tr>\n",
       "    <tr>\n",
       "      <th>28</th>\n",
       "      <td>1956-03-31</td>\n",
       "      <td>878</td>\n",
       "    </tr>\n",
       "    <tr>\n",
       "      <th>29</th>\n",
       "      <td>1956-06-30</td>\n",
       "      <td>1005</td>\n",
       "    </tr>\n",
       "    <tr>\n",
       "      <th>30</th>\n",
       "      <td>1956-09-30</td>\n",
       "      <td>1173</td>\n",
       "    </tr>\n",
       "    <tr>\n",
       "      <th>31</th>\n",
       "      <td>1956-12-31</td>\n",
       "      <td>883</td>\n",
       "    </tr>\n",
       "    <tr>\n",
       "      <th>32</th>\n",
       "      <td>1957-03-31</td>\n",
       "      <td>972</td>\n",
       "    </tr>\n",
       "    <tr>\n",
       "      <th>33</th>\n",
       "      <td>1957-06-30</td>\n",
       "      <td>1125</td>\n",
       "    </tr>\n",
       "    <tr>\n",
       "      <th>34</th>\n",
       "      <td>1957-09-30</td>\n",
       "      <td>1336</td>\n",
       "    </tr>\n",
       "    <tr>\n",
       "      <th>35</th>\n",
       "      <td>1957-12-31</td>\n",
       "      <td>988</td>\n",
       "    </tr>\n",
       "    <tr>\n",
       "      <th>36</th>\n",
       "      <td>1958-03-31</td>\n",
       "      <td>1020</td>\n",
       "    </tr>\n",
       "    <tr>\n",
       "      <th>37</th>\n",
       "      <td>1958-06-30</td>\n",
       "      <td>1146</td>\n",
       "    </tr>\n",
       "    <tr>\n",
       "      <th>38</th>\n",
       "      <td>1958-09-30</td>\n",
       "      <td>1400</td>\n",
       "    </tr>\n",
       "    <tr>\n",
       "      <th>39</th>\n",
       "      <td>1958-12-31</td>\n",
       "      <td>1006</td>\n",
       "    </tr>\n",
       "    <tr>\n",
       "      <th>40</th>\n",
       "      <td>1959-03-31</td>\n",
       "      <td>1108</td>\n",
       "    </tr>\n",
       "    <tr>\n",
       "      <th>41</th>\n",
       "      <td>1959-06-30</td>\n",
       "      <td>1288</td>\n",
       "    </tr>\n",
       "    <tr>\n",
       "      <th>42</th>\n",
       "      <td>1959-09-30</td>\n",
       "      <td>1570</td>\n",
       "    </tr>\n",
       "    <tr>\n",
       "      <th>43</th>\n",
       "      <td>1959-12-31</td>\n",
       "      <td>1174</td>\n",
       "    </tr>\n",
       "    <tr>\n",
       "      <th>44</th>\n",
       "      <td>1960-03-31</td>\n",
       "      <td>1227</td>\n",
       "    </tr>\n",
       "    <tr>\n",
       "      <th>45</th>\n",
       "      <td>1960-06-30</td>\n",
       "      <td>1468</td>\n",
       "    </tr>\n",
       "    <tr>\n",
       "      <th>46</th>\n",
       "      <td>1960-09-30</td>\n",
       "      <td>1736</td>\n",
       "    </tr>\n",
       "    <tr>\n",
       "      <th>47</th>\n",
       "      <td>1960-12-31</td>\n",
       "      <td>1283</td>\n",
       "    </tr>\n",
       "  </tbody>\n",
       "</table>\n",
       "</div>"
      ],
      "text/plain": [
       "        date2  total\n",
       "0  1949-03-31    362\n",
       "1  1949-06-30    385\n",
       "2  1949-09-30    432\n",
       "3  1949-12-31    341\n",
       "4  1950-03-31    382\n",
       "5  1950-06-30    409\n",
       "6  1950-09-30    498\n",
       "7  1950-12-31    387\n",
       "8  1951-03-31    473\n",
       "9  1951-06-30    513\n",
       "10 1951-09-30    582\n",
       "11 1951-12-31    474\n",
       "12 1952-03-31    544\n",
       "13 1952-06-30    582\n",
       "14 1952-09-30    681\n",
       "15 1952-12-31    557\n",
       "16 1953-03-31    628\n",
       "17 1953-06-30    707\n",
       "18 1953-09-30    773\n",
       "19 1953-12-31    592\n",
       "20 1954-03-31    627\n",
       "21 1954-06-30    725\n",
       "22 1954-09-30    854\n",
       "23 1954-12-31    661\n",
       "24 1955-03-31    742\n",
       "25 1955-06-30    854\n",
       "26 1955-09-30   1023\n",
       "27 1955-12-31    789\n",
       "28 1956-03-31    878\n",
       "29 1956-06-30   1005\n",
       "30 1956-09-30   1173\n",
       "31 1956-12-31    883\n",
       "32 1957-03-31    972\n",
       "33 1957-06-30   1125\n",
       "34 1957-09-30   1336\n",
       "35 1957-12-31    988\n",
       "36 1958-03-31   1020\n",
       "37 1958-06-30   1146\n",
       "38 1958-09-30   1400\n",
       "39 1958-12-31   1006\n",
       "40 1959-03-31   1108\n",
       "41 1959-06-30   1288\n",
       "42 1959-09-30   1570\n",
       "43 1959-12-31   1174\n",
       "44 1960-03-31   1227\n",
       "45 1960-06-30   1468\n",
       "46 1960-09-30   1736\n",
       "47 1960-12-31   1283"
      ]
     },
     "execution_count": 99,
     "metadata": {},
     "output_type": "execute_result"
    }
   ],
   "source": [
    "airp5.groupby(pd.Grouper(key='date2', freq='Q')).agg(total = ('AirPassengers','sum')).reset_index()\n",
    "#quarterly sum"
   ]
  },
  {
   "cell_type": "code",
   "execution_count": 102,
   "id": "c0a01946-112e-4f50-9eaf-ab533ee94725",
   "metadata": {},
   "outputs": [
    {
     "data": {
      "text/html": [
       "<div>\n",
       "<style scoped>\n",
       "    .dataframe tbody tr th:only-of-type {\n",
       "        vertical-align: middle;\n",
       "    }\n",
       "\n",
       "    .dataframe tbody tr th {\n",
       "        vertical-align: top;\n",
       "    }\n",
       "\n",
       "    .dataframe thead th {\n",
       "        text-align: right;\n",
       "    }\n",
       "</style>\n",
       "<table border=\"1\" class=\"dataframe\">\n",
       "  <thead>\n",
       "    <tr style=\"text-align: right;\">\n",
       "      <th></th>\n",
       "      <th>date2</th>\n",
       "      <th>total</th>\n",
       "    </tr>\n",
       "  </thead>\n",
       "  <tbody>\n",
       "    <tr>\n",
       "      <th>0</th>\n",
       "      <td>1949-12-31</td>\n",
       "      <td>1520</td>\n",
       "    </tr>\n",
       "    <tr>\n",
       "      <th>1</th>\n",
       "      <td>1950-12-31</td>\n",
       "      <td>1676</td>\n",
       "    </tr>\n",
       "    <tr>\n",
       "      <th>2</th>\n",
       "      <td>1951-12-31</td>\n",
       "      <td>2042</td>\n",
       "    </tr>\n",
       "    <tr>\n",
       "      <th>3</th>\n",
       "      <td>1952-12-31</td>\n",
       "      <td>2364</td>\n",
       "    </tr>\n",
       "    <tr>\n",
       "      <th>4</th>\n",
       "      <td>1953-12-31</td>\n",
       "      <td>2700</td>\n",
       "    </tr>\n",
       "    <tr>\n",
       "      <th>5</th>\n",
       "      <td>1954-12-31</td>\n",
       "      <td>2867</td>\n",
       "    </tr>\n",
       "    <tr>\n",
       "      <th>6</th>\n",
       "      <td>1955-12-31</td>\n",
       "      <td>3408</td>\n",
       "    </tr>\n",
       "    <tr>\n",
       "      <th>7</th>\n",
       "      <td>1956-12-31</td>\n",
       "      <td>3939</td>\n",
       "    </tr>\n",
       "    <tr>\n",
       "      <th>8</th>\n",
       "      <td>1957-12-31</td>\n",
       "      <td>4421</td>\n",
       "    </tr>\n",
       "    <tr>\n",
       "      <th>9</th>\n",
       "      <td>1958-12-31</td>\n",
       "      <td>4572</td>\n",
       "    </tr>\n",
       "    <tr>\n",
       "      <th>10</th>\n",
       "      <td>1959-12-31</td>\n",
       "      <td>5140</td>\n",
       "    </tr>\n",
       "    <tr>\n",
       "      <th>11</th>\n",
       "      <td>1960-12-31</td>\n",
       "      <td>5714</td>\n",
       "    </tr>\n",
       "  </tbody>\n",
       "</table>\n",
       "</div>"
      ],
      "text/plain": [
       "        date2  total\n",
       "0  1949-12-31   1520\n",
       "1  1950-12-31   1676\n",
       "2  1951-12-31   2042\n",
       "3  1952-12-31   2364\n",
       "4  1953-12-31   2700\n",
       "5  1954-12-31   2867\n",
       "6  1955-12-31   3408\n",
       "7  1956-12-31   3939\n",
       "8  1957-12-31   4421\n",
       "9  1958-12-31   4572\n",
       "10 1959-12-31   5140\n",
       "11 1960-12-31   5714"
      ]
     },
     "execution_count": 102,
     "metadata": {},
     "output_type": "execute_result"
    }
   ],
   "source": [
    "airp5.groupby(pd.Grouper(key='date2', freq='Y')).agg(total = ('AirPassengers','sum')).reset_index()\n",
    "#yearly sum"
   ]
  },
  {
   "cell_type": "code",
   "execution_count": 103,
   "id": "46e79cf3-bf78-4805-84c1-7820c1244cad",
   "metadata": {},
   "outputs": [
    {
     "data": {
      "text/plain": [
       "<Axes: xlabel='date2'>"
      ]
     },
     "execution_count": 103,
     "metadata": {},
     "output_type": "execute_result"
    },
    {
     "data": {
      "image/png": "[encoded data removed]",
      "text/plain": [
       "<Figure size 640x480 with 1 Axes>"
      ]
     },
     "metadata": {},
     "output_type": "display_data"
    }
   ],
   "source": [
    "airp5.groupby(pd.Grouper(key='date2', freq='Y')).agg(total = ('AirPassengers','sum')).plot(kind='bar')"
   ]
  },
  {
   "cell_type": "markdown",
   "id": "eb88451f-7bca-4cac-8609-da1517605c34",
   "metadata": {},
   "source": [
    "# Grouper\n",
    "- https://pandas.pydata.org/docs/reference/api/pandas.Grouper.html"
   ]
  },
  {
   "cell_type": "markdown",
   "id": "4276e639-aba5-4bfd-af29-53e4f9df3c3d",
   "metadata": {},
   "source": [
    "# links\n",
    "- https://www.kaggle.com/code/sunaysawant/air-passengers-time-series-arima"
   ]
  },
  {
   "cell_type": "markdown",
   "id": "8c2585c9-8c77-4923-907a-642e8e0b5872",
   "metadata": {},
   "source": [
    "# now lets work with sample HR Data"
   ]
  },
  {
   "cell_type": "code",
   "execution_count": 109,
   "id": "6948c482-8c80-425f-8b71-d67507c43e5a",
   "metadata": {},
   "outputs": [],
   "source": [
    "from faker import Faker"
   ]
  },
  {
   "cell_type": "code",
   "execution_count": 112,
   "id": "dbdf6533-17dc-4429-ba42-80422e76d974",
   "metadata": {},
   "outputs": [
    {
     "data": {
      "text/plain": [
       "<faker.proxy.Faker at 0x1c6e2450e10>"
      ]
     },
     "execution_count": 112,
     "metadata": {},
     "output_type": "execute_result"
    }
   ],
   "source": [
    "fake = Faker('en_IN')\n",
    "fake"
   ]
  },
  {
   "cell_type": "code",
   "execution_count": 113,
   "id": "ab75b835-45e4-4049-9764-04c17831ea06",
   "metadata": {},
   "outputs": [],
   "source": [
    "def generate_random_date(start_date, end_date):\n",
    "    return fake.date_between_dates(date_start=start_date, date_end=end_date)"
   ]
  },
  {
   "cell_type": "code",
   "execution_count": 117,
   "id": "556714ca-92a0-4489-b5b1-505386c3ba69",
   "metadata": {},
   "outputs": [],
   "source": [
    "columnNames =['empcode', 'dept', 'name','DOB','DOJ']\n",
    "data=[]\n",
    "num_rows = 1000\n",
    "for _ in range(num_rows):\n",
    "    empcode = fake.unique.random_number(digits=5)\n",
    "    dept = fake.random_element(elements=('IB', 'RM', 'BPM'))\n",
    "    name = fake.name()\n",
    "    doj = generate_random_date(datetime(2020, 1, 1), datetime(2023, 1, 1)).strftime('%Y-%m-%d')\n",
    "    dob = generate_random_date(datetime(1960, 1, 1), datetime(2000, 1, 1)).strftime('%Y-%m-%d')\n",
    "    data.append([empcode, dept, name, dob, doj])\n",
    "df = pd.DataFrame(data, columns=columnNames)"
   ]
  },
  {
   "cell_type": "code",
   "execution_count": 118,
   "id": "5c01b7bf-bb8a-4a53-a396-b4ce4504da3b",
   "metadata": {},
   "outputs": [
    {
     "data": {
      "text/html": [
       "<div>\n",
       "<style scoped>\n",
       "    .dataframe tbody tr th:only-of-type {\n",
       "        vertical-align: middle;\n",
       "    }\n",
       "\n",
       "    .dataframe tbody tr th {\n",
       "        vertical-align: top;\n",
       "    }\n",
       "\n",
       "    .dataframe thead th {\n",
       "        text-align: right;\n",
       "    }\n",
       "</style>\n",
       "<table border=\"1\" class=\"dataframe\">\n",
       "  <thead>\n",
       "    <tr style=\"text-align: right;\">\n",
       "      <th></th>\n",
       "      <th>empcode</th>\n",
       "      <th>dept</th>\n",
       "      <th>name</th>\n",
       "      <th>DOB</th>\n",
       "      <th>DOJ</th>\n",
       "    </tr>\n",
       "  </thead>\n",
       "  <tbody>\n",
       "    <tr>\n",
       "      <th>0</th>\n",
       "      <td>61471</td>\n",
       "      <td>IB</td>\n",
       "      <td>Jayesh Devan</td>\n",
       "      <td>1988-11-12</td>\n",
       "      <td>2022-08-27</td>\n",
       "    </tr>\n",
       "    <tr>\n",
       "      <th>1</th>\n",
       "      <td>59452</td>\n",
       "      <td>IB</td>\n",
       "      <td>Stuvan Sharma</td>\n",
       "      <td>1980-12-24</td>\n",
       "      <td>2022-10-07</td>\n",
       "    </tr>\n",
       "    <tr>\n",
       "      <th>2</th>\n",
       "      <td>41678</td>\n",
       "      <td>RM</td>\n",
       "      <td>Shaan Vyas</td>\n",
       "      <td>1996-10-24</td>\n",
       "      <td>2020-02-14</td>\n",
       "    </tr>\n",
       "    <tr>\n",
       "      <th>3</th>\n",
       "      <td>47937</td>\n",
       "      <td>IB</td>\n",
       "      <td>Aradhya Ramesh</td>\n",
       "      <td>1971-04-12</td>\n",
       "      <td>2020-06-02</td>\n",
       "    </tr>\n",
       "    <tr>\n",
       "      <th>4</th>\n",
       "      <td>62249</td>\n",
       "      <td>IB</td>\n",
       "      <td>Mehul Dey</td>\n",
       "      <td>1987-11-24</td>\n",
       "      <td>2020-07-11</td>\n",
       "    </tr>\n",
       "    <tr>\n",
       "      <th>...</th>\n",
       "      <td>...</td>\n",
       "      <td>...</td>\n",
       "      <td>...</td>\n",
       "      <td>...</td>\n",
       "      <td>...</td>\n",
       "    </tr>\n",
       "    <tr>\n",
       "      <th>995</th>\n",
       "      <td>95003</td>\n",
       "      <td>IB</td>\n",
       "      <td>Pihu Balasubramanian</td>\n",
       "      <td>1979-02-14</td>\n",
       "      <td>2021-01-31</td>\n",
       "    </tr>\n",
       "    <tr>\n",
       "      <th>996</th>\n",
       "      <td>3879</td>\n",
       "      <td>BPM</td>\n",
       "      <td>Farhan Ravi</td>\n",
       "      <td>1998-11-24</td>\n",
       "      <td>2022-03-28</td>\n",
       "    </tr>\n",
       "    <tr>\n",
       "      <th>997</th>\n",
       "      <td>107</td>\n",
       "      <td>IB</td>\n",
       "      <td>Badal Shroff</td>\n",
       "      <td>1994-02-14</td>\n",
       "      <td>2022-10-20</td>\n",
       "    </tr>\n",
       "    <tr>\n",
       "      <th>998</th>\n",
       "      <td>26279</td>\n",
       "      <td>IB</td>\n",
       "      <td>Chirag Chatterjee</td>\n",
       "      <td>1980-02-23</td>\n",
       "      <td>2022-10-21</td>\n",
       "    </tr>\n",
       "    <tr>\n",
       "      <th>999</th>\n",
       "      <td>57600</td>\n",
       "      <td>BPM</td>\n",
       "      <td>Hridaan Sagar</td>\n",
       "      <td>1974-08-19</td>\n",
       "      <td>2020-02-01</td>\n",
       "    </tr>\n",
       "  </tbody>\n",
       "</table>\n",
       "<p>1000 rows × 5 columns</p>\n",
       "</div>"
      ],
      "text/plain": [
       "     empcode dept                  name         DOB         DOJ\n",
       "0      61471   IB          Jayesh Devan  1988-11-12  2022-08-27\n",
       "1      59452   IB         Stuvan Sharma  1980-12-24  2022-10-07\n",
       "2      41678   RM            Shaan Vyas  1996-10-24  2020-02-14\n",
       "3      47937   IB        Aradhya Ramesh  1971-04-12  2020-06-02\n",
       "4      62249   IB             Mehul Dey  1987-11-24  2020-07-11\n",
       "..       ...  ...                   ...         ...         ...\n",
       "995    95003   IB  Pihu Balasubramanian  1979-02-14  2021-01-31\n",
       "996     3879  BPM           Farhan Ravi  1998-11-24  2022-03-28\n",
       "997      107   IB          Badal Shroff  1994-02-14  2022-10-20\n",
       "998    26279   IB     Chirag Chatterjee  1980-02-23  2022-10-21\n",
       "999    57600  BPM         Hridaan Sagar  1974-08-19  2020-02-01\n",
       "\n",
       "[1000 rows x 5 columns]"
      ]
     },
     "execution_count": 118,
     "metadata": {},
     "output_type": "execute_result"
    }
   ],
   "source": [
    "df"
   ]
  },
  {
   "cell_type": "code",
   "execution_count": 120,
   "id": "e6180a52-b077-4ea5-808c-358e6c371859",
   "metadata": {},
   "outputs": [
    {
     "name": "stdout",
     "output_type": "stream",
     "text": [
      "<class 'pandas.core.frame.DataFrame'>\n",
      "RangeIndex: 1000 entries, 0 to 999\n",
      "Data columns (total 5 columns):\n",
      " #   Column   Non-Null Count  Dtype \n",
      "---  ------   --------------  ----- \n",
      " 0   empcode  1000 non-null   int64 \n",
      " 1   dept     1000 non-null   object\n",
      " 2   name     1000 non-null   object\n",
      " 3   DOB      1000 non-null   object\n",
      " 4   DOJ      1000 non-null   object\n",
      "dtypes: int64(1), object(4)\n",
      "memory usage: 39.2+ KB\n"
     ]
    }
   ],
   "source": [
    "# now rotate : Wide to Long if you want\n",
    "df.info()  #check format"
   ]
  },
  {
   "cell_type": "code",
   "execution_count": 123,
   "id": "dbfdb7c4-fc00-4563-9955-2387112d72d1",
   "metadata": {},
   "outputs": [],
   "source": [
    "import datetime as dt"
   ]
  },
  {
   "cell_type": "code",
   "execution_count": 126,
   "id": "4adf6537-69b4-4314-bcaa-65c46726c531",
   "metadata": {},
   "outputs": [],
   "source": [
    "#df['DOB'].dt.date"
   ]
  },
  {
   "cell_type": "code",
   "execution_count": 132,
   "id": "b595f8c9-ba0d-4a13-b66f-656e522fb460",
   "metadata": {},
   "outputs": [
    {
     "name": "stdout",
     "output_type": "stream",
     "text": [
      "<class 'pandas.core.frame.DataFrame'>\n",
      "RangeIndex: 1000 entries, 0 to 999\n",
      "Data columns (total 5 columns):\n",
      " #   Column   Non-Null Count  Dtype         \n",
      "---  ------   --------------  -----         \n",
      " 0   empcode  1000 non-null   int64         \n",
      " 1   dept     1000 non-null   object        \n",
      " 2   name     1000 non-null   object        \n",
      " 3   DOB      1000 non-null   datetime64[ns]\n",
      " 4   DOJ      1000 non-null   datetime64[ns]\n",
      "dtypes: datetime64[ns](2), int64(1), object(2)\n",
      "memory usage: 39.2+ KB\n"
     ]
    }
   ],
   "source": [
    "df['DOJ'] = pd.to_datetime(df['DOJ'], format='%Y-%m-%d')\n",
    "df['DOB'] = pd.to_datetime(df['DOB'], format='%Y-%m-%d')\n",
    "df.info()"
   ]
  },
  {
   "cell_type": "code",
   "execution_count": 133,
   "id": "c38f3004-680d-4314-b53e-e9d48ea7468c",
   "metadata": {},
   "outputs": [
    {
     "data": {
      "text/plain": [
       "0      2022\n",
       "1      2022\n",
       "2      2020\n",
       "3      2020\n",
       "4      2020\n",
       "       ... \n",
       "995    2021\n",
       "996    2022\n",
       "997    2022\n",
       "998    2022\n",
       "999    2020\n",
       "Name: DOJ, Length: 1000, dtype: int32"
      ]
     },
     "execution_count": 133,
     "metadata": {},
     "output_type": "execute_result"
    }
   ],
   "source": [
    "#in which year, how many joined\n",
    "df['DOJ'].dt.year"
   ]
  },
  {
   "cell_type": "code",
   "execution_count": 137,
   "id": "da083696-e1aa-4f32-b553-252103668768",
   "metadata": {},
   "outputs": [
    {
     "data": {
      "text/html": [
       "<div>\n",
       "<style scoped>\n",
       "    .dataframe tbody tr th:only-of-type {\n",
       "        vertical-align: middle;\n",
       "    }\n",
       "\n",
       "    .dataframe tbody tr th {\n",
       "        vertical-align: top;\n",
       "    }\n",
       "\n",
       "    .dataframe thead th {\n",
       "        text-align: right;\n",
       "    }\n",
       "</style>\n",
       "<table border=\"1\" class=\"dataframe\">\n",
       "  <thead>\n",
       "    <tr style=\"text-align: right;\">\n",
       "      <th></th>\n",
       "      <th>count</th>\n",
       "    </tr>\n",
       "    <tr>\n",
       "      <th>DOJ</th>\n",
       "      <th></th>\n",
       "    </tr>\n",
       "  </thead>\n",
       "  <tbody>\n",
       "    <tr>\n",
       "      <th>2020-12-31</th>\n",
       "      <td>339</td>\n",
       "    </tr>\n",
       "    <tr>\n",
       "      <th>2021-12-31</th>\n",
       "      <td>323</td>\n",
       "    </tr>\n",
       "    <tr>\n",
       "      <th>2022-12-31</th>\n",
       "      <td>338</td>\n",
       "    </tr>\n",
       "  </tbody>\n",
       "</table>\n",
       "</div>"
      ],
      "text/plain": [
       "            count\n",
       "DOJ              \n",
       "2020-12-31    339\n",
       "2021-12-31    323\n",
       "2022-12-31    338"
      ]
     },
     "execution_count": 137,
     "metadata": {},
     "output_type": "execute_result"
    }
   ],
   "source": [
    "df.groupby(pd.Grouper(key='DOJ', freq='Y')).agg(count=('empcode','count'))"
   ]
  },
  {
   "cell_type": "code",
   "execution_count": 139,
   "id": "32abdd3c-c093-4f67-96a7-3e984ff08f97",
   "metadata": {},
   "outputs": [
    {
     "data": {
      "text/plain": [
       "0      2022\n",
       "1      2022\n",
       "2      2020\n",
       "3      2020\n",
       "4      2020\n",
       "       ... \n",
       "995    2021\n",
       "996    2022\n",
       "997    2022\n",
       "998    2022\n",
       "999    2020\n",
       "Name: DOJ, Length: 1000, dtype: period[A-DEC]"
      ]
     },
     "execution_count": 139,
     "metadata": {},
     "output_type": "execute_result"
    }
   ],
   "source": [
    "df['DOJ'].dt.to_period('Y')"
   ]
  },
  {
   "cell_type": "code",
   "execution_count": 140,
   "id": "fb5ffbde-5d69-4218-98f1-50a742f1360d",
   "metadata": {},
   "outputs": [
    {
     "data": {
      "text/plain": [
       "0      2022\n",
       "1      2022\n",
       "2      2020\n",
       "3      2020\n",
       "4      2020\n",
       "       ... \n",
       "995    2021\n",
       "996    2022\n",
       "997    2022\n",
       "998    2022\n",
       "999    2020\n",
       "Name: DOJ, Length: 1000, dtype: int32"
      ]
     },
     "execution_count": 140,
     "metadata": {},
     "output_type": "execute_result"
    }
   ],
   "source": [
    "df['DOJ'].dt.year"
   ]
  },
  {
   "cell_type": "code",
   "execution_count": 144,
   "id": "a203255b-cb2d-4e4f-bdf8-67ed5037b7b4",
   "metadata": {},
   "outputs": [
    {
     "data": {
      "text/plain": [
       "0       2022-8\n",
       "1      2022-10\n",
       "2       2020-2\n",
       "3       2020-6\n",
       "4       2020-7\n",
       "        ...   \n",
       "995     2021-1\n",
       "996     2022-3\n",
       "997    2022-10\n",
       "998    2022-10\n",
       "999     2020-2\n",
       "Name: DOJ, Length: 1000, dtype: object"
      ]
     },
     "execution_count": 144,
     "metadata": {},
     "output_type": "execute_result"
    }
   ],
   "source": [
    "df['DOJ'].map(lambda x: str(x.year) + '-' + str(x.month))"
   ]
  },
  {
   "cell_type": "code",
   "execution_count": null,
   "id": "0c0441fa-1b2d-4f3d-90e2-d603102e3d56",
   "metadata": {},
   "outputs": [],
   "source": []
  }
 ],
 "metadata": {
  "kernelspec": {
   "display_name": "Python 3 (ipykernel)",
   "language": "python",
   "name": "python3"
  },
  "language_info": {
   "codemirror_mode": {
    "name": "ipython",
    "version": 3
   },
   "file_extension": ".py",
   "mimetype": "text/x-python",
   "name": "python",
   "nbconvert_exporter": "python",
   "pygments_lexer": "ipython3",
   "version": "3.11.8"
  }
 },
 "nbformat": 4,
 "nbformat_minor": 5
}
