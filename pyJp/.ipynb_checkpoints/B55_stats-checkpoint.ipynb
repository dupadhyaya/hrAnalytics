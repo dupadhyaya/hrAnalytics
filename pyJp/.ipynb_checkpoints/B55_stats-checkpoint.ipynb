{
 "cells": [
  {
   "cell_type": "markdown",
   "id": "de799f7e-1dae-4005-8460-957c3a102235",
   "metadata": {},
   "source": [
    "# B55 Statistical Tests\n",
    "-  Statistical tests are used in hypothesis testing. In general, they can be used to:\n",
    "    -  determine whether an input variable has a statistically significant relationship with an output (target) variable.\n",
    "    -  estimate the difference between two or more group\n",
    "-  The idea of how a statistical test works is quite simple: they assume that a particular situation occurs, and then they estimate how likely this assumption is to be false\n",
    "-  Hypothesis\n",
    "-  Statistical Values\n",
    "\n",
    "## Links\n",
    "-   https://towardsdatascience.com/anova-t-test-and-other-statistical-tests-with-python-e7a36a2fdc0c\n",
    "-   https://machinelearningmastery.com/statistical-hypothesis-tests-in-python-cheat-sheet/"
   ]
  },
  {
   "cell_type": "code",
   "execution_count": null,
   "id": "dffcc6e6-ba42-48ac-8411-9c5d04302801",
   "metadata": {},
   "outputs": [],
   "source": [
    "import scipy\n",
    "#https://scipy.org/\n",
    "#https://docs.scipy.org/doc/scipy/tutorial/index.html#user-guide\n",
    "print(scipy.__version__)"
   ]
  },
  {
   "cell_type": "code",
   "execution_count": 31,
   "id": "f3060669-7052-4b59-bede-5f43879fcb73",
   "metadata": {
    "tags": []
   },
   "outputs": [],
   "source": [
    "import numpy as np\n",
    "import pandas as pd\n",
    "import seaborn as sns"
   ]
  },
  {
   "cell_type": "code",
   "execution_count": 32,
   "id": "687ab506-5418-47d8-9d8a-627ef22fe52b",
   "metadata": {
    "tags": []
   },
   "outputs": [
    {
     "name": "stdout",
     "output_type": "stream",
     "text": [
      "<class 'pandas.core.frame.DataFrame'>\n",
      "Index: 32 entries, Mazda RX4 to Volvo 142E\n",
      "Data columns (total 11 columns):\n",
      " #   Column  Non-Null Count  Dtype  \n",
      "---  ------  --------------  -----  \n",
      " 0   mpg     32 non-null     float64\n",
      " 1   cyl     32 non-null     int64  \n",
      " 2   disp    32 non-null     float64\n",
      " 3   hp      32 non-null     int64  \n",
      " 4   drat    32 non-null     float64\n",
      " 5   wt      32 non-null     float64\n",
      " 6   qsec    32 non-null     float64\n",
      " 7   vs      32 non-null     int64  \n",
      " 8   am      32 non-null     int64  \n",
      " 9   gear    32 non-null     int64  \n",
      " 10  carb    32 non-null     int64  \n",
      "dtypes: float64(5), int64(6)\n",
      "memory usage: 3.0+ KB\n"
     ]
    }
   ],
   "source": [
    "from pydataset import data\n",
    "mtcars = data('mtcars')\n",
    "mtcars.info()\n",
    "df = mtcars.copy()"
   ]
  },
  {
   "cell_type": "code",
   "execution_count": 37,
   "id": "f1214e2a-c78d-4fed-b2c8-528905b629e4",
   "metadata": {
    "tags": []
   },
   "outputs": [],
   "source": [
    "# https://pandas.pydata.org/docs/user_guide/options.html\n",
    "pd.set_option('display.max_columns', None)\n",
    "pd.set_option('max_colwidth', None)\n",
    "pd.set_option(\"expand_frame_repr\", True)\n",
    "pd.set_option(\"max_info_columns\", 11)\n",
    "pd.set_option(\"display.precision\", 3)\n",
    "pd.set_option('display.width', 1000)  #wrap with full display"
   ]
  },
  {
   "cell_type": "code",
   "execution_count": 38,
   "id": "8653ffc1-30ef-4af7-bdf2-025cfa1e981d",
   "metadata": {
    "tags": []
   },
   "outputs": [
    {
     "data": {
      "text/html": [
       "<div>\n",
       "<style scoped>\n",
       "    .dataframe tbody tr th:only-of-type {\n",
       "        vertical-align: middle;\n",
       "    }\n",
       "\n",
       "    .dataframe tbody tr th {\n",
       "        vertical-align: top;\n",
       "    }\n",
       "\n",
       "    .dataframe thead th {\n",
       "        text-align: right;\n",
       "    }\n",
       "</style>\n",
       "<table border=\"1\" class=\"dataframe\">\n",
       "  <thead>\n",
       "    <tr style=\"text-align: right;\">\n",
       "      <th></th>\n",
       "      <th>mpg</th>\n",
       "      <th>cyl</th>\n",
       "      <th>disp</th>\n",
       "      <th>hp</th>\n",
       "      <th>drat</th>\n",
       "      <th>wt</th>\n",
       "      <th>qsec</th>\n",
       "      <th>vs</th>\n",
       "      <th>am</th>\n",
       "      <th>gear</th>\n",
       "      <th>carb</th>\n",
       "    </tr>\n",
       "  </thead>\n",
       "  <tbody>\n",
       "    <tr>\n",
       "      <th>count</th>\n",
       "      <td>32.000</td>\n",
       "      <td>32.000</td>\n",
       "      <td>32.000</td>\n",
       "      <td>32.000</td>\n",
       "      <td>32.000</td>\n",
       "      <td>32.000</td>\n",
       "      <td>32.000</td>\n",
       "      <td>32.000</td>\n",
       "      <td>32.000</td>\n",
       "      <td>32.000</td>\n",
       "      <td>32.000</td>\n",
       "    </tr>\n",
       "    <tr>\n",
       "      <th>mean</th>\n",
       "      <td>20.091</td>\n",
       "      <td>6.188</td>\n",
       "      <td>230.722</td>\n",
       "      <td>146.688</td>\n",
       "      <td>3.597</td>\n",
       "      <td>3.217</td>\n",
       "      <td>17.849</td>\n",
       "      <td>0.438</td>\n",
       "      <td>0.406</td>\n",
       "      <td>3.688</td>\n",
       "      <td>2.812</td>\n",
       "    </tr>\n",
       "    <tr>\n",
       "      <th>std</th>\n",
       "      <td>6.027</td>\n",
       "      <td>1.786</td>\n",
       "      <td>123.939</td>\n",
       "      <td>68.563</td>\n",
       "      <td>0.535</td>\n",
       "      <td>0.978</td>\n",
       "      <td>1.787</td>\n",
       "      <td>0.504</td>\n",
       "      <td>0.499</td>\n",
       "      <td>0.738</td>\n",
       "      <td>1.615</td>\n",
       "    </tr>\n",
       "    <tr>\n",
       "      <th>min</th>\n",
       "      <td>10.400</td>\n",
       "      <td>4.000</td>\n",
       "      <td>71.100</td>\n",
       "      <td>52.000</td>\n",
       "      <td>2.760</td>\n",
       "      <td>1.513</td>\n",
       "      <td>14.500</td>\n",
       "      <td>0.000</td>\n",
       "      <td>0.000</td>\n",
       "      <td>3.000</td>\n",
       "      <td>1.000</td>\n",
       "    </tr>\n",
       "    <tr>\n",
       "      <th>25%</th>\n",
       "      <td>15.425</td>\n",
       "      <td>4.000</td>\n",
       "      <td>120.825</td>\n",
       "      <td>96.500</td>\n",
       "      <td>3.080</td>\n",
       "      <td>2.581</td>\n",
       "      <td>16.892</td>\n",
       "      <td>0.000</td>\n",
       "      <td>0.000</td>\n",
       "      <td>3.000</td>\n",
       "      <td>2.000</td>\n",
       "    </tr>\n",
       "    <tr>\n",
       "      <th>50%</th>\n",
       "      <td>19.200</td>\n",
       "      <td>6.000</td>\n",
       "      <td>196.300</td>\n",
       "      <td>123.000</td>\n",
       "      <td>3.695</td>\n",
       "      <td>3.325</td>\n",
       "      <td>17.710</td>\n",
       "      <td>0.000</td>\n",
       "      <td>0.000</td>\n",
       "      <td>4.000</td>\n",
       "      <td>2.000</td>\n",
       "    </tr>\n",
       "    <tr>\n",
       "      <th>75%</th>\n",
       "      <td>22.800</td>\n",
       "      <td>8.000</td>\n",
       "      <td>326.000</td>\n",
       "      <td>180.000</td>\n",
       "      <td>3.920</td>\n",
       "      <td>3.610</td>\n",
       "      <td>18.900</td>\n",
       "      <td>1.000</td>\n",
       "      <td>1.000</td>\n",
       "      <td>4.000</td>\n",
       "      <td>4.000</td>\n",
       "    </tr>\n",
       "    <tr>\n",
       "      <th>max</th>\n",
       "      <td>33.900</td>\n",
       "      <td>8.000</td>\n",
       "      <td>472.000</td>\n",
       "      <td>335.000</td>\n",
       "      <td>4.930</td>\n",
       "      <td>5.424</td>\n",
       "      <td>22.900</td>\n",
       "      <td>1.000</td>\n",
       "      <td>1.000</td>\n",
       "      <td>5.000</td>\n",
       "      <td>8.000</td>\n",
       "    </tr>\n",
       "  </tbody>\n",
       "</table>\n",
       "</div>"
      ],
      "text/plain": [
       "          mpg     cyl     disp       hp    drat      wt    qsec      vs      am    gear    carb\n",
       "count  32.000  32.000   32.000   32.000  32.000  32.000  32.000  32.000  32.000  32.000  32.000\n",
       "mean   20.091   6.188  230.722  146.688   3.597   3.217  17.849   0.438   0.406   3.688   2.812\n",
       "std     6.027   1.786  123.939   68.563   0.535   0.978   1.787   0.504   0.499   0.738   1.615\n",
       "min    10.400   4.000   71.100   52.000   2.760   1.513  14.500   0.000   0.000   3.000   1.000\n",
       "25%    15.425   4.000  120.825   96.500   3.080   2.581  16.892   0.000   0.000   3.000   2.000\n",
       "50%    19.200   6.000  196.300  123.000   3.695   3.325  17.710   0.000   0.000   4.000   2.000\n",
       "75%    22.800   8.000  326.000  180.000   3.920   3.610  18.900   1.000   1.000   4.000   4.000\n",
       "max    33.900   8.000  472.000  335.000   4.930   5.424  22.900   1.000   1.000   5.000   8.000"
      ]
     },
     "execution_count": 38,
     "metadata": {},
     "output_type": "execute_result"
    }
   ],
   "source": [
    "#describe\n",
    "df.describe()\n",
    "#count, mean, std, min, Q1, Q2, Q3, max"
   ]
  },
  {
   "cell_type": "markdown",
   "id": "d8e54243-c32e-40c4-a752-c1dcb83ca0f0",
   "metadata": {},
   "source": [
    "## Kurtosis and Skewness\n",
    "-  Skewness\n",
    "    -  is a statistical term and it is a way to estimate or measure the shape of a distribution.  It is an important statistical methodology that is used to estimate the asymmetrical behavior rather than computing frequency distribution. Skewness can be two types:\n",
    "        -  Symmetrical: A distribution can be called symmetric if it appears the same from the left and right from the center point.\n",
    "        -  Asymmetrical: A distribution can be called asymmetric if it doesn’t appear the same from the left and right from the center point.\n",
    "    -  Distribution on the basis of skewness value:\n",
    "        -  Skewness = 0: Then normally distributed.\n",
    "        -  Skewness > 0: Then more weight in the left tail of the distribution.\n",
    "        -  Skewness < 0: Then more weight in the right tail of the distribution.\n",
    "    -  scipy.stats.skew(array, axis=0, bias=True)\n",
    "-  Kurtosis:\n",
    "    -  It determines whether a distribution is heavy-tailed in respect of the normal distribution. It provides information about the shape of a frequency distribution.\n",
    "        -  kurtosis for normal distribution is equal to 3.\n",
    "        -   For a distribution having kurtosis < 3: It is called playkurtic.\n",
    "        -  For a distribution having kurtosis > 3, It is called leptokurtic and it signifies that it tries to produce more outliers rather than the normal distribution.\n",
    "    -  scipy.stats.kurtosis(array, axis=0, fisher=True, bias=True)"
   ]
  },
  {
   "cell_type": "code",
   "execution_count": 39,
   "id": "d777285d-ec01-498a-a0bb-2490ed063842",
   "metadata": {
    "tags": []
   },
   "outputs": [],
   "source": [
    "import scipy\n",
    "import matplotlib.pyplot as plt"
   ]
  },
  {
   "cell_type": "code",
   "execution_count": 40,
   "id": "fb448ba9-8bcf-403c-bfde-b3d989e2c320",
   "metadata": {
    "tags": []
   },
   "outputs": [
    {
     "data": {
      "text/plain": [
       "0.6404398640318834"
      ]
     },
     "execution_count": 40,
     "metadata": {},
     "output_type": "execute_result"
    }
   ],
   "source": [
    "scipy.stats.skew(df['mpg'], axis=0)"
   ]
  },
  {
   "cell_type": "code",
   "execution_count": 41,
   "id": "052aecd1-00ec-48bf-9bf6-2c57e1417d4e",
   "metadata": {
    "tags": []
   },
   "outputs": [
    {
     "data": {
      "text/plain": [
       "-0.20053320971549793"
      ]
     },
     "execution_count": 41,
     "metadata": {},
     "output_type": "execute_result"
    }
   ],
   "source": [
    "scipy.stats.kurtosis(df['mpg'], axis=0)"
   ]
  },
  {
   "cell_type": "code",
   "execution_count": 42,
   "id": "69272af9-b11f-4736-a3d6-a8d9f0b594e5",
   "metadata": {
    "tags": []
   },
   "outputs": [
    {
     "data": {
      "text/plain": [
       "<Axes: >"
      ]
     },
     "execution_count": 42,
     "metadata": {},
     "output_type": "execute_result"
    },
    {
     "data": {
      "image/png": "[encoded data removed]",
      "text/plain": [
       "<Figure size 640x480 with 1 Axes>"
      ]
     },
     "metadata": {},
     "output_type": "display_data"
    }
   ],
   "source": [
    "df['mpg'].hist()"
   ]
  },
  {
   "cell_type": "code",
   "execution_count": 46,
   "id": "6e0901ba-4af6-4524-a414-ca43f26264e8",
   "metadata": {},
   "outputs": [
    {
     "data": {
      "text/plain": [
       "Mazda RX4              21.0\n",
       "Mazda RX4 Wag          21.0\n",
       "Datsun 710             22.8\n",
       "Hornet 4 Drive         21.4\n",
       "Hornet Sportabout      18.7\n",
       "Valiant                18.1\n",
       "Duster 360             14.3\n",
       "Merc 240D              24.4\n",
       "Merc 230               22.8\n",
       "Merc 280               19.2\n",
       "Merc 280C              17.8\n",
       "Merc 450SE             16.4\n",
       "Merc 450SL             17.3\n",
       "Merc 450SLC            15.2\n",
       "Cadillac Fleetwood     10.4\n",
       "Lincoln Continental    10.4\n",
       "Chrysler Imperial      14.7\n",
       "Fiat 128               32.4\n",
       "Honda Civic            30.4\n",
       "Toyota Corolla         33.9\n",
       "Toyota Corona          21.5\n",
       "Dodge Challenger       15.5\n",
       "AMC Javelin            15.2\n",
       "Camaro Z28             13.3\n",
       "Pontiac Firebird       19.2\n",
       "Fiat X1-9              27.3\n",
       "Porsche 914-2          26.0\n",
       "Lotus Europa           30.4\n",
       "Ford Pantera L         15.8\n",
       "Ferrari Dino           19.7\n",
       "Maserati Bora          15.0\n",
       "Volvo 142E             21.4\n",
       "Name: mpg, dtype: float64"
      ]
     },
     "execution_count": 46,
     "metadata": {},
     "output_type": "execute_result"
    }
   ],
   "source": [
    "df.mpg"
   ]
  },
  {
   "cell_type": "code",
   "execution_count": 45,
   "id": "93d327d0-16c1-48bc-9a42-0c13b43c6953",
   "metadata": {
    "tags": []
   },
   "outputs": [
    {
     "name": "stdout",
     "output_type": "stream",
     "text": [
      "Count 32, Mean 20.091, Min 10.400, Max 33.900, SD 6.027\n",
      "Kurtosis [Peakedness] = -0.201 , Skewness [Tilt on Right] =0.640\n"
     ]
    },
    {
     "data": {
      "text/plain": [
       "18"
      ]
     },
     "execution_count": 45,
     "metadata": {},
     "output_type": "execute_result"
    }
   ],
   "source": [
    "x=df['mpg']\n",
    "print('Count %.0f, Mean %.3f, Min %.3f, Max %.3f, SD %.3f' % (len(x), x.mean(), x.min(), x.max(), x.std()))\n",
    "print('Kurtosis [Peakedness] = %.3f , Skewness [Tilt on Right] =%.3f' % (scipy.stats.kurtosis(x), scipy.stats.skew(x)))\n",
    "#platokurtic (plateau/flat) ; Left Skewed (more wt on left, more values on left of mean)\n",
    "df[df['mpg'] <= 20]['mpg'].count()"
   ]
  },
  {
   "cell_type": "code",
   "execution_count": 47,
   "id": "6b01a8f8-ff9c-466a-aef5-5e5dd6f6c9cf",
   "metadata": {
    "tags": []
   },
   "outputs": [
    {
     "data": {
      "text/plain": [
       "array([ 2.22561716, -2.62741452, -0.03743018, ...,  1.98205308,\n",
       "       -4.39513588,  1.10271696])"
      ]
     },
     "execution_count": 47,
     "metadata": {},
     "output_type": "execute_result"
    }
   ],
   "source": [
    "#normal distributed data\n",
    "x = np.random.normal(0, 2, 10000000)\n",
    "x"
   ]
  },
  {
   "cell_type": "code",
   "execution_count": 49,
   "id": "152fb945-7be4-4b58-ba8e-46c040956f49",
   "metadata": {
    "tags": []
   },
   "outputs": [
    {
     "name": "stdout",
     "output_type": "stream",
     "text": [
      "Count 10000000, Mean 0.000, Min -10.151, Max 10.465, SD 2.000\n",
      "Kurtosis [Peakedness] = -0.001 , Skewness [No Tilt] =0.000\n"
     ]
    }
   ],
   "source": [
    "print('Count %.0f, Mean %.3f, Min %.3f, Max %.3f, SD %.3f' % (len(x), x.mean(), x.min(), x.max(), x.std()))\n",
    "print('Kurtosis [Peakedness] = %.3f , Skewness [No Tilt] =%.3f' % (scipy.stats.kurtosis(x), scipy.stats.skew(x)))"
   ]
  },
  {
   "cell_type": "code",
   "execution_count": 50,
   "id": "52aca7d9-84e9-4c0b-9ee0-f172878b4f90",
   "metadata": {
    "tags": []
   },
   "outputs": [
    {
     "data": {
      "image/png": "[encoded data removed]",
      "text/plain": [
       "<Figure size 640x480 with 1 Axes>"
      ]
     },
     "metadata": {},
     "output_type": "display_data"
    }
   ],
   "source": [
    "plt.hist(x, bins=60)\n",
    "plt.show()"
   ]
  },
  {
   "cell_type": "markdown",
   "id": "23c552a1-3ed7-4722-afae-1909690dd2a4",
   "metadata": {},
   "source": [
    "## quantiles/ percentile\n",
    "-   In each of any set of values of a variate which divide a frequency distribution into equal groups, each containing the same fraction of the total population.\n",
    "-   https://www.scribbr.com/statistics/quartiles-quantiles/"
   ]
  },
  {
   "cell_type": "code",
   "execution_count": 51,
   "id": "458fafb3-9e1c-432c-928c-fadd3ee1c1b7",
   "metadata": {},
   "outputs": [
    {
     "data": {
      "text/plain": [
       "([2, 2, 4, 5, 5, 5, 8, 9, 9, 9, 12], 11, 6.363636363636363, 5.0)"
      ]
     },
     "execution_count": 51,
     "metadata": {},
     "output_type": "execute_result"
    }
   ],
   "source": [
    "marks = [2,2,4,5,5,5,8,9,9,9,12]\n",
    "marks, len(marks), np.mean(marks), np.median(marks)"
   ]
  },
  {
   "cell_type": "code",
   "execution_count": 54,
   "id": "181ce7a4-5c7b-49a3-94b5-18e9aadff41a",
   "metadata": {},
   "outputs": [
    {
     "data": {
      "text/plain": [
       "array([4.5, 5. , 9. ])"
      ]
     },
     "execution_count": 54,
     "metadata": {},
     "output_type": "execute_result"
    }
   ],
   "source": [
    "np.quantile(marks, q=[.25,.5,.75])"
   ]
  },
  {
   "cell_type": "code",
   "execution_count": 57,
   "id": "a9cdf08e-152c-4180-b6fe-ed4fb976810a",
   "metadata": {},
   "outputs": [
    {
     "data": {
      "text/plain": [
       "[21.0,\n",
       " 21.0,\n",
       " 22.8,\n",
       " 21.4,\n",
       " 18.7,\n",
       " 18.1,\n",
       " 14.3,\n",
       " 24.4,\n",
       " 22.8,\n",
       " 19.2,\n",
       " 17.8,\n",
       " 16.4,\n",
       " 17.3,\n",
       " 15.2,\n",
       " 10.4,\n",
       " 10.4,\n",
       " 14.7,\n",
       " 32.4,\n",
       " 30.4,\n",
       " 33.9,\n",
       " 21.5,\n",
       " 15.5,\n",
       " 15.2,\n",
       " 13.3,\n",
       " 19.2,\n",
       " 27.3,\n",
       " 26.0,\n",
       " 30.4,\n",
       " 15.8,\n",
       " 19.7,\n",
       " 15.0,\n",
       " 21.4]"
      ]
     },
     "execution_count": 57,
     "metadata": {},
     "output_type": "execute_result"
    }
   ],
   "source": [
    "list(df['mpg'])"
   ]
  },
  {
   "cell_type": "code",
   "execution_count": 60,
   "id": "3960b8fe-15dc-4ab8-a1e2-7170b3851a67",
   "metadata": {
    "tags": []
   },
   "outputs": [
    {
     "data": {
      "text/plain": [
       "0    10.4\n",
       "1    10.4\n",
       "2    13.3\n",
       "3    14.3\n",
       "4    14.7\n",
       "5    15.0\n",
       "6    15.2\n",
       "7    15.2\n",
       "8    15.5\n",
       "Name: mpg, dtype: float64"
      ]
     },
     "execution_count": 60,
     "metadata": {},
     "output_type": "execute_result"
    }
   ],
   "source": [
    "df.mpg.sort_values().reset_index(drop=True)[0:9]"
   ]
  },
  {
   "cell_type": "code",
   "execution_count": 62,
   "id": "87f81e18-0139-4799-b7bf-5fc64b077566",
   "metadata": {},
   "outputs": [
    {
     "data": {
      "text/html": [
       "<div>\n",
       "<style scoped>\n",
       "    .dataframe tbody tr th:only-of-type {\n",
       "        vertical-align: middle;\n",
       "    }\n",
       "\n",
       "    .dataframe tbody tr th {\n",
       "        vertical-align: top;\n",
       "    }\n",
       "\n",
       "    .dataframe thead th {\n",
       "        text-align: right;\n",
       "    }\n",
       "</style>\n",
       "<table border=\"1\" class=\"dataframe\">\n",
       "  <thead>\n",
       "    <tr style=\"text-align: right;\">\n",
       "      <th></th>\n",
       "      <th>mpg</th>\n",
       "      <th>cyl</th>\n",
       "      <th>disp</th>\n",
       "      <th>hp</th>\n",
       "      <th>drat</th>\n",
       "      <th>wt</th>\n",
       "      <th>qsec</th>\n",
       "      <th>vs</th>\n",
       "      <th>am</th>\n",
       "      <th>gear</th>\n",
       "      <th>carb</th>\n",
       "    </tr>\n",
       "  </thead>\n",
       "  <tbody>\n",
       "    <tr>\n",
       "      <th>count</th>\n",
       "      <td>32.000</td>\n",
       "      <td>32.000</td>\n",
       "      <td>32.000</td>\n",
       "      <td>32.000</td>\n",
       "      <td>32.000</td>\n",
       "      <td>32.000</td>\n",
       "      <td>32.000</td>\n",
       "      <td>32.000</td>\n",
       "      <td>32.000</td>\n",
       "      <td>32.000</td>\n",
       "      <td>32.000</td>\n",
       "    </tr>\n",
       "    <tr>\n",
       "      <th>mean</th>\n",
       "      <td>20.091</td>\n",
       "      <td>6.188</td>\n",
       "      <td>230.722</td>\n",
       "      <td>146.688</td>\n",
       "      <td>3.597</td>\n",
       "      <td>3.217</td>\n",
       "      <td>17.849</td>\n",
       "      <td>0.438</td>\n",
       "      <td>0.406</td>\n",
       "      <td>3.688</td>\n",
       "      <td>2.812</td>\n",
       "    </tr>\n",
       "    <tr>\n",
       "      <th>std</th>\n",
       "      <td>6.027</td>\n",
       "      <td>1.786</td>\n",
       "      <td>123.939</td>\n",
       "      <td>68.563</td>\n",
       "      <td>0.535</td>\n",
       "      <td>0.978</td>\n",
       "      <td>1.787</td>\n",
       "      <td>0.504</td>\n",
       "      <td>0.499</td>\n",
       "      <td>0.738</td>\n",
       "      <td>1.615</td>\n",
       "    </tr>\n",
       "    <tr>\n",
       "      <th>min</th>\n",
       "      <td>10.400</td>\n",
       "      <td>4.000</td>\n",
       "      <td>71.100</td>\n",
       "      <td>52.000</td>\n",
       "      <td>2.760</td>\n",
       "      <td>1.513</td>\n",
       "      <td>14.500</td>\n",
       "      <td>0.000</td>\n",
       "      <td>0.000</td>\n",
       "      <td>3.000</td>\n",
       "      <td>1.000</td>\n",
       "    </tr>\n",
       "    <tr>\n",
       "      <th>25%</th>\n",
       "      <td>15.425</td>\n",
       "      <td>4.000</td>\n",
       "      <td>120.825</td>\n",
       "      <td>96.500</td>\n",
       "      <td>3.080</td>\n",
       "      <td>2.581</td>\n",
       "      <td>16.892</td>\n",
       "      <td>0.000</td>\n",
       "      <td>0.000</td>\n",
       "      <td>3.000</td>\n",
       "      <td>2.000</td>\n",
       "    </tr>\n",
       "    <tr>\n",
       "      <th>50%</th>\n",
       "      <td>19.200</td>\n",
       "      <td>6.000</td>\n",
       "      <td>196.300</td>\n",
       "      <td>123.000</td>\n",
       "      <td>3.695</td>\n",
       "      <td>3.325</td>\n",
       "      <td>17.710</td>\n",
       "      <td>0.000</td>\n",
       "      <td>0.000</td>\n",
       "      <td>4.000</td>\n",
       "      <td>2.000</td>\n",
       "    </tr>\n",
       "    <tr>\n",
       "      <th>75%</th>\n",
       "      <td>22.800</td>\n",
       "      <td>8.000</td>\n",
       "      <td>326.000</td>\n",
       "      <td>180.000</td>\n",
       "      <td>3.920</td>\n",
       "      <td>3.610</td>\n",
       "      <td>18.900</td>\n",
       "      <td>1.000</td>\n",
       "      <td>1.000</td>\n",
       "      <td>4.000</td>\n",
       "      <td>4.000</td>\n",
       "    </tr>\n",
       "    <tr>\n",
       "      <th>max</th>\n",
       "      <td>33.900</td>\n",
       "      <td>8.000</td>\n",
       "      <td>472.000</td>\n",
       "      <td>335.000</td>\n",
       "      <td>4.930</td>\n",
       "      <td>5.424</td>\n",
       "      <td>22.900</td>\n",
       "      <td>1.000</td>\n",
       "      <td>1.000</td>\n",
       "      <td>5.000</td>\n",
       "      <td>8.000</td>\n",
       "    </tr>\n",
       "  </tbody>\n",
       "</table>\n",
       "</div>"
      ],
      "text/plain": [
       "          mpg     cyl     disp       hp    drat      wt    qsec      vs      am    gear    carb\n",
       "count  32.000  32.000   32.000   32.000  32.000  32.000  32.000  32.000  32.000  32.000  32.000\n",
       "mean   20.091   6.188  230.722  146.688   3.597   3.217  17.849   0.438   0.406   3.688   2.812\n",
       "std     6.027   1.786  123.939   68.563   0.535   0.978   1.787   0.504   0.499   0.738   1.615\n",
       "min    10.400   4.000   71.100   52.000   2.760   1.513  14.500   0.000   0.000   3.000   1.000\n",
       "25%    15.425   4.000  120.825   96.500   3.080   2.581  16.892   0.000   0.000   3.000   2.000\n",
       "50%    19.200   6.000  196.300  123.000   3.695   3.325  17.710   0.000   0.000   4.000   2.000\n",
       "75%    22.800   8.000  326.000  180.000   3.920   3.610  18.900   1.000   1.000   4.000   4.000\n",
       "max    33.900   8.000  472.000  335.000   4.930   5.424  22.900   1.000   1.000   5.000   8.000"
      ]
     },
     "execution_count": 62,
     "metadata": {},
     "output_type": "execute_result"
    }
   ],
   "source": [
    "df.describe()"
   ]
  },
  {
   "cell_type": "code",
   "execution_count": 61,
   "id": "c635b5e4-c60a-420f-935d-d890c47bc219",
   "metadata": {
    "tags": []
   },
   "outputs": [
    {
     "data": {
      "text/plain": [
       "0.25    15.425\n",
       "Name: mpg, dtype: float64"
      ]
     },
     "execution_count": 61,
     "metadata": {},
     "output_type": "execute_result"
    }
   ],
   "source": [
    "df.mpg.quantile(q=[.25])"
   ]
  },
  {
   "cell_type": "code",
   "execution_count": null,
   "id": "aed9e2cc-9924-482b-b43e-a723f7a7474f",
   "metadata": {
    "tags": []
   },
   "outputs": [],
   "source": [
    "np.arange(0,1,.01)"
   ]
  },
  {
   "cell_type": "code",
   "execution_count": null,
   "id": "e0cbc215-4ec9-4f98-89dc-66e9ab711737",
   "metadata": {
    "tags": []
   },
   "outputs": [],
   "source": [
    "df.mpg.quantile(q=[0,.25, .5, .75, 1])"
   ]
  },
  {
   "cell_type": "code",
   "execution_count": null,
   "id": "de72948d-40dd-4ae6-b8ca-91095b5895c7",
   "metadata": {
    "tags": []
   },
   "outputs": [],
   "source": [
    "#percentile 0 100%\n",
    "df.mpg.quantile(q=np.arange(0,1,.01))"
   ]
  },
  {
   "cell_type": "markdown",
   "id": "ff8987aa-5475-44c7-8857-9875c887bf93",
   "metadata": {},
   "source": [
    "## Hypothesis Tests\n",
    "- Types\n",
    "  -  Check if data is normally distributed\n",
    "  -  Check if data is correlated\n",
    "  -  Check if two categorical variables are related or independent (Chi square Tests)\n",
    "  -  Check if means of set of data is equal a value (single, or equal to mean of another set(2 tail) : t tests\n",
    "  -  means of two or more independent samples are significantly different.  (ANOVA)"
   ]
  },
  {
   "cell_type": "code",
   "execution_count": null,
   "id": "29c911eb-65bf-4d66-8b5c-4ec2d18c0590",
   "metadata": {
    "tags": []
   },
   "outputs": [],
   "source": [
    "## Hypothesis - Normal Distribution\n",
    "from scipy.stats import shapiro"
   ]
  },
  {
   "cell_type": "code",
   "execution_count": null,
   "id": "69819473-292a-4bd3-aa47-d46d211796a4",
   "metadata": {
    "tags": []
   },
   "outputs": [],
   "source": [
    "stat, p = shapiro(df['mpg'])\n",
    "print('stats = %.3f , p=%.3f' % (stat, p))"
   ]
  },
  {
   "cell_type": "code",
   "execution_count": null,
   "id": "1d64c842-0e86-427d-bb78-ab3dcac7f4d9",
   "metadata": {
    "tags": []
   },
   "outputs": [],
   "source": [
    "if p > .05 : print('Probably -- Gaussian/ Normal')\n",
    "else :  print('Probably not Normal')"
   ]
  },
  {
   "cell_type": "code",
   "execution_count": null,
   "id": "32d8234c-cf0f-4885-8ffd-5d2a640e54e3",
   "metadata": {
    "tags": []
   },
   "outputs": [],
   "source": [
    "## Correlation Tests \n",
    "from scipy.stats import pearsonr\n",
    "stat, p = pearsonr(df['wt'], df['mpg'])\n",
    "print('stats = %.3f , p=%.3f' % (stat, p))"
   ]
  },
  {
   "cell_type": "code",
   "execution_count": null,
   "id": "34e21941-c3b1-42d6-be9d-e473c74956df",
   "metadata": {
    "tags": []
   },
   "outputs": [],
   "source": [
    "if p > .05 : print('Probably -- Independent')\n",
    "else :  print('Probably not Dependent')"
   ]
  },
  {
   "cell_type": "code",
   "execution_count": null,
   "id": "a5ecc3c0-56b7-4bb0-a818-70261fd14bad",
   "metadata": {
    "tags": []
   },
   "outputs": [],
   "source": [
    "df[['wt','mpg']].corr()"
   ]
  },
  {
   "cell_type": "markdown",
   "id": "cd962577-63ab-4061-b20c-c54b3fb2fa51",
   "metadata": {},
   "source": [
    "## Chi-Squared Tests\n"
   ]
  },
  {
   "cell_type": "code",
   "execution_count": null,
   "id": "41b277ec-9e5a-4448-9059-0ae80db8d0aa",
   "metadata": {
    "tags": []
   },
   "outputs": [],
   "source": [
    "# Example of the Chi-Squared Test\n",
    "from scipy.stats import chi2_contingency\n",
    "table = [[10, 20, 30],[6,  9,  17]]\n",
    "table"
   ]
  },
  {
   "cell_type": "code",
   "execution_count": null,
   "id": "e3da9574-aef2-4909-8e0c-440679c71bb5",
   "metadata": {
    "tags": []
   },
   "outputs": [],
   "source": [
    "stat, p, dof, expected = chi2_contingency(table)\n",
    "print('stat=%.3f, p=%.3f' % (stat, p))\n",
    "if p > 0.05:\n",
    " print('Probably independent')\n",
    "else:\n",
    " print('Probably dependent')"
   ]
  },
  {
   "cell_type": "markdown",
   "id": "55c9fd42-2c81-43fd-be98-2a659c76c5ec",
   "metadata": {
    "tags": []
   },
   "source": [
    "## t -tests\n",
    "-  Types\n",
    "    -   Paired Students t-test :  Tests whether the means of two paired samples are significantly different.\n",
    "    \n",
    "-  Hypothesis\n",
    "    -  H0: the means of the samples are equal.\n",
    "    -  H1: the means of the samples are unequal."
   ]
  },
  {
   "cell_type": "code",
   "execution_count": null,
   "id": "c86d197d-5106-4a1f-bc11-348b2814fb88",
   "metadata": {
    "tags": []
   },
   "outputs": [],
   "source": [
    "from scipy.stats import ttest_rel\n",
    "#data1 = [0.873, 2.817, 0.121, -0.945, -0.055, -1.436, 0.360, -1.478, -1.637, -1.869]\n",
    "#data2 = [1.142, -0.432, -0.938, -0.729, -0.846, -0.157, 0.500, 1.183, -1.075, -0.169]\n",
    "data1 = df['mpg'].sample(10)\n",
    "data2 = df['mpg'].sample(10)\n",
    "print('data1- ', data1.tolist(), '::: data2- \\t', data2.tolist())\n",
    "stat, p = ttest_rel(data1, data2)\n",
    "print('stat=%.3f, p=%.3f' % (stat, p))\n",
    "if p > 0.05:\n",
    " print('Probably the same distribution')\n",
    "else:\n",
    " print('Probably different distributions')"
   ]
  },
  {
   "cell_type": "markdown",
   "id": "f85289b9-97fe-4a61-995a-2d2ef5bed287",
   "metadata": {},
   "source": [
    "## Analysis of Variance Test (ANOVA)\n",
    "-  Tests whether the means of two or more independent samples are significantly different.\n",
    "## Hypthesis\n",
    "    -  H0: the means of the samples are equal.\n",
    "    -  H1: one or more of the means of the samples are unequal."
   ]
  },
  {
   "cell_type": "code",
   "execution_count": null,
   "id": "b9e9ab9a-71ec-4203-9696-138f77e186f1",
   "metadata": {
    "tags": []
   },
   "outputs": [],
   "source": [
    "from scipy.stats import f_oneway\n",
    "#data1 = [0.873, 2.817, 0.121, -0.945, -0.055, -1.436, 0.360, -1.478, -1.637, -1.869]\n",
    "#data2 = [1.142, -0.432, -0.938, -0.729, -0.846, -0.157, 0.500, 1.183, -1.075, -0.169]\n",
    "#data3 = [-0.208, 0.696, 0.928, -1.148, -0.213, 0.229, 0.137, 0.269, -0.870, -1.204]\n",
    "data1 = df['mpg'].sample(10)\n",
    "data2 = df['mpg'].sample(10)\n",
    "data3 = df['mpg'].sample(10)\n",
    "print('data1- ', data1.tolist(), '::: \\ndata2- ', data2.tolist(), '::: \\ndata3- ', data3.tolist())\n",
    "stat, p = f_oneway(data1, data2, data3)\n",
    "print('stat=%.3f, p=%.3f' % (stat, p))\n",
    "if p > 0.05:\n",
    " print('Probably the same distribution')\n",
    "else:\n",
    " print('Probably different distributions')"
   ]
  },
  {
   "cell_type": "code",
   "execution_count": null,
   "id": "ffb6e06a-94e6-43a0-8d0e-a49004ce8d05",
   "metadata": {
    "tags": []
   },
   "outputs": [],
   "source": [
    "data3 = df['hp'].sample(10)  #from HP Coloumn\n",
    "print('data1- ', data1.tolist(), '::: \\ndata2- ', data2.tolist(), '::: \\ndata3- ', data3.tolist())\n",
    "stat, p = f_oneway(data1, data2, data3)\n",
    "print('stat=%.3f, p=%.3f' % (stat, p))\n",
    "if p > 0.05:\n",
    " print('Probably the same distribution')\n",
    "else:\n",
    " print('Probably different distributions')"
   ]
  },
  {
   "cell_type": "markdown",
   "id": "318360bb-3474-4708-b258-3af6cb43bfb0",
   "metadata": {},
   "source": [
    "## Repeated Measures ANOVA Test (not supported)\n",
    "-  Tests whether the means of two or more paired samples are significantly different.\n",
    "## Hypothesis\n",
    "    -  H0: the means of the samples are equal.\n",
    "    -  H1: one or more of the means of the samples are unequal."
   ]
  },
  {
   "cell_type": "markdown",
   "id": "c0655685-fadd-4999-9f8d-05b43eb11bab",
   "metadata": {
    "tags": []
   },
   "source": [
    "## Z-test\n",
    "-  https://www.statology.org/z-test-python/\n",
    "-  https://www.educba.com/python-z-test/"
   ]
  },
  {
   "cell_type": "code",
   "execution_count": null,
   "id": "faadd442-4cf9-4913-ac1c-d43ae12241e3",
   "metadata": {
    "tags": []
   },
   "outputs": [],
   "source": [
    "from statsmodels.stats.weightstats import ztest as ztest"
   ]
  },
  {
   "cell_type": "code",
   "execution_count": null,
   "id": "f7bc40d7-7214-4583-8318-81f1cbdd81bd",
   "metadata": {
    "tags": []
   },
   "outputs": [],
   "source": [
    "#Suppose the IQ in a certain population is normally distributed with a mean of μ = 100 and standard deviation of σ = 15.\n",
    "# A researcher wants to know if a new drug affects IQ levels, so he recruits 20 patients to try it and records their IQ levels\n",
    "#enter IQ levels for 20 patients\n",
    "data = [88, 92, 94, 94, 96, 97, 97, 97, 99, 99,  105, 109, 109, 109, 110, 112, 112, 113, 114, 115]\n",
    "#perform one sample z-test\n",
    "ztest(data, value=100)\n",
    "#(1.5976240527147705, 0.1101266701438426)\n",
    "#Since this p-value(.11) is not less than .05, we do not have sufficient evidence to reject the null hypothesis. In other words, the new drug does not significantly affect IQ level."
   ]
  },
  {
   "cell_type": "code",
   "execution_count": null,
   "id": "85a92746-c2c5-414f-95bf-ffcbf9437b84",
   "metadata": {
    "tags": []
   },
   "outputs": [],
   "source": [
    "df.mean()"
   ]
  },
  {
   "cell_type": "code",
   "execution_count": null,
   "id": "c54065c7-566b-4632-bde6-6e126c70f3a6",
   "metadata": {
    "tags": []
   },
   "outputs": [],
   "source": [
    "ztest(df.mpg, value=20)\n",
    "#pvalue > .05, do not reject Ho ()\n",
    "#mean of mpg is equal to 20 is right assumption"
   ]
  },
  {
   "cell_type": "markdown",
   "id": "deb14fe8-58b9-4862-a3bd-cfa129490e43",
   "metadata": {},
   "source": [
    "## Two Sample Z-Test in Python\n",
    "-  Suppose the IQ levels among individuals in two different cities are known to be normally distributed with known standard deviations.\n",
    "-  A researcher wants to know if the mean IQ level between individuals in city A and city B are different, so she selects a simple random sample of  20 individuals from each city and records their IQ levels.\n",
    "-  Ho : Mean values are same U1 = U2\n",
    "-  Ha : Mean values are different U1 != U2"
   ]
  },
  {
   "cell_type": "code",
   "execution_count": null,
   "id": "732ed56f-8cc2-4f6c-97a8-bfbe2f89736d",
   "metadata": {
    "tags": []
   },
   "outputs": [],
   "source": [
    "from statsmodels.stats.weightstats import ztest as ztest\n",
    "\n",
    "#enter IQ levels for 20 individuals from each city\n",
    "cityA = [82, 84, 85, 89, 91, 91, 92, 94, 99, 99, 105, 109, 109, 109, 110, 112, 112, 113, 114, 114]\n",
    "cityB = [90, 91, 91, 91, 95, 95, 99, 99, 108, 109, 109, 114, 115, 116, 117, 117, 128, 129, 130, 133]\n",
    "#perform two sample z-test\n",
    "stats, p = ztest(cityA, cityB, value=0) \n",
    "print(stats, ':: P value= ', np.round(p,3) )\n",
    "#Since this p-value is less than .05, we have sufficient evidence to reject the null hypothesis.\n",
    "#In other words, the mean IQ level is significantly different between the two cities."
   ]
  },
  {
   "cell_type": "code",
   "execution_count": null,
   "id": "f2a6c4b7-4883-4bea-940b-9ffc4a935688",
   "metadata": {},
   "outputs": [],
   "source": [
    "# Ha : Means are different\n",
    "np.mean(cityA), np.mean(cityB)  # these to be statistically"
   ]
  },
  {
   "cell_type": "markdown",
   "id": "058c46b5-5d3e-4817-a496-3e7e2f21d358",
   "metadata": {},
   "source": [
    "## End here"
   ]
  },
  {
   "cell_type": "code",
   "execution_count": null,
   "id": "3279871a-ea84-4d19-9064-86c88008616d",
   "metadata": {},
   "outputs": [],
   "source": []
  }
 ],
 "metadata": {
  "kernelspec": {
   "display_name": "Python 3 (ipykernel)",
   "language": "python",
   "name": "python3"
  },
  "language_info": {
   "codemirror_mode": {
    "name": "ipython",
    "version": 3
   },
   "file_extension": ".py",
   "mimetype": "text/x-python",
   "name": "python",
   "nbconvert_exporter": "python",
   "pygments_lexer": "ipython3",
   "version": "3.11.8"
  }
 },
 "nbformat": 4,
 "nbformat_minor": 5
}
