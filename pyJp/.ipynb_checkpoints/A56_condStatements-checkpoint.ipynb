{
 "cells": [
  {
   "cell_type": "markdown",
   "id": "bd45b35c-9f47-4c65-a2c8-d7e1c3147329",
   "metadata": {},
   "source": [
    "# A56 Conditional Statements \n",
    "-  if else\n",
    "-  for loop\n"
   ]
  },
  {
   "cell_type": "code",
   "execution_count": null,
   "id": "e8e4e465-e1c1-4127-a7e5-57b0380d439e",
   "metadata": {},
   "outputs": [],
   "source": []
  },
  {
   "cell_type": "markdown",
   "id": "f53889d2-2517-4ea2-8e32-5f07c09c6763",
   "metadata": {},
   "source": [
    "## if-else"
   ]
  },
  {
   "cell_type": "code",
   "execution_count": 3,
   "id": "424d2554-9c94-4225-8e74-3925c8f04f19",
   "metadata": {
    "tags": []
   },
   "outputs": [
    {
     "name": "stdout",
     "output_type": "stream",
     "text": [
      "20  : i is > 15\n"
     ]
    }
   ],
   "source": [
    "i = 20\n",
    "if (i > 15):\n",
    "    print(i, ' : i is > 15')\n",
    "else :\n",
    "    print(i, ' : i is < 15')"
   ]
  },
  {
   "cell_type": "markdown",
   "id": "d5bfec95-958a-4ccd-ac06-cb2a444b6a17",
   "metadata": {},
   "source": [
    "## for loop"
   ]
  },
  {
   "cell_type": "code",
   "execution_count": 4,
   "id": "58084689-cd63-4903-bfee-c698d466da44",
   "metadata": {
    "tags": []
   },
   "outputs": [
    {
     "name": "stdout",
     "output_type": "stream",
     "text": [
      "1  : square of number is -  1\n",
      "2  : square of number is -  4\n",
      "10  : square of number is -  100\n",
      "20  : square of number is -  400\n"
     ]
    }
   ],
   "source": [
    "list1 = [ 1, 2, 10, 20]\n",
    "for i in list1:\n",
    "    print(i, ' : square of number is - ', i**2)"
   ]
  },
  {
   "cell_type": "markdown",
   "id": "e831eaaf-5f10-4295-aa60-46a8e1a4c12e",
   "metadata": {},
   "source": [
    "## while loop"
   ]
  },
  {
   "cell_type": "code",
   "execution_count": 7,
   "id": "0341f1a3-303e-4c4d-8c0c-e73988d7d431",
   "metadata": {
    "tags": []
   },
   "outputs": [
    {
     "name": "stdout",
     "output_type": "stream",
     "text": [
      "Hello : Student  1\n",
      "Hello : Student  2\n",
      "Hello : Student  3\n"
     ]
    }
   ],
   "source": [
    "count = 0\n",
    "while (count < 3):\n",
    "    count = count + 1\n",
    "    print(\"Hello : Student \", count )"
   ]
  },
  {
   "cell_type": "markdown",
   "id": "3311133d-bc37-4784-821e-995df47ca047",
   "metadata": {},
   "source": [
    "## List comprehension\n",
    "-   made up of brackets carrying the expression, which is run for each element, as well as the for loop, which is used to iterate over the Python list’s elements."
   ]
  },
  {
   "cell_type": "code",
   "execution_count": 8,
   "id": "f0b29022-7f5e-41e2-9428-341ccd5be5d9",
   "metadata": {
    "tags": []
   },
   "outputs": [],
   "source": [
    "list1 = [ 1, 2, 10, 20]"
   ]
  },
  {
   "cell_type": "code",
   "execution_count": 9,
   "id": "3b258565-ede9-491e-ba9c-e170e66329fa",
   "metadata": {
    "tags": []
   },
   "outputs": [],
   "source": [
    "list2 = [ i for i in list1]"
   ]
  },
  {
   "cell_type": "code",
   "execution_count": 10,
   "id": "b9d56f60-0c56-45b7-976a-d3f1f050544b",
   "metadata": {
    "tags": []
   },
   "outputs": [
    {
     "data": {
      "text/plain": [
       "[1, 2, 10, 20]"
      ]
     },
     "execution_count": 10,
     "metadata": {},
     "output_type": "execute_result"
    }
   ],
   "source": [
    "list2"
   ]
  },
  {
   "cell_type": "markdown",
   "id": "49081b5f-9e76-4809-a3fa-93ca09b85eeb",
   "metadata": {
    "tags": []
   },
   "source": [
    "## functions"
   ]
  },
  {
   "cell_type": "code",
   "execution_count": 12,
   "id": "d8240ada-344a-4b17-ac72-e77f9d7ed849",
   "metadata": {
    "tags": []
   },
   "outputs": [],
   "source": [
    "def funSquare(i):\n",
    "    print('Square of number is ', i**2)"
   ]
  },
  {
   "cell_type": "code",
   "execution_count": 13,
   "id": "32321ded-9e63-4ea6-9fa9-e89eb927732a",
   "metadata": {
    "tags": []
   },
   "outputs": [
    {
     "name": "stdout",
     "output_type": "stream",
     "text": [
      "Square of number is  100\n"
     ]
    }
   ],
   "source": [
    "funSquare(i=10)"
   ]
  },
  {
   "cell_type": "code",
   "execution_count": 14,
   "id": "dfabd7d0-f279-4049-8169-ff3109d0b2d7",
   "metadata": {
    "tags": []
   },
   "outputs": [],
   "source": [
    "def evenOdd(x):\n",
    "    if (x % 2 == 0):\n",
    "        print(\"even\")\n",
    "    else:\n",
    "        print(\"odd\")"
   ]
  },
  {
   "cell_type": "code",
   "execution_count": 15,
   "id": "b6e2554f-e14e-442e-99e3-99628c59a735",
   "metadata": {
    "tags": []
   },
   "outputs": [
    {
     "name": "stdout",
     "output_type": "stream",
     "text": [
      "even\n"
     ]
    }
   ],
   "source": [
    "evenOdd(x=10)"
   ]
  },
  {
   "cell_type": "code",
   "execution_count": 16,
   "id": "c451ca71-16c0-40aa-808a-65857b8d8914",
   "metadata": {
    "tags": []
   },
   "outputs": [
    {
     "name": "stdout",
     "output_type": "stream",
     "text": [
      "odd\n"
     ]
    }
   ],
   "source": [
    "evenOdd(x=11)"
   ]
  },
  {
   "cell_type": "markdown",
   "id": "4599456d-1039-4072-b390-73af001b5687",
   "metadata": {},
   "source": [
    "## function with return"
   ]
  },
  {
   "cell_type": "code",
   "execution_count": 17,
   "id": "70703967-01fe-49da-8c5c-8098b17e81d7",
   "metadata": {
    "tags": []
   },
   "outputs": [],
   "source": [
    "def add(a, b):\n",
    "    # returning sum of a and b\n",
    "    return a + b"
   ]
  },
  {
   "cell_type": "code",
   "execution_count": 19,
   "id": "87963ae8-b30a-4c5f-b64f-811753fce35f",
   "metadata": {
    "tags": []
   },
   "outputs": [
    {
     "data": {
      "text/plain": [
       "30"
      ]
     },
     "execution_count": 19,
     "metadata": {},
     "output_type": "execute_result"
    }
   ],
   "source": [
    "result = add(10, 20)\n",
    "result"
   ]
  },
  {
   "cell_type": "markdown",
   "id": "3076620e-b339-4116-a3c2-54c2dc0f46c2",
   "metadata": {
    "tags": []
   },
   "source": [
    "## range\n",
    "-   returns a sequence of numbers, in a given range."
   ]
  },
  {
   "cell_type": "code",
   "execution_count": 21,
   "id": "2a0f077a-bfdb-4ef8-84b5-660d09955e23",
   "metadata": {
    "tags": []
   },
   "outputs": [
    {
     "data": {
      "text/plain": [
       "range(0, 5)"
      ]
     },
     "execution_count": 21,
     "metadata": {},
     "output_type": "execute_result"
    }
   ],
   "source": [
    "range(5)"
   ]
  },
  {
   "cell_type": "code",
   "execution_count": 22,
   "id": "4c87f014-dd66-4650-9ed0-51accd2de426",
   "metadata": {
    "tags": []
   },
   "outputs": [
    {
     "name": "stdout",
     "output_type": "stream",
     "text": [
      "0 \t1 \t2 \t3 \t4 \t"
     ]
    }
   ],
   "source": [
    "for i in range(5):\n",
    "    print(i , end=' \\t')"
   ]
  },
  {
   "cell_type": "markdown",
   "id": "61b99f20-80df-41fc-865e-d9822cad8b29",
   "metadata": {
    "tags": []
   },
   "source": [
    "## map\n",
    "-  returns a map object(which is an iterator) of the results after applying the given function to each item of a given iterable."
   ]
  },
  {
   "cell_type": "code",
   "execution_count": 24,
   "id": "c258bc77-1f9d-4fce-ba58-3698d478dbf9",
   "metadata": {
    "tags": []
   },
   "outputs": [],
   "source": [
    "def addition(x):\n",
    "    return x + x"
   ]
  },
  {
   "cell_type": "code",
   "execution_count": 25,
   "id": "3ef56e16-a861-410d-9ddf-e611503de6c3",
   "metadata": {
    "tags": []
   },
   "outputs": [
    {
     "data": {
      "text/plain": [
       "(1, 2, 3, 4)"
      ]
     },
     "execution_count": 25,
     "metadata": {},
     "output_type": "execute_result"
    }
   ],
   "source": [
    "numbers = (1,2,3,4)\n",
    "numbers"
   ]
  },
  {
   "cell_type": "code",
   "execution_count": 28,
   "id": "59166c12-1d31-4e88-b4b0-942902a204a5",
   "metadata": {
    "tags": []
   },
   "outputs": [
    {
     "data": {
      "text/plain": [
       "<map at 0x20b7cfc90c0>"
      ]
     },
     "execution_count": 28,
     "metadata": {},
     "output_type": "execute_result"
    }
   ],
   "source": [
    "result = map(addition, numbers)\n",
    "result\n",
    "#add number with itself"
   ]
  },
  {
   "cell_type": "code",
   "execution_count": 29,
   "id": "c55d7cb4-762a-4356-8595-3ed274efa28f",
   "metadata": {
    "tags": []
   },
   "outputs": [
    {
     "data": {
      "text/plain": [
       "[2, 4, 6, 8]"
      ]
     },
     "execution_count": 29,
     "metadata": {},
     "output_type": "execute_result"
    }
   ],
   "source": [
    "list(result)"
   ]
  },
  {
   "cell_type": "markdown",
   "id": "2627f24c-28cf-41ee-93f3-96419d308031",
   "metadata": {},
   "source": [
    "## Advanced "
   ]
  },
  {
   "cell_type": "markdown",
   "id": "07a26aea-6519-4a2b-8a95-79ed911fda36",
   "metadata": {
    "tags": []
   },
   "source": [
    "### filter"
   ]
  },
  {
   "cell_type": "code",
   "execution_count": null,
   "id": "9023bf48-94a8-4a37-969c-8c9d098636fe",
   "metadata": {},
   "outputs": [],
   "source": []
  },
  {
   "cell_type": "markdown",
   "id": "fa0836cb-d64c-4234-b0f6-9b94e7e596b6",
   "metadata": {},
   "source": [
    "### reduce\n",
    "-  is used to apply a certain function to all of the list components indicated in the sequence sent along."
   ]
  },
  {
   "cell_type": "code",
   "execution_count": 47,
   "id": "878461b0-886c-4811-a96c-5fec36d95e62",
   "metadata": {
    "tags": []
   },
   "outputs": [],
   "source": [
    "from functools import reduce "
   ]
  },
  {
   "cell_type": "code",
   "execution_count": 48,
   "id": "1bc2a154-4d5a-4502-8cb3-b913799ed4e7",
   "metadata": {
    "tags": []
   },
   "outputs": [],
   "source": [
    "nums = [1, 2, 3, 4]\n",
    "ans = reduce(lambda x, y: x + y, nums)"
   ]
  },
  {
   "cell_type": "code",
   "execution_count": 49,
   "id": "cc883183-c4fe-4e8d-9ffc-cb129a6c0315",
   "metadata": {
    "tags": []
   },
   "outputs": [
    {
     "name": "stdout",
     "output_type": "stream",
     "text": [
      "10\n"
     ]
    }
   ],
   "source": [
    "print(ans)"
   ]
  },
  {
   "cell_type": "markdown",
   "id": "8a555a87-3b64-4f04-a52f-f2a30a78a503",
   "metadata": {},
   "source": [
    "### lambda\n",
    "-  are anonymous, which means they have no name. As we already know, the def keyword is used to define a normal function in Python. The lambda keyword in Python is used to declare an anonymous function"
   ]
  },
  {
   "cell_type": "code",
   "execution_count": 33,
   "id": "4ba0c2f9-fa93-4396-924a-5c6ed083d6fd",
   "metadata": {
    "tags": []
   },
   "outputs": [],
   "source": [
    "calc = lambda x : 'Even number' if x %2 == 0 else 'Odd number'"
   ]
  },
  {
   "cell_type": "code",
   "execution_count": 34,
   "id": "545babd5-21df-47d8-b6a1-8b85d7d47c6e",
   "metadata": {
    "tags": []
   },
   "outputs": [
    {
     "data": {
      "text/plain": [
       "'Even number'"
      ]
     },
     "execution_count": 34,
     "metadata": {},
     "output_type": "execute_result"
    }
   ],
   "source": [
    "calc(20)"
   ]
  },
  {
   "cell_type": "markdown",
   "id": "d4068647-56c3-4872-903d-bad310980d3d",
   "metadata": {},
   "source": [
    "### *args and **kwargs in Python\n",
    "-  keywords allow functions to take variable-length parameters. The number of non-keyworded arguments and the action that can be performed on the tuple are specified by the *args.**kwargs, on the other hand, pass a variable number of keyword arguments dictionary to function, which can then do dictionary operations."
   ]
  },
  {
   "cell_type": "markdown",
   "id": "f772fb5e-ea86-4593-b3fd-ea60d06113e5",
   "metadata": {
    "tags": []
   },
   "source": [
    "## OOPS programming\n",
    "-  (OOPs) is a programming paradigm in Python that employs objects and classes. It seeks to include real-world entities such as inheritance, polymorphisms, encapsulation, and so on into programming. The primary idea behind OOPs is to join the data and the functions that act on it as a single unit so that no other portion of the code can access it.\n",
    "-  Car class with characteristics that represent the car’s make, model, and year. The _make attribute is protected with a single underscore _. The __model attribute is marked as private with two underscores __. The year attribute is open to the public.\n",
    "-  We can use the getter function get_make() to retrieve the protected attribute _make. We can use the setter method set_model() to edit the private attribute __model. Using the getter method get_model(), we may retrieve the changed private attribute __model. There are no restrictions on accessing the public attribute year. We manage the visibility and accessibility of class members by using encapsulation with private and protected properties, offering a level of data hiding and abstraction."
   ]
  },
  {
   "cell_type": "code",
   "execution_count": 36,
   "id": "6a5f6402-8c3c-4073-8d6b-d5a23aaabb84",
   "metadata": {
    "tags": []
   },
   "outputs": [],
   "source": [
    "class Car:\n",
    "    def __init__(self, make, model, year):\n",
    "        self._make = make  # protected attribute\n",
    "        self.__model = model  # private attribute\n",
    "        self.year = year  # public attribute\n",
    "  \n",
    "    def get_make(self):  # just call the function to get make\n",
    "        return self._make\n",
    "  \n",
    "    def set_model(self, model): # pass model name with calling function\n",
    "        self.__model = model\n",
    "  \n",
    "    def get_model(self):\n",
    "        return self.__model"
   ]
  },
  {
   "cell_type": "code",
   "execution_count": 37,
   "id": "04675680-1070-4fe0-b1d2-b0e1c7459c1d",
   "metadata": {
    "tags": []
   },
   "outputs": [
    {
     "data": {
      "text/plain": [
       "<__main__.Car at 0x20b7dc68650>"
      ]
     },
     "execution_count": 37,
     "metadata": {},
     "output_type": "execute_result"
    }
   ],
   "source": [
    "my_car = Car(\"Honda\", \"Jazz\", 2017)\n",
    "my_car"
   ]
  },
  {
   "cell_type": "code",
   "execution_count": 38,
   "id": "7eb3b9b5-4059-4603-ab4d-3c614b84211d",
   "metadata": {
    "tags": []
   },
   "outputs": [
    {
     "name": "stdout",
     "output_type": "stream",
     "text": [
      "Honda\n"
     ]
    }
   ],
   "source": [
    "print(my_car.get_make())  # Accessing protected attribute"
   ]
  },
  {
   "cell_type": "code",
   "execution_count": 39,
   "id": "36fc71af-b5bd-4954-93e6-be1708d2191c",
   "metadata": {
    "tags": []
   },
   "outputs": [],
   "source": [
    "my_car.set_model(\"Audi\")  # Modifying private attribute"
   ]
  },
  {
   "cell_type": "code",
   "execution_count": 40,
   "id": "1a21c5bd-9474-4469-8c6b-77c5846dd905",
   "metadata": {
    "tags": []
   },
   "outputs": [
    {
     "name": "stdout",
     "output_type": "stream",
     "text": [
      "Audi\n"
     ]
    }
   ],
   "source": [
    "print(my_car.get_model())  # Accessing modified private attribute"
   ]
  },
  {
   "cell_type": "code",
   "execution_count": 41,
   "id": "08661942-2942-43e2-a7c0-8c13640ede8e",
   "metadata": {
    "tags": []
   },
   "outputs": [
    {
     "name": "stdout",
     "output_type": "stream",
     "text": [
      "2017\n"
     ]
    }
   ],
   "source": [
    "print(my_car.year)  # Accessing public attribute\n",
    "#no bracket with year"
   ]
  },
  {
   "cell_type": "markdown",
   "id": "6366606b-89b3-444a-a5e6-19a04290ffd9",
   "metadata": {},
   "source": [
    "## Python RegEx\n",
    "-  We define a pattern using a regular expression to match email addresses. The pattern r”\\b[A-Za-z0-9._%+-]+@[A-Za-z0-9.-]+\\.[A-Za-z]{2,}\\b” is a common pattern for matching email addresses. Using the re.search() function, the pattern is then found in the given text. If a match is found, we use the match object’s group() method to extract and print the matched email. Otherwise, a message indicating that no email was found is displayed."
   ]
  },
  {
   "cell_type": "code",
   "execution_count": 44,
   "id": "2c3c8d9f-bd6e-4963-9bb3-b52189642f1e",
   "metadata": {
    "tags": []
   },
   "outputs": [
    {
     "data": {
      "text/plain": [
       "'Hello, my email is example@example.com'"
      ]
     },
     "execution_count": 44,
     "metadata": {},
     "output_type": "execute_result"
    }
   ],
   "source": [
    "import re\n",
    "# Text to search\n",
    "text = \"Hello, my email is example@example.com\"\n",
    "# Define a pattern to match email addresses\n",
    "pattern = r\"\\b[A-Za-z0-9._%+-]+@[A-Za-z0-9.-]+\\.[A-Za-z]{2,}\\b\"\n",
    "text"
   ]
  },
  {
   "cell_type": "code",
   "execution_count": 45,
   "id": "bf683994-78cb-4a8b-adb5-66eba6e3a0ea",
   "metadata": {
    "tags": []
   },
   "outputs": [
    {
     "data": {
      "text/plain": [
       "<re.Match object; span=(19, 38), match='example@example.com'>"
      ]
     },
     "execution_count": 45,
     "metadata": {},
     "output_type": "execute_result"
    }
   ],
   "source": [
    "# Search for the pattern in the text\n",
    "match = re.search(pattern, text)\n",
    "match"
   ]
  },
  {
   "cell_type": "code",
   "execution_count": 46,
   "id": "29c9ad4f-3fa3-42a8-a2f2-d2ccae406a7e",
   "metadata": {
    "tags": []
   },
   "outputs": [
    {
     "name": "stdout",
     "output_type": "stream",
     "text": [
      "Found email: example@example.com\n"
     ]
    }
   ],
   "source": [
    "# Check if a match is found\n",
    "if match:\n",
    "    email = match.group()\n",
    "    print(\"Found email:\", email)\n",
    "else:\n",
    "    print(\"No email found.\")"
   ]
  },
  {
   "cell_type": "markdown",
   "id": "07019ba3-52f6-4868-a55d-ea6d1144b59a",
   "metadata": {},
   "source": [
    "## Links\n",
    "-  https://www.geeksforgeeks.org/python-cheat-sheet/"
   ]
  },
  {
   "cell_type": "code",
   "execution_count": null,
   "id": "5b41ce4b-5ce5-4fe4-843d-6d81919fbe2a",
   "metadata": {},
   "outputs": [],
   "source": []
  }
 ],
 "metadata": {
  "kernelspec": {
   "display_name": "Python 3 (ipykernel)",
   "language": "python",
   "name": "python3"
  },
  "language_info": {
   "codemirror_mode": {
    "name": "ipython",
    "version": 3
   },
   "file_extension": ".py",
   "mimetype": "text/x-python",
   "name": "python",
   "nbconvert_exporter": "python",
   "pygments_lexer": "ipython3",
   "version": "3.11.5"
  }
 },
 "nbformat": 4,
 "nbformat_minor": 5
}
