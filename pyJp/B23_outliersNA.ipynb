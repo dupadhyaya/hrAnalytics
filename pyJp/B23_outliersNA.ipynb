{
 "cells": [
  {
   "cell_type": "markdown",
   "id": "6dbb8401-6702-4cac-bc7f-c7af31290a7e",
   "metadata": {},
   "source": [
    "# Outliers, Duplicates and Missing Values NA"
   ]
  },
  {
   "cell_type": "markdown",
   "id": "fbf9bfe5-2d23-454c-a6a7-ab59fdde39ca",
   "metadata": {},
   "source": [
    "## Outliers\n",
    "When exploring data, the outliers are the extreme values within the dataset. That means the outlier data points vary greatly from the expected values—either being much larger or significantly smaller. For data that follows a normal distribution, the values that fall more than three standard deviations from the mean are typically considered outliers. \n",
    "Outliers can find their way into a dataset naturally through variability, or they can be the result of issues like human error, faulty equipment, or poor sampling. Regardless of how they get into the data, outliers can have a big impact on statistical analysis and machine learning because they impact calculations like mean and standard deviation, and they can skew hypothesis tests. A data analyst should use various techniques to visualize and identify outliers before deciding whether they should be dropped, kept, or modified"
   ]
  },
  {
   "cell_type": "markdown",
   "id": "6e844e99-729f-4589-9823-df09a5e889d5",
   "metadata": {},
   "source": [
    "## data set\n",
    "<br> The examples throughout this article use the Uber Fares Dataset available on Kaggle.com. Download the CSV to follow along. It has nine columns and 200k rows. These are the fields we will use:\n",
    "    - https://www.kaggle.com/datasets/yasserh/uber-fares-dataset?select=uber.csv\n",
    "\n",
    "-  key — a unique identifier for each trip\n",
    "-  fare_amount — the cost of each trip in usd\n",
    "-  pickup_datetime — date and time when the meter was engaged\n",
    "-  passenger_count — the number of passengers in the vehicle (driver entered value)\n"
   ]
  },
  {
   "cell_type": "code",
   "execution_count": 2,
   "id": "9d613f5e-dc59-4d12-9de8-449af6f09f6f",
   "metadata": {
    "tags": []
   },
   "outputs": [],
   "source": [
    "path ='../data/misc/uber.csv'\n",
    "import pandas as pd\n",
    "import numpy as np\n",
    "import matplotlib.pyplot as plt\n",
    "import seaborn as sns\n",
    "import os\n",
    "import plotly.express as px  #interactive plots\n",
    "from pydataset import data"
   ]
  },
  {
   "cell_type": "code",
   "execution_count": 3,
   "id": "be95fd5f-6a29-43bd-8a25-a370e18e7850",
   "metadata": {
    "tags": []
   },
   "outputs": [
    {
     "data": {
      "text/plain": [
       "(32, 11)"
      ]
     },
     "execution_count": 3,
     "metadata": {},
     "output_type": "execute_result"
    }
   ],
   "source": [
    "# mtcars\n",
    "mt = data('mtcars')\n",
    "mt.shape"
   ]
  },
  {
   "cell_type": "code",
   "execution_count": 4,
   "id": "17414b2b-4129-4865-9a83-74d673018a34",
   "metadata": {
    "tags": []
   },
   "outputs": [
    {
     "data": {
      "text/html": [
       "<div>\n",
       "<style scoped>\n",
       "    .dataframe tbody tr th:only-of-type {\n",
       "        vertical-align: middle;\n",
       "    }\n",
       "\n",
       "    .dataframe tbody tr th {\n",
       "        vertical-align: top;\n",
       "    }\n",
       "\n",
       "    .dataframe thead th {\n",
       "        text-align: right;\n",
       "    }\n",
       "</style>\n",
       "<table border=\"1\" class=\"dataframe\">\n",
       "  <thead>\n",
       "    <tr style=\"text-align: right;\">\n",
       "      <th></th>\n",
       "      <th>mpg</th>\n",
       "      <th>wt</th>\n",
       "    </tr>\n",
       "  </thead>\n",
       "  <tbody>\n",
       "    <tr>\n",
       "      <th>count</th>\n",
       "      <td>32.000000</td>\n",
       "      <td>32.000000</td>\n",
       "    </tr>\n",
       "    <tr>\n",
       "      <th>mean</th>\n",
       "      <td>20.090625</td>\n",
       "      <td>3.217250</td>\n",
       "    </tr>\n",
       "    <tr>\n",
       "      <th>std</th>\n",
       "      <td>6.026948</td>\n",
       "      <td>0.978457</td>\n",
       "    </tr>\n",
       "    <tr>\n",
       "      <th>min</th>\n",
       "      <td>10.400000</td>\n",
       "      <td>1.513000</td>\n",
       "    </tr>\n",
       "    <tr>\n",
       "      <th>25%</th>\n",
       "      <td>15.425000</td>\n",
       "      <td>2.581250</td>\n",
       "    </tr>\n",
       "    <tr>\n",
       "      <th>50%</th>\n",
       "      <td>19.200000</td>\n",
       "      <td>3.325000</td>\n",
       "    </tr>\n",
       "    <tr>\n",
       "      <th>75%</th>\n",
       "      <td>22.800000</td>\n",
       "      <td>3.610000</td>\n",
       "    </tr>\n",
       "    <tr>\n",
       "      <th>max</th>\n",
       "      <td>33.900000</td>\n",
       "      <td>5.424000</td>\n",
       "    </tr>\n",
       "  </tbody>\n",
       "</table>\n",
       "</div>"
      ],
      "text/plain": [
       "             mpg         wt\n",
       "count  32.000000  32.000000\n",
       "mean   20.090625   3.217250\n",
       "std     6.026948   0.978457\n",
       "min    10.400000   1.513000\n",
       "25%    15.425000   2.581250\n",
       "50%    19.200000   3.325000\n",
       "75%    22.800000   3.610000\n",
       "max    33.900000   5.424000"
      ]
     },
     "execution_count": 4,
     "metadata": {},
     "output_type": "execute_result"
    }
   ],
   "source": [
    "mt[['mpg','wt']].describe()"
   ]
  },
  {
   "cell_type": "code",
   "execution_count": 5,
   "id": "bc500ea6-99d1-42ab-ac23-82750d0a2916",
   "metadata": {
    "tags": []
   },
   "outputs": [
    {
     "data": {
      "text/plain": [
       "0.25    15.425\n",
       "0.75    22.800\n",
       "Name: mpg, dtype: float64"
      ]
     },
     "execution_count": 5,
     "metadata": {},
     "output_type": "execute_result"
    }
   ],
   "source": [
    "mt['mpg'].quantile([.25, .75])"
   ]
  },
  {
   "cell_type": "code",
   "execution_count": 6,
   "id": "79f57a05-fb2e-4aa2-b023-f5fa8ad25f63",
   "metadata": {
    "tags": []
   },
   "outputs": [
    {
     "data": {
      "text/plain": [
       "array([[21. , 21. , 22.8, 21.4, 18.7, 18.1, 14.3, 24.4, 22.8, 19.2, 17.8,\n",
       "        16.4, 17.3, 15.2, 10.4, 10.4, 14.7, 32.4, 30.4, 33.9, 21.5, 15.5,\n",
       "        15.2, 13.3, 19.2, 27.3, 26. , 30.4, 15.8, 19.7, 15. , 21.4]])"
      ]
     },
     "execution_count": 6,
     "metadata": {},
     "output_type": "execute_result"
    }
   ],
   "source": [
    "mtmpg = np.array(mt['mpg'].to_list()).reshape(-1,32)\n",
    "mtmpg\n",
    "#converto array"
   ]
  },
  {
   "cell_type": "code",
   "execution_count": 7,
   "id": "c8944af4-a7d1-4c75-96ee-aeb3a0221848",
   "metadata": {
    "tags": []
   },
   "outputs": [
    {
     "name": "stdout",
     "output_type": "stream",
     "text": [
      "15.425 22.8 7.375 4.36 33.86\n"
     ]
    }
   ],
   "source": [
    "q1mpg = np.quantile(mtmpg,q=.25)\n",
    "q3mpg = np.quantile(mtmpg,q=.75)\n",
    "IQRmpg = q3mpg - q1mpg\n",
    "print(q1mpg, q3mpg, IQRmpg, (q1mpg - 1.5*IQRmpg).round(2), (q3mpg + 1.5 * IQRmpg).round(2))"
   ]
  },
  {
   "cell_type": "code",
   "execution_count": 8,
   "id": "9a800466-8595-4c4a-bb18-c721a3af574a",
   "metadata": {
    "tags": []
   },
   "outputs": [
    {
     "data": {
      "text/plain": [
       "array([], dtype=float64)"
      ]
     },
     "execution_count": 8,
     "metadata": {},
     "output_type": "execute_result"
    }
   ],
   "source": [
    "mtmpg[mtmpg < (q1mpg - 1.5*IQRmpg)]"
   ]
  },
  {
   "cell_type": "code",
   "execution_count": 9,
   "id": "79b8d249-99a9-49e2-993f-6a8b66e499b1",
   "metadata": {
    "tags": []
   },
   "outputs": [
    {
     "data": {
      "text/plain": [
       "array([33.9])"
      ]
     },
     "execution_count": 9,
     "metadata": {},
     "output_type": "execute_result"
    }
   ],
   "source": [
    "mtmpg[mtmpg > (q3mpg + 1.5*IQRmpg)]"
   ]
  },
  {
   "cell_type": "code",
   "execution_count": 10,
   "id": "8177a90a-da17-47f2-b35c-fce0cae8ed8c",
   "metadata": {
    "tags": []
   },
   "outputs": [
    {
     "data": {
      "text/plain": [
       "array([33.9])"
      ]
     },
     "execution_count": 10,
     "metadata": {},
     "output_type": "execute_result"
    }
   ],
   "source": [
    "mtmpg[(mtmpg < (q1mpg - 1.5*IQRmpg)) | (mtmpg > (q3mpg + 1.5*IQRmpg))]"
   ]
  },
  {
   "cell_type": "code",
   "execution_count": 11,
   "id": "864c1e6b-07b5-45ee-90dc-c199e0069333",
   "metadata": {
    "tags": []
   },
   "outputs": [
    {
     "data": {
      "text/plain": [
       "array([21. , 21. , 22.8, 21.4, 18.7, 18.1, 14.3, 24.4, 22.8, 19.2, 17.8,\n",
       "       16.4, 17.3, 15.2, 10.4, 10.4, 14.7, 32.4, 30.4, 33.9, 21.5, 15.5,\n",
       "       15.2, 13.3, 19.2, 27.3, 26. , 30.4, 15.8, 19.7, 15. , 21.4])"
      ]
     },
     "execution_count": 11,
     "metadata": {},
     "output_type": "execute_result"
    }
   ],
   "source": [
    "#ACTIONS - remove, cap, impute\n",
    "mtmpg[~(mtmpg < (q1mpg - 1.5*IQRmpg)) | (mtmpg > (q3mpg + 1.5*IQRmpg))]  #remove"
   ]
  },
  {
   "cell_type": "code",
   "execution_count": 12,
   "id": "3c3297bb-e181-44b0-9652-4bbdfe680a17",
   "metadata": {
    "tags": []
   },
   "outputs": [
    {
     "name": "stdout",
     "output_type": "stream",
     "text": [
      "[[21.  21.  22.8 21.4 18.7 18.1 14.3 24.4 22.8 19.2 17.8 16.4 17.3 15.2\n",
      "  12.  12.  14.7 30.  30.  30.  21.5 15.5 15.2 13.3 19.2 27.3 26.  30.\n",
      "  15.8 19.7 15.  21.4]] \t size :  32\n"
     ]
    }
   ],
   "source": [
    "#cap values : < 12 to 12, >30 to 30\n",
    "mtmpgCap = np.where(mtmpg > 30, 30, np.where(mtmpg < 12, 12, mtmpg))\n",
    "print(mtmpgCap, '\\t size : ', np.size(mtmpgCap))"
   ]
  },
  {
   "cell_type": "code",
   "execution_count": 13,
   "id": "e59e527c-557e-445f-a125-66b995259d11",
   "metadata": {
    "tags": []
   },
   "outputs": [
    {
     "name": "stdout",
     "output_type": "stream",
     "text": [
      "Mean Value :  20.09\n",
      "[[21.   21.   22.8  21.4  18.7  18.1  14.3  24.4  22.8  19.2  17.8  16.4\n",
      "  17.3  15.2  10.4  10.4  14.7  32.4  30.4  20.09 21.5  15.5  15.2  13.3\n",
      "  19.2  27.3  26.   30.4  15.8  19.7  15.   21.4 ]] \t size :  32  \n",
      " Original values : [[21.  21.  22.8 21.4 18.7 18.1 14.3 24.4 22.8 19.2 17.8 16.4 17.3 15.2\n",
      "  10.4 10.4 14.7 32.4 30.4 33.9 21.5 15.5 15.2 13.3 19.2 27.3 26.  30.4\n",
      "  15.8 19.7 15.  21.4]]\n"
     ]
    }
   ],
   "source": [
    "#replace/Impute outliers with mean values\n",
    "print('Mean Value : ', np.mean(mtmpg).round(2))\n",
    "mpgMean = np.mean(mtmpg).round(2)\n",
    "mtmpgImpute = np.where(mtmpg > (q3mpg + 1.5*IQRmpg), mpgMean,  np.where(mtmpg < (q1mpg - 1.5*IQRmpg), mpgMean, mtmpg))\n",
    "print(mtmpgImpute, '\\t size : ', np.size(mtmpgCap), ' \\n Original values :', mtmpg)"
   ]
  },
  {
   "cell_type": "code",
   "execution_count": 14,
   "id": "d93b9386-b98e-42e1-89b7-94e1740c85a7",
   "metadata": {},
   "outputs": [],
   "source": [
    "#now practise with other variable - weight"
   ]
  },
  {
   "cell_type": "code",
   "execution_count": null,
   "id": "3c489bbd-1bc7-4980-977d-9b670d748337",
   "metadata": {},
   "outputs": [],
   "source": []
  },
  {
   "cell_type": "code",
   "execution_count": 15,
   "id": "0288f466-fd2d-49c1-9462-29b822b3c520",
   "metadata": {},
   "outputs": [],
   "source": [
    "#then practise with dataset - uber  \n",
    "#remove outliers from passenger count and fare_amount"
   ]
  },
  {
   "cell_type": "code",
   "execution_count": 16,
   "id": "7c1fe911-eb9c-49a3-a1a7-421a9c34258f",
   "metadata": {
    "tags": []
   },
   "outputs": [
    {
     "data": {
      "text/plain": [
       "['.ipynb_checkpoints',\n",
       " 'AirPassengers.csv',\n",
       " 'ardata.csv',\n",
       " 'sampleWords.txt',\n",
       " 'uber.csv']"
      ]
     },
     "execution_count": 16,
     "metadata": {},
     "output_type": "execute_result"
    }
   ],
   "source": [
    "os.listdir('../data/misc')"
   ]
  },
  {
   "cell_type": "code",
   "execution_count": 17,
   "id": "a5d1b8c6-75c5-4949-9277-e779e6234389",
   "metadata": {
    "tags": []
   },
   "outputs": [
    {
     "name": "stdout",
     "output_type": "stream",
     "text": [
      "<class 'pandas.core.frame.DataFrame'>\n",
      "RangeIndex: 200000 entries, 0 to 199999\n",
      "Data columns (total 9 columns):\n",
      " #   Column             Non-Null Count   Dtype  \n",
      "---  ------             --------------   -----  \n",
      " 0   Unnamed: 0         200000 non-null  int64  \n",
      " 1   key                200000 non-null  object \n",
      " 2   fare_amount        200000 non-null  float64\n",
      " 3   pickup_datetime    200000 non-null  object \n",
      " 4   pickup_longitude   200000 non-null  float64\n",
      " 5   pickup_latitude    200000 non-null  float64\n",
      " 6   dropoff_longitude  199999 non-null  float64\n",
      " 7   dropoff_latitude   199999 non-null  float64\n",
      " 8   passenger_count    200000 non-null  int64  \n",
      "dtypes: float64(5), int64(2), object(2)\n",
      "memory usage: 13.7+ MB\n"
     ]
    }
   ],
   "source": [
    "df = pd.read_csv(path)\n",
    "df.info()"
   ]
  },
  {
   "cell_type": "code",
   "execution_count": 18,
   "id": "ab6fc255-5735-4827-95b5-857fb1ee9e44",
   "metadata": {
    "tags": []
   },
   "outputs": [
    {
     "data": {
      "text/html": [
       "<div>\n",
       "<style scoped>\n",
       "    .dataframe tbody tr th:only-of-type {\n",
       "        vertical-align: middle;\n",
       "    }\n",
       "\n",
       "    .dataframe tbody tr th {\n",
       "        vertical-align: top;\n",
       "    }\n",
       "\n",
       "    .dataframe thead th {\n",
       "        text-align: right;\n",
       "    }\n",
       "</style>\n",
       "<table border=\"1\" class=\"dataframe\">\n",
       "  <thead>\n",
       "    <tr style=\"text-align: right;\">\n",
       "      <th></th>\n",
       "      <th>fare_amount</th>\n",
       "      <th>passenger_count</th>\n",
       "    </tr>\n",
       "  </thead>\n",
       "  <tbody>\n",
       "    <tr>\n",
       "      <th>0</th>\n",
       "      <td>7.5</td>\n",
       "      <td>1</td>\n",
       "    </tr>\n",
       "    <tr>\n",
       "      <th>1</th>\n",
       "      <td>7.7</td>\n",
       "      <td>1</td>\n",
       "    </tr>\n",
       "    <tr>\n",
       "      <th>2</th>\n",
       "      <td>12.9</td>\n",
       "      <td>1</td>\n",
       "    </tr>\n",
       "    <tr>\n",
       "      <th>3</th>\n",
       "      <td>5.3</td>\n",
       "      <td>3</td>\n",
       "    </tr>\n",
       "    <tr>\n",
       "      <th>4</th>\n",
       "      <td>16.0</td>\n",
       "      <td>5</td>\n",
       "    </tr>\n",
       "  </tbody>\n",
       "</table>\n",
       "</div>"
      ],
      "text/plain": [
       "   fare_amount  passenger_count\n",
       "0          7.5                1\n",
       "1          7.7                1\n",
       "2         12.9                1\n",
       "3          5.3                3\n",
       "4         16.0                5"
      ]
     },
     "execution_count": 18,
     "metadata": {},
     "output_type": "execute_result"
    }
   ],
   "source": [
    "#drop the unnecessary columns\n",
    "df1 = df.drop(columns=(['Unnamed: 0', 'key','pickup_datetime', 'pickup_longitude', 'pickup_latitude', 'dropoff_longitude', 'dropoff_latitude']))\n",
    "df1.head()"
   ]
  },
  {
   "cell_type": "code",
   "execution_count": 19,
   "id": "5e776d15-c18e-4d8a-bb9f-1c57e5f7651b",
   "metadata": {
    "tags": []
   },
   "outputs": [
    {
     "data": {
      "text/html": [
       "<div>\n",
       "<style scoped>\n",
       "    .dataframe tbody tr th:only-of-type {\n",
       "        vertical-align: middle;\n",
       "    }\n",
       "\n",
       "    .dataframe tbody tr th {\n",
       "        vertical-align: top;\n",
       "    }\n",
       "\n",
       "    .dataframe thead th {\n",
       "        text-align: right;\n",
       "    }\n",
       "</style>\n",
       "<table border=\"1\" class=\"dataframe\">\n",
       "  <thead>\n",
       "    <tr style=\"text-align: right;\">\n",
       "      <th></th>\n",
       "      <th>fare_amount</th>\n",
       "      <th>passenger_count</th>\n",
       "    </tr>\n",
       "  </thead>\n",
       "  <tbody>\n",
       "    <tr>\n",
       "      <th>count</th>\n",
       "      <td>200000.000000</td>\n",
       "      <td>200000.000000</td>\n",
       "    </tr>\n",
       "    <tr>\n",
       "      <th>mean</th>\n",
       "      <td>11.359955</td>\n",
       "      <td>1.684535</td>\n",
       "    </tr>\n",
       "    <tr>\n",
       "      <th>std</th>\n",
       "      <td>9.901776</td>\n",
       "      <td>1.385997</td>\n",
       "    </tr>\n",
       "    <tr>\n",
       "      <th>min</th>\n",
       "      <td>-52.000000</td>\n",
       "      <td>0.000000</td>\n",
       "    </tr>\n",
       "    <tr>\n",
       "      <th>25%</th>\n",
       "      <td>6.000000</td>\n",
       "      <td>1.000000</td>\n",
       "    </tr>\n",
       "    <tr>\n",
       "      <th>50%</th>\n",
       "      <td>8.500000</td>\n",
       "      <td>1.000000</td>\n",
       "    </tr>\n",
       "    <tr>\n",
       "      <th>75%</th>\n",
       "      <td>12.500000</td>\n",
       "      <td>2.000000</td>\n",
       "    </tr>\n",
       "    <tr>\n",
       "      <th>max</th>\n",
       "      <td>499.000000</td>\n",
       "      <td>208.000000</td>\n",
       "    </tr>\n",
       "  </tbody>\n",
       "</table>\n",
       "</div>"
      ],
      "text/plain": [
       "         fare_amount  passenger_count\n",
       "count  200000.000000    200000.000000\n",
       "mean       11.359955         1.684535\n",
       "std         9.901776         1.385997\n",
       "min       -52.000000         0.000000\n",
       "25%         6.000000         1.000000\n",
       "50%         8.500000         1.000000\n",
       "75%        12.500000         2.000000\n",
       "max       499.000000       208.000000"
      ]
     },
     "execution_count": 19,
     "metadata": {},
     "output_type": "execute_result"
    }
   ],
   "source": [
    "df.describe()[['fare_amount', 'passenger_count']]\n",
    "#compare Mean, Min, Max.  \n",
    "# fare -mean of 11, max of 499\n",
    "# passengers - mean of 1.68, max of 208"
   ]
  },
  {
   "cell_type": "code",
   "execution_count": 20,
   "id": "3aa10faf-fecb-4f56-8ab6-a92b62f02fef",
   "metadata": {
    "tags": []
   },
   "outputs": [],
   "source": [
    "#create a function to find outliers using IQR\n",
    "def find_outliers_IQR(df):\n",
    "   q1=df.quantile(0.25)\n",
    "   q3=df.quantile(0.75)\n",
    "   IQR=q3-q1\n",
    "   outliers = df[((df<(q1-1.5*IQR)) | (df>(q3+1.5*IQR)))]\n",
    "   return outliers"
   ]
  },
  {
   "cell_type": "code",
   "execution_count": 21,
   "id": "907b0a06-628d-494e-86f0-4b5bf03b7ba3",
   "metadata": {
    "tags": []
   },
   "outputs": [],
   "source": [
    "from scipy.stats import iqr\n",
    "k=1.5  # (Q1 - k * IQR), (Q3 + k * IQR)\n",
    "#we can set k and use median value for finding outliers"
   ]
  },
  {
   "cell_type": "markdown",
   "id": "b5a013ea-6553-4b3b-8008-d516dc8b2165",
   "metadata": {},
   "source": [
    "# what to do with outlers\n",
    "-  Drop the outliers\n",
    "-  Cap the outliers\n",
    "-  Replace outliers using imputation as if they were missing values"
   ]
  },
  {
   "cell_type": "code",
   "execution_count": 22,
   "id": "43886a2f-97a9-4ed6-963a-d949ea9e9b5a",
   "metadata": {
    "tags": []
   },
   "outputs": [],
   "source": [
    "# drop outliers from passenger count"
   ]
  },
  {
   "cell_type": "code",
   "execution_count": 23,
   "id": "7a111f82-a9ea-42e6-b46b-97e5aa65ce20",
   "metadata": {
    "tags": []
   },
   "outputs": [
    {
     "name": "stdout",
     "output_type": "stream",
     "text": [
      "number of outliers:17167\n",
      "max outlier value:499.0\n",
      "min outlier value:-52.0\n"
     ]
    }
   ],
   "source": [
    "outliers = find_outliers_IQR(df['fare_amount'])\n",
    "print('number of outliers:'+ str(len(outliers)))\n",
    "print('max outlier value:'+ str(outliers.max()))\n",
    "print('min outlier value:'+ str(outliers.min()))"
   ]
  },
  {
   "cell_type": "code",
   "execution_count": 24,
   "id": "e540301e-eb2c-4bcb-8f1a-5220593e66ef",
   "metadata": {
    "tags": []
   },
   "outputs": [
    {
     "data": {
      "image/png": "[encoded data removed]",
      "text/plain": [
       "<Figure size 500x300 with 1 Axes>"
      ]
     },
     "metadata": {},
     "output_type": "display_data"
    }
   ],
   "source": [
    "fig = plt.figure(figsize=(5,3))\n",
    "plt.boxplot(df.fare_amount)\n",
    "plt.show();"
   ]
  },
  {
   "cell_type": "code",
   "execution_count": 25,
   "id": "3ac15f29-857f-4138-846c-d4b3daaba558",
   "metadata": {
    "tags": []
   },
   "outputs": [
    {
     "name": "stdout",
     "output_type": "stream",
     "text": [
      "-52.0 499.0 6.0 12.5 6.5 \t Bounds : Lower/Upper  -3.75 22.25\n"
     ]
    }
   ],
   "source": [
    "min = np.min(df.fare_amount)\n",
    "max = np.max(df.fare_amount)\n",
    "q1 = np.quantile(df.fare_amount, q=.25)\n",
    "q3 = np.quantile(df.fare_amount, q=.75)\n",
    "iqr = q3 - q1\n",
    "lowerBound = q1 - (1.5 * iqr)\n",
    "upperBound = q3 + (1.5 * iqr)\n",
    "print(min, max, q1,q3, iqr, '\\t Bounds : Lower/Upper ', lowerBound, upperBound)"
   ]
  },
  {
   "cell_type": "code",
   "execution_count": 26,
   "id": "d81acfae-ea88-4ef2-a761-42bf20e39566",
   "metadata": {
    "tags": []
   },
   "outputs": [
    {
     "name": "stdout",
     "output_type": "stream",
     "text": [
      "6         24.50\n",
      "30        25.70\n",
      "34        39.50\n",
      "39        29.00\n",
      "48        56.80\n",
      "          ...  \n",
      "199976    49.70\n",
      "199977    43.50\n",
      "199982    57.33\n",
      "199985    24.00\n",
      "199997    30.90\n",
      "Name: fare_amount, Length: 17167, dtype: float64 \n",
      " : Count of Outliers :  17167 \n",
      " : Count of non outliers  182833\n"
     ]
    }
   ],
   "source": [
    "outliersFare = df.fare_amount[(df.fare_amount<= lowerBound) | (df.fare_amount >= upperBound)]\n",
    "nonOutliersFare = df.fare_amount[~ ((df.fare_amount<= lowerBound) | (df.fare_amount >= upperBound))]\n",
    "print(outliersFare, '\\n : Count of Outliers : ', np.size(outliersFare), '\\n : Count of non outliers ', np.size(nonOutliersFare))"
   ]
  },
  {
   "cell_type": "code",
   "execution_count": 27,
   "id": "269e4b2d-abe6-407b-9f76-1ba806473dc6",
   "metadata": {
    "tags": []
   },
   "outputs": [
    {
     "data": {
      "text/plain": [
       "<matplotlib.patches.StepPatch at 0x25fe18791d0>"
      ]
     },
     "execution_count": 27,
     "metadata": {},
     "output_type": "execute_result"
    },
    {
     "data": {
      "image/png": "[encoded data removed]",
      "text/plain": [
       "<Figure size 640x480 with 1 Axes>"
      ]
     },
     "metadata": {},
     "output_type": "display_data"
    }
   ],
   "source": [
    "counts, bins = np.histogram(df.fare_amount, bins=100, range=(1,100))\n",
    "plt.stairs(counts, bins)"
   ]
  },
  {
   "cell_type": "code",
   "execution_count": 28,
   "id": "ab97b288-4fe4-4e66-8174-4deb71b290de",
   "metadata": {
    "tags": []
   },
   "outputs": [
    {
     "data": {
      "image/png": "[encoded data removed]",
      "text/plain": [
       "<Figure size 1200x700 with 3 Axes>"
      ]
     },
     "metadata": {},
     "output_type": "display_data"
    }
   ],
   "source": [
    "fig, (ax1, ax2, ax3) = plt.subplots(1,3, figsize=(12, 7))\n",
    "bp1 = ax1.boxplot(df.fare_amount, notch=True, patch_artist=True, boxprops=dict(facecolor=\"C0\"))\n",
    "bp2 = ax2.boxplot(nonOutliersFare, notch=True, patch_artist=True, boxprops=dict(facecolor=\"C1\"))\n",
    "bp3 = ax3.boxplot(outliersFare, notch=True, patch_artist=True, boxprops=dict(facecolor=\"C2\"))\n",
    "plt.legend([bp1[\"boxes\"][0], bp2[\"boxes\"][0], bp3[\"boxes\"][0]], [\"Original\", \"Without Outliers\",'Outliers Only'], loc='upper right')\n",
    "plt.show();"
   ]
  },
  {
   "cell_type": "code",
   "execution_count": 29,
   "id": "a0d78761-c26b-4298-9c2e-ad9d34ffad87",
   "metadata": {
    "tags": []
   },
   "outputs": [
    {
     "data": {
      "image/png": "[encoded data removed]",
      "text/plain": [
       "<Figure size 1200x700 with 4 Axes>"
      ]
     },
     "metadata": {},
     "output_type": "display_data"
    }
   ],
   "source": [
    "fig, (ax1, ax2, ax3, ax4) = plt.subplots(4,1, figsize=(12, 7))\n",
    "nBins = 10\n",
    "plt.grid(axis='both', alpha=0.75)\n",
    "ax1.hist(df.fare_amount, histtype='bar',edgecolor='black', bins=[0,1,2,3,4,5,6,7,8,10,12,15,20,30,40], label='Original - with outliers')\n",
    "ax1.set_title('Original')\n",
    "ax2.hist(nonOutliersFare, nBins, label='Without Oultiers - Desired', edgecolor='red', histtype='bar', color='g')\n",
    "ax2.set_title('Without Outliers')\n",
    "ax3.hist(outliersFare, nBins, label='Outliers Only')\n",
    "ax3.set_title('Outliers only')\n",
    "#ax4.hist(df.fare_amount, nBins+100, label='Original - with outliers - More Bins')\n",
    "ax4.hist(df.fare_amount, bins=[0,5,10,15,20,50, 500], label='Original - with outliers - More Bins')\n",
    "ax4.set_title('Original with Outliers')\n",
    "plt.legend(loc='upper right')\n",
    "plt.show();"
   ]
  },
  {
   "cell_type": "code",
   "execution_count": 30,
   "id": "2a21492a-eedf-49b3-82fa-854998a7ab11",
   "metadata": {},
   "outputs": [],
   "source": [
    "# drop outliers from fare_amount"
   ]
  },
  {
   "cell_type": "markdown",
   "id": "4ea4f229-be52-4a88-9d03-938d7078bbed",
   "metadata": {},
   "source": [
    "# Links\n",
    "https://careerfoundry.com/en/blog/data-analytics/how-to-find-outliers/\n",
    "https://www.geeksforgeeks.org/matplotlib-pyplot-hist-in-python/\n"
   ]
  },
  {
   "cell_type": "markdown",
   "id": "bb7dc6e4-b2a5-4f1a-9e5f-1ff82cd79405",
   "metadata": {},
   "source": [
    "# Missing Values\n",
    "isnull()\n",
    "notnull()\n",
    "dropna()\n",
    "fillna()\n",
    "replace()\n",
    "interpolate()"
   ]
  },
  {
   "cell_type": "code",
   "execution_count": 31,
   "id": "b371ca01-11ec-4dfa-89f5-6f5d36d9c450",
   "metadata": {
    "tags": []
   },
   "outputs": [
    {
     "data": {
      "text/html": [
       "<div>\n",
       "<style scoped>\n",
       "    .dataframe tbody tr th:only-of-type {\n",
       "        vertical-align: middle;\n",
       "    }\n",
       "\n",
       "    .dataframe tbody tr th {\n",
       "        vertical-align: top;\n",
       "    }\n",
       "\n",
       "    .dataframe thead th {\n",
       "        text-align: right;\n",
       "    }\n",
       "</style>\n",
       "<table border=\"1\" class=\"dataframe\">\n",
       "  <thead>\n",
       "    <tr style=\"text-align: right;\">\n",
       "      <th></th>\n",
       "      <th>Maths</th>\n",
       "      <th>Science</th>\n",
       "      <th>English</th>\n",
       "    </tr>\n",
       "  </thead>\n",
       "  <tbody>\n",
       "    <tr>\n",
       "      <th>0</th>\n",
       "      <td>100.0</td>\n",
       "      <td>30.0</td>\n",
       "      <td>NaN</td>\n",
       "    </tr>\n",
       "    <tr>\n",
       "      <th>1</th>\n",
       "      <td>90.0</td>\n",
       "      <td>45.0</td>\n",
       "      <td>40.0</td>\n",
       "    </tr>\n",
       "    <tr>\n",
       "      <th>2</th>\n",
       "      <td>NaN</td>\n",
       "      <td>56.0</td>\n",
       "      <td>80.0</td>\n",
       "    </tr>\n",
       "    <tr>\n",
       "      <th>3</th>\n",
       "      <td>95.0</td>\n",
       "      <td>NaN</td>\n",
       "      <td>98.0</td>\n",
       "    </tr>\n",
       "  </tbody>\n",
       "</table>\n",
       "</div>"
      ],
      "text/plain": [
       "   Maths  Science  English\n",
       "0  100.0     30.0      NaN\n",
       "1   90.0     45.0     40.0\n",
       "2    NaN     56.0     80.0\n",
       "3   95.0      NaN     98.0"
      ]
     },
     "execution_count": 31,
     "metadata": {},
     "output_type": "execute_result"
    }
   ],
   "source": [
    "dict = {'Maths':[100, 90, np.nan, 95],\n",
    "        'Science': [30, 45, 56, np.nan],\n",
    "        'English':[np.nan, 40, 80, 98]}\n",
    "df = pd.DataFrame(dict)\n",
    "df "
   ]
  },
  {
   "cell_type": "code",
   "execution_count": 32,
   "id": "1ce23b2c-651e-49f6-8694-9f49e630153e",
   "metadata": {
    "tags": []
   },
   "outputs": [
    {
     "data": {
      "text/html": [
       "<div>\n",
       "<style scoped>\n",
       "    .dataframe tbody tr th:only-of-type {\n",
       "        vertical-align: middle;\n",
       "    }\n",
       "\n",
       "    .dataframe tbody tr th {\n",
       "        vertical-align: top;\n",
       "    }\n",
       "\n",
       "    .dataframe thead th {\n",
       "        text-align: right;\n",
       "    }\n",
       "</style>\n",
       "<table border=\"1\" class=\"dataframe\">\n",
       "  <thead>\n",
       "    <tr style=\"text-align: right;\">\n",
       "      <th></th>\n",
       "      <th>Maths</th>\n",
       "      <th>Science</th>\n",
       "      <th>English</th>\n",
       "    </tr>\n",
       "  </thead>\n",
       "  <tbody>\n",
       "    <tr>\n",
       "      <th>0</th>\n",
       "      <td>False</td>\n",
       "      <td>False</td>\n",
       "      <td>True</td>\n",
       "    </tr>\n",
       "    <tr>\n",
       "      <th>1</th>\n",
       "      <td>False</td>\n",
       "      <td>False</td>\n",
       "      <td>False</td>\n",
       "    </tr>\n",
       "    <tr>\n",
       "      <th>2</th>\n",
       "      <td>True</td>\n",
       "      <td>False</td>\n",
       "      <td>False</td>\n",
       "    </tr>\n",
       "    <tr>\n",
       "      <th>3</th>\n",
       "      <td>False</td>\n",
       "      <td>True</td>\n",
       "      <td>False</td>\n",
       "    </tr>\n",
       "  </tbody>\n",
       "</table>\n",
       "</div>"
      ],
      "text/plain": [
       "   Maths  Science  English\n",
       "0  False    False     True\n",
       "1  False    False    False\n",
       "2   True    False    False\n",
       "3  False     True    False"
      ]
     },
     "execution_count": 32,
     "metadata": {},
     "output_type": "execute_result"
    }
   ],
   "source": [
    "# using isnull() function  \n",
    "df.isnull()"
   ]
  },
  {
   "cell_type": "code",
   "execution_count": 33,
   "id": "f4f7a291-602a-4dd7-9ca9-8f0e7a7e0eda",
   "metadata": {
    "tags": []
   },
   "outputs": [
    {
     "data": {
      "text/html": [
       "<div>\n",
       "<style scoped>\n",
       "    .dataframe tbody tr th:only-of-type {\n",
       "        vertical-align: middle;\n",
       "    }\n",
       "\n",
       "    .dataframe tbody tr th {\n",
       "        vertical-align: top;\n",
       "    }\n",
       "\n",
       "    .dataframe thead th {\n",
       "        text-align: right;\n",
       "    }\n",
       "</style>\n",
       "<table border=\"1\" class=\"dataframe\">\n",
       "  <thead>\n",
       "    <tr style=\"text-align: right;\">\n",
       "      <th></th>\n",
       "      <th>Maths</th>\n",
       "      <th>Science</th>\n",
       "      <th>English</th>\n",
       "    </tr>\n",
       "  </thead>\n",
       "  <tbody>\n",
       "    <tr>\n",
       "      <th>0</th>\n",
       "      <td>True</td>\n",
       "      <td>True</td>\n",
       "      <td>False</td>\n",
       "    </tr>\n",
       "    <tr>\n",
       "      <th>1</th>\n",
       "      <td>True</td>\n",
       "      <td>True</td>\n",
       "      <td>True</td>\n",
       "    </tr>\n",
       "    <tr>\n",
       "      <th>2</th>\n",
       "      <td>False</td>\n",
       "      <td>True</td>\n",
       "      <td>True</td>\n",
       "    </tr>\n",
       "    <tr>\n",
       "      <th>3</th>\n",
       "      <td>True</td>\n",
       "      <td>False</td>\n",
       "      <td>True</td>\n",
       "    </tr>\n",
       "  </tbody>\n",
       "</table>\n",
       "</div>"
      ],
      "text/plain": [
       "   Maths  Science  English\n",
       "0   True     True    False\n",
       "1   True     True     True\n",
       "2  False     True     True\n",
       "3   True    False     True"
      ]
     },
     "execution_count": 33,
     "metadata": {},
     "output_type": "execute_result"
    }
   ],
   "source": [
    "df.notnull() #opposite of isnull()"
   ]
  },
  {
   "cell_type": "code",
   "execution_count": 34,
   "id": "2a7ab12e-ab55-4e94-a8f7-3cfcdbbf1960",
   "metadata": {
    "tags": []
   },
   "outputs": [
    {
     "data": {
      "text/html": [
       "<div>\n",
       "<style scoped>\n",
       "    .dataframe tbody tr th:only-of-type {\n",
       "        vertical-align: middle;\n",
       "    }\n",
       "\n",
       "    .dataframe tbody tr th {\n",
       "        vertical-align: top;\n",
       "    }\n",
       "\n",
       "    .dataframe thead th {\n",
       "        text-align: right;\n",
       "    }\n",
       "</style>\n",
       "<table border=\"1\" class=\"dataframe\">\n",
       "  <thead>\n",
       "    <tr style=\"text-align: right;\">\n",
       "      <th></th>\n",
       "      <th>Maths</th>\n",
       "      <th>Science</th>\n",
       "      <th>English</th>\n",
       "    </tr>\n",
       "  </thead>\n",
       "  <tbody>\n",
       "    <tr>\n",
       "      <th>0</th>\n",
       "      <td>100.0</td>\n",
       "      <td>30.0</td>\n",
       "      <td>0.0</td>\n",
       "    </tr>\n",
       "    <tr>\n",
       "      <th>1</th>\n",
       "      <td>90.0</td>\n",
       "      <td>45.0</td>\n",
       "      <td>40.0</td>\n",
       "    </tr>\n",
       "    <tr>\n",
       "      <th>2</th>\n",
       "      <td>0.0</td>\n",
       "      <td>56.0</td>\n",
       "      <td>80.0</td>\n",
       "    </tr>\n",
       "    <tr>\n",
       "      <th>3</th>\n",
       "      <td>95.0</td>\n",
       "      <td>0.0</td>\n",
       "      <td>98.0</td>\n",
       "    </tr>\n",
       "  </tbody>\n",
       "</table>\n",
       "</div>"
      ],
      "text/plain": [
       "   Maths  Science  English\n",
       "0  100.0     30.0      0.0\n",
       "1   90.0     45.0     40.0\n",
       "2    0.0     56.0     80.0\n",
       "3   95.0      0.0     98.0"
      ]
     },
     "execution_count": 34,
     "metadata": {},
     "output_type": "execute_result"
    }
   ],
   "source": [
    "df.fillna(0)  #fill missing values with 0"
   ]
  },
  {
   "cell_type": "code",
   "execution_count": 35,
   "id": "26d0cbe6-3e8b-4ba0-a97f-693397f94113",
   "metadata": {
    "tags": []
   },
   "outputs": [
    {
     "name": "stderr",
     "output_type": "stream",
     "text": [
      "C:\\Users\\dupad_el7s75\\AppData\\Local\\Temp\\ipykernel_7616\\415896221.py:1: FutureWarning: DataFrame.fillna with 'method' is deprecated and will raise in a future version. Use obj.ffill() or obj.bfill() instead.\n",
      "  df.fillna(method ='pad')  #fill missing values with previous one\n"
     ]
    },
    {
     "data": {
      "text/html": [
       "<div>\n",
       "<style scoped>\n",
       "    .dataframe tbody tr th:only-of-type {\n",
       "        vertical-align: middle;\n",
       "    }\n",
       "\n",
       "    .dataframe tbody tr th {\n",
       "        vertical-align: top;\n",
       "    }\n",
       "\n",
       "    .dataframe thead th {\n",
       "        text-align: right;\n",
       "    }\n",
       "</style>\n",
       "<table border=\"1\" class=\"dataframe\">\n",
       "  <thead>\n",
       "    <tr style=\"text-align: right;\">\n",
       "      <th></th>\n",
       "      <th>Maths</th>\n",
       "      <th>Science</th>\n",
       "      <th>English</th>\n",
       "    </tr>\n",
       "  </thead>\n",
       "  <tbody>\n",
       "    <tr>\n",
       "      <th>0</th>\n",
       "      <td>100.0</td>\n",
       "      <td>30.0</td>\n",
       "      <td>NaN</td>\n",
       "    </tr>\n",
       "    <tr>\n",
       "      <th>1</th>\n",
       "      <td>90.0</td>\n",
       "      <td>45.0</td>\n",
       "      <td>40.0</td>\n",
       "    </tr>\n",
       "    <tr>\n",
       "      <th>2</th>\n",
       "      <td>90.0</td>\n",
       "      <td>56.0</td>\n",
       "      <td>80.0</td>\n",
       "    </tr>\n",
       "    <tr>\n",
       "      <th>3</th>\n",
       "      <td>95.0</td>\n",
       "      <td>56.0</td>\n",
       "      <td>98.0</td>\n",
       "    </tr>\n",
       "  </tbody>\n",
       "</table>\n",
       "</div>"
      ],
      "text/plain": [
       "   Maths  Science  English\n",
       "0  100.0     30.0      NaN\n",
       "1   90.0     45.0     40.0\n",
       "2   90.0     56.0     80.0\n",
       "3   95.0     56.0     98.0"
      ]
     },
     "execution_count": 35,
     "metadata": {},
     "output_type": "execute_result"
    }
   ],
   "source": [
    "df.fillna(method ='pad')  #fill missing values with previous one"
   ]
  },
  {
   "cell_type": "code",
   "execution_count": 37,
   "id": "0d597079-5ba6-4125-936a-040f0cafa139",
   "metadata": {
    "tags": []
   },
   "outputs": [
    {
     "name": "stderr",
     "output_type": "stream",
     "text": [
      "C:\\Users\\dupad_el7s75\\AppData\\Local\\Temp\\ipykernel_7616\\4164841351.py:1: FutureWarning: DataFrame.fillna with 'method' is deprecated and will raise in a future version. Use obj.ffill() or obj.bfill() instead.\n",
      "  df.fillna(method ='bfill') #fill missing values with next one\n"
     ]
    },
    {
     "data": {
      "text/html": [
       "<div>\n",
       "<style scoped>\n",
       "    .dataframe tbody tr th:only-of-type {\n",
       "        vertical-align: middle;\n",
       "    }\n",
       "\n",
       "    .dataframe tbody tr th {\n",
       "        vertical-align: top;\n",
       "    }\n",
       "\n",
       "    .dataframe thead th {\n",
       "        text-align: right;\n",
       "    }\n",
       "</style>\n",
       "<table border=\"1\" class=\"dataframe\">\n",
       "  <thead>\n",
       "    <tr style=\"text-align: right;\">\n",
       "      <th></th>\n",
       "      <th>Maths</th>\n",
       "      <th>Science</th>\n",
       "      <th>English</th>\n",
       "    </tr>\n",
       "  </thead>\n",
       "  <tbody>\n",
       "    <tr>\n",
       "      <th>0</th>\n",
       "      <td>100.0</td>\n",
       "      <td>30.0</td>\n",
       "      <td>40.0</td>\n",
       "    </tr>\n",
       "    <tr>\n",
       "      <th>1</th>\n",
       "      <td>90.0</td>\n",
       "      <td>45.0</td>\n",
       "      <td>40.0</td>\n",
       "    </tr>\n",
       "    <tr>\n",
       "      <th>2</th>\n",
       "      <td>95.0</td>\n",
       "      <td>56.0</td>\n",
       "      <td>80.0</td>\n",
       "    </tr>\n",
       "    <tr>\n",
       "      <th>3</th>\n",
       "      <td>95.0</td>\n",
       "      <td>NaN</td>\n",
       "      <td>98.0</td>\n",
       "    </tr>\n",
       "  </tbody>\n",
       "</table>\n",
       "</div>"
      ],
      "text/plain": [
       "   Maths  Science  English\n",
       "0  100.0     30.0     40.0\n",
       "1   90.0     45.0     40.0\n",
       "2   95.0     56.0     80.0\n",
       "3   95.0      NaN     98.0"
      ]
     },
     "execution_count": 37,
     "metadata": {},
     "output_type": "execute_result"
    }
   ],
   "source": [
    "df.fillna(method ='bfill') #fill missing values with next one"
   ]
  },
  {
   "cell_type": "code",
   "execution_count": 38,
   "id": "1d3baa3a-6a68-483d-82a8-cbbcc5bc3318",
   "metadata": {
    "tags": []
   },
   "outputs": [
    {
     "data": {
      "text/html": [
       "<div>\n",
       "<style scoped>\n",
       "    .dataframe tbody tr th:only-of-type {\n",
       "        vertical-align: middle;\n",
       "    }\n",
       "\n",
       "    .dataframe tbody tr th {\n",
       "        vertical-align: top;\n",
       "    }\n",
       "\n",
       "    .dataframe thead th {\n",
       "        text-align: right;\n",
       "    }\n",
       "</style>\n",
       "<table border=\"1\" class=\"dataframe\">\n",
       "  <thead>\n",
       "    <tr style=\"text-align: right;\">\n",
       "      <th></th>\n",
       "      <th>Maths</th>\n",
       "      <th>Science</th>\n",
       "      <th>English</th>\n",
       "    </tr>\n",
       "  </thead>\n",
       "  <tbody>\n",
       "    <tr>\n",
       "      <th>0</th>\n",
       "      <td>100.0</td>\n",
       "      <td>30.0</td>\n",
       "      <td>-99.0</td>\n",
       "    </tr>\n",
       "    <tr>\n",
       "      <th>1</th>\n",
       "      <td>90.0</td>\n",
       "      <td>45.0</td>\n",
       "      <td>40.0</td>\n",
       "    </tr>\n",
       "    <tr>\n",
       "      <th>2</th>\n",
       "      <td>-99.0</td>\n",
       "      <td>56.0</td>\n",
       "      <td>80.0</td>\n",
       "    </tr>\n",
       "    <tr>\n",
       "      <th>3</th>\n",
       "      <td>95.0</td>\n",
       "      <td>-99.0</td>\n",
       "      <td>98.0</td>\n",
       "    </tr>\n",
       "  </tbody>\n",
       "</table>\n",
       "</div>"
      ],
      "text/plain": [
       "   Maths  Science  English\n",
       "0  100.0     30.0    -99.0\n",
       "1   90.0     45.0     40.0\n",
       "2  -99.0     56.0     80.0\n",
       "3   95.0    -99.0     98.0"
      ]
     },
     "execution_count": 38,
     "metadata": {},
     "output_type": "execute_result"
    }
   ],
   "source": [
    "# will replace  Nan value in dataframe with value -99  \n",
    "df.replace(to_replace = np.nan, value = -99, inplace=False) "
   ]
  },
  {
   "cell_type": "code",
   "execution_count": 39,
   "id": "69a317e8-4ee8-4f36-a88c-0d52256a6f86",
   "metadata": {
    "tags": []
   },
   "outputs": [
    {
     "data": {
      "text/html": [
       "<div>\n",
       "<style scoped>\n",
       "    .dataframe tbody tr th:only-of-type {\n",
       "        vertical-align: middle;\n",
       "    }\n",
       "\n",
       "    .dataframe tbody tr th {\n",
       "        vertical-align: top;\n",
       "    }\n",
       "\n",
       "    .dataframe thead th {\n",
       "        text-align: right;\n",
       "    }\n",
       "</style>\n",
       "<table border=\"1\" class=\"dataframe\">\n",
       "  <thead>\n",
       "    <tr style=\"text-align: right;\">\n",
       "      <th></th>\n",
       "      <th>Maths</th>\n",
       "      <th>Science</th>\n",
       "      <th>English</th>\n",
       "    </tr>\n",
       "  </thead>\n",
       "  <tbody>\n",
       "    <tr>\n",
       "      <th>0</th>\n",
       "      <td>100.0</td>\n",
       "      <td>30.0</td>\n",
       "      <td>NaN</td>\n",
       "    </tr>\n",
       "    <tr>\n",
       "      <th>1</th>\n",
       "      <td>90.0</td>\n",
       "      <td>45.0</td>\n",
       "      <td>40.0</td>\n",
       "    </tr>\n",
       "    <tr>\n",
       "      <th>2</th>\n",
       "      <td>92.5</td>\n",
       "      <td>56.0</td>\n",
       "      <td>80.0</td>\n",
       "    </tr>\n",
       "    <tr>\n",
       "      <th>3</th>\n",
       "      <td>95.0</td>\n",
       "      <td>56.0</td>\n",
       "      <td>98.0</td>\n",
       "    </tr>\n",
       "  </tbody>\n",
       "</table>\n",
       "</div>"
      ],
      "text/plain": [
       "   Maths  Science  English\n",
       "0  100.0     30.0      NaN\n",
       "1   90.0     45.0     40.0\n",
       "2   92.5     56.0     80.0\n",
       "3   95.0     56.0     98.0"
      ]
     },
     "execution_count": 39,
     "metadata": {},
     "output_type": "execute_result"
    }
   ],
   "source": [
    "# to interpolate the missing values  - avg of (previous + next )\n",
    "df.interpolate(method ='linear', limit_direction ='forward')"
   ]
  },
  {
   "cell_type": "code",
   "execution_count": 40,
   "id": "34bd4bd5-e5f6-4589-8635-7a623092a4e5",
   "metadata": {
    "tags": []
   },
   "outputs": [
    {
     "data": {
      "text/html": [
       "<div>\n",
       "<style scoped>\n",
       "    .dataframe tbody tr th:only-of-type {\n",
       "        vertical-align: middle;\n",
       "    }\n",
       "\n",
       "    .dataframe tbody tr th {\n",
       "        vertical-align: top;\n",
       "    }\n",
       "\n",
       "    .dataframe thead th {\n",
       "        text-align: right;\n",
       "    }\n",
       "</style>\n",
       "<table border=\"1\" class=\"dataframe\">\n",
       "  <thead>\n",
       "    <tr style=\"text-align: right;\">\n",
       "      <th></th>\n",
       "      <th>Maths</th>\n",
       "      <th>Science</th>\n",
       "      <th>English</th>\n",
       "    </tr>\n",
       "  </thead>\n",
       "  <tbody>\n",
       "    <tr>\n",
       "      <th>1</th>\n",
       "      <td>90.0</td>\n",
       "      <td>45.0</td>\n",
       "      <td>40.0</td>\n",
       "    </tr>\n",
       "  </tbody>\n",
       "</table>\n",
       "</div>"
      ],
      "text/plain": [
       "   Maths  Science  English\n",
       "1   90.0     45.0     40.0"
      ]
     },
     "execution_count": 40,
     "metadata": {},
     "output_type": "execute_result"
    }
   ],
   "source": [
    "df.dropna()  #drop missing values : drop all rows having even 1 missing value in column"
   ]
  },
  {
   "cell_type": "code",
   "execution_count": 41,
   "id": "94b250f8-fefb-4488-8f2c-d8f8e248f55c",
   "metadata": {
    "tags": []
   },
   "outputs": [
    {
     "data": {
      "text/html": [
       "<div>\n",
       "<style scoped>\n",
       "    .dataframe tbody tr th:only-of-type {\n",
       "        vertical-align: middle;\n",
       "    }\n",
       "\n",
       "    .dataframe tbody tr th {\n",
       "        vertical-align: top;\n",
       "    }\n",
       "\n",
       "    .dataframe thead th {\n",
       "        text-align: right;\n",
       "    }\n",
       "</style>\n",
       "<table border=\"1\" class=\"dataframe\">\n",
       "  <thead>\n",
       "    <tr style=\"text-align: right;\">\n",
       "      <th></th>\n",
       "      <th>Maths</th>\n",
       "      <th>Science</th>\n",
       "      <th>English</th>\n",
       "    </tr>\n",
       "  </thead>\n",
       "  <tbody>\n",
       "    <tr>\n",
       "      <th>0</th>\n",
       "      <td>100.0</td>\n",
       "      <td>30.0</td>\n",
       "      <td>NaN</td>\n",
       "    </tr>\n",
       "    <tr>\n",
       "      <th>1</th>\n",
       "      <td>90.0</td>\n",
       "      <td>45.0</td>\n",
       "      <td>40.0</td>\n",
       "    </tr>\n",
       "    <tr>\n",
       "      <th>2</th>\n",
       "      <td>NaN</td>\n",
       "      <td>56.0</td>\n",
       "      <td>80.0</td>\n",
       "    </tr>\n",
       "    <tr>\n",
       "      <th>3</th>\n",
       "      <td>95.0</td>\n",
       "      <td>NaN</td>\n",
       "      <td>98.0</td>\n",
       "    </tr>\n",
       "  </tbody>\n",
       "</table>\n",
       "</div>"
      ],
      "text/plain": [
       "   Maths  Science  English\n",
       "0  100.0     30.0      NaN\n",
       "1   90.0     45.0     40.0\n",
       "2    NaN     56.0     80.0\n",
       "3   95.0      NaN     98.0"
      ]
     },
     "execution_count": 41,
     "metadata": {},
     "output_type": "execute_result"
    }
   ],
   "source": [
    "df"
   ]
  },
  {
   "cell_type": "code",
   "execution_count": 42,
   "id": "8ee3642a-fb0f-455b-87f5-de87c51321fd",
   "metadata": {
    "tags": []
   },
   "outputs": [
    {
     "data": {
      "text/html": [
       "<div>\n",
       "<style scoped>\n",
       "    .dataframe tbody tr th:only-of-type {\n",
       "        vertical-align: middle;\n",
       "    }\n",
       "\n",
       "    .dataframe tbody tr th {\n",
       "        vertical-align: top;\n",
       "    }\n",
       "\n",
       "    .dataframe thead th {\n",
       "        text-align: right;\n",
       "    }\n",
       "</style>\n",
       "<table border=\"1\" class=\"dataframe\">\n",
       "  <thead>\n",
       "    <tr style=\"text-align: right;\">\n",
       "      <th></th>\n",
       "      <th>Maths</th>\n",
       "      <th>Science</th>\n",
       "      <th>English</th>\n",
       "      <th>Hindi</th>\n",
       "      <th>History</th>\n",
       "    </tr>\n",
       "  </thead>\n",
       "  <tbody>\n",
       "    <tr>\n",
       "      <th>0</th>\n",
       "      <td>100.0</td>\n",
       "      <td>30.0</td>\n",
       "      <td>NaN</td>\n",
       "      <td>NaN</td>\n",
       "      <td>50</td>\n",
       "    </tr>\n",
       "    <tr>\n",
       "      <th>1</th>\n",
       "      <td>90.0</td>\n",
       "      <td>45.0</td>\n",
       "      <td>40.0</td>\n",
       "      <td>NaN</td>\n",
       "      <td>70</td>\n",
       "    </tr>\n",
       "    <tr>\n",
       "      <th>2</th>\n",
       "      <td>NaN</td>\n",
       "      <td>56.0</td>\n",
       "      <td>80.0</td>\n",
       "      <td>NaN</td>\n",
       "      <td>80</td>\n",
       "    </tr>\n",
       "    <tr>\n",
       "      <th>3</th>\n",
       "      <td>95.0</td>\n",
       "      <td>NaN</td>\n",
       "      <td>98.0</td>\n",
       "      <td>NaN</td>\n",
       "      <td>77</td>\n",
       "    </tr>\n",
       "  </tbody>\n",
       "</table>\n",
       "</div>"
      ],
      "text/plain": [
       "   Maths  Science  English  Hindi  History\n",
       "0  100.0     30.0      NaN    NaN       50\n",
       "1   90.0     45.0     40.0    NaN       70\n",
       "2    NaN     56.0     80.0    NaN       80\n",
       "3   95.0      NaN     98.0    NaN       77"
      ]
     },
     "execution_count": 42,
     "metadata": {},
     "output_type": "execute_result"
    }
   ],
   "source": [
    "df['Hindi'] = pd.Series([np.nan, np.nan, np.nan, np.nan])\n",
    "df['History'] = pd.Series([50, 70,80, 77, 90])\n",
    "df"
   ]
  },
  {
   "cell_type": "code",
   "execution_count": 43,
   "id": "b8489ad9-758b-4a1c-806b-5abdfda0b5f3",
   "metadata": {
    "tags": []
   },
   "outputs": [
    {
     "data": {
      "text/html": [
       "<div>\n",
       "<style scoped>\n",
       "    .dataframe tbody tr th:only-of-type {\n",
       "        vertical-align: middle;\n",
       "    }\n",
       "\n",
       "    .dataframe tbody tr th {\n",
       "        vertical-align: top;\n",
       "    }\n",
       "\n",
       "    .dataframe thead th {\n",
       "        text-align: right;\n",
       "    }\n",
       "</style>\n",
       "<table border=\"1\" class=\"dataframe\">\n",
       "  <thead>\n",
       "    <tr style=\"text-align: right;\">\n",
       "      <th></th>\n",
       "      <th>Maths</th>\n",
       "      <th>Science</th>\n",
       "      <th>English</th>\n",
       "      <th>Hindi</th>\n",
       "      <th>History</th>\n",
       "    </tr>\n",
       "  </thead>\n",
       "  <tbody>\n",
       "  </tbody>\n",
       "</table>\n",
       "</div>"
      ],
      "text/plain": [
       "Empty DataFrame\n",
       "Columns: [Maths, Science, English, Hindi, History]\n",
       "Index: []"
      ]
     },
     "execution_count": 43,
     "metadata": {},
     "output_type": "execute_result"
    }
   ],
   "source": [
    "df.dropna(axis=0)  #drop all rows if any column value in a row is missing"
   ]
  },
  {
   "cell_type": "code",
   "execution_count": 44,
   "id": "59c085a9-37ab-44be-9c03-988fad1cf9c8",
   "metadata": {
    "tags": []
   },
   "outputs": [
    {
     "data": {
      "text/html": [
       "<div>\n",
       "<style scoped>\n",
       "    .dataframe tbody tr th:only-of-type {\n",
       "        vertical-align: middle;\n",
       "    }\n",
       "\n",
       "    .dataframe tbody tr th {\n",
       "        vertical-align: top;\n",
       "    }\n",
       "\n",
       "    .dataframe thead th {\n",
       "        text-align: right;\n",
       "    }\n",
       "</style>\n",
       "<table border=\"1\" class=\"dataframe\">\n",
       "  <thead>\n",
       "    <tr style=\"text-align: right;\">\n",
       "      <th></th>\n",
       "      <th>History</th>\n",
       "    </tr>\n",
       "  </thead>\n",
       "  <tbody>\n",
       "    <tr>\n",
       "      <th>0</th>\n",
       "      <td>50</td>\n",
       "    </tr>\n",
       "    <tr>\n",
       "      <th>1</th>\n",
       "      <td>70</td>\n",
       "    </tr>\n",
       "    <tr>\n",
       "      <th>2</th>\n",
       "      <td>80</td>\n",
       "    </tr>\n",
       "    <tr>\n",
       "      <th>3</th>\n",
       "      <td>77</td>\n",
       "    </tr>\n",
       "  </tbody>\n",
       "</table>\n",
       "</div>"
      ],
      "text/plain": [
       "   History\n",
       "0       50\n",
       "1       70\n",
       "2       80\n",
       "3       77"
      ]
     },
     "execution_count": 44,
     "metadata": {},
     "output_type": "execute_result"
    }
   ],
   "source": [
    "df.dropna(axis=1)  #drop all columns which have any row value missing"
   ]
  },
  {
   "cell_type": "code",
   "execution_count": 45,
   "id": "6ed6bf25-0bde-4f4f-8505-73658c6d032b",
   "metadata": {
    "tags": []
   },
   "outputs": [
    {
     "data": {
      "text/html": [
       "<div>\n",
       "<style scoped>\n",
       "    .dataframe tbody tr th:only-of-type {\n",
       "        vertical-align: middle;\n",
       "    }\n",
       "\n",
       "    .dataframe tbody tr th {\n",
       "        vertical-align: top;\n",
       "    }\n",
       "\n",
       "    .dataframe thead th {\n",
       "        text-align: right;\n",
       "    }\n",
       "</style>\n",
       "<table border=\"1\" class=\"dataframe\">\n",
       "  <thead>\n",
       "    <tr style=\"text-align: right;\">\n",
       "      <th></th>\n",
       "      <th>Maths</th>\n",
       "      <th>Science</th>\n",
       "      <th>English</th>\n",
       "      <th>Hindi</th>\n",
       "      <th>History</th>\n",
       "    </tr>\n",
       "  </thead>\n",
       "  <tbody>\n",
       "    <tr>\n",
       "      <th>0</th>\n",
       "      <td>100.0</td>\n",
       "      <td>30.0</td>\n",
       "      <td>NaN</td>\n",
       "      <td>NaN</td>\n",
       "      <td>50</td>\n",
       "    </tr>\n",
       "    <tr>\n",
       "      <th>1</th>\n",
       "      <td>90.0</td>\n",
       "      <td>45.0</td>\n",
       "      <td>40.0</td>\n",
       "      <td>NaN</td>\n",
       "      <td>70</td>\n",
       "    </tr>\n",
       "    <tr>\n",
       "      <th>2</th>\n",
       "      <td>NaN</td>\n",
       "      <td>56.0</td>\n",
       "      <td>80.0</td>\n",
       "      <td>NaN</td>\n",
       "      <td>80</td>\n",
       "    </tr>\n",
       "    <tr>\n",
       "      <th>3</th>\n",
       "      <td>95.0</td>\n",
       "      <td>NaN</td>\n",
       "      <td>98.0</td>\n",
       "      <td>NaN</td>\n",
       "      <td>77</td>\n",
       "    </tr>\n",
       "  </tbody>\n",
       "</table>\n",
       "</div>"
      ],
      "text/plain": [
       "   Maths  Science  English  Hindi  History\n",
       "0  100.0     30.0      NaN    NaN       50\n",
       "1   90.0     45.0     40.0    NaN       70\n",
       "2    NaN     56.0     80.0    NaN       80\n",
       "3   95.0      NaN     98.0    NaN       77"
      ]
     },
     "execution_count": 45,
     "metadata": {},
     "output_type": "execute_result"
    }
   ],
   "source": [
    "df.dropna(how = 'all', axis=0)  #if all col values of row are missing, None"
   ]
  },
  {
   "cell_type": "code",
   "execution_count": 46,
   "id": "449734c7-f84b-459b-9d0d-a69149c6ada5",
   "metadata": {
    "tags": []
   },
   "outputs": [
    {
     "data": {
      "text/html": [
       "<div>\n",
       "<style scoped>\n",
       "    .dataframe tbody tr th:only-of-type {\n",
       "        vertical-align: middle;\n",
       "    }\n",
       "\n",
       "    .dataframe tbody tr th {\n",
       "        vertical-align: top;\n",
       "    }\n",
       "\n",
       "    .dataframe thead th {\n",
       "        text-align: right;\n",
       "    }\n",
       "</style>\n",
       "<table border=\"1\" class=\"dataframe\">\n",
       "  <thead>\n",
       "    <tr style=\"text-align: right;\">\n",
       "      <th></th>\n",
       "      <th>Maths</th>\n",
       "      <th>Science</th>\n",
       "      <th>English</th>\n",
       "      <th>History</th>\n",
       "    </tr>\n",
       "  </thead>\n",
       "  <tbody>\n",
       "    <tr>\n",
       "      <th>0</th>\n",
       "      <td>100.0</td>\n",
       "      <td>30.0</td>\n",
       "      <td>NaN</td>\n",
       "      <td>50</td>\n",
       "    </tr>\n",
       "    <tr>\n",
       "      <th>1</th>\n",
       "      <td>90.0</td>\n",
       "      <td>45.0</td>\n",
       "      <td>40.0</td>\n",
       "      <td>70</td>\n",
       "    </tr>\n",
       "    <tr>\n",
       "      <th>2</th>\n",
       "      <td>NaN</td>\n",
       "      <td>56.0</td>\n",
       "      <td>80.0</td>\n",
       "      <td>80</td>\n",
       "    </tr>\n",
       "    <tr>\n",
       "      <th>3</th>\n",
       "      <td>95.0</td>\n",
       "      <td>NaN</td>\n",
       "      <td>98.0</td>\n",
       "      <td>77</td>\n",
       "    </tr>\n",
       "  </tbody>\n",
       "</table>\n",
       "</div>"
      ],
      "text/plain": [
       "   Maths  Science  English  History\n",
       "0  100.0     30.0      NaN       50\n",
       "1   90.0     45.0     40.0       70\n",
       "2    NaN     56.0     80.0       80\n",
       "3   95.0      NaN     98.0       77"
      ]
     },
     "execution_count": 46,
     "metadata": {},
     "output_type": "execute_result"
    }
   ],
   "source": [
    "df.dropna(how = 'all', axis=1)  #if all col values are missing, Hindi gone"
   ]
  },
  {
   "cell_type": "code",
   "execution_count": 50,
   "id": "44140a1e-f035-42e6-8f0a-40f6888a2581",
   "metadata": {},
   "outputs": [],
   "source": [
    "#!pip install missingno"
   ]
  },
  {
   "cell_type": "code",
   "execution_count": 51,
   "id": "33b34633-0255-4f98-9813-d6436cdf7d8d",
   "metadata": {
    "tags": []
   },
   "outputs": [],
   "source": [
    "import missingno as msno"
   ]
  },
  {
   "cell_type": "code",
   "execution_count": 52,
   "id": "f47c25ba-35e1-4744-a0e4-42fb6d2b68e0",
   "metadata": {
    "tags": []
   },
   "outputs": [
    {
     "data": {
      "text/plain": [
       "<Axes: >"
      ]
     },
     "execution_count": 52,
     "metadata": {},
     "output_type": "execute_result"
    },
    {
     "data": {
      "image/png": "[encoded data removed]",
      "text/plain": [
       "<Figure size 2500x1000 with 3 Axes>"
      ]
     },
     "metadata": {},
     "output_type": "display_data"
    }
   ],
   "source": [
    "msno.bar(df)"
   ]
  },
  {
   "cell_type": "code",
   "execution_count": 53,
   "id": "462c84cd-3638-4fb7-8faf-18a64b75e13e",
   "metadata": {
    "tags": []
   },
   "outputs": [
    {
     "data": {
      "image/png": "[encoded data removed]",
      "text/plain": [
       "<Figure size 1000x500 with 2 Axes>"
      ]
     },
     "metadata": {},
     "output_type": "display_data"
    }
   ],
   "source": [
    "msno.heatmap(df, cmap=\"RdYlGn\", figsize=(10,5), fontsize=12);\n",
    "# correlation heatmap measures nullity correlation: \n",
    "#how strongly the presence or absence of one variable affects the presence of another\n",
    "#if dob is missing, age is also missing"
   ]
  },
  {
   "cell_type": "code",
   "execution_count": 54,
   "id": "df1b1383-5670-4df6-aa33-6ed381014947",
   "metadata": {
    "tags": []
   },
   "outputs": [
    {
     "data": {
      "image/png": "[encoded data removed]",
      "text/plain": [
       "<Figure size 1000x500 with 2 Axes>"
      ]
     },
     "metadata": {},
     "output_type": "display_data"
    }
   ],
   "source": [
    "msno.matrix(df, figsize=(10,5), fontsize=12, color=(1, 0.38, 0.27));\n",
    "#help(msno.matrix)"
   ]
  },
  {
   "cell_type": "code",
   "execution_count": 56,
   "id": "e7ae0c76-9dbe-4f4c-af65-9f8af513f384",
   "metadata": {
    "tags": []
   },
   "outputs": [
    {
     "data": {
      "text/plain": [
       "<Axes: >"
      ]
     },
     "execution_count": 56,
     "metadata": {},
     "output_type": "execute_result"
    },
    {
     "data": {
      "image/png": "[encoded data removed]",
      "text/plain": [
       "<Figure size 2500x1000 with 1 Axes>"
      ]
     },
     "metadata": {},
     "output_type": "display_data"
    }
   ],
   "source": [
    "msno.dendrogram(df)"
   ]
  },
  {
   "cell_type": "code",
   "execution_count": 237,
   "id": "97dd498e-5715-4cff-b433-bbac998d4f16",
   "metadata": {
    "tags": []
   },
   "outputs": [],
   "source": [
    "#now practise with these datasets\n",
    "#https://coderzcolumn.com/tutorials/data-science/missingno-visualize-missing-data-in-python\n",
    "#https://www.kaggle.com/starbucks/store-locations\n",
    "#https://www.kaggle.com/justinas/housing-in-london"
   ]
  },
  {
   "cell_type": "markdown",
   "id": "6dd26986-53fa-483c-8653-c2852d28808c",
   "metadata": {},
   "source": [
    "#links\n",
    "https://coderzcolumn.com/tutorials/data-science/missingno-visualize-missing-data-in-python\n"
   ]
  },
  {
   "cell_type": "code",
   "execution_count": 57,
   "id": "2e890b46-7f61-4a06-b8fd-c5d40fd16353",
   "metadata": {
    "tags": []
   },
   "outputs": [
    {
     "data": {
      "text/html": [
       "<div>\n",
       "<style scoped>\n",
       "    .dataframe tbody tr th:only-of-type {\n",
       "        vertical-align: middle;\n",
       "    }\n",
       "\n",
       "    .dataframe tbody tr th {\n",
       "        vertical-align: top;\n",
       "    }\n",
       "\n",
       "    .dataframe thead th {\n",
       "        text-align: right;\n",
       "    }\n",
       "</style>\n",
       "<table border=\"1\" class=\"dataframe\">\n",
       "  <thead>\n",
       "    <tr style=\"text-align: right;\">\n",
       "      <th></th>\n",
       "      <th>name</th>\n",
       "      <th>gender</th>\n",
       "      <th>age</th>\n",
       "      <th>city</th>\n",
       "    </tr>\n",
       "  </thead>\n",
       "  <tbody>\n",
       "    <tr>\n",
       "      <th>0</th>\n",
       "      <td>Dhiraj</td>\n",
       "      <td>M</td>\n",
       "      <td>39</td>\n",
       "      <td>Mumbai</td>\n",
       "    </tr>\n",
       "    <tr>\n",
       "      <th>1</th>\n",
       "      <td>Romila</td>\n",
       "      <td>F</td>\n",
       "      <td>33</td>\n",
       "      <td>Delhi</td>\n",
       "    </tr>\n",
       "    <tr>\n",
       "      <th>2</th>\n",
       "      <td>Karan</td>\n",
       "      <td>M</td>\n",
       "      <td>31</td>\n",
       "      <td>Mumbai</td>\n",
       "    </tr>\n",
       "    <tr>\n",
       "      <th>3</th>\n",
       "      <td>Kunal</td>\n",
       "      <td>M</td>\n",
       "      <td>39</td>\n",
       "      <td>Delhi</td>\n",
       "    </tr>\n",
       "    <tr>\n",
       "      <th>4</th>\n",
       "      <td>Sumit</td>\n",
       "      <td>M</td>\n",
       "      <td>38</td>\n",
       "      <td>Chennai</td>\n",
       "    </tr>\n",
       "    <tr>\n",
       "      <th>5</th>\n",
       "      <td>Romila</td>\n",
       "      <td>M</td>\n",
       "      <td>32</td>\n",
       "      <td>Mumbai</td>\n",
       "    </tr>\n",
       "  </tbody>\n",
       "</table>\n",
       "</div>"
      ],
      "text/plain": [
       "     name gender  age     city\n",
       "0  Dhiraj      M   39   Mumbai\n",
       "1  Romila      F   33    Delhi\n",
       "2   Karan      M   31   Mumbai\n",
       "3   Kunal      M   39    Delhi\n",
       "4   Sumit      M   38  Chennai\n",
       "5  Romila      M   32   Mumbai"
      ]
     },
     "execution_count": 57,
     "metadata": {},
     "output_type": "execute_result"
    }
   ],
   "source": [
    "# Duplicates\n",
    "name = ['Dhiraj', 'Romila', 'Karan', 'Kunal', 'Sumit', 'Romila']\n",
    "gender = ['M','F','M','M','M','M']\n",
    "age = np.random.randint(30,40, size=6)\n",
    "city = np.random.choice(a= ['Delhi','Mumbai','Chennai'], size=6, replace=True)\n",
    "df1 = pd.DataFrame({'name':name, 'gender':gender, 'age':age, 'city':city})\n",
    "df1"
   ]
  },
  {
   "cell_type": "code",
   "execution_count": 58,
   "id": "fd010fc2-1e6e-41fc-b339-6990d4017290",
   "metadata": {
    "tags": []
   },
   "outputs": [
    {
     "data": {
      "text/html": [
       "<div>\n",
       "<style scoped>\n",
       "    .dataframe tbody tr th:only-of-type {\n",
       "        vertical-align: middle;\n",
       "    }\n",
       "\n",
       "    .dataframe tbody tr th {\n",
       "        vertical-align: top;\n",
       "    }\n",
       "\n",
       "    .dataframe thead th {\n",
       "        text-align: right;\n",
       "    }\n",
       "</style>\n",
       "<table border=\"1\" class=\"dataframe\">\n",
       "  <thead>\n",
       "    <tr style=\"text-align: right;\">\n",
       "      <th></th>\n",
       "      <th>name</th>\n",
       "      <th>gender</th>\n",
       "      <th>age</th>\n",
       "      <th>city</th>\n",
       "    </tr>\n",
       "  </thead>\n",
       "  <tbody>\n",
       "    <tr>\n",
       "      <th>0</th>\n",
       "      <td>Dhiraj</td>\n",
       "      <td>M</td>\n",
       "      <td>39</td>\n",
       "      <td>Mumbai</td>\n",
       "    </tr>\n",
       "    <tr>\n",
       "      <th>0</th>\n",
       "      <td>Dhiraj</td>\n",
       "      <td>M</td>\n",
       "      <td>39</td>\n",
       "      <td>Mumbai</td>\n",
       "    </tr>\n",
       "  </tbody>\n",
       "</table>\n",
       "</div>"
      ],
      "text/plain": [
       "     name gender  age    city\n",
       "0  Dhiraj      M   39  Mumbai\n",
       "0  Dhiraj      M   39  Mumbai"
      ]
     },
     "execution_count": 58,
     "metadata": {},
     "output_type": "execute_result"
    }
   ],
   "source": [
    "#df1B = pd.DataFrame({'name':['Dhiraj'], 'gender':['M'],'age':[31], 'city': ['Delhi']})\n",
    "df1B = df1.iloc[[0,0]]  #create a duplicate row\n",
    "#pd.concat([df1, df2], axis=1)\n",
    "df1B"
   ]
  },
  {
   "cell_type": "code",
   "execution_count": 59,
   "id": "fc59ea98-bf38-44b4-8524-75bb1ef33450",
   "metadata": {
    "tags": []
   },
   "outputs": [
    {
     "data": {
      "text/html": [
       "<div>\n",
       "<style scoped>\n",
       "    .dataframe tbody tr th:only-of-type {\n",
       "        vertical-align: middle;\n",
       "    }\n",
       "\n",
       "    .dataframe tbody tr th {\n",
       "        vertical-align: top;\n",
       "    }\n",
       "\n",
       "    .dataframe thead th {\n",
       "        text-align: right;\n",
       "    }\n",
       "</style>\n",
       "<table border=\"1\" class=\"dataframe\">\n",
       "  <thead>\n",
       "    <tr style=\"text-align: right;\">\n",
       "      <th></th>\n",
       "      <th>name</th>\n",
       "      <th>gender</th>\n",
       "      <th>age</th>\n",
       "      <th>city</th>\n",
       "    </tr>\n",
       "  </thead>\n",
       "  <tbody>\n",
       "    <tr>\n",
       "      <th>0</th>\n",
       "      <td>Dhiraj</td>\n",
       "      <td>M</td>\n",
       "      <td>39</td>\n",
       "      <td>Mumbai</td>\n",
       "    </tr>\n",
       "    <tr>\n",
       "      <th>1</th>\n",
       "      <td>Romila</td>\n",
       "      <td>F</td>\n",
       "      <td>33</td>\n",
       "      <td>Delhi</td>\n",
       "    </tr>\n",
       "    <tr>\n",
       "      <th>2</th>\n",
       "      <td>Karan</td>\n",
       "      <td>M</td>\n",
       "      <td>31</td>\n",
       "      <td>Mumbai</td>\n",
       "    </tr>\n",
       "    <tr>\n",
       "      <th>3</th>\n",
       "      <td>Kunal</td>\n",
       "      <td>M</td>\n",
       "      <td>39</td>\n",
       "      <td>Delhi</td>\n",
       "    </tr>\n",
       "    <tr>\n",
       "      <th>4</th>\n",
       "      <td>Sumit</td>\n",
       "      <td>M</td>\n",
       "      <td>38</td>\n",
       "      <td>Chennai</td>\n",
       "    </tr>\n",
       "    <tr>\n",
       "      <th>5</th>\n",
       "      <td>Romila</td>\n",
       "      <td>M</td>\n",
       "      <td>32</td>\n",
       "      <td>Mumbai</td>\n",
       "    </tr>\n",
       "    <tr>\n",
       "      <th>6</th>\n",
       "      <td>Dhiraj</td>\n",
       "      <td>M</td>\n",
       "      <td>39</td>\n",
       "      <td>Mumbai</td>\n",
       "    </tr>\n",
       "    <tr>\n",
       "      <th>7</th>\n",
       "      <td>Dhiraj</td>\n",
       "      <td>M</td>\n",
       "      <td>39</td>\n",
       "      <td>Mumbai</td>\n",
       "    </tr>\n",
       "  </tbody>\n",
       "</table>\n",
       "</div>"
      ],
      "text/plain": [
       "     name gender  age     city\n",
       "0  Dhiraj      M   39   Mumbai\n",
       "1  Romila      F   33    Delhi\n",
       "2   Karan      M   31   Mumbai\n",
       "3   Kunal      M   39    Delhi\n",
       "4   Sumit      M   38  Chennai\n",
       "5  Romila      M   32   Mumbai\n",
       "6  Dhiraj      M   39   Mumbai\n",
       "7  Dhiraj      M   39   Mumbai"
      ]
     },
     "execution_count": 59,
     "metadata": {},
     "output_type": "execute_result"
    }
   ],
   "source": [
    "df2= pd.concat([df1, df1B]).reset_index().drop(columns='index')\n",
    "df2"
   ]
  },
  {
   "cell_type": "code",
   "execution_count": 60,
   "id": "eb0b238f-6671-4d28-8124-86344261010a",
   "metadata": {
    "tags": []
   },
   "outputs": [
    {
     "name": "stdout",
     "output_type": "stream",
     "text": [
      "['Dhiraj', 'Romila', 'Karan', 'Kunal', 'Sumit', 'Romila', 'Dhiraj', 'Dhiraj']\n",
      "{'Dhiraj', 'Sumit', 'Karan', 'Romila', 'Kunal'}\n"
     ]
    }
   ],
   "source": [
    "#using set\n",
    "print(df2['name'].tolist())\n",
    "print(set(df2['name'].tolist()))  #Dhiraj , Romila"
   ]
  },
  {
   "cell_type": "code",
   "execution_count": 61,
   "id": "15e26464-69f0-4f70-89fc-30992ec934c2",
   "metadata": {
    "tags": []
   },
   "outputs": [
    {
     "name": "stdout",
     "output_type": "stream",
     "text": [
      "Duplicate Ages [39, 39, 39]\n",
      "Unique Ages [39, 33, 31, 38, 32]\n",
      "Original List  [39, 33, 31, 39, 38, 32, 39, 39]\n",
      "39     True\n",
      "33    False\n",
      "31    False\n",
      "38    False\n",
      "32    False\n",
      "Name: count, dtype: bool\n"
     ]
    }
   ],
   "source": [
    "#using list comprehension\n",
    "ageList = df2['age'].tolist()\n",
    "newList = []\n",
    "dupList = []\n",
    "for i in ageList:\n",
    "    if i not in newList:\n",
    "        newList.append(i)\n",
    "    else:\n",
    "        dupList.append(i)\n",
    "print('Duplicate Ages', dupList)\n",
    "print('Unique Ages', newList)\n",
    "print('Original List ', ageList)\n",
    "print(pd.Series(ageList).value_counts() > 1)"
   ]
  },
  {
   "cell_type": "code",
   "execution_count": 62,
   "id": "a38c7c1b-7679-4c97-a0b3-0ac9b53f0c27",
   "metadata": {
    "tags": []
   },
   "outputs": [
    {
     "data": {
      "text/plain": [
       "{39}"
      ]
     },
     "execution_count": 62,
     "metadata": {},
     "output_type": "execute_result"
    }
   ],
   "source": [
    "dup = {x for x in ageList if ageList.count(x) > 1}\n",
    "dup"
   ]
  },
  {
   "cell_type": "code",
   "execution_count": 63,
   "id": "e8bd2027-05bc-4b8e-8af1-e986e06eefa1",
   "metadata": {
    "tags": []
   },
   "outputs": [
    {
     "data": {
      "text/plain": [
       "{31, 32, 33, 38, 39}"
      ]
     },
     "execution_count": 63,
     "metadata": {},
     "output_type": "execute_result"
    }
   ],
   "source": [
    "set(ageList)"
   ]
  },
  {
   "cell_type": "code",
   "execution_count": 64,
   "id": "1f0c81d0-44a4-4b4d-8dbc-cc962baf84bf",
   "metadata": {
    "tags": []
   },
   "outputs": [
    {
     "data": {
      "text/html": [
       "<div>\n",
       "<style scoped>\n",
       "    .dataframe tbody tr th:only-of-type {\n",
       "        vertical-align: middle;\n",
       "    }\n",
       "\n",
       "    .dataframe tbody tr th {\n",
       "        vertical-align: top;\n",
       "    }\n",
       "\n",
       "    .dataframe thead th {\n",
       "        text-align: right;\n",
       "    }\n",
       "</style>\n",
       "<table border=\"1\" class=\"dataframe\">\n",
       "  <thead>\n",
       "    <tr style=\"text-align: right;\">\n",
       "      <th></th>\n",
       "      <th>name</th>\n",
       "      <th>gender</th>\n",
       "      <th>age</th>\n",
       "      <th>city</th>\n",
       "    </tr>\n",
       "  </thead>\n",
       "  <tbody>\n",
       "    <tr>\n",
       "      <th>0</th>\n",
       "      <td>Dhiraj</td>\n",
       "      <td>M</td>\n",
       "      <td>39</td>\n",
       "      <td>Mumbai</td>\n",
       "    </tr>\n",
       "    <tr>\n",
       "      <th>1</th>\n",
       "      <td>Romila</td>\n",
       "      <td>F</td>\n",
       "      <td>33</td>\n",
       "      <td>Delhi</td>\n",
       "    </tr>\n",
       "    <tr>\n",
       "      <th>2</th>\n",
       "      <td>Karan</td>\n",
       "      <td>M</td>\n",
       "      <td>31</td>\n",
       "      <td>Mumbai</td>\n",
       "    </tr>\n",
       "    <tr>\n",
       "      <th>3</th>\n",
       "      <td>Kunal</td>\n",
       "      <td>M</td>\n",
       "      <td>39</td>\n",
       "      <td>Delhi</td>\n",
       "    </tr>\n",
       "    <tr>\n",
       "      <th>4</th>\n",
       "      <td>Sumit</td>\n",
       "      <td>M</td>\n",
       "      <td>38</td>\n",
       "      <td>Chennai</td>\n",
       "    </tr>\n",
       "    <tr>\n",
       "      <th>5</th>\n",
       "      <td>Romila</td>\n",
       "      <td>M</td>\n",
       "      <td>32</td>\n",
       "      <td>Mumbai</td>\n",
       "    </tr>\n",
       "    <tr>\n",
       "      <th>6</th>\n",
       "      <td>Dhiraj</td>\n",
       "      <td>M</td>\n",
       "      <td>39</td>\n",
       "      <td>Mumbai</td>\n",
       "    </tr>\n",
       "    <tr>\n",
       "      <th>7</th>\n",
       "      <td>Dhiraj</td>\n",
       "      <td>M</td>\n",
       "      <td>39</td>\n",
       "      <td>Mumbai</td>\n",
       "    </tr>\n",
       "  </tbody>\n",
       "</table>\n",
       "</div>"
      ],
      "text/plain": [
       "     name gender  age     city\n",
       "0  Dhiraj      M   39   Mumbai\n",
       "1  Romila      F   33    Delhi\n",
       "2   Karan      M   31   Mumbai\n",
       "3   Kunal      M   39    Delhi\n",
       "4   Sumit      M   38  Chennai\n",
       "5  Romila      M   32   Mumbai\n",
       "6  Dhiraj      M   39   Mumbai\n",
       "7  Dhiraj      M   39   Mumbai"
      ]
     },
     "execution_count": 64,
     "metadata": {},
     "output_type": "execute_result"
    }
   ],
   "source": [
    "#pandas\n",
    "df2"
   ]
  },
  {
   "cell_type": "code",
   "execution_count": 65,
   "id": "4237cc99-fe66-4e04-ad7b-d52b78e28bb4",
   "metadata": {
    "tags": []
   },
   "outputs": [
    {
     "data": {
      "text/plain": [
       "0    False\n",
       "1    False\n",
       "2    False\n",
       "3    False\n",
       "4    False\n",
       "5    False\n",
       "6     True\n",
       "7     True\n",
       "dtype: bool"
      ]
     },
     "execution_count": 65,
     "metadata": {},
     "output_type": "execute_result"
    }
   ],
   "source": [
    "df2.duplicated(keep='first')\n",
    "#last row is duplicate and is show .. but with which row"
   ]
  },
  {
   "cell_type": "code",
   "execution_count": 66,
   "id": "bc2760d6-f7a9-4c9b-8f17-905bc5be8430",
   "metadata": {
    "tags": []
   },
   "outputs": [
    {
     "data": {
      "text/plain": [
       "0     True\n",
       "1    False\n",
       "2    False\n",
       "3    False\n",
       "4    False\n",
       "5    False\n",
       "6     True\n",
       "7    False\n",
       "dtype: bool"
      ]
     },
     "execution_count": 66,
     "metadata": {},
     "output_type": "execute_result"
    }
   ],
   "source": [
    "df2.duplicated(keep='last')"
   ]
  },
  {
   "cell_type": "code",
   "execution_count": 67,
   "id": "21cad302-e68e-4c93-878d-17945483c93e",
   "metadata": {
    "tags": []
   },
   "outputs": [
    {
     "data": {
      "text/plain": [
       "0     True\n",
       "1    False\n",
       "2    False\n",
       "3    False\n",
       "4    False\n",
       "5    False\n",
       "6     True\n",
       "7     True\n",
       "dtype: bool"
      ]
     },
     "execution_count": 67,
     "metadata": {},
     "output_type": "execute_result"
    }
   ],
   "source": [
    "df2.duplicated(keep=False)   #all duplicates are true"
   ]
  },
  {
   "cell_type": "code",
   "execution_count": 68,
   "id": "06dbbf7f-78ab-473b-9cff-b756bae4cc59",
   "metadata": {
    "tags": []
   },
   "outputs": [
    {
     "data": {
      "text/html": [
       "<div>\n",
       "<style scoped>\n",
       "    .dataframe tbody tr th:only-of-type {\n",
       "        vertical-align: middle;\n",
       "    }\n",
       "\n",
       "    .dataframe tbody tr th {\n",
       "        vertical-align: top;\n",
       "    }\n",
       "\n",
       "    .dataframe thead th {\n",
       "        text-align: right;\n",
       "    }\n",
       "</style>\n",
       "<table border=\"1\" class=\"dataframe\">\n",
       "  <thead>\n",
       "    <tr style=\"text-align: right;\">\n",
       "      <th></th>\n",
       "      <th>name</th>\n",
       "      <th>gender</th>\n",
       "      <th>age</th>\n",
       "      <th>city</th>\n",
       "    </tr>\n",
       "  </thead>\n",
       "  <tbody>\n",
       "    <tr>\n",
       "      <th>2</th>\n",
       "      <td>Karan</td>\n",
       "      <td>M</td>\n",
       "      <td>31</td>\n",
       "      <td>Mumbai</td>\n",
       "    </tr>\n",
       "    <tr>\n",
       "      <th>3</th>\n",
       "      <td>Kunal</td>\n",
       "      <td>M</td>\n",
       "      <td>39</td>\n",
       "      <td>Delhi</td>\n",
       "    </tr>\n",
       "    <tr>\n",
       "      <th>5</th>\n",
       "      <td>Romila</td>\n",
       "      <td>M</td>\n",
       "      <td>32</td>\n",
       "      <td>Mumbai</td>\n",
       "    </tr>\n",
       "    <tr>\n",
       "      <th>6</th>\n",
       "      <td>Dhiraj</td>\n",
       "      <td>M</td>\n",
       "      <td>39</td>\n",
       "      <td>Mumbai</td>\n",
       "    </tr>\n",
       "    <tr>\n",
       "      <th>7</th>\n",
       "      <td>Dhiraj</td>\n",
       "      <td>M</td>\n",
       "      <td>39</td>\n",
       "      <td>Mumbai</td>\n",
       "    </tr>\n",
       "  </tbody>\n",
       "</table>\n",
       "</div>"
      ],
      "text/plain": [
       "     name gender  age    city\n",
       "2   Karan      M   31  Mumbai\n",
       "3   Kunal      M   39   Delhi\n",
       "5  Romila      M   32  Mumbai\n",
       "6  Dhiraj      M   39  Mumbai\n",
       "7  Dhiraj      M   39  Mumbai"
      ]
     },
     "execution_count": 68,
     "metadata": {},
     "output_type": "execute_result"
    }
   ],
   "source": [
    "df2[df2.duplicated(subset = ['city'])]"
   ]
  },
  {
   "cell_type": "code",
   "execution_count": 69,
   "id": "b6b7d14e-d04f-4ffe-a5bc-4048d2cf27f0",
   "metadata": {
    "tags": []
   },
   "outputs": [
    {
     "data": {
      "text/html": [
       "<div>\n",
       "<style scoped>\n",
       "    .dataframe tbody tr th:only-of-type {\n",
       "        vertical-align: middle;\n",
       "    }\n",
       "\n",
       "    .dataframe tbody tr th {\n",
       "        vertical-align: top;\n",
       "    }\n",
       "\n",
       "    .dataframe thead th {\n",
       "        text-align: right;\n",
       "    }\n",
       "</style>\n",
       "<table border=\"1\" class=\"dataframe\">\n",
       "  <thead>\n",
       "    <tr style=\"text-align: right;\">\n",
       "      <th></th>\n",
       "      <th>name</th>\n",
       "      <th>gender</th>\n",
       "      <th>age</th>\n",
       "      <th>city</th>\n",
       "    </tr>\n",
       "  </thead>\n",
       "  <tbody>\n",
       "    <tr>\n",
       "      <th>6</th>\n",
       "      <td>Dhiraj</td>\n",
       "      <td>M</td>\n",
       "      <td>39</td>\n",
       "      <td>Mumbai</td>\n",
       "    </tr>\n",
       "    <tr>\n",
       "      <th>7</th>\n",
       "      <td>Dhiraj</td>\n",
       "      <td>M</td>\n",
       "      <td>39</td>\n",
       "      <td>Mumbai</td>\n",
       "    </tr>\n",
       "  </tbody>\n",
       "</table>\n",
       "</div>"
      ],
      "text/plain": [
       "     name gender  age    city\n",
       "6  Dhiraj      M   39  Mumbai\n",
       "7  Dhiraj      M   39  Mumbai"
      ]
     },
     "execution_count": 69,
     "metadata": {},
     "output_type": "execute_result"
    }
   ],
   "source": [
    "df2[df2.duplicated(subset = ['name', 'city'], keep='first')]"
   ]
  },
  {
   "cell_type": "code",
   "execution_count": 70,
   "id": "428e5cef-a144-49e8-8ac6-b53a9d64e43f",
   "metadata": {
    "tags": []
   },
   "outputs": [
    {
     "data": {
      "text/html": [
       "<div>\n",
       "<style scoped>\n",
       "    .dataframe tbody tr th:only-of-type {\n",
       "        vertical-align: middle;\n",
       "    }\n",
       "\n",
       "    .dataframe tbody tr th {\n",
       "        vertical-align: top;\n",
       "    }\n",
       "\n",
       "    .dataframe thead th {\n",
       "        text-align: right;\n",
       "    }\n",
       "</style>\n",
       "<table border=\"1\" class=\"dataframe\">\n",
       "  <thead>\n",
       "    <tr style=\"text-align: right;\">\n",
       "      <th></th>\n",
       "      <th>name</th>\n",
       "      <th>gender</th>\n",
       "      <th>age</th>\n",
       "      <th>city</th>\n",
       "    </tr>\n",
       "  </thead>\n",
       "  <tbody>\n",
       "    <tr>\n",
       "      <th>0</th>\n",
       "      <td>Dhiraj</td>\n",
       "      <td>M</td>\n",
       "      <td>39</td>\n",
       "      <td>Mumbai</td>\n",
       "    </tr>\n",
       "    <tr>\n",
       "      <th>1</th>\n",
       "      <td>Romila</td>\n",
       "      <td>F</td>\n",
       "      <td>33</td>\n",
       "      <td>Delhi</td>\n",
       "    </tr>\n",
       "    <tr>\n",
       "      <th>2</th>\n",
       "      <td>Karan</td>\n",
       "      <td>M</td>\n",
       "      <td>31</td>\n",
       "      <td>Mumbai</td>\n",
       "    </tr>\n",
       "    <tr>\n",
       "      <th>3</th>\n",
       "      <td>Kunal</td>\n",
       "      <td>M</td>\n",
       "      <td>39</td>\n",
       "      <td>Delhi</td>\n",
       "    </tr>\n",
       "    <tr>\n",
       "      <th>4</th>\n",
       "      <td>Sumit</td>\n",
       "      <td>M</td>\n",
       "      <td>38</td>\n",
       "      <td>Chennai</td>\n",
       "    </tr>\n",
       "    <tr>\n",
       "      <th>5</th>\n",
       "      <td>Romila</td>\n",
       "      <td>M</td>\n",
       "      <td>32</td>\n",
       "      <td>Mumbai</td>\n",
       "    </tr>\n",
       "  </tbody>\n",
       "</table>\n",
       "</div>"
      ],
      "text/plain": [
       "     name gender  age     city\n",
       "0  Dhiraj      M   39   Mumbai\n",
       "1  Romila      F   33    Delhi\n",
       "2   Karan      M   31   Mumbai\n",
       "3   Kunal      M   39    Delhi\n",
       "4   Sumit      M   38  Chennai\n",
       "5  Romila      M   32   Mumbai"
      ]
     },
     "execution_count": 70,
     "metadata": {},
     "output_type": "execute_result"
    }
   ],
   "source": [
    "df2.drop_duplicates(keep='first')"
   ]
  },
  {
   "cell_type": "code",
   "execution_count": 71,
   "id": "21abf5e2-aae5-4de0-b1f6-5c25e1c4d71b",
   "metadata": {
    "tags": []
   },
   "outputs": [
    {
     "data": {
      "text/html": [
       "<div>\n",
       "<style scoped>\n",
       "    .dataframe tbody tr th:only-of-type {\n",
       "        vertical-align: middle;\n",
       "    }\n",
       "\n",
       "    .dataframe tbody tr th {\n",
       "        vertical-align: top;\n",
       "    }\n",
       "\n",
       "    .dataframe thead th {\n",
       "        text-align: right;\n",
       "    }\n",
       "</style>\n",
       "<table border=\"1\" class=\"dataframe\">\n",
       "  <thead>\n",
       "    <tr style=\"text-align: right;\">\n",
       "      <th></th>\n",
       "      <th>name</th>\n",
       "      <th>gender</th>\n",
       "      <th>age</th>\n",
       "      <th>city</th>\n",
       "    </tr>\n",
       "  </thead>\n",
       "  <tbody>\n",
       "    <tr>\n",
       "      <th>0</th>\n",
       "      <td>Dhiraj</td>\n",
       "      <td>M</td>\n",
       "      <td>39</td>\n",
       "      <td>Mumbai</td>\n",
       "    </tr>\n",
       "    <tr>\n",
       "      <th>1</th>\n",
       "      <td>Romila</td>\n",
       "      <td>F</td>\n",
       "      <td>33</td>\n",
       "      <td>Delhi</td>\n",
       "    </tr>\n",
       "    <tr>\n",
       "      <th>2</th>\n",
       "      <td>Karan</td>\n",
       "      <td>M</td>\n",
       "      <td>31</td>\n",
       "      <td>Mumbai</td>\n",
       "    </tr>\n",
       "    <tr>\n",
       "      <th>3</th>\n",
       "      <td>Kunal</td>\n",
       "      <td>M</td>\n",
       "      <td>39</td>\n",
       "      <td>Delhi</td>\n",
       "    </tr>\n",
       "    <tr>\n",
       "      <th>4</th>\n",
       "      <td>Sumit</td>\n",
       "      <td>M</td>\n",
       "      <td>38</td>\n",
       "      <td>Chennai</td>\n",
       "    </tr>\n",
       "    <tr>\n",
       "      <th>5</th>\n",
       "      <td>Romila</td>\n",
       "      <td>M</td>\n",
       "      <td>32</td>\n",
       "      <td>Mumbai</td>\n",
       "    </tr>\n",
       "  </tbody>\n",
       "</table>\n",
       "</div>"
      ],
      "text/plain": [
       "     name gender  age     city\n",
       "0  Dhiraj      M   39   Mumbai\n",
       "1  Romila      F   33    Delhi\n",
       "2   Karan      M   31   Mumbai\n",
       "3   Kunal      M   39    Delhi\n",
       "4   Sumit      M   38  Chennai\n",
       "5  Romila      M   32   Mumbai"
      ]
     },
     "execution_count": 71,
     "metadata": {},
     "output_type": "execute_result"
    }
   ],
   "source": [
    "df2.drop_duplicates(subset = ['name', 'gender'], keep='first')"
   ]
  },
  {
   "cell_type": "code",
   "execution_count": 72,
   "id": "6305c014-d471-4903-9769-10d4ccc53086",
   "metadata": {
    "tags": []
   },
   "outputs": [
    {
     "data": {
      "text/plain": [
       "name    gender  age  city   \n",
       "Dhiraj  M       39   Mumbai     3\n",
       "Karan   M       31   Mumbai     1\n",
       "Kunal   M       39   Delhi      1\n",
       "Romila  F       33   Delhi      1\n",
       "        M       32   Mumbai     1\n",
       "Sumit   M       38   Chennai    1\n",
       "Name: count, dtype: int64"
      ]
     },
     "execution_count": 72,
     "metadata": {},
     "output_type": "execute_result"
    }
   ],
   "source": [
    "df2.value_counts()  #count of each row combination\n",
    "#Dhiraj,M,33,Chennai - 3"
   ]
  },
  {
   "cell_type": "code",
   "execution_count": 73,
   "id": "bf8e42de-c84a-41bb-8e05-b38c927b106d",
   "metadata": {
    "tags": []
   },
   "outputs": [
    {
     "data": {
      "text/html": [
       "<div>\n",
       "<style scoped>\n",
       "    .dataframe tbody tr th:only-of-type {\n",
       "        vertical-align: middle;\n",
       "    }\n",
       "\n",
       "    .dataframe tbody tr th {\n",
       "        vertical-align: top;\n",
       "    }\n",
       "\n",
       "    .dataframe thead th {\n",
       "        text-align: right;\n",
       "    }\n",
       "</style>\n",
       "<table border=\"1\" class=\"dataframe\">\n",
       "  <thead>\n",
       "    <tr style=\"text-align: right;\">\n",
       "      <th></th>\n",
       "      <th>Sepal.Length</th>\n",
       "      <th>Sepal.Width</th>\n",
       "      <th>Petal.Length</th>\n",
       "      <th>Petal.Width</th>\n",
       "      <th>Species</th>\n",
       "    </tr>\n",
       "  </thead>\n",
       "  <tbody>\n",
       "    <tr>\n",
       "      <th>1</th>\n",
       "      <td>5.1</td>\n",
       "      <td>3.5</td>\n",
       "      <td>1.4</td>\n",
       "      <td>0.2</td>\n",
       "      <td>setosa</td>\n",
       "    </tr>\n",
       "    <tr>\n",
       "      <th>2</th>\n",
       "      <td>4.9</td>\n",
       "      <td>3.0</td>\n",
       "      <td>1.4</td>\n",
       "      <td>0.2</td>\n",
       "      <td>setosa</td>\n",
       "    </tr>\n",
       "    <tr>\n",
       "      <th>3</th>\n",
       "      <td>4.7</td>\n",
       "      <td>3.2</td>\n",
       "      <td>1.3</td>\n",
       "      <td>0.2</td>\n",
       "      <td>setosa</td>\n",
       "    </tr>\n",
       "    <tr>\n",
       "      <th>4</th>\n",
       "      <td>4.6</td>\n",
       "      <td>3.1</td>\n",
       "      <td>1.5</td>\n",
       "      <td>0.2</td>\n",
       "      <td>setosa</td>\n",
       "    </tr>\n",
       "    <tr>\n",
       "      <th>5</th>\n",
       "      <td>5.0</td>\n",
       "      <td>3.6</td>\n",
       "      <td>1.4</td>\n",
       "      <td>0.2</td>\n",
       "      <td>setosa</td>\n",
       "    </tr>\n",
       "  </tbody>\n",
       "</table>\n",
       "</div>"
      ],
      "text/plain": [
       "   Sepal.Length  Sepal.Width  Petal.Length  Petal.Width Species\n",
       "1           5.1          3.5           1.4          0.2  setosa\n",
       "2           4.9          3.0           1.4          0.2  setosa\n",
       "3           4.7          3.2           1.3          0.2  setosa\n",
       "4           4.6          3.1           1.5          0.2  setosa\n",
       "5           5.0          3.6           1.4          0.2  setosa"
      ]
     },
     "execution_count": 73,
     "metadata": {},
     "output_type": "execute_result"
    }
   ],
   "source": [
    "#find duplicates in iris data set\n",
    "iris = data('iris')\n",
    "iris.head()"
   ]
  },
  {
   "cell_type": "code",
   "execution_count": 74,
   "id": "18224ebe-958e-4913-bf14-5f173f7b142d",
   "metadata": {
    "tags": []
   },
   "outputs": [
    {
     "data": {
      "text/plain": [
       "1"
      ]
     },
     "execution_count": 74,
     "metadata": {},
     "output_type": "execute_result"
    }
   ],
   "source": [
    "iris.duplicated().sum()"
   ]
  },
  {
   "cell_type": "code",
   "execution_count": 75,
   "id": "98725284-7ad5-4e94-be76-0fd558aee0a0",
   "metadata": {
    "tags": []
   },
   "outputs": [
    {
     "data": {
      "text/plain": [
       "Sepal.Length  Sepal.Width  Petal.Length  Petal.Width  Species   \n",
       "5.8           2.7          5.1           1.9          virginica     2\n",
       "6.2           2.2          4.5           1.5          versicolor    1\n",
       "              2.9          4.3           1.3          versicolor    1\n",
       "              3.4          5.4           2.3          virginica     1\n",
       "6.3           2.3          4.4           1.3          versicolor    1\n",
       "              2.5          4.9           1.5          versicolor    1\n",
       "                           5.0           1.9          virginica     1\n",
       "              2.7          4.9           1.8          virginica     1\n",
       "              2.8          5.1           1.5          virginica     1\n",
       "              2.9          5.6           1.8          virginica     1\n",
       "              3.3          4.7           1.6          versicolor    1\n",
       "                           6.0           2.5          virginica     1\n",
       "              3.4          5.6           2.4          virginica     1\n",
       "6.4           2.7          5.3           1.9          virginica     1\n",
       "              2.8          5.6           2.1          virginica     1\n",
       "                                         2.2          virginica     1\n",
       "              2.9          4.3           1.3          versicolor    1\n",
       "6.2           2.8          4.8           1.8          virginica     1\n",
       "6.1           3.0          4.9           1.8          virginica     1\n",
       "5.8           2.7          4.1           1.0          versicolor    1\n",
       "6.1           3.0          4.6           1.4          versicolor    1\n",
       "5.8           2.8          5.1           2.4          virginica     1\n",
       "              4.0          1.2           0.2          setosa        1\n",
       "5.9           3.0          4.2           1.5          versicolor    1\n",
       "                           5.1           1.8          virginica     1\n",
       "              3.2          4.8           1.8          versicolor    1\n",
       "6.0           2.2          4.0           1.0          versicolor    1\n",
       "                           5.0           1.5          virginica     1\n",
       "              2.7          5.1           1.6          versicolor    1\n",
       "              2.9          4.5           1.5          versicolor    1\n",
       "              3.0          4.8           1.8          virginica     1\n",
       "              3.4          4.5           1.6          versicolor    1\n",
       "6.1           2.6          5.6           1.4          virginica     1\n",
       "              2.8          4.0           1.3          versicolor    1\n",
       "                           4.7           1.2          versicolor    1\n",
       "              2.9          4.7           1.4          versicolor    1\n",
       "6.4           3.1          5.5           1.8          virginica     1\n",
       "4.3           3.0          1.1           0.1          setosa        1\n",
       "6.4           3.2          5.3           2.3          virginica     1\n",
       "6.5           2.8          4.6           1.5          versicolor    1\n",
       "6.9           3.1          5.1           2.3          virginica     1\n",
       "                           5.4           2.1          virginica     1\n",
       "              3.2          5.7           2.3          virginica     1\n",
       "7.0           3.2          4.7           1.4          versicolor    1\n",
       "7.1           3.0          5.9           2.1          virginica     1\n",
       "7.2           3.0          5.8           1.6          virginica     1\n",
       "              3.2          6.0           1.8          virginica     1\n",
       "              3.6          6.1           2.5          virginica     1\n",
       "7.3           2.9          6.3           1.8          virginica     1\n",
       "7.4           2.8          6.1           1.9          virginica     1\n",
       "7.6           3.0          6.6           2.1          virginica     1\n",
       "7.7           2.6          6.9           2.3          virginica     1\n",
       "              2.8          6.7           2.0          virginica     1\n",
       "              3.0          6.1           2.3          virginica     1\n",
       "              3.8          6.7           2.2          virginica     1\n",
       "6.9           3.1          4.9           1.5          versicolor    1\n",
       "6.8           3.2          5.9           2.3          virginica     1\n",
       "              3.0          5.5           2.1          virginica     1\n",
       "6.7           2.5          5.8           1.8          virginica     1\n",
       "6.5           3.0          5.2           2.0          virginica     1\n",
       "                           5.5           1.8          virginica     1\n",
       "                           5.8           2.2          virginica     1\n",
       "              3.2          5.1           2.0          virginica     1\n",
       "6.6           2.9          4.6           1.3          versicolor    1\n",
       "              3.0          4.4           1.4          versicolor    1\n",
       "6.7           3.0          5.0           1.7          versicolor    1\n",
       "6.8           2.8          4.8           1.4          versicolor    1\n",
       "6.7           3.0          5.2           2.3          virginica     1\n",
       "              3.1          4.4           1.4          versicolor    1\n",
       "                           4.7           1.5          versicolor    1\n",
       "                           5.6           2.4          virginica     1\n",
       "              3.3          5.7           2.1          virginica     1\n",
       "                                         2.5          virginica     1\n",
       "6.4           3.2          4.5           1.5          versicolor    1\n",
       "5.8           2.7          3.9           1.2          versicolor    1\n",
       "4.4           2.9          1.4           0.2          setosa        1\n",
       "4.9           3.1          1.5           0.1          setosa        1\n",
       "              3.6          1.4           0.1          setosa        1\n",
       "5.0           2.0          3.5           1.0          versicolor    1\n",
       "              2.3          3.3           1.0          versicolor    1\n",
       "              3.0          1.6           0.2          setosa        1\n",
       "              3.2          1.2           0.2          setosa        1\n",
       "              3.3          1.4           0.2          setosa        1\n",
       "              3.4          1.5           0.2          setosa        1\n",
       "                           1.6           0.4          setosa        1\n",
       "              3.5          1.3           0.3          setosa        1\n",
       "                           1.6           0.6          setosa        1\n",
       "              3.6          1.4           0.2          setosa        1\n",
       "5.1           2.5          3.0           1.1          versicolor    1\n",
       "              3.3          1.7           0.5          setosa        1\n",
       "              3.4          1.5           0.2          setosa        1\n",
       "              3.5          1.4           0.2          setosa        1\n",
       "4.9           3.1          1.5           0.2          setosa        1\n",
       "              3.0          1.4           0.2          setosa        1\n",
       "5.8           2.6          4.0           1.2          versicolor    1\n",
       "4.9           2.5          4.5           1.7          virginica     1\n",
       "4.4           3.0          1.3           0.2          setosa        1\n",
       "              3.2          1.3           0.2          setosa        1\n",
       "4.5           2.3          1.3           0.3          setosa        1\n",
       "4.6           3.1          1.5           0.2          setosa        1\n",
       "              3.2          1.4           0.2          setosa        1\n",
       "              3.4          1.4           0.3          setosa        1\n",
       "              3.6          1.0           0.2          setosa        1\n",
       "4.7           3.2          1.3           0.2          setosa        1\n",
       "                           1.6           0.2          setosa        1\n",
       "4.8           3.0          1.4           0.1          setosa        1\n",
       "                                         0.3          setosa        1\n",
       "              3.1          1.6           0.2          setosa        1\n",
       "              3.4          1.6           0.2          setosa        1\n",
       "                           1.9           0.2          setosa        1\n",
       "4.9           2.4          3.3           1.0          versicolor    1\n",
       "5.1           3.5          1.4           0.3          setosa        1\n",
       "              3.7          1.5           0.4          setosa        1\n",
       "              3.8          1.5           0.3          setosa        1\n",
       "                           1.6           0.2          setosa        1\n",
       "5.5           4.2          1.4           0.2          setosa        1\n",
       "5.6           2.5          3.9           1.1          versicolor    1\n",
       "              2.7          4.2           1.3          versicolor    1\n",
       "              2.8          4.9           2.0          virginica     1\n",
       "              2.9          3.6           1.3          versicolor    1\n",
       "              3.0          4.1           1.3          versicolor    1\n",
       "                           4.5           1.5          versicolor    1\n",
       "5.7           2.5          5.0           2.0          virginica     1\n",
       "              2.6          3.5           1.0          versicolor    1\n",
       "              2.8          4.1           1.3          versicolor    1\n",
       "                           4.5           1.3          versicolor    1\n",
       "              2.9          4.2           1.3          versicolor    1\n",
       "              3.0          4.2           1.2          versicolor    1\n",
       "              3.8          1.7           0.3          setosa        1\n",
       "              4.4          1.5           0.4          setosa        1\n",
       "5.5           3.5          1.3           0.2          setosa        1\n",
       "              2.6          4.4           1.2          versicolor    1\n",
       "              2.5          4.0           1.3          versicolor    1\n",
       "5.4           3.0          4.5           1.5          versicolor    1\n",
       "5.1           3.8          1.9           0.4          setosa        1\n",
       "5.2           2.7          3.9           1.4          versicolor    1\n",
       "              3.4          1.4           0.2          setosa        1\n",
       "              3.5          1.5           0.2          setosa        1\n",
       "              4.1          1.5           0.1          setosa        1\n",
       "5.3           3.7          1.5           0.2          setosa        1\n",
       "5.4           3.4          1.5           0.4          setosa        1\n",
       "5.5           2.4          3.8           1.1          versicolor    1\n",
       "5.4           3.4          1.7           0.2          setosa        1\n",
       "              3.7          1.5           0.2          setosa        1\n",
       "              3.9          1.3           0.4          setosa        1\n",
       "                           1.7           0.4          setosa        1\n",
       "5.5           2.3          4.0           1.3          versicolor    1\n",
       "              2.4          3.7           1.0          versicolor    1\n",
       "7.9           3.8          6.4           2.0          virginica     1\n",
       "Name: count, dtype: int64"
      ]
     },
     "execution_count": 75,
     "metadata": {},
     "output_type": "execute_result"
    }
   ],
   "source": [
    "iris.value_counts()"
   ]
  },
  {
   "cell_type": "code",
   "execution_count": 76,
   "id": "90873d3f-3810-4ca4-b09b-418bd8759ff3",
   "metadata": {
    "tags": []
   },
   "outputs": [
    {
     "data": {
      "text/plain": [
       "Sepal.Length  Sepal.Width\n",
       "5.8           2.7            4\n",
       "5.1           3.8            3\n",
       "6.5           3.0            3\n",
       "6.9           3.1            3\n",
       "6.7           3.1            3\n",
       "              3.0            2\n",
       "6.3           2.5            2\n",
       "5.0           3.4            2\n",
       "              3.5            2\n",
       "6.7           3.3            2\n",
       "6.0           2.2            2\n",
       "5.1           3.5            2\n",
       "6.3           3.3            2\n",
       "6.4           3.2            2\n",
       "5.4           3.4            2\n",
       "5.5           2.4            2\n",
       "6.4           2.8            2\n",
       "5.6           3.0            2\n",
       "4.7           3.2            2\n",
       "4.8           3.4            2\n",
       "5.9           3.0            2\n",
       "6.1           2.8            2\n",
       "4.8           3.0            2\n",
       "6.1           3.0            2\n",
       "5.4           3.9            2\n",
       "5.7           2.8            2\n",
       "4.9           3.1            2\n",
       "6.2           2.2            1\n",
       "              2.8            1\n",
       "6.3           2.7            1\n",
       "6.2           2.9            1\n",
       "6.3           2.8            1\n",
       "6.1           2.9            1\n",
       "6.3           2.9            1\n",
       "              2.3            1\n",
       "6.1           2.6            1\n",
       "6.3           3.4            1\n",
       "6.0           3.4            1\n",
       "6.4           2.7            1\n",
       "6.0           3.0            1\n",
       "6.2           3.4            1\n",
       "4.3           3.0            1\n",
       "6.4           2.9            1\n",
       "              3.1            1\n",
       "7.7           3.8            1\n",
       "              3.0            1\n",
       "              2.8            1\n",
       "              2.6            1\n",
       "7.6           3.0            1\n",
       "7.4           2.8            1\n",
       "7.3           2.9            1\n",
       "7.2           3.6            1\n",
       "              3.2            1\n",
       "              3.0            1\n",
       "7.1           3.0            1\n",
       "7.0           3.2            1\n",
       "6.9           3.2            1\n",
       "6.8           3.2            1\n",
       "              3.0            1\n",
       "              2.8            1\n",
       "6.7           2.5            1\n",
       "6.6           3.0            1\n",
       "              2.9            1\n",
       "6.0           2.9            1\n",
       "6.5           2.8            1\n",
       "              3.2            1\n",
       "5.7           4.4            1\n",
       "6.0           2.7            1\n",
       "4.9           3.6            1\n",
       "5.1           3.7            1\n",
       "              3.4            1\n",
       "              3.3            1\n",
       "              2.5            1\n",
       "5.0           3.6            1\n",
       "              3.3            1\n",
       "              3.2            1\n",
       "              3.0            1\n",
       "              2.3            1\n",
       "              2.0            1\n",
       "4.9           3.0            1\n",
       "5.9           3.2            1\n",
       "4.9           2.5            1\n",
       "              2.4            1\n",
       "4.8           3.1            1\n",
       "4.6           3.6            1\n",
       "              3.4            1\n",
       "              3.2            1\n",
       "              3.1            1\n",
       "4.5           2.3            1\n",
       "4.4           3.2            1\n",
       "              3.0            1\n",
       "5.2           2.7            1\n",
       "              3.4            1\n",
       "              3.5            1\n",
       "              4.1            1\n",
       "5.8           4.0            1\n",
       "              2.8            1\n",
       "              2.6            1\n",
       "4.4           2.9            1\n",
       "5.7           3.8            1\n",
       "              3.0            1\n",
       "              2.9            1\n",
       "              2.6            1\n",
       "              2.5            1\n",
       "5.6           2.9            1\n",
       "              2.8            1\n",
       "              2.7            1\n",
       "              2.5            1\n",
       "5.5           4.2            1\n",
       "              3.5            1\n",
       "              2.6            1\n",
       "              2.5            1\n",
       "              2.3            1\n",
       "5.4           3.7            1\n",
       "              3.0            1\n",
       "5.3           3.7            1\n",
       "7.9           3.8            1\n",
       "Name: count, dtype: int64"
      ]
     },
     "execution_count": 76,
     "metadata": {},
     "output_type": "execute_result"
    }
   ],
   "source": [
    "iris[['Sepal.Length','Sepal.Width']].value_counts()"
   ]
  },
  {
   "cell_type": "code",
   "execution_count": 77,
   "id": "93ffaaaf-a612-42e5-a3be-4fb10b71f643",
   "metadata": {
    "tags": []
   },
   "outputs": [
    {
     "data": {
      "text/plain": [
       "27"
      ]
     },
     "execution_count": 77,
     "metadata": {},
     "output_type": "execute_result"
    }
   ],
   "source": [
    "sum(iris[['Sepal.Length','Sepal.Width']].value_counts() > 1)\n",
    "#27 duplicates"
   ]
  },
  {
   "cell_type": "code",
   "execution_count": 78,
   "id": "8c27878a-0382-486c-9f1e-042231c38245",
   "metadata": {
    "tags": []
   },
   "outputs": [
    {
     "data": {
      "text/plain": [
       "33"
      ]
     },
     "execution_count": 78,
     "metadata": {},
     "output_type": "execute_result"
    }
   ],
   "source": [
    "iris.duplicated(subset=['Sepal.Length','Sepal.Width']).sum()"
   ]
  },
  {
   "cell_type": "code",
   "execution_count": 79,
   "id": "744cff14-4e0e-4a57-88cc-71d655f98f80",
   "metadata": {
    "tags": []
   },
   "outputs": [
    {
     "data": {
      "text/html": [
       "<div>\n",
       "<style scoped>\n",
       "    .dataframe tbody tr th:only-of-type {\n",
       "        vertical-align: middle;\n",
       "    }\n",
       "\n",
       "    .dataframe tbody tr th {\n",
       "        vertical-align: top;\n",
       "    }\n",
       "\n",
       "    .dataframe thead th {\n",
       "        text-align: right;\n",
       "    }\n",
       "</style>\n",
       "<table border=\"1\" class=\"dataframe\">\n",
       "  <thead>\n",
       "    <tr style=\"text-align: right;\">\n",
       "      <th></th>\n",
       "      <th>Sepal.Length</th>\n",
       "      <th>Sepal.Width</th>\n",
       "      <th>Petal.Length</th>\n",
       "      <th>Petal.Width</th>\n",
       "      <th>Species</th>\n",
       "    </tr>\n",
       "  </thead>\n",
       "  <tbody>\n",
       "    <tr>\n",
       "      <th>30</th>\n",
       "      <td>4.7</td>\n",
       "      <td>3.2</td>\n",
       "      <td>1.6</td>\n",
       "      <td>0.2</td>\n",
       "      <td>setosa</td>\n",
       "    </tr>\n",
       "    <tr>\n",
       "      <th>46</th>\n",
       "      <td>4.8</td>\n",
       "      <td>3.0</td>\n",
       "      <td>1.4</td>\n",
       "      <td>0.3</td>\n",
       "      <td>setosa</td>\n",
       "    </tr>\n",
       "    <tr>\n",
       "      <th>25</th>\n",
       "      <td>4.8</td>\n",
       "      <td>3.4</td>\n",
       "      <td>1.9</td>\n",
       "      <td>0.2</td>\n",
       "      <td>setosa</td>\n",
       "    </tr>\n",
       "    <tr>\n",
       "      <th>35</th>\n",
       "      <td>4.9</td>\n",
       "      <td>3.1</td>\n",
       "      <td>1.5</td>\n",
       "      <td>0.2</td>\n",
       "      <td>setosa</td>\n",
       "    </tr>\n",
       "    <tr>\n",
       "      <th>27</th>\n",
       "      <td>5.0</td>\n",
       "      <td>3.4</td>\n",
       "      <td>1.6</td>\n",
       "      <td>0.4</td>\n",
       "      <td>setosa</td>\n",
       "    </tr>\n",
       "    <tr>\n",
       "      <th>44</th>\n",
       "      <td>5.0</td>\n",
       "      <td>3.5</td>\n",
       "      <td>1.6</td>\n",
       "      <td>0.6</td>\n",
       "      <td>setosa</td>\n",
       "    </tr>\n",
       "    <tr>\n",
       "      <th>18</th>\n",
       "      <td>5.1</td>\n",
       "      <td>3.5</td>\n",
       "      <td>1.4</td>\n",
       "      <td>0.3</td>\n",
       "      <td>setosa</td>\n",
       "    </tr>\n",
       "    <tr>\n",
       "      <th>45</th>\n",
       "      <td>5.1</td>\n",
       "      <td>3.8</td>\n",
       "      <td>1.9</td>\n",
       "      <td>0.4</td>\n",
       "      <td>setosa</td>\n",
       "    </tr>\n",
       "    <tr>\n",
       "      <th>47</th>\n",
       "      <td>5.1</td>\n",
       "      <td>3.8</td>\n",
       "      <td>1.6</td>\n",
       "      <td>0.2</td>\n",
       "      <td>setosa</td>\n",
       "    </tr>\n",
       "    <tr>\n",
       "      <th>32</th>\n",
       "      <td>5.4</td>\n",
       "      <td>3.4</td>\n",
       "      <td>1.5</td>\n",
       "      <td>0.4</td>\n",
       "      <td>setosa</td>\n",
       "    </tr>\n",
       "    <tr>\n",
       "      <th>17</th>\n",
       "      <td>5.4</td>\n",
       "      <td>3.9</td>\n",
       "      <td>1.3</td>\n",
       "      <td>0.4</td>\n",
       "      <td>setosa</td>\n",
       "    </tr>\n",
       "    <tr>\n",
       "      <th>82</th>\n",
       "      <td>5.5</td>\n",
       "      <td>2.4</td>\n",
       "      <td>3.7</td>\n",
       "      <td>1.0</td>\n",
       "      <td>versicolor</td>\n",
       "    </tr>\n",
       "    <tr>\n",
       "      <th>89</th>\n",
       "      <td>5.6</td>\n",
       "      <td>3.0</td>\n",
       "      <td>4.1</td>\n",
       "      <td>1.3</td>\n",
       "      <td>versicolor</td>\n",
       "    </tr>\n",
       "    <tr>\n",
       "      <th>100</th>\n",
       "      <td>5.7</td>\n",
       "      <td>2.8</td>\n",
       "      <td>4.1</td>\n",
       "      <td>1.3</td>\n",
       "      <td>versicolor</td>\n",
       "    </tr>\n",
       "    <tr>\n",
       "      <th>83</th>\n",
       "      <td>5.8</td>\n",
       "      <td>2.7</td>\n",
       "      <td>3.9</td>\n",
       "      <td>1.2</td>\n",
       "      <td>versicolor</td>\n",
       "    </tr>\n",
       "    <tr>\n",
       "      <th>102</th>\n",
       "      <td>5.8</td>\n",
       "      <td>2.7</td>\n",
       "      <td>5.1</td>\n",
       "      <td>1.9</td>\n",
       "      <td>virginica</td>\n",
       "    </tr>\n",
       "    <tr>\n",
       "      <th>143</th>\n",
       "      <td>5.8</td>\n",
       "      <td>2.7</td>\n",
       "      <td>5.1</td>\n",
       "      <td>1.9</td>\n",
       "      <td>virginica</td>\n",
       "    </tr>\n",
       "    <tr>\n",
       "      <th>150</th>\n",
       "      <td>5.9</td>\n",
       "      <td>3.0</td>\n",
       "      <td>5.1</td>\n",
       "      <td>1.8</td>\n",
       "      <td>virginica</td>\n",
       "    </tr>\n",
       "    <tr>\n",
       "      <th>120</th>\n",
       "      <td>6.0</td>\n",
       "      <td>2.2</td>\n",
       "      <td>5.0</td>\n",
       "      <td>1.5</td>\n",
       "      <td>virginica</td>\n",
       "    </tr>\n",
       "    <tr>\n",
       "      <th>74</th>\n",
       "      <td>6.1</td>\n",
       "      <td>2.8</td>\n",
       "      <td>4.7</td>\n",
       "      <td>1.2</td>\n",
       "      <td>versicolor</td>\n",
       "    </tr>\n",
       "    <tr>\n",
       "      <th>128</th>\n",
       "      <td>6.1</td>\n",
       "      <td>3.0</td>\n",
       "      <td>4.9</td>\n",
       "      <td>1.8</td>\n",
       "      <td>virginica</td>\n",
       "    </tr>\n",
       "    <tr>\n",
       "      <th>147</th>\n",
       "      <td>6.3</td>\n",
       "      <td>2.5</td>\n",
       "      <td>5.0</td>\n",
       "      <td>1.9</td>\n",
       "      <td>virginica</td>\n",
       "    </tr>\n",
       "    <tr>\n",
       "      <th>101</th>\n",
       "      <td>6.3</td>\n",
       "      <td>3.3</td>\n",
       "      <td>6.0</td>\n",
       "      <td>2.5</td>\n",
       "      <td>virginica</td>\n",
       "    </tr>\n",
       "    <tr>\n",
       "      <th>133</th>\n",
       "      <td>6.4</td>\n",
       "      <td>2.8</td>\n",
       "      <td>5.6</td>\n",
       "      <td>2.2</td>\n",
       "      <td>virginica</td>\n",
       "    </tr>\n",
       "    <tr>\n",
       "      <th>116</th>\n",
       "      <td>6.4</td>\n",
       "      <td>3.2</td>\n",
       "      <td>5.3</td>\n",
       "      <td>2.3</td>\n",
       "      <td>virginica</td>\n",
       "    </tr>\n",
       "    <tr>\n",
       "      <th>117</th>\n",
       "      <td>6.5</td>\n",
       "      <td>3.0</td>\n",
       "      <td>5.5</td>\n",
       "      <td>1.8</td>\n",
       "      <td>virginica</td>\n",
       "    </tr>\n",
       "    <tr>\n",
       "      <th>148</th>\n",
       "      <td>6.5</td>\n",
       "      <td>3.0</td>\n",
       "      <td>5.2</td>\n",
       "      <td>2.0</td>\n",
       "      <td>virginica</td>\n",
       "    </tr>\n",
       "    <tr>\n",
       "      <th>146</th>\n",
       "      <td>6.7</td>\n",
       "      <td>3.0</td>\n",
       "      <td>5.2</td>\n",
       "      <td>2.3</td>\n",
       "      <td>virginica</td>\n",
       "    </tr>\n",
       "    <tr>\n",
       "      <th>87</th>\n",
       "      <td>6.7</td>\n",
       "      <td>3.1</td>\n",
       "      <td>4.7</td>\n",
       "      <td>1.5</td>\n",
       "      <td>versicolor</td>\n",
       "    </tr>\n",
       "    <tr>\n",
       "      <th>141</th>\n",
       "      <td>6.7</td>\n",
       "      <td>3.1</td>\n",
       "      <td>5.6</td>\n",
       "      <td>2.4</td>\n",
       "      <td>virginica</td>\n",
       "    </tr>\n",
       "    <tr>\n",
       "      <th>145</th>\n",
       "      <td>6.7</td>\n",
       "      <td>3.3</td>\n",
       "      <td>5.7</td>\n",
       "      <td>2.5</td>\n",
       "      <td>virginica</td>\n",
       "    </tr>\n",
       "    <tr>\n",
       "      <th>140</th>\n",
       "      <td>6.9</td>\n",
       "      <td>3.1</td>\n",
       "      <td>5.4</td>\n",
       "      <td>2.1</td>\n",
       "      <td>virginica</td>\n",
       "    </tr>\n",
       "    <tr>\n",
       "      <th>142</th>\n",
       "      <td>6.9</td>\n",
       "      <td>3.1</td>\n",
       "      <td>5.1</td>\n",
       "      <td>2.3</td>\n",
       "      <td>virginica</td>\n",
       "    </tr>\n",
       "  </tbody>\n",
       "</table>\n",
       "</div>"
      ],
      "text/plain": [
       "     Sepal.Length  Sepal.Width  Petal.Length  Petal.Width     Species\n",
       "30            4.7          3.2           1.6          0.2      setosa\n",
       "46            4.8          3.0           1.4          0.3      setosa\n",
       "25            4.8          3.4           1.9          0.2      setosa\n",
       "35            4.9          3.1           1.5          0.2      setosa\n",
       "27            5.0          3.4           1.6          0.4      setosa\n",
       "44            5.0          3.5           1.6          0.6      setosa\n",
       "18            5.1          3.5           1.4          0.3      setosa\n",
       "45            5.1          3.8           1.9          0.4      setosa\n",
       "47            5.1          3.8           1.6          0.2      setosa\n",
       "32            5.4          3.4           1.5          0.4      setosa\n",
       "17            5.4          3.9           1.3          0.4      setosa\n",
       "82            5.5          2.4           3.7          1.0  versicolor\n",
       "89            5.6          3.0           4.1          1.3  versicolor\n",
       "100           5.7          2.8           4.1          1.3  versicolor\n",
       "83            5.8          2.7           3.9          1.2  versicolor\n",
       "102           5.8          2.7           5.1          1.9   virginica\n",
       "143           5.8          2.7           5.1          1.9   virginica\n",
       "150           5.9          3.0           5.1          1.8   virginica\n",
       "120           6.0          2.2           5.0          1.5   virginica\n",
       "74            6.1          2.8           4.7          1.2  versicolor\n",
       "128           6.1          3.0           4.9          1.8   virginica\n",
       "147           6.3          2.5           5.0          1.9   virginica\n",
       "101           6.3          3.3           6.0          2.5   virginica\n",
       "133           6.4          2.8           5.6          2.2   virginica\n",
       "116           6.4          3.2           5.3          2.3   virginica\n",
       "117           6.5          3.0           5.5          1.8   virginica\n",
       "148           6.5          3.0           5.2          2.0   virginica\n",
       "146           6.7          3.0           5.2          2.3   virginica\n",
       "87            6.7          3.1           4.7          1.5  versicolor\n",
       "141           6.7          3.1           5.6          2.4   virginica\n",
       "145           6.7          3.3           5.7          2.5   virginica\n",
       "140           6.9          3.1           5.4          2.1   virginica\n",
       "142           6.9          3.1           5.1          2.3   virginica"
      ]
     },
     "execution_count": 79,
     "metadata": {},
     "output_type": "execute_result"
    }
   ],
   "source": [
    "iris[iris.duplicated(subset=['Sepal.Length','Sepal.Width'])].sort_values(by=['Sepal.Length','Sepal.Width'])"
   ]
  },
  {
   "cell_type": "code",
   "execution_count": 80,
   "id": "5dc9e63b-04f5-4166-a6ce-a206eb306fe7",
   "metadata": {
    "tags": []
   },
   "outputs": [
    {
     "data": {
      "text/html": [
       "<div>\n",
       "<style scoped>\n",
       "    .dataframe tbody tr th:only-of-type {\n",
       "        vertical-align: middle;\n",
       "    }\n",
       "\n",
       "    .dataframe tbody tr th {\n",
       "        vertical-align: top;\n",
       "    }\n",
       "\n",
       "    .dataframe thead th {\n",
       "        text-align: right;\n",
       "    }\n",
       "</style>\n",
       "<table border=\"1\" class=\"dataframe\">\n",
       "  <thead>\n",
       "    <tr style=\"text-align: right;\">\n",
       "      <th></th>\n",
       "      <th>Sepal.Length</th>\n",
       "      <th>Sepal.Width</th>\n",
       "      <th>Petal.Length</th>\n",
       "      <th>Petal.Width</th>\n",
       "      <th>Species</th>\n",
       "    </tr>\n",
       "  </thead>\n",
       "  <tbody>\n",
       "    <tr>\n",
       "      <th>14</th>\n",
       "      <td>4.3</td>\n",
       "      <td>3.0</td>\n",
       "      <td>1.1</td>\n",
       "      <td>0.1</td>\n",
       "      <td>setosa</td>\n",
       "    </tr>\n",
       "    <tr>\n",
       "      <th>9</th>\n",
       "      <td>4.4</td>\n",
       "      <td>2.9</td>\n",
       "      <td>1.4</td>\n",
       "      <td>0.2</td>\n",
       "      <td>setosa</td>\n",
       "    </tr>\n",
       "    <tr>\n",
       "      <th>39</th>\n",
       "      <td>4.4</td>\n",
       "      <td>3.0</td>\n",
       "      <td>1.3</td>\n",
       "      <td>0.2</td>\n",
       "      <td>setosa</td>\n",
       "    </tr>\n",
       "    <tr>\n",
       "      <th>43</th>\n",
       "      <td>4.4</td>\n",
       "      <td>3.2</td>\n",
       "      <td>1.3</td>\n",
       "      <td>0.2</td>\n",
       "      <td>setosa</td>\n",
       "    </tr>\n",
       "    <tr>\n",
       "      <th>42</th>\n",
       "      <td>4.5</td>\n",
       "      <td>2.3</td>\n",
       "      <td>1.3</td>\n",
       "      <td>0.3</td>\n",
       "      <td>setosa</td>\n",
       "    </tr>\n",
       "    <tr>\n",
       "      <th>4</th>\n",
       "      <td>4.6</td>\n",
       "      <td>3.1</td>\n",
       "      <td>1.5</td>\n",
       "      <td>0.2</td>\n",
       "      <td>setosa</td>\n",
       "    </tr>\n",
       "    <tr>\n",
       "      <th>48</th>\n",
       "      <td>4.6</td>\n",
       "      <td>3.2</td>\n",
       "      <td>1.4</td>\n",
       "      <td>0.2</td>\n",
       "      <td>setosa</td>\n",
       "    </tr>\n",
       "    <tr>\n",
       "      <th>7</th>\n",
       "      <td>4.6</td>\n",
       "      <td>3.4</td>\n",
       "      <td>1.4</td>\n",
       "      <td>0.3</td>\n",
       "      <td>setosa</td>\n",
       "    </tr>\n",
       "    <tr>\n",
       "      <th>23</th>\n",
       "      <td>4.6</td>\n",
       "      <td>3.6</td>\n",
       "      <td>1.0</td>\n",
       "      <td>0.2</td>\n",
       "      <td>setosa</td>\n",
       "    </tr>\n",
       "    <tr>\n",
       "      <th>3</th>\n",
       "      <td>4.7</td>\n",
       "      <td>3.2</td>\n",
       "      <td>1.3</td>\n",
       "      <td>0.2</td>\n",
       "      <td>setosa</td>\n",
       "    </tr>\n",
       "    <tr>\n",
       "      <th>13</th>\n",
       "      <td>4.8</td>\n",
       "      <td>3.0</td>\n",
       "      <td>1.4</td>\n",
       "      <td>0.1</td>\n",
       "      <td>setosa</td>\n",
       "    </tr>\n",
       "    <tr>\n",
       "      <th>31</th>\n",
       "      <td>4.8</td>\n",
       "      <td>3.1</td>\n",
       "      <td>1.6</td>\n",
       "      <td>0.2</td>\n",
       "      <td>setosa</td>\n",
       "    </tr>\n",
       "    <tr>\n",
       "      <th>12</th>\n",
       "      <td>4.8</td>\n",
       "      <td>3.4</td>\n",
       "      <td>1.6</td>\n",
       "      <td>0.2</td>\n",
       "      <td>setosa</td>\n",
       "    </tr>\n",
       "    <tr>\n",
       "      <th>58</th>\n",
       "      <td>4.9</td>\n",
       "      <td>2.4</td>\n",
       "      <td>3.3</td>\n",
       "      <td>1.0</td>\n",
       "      <td>versicolor</td>\n",
       "    </tr>\n",
       "    <tr>\n",
       "      <th>107</th>\n",
       "      <td>4.9</td>\n",
       "      <td>2.5</td>\n",
       "      <td>4.5</td>\n",
       "      <td>1.7</td>\n",
       "      <td>virginica</td>\n",
       "    </tr>\n",
       "    <tr>\n",
       "      <th>2</th>\n",
       "      <td>4.9</td>\n",
       "      <td>3.0</td>\n",
       "      <td>1.4</td>\n",
       "      <td>0.2</td>\n",
       "      <td>setosa</td>\n",
       "    </tr>\n",
       "    <tr>\n",
       "      <th>10</th>\n",
       "      <td>4.9</td>\n",
       "      <td>3.1</td>\n",
       "      <td>1.5</td>\n",
       "      <td>0.1</td>\n",
       "      <td>setosa</td>\n",
       "    </tr>\n",
       "    <tr>\n",
       "      <th>38</th>\n",
       "      <td>4.9</td>\n",
       "      <td>3.6</td>\n",
       "      <td>1.4</td>\n",
       "      <td>0.1</td>\n",
       "      <td>setosa</td>\n",
       "    </tr>\n",
       "    <tr>\n",
       "      <th>61</th>\n",
       "      <td>5.0</td>\n",
       "      <td>2.0</td>\n",
       "      <td>3.5</td>\n",
       "      <td>1.0</td>\n",
       "      <td>versicolor</td>\n",
       "    </tr>\n",
       "    <tr>\n",
       "      <th>94</th>\n",
       "      <td>5.0</td>\n",
       "      <td>2.3</td>\n",
       "      <td>3.3</td>\n",
       "      <td>1.0</td>\n",
       "      <td>versicolor</td>\n",
       "    </tr>\n",
       "    <tr>\n",
       "      <th>26</th>\n",
       "      <td>5.0</td>\n",
       "      <td>3.0</td>\n",
       "      <td>1.6</td>\n",
       "      <td>0.2</td>\n",
       "      <td>setosa</td>\n",
       "    </tr>\n",
       "    <tr>\n",
       "      <th>36</th>\n",
       "      <td>5.0</td>\n",
       "      <td>3.2</td>\n",
       "      <td>1.2</td>\n",
       "      <td>0.2</td>\n",
       "      <td>setosa</td>\n",
       "    </tr>\n",
       "    <tr>\n",
       "      <th>50</th>\n",
       "      <td>5.0</td>\n",
       "      <td>3.3</td>\n",
       "      <td>1.4</td>\n",
       "      <td>0.2</td>\n",
       "      <td>setosa</td>\n",
       "    </tr>\n",
       "    <tr>\n",
       "      <th>8</th>\n",
       "      <td>5.0</td>\n",
       "      <td>3.4</td>\n",
       "      <td>1.5</td>\n",
       "      <td>0.2</td>\n",
       "      <td>setosa</td>\n",
       "    </tr>\n",
       "    <tr>\n",
       "      <th>41</th>\n",
       "      <td>5.0</td>\n",
       "      <td>3.5</td>\n",
       "      <td>1.3</td>\n",
       "      <td>0.3</td>\n",
       "      <td>setosa</td>\n",
       "    </tr>\n",
       "    <tr>\n",
       "      <th>5</th>\n",
       "      <td>5.0</td>\n",
       "      <td>3.6</td>\n",
       "      <td>1.4</td>\n",
       "      <td>0.2</td>\n",
       "      <td>setosa</td>\n",
       "    </tr>\n",
       "    <tr>\n",
       "      <th>99</th>\n",
       "      <td>5.1</td>\n",
       "      <td>2.5</td>\n",
       "      <td>3.0</td>\n",
       "      <td>1.1</td>\n",
       "      <td>versicolor</td>\n",
       "    </tr>\n",
       "    <tr>\n",
       "      <th>24</th>\n",
       "      <td>5.1</td>\n",
       "      <td>3.3</td>\n",
       "      <td>1.7</td>\n",
       "      <td>0.5</td>\n",
       "      <td>setosa</td>\n",
       "    </tr>\n",
       "    <tr>\n",
       "      <th>40</th>\n",
       "      <td>5.1</td>\n",
       "      <td>3.4</td>\n",
       "      <td>1.5</td>\n",
       "      <td>0.2</td>\n",
       "      <td>setosa</td>\n",
       "    </tr>\n",
       "    <tr>\n",
       "      <th>1</th>\n",
       "      <td>5.1</td>\n",
       "      <td>3.5</td>\n",
       "      <td>1.4</td>\n",
       "      <td>0.2</td>\n",
       "      <td>setosa</td>\n",
       "    </tr>\n",
       "    <tr>\n",
       "      <th>22</th>\n",
       "      <td>5.1</td>\n",
       "      <td>3.7</td>\n",
       "      <td>1.5</td>\n",
       "      <td>0.4</td>\n",
       "      <td>setosa</td>\n",
       "    </tr>\n",
       "    <tr>\n",
       "      <th>20</th>\n",
       "      <td>5.1</td>\n",
       "      <td>3.8</td>\n",
       "      <td>1.5</td>\n",
       "      <td>0.3</td>\n",
       "      <td>setosa</td>\n",
       "    </tr>\n",
       "    <tr>\n",
       "      <th>60</th>\n",
       "      <td>5.2</td>\n",
       "      <td>2.7</td>\n",
       "      <td>3.9</td>\n",
       "      <td>1.4</td>\n",
       "      <td>versicolor</td>\n",
       "    </tr>\n",
       "    <tr>\n",
       "      <th>29</th>\n",
       "      <td>5.2</td>\n",
       "      <td>3.4</td>\n",
       "      <td>1.4</td>\n",
       "      <td>0.2</td>\n",
       "      <td>setosa</td>\n",
       "    </tr>\n",
       "    <tr>\n",
       "      <th>28</th>\n",
       "      <td>5.2</td>\n",
       "      <td>3.5</td>\n",
       "      <td>1.5</td>\n",
       "      <td>0.2</td>\n",
       "      <td>setosa</td>\n",
       "    </tr>\n",
       "    <tr>\n",
       "      <th>33</th>\n",
       "      <td>5.2</td>\n",
       "      <td>4.1</td>\n",
       "      <td>1.5</td>\n",
       "      <td>0.1</td>\n",
       "      <td>setosa</td>\n",
       "    </tr>\n",
       "    <tr>\n",
       "      <th>49</th>\n",
       "      <td>5.3</td>\n",
       "      <td>3.7</td>\n",
       "      <td>1.5</td>\n",
       "      <td>0.2</td>\n",
       "      <td>setosa</td>\n",
       "    </tr>\n",
       "    <tr>\n",
       "      <th>85</th>\n",
       "      <td>5.4</td>\n",
       "      <td>3.0</td>\n",
       "      <td>4.5</td>\n",
       "      <td>1.5</td>\n",
       "      <td>versicolor</td>\n",
       "    </tr>\n",
       "    <tr>\n",
       "      <th>21</th>\n",
       "      <td>5.4</td>\n",
       "      <td>3.4</td>\n",
       "      <td>1.7</td>\n",
       "      <td>0.2</td>\n",
       "      <td>setosa</td>\n",
       "    </tr>\n",
       "    <tr>\n",
       "      <th>11</th>\n",
       "      <td>5.4</td>\n",
       "      <td>3.7</td>\n",
       "      <td>1.5</td>\n",
       "      <td>0.2</td>\n",
       "      <td>setosa</td>\n",
       "    </tr>\n",
       "    <tr>\n",
       "      <th>6</th>\n",
       "      <td>5.4</td>\n",
       "      <td>3.9</td>\n",
       "      <td>1.7</td>\n",
       "      <td>0.4</td>\n",
       "      <td>setosa</td>\n",
       "    </tr>\n",
       "    <tr>\n",
       "      <th>54</th>\n",
       "      <td>5.5</td>\n",
       "      <td>2.3</td>\n",
       "      <td>4.0</td>\n",
       "      <td>1.3</td>\n",
       "      <td>versicolor</td>\n",
       "    </tr>\n",
       "    <tr>\n",
       "      <th>81</th>\n",
       "      <td>5.5</td>\n",
       "      <td>2.4</td>\n",
       "      <td>3.8</td>\n",
       "      <td>1.1</td>\n",
       "      <td>versicolor</td>\n",
       "    </tr>\n",
       "    <tr>\n",
       "      <th>90</th>\n",
       "      <td>5.5</td>\n",
       "      <td>2.5</td>\n",
       "      <td>4.0</td>\n",
       "      <td>1.3</td>\n",
       "      <td>versicolor</td>\n",
       "    </tr>\n",
       "    <tr>\n",
       "      <th>91</th>\n",
       "      <td>5.5</td>\n",
       "      <td>2.6</td>\n",
       "      <td>4.4</td>\n",
       "      <td>1.2</td>\n",
       "      <td>versicolor</td>\n",
       "    </tr>\n",
       "    <tr>\n",
       "      <th>37</th>\n",
       "      <td>5.5</td>\n",
       "      <td>3.5</td>\n",
       "      <td>1.3</td>\n",
       "      <td>0.2</td>\n",
       "      <td>setosa</td>\n",
       "    </tr>\n",
       "    <tr>\n",
       "      <th>34</th>\n",
       "      <td>5.5</td>\n",
       "      <td>4.2</td>\n",
       "      <td>1.4</td>\n",
       "      <td>0.2</td>\n",
       "      <td>setosa</td>\n",
       "    </tr>\n",
       "    <tr>\n",
       "      <th>70</th>\n",
       "      <td>5.6</td>\n",
       "      <td>2.5</td>\n",
       "      <td>3.9</td>\n",
       "      <td>1.1</td>\n",
       "      <td>versicolor</td>\n",
       "    </tr>\n",
       "    <tr>\n",
       "      <th>95</th>\n",
       "      <td>5.6</td>\n",
       "      <td>2.7</td>\n",
       "      <td>4.2</td>\n",
       "      <td>1.3</td>\n",
       "      <td>versicolor</td>\n",
       "    </tr>\n",
       "    <tr>\n",
       "      <th>122</th>\n",
       "      <td>5.6</td>\n",
       "      <td>2.8</td>\n",
       "      <td>4.9</td>\n",
       "      <td>2.0</td>\n",
       "      <td>virginica</td>\n",
       "    </tr>\n",
       "    <tr>\n",
       "      <th>65</th>\n",
       "      <td>5.6</td>\n",
       "      <td>2.9</td>\n",
       "      <td>3.6</td>\n",
       "      <td>1.3</td>\n",
       "      <td>versicolor</td>\n",
       "    </tr>\n",
       "    <tr>\n",
       "      <th>67</th>\n",
       "      <td>5.6</td>\n",
       "      <td>3.0</td>\n",
       "      <td>4.5</td>\n",
       "      <td>1.5</td>\n",
       "      <td>versicolor</td>\n",
       "    </tr>\n",
       "    <tr>\n",
       "      <th>114</th>\n",
       "      <td>5.7</td>\n",
       "      <td>2.5</td>\n",
       "      <td>5.0</td>\n",
       "      <td>2.0</td>\n",
       "      <td>virginica</td>\n",
       "    </tr>\n",
       "    <tr>\n",
       "      <th>80</th>\n",
       "      <td>5.7</td>\n",
       "      <td>2.6</td>\n",
       "      <td>3.5</td>\n",
       "      <td>1.0</td>\n",
       "      <td>versicolor</td>\n",
       "    </tr>\n",
       "    <tr>\n",
       "      <th>56</th>\n",
       "      <td>5.7</td>\n",
       "      <td>2.8</td>\n",
       "      <td>4.5</td>\n",
       "      <td>1.3</td>\n",
       "      <td>versicolor</td>\n",
       "    </tr>\n",
       "    <tr>\n",
       "      <th>97</th>\n",
       "      <td>5.7</td>\n",
       "      <td>2.9</td>\n",
       "      <td>4.2</td>\n",
       "      <td>1.3</td>\n",
       "      <td>versicolor</td>\n",
       "    </tr>\n",
       "    <tr>\n",
       "      <th>96</th>\n",
       "      <td>5.7</td>\n",
       "      <td>3.0</td>\n",
       "      <td>4.2</td>\n",
       "      <td>1.2</td>\n",
       "      <td>versicolor</td>\n",
       "    </tr>\n",
       "    <tr>\n",
       "      <th>19</th>\n",
       "      <td>5.7</td>\n",
       "      <td>3.8</td>\n",
       "      <td>1.7</td>\n",
       "      <td>0.3</td>\n",
       "      <td>setosa</td>\n",
       "    </tr>\n",
       "    <tr>\n",
       "      <th>16</th>\n",
       "      <td>5.7</td>\n",
       "      <td>4.4</td>\n",
       "      <td>1.5</td>\n",
       "      <td>0.4</td>\n",
       "      <td>setosa</td>\n",
       "    </tr>\n",
       "    <tr>\n",
       "      <th>93</th>\n",
       "      <td>5.8</td>\n",
       "      <td>2.6</td>\n",
       "      <td>4.0</td>\n",
       "      <td>1.2</td>\n",
       "      <td>versicolor</td>\n",
       "    </tr>\n",
       "    <tr>\n",
       "      <th>68</th>\n",
       "      <td>5.8</td>\n",
       "      <td>2.7</td>\n",
       "      <td>4.1</td>\n",
       "      <td>1.0</td>\n",
       "      <td>versicolor</td>\n",
       "    </tr>\n",
       "    <tr>\n",
       "      <th>115</th>\n",
       "      <td>5.8</td>\n",
       "      <td>2.8</td>\n",
       "      <td>5.1</td>\n",
       "      <td>2.4</td>\n",
       "      <td>virginica</td>\n",
       "    </tr>\n",
       "    <tr>\n",
       "      <th>15</th>\n",
       "      <td>5.8</td>\n",
       "      <td>4.0</td>\n",
       "      <td>1.2</td>\n",
       "      <td>0.2</td>\n",
       "      <td>setosa</td>\n",
       "    </tr>\n",
       "    <tr>\n",
       "      <th>62</th>\n",
       "      <td>5.9</td>\n",
       "      <td>3.0</td>\n",
       "      <td>4.2</td>\n",
       "      <td>1.5</td>\n",
       "      <td>versicolor</td>\n",
       "    </tr>\n",
       "    <tr>\n",
       "      <th>71</th>\n",
       "      <td>5.9</td>\n",
       "      <td>3.2</td>\n",
       "      <td>4.8</td>\n",
       "      <td>1.8</td>\n",
       "      <td>versicolor</td>\n",
       "    </tr>\n",
       "    <tr>\n",
       "      <th>63</th>\n",
       "      <td>6.0</td>\n",
       "      <td>2.2</td>\n",
       "      <td>4.0</td>\n",
       "      <td>1.0</td>\n",
       "      <td>versicolor</td>\n",
       "    </tr>\n",
       "    <tr>\n",
       "      <th>84</th>\n",
       "      <td>6.0</td>\n",
       "      <td>2.7</td>\n",
       "      <td>5.1</td>\n",
       "      <td>1.6</td>\n",
       "      <td>versicolor</td>\n",
       "    </tr>\n",
       "    <tr>\n",
       "      <th>79</th>\n",
       "      <td>6.0</td>\n",
       "      <td>2.9</td>\n",
       "      <td>4.5</td>\n",
       "      <td>1.5</td>\n",
       "      <td>versicolor</td>\n",
       "    </tr>\n",
       "    <tr>\n",
       "      <th>139</th>\n",
       "      <td>6.0</td>\n",
       "      <td>3.0</td>\n",
       "      <td>4.8</td>\n",
       "      <td>1.8</td>\n",
       "      <td>virginica</td>\n",
       "    </tr>\n",
       "    <tr>\n",
       "      <th>86</th>\n",
       "      <td>6.0</td>\n",
       "      <td>3.4</td>\n",
       "      <td>4.5</td>\n",
       "      <td>1.6</td>\n",
       "      <td>versicolor</td>\n",
       "    </tr>\n",
       "    <tr>\n",
       "      <th>135</th>\n",
       "      <td>6.1</td>\n",
       "      <td>2.6</td>\n",
       "      <td>5.6</td>\n",
       "      <td>1.4</td>\n",
       "      <td>virginica</td>\n",
       "    </tr>\n",
       "    <tr>\n",
       "      <th>72</th>\n",
       "      <td>6.1</td>\n",
       "      <td>2.8</td>\n",
       "      <td>4.0</td>\n",
       "      <td>1.3</td>\n",
       "      <td>versicolor</td>\n",
       "    </tr>\n",
       "    <tr>\n",
       "      <th>64</th>\n",
       "      <td>6.1</td>\n",
       "      <td>2.9</td>\n",
       "      <td>4.7</td>\n",
       "      <td>1.4</td>\n",
       "      <td>versicolor</td>\n",
       "    </tr>\n",
       "    <tr>\n",
       "      <th>92</th>\n",
       "      <td>6.1</td>\n",
       "      <td>3.0</td>\n",
       "      <td>4.6</td>\n",
       "      <td>1.4</td>\n",
       "      <td>versicolor</td>\n",
       "    </tr>\n",
       "    <tr>\n",
       "      <th>69</th>\n",
       "      <td>6.2</td>\n",
       "      <td>2.2</td>\n",
       "      <td>4.5</td>\n",
       "      <td>1.5</td>\n",
       "      <td>versicolor</td>\n",
       "    </tr>\n",
       "    <tr>\n",
       "      <th>127</th>\n",
       "      <td>6.2</td>\n",
       "      <td>2.8</td>\n",
       "      <td>4.8</td>\n",
       "      <td>1.8</td>\n",
       "      <td>virginica</td>\n",
       "    </tr>\n",
       "    <tr>\n",
       "      <th>98</th>\n",
       "      <td>6.2</td>\n",
       "      <td>2.9</td>\n",
       "      <td>4.3</td>\n",
       "      <td>1.3</td>\n",
       "      <td>versicolor</td>\n",
       "    </tr>\n",
       "    <tr>\n",
       "      <th>149</th>\n",
       "      <td>6.2</td>\n",
       "      <td>3.4</td>\n",
       "      <td>5.4</td>\n",
       "      <td>2.3</td>\n",
       "      <td>virginica</td>\n",
       "    </tr>\n",
       "    <tr>\n",
       "      <th>88</th>\n",
       "      <td>6.3</td>\n",
       "      <td>2.3</td>\n",
       "      <td>4.4</td>\n",
       "      <td>1.3</td>\n",
       "      <td>versicolor</td>\n",
       "    </tr>\n",
       "    <tr>\n",
       "      <th>73</th>\n",
       "      <td>6.3</td>\n",
       "      <td>2.5</td>\n",
       "      <td>4.9</td>\n",
       "      <td>1.5</td>\n",
       "      <td>versicolor</td>\n",
       "    </tr>\n",
       "    <tr>\n",
       "      <th>124</th>\n",
       "      <td>6.3</td>\n",
       "      <td>2.7</td>\n",
       "      <td>4.9</td>\n",
       "      <td>1.8</td>\n",
       "      <td>virginica</td>\n",
       "    </tr>\n",
       "    <tr>\n",
       "      <th>134</th>\n",
       "      <td>6.3</td>\n",
       "      <td>2.8</td>\n",
       "      <td>5.1</td>\n",
       "      <td>1.5</td>\n",
       "      <td>virginica</td>\n",
       "    </tr>\n",
       "    <tr>\n",
       "      <th>104</th>\n",
       "      <td>6.3</td>\n",
       "      <td>2.9</td>\n",
       "      <td>5.6</td>\n",
       "      <td>1.8</td>\n",
       "      <td>virginica</td>\n",
       "    </tr>\n",
       "    <tr>\n",
       "      <th>57</th>\n",
       "      <td>6.3</td>\n",
       "      <td>3.3</td>\n",
       "      <td>4.7</td>\n",
       "      <td>1.6</td>\n",
       "      <td>versicolor</td>\n",
       "    </tr>\n",
       "    <tr>\n",
       "      <th>137</th>\n",
       "      <td>6.3</td>\n",
       "      <td>3.4</td>\n",
       "      <td>5.6</td>\n",
       "      <td>2.4</td>\n",
       "      <td>virginica</td>\n",
       "    </tr>\n",
       "    <tr>\n",
       "      <th>112</th>\n",
       "      <td>6.4</td>\n",
       "      <td>2.7</td>\n",
       "      <td>5.3</td>\n",
       "      <td>1.9</td>\n",
       "      <td>virginica</td>\n",
       "    </tr>\n",
       "    <tr>\n",
       "      <th>129</th>\n",
       "      <td>6.4</td>\n",
       "      <td>2.8</td>\n",
       "      <td>5.6</td>\n",
       "      <td>2.1</td>\n",
       "      <td>virginica</td>\n",
       "    </tr>\n",
       "    <tr>\n",
       "      <th>75</th>\n",
       "      <td>6.4</td>\n",
       "      <td>2.9</td>\n",
       "      <td>4.3</td>\n",
       "      <td>1.3</td>\n",
       "      <td>versicolor</td>\n",
       "    </tr>\n",
       "    <tr>\n",
       "      <th>138</th>\n",
       "      <td>6.4</td>\n",
       "      <td>3.1</td>\n",
       "      <td>5.5</td>\n",
       "      <td>1.8</td>\n",
       "      <td>virginica</td>\n",
       "    </tr>\n",
       "    <tr>\n",
       "      <th>52</th>\n",
       "      <td>6.4</td>\n",
       "      <td>3.2</td>\n",
       "      <td>4.5</td>\n",
       "      <td>1.5</td>\n",
       "      <td>versicolor</td>\n",
       "    </tr>\n",
       "    <tr>\n",
       "      <th>55</th>\n",
       "      <td>6.5</td>\n",
       "      <td>2.8</td>\n",
       "      <td>4.6</td>\n",
       "      <td>1.5</td>\n",
       "      <td>versicolor</td>\n",
       "    </tr>\n",
       "    <tr>\n",
       "      <th>105</th>\n",
       "      <td>6.5</td>\n",
       "      <td>3.0</td>\n",
       "      <td>5.8</td>\n",
       "      <td>2.2</td>\n",
       "      <td>virginica</td>\n",
       "    </tr>\n",
       "    <tr>\n",
       "      <th>111</th>\n",
       "      <td>6.5</td>\n",
       "      <td>3.2</td>\n",
       "      <td>5.1</td>\n",
       "      <td>2.0</td>\n",
       "      <td>virginica</td>\n",
       "    </tr>\n",
       "    <tr>\n",
       "      <th>59</th>\n",
       "      <td>6.6</td>\n",
       "      <td>2.9</td>\n",
       "      <td>4.6</td>\n",
       "      <td>1.3</td>\n",
       "      <td>versicolor</td>\n",
       "    </tr>\n",
       "    <tr>\n",
       "      <th>76</th>\n",
       "      <td>6.6</td>\n",
       "      <td>3.0</td>\n",
       "      <td>4.4</td>\n",
       "      <td>1.4</td>\n",
       "      <td>versicolor</td>\n",
       "    </tr>\n",
       "    <tr>\n",
       "      <th>109</th>\n",
       "      <td>6.7</td>\n",
       "      <td>2.5</td>\n",
       "      <td>5.8</td>\n",
       "      <td>1.8</td>\n",
       "      <td>virginica</td>\n",
       "    </tr>\n",
       "    <tr>\n",
       "      <th>78</th>\n",
       "      <td>6.7</td>\n",
       "      <td>3.0</td>\n",
       "      <td>5.0</td>\n",
       "      <td>1.7</td>\n",
       "      <td>versicolor</td>\n",
       "    </tr>\n",
       "    <tr>\n",
       "      <th>66</th>\n",
       "      <td>6.7</td>\n",
       "      <td>3.1</td>\n",
       "      <td>4.4</td>\n",
       "      <td>1.4</td>\n",
       "      <td>versicolor</td>\n",
       "    </tr>\n",
       "    <tr>\n",
       "      <th>125</th>\n",
       "      <td>6.7</td>\n",
       "      <td>3.3</td>\n",
       "      <td>5.7</td>\n",
       "      <td>2.1</td>\n",
       "      <td>virginica</td>\n",
       "    </tr>\n",
       "    <tr>\n",
       "      <th>77</th>\n",
       "      <td>6.8</td>\n",
       "      <td>2.8</td>\n",
       "      <td>4.8</td>\n",
       "      <td>1.4</td>\n",
       "      <td>versicolor</td>\n",
       "    </tr>\n",
       "    <tr>\n",
       "      <th>113</th>\n",
       "      <td>6.8</td>\n",
       "      <td>3.0</td>\n",
       "      <td>5.5</td>\n",
       "      <td>2.1</td>\n",
       "      <td>virginica</td>\n",
       "    </tr>\n",
       "    <tr>\n",
       "      <th>144</th>\n",
       "      <td>6.8</td>\n",
       "      <td>3.2</td>\n",
       "      <td>5.9</td>\n",
       "      <td>2.3</td>\n",
       "      <td>virginica</td>\n",
       "    </tr>\n",
       "    <tr>\n",
       "      <th>53</th>\n",
       "      <td>6.9</td>\n",
       "      <td>3.1</td>\n",
       "      <td>4.9</td>\n",
       "      <td>1.5</td>\n",
       "      <td>versicolor</td>\n",
       "    </tr>\n",
       "    <tr>\n",
       "      <th>121</th>\n",
       "      <td>6.9</td>\n",
       "      <td>3.2</td>\n",
       "      <td>5.7</td>\n",
       "      <td>2.3</td>\n",
       "      <td>virginica</td>\n",
       "    </tr>\n",
       "    <tr>\n",
       "      <th>51</th>\n",
       "      <td>7.0</td>\n",
       "      <td>3.2</td>\n",
       "      <td>4.7</td>\n",
       "      <td>1.4</td>\n",
       "      <td>versicolor</td>\n",
       "    </tr>\n",
       "    <tr>\n",
       "      <th>103</th>\n",
       "      <td>7.1</td>\n",
       "      <td>3.0</td>\n",
       "      <td>5.9</td>\n",
       "      <td>2.1</td>\n",
       "      <td>virginica</td>\n",
       "    </tr>\n",
       "    <tr>\n",
       "      <th>130</th>\n",
       "      <td>7.2</td>\n",
       "      <td>3.0</td>\n",
       "      <td>5.8</td>\n",
       "      <td>1.6</td>\n",
       "      <td>virginica</td>\n",
       "    </tr>\n",
       "    <tr>\n",
       "      <th>126</th>\n",
       "      <td>7.2</td>\n",
       "      <td>3.2</td>\n",
       "      <td>6.0</td>\n",
       "      <td>1.8</td>\n",
       "      <td>virginica</td>\n",
       "    </tr>\n",
       "    <tr>\n",
       "      <th>110</th>\n",
       "      <td>7.2</td>\n",
       "      <td>3.6</td>\n",
       "      <td>6.1</td>\n",
       "      <td>2.5</td>\n",
       "      <td>virginica</td>\n",
       "    </tr>\n",
       "    <tr>\n",
       "      <th>108</th>\n",
       "      <td>7.3</td>\n",
       "      <td>2.9</td>\n",
       "      <td>6.3</td>\n",
       "      <td>1.8</td>\n",
       "      <td>virginica</td>\n",
       "    </tr>\n",
       "    <tr>\n",
       "      <th>131</th>\n",
       "      <td>7.4</td>\n",
       "      <td>2.8</td>\n",
       "      <td>6.1</td>\n",
       "      <td>1.9</td>\n",
       "      <td>virginica</td>\n",
       "    </tr>\n",
       "    <tr>\n",
       "      <th>106</th>\n",
       "      <td>7.6</td>\n",
       "      <td>3.0</td>\n",
       "      <td>6.6</td>\n",
       "      <td>2.1</td>\n",
       "      <td>virginica</td>\n",
       "    </tr>\n",
       "    <tr>\n",
       "      <th>119</th>\n",
       "      <td>7.7</td>\n",
       "      <td>2.6</td>\n",
       "      <td>6.9</td>\n",
       "      <td>2.3</td>\n",
       "      <td>virginica</td>\n",
       "    </tr>\n",
       "    <tr>\n",
       "      <th>123</th>\n",
       "      <td>7.7</td>\n",
       "      <td>2.8</td>\n",
       "      <td>6.7</td>\n",
       "      <td>2.0</td>\n",
       "      <td>virginica</td>\n",
       "    </tr>\n",
       "    <tr>\n",
       "      <th>136</th>\n",
       "      <td>7.7</td>\n",
       "      <td>3.0</td>\n",
       "      <td>6.1</td>\n",
       "      <td>2.3</td>\n",
       "      <td>virginica</td>\n",
       "    </tr>\n",
       "    <tr>\n",
       "      <th>118</th>\n",
       "      <td>7.7</td>\n",
       "      <td>3.8</td>\n",
       "      <td>6.7</td>\n",
       "      <td>2.2</td>\n",
       "      <td>virginica</td>\n",
       "    </tr>\n",
       "    <tr>\n",
       "      <th>132</th>\n",
       "      <td>7.9</td>\n",
       "      <td>3.8</td>\n",
       "      <td>6.4</td>\n",
       "      <td>2.0</td>\n",
       "      <td>virginica</td>\n",
       "    </tr>\n",
       "  </tbody>\n",
       "</table>\n",
       "</div>"
      ],
      "text/plain": [
       "     Sepal.Length  Sepal.Width  Petal.Length  Petal.Width     Species\n",
       "14            4.3          3.0           1.1          0.1      setosa\n",
       "9             4.4          2.9           1.4          0.2      setosa\n",
       "39            4.4          3.0           1.3          0.2      setosa\n",
       "43            4.4          3.2           1.3          0.2      setosa\n",
       "42            4.5          2.3           1.3          0.3      setosa\n",
       "4             4.6          3.1           1.5          0.2      setosa\n",
       "48            4.6          3.2           1.4          0.2      setosa\n",
       "7             4.6          3.4           1.4          0.3      setosa\n",
       "23            4.6          3.6           1.0          0.2      setosa\n",
       "3             4.7          3.2           1.3          0.2      setosa\n",
       "13            4.8          3.0           1.4          0.1      setosa\n",
       "31            4.8          3.1           1.6          0.2      setosa\n",
       "12            4.8          3.4           1.6          0.2      setosa\n",
       "58            4.9          2.4           3.3          1.0  versicolor\n",
       "107           4.9          2.5           4.5          1.7   virginica\n",
       "2             4.9          3.0           1.4          0.2      setosa\n",
       "10            4.9          3.1           1.5          0.1      setosa\n",
       "38            4.9          3.6           1.4          0.1      setosa\n",
       "61            5.0          2.0           3.5          1.0  versicolor\n",
       "94            5.0          2.3           3.3          1.0  versicolor\n",
       "26            5.0          3.0           1.6          0.2      setosa\n",
       "36            5.0          3.2           1.2          0.2      setosa\n",
       "50            5.0          3.3           1.4          0.2      setosa\n",
       "8             5.0          3.4           1.5          0.2      setosa\n",
       "41            5.0          3.5           1.3          0.3      setosa\n",
       "5             5.0          3.6           1.4          0.2      setosa\n",
       "99            5.1          2.5           3.0          1.1  versicolor\n",
       "24            5.1          3.3           1.7          0.5      setosa\n",
       "40            5.1          3.4           1.5          0.2      setosa\n",
       "1             5.1          3.5           1.4          0.2      setosa\n",
       "22            5.1          3.7           1.5          0.4      setosa\n",
       "20            5.1          3.8           1.5          0.3      setosa\n",
       "60            5.2          2.7           3.9          1.4  versicolor\n",
       "29            5.2          3.4           1.4          0.2      setosa\n",
       "28            5.2          3.5           1.5          0.2      setosa\n",
       "33            5.2          4.1           1.5          0.1      setosa\n",
       "49            5.3          3.7           1.5          0.2      setosa\n",
       "85            5.4          3.0           4.5          1.5  versicolor\n",
       "21            5.4          3.4           1.7          0.2      setosa\n",
       "11            5.4          3.7           1.5          0.2      setosa\n",
       "6             5.4          3.9           1.7          0.4      setosa\n",
       "54            5.5          2.3           4.0          1.3  versicolor\n",
       "81            5.5          2.4           3.8          1.1  versicolor\n",
       "90            5.5          2.5           4.0          1.3  versicolor\n",
       "91            5.5          2.6           4.4          1.2  versicolor\n",
       "37            5.5          3.5           1.3          0.2      setosa\n",
       "34            5.5          4.2           1.4          0.2      setosa\n",
       "70            5.6          2.5           3.9          1.1  versicolor\n",
       "95            5.6          2.7           4.2          1.3  versicolor\n",
       "122           5.6          2.8           4.9          2.0   virginica\n",
       "65            5.6          2.9           3.6          1.3  versicolor\n",
       "67            5.6          3.0           4.5          1.5  versicolor\n",
       "114           5.7          2.5           5.0          2.0   virginica\n",
       "80            5.7          2.6           3.5          1.0  versicolor\n",
       "56            5.7          2.8           4.5          1.3  versicolor\n",
       "97            5.7          2.9           4.2          1.3  versicolor\n",
       "96            5.7          3.0           4.2          1.2  versicolor\n",
       "19            5.7          3.8           1.7          0.3      setosa\n",
       "16            5.7          4.4           1.5          0.4      setosa\n",
       "93            5.8          2.6           4.0          1.2  versicolor\n",
       "68            5.8          2.7           4.1          1.0  versicolor\n",
       "115           5.8          2.8           5.1          2.4   virginica\n",
       "15            5.8          4.0           1.2          0.2      setosa\n",
       "62            5.9          3.0           4.2          1.5  versicolor\n",
       "71            5.9          3.2           4.8          1.8  versicolor\n",
       "63            6.0          2.2           4.0          1.0  versicolor\n",
       "84            6.0          2.7           5.1          1.6  versicolor\n",
       "79            6.0          2.9           4.5          1.5  versicolor\n",
       "139           6.0          3.0           4.8          1.8   virginica\n",
       "86            6.0          3.4           4.5          1.6  versicolor\n",
       "135           6.1          2.6           5.6          1.4   virginica\n",
       "72            6.1          2.8           4.0          1.3  versicolor\n",
       "64            6.1          2.9           4.7          1.4  versicolor\n",
       "92            6.1          3.0           4.6          1.4  versicolor\n",
       "69            6.2          2.2           4.5          1.5  versicolor\n",
       "127           6.2          2.8           4.8          1.8   virginica\n",
       "98            6.2          2.9           4.3          1.3  versicolor\n",
       "149           6.2          3.4           5.4          2.3   virginica\n",
       "88            6.3          2.3           4.4          1.3  versicolor\n",
       "73            6.3          2.5           4.9          1.5  versicolor\n",
       "124           6.3          2.7           4.9          1.8   virginica\n",
       "134           6.3          2.8           5.1          1.5   virginica\n",
       "104           6.3          2.9           5.6          1.8   virginica\n",
       "57            6.3          3.3           4.7          1.6  versicolor\n",
       "137           6.3          3.4           5.6          2.4   virginica\n",
       "112           6.4          2.7           5.3          1.9   virginica\n",
       "129           6.4          2.8           5.6          2.1   virginica\n",
       "75            6.4          2.9           4.3          1.3  versicolor\n",
       "138           6.4          3.1           5.5          1.8   virginica\n",
       "52            6.4          3.2           4.5          1.5  versicolor\n",
       "55            6.5          2.8           4.6          1.5  versicolor\n",
       "105           6.5          3.0           5.8          2.2   virginica\n",
       "111           6.5          3.2           5.1          2.0   virginica\n",
       "59            6.6          2.9           4.6          1.3  versicolor\n",
       "76            6.6          3.0           4.4          1.4  versicolor\n",
       "109           6.7          2.5           5.8          1.8   virginica\n",
       "78            6.7          3.0           5.0          1.7  versicolor\n",
       "66            6.7          3.1           4.4          1.4  versicolor\n",
       "125           6.7          3.3           5.7          2.1   virginica\n",
       "77            6.8          2.8           4.8          1.4  versicolor\n",
       "113           6.8          3.0           5.5          2.1   virginica\n",
       "144           6.8          3.2           5.9          2.3   virginica\n",
       "53            6.9          3.1           4.9          1.5  versicolor\n",
       "121           6.9          3.2           5.7          2.3   virginica\n",
       "51            7.0          3.2           4.7          1.4  versicolor\n",
       "103           7.1          3.0           5.9          2.1   virginica\n",
       "130           7.2          3.0           5.8          1.6   virginica\n",
       "126           7.2          3.2           6.0          1.8   virginica\n",
       "110           7.2          3.6           6.1          2.5   virginica\n",
       "108           7.3          2.9           6.3          1.8   virginica\n",
       "131           7.4          2.8           6.1          1.9   virginica\n",
       "106           7.6          3.0           6.6          2.1   virginica\n",
       "119           7.7          2.6           6.9          2.3   virginica\n",
       "123           7.7          2.8           6.7          2.0   virginica\n",
       "136           7.7          3.0           6.1          2.3   virginica\n",
       "118           7.7          3.8           6.7          2.2   virginica\n",
       "132           7.9          3.8           6.4          2.0   virginica"
      ]
     },
     "execution_count": 80,
     "metadata": {},
     "output_type": "execute_result"
    }
   ],
   "source": [
    "iris[~iris.duplicated(subset=['Sepal.Length','Sepal.Width'])].sort_values(by=['Sepal.Length','Sepal.Width'])"
   ]
  },
  {
   "cell_type": "markdown",
   "id": "5ab56836-7f54-47e6-935c-bcf06855c51f",
   "metadata": {},
   "source": [
    "# end here"
   ]
  }
 ],
 "metadata": {
  "kernelspec": {
   "display_name": "Python 3 (ipykernel)",
   "language": "python",
   "name": "python3"
  },
  "language_info": {
   "codemirror_mode": {
    "name": "ipython",
    "version": 3
   },
   "file_extension": ".py",
   "mimetype": "text/x-python",
   "name": "python",
   "nbconvert_exporter": "python",
   "pygments_lexer": "ipython3",
   "version": "3.11.8"
  }
 },
 "nbformat": 4,
 "nbformat_minor": 5
}
