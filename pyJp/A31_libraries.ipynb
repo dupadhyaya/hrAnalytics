{
 "cells": [
  {
   "cell_type": "markdown",
   "id": "4b90b4f2",
   "metadata": {},
   "source": [
    "# Libraries in Python"
   ]
  },
  {
   "cell_type": "markdown",
   "id": "c9bab9d9",
   "metadata": {},
   "source": [
    "# Install\n",
    "-  Install from pip\n",
    "    -  pip install package_name\n",
    "    \n",
    "\n",
    "# Uninstall from system\n",
    "-  pip uninstall package_name"
   ]
  },
  {
   "cell_type": "markdown",
   "id": "c551370e",
   "metadata": {},
   "source": [
    "# Import Library\n",
    "https://codeberryschool.com/blog/en/how-to-import-a-library-in-python/\n",
    "\n",
    "-  Intire Libary\n",
    "    -  import random\n",
    "-  Specific Module from Library\n",
    "    -  from random import randint\n",
    "-  Import Library Module as an alias\n",
    "    -  from matplotlib.pyplot as plt"
   ]
  },
  {
   "cell_type": "markdown",
   "id": "b3d52f1f-cfcf-486f-8895-f49c3d29310f",
   "metadata": {},
   "source": [
    "## Update Library\n",
    "-  pip install [package_name] --upgrade\n",
    "## Update to certain version\n",
    "-  pip install --upgrade <package>==<version>\n",
    "-  pip install --upgrade numpy==1.19.1\n",
    "## Update pip\n",
    "-  pip install --upgrade pip"
   ]
  },
  {
   "cell_type": "markdown",
   "id": "fa670706-9b24-4c26-81aa-c9555a5785f1",
   "metadata": {},
   "source": [
    "## Load Libraries\n",
    "-  import [module1]\n",
    "    -  module1.submodule1.function()\n",
    "-  import [module1] as m1\n",
    "    -  m1.function()\n",
    "-  from [module1] import [submodule1]\n",
    "    -  submodule1.function()\n",
    "## Examples\n",
    "-  from maths import add, subtract\n",
    "-  from geometry import perimeter_of_rectangle\n",
    "-  from maths import add as addition, subtract as subtraction\n",
    "\n",
    "## requirements variable\n",
    "-  requirements = [lib1, lib2]\n",
    "-  for lib in requirements:\n",
    "       x = ___import__(lib)\n",
    "       \n",
    "## requirements file\n",
    "-  pip install -r requiremetns.text (put libraries in one line in requirements file)"
   ]
  },
  {
   "cell_type": "code",
   "execution_count": 6,
   "id": "9f4b556a-85c8-4136-a608-095c506b6e35",
   "metadata": {
    "tags": []
   },
   "outputs": [],
   "source": []
  },
  {
   "cell_type": "code",
   "execution_count": 3,
   "id": "40fd2fa8-fd35-4b26-8543-02a7950cfe0f",
   "metadata": {
    "tags": []
   },
   "outputs": [
    {
     "name": "stdout",
     "output_type": "stream",
     "text": [
      "Defaulting to user installation because normal site-packages is not writeable\n",
      "Requirement already satisfied: importlib in c:\\users\\du\\appdata\\roaming\\python\\python311\\site-packages (1.0.4)\n"
     ]
    },
    {
     "name": "stderr",
     "output_type": "stream",
     "text": [
      "DEPRECATION: dexplot 0.1.4 has a non-standard dependency specifier scipy>=1.0matplotlib>=3.1. pip 23.3 will enforce this behaviour change. A possible replacement is to upgrade to a newer version of dexplot or contact the author to suggest that they release a version with a conforming dependency specifiers. Discussion can be found at https://github.com/pypa/pip/issues/12063\n"
     ]
    }
   ],
   "source": [
    "#!pip install importlib"
   ]
  },
  {
   "cell_type": "code",
   "execution_count": null,
   "id": "4e5bca78-455c-41c7-9ec5-dfa29de81218",
   "metadata": {},
   "outputs": [],
   "source": [
    "import importlib"
   ]
  },
  {
   "cell_type": "code",
   "execution_count": 8,
   "id": "13984037-4150-48ec-ab39-7c27b9496ad5",
   "metadata": {
    "tags": []
   },
   "outputs": [
    {
     "data": {
      "text/plain": [
       "{'sys': <module 'sys' (built-in)>,\n",
       " 'itertools': <module 'itertools' (built-in)>,\n",
       " 'collections': <module 'collections' from 'C:\\\\ProgramData\\\\Anaconda3\\\\Lib\\\\collections\\\\__init__.py'>,\n",
       " 'pickle': <module 'pickle' from 'C:\\\\ProgramData\\\\Anaconda3\\\\Lib\\\\pickle.py'>,\n",
       " 'pandas': <module 'pandas' from 'C:\\\\ProgramData\\\\Anaconda3\\\\Lib\\\\site-packages\\\\pandas\\\\__init__.py'>}"
      ]
     },
     "execution_count": 8,
     "metadata": {},
     "output_type": "execute_result"
    }
   ],
   "source": [
    "requirements = ['sys', 'itertools', 'collections', 'pickle', 'pandas']\n",
    "imported_libs = {lib: importlib.import_module(lib) for lib in requirements}\n",
    "imported_libs"
   ]
  },
  {
   "cell_type": "code",
   "execution_count": 9,
   "id": "786becc3-bced-4511-832a-429faf76b285",
   "metadata": {
    "tags": []
   },
   "outputs": [],
   "source": [
    "for lib in requirements:\n",
    "    x = __import__(lib)"
   ]
  },
  {
   "cell_type": "code",
   "execution_count": 10,
   "id": "1c456d3a-69b7-49dd-a2ff-231738a7d14f",
   "metadata": {
    "tags": []
   },
   "outputs": [
    {
     "data": {
      "text/plain": [
       "Timestamp('2023-10-06 00:00:00')"
      ]
     },
     "execution_count": 10,
     "metadata": {},
     "output_type": "execute_result"
    }
   ],
   "source": [
    "x.pandas.to_datetime('2023-10-06')"
   ]
  },
  {
   "cell_type": "code",
   "execution_count": 12,
   "id": "14701ea7-10aa-4537-8bf0-f389d43c6868",
   "metadata": {
    "tags": []
   },
   "outputs": [
    {
     "data": {
      "text/plain": [
       "<module 'sys' (built-in)>"
      ]
     },
     "execution_count": 12,
     "metadata": {},
     "output_type": "execute_result"
    }
   ],
   "source": []
  },
  {
   "cell_type": "markdown",
   "id": "adf6c59d-b9d4-46e7-bbfb-52ad4c95eaef",
   "metadata": {},
   "source": [
    "## suggest loading of libraries\n",
    "-  Standard -> Third Party -> Local"
   ]
  },
  {
   "cell_type": "code",
   "execution_count": 15,
   "id": "2e6412aa-6058-40e5-a334-60cdb9f3ca61",
   "metadata": {
    "tags": []
   },
   "outputs": [],
   "source": [
    "from math import e, exp\n",
    "from math import (e, exp)\n",
    "from math import *\n",
    "import math as m\n",
    "from math import e as me"
   ]
  },
  {
   "cell_type": "code",
   "execution_count": 18,
   "id": "dbc93a97-4921-416a-b7f7-79c173978d9f",
   "metadata": {
    "tags": []
   },
   "outputs": [
    {
     "name": "stdout",
     "output_type": "stream",
     "text": [
      "<module 'pandas' from 'C:\\\\ProgramData\\\\Anaconda3\\\\Lib\\\\site-packages\\\\pandas\\\\__init__.py'>\n",
      "<function to_datetime at 0x00000199B6ACD6C0>\n"
     ]
    }
   ],
   "source": [
    "import pandas\n",
    "print(pandas)  #locations\n",
    "print(pandas.to_datetime)"
   ]
  },
  {
   "cell_type": "markdown",
   "id": "3b51c318-1673-4a8f-8069-91ee1653758f",
   "metadata": {},
   "source": [
    "## Blank\n",
    "-  "
   ]
  },
  {
   "cell_type": "markdown",
   "id": "9c728544-53bf-4325-b261-29a6c8191293",
   "metadata": {},
   "source": [
    "## Links\n",
    "-  https://note.nkmk.me/en/python-import-usage/"
   ]
  }
 ],
 "metadata": {
  "kernelspec": {
   "display_name": "Python 3 (ipykernel)",
   "language": "python",
   "name": "python3"
  },
  "language_info": {
   "codemirror_mode": {
    "name": "ipython",
    "version": 3
   },
   "file_extension": ".py",
   "mimetype": "text/x-python",
   "name": "python",
   "nbconvert_exporter": "python",
   "pygments_lexer": "ipython3",
   "version": "3.11.5"
  }
 },
 "nbformat": 4,
 "nbformat_minor": 5
}
