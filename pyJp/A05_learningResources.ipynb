{
 "cells": [
  {
   "cell_type": "markdown",
   "id": "7e3c7fc0-8bd0-49a8-a76d-825f8b86e9a1",
   "metadata": {},
   "source": [
    "## A05 - Learning through online documents and videos"
   ]
  },
  {
   "cell_type": "markdown",
   "id": "48aef3f3-aef6-44b7-b15f-fcc1f2054fb2",
   "metadata": {
    "tags": []
   },
   "source": [
    "## My Resources\n",
    "-  Git Hub\n",
    "    -   https://github.com/dupadhyaya/hrAnalytics\n",
    "-  Slides\n",
    "    -  https://docs.google.com/presentation/d/e/2PACX-1vRaGoWzHoRN1UHaSS0Bzk2YR5FammjqRoA0LeHI7tbuyP6g0einIBk8c_Poem1gh6hjyxRsRjjDJbe9/pub?start=false&loop=false&delayms=3000\n",
    "    "
   ]
  },
  {
   "cell_type": "markdown",
   "id": "be27f744-ad65-458d-9f0c-e828a23e6b81",
   "metadata": {},
   "source": [
    "## Data Structures\n",
    "-  https://docs.python.org/3/tutorial/datastructures.html\n",
    "-  https://www.edureka.co/blog/data-structures-in-python/\n",
    "-  https://www.educative.io/blog/8-python-data-structures\n",
    "-  Video\n",
    "    -  https://www.youtube.com/watch?v=_t2GVaQasRY&list=PLeo1K3hjS3uu_n_a__MI_KktGTLYopZ12\n",
    "    -  https://www.youtube.com/watch?v=m9n2f9lhtrw\n",
    "    -  https://www.youtube.com/watch?v=fAw8pM_dQP4\n",
    "    -  https://www.youtube.com/watch?v=f9Aje_cN_CY\n",
    "    -  https://www.youtube.com/watch?v=r51TRDECIw4"
   ]
  },
  {
   "cell_type": "markdown",
   "id": "b9434ac6-017e-4db2-97e2-c9e5dd2bb161",
   "metadata": {},
   "source": [
    "## Numpy  - Numerical Python\n",
    "-  https://numpy.org/doc/stable/user/whatisnumpy.html\n",
    "-  https://numpy.org/\n",
    "-  https://www.w3schools.com/python/numpy/numpy_intro.asp\n",
    "-  Video\n",
    "    -  https://www.youtube.com/watch?v=8JfDAm9y_7s\n",
    "    -  https://www.youtube.com/watch?v=Rbh1rieb3zc\n",
    "    -  https://www.youtube.com/watch?v=lLRBYKwP8GQ\n",
    "    -  "
   ]
  },
  {
   "cell_type": "markdown",
   "id": "d5559550-ff47-4bd2-bf1a-27d795f1c18b",
   "metadata": {
    "tags": []
   },
   "source": [
    "## Pandas - Data Format\n",
    "-  https://pandas.pydata.org/\n",
    "-  https://www.w3schools.com/python/pandas/default.asp\n",
    "-  https://www.datacamp.com/tutorial/pandas\n",
    "-  Video\n",
    "    -  https://www.youtube.com/watch?v=dcqPhpY7tWk\n",
    "    -  https://www.youtube.com/watch?v=KHoEbRH46Zk\n",
    "    -  https://www.youtube.com/watch?v=u4_c2LDi4b8\n",
    "    -  https://www.youtube.com/watch?v=2AFGPdNn4FM\n",
    "    -  https://www.youtube.com/watch?v=xvpNA7bC8cs\n",
    "    -  https://www.youtube.com/watch?v=SAFmrTnEHLg"
   ]
  },
  {
   "cell_type": "markdown",
   "id": "995a5c7a-3629-4421-bf0c-05173d4bf27e",
   "metadata": {},
   "source": [
    "## Exploratory Data Analysis\n",
    "-  Video\n",
    "    -  https://www.youtube.com/watch?v=xi0vhXFPegw&t=124s\n",
    "    -  https://www.youtube.com/watch?v=R67XuYc9NQ4\n",
    "    -  https://www.youtube.com/watch?v=_Eb0utIRdkw&t=1324s"
   ]
  },
  {
   "cell_type": "code",
   "execution_count": null,
   "id": "e8fc419a-deb4-41f1-b1c6-e67d7d813471",
   "metadata": {},
   "outputs": [],
   "source": []
  }
 ],
 "metadata": {
  "kernelspec": {
   "display_name": "Python 3 (ipykernel)",
   "language": "python",
   "name": "python3"
  },
  "language_info": {
   "codemirror_mode": {
    "name": "ipython",
    "version": 3
   },
   "file_extension": ".py",
   "mimetype": "text/x-python",
   "name": "python",
   "nbconvert_exporter": "python",
   "pygments_lexer": "ipython3",
   "version": "3.11.5"
  }
 },
 "nbformat": 4,
 "nbformat_minor": 5
}
