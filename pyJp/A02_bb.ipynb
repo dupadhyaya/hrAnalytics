{
 "cells": [
  {
   "cell_type": "markdown",
   "id": "e20933fd-59cd-4b1f-9dce-bb29b1c622aa",
   "metadata": {},
   "source": [
    "# Notice to Participants"
   ]
  },
  {
   "cell_type": "markdown",
   "id": "9bb6b75f-97fe-4736-a1b6-c08228c9fee6",
   "metadata": {},
   "source": [
    "## 14 Feb\n",
    "-  Download Anaconda\n",
    "-  Install Anaconda as per instructions provided"
   ]
  },
  {
   "cell_type": "code",
   "execution_count": null,
   "id": "6c670a8e",
   "metadata": {},
   "outputs": [],
   "source": []
  }
 ],
 "metadata": {
  "kernelspec": {
   "display_name": "Python 3 (ipykernel)",
   "language": "python",
   "name": "python3"
  },
  "language_info": {
   "codemirror_mode": {
    "name": "ipython",
    "version": 3
   },
   "file_extension": ".py",
   "mimetype": "text/x-python",
   "name": "python",
   "nbconvert_exporter": "python",
   "pygments_lexer": "ipython3",
   "version": "3.11.5"
  }
 },
 "nbformat": 4,
 "nbformat_minor": 5
}
