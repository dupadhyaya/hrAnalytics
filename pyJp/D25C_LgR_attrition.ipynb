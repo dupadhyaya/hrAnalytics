{
 "cells": [
  {
   "cell_type": "markdown",
   "id": "a5449cc3",
   "metadata": {},
   "source": [
    "## Logistic Regression\n",
    "-  https://www.andrewvillazon.com/logistic-regression-python-statsmodels/\n",
    "-  https://www.javatpoint.com/logistic-regression-in-machine-learning\n",
    "-  Predict a category (0/1, Yes/No) on the basis of IVs (which can be continous or categories)\n",
    "-  https://scikit-learn.org/stable/modules/generated/sklearn.linear_model.LogisticRegression.html\n",
    "-  Predict Y (Dependent Variable) on the basis of Xs (Independent Variables)\n",
    "-  Y : Category Value (0 or 1)\n",
    "-  Xs : can be continous or discrete eg. gender, age, salary, experience in yrs etc\n",
    "-  In this mtcars data set : Y (am/ tx) predict on the basis of Xs (wt, hp, mpg)\n",
    "-  Steps\n",
    "    -  from sklearn.linear_model import LogisticRegression\n",
    "    -  model = LogisticRegression().fit(X,y)\n",
    "    -  r_sq = model.score(X, y)\n",
    "    -  y_pred = model.predict(X)\n",
    "    -  Y_pred(new) = model.predict(X new)\n",
    "-  Two Libraries - sklearn and statsmodels\n",
    "    -  logreg1 - sklearn\n",
    "    -  logreg2 - statsmodel\n",
    "-  Case Study\n",
    "    -  https://www.kaggle.com/code/vyduong11/eda-logistic-regression-to-predict-attrition\n",
    "    -  https://towardsdatascience.com/building-an-employee-churn-model-in-python-to-develop-a-strategic-retention-plan-57d5bd882c2d\n",
    "    -  https://www.linkedin.com/pulse/predicting-employee-attrition-using-two-methods-tree-what-simon/\n",
    "    -  Predict whether employee will leave or not (Attrition)"
   ]
  },
  {
   "cell_type": "code",
   "execution_count": 1,
   "id": "025956ff",
   "metadata": {
    "tags": []
   },
   "outputs": [],
   "source": [
    "#libraries\n",
    "import pandas as pd\n",
    "import numpy as np\n",
    "import matplotlib.pyplot as plt\n",
    "import seaborn as sns\n",
    "from pydataset import data\n",
    "import os"
   ]
  },
  {
   "cell_type": "code",
   "execution_count": 2,
   "id": "4cd250d6-9717-4b26-a28d-6e07cf25821c",
   "metadata": {
    "tags": []
   },
   "outputs": [],
   "source": [
    "#options\n",
    "# https://pandas.pydata.org/docs/user_guide/options.html\n",
    "pd.set_option('display.max_columns', None)\n",
    "pd.set_option('max_colwidth', None)\n",
    "pd.set_option(\"expand_frame_repr\", True)\n",
    "pd.set_option(\"max_info_columns\", 11)\n",
    "pd.set_option(\"display.precision\", 3)\n",
    "pd.set_option('display.width', 1000)  #wrap with full display\n",
    "import warnings\n",
    "warnings.filterwarnings('ignore')"
   ]
  },
  {
   "cell_type": "code",
   "execution_count": 3,
   "id": "afab3e7d-ba8e-4c85-9e2f-bb9e73c6b662",
   "metadata": {
    "tags": []
   },
   "outputs": [
    {
     "data": {
      "text/plain": [
       "['amitMIS.xlsx',\n",
       " 'empData1.csv',\n",
       " 'hrAttrition.csv',\n",
       " 'hris.xlsx',\n",
       " 'hrTurnover.csv',\n",
       " 'salaryDataset.csv']"
      ]
     },
     "execution_count": 3,
     "metadata": {},
     "output_type": "execute_result"
    }
   ],
   "source": [
    "os.listdir('../data/trg/')\n",
    "#filePath = 'https://raw.githubusercontent.com/dupadhyaya/hrAnalytics/main/data/misc/HR_employeeAttrition.csv'"
   ]
  },
  {
   "cell_type": "code",
   "execution_count": 4,
   "id": "7c3eb1f5",
   "metadata": {
    "tags": []
   },
   "outputs": [
    {
     "name": "stdout",
     "output_type": "stream",
     "text": [
      "(1470, 35) \n",
      " ['Age', 'Attrition', 'BusinessTravel', 'DailyRate', 'Department', 'DistanceFromHome', 'Education', 'EducationField', 'EmployeeCount', 'EmployeeNumber', 'EnvironmentSatisfaction', 'Gender', 'HourlyRate', 'JobInvolvement', 'JobLevel', 'JobRole', 'JobSatisfaction', 'MaritalStatus', 'MonthlyIncome', 'MonthlyRate', 'NumCompaniesWorked', 'Over18', 'OverTime', 'PercentSalaryHike', 'PerformanceRating', 'RelationshipSatisfaction', 'StandardHours', 'StockOptionLevel', 'TotalWorkingYears', 'TrainingTimesLastYear', 'WorkLifeBalance', 'YearsAtCompany', 'YearsInCurrentRole', 'YearsSinceLastPromotion', 'YearsWithCurrManager'] \n",
      "\n",
      "Age                          int64\n",
      "Attrition                   object\n",
      "BusinessTravel              object\n",
      "DailyRate                    int64\n",
      "Department                  object\n",
      "DistanceFromHome             int64\n",
      "Education                    int64\n",
      "EducationField              object\n",
      "EmployeeCount                int64\n",
      "EmployeeNumber               int64\n",
      "EnvironmentSatisfaction      int64\n",
      "Gender                      object\n",
      "HourlyRate                   int64\n",
      "JobInvolvement               int64\n",
      "JobLevel                     int64\n",
      "JobRole                     object\n",
      "JobSatisfaction              int64\n",
      "MaritalStatus               object\n",
      "MonthlyIncome                int64\n",
      "MonthlyRate                  int64\n",
      "NumCompaniesWorked           int64\n",
      "Over18                      object\n",
      "OverTime                    object\n",
      "PercentSalaryHike            int64\n",
      "PerformanceRating            int64\n",
      "RelationshipSatisfaction     int64\n",
      "StandardHours                int64\n",
      "StockOptionLevel             int64\n",
      "TotalWorkingYears            int64\n",
      "TrainingTimesLastYear        int64\n",
      "WorkLifeBalance              int64\n",
      "YearsAtCompany               int64\n",
      "YearsInCurrentRole           int64\n",
      "YearsSinceLastPromotion      int64\n",
      "YearsWithCurrManager         int64\n",
      "dtype: object \n",
      "    Age Attrition     BusinessTravel\n",
      "0   41       Yes      Travel_Rarely\n",
      "1   49        No  Travel_Frequently\n",
      "2   37       Yes      Travel_Rarely\n",
      "3   33        No  Travel_Frequently\n",
      "4   27        No      Travel_Rarely\n"
     ]
    }
   ],
   "source": [
    "#data\n",
    "df = pd.read_csv('../data/trg/hrAttrition.csv')\n",
    "print(df.shape, '\\n', df.columns.tolist(),'\\n')\n",
    "print(df.dtypes, '\\n', df.iloc[:,[0,1,2]].head())\n",
    "#147- employees with 35 columns"
   ]
  },
  {
   "cell_type": "code",
   "execution_count": 5,
   "id": "0eb1ce76-b4c2-4902-b406-440eb63b3e2e",
   "metadata": {
    "tags": []
   },
   "outputs": [
    {
     "data": {
      "text/html": [
       "<div>\n",
       "<style scoped>\n",
       "    .dataframe tbody tr th:only-of-type {\n",
       "        vertical-align: middle;\n",
       "    }\n",
       "\n",
       "    .dataframe tbody tr th {\n",
       "        vertical-align: top;\n",
       "    }\n",
       "\n",
       "    .dataframe thead th {\n",
       "        text-align: right;\n",
       "    }\n",
       "</style>\n",
       "<table border=\"1\" class=\"dataframe\">\n",
       "  <thead>\n",
       "    <tr style=\"text-align: right;\">\n",
       "      <th></th>\n",
       "      <th>Age</th>\n",
       "      <th>DailyRate</th>\n",
       "      <th>DistanceFromHome</th>\n",
       "      <th>Education</th>\n",
       "      <th>EmployeeCount</th>\n",
       "      <th>EmployeeNumber</th>\n",
       "      <th>EnvironmentSatisfaction</th>\n",
       "      <th>HourlyRate</th>\n",
       "      <th>JobInvolvement</th>\n",
       "      <th>JobLevel</th>\n",
       "      <th>JobSatisfaction</th>\n",
       "      <th>MonthlyIncome</th>\n",
       "      <th>MonthlyRate</th>\n",
       "      <th>NumCompaniesWorked</th>\n",
       "      <th>PercentSalaryHike</th>\n",
       "      <th>PerformanceRating</th>\n",
       "      <th>RelationshipSatisfaction</th>\n",
       "      <th>StandardHours</th>\n",
       "      <th>StockOptionLevel</th>\n",
       "      <th>TotalWorkingYears</th>\n",
       "      <th>TrainingTimesLastYear</th>\n",
       "      <th>WorkLifeBalance</th>\n",
       "      <th>YearsAtCompany</th>\n",
       "      <th>YearsInCurrentRole</th>\n",
       "      <th>YearsSinceLastPromotion</th>\n",
       "      <th>YearsWithCurrManager</th>\n",
       "    </tr>\n",
       "  </thead>\n",
       "  <tbody>\n",
       "    <tr>\n",
       "      <th>count</th>\n",
       "      <td>1470.000</td>\n",
       "      <td>1470.000</td>\n",
       "      <td>1470.000</td>\n",
       "      <td>1470.000</td>\n",
       "      <td>1470.0</td>\n",
       "      <td>1470.000</td>\n",
       "      <td>1470.000</td>\n",
       "      <td>1470.000</td>\n",
       "      <td>1470.000</td>\n",
       "      <td>1470.000</td>\n",
       "      <td>1470.000</td>\n",
       "      <td>1470.000</td>\n",
       "      <td>1470.000</td>\n",
       "      <td>1470.000</td>\n",
       "      <td>1470.00</td>\n",
       "      <td>1470.000</td>\n",
       "      <td>1470.000</td>\n",
       "      <td>1470.0</td>\n",
       "      <td>1470.000</td>\n",
       "      <td>1470.000</td>\n",
       "      <td>1470.000</td>\n",
       "      <td>1470.000</td>\n",
       "      <td>1470.000</td>\n",
       "      <td>1470.000</td>\n",
       "      <td>1470.000</td>\n",
       "      <td>1470.000</td>\n",
       "    </tr>\n",
       "    <tr>\n",
       "      <th>mean</th>\n",
       "      <td>36.924</td>\n",
       "      <td>802.486</td>\n",
       "      <td>9.193</td>\n",
       "      <td>2.913</td>\n",
       "      <td>1.0</td>\n",
       "      <td>1024.865</td>\n",
       "      <td>2.722</td>\n",
       "      <td>65.891</td>\n",
       "      <td>2.730</td>\n",
       "      <td>2.064</td>\n",
       "      <td>2.729</td>\n",
       "      <td>6502.931</td>\n",
       "      <td>14313.103</td>\n",
       "      <td>2.693</td>\n",
       "      <td>15.21</td>\n",
       "      <td>3.154</td>\n",
       "      <td>2.712</td>\n",
       "      <td>80.0</td>\n",
       "      <td>0.794</td>\n",
       "      <td>11.280</td>\n",
       "      <td>2.799</td>\n",
       "      <td>2.761</td>\n",
       "      <td>7.008</td>\n",
       "      <td>4.229</td>\n",
       "      <td>2.188</td>\n",
       "      <td>4.123</td>\n",
       "    </tr>\n",
       "    <tr>\n",
       "      <th>std</th>\n",
       "      <td>9.135</td>\n",
       "      <td>403.509</td>\n",
       "      <td>8.107</td>\n",
       "      <td>1.024</td>\n",
       "      <td>0.0</td>\n",
       "      <td>602.024</td>\n",
       "      <td>1.093</td>\n",
       "      <td>20.329</td>\n",
       "      <td>0.712</td>\n",
       "      <td>1.107</td>\n",
       "      <td>1.103</td>\n",
       "      <td>4707.957</td>\n",
       "      <td>7117.786</td>\n",
       "      <td>2.498</td>\n",
       "      <td>3.66</td>\n",
       "      <td>0.361</td>\n",
       "      <td>1.081</td>\n",
       "      <td>0.0</td>\n",
       "      <td>0.852</td>\n",
       "      <td>7.781</td>\n",
       "      <td>1.289</td>\n",
       "      <td>0.706</td>\n",
       "      <td>6.127</td>\n",
       "      <td>3.623</td>\n",
       "      <td>3.222</td>\n",
       "      <td>3.568</td>\n",
       "    </tr>\n",
       "    <tr>\n",
       "      <th>min</th>\n",
       "      <td>18.000</td>\n",
       "      <td>102.000</td>\n",
       "      <td>1.000</td>\n",
       "      <td>1.000</td>\n",
       "      <td>1.0</td>\n",
       "      <td>1.000</td>\n",
       "      <td>1.000</td>\n",
       "      <td>30.000</td>\n",
       "      <td>1.000</td>\n",
       "      <td>1.000</td>\n",
       "      <td>1.000</td>\n",
       "      <td>1009.000</td>\n",
       "      <td>2094.000</td>\n",
       "      <td>0.000</td>\n",
       "      <td>11.00</td>\n",
       "      <td>3.000</td>\n",
       "      <td>1.000</td>\n",
       "      <td>80.0</td>\n",
       "      <td>0.000</td>\n",
       "      <td>0.000</td>\n",
       "      <td>0.000</td>\n",
       "      <td>1.000</td>\n",
       "      <td>0.000</td>\n",
       "      <td>0.000</td>\n",
       "      <td>0.000</td>\n",
       "      <td>0.000</td>\n",
       "    </tr>\n",
       "    <tr>\n",
       "      <th>25%</th>\n",
       "      <td>30.000</td>\n",
       "      <td>465.000</td>\n",
       "      <td>2.000</td>\n",
       "      <td>2.000</td>\n",
       "      <td>1.0</td>\n",
       "      <td>491.250</td>\n",
       "      <td>2.000</td>\n",
       "      <td>48.000</td>\n",
       "      <td>2.000</td>\n",
       "      <td>1.000</td>\n",
       "      <td>2.000</td>\n",
       "      <td>2911.000</td>\n",
       "      <td>8047.000</td>\n",
       "      <td>1.000</td>\n",
       "      <td>12.00</td>\n",
       "      <td>3.000</td>\n",
       "      <td>2.000</td>\n",
       "      <td>80.0</td>\n",
       "      <td>0.000</td>\n",
       "      <td>6.000</td>\n",
       "      <td>2.000</td>\n",
       "      <td>2.000</td>\n",
       "      <td>3.000</td>\n",
       "      <td>2.000</td>\n",
       "      <td>0.000</td>\n",
       "      <td>2.000</td>\n",
       "    </tr>\n",
       "    <tr>\n",
       "      <th>50%</th>\n",
       "      <td>36.000</td>\n",
       "      <td>802.000</td>\n",
       "      <td>7.000</td>\n",
       "      <td>3.000</td>\n",
       "      <td>1.0</td>\n",
       "      <td>1020.500</td>\n",
       "      <td>3.000</td>\n",
       "      <td>66.000</td>\n",
       "      <td>3.000</td>\n",
       "      <td>2.000</td>\n",
       "      <td>3.000</td>\n",
       "      <td>4919.000</td>\n",
       "      <td>14235.500</td>\n",
       "      <td>2.000</td>\n",
       "      <td>14.00</td>\n",
       "      <td>3.000</td>\n",
       "      <td>3.000</td>\n",
       "      <td>80.0</td>\n",
       "      <td>1.000</td>\n",
       "      <td>10.000</td>\n",
       "      <td>3.000</td>\n",
       "      <td>3.000</td>\n",
       "      <td>5.000</td>\n",
       "      <td>3.000</td>\n",
       "      <td>1.000</td>\n",
       "      <td>3.000</td>\n",
       "    </tr>\n",
       "    <tr>\n",
       "      <th>75%</th>\n",
       "      <td>43.000</td>\n",
       "      <td>1157.000</td>\n",
       "      <td>14.000</td>\n",
       "      <td>4.000</td>\n",
       "      <td>1.0</td>\n",
       "      <td>1555.750</td>\n",
       "      <td>4.000</td>\n",
       "      <td>83.750</td>\n",
       "      <td>3.000</td>\n",
       "      <td>3.000</td>\n",
       "      <td>4.000</td>\n",
       "      <td>8379.000</td>\n",
       "      <td>20461.500</td>\n",
       "      <td>4.000</td>\n",
       "      <td>18.00</td>\n",
       "      <td>3.000</td>\n",
       "      <td>4.000</td>\n",
       "      <td>80.0</td>\n",
       "      <td>1.000</td>\n",
       "      <td>15.000</td>\n",
       "      <td>3.000</td>\n",
       "      <td>3.000</td>\n",
       "      <td>9.000</td>\n",
       "      <td>7.000</td>\n",
       "      <td>3.000</td>\n",
       "      <td>7.000</td>\n",
       "    </tr>\n",
       "    <tr>\n",
       "      <th>max</th>\n",
       "      <td>60.000</td>\n",
       "      <td>1499.000</td>\n",
       "      <td>29.000</td>\n",
       "      <td>5.000</td>\n",
       "      <td>1.0</td>\n",
       "      <td>2068.000</td>\n",
       "      <td>4.000</td>\n",
       "      <td>100.000</td>\n",
       "      <td>4.000</td>\n",
       "      <td>5.000</td>\n",
       "      <td>4.000</td>\n",
       "      <td>19999.000</td>\n",
       "      <td>26999.000</td>\n",
       "      <td>9.000</td>\n",
       "      <td>25.00</td>\n",
       "      <td>4.000</td>\n",
       "      <td>4.000</td>\n",
       "      <td>80.0</td>\n",
       "      <td>3.000</td>\n",
       "      <td>40.000</td>\n",
       "      <td>6.000</td>\n",
       "      <td>4.000</td>\n",
       "      <td>40.000</td>\n",
       "      <td>18.000</td>\n",
       "      <td>15.000</td>\n",
       "      <td>17.000</td>\n",
       "    </tr>\n",
       "  </tbody>\n",
       "</table>\n",
       "</div>"
      ],
      "text/plain": [
       "            Age  DailyRate  DistanceFromHome  Education  EmployeeCount  EmployeeNumber  EnvironmentSatisfaction  HourlyRate  JobInvolvement  JobLevel  JobSatisfaction  MonthlyIncome  MonthlyRate  NumCompaniesWorked  PercentSalaryHike  PerformanceRating  RelationshipSatisfaction  StandardHours  StockOptionLevel  TotalWorkingYears  TrainingTimesLastYear  WorkLifeBalance  YearsAtCompany  YearsInCurrentRole  YearsSinceLastPromotion  YearsWithCurrManager\n",
       "count  1470.000   1470.000          1470.000   1470.000         1470.0        1470.000                 1470.000    1470.000        1470.000  1470.000         1470.000       1470.000     1470.000            1470.000            1470.00           1470.000                  1470.000         1470.0          1470.000           1470.000               1470.000         1470.000        1470.000            1470.000                 1470.000              1470.000\n",
       "mean     36.924    802.486             9.193      2.913            1.0        1024.865                    2.722      65.891           2.730     2.064            2.729       6502.931    14313.103               2.693              15.21              3.154                     2.712           80.0             0.794             11.280                  2.799            2.761           7.008               4.229                    2.188                 4.123\n",
       "std       9.135    403.509             8.107      1.024            0.0         602.024                    1.093      20.329           0.712     1.107            1.103       4707.957     7117.786               2.498               3.66              0.361                     1.081            0.0             0.852              7.781                  1.289            0.706           6.127               3.623                    3.222                 3.568\n",
       "min      18.000    102.000             1.000      1.000            1.0           1.000                    1.000      30.000           1.000     1.000            1.000       1009.000     2094.000               0.000              11.00              3.000                     1.000           80.0             0.000              0.000                  0.000            1.000           0.000               0.000                    0.000                 0.000\n",
       "25%      30.000    465.000             2.000      2.000            1.0         491.250                    2.000      48.000           2.000     1.000            2.000       2911.000     8047.000               1.000              12.00              3.000                     2.000           80.0             0.000              6.000                  2.000            2.000           3.000               2.000                    0.000                 2.000\n",
       "50%      36.000    802.000             7.000      3.000            1.0        1020.500                    3.000      66.000           3.000     2.000            3.000       4919.000    14235.500               2.000              14.00              3.000                     3.000           80.0             1.000             10.000                  3.000            3.000           5.000               3.000                    1.000                 3.000\n",
       "75%      43.000   1157.000            14.000      4.000            1.0        1555.750                    4.000      83.750           3.000     3.000            4.000       8379.000    20461.500               4.000              18.00              3.000                     4.000           80.0             1.000             15.000                  3.000            3.000           9.000               7.000                    3.000                 7.000\n",
       "max      60.000   1499.000            29.000      5.000            1.0        2068.000                    4.000     100.000           4.000     5.000            4.000      19999.000    26999.000               9.000              25.00              4.000                     4.000           80.0             3.000             40.000                  6.000            4.000          40.000              18.000                   15.000                17.000"
      ]
     },
     "execution_count": 5,
     "metadata": {},
     "output_type": "execute_result"
    }
   ],
   "source": [
    "df.describe()"
   ]
  },
  {
   "cell_type": "code",
   "execution_count": 6,
   "id": "52b5f9d0-5e1c-480e-950a-e0b7aba08f74",
   "metadata": {
    "tags": []
   },
   "outputs": [
    {
     "data": {
      "text/plain": [
       "Index(['Age', 'Attrition', 'BusinessTravel', 'DailyRate', 'Department', 'DistanceFromHome', 'Education', 'EducationField', 'EmployeeCount', 'EmployeeNumber', 'EnvironmentSatisfaction', 'Gender', 'HourlyRate', 'JobInvolvement', 'JobLevel', 'JobRole', 'JobSatisfaction', 'MaritalStatus', 'MonthlyIncome', 'MonthlyRate', 'NumCompaniesWorked', 'Over18', 'OverTime', 'PercentSalaryHike', 'PerformanceRating', 'RelationshipSatisfaction', 'StandardHours', 'StockOptionLevel', 'TotalWorkingYears', 'TrainingTimesLastYear', 'WorkLifeBalance', 'YearsAtCompany', 'YearsInCurrentRole', 'YearsSinceLastPromotion', 'YearsWithCurrManager'], dtype='object')"
      ]
     },
     "execution_count": 6,
     "metadata": {},
     "output_type": "execute_result"
    }
   ],
   "source": [
    "df.columns"
   ]
  },
  {
   "cell_type": "code",
   "execution_count": 8,
   "id": "547b0566-8027-4f76-a3dd-03869873771e",
   "metadata": {
    "tags": []
   },
   "outputs": [
    {
     "data": {
      "text/html": [
       "<div>\n",
       "<style scoped>\n",
       "    .dataframe tbody tr th:only-of-type {\n",
       "        vertical-align: middle;\n",
       "    }\n",
       "\n",
       "    .dataframe tbody tr th {\n",
       "        vertical-align: top;\n",
       "    }\n",
       "\n",
       "    .dataframe thead th {\n",
       "        text-align: right;\n",
       "    }\n",
       "</style>\n",
       "<table border=\"1\" class=\"dataframe\">\n",
       "  <thead>\n",
       "    <tr style=\"text-align: right;\">\n",
       "      <th></th>\n",
       "      <th>Attrition</th>\n",
       "      <th>Age</th>\n",
       "      <th>DistanceFromHome</th>\n",
       "      <th>Education</th>\n",
       "      <th>YearsAtCompany</th>\n",
       "      <th>JobSatisfaction</th>\n",
       "    </tr>\n",
       "  </thead>\n",
       "  <tbody>\n",
       "    <tr>\n",
       "      <th>0</th>\n",
       "      <td>Yes</td>\n",
       "      <td>41</td>\n",
       "      <td>1</td>\n",
       "      <td>2</td>\n",
       "      <td>6</td>\n",
       "      <td>4</td>\n",
       "    </tr>\n",
       "    <tr>\n",
       "      <th>1</th>\n",
       "      <td>No</td>\n",
       "      <td>49</td>\n",
       "      <td>8</td>\n",
       "      <td>1</td>\n",
       "      <td>10</td>\n",
       "      <td>2</td>\n",
       "    </tr>\n",
       "    <tr>\n",
       "      <th>2</th>\n",
       "      <td>Yes</td>\n",
       "      <td>37</td>\n",
       "      <td>2</td>\n",
       "      <td>2</td>\n",
       "      <td>0</td>\n",
       "      <td>3</td>\n",
       "    </tr>\n",
       "    <tr>\n",
       "      <th>3</th>\n",
       "      <td>No</td>\n",
       "      <td>33</td>\n",
       "      <td>3</td>\n",
       "      <td>4</td>\n",
       "      <td>8</td>\n",
       "      <td>3</td>\n",
       "    </tr>\n",
       "    <tr>\n",
       "      <th>4</th>\n",
       "      <td>No</td>\n",
       "      <td>27</td>\n",
       "      <td>2</td>\n",
       "      <td>1</td>\n",
       "      <td>2</td>\n",
       "      <td>2</td>\n",
       "    </tr>\n",
       "  </tbody>\n",
       "</table>\n",
       "</div>"
      ],
      "text/plain": [
       "  Attrition  Age  DistanceFromHome  Education  YearsAtCompany  JobSatisfaction\n",
       "0       Yes   41                 1          2               6                4\n",
       "1        No   49                 8          1              10                2\n",
       "2       Yes   37                 2          2               0                3\n",
       "3        No   33                 3          4               8                3\n",
       "4        No   27                 2          1               2                2"
      ]
     },
     "execution_count": 8,
     "metadata": {},
     "output_type": "execute_result"
    }
   ],
   "source": [
    "selCols = ['Attrition','Age','DistanceFromHome', 'Education','YearsAtCompany', 'JobSatisfaction']\n",
    "df1=df[selCols].copy()\n",
    "df1.head()"
   ]
  },
  {
   "cell_type": "code",
   "execution_count": 9,
   "id": "342ce21a-ed2a-46d9-b7ae-2e2b0f0f411f",
   "metadata": {},
   "outputs": [
    {
     "data": {
      "text/plain": [
       "(1470, 6)"
      ]
     },
     "execution_count": 9,
     "metadata": {},
     "output_type": "execute_result"
    }
   ],
   "source": [
    "df1.shape"
   ]
  },
  {
   "cell_type": "code",
   "execution_count": 10,
   "id": "80535130-94c3-4939-ba1f-e71b8abe5e49",
   "metadata": {
    "tags": []
   },
   "outputs": [
    {
     "data": {
      "text/plain": [
       "(array([ 57., 105., 224., 265., 255., 217., 131.,  92.,  77.,  47.]),\n",
       " array([18. , 22.2, 26.4, 30.6, 34.8, 39. , 43.2, 47.4, 51.6, 55.8, 60. ]),\n",
       " <BarContainer object of 10 artists>)"
      ]
     },
     "execution_count": 10,
     "metadata": {},
     "output_type": "execute_result"
    },
    {
     "data": {
      "image/png": "[encoded data removed]",
      "text/plain": [
       "<Figure size 640x480 with 1 Axes>"
      ]
     },
     "metadata": {},
     "output_type": "display_data"
    }
   ],
   "source": [
    "#df['Age'].hist(ylabelsize=10)\n",
    "plt.hist(df1['Age'], edgecolor='black', linewidth=1.2)"
   ]
  },
  {
   "cell_type": "code",
   "execution_count": 11,
   "id": "8fabe959-7e5c-4c4e-9f23-df6ec6b104b3",
   "metadata": {
    "tags": []
   },
   "outputs": [
    {
     "data": {
      "text/plain": [
       "Attrition\n",
       "No     0.839\n",
       "Yes    0.161\n",
       "Name: proportion, dtype: float64"
      ]
     },
     "execution_count": 11,
     "metadata": {},
     "output_type": "execute_result"
    }
   ],
   "source": [
    "df1['Attrition'].value_counts(normalize=True)  #normalize=True/False\n",
    "#How many left"
   ]
  },
  {
   "cell_type": "code",
   "execution_count": 12,
   "id": "c88cefab-725e-4d96-ab60-eea63ea35ec0",
   "metadata": {
    "tags": []
   },
   "outputs": [
    {
     "data": {
      "text/plain": [
       "<Axes: ylabel='count'>"
      ]
     },
     "execution_count": 12,
     "metadata": {},
     "output_type": "execute_result"
    },
    {
     "data": {
      "image/png": "[encoded data removed]",
      "text/plain": [
       "<Figure size 640x480 with 1 Axes>"
      ]
     },
     "metadata": {},
     "output_type": "display_data"
    }
   ],
   "source": [
    "df1['Attrition'].value_counts().plot.pie()  #subplots=True"
   ]
  },
  {
   "cell_type": "code",
   "execution_count": 13,
   "id": "ec0997fb-99ef-400d-98c7-9eced1d71bec",
   "metadata": {
    "tags": []
   },
   "outputs": [
    {
     "data": {
      "text/plain": [
       "['Attrition',\n",
       " 'Age',\n",
       " 'DistanceFromHome',\n",
       " 'Education',\n",
       " 'YearsAtCompany',\n",
       " 'JobSatisfaction']"
      ]
     },
     "execution_count": 13,
     "metadata": {},
     "output_type": "execute_result"
    }
   ],
   "source": [
    "df1.columns.tolist()"
   ]
  },
  {
   "cell_type": "code",
   "execution_count": 14,
   "id": "c486416b-198a-4254-95f5-6220b21d7fb1",
   "metadata": {
    "tags": []
   },
   "outputs": [
    {
     "data": {
      "text/plain": [
       "Attrition           object\n",
       "Age                  int64\n",
       "DistanceFromHome     int64\n",
       "Education            int64\n",
       "YearsAtCompany       int64\n",
       "JobSatisfaction      int64\n",
       "dtype: object"
      ]
     },
     "execution_count": 14,
     "metadata": {},
     "output_type": "execute_result"
    }
   ],
   "source": [
    "df1.dtypes"
   ]
  },
  {
   "cell_type": "code",
   "execution_count": 15,
   "id": "666b1208-91c6-4dda-bd13-0d74bd63f131",
   "metadata": {
    "tags": []
   },
   "outputs": [
    {
     "data": {
      "text/plain": [
       "Attrition           int32\n",
       "Age                 int64\n",
       "DistanceFromHome    int64\n",
       "Education           int64\n",
       "YearsAtCompany      int64\n",
       "JobSatisfaction     int64\n",
       "dtype: object"
      ]
     },
     "execution_count": 15,
     "metadata": {},
     "output_type": "execute_result"
    }
   ],
   "source": [
    "from sklearn.preprocessing import LabelEncoder\n",
    "label_encoder = LabelEncoder()\n",
    "# for cat value , put number\n",
    "#cal_cols = ['Attrition']\n",
    "df1['Attrition'] = label_encoder.fit_transform(df1['Attrition'])\n",
    "#for col in cat_cols:    df1[col] = label_encoder.fit_transform(df1[col])\n",
    "df1.dtypes"
   ]
  },
  {
   "cell_type": "code",
   "execution_count": 17,
   "id": "067e5b85-2d5c-455e-a80b-390064d712fb",
   "metadata": {},
   "outputs": [
    {
     "data": {
      "text/html": [
       "<div>\n",
       "<style scoped>\n",
       "    .dataframe tbody tr th:only-of-type {\n",
       "        vertical-align: middle;\n",
       "    }\n",
       "\n",
       "    .dataframe tbody tr th {\n",
       "        vertical-align: top;\n",
       "    }\n",
       "\n",
       "    .dataframe thead th {\n",
       "        text-align: right;\n",
       "    }\n",
       "</style>\n",
       "<table border=\"1\" class=\"dataframe\">\n",
       "  <thead>\n",
       "    <tr style=\"text-align: right;\">\n",
       "      <th></th>\n",
       "      <th>Attrition</th>\n",
       "      <th>Age</th>\n",
       "      <th>DistanceFromHome</th>\n",
       "      <th>Education</th>\n",
       "      <th>YearsAtCompany</th>\n",
       "      <th>JobSatisfaction</th>\n",
       "    </tr>\n",
       "  </thead>\n",
       "  <tbody>\n",
       "    <tr>\n",
       "      <th>0</th>\n",
       "      <td>1</td>\n",
       "      <td>41</td>\n",
       "      <td>1</td>\n",
       "      <td>2</td>\n",
       "      <td>6</td>\n",
       "      <td>4</td>\n",
       "    </tr>\n",
       "    <tr>\n",
       "      <th>1</th>\n",
       "      <td>0</td>\n",
       "      <td>49</td>\n",
       "      <td>8</td>\n",
       "      <td>1</td>\n",
       "      <td>10</td>\n",
       "      <td>2</td>\n",
       "    </tr>\n",
       "    <tr>\n",
       "      <th>2</th>\n",
       "      <td>1</td>\n",
       "      <td>37</td>\n",
       "      <td>2</td>\n",
       "      <td>2</td>\n",
       "      <td>0</td>\n",
       "      <td>3</td>\n",
       "    </tr>\n",
       "    <tr>\n",
       "      <th>3</th>\n",
       "      <td>0</td>\n",
       "      <td>33</td>\n",
       "      <td>3</td>\n",
       "      <td>4</td>\n",
       "      <td>8</td>\n",
       "      <td>3</td>\n",
       "    </tr>\n",
       "    <tr>\n",
       "      <th>4</th>\n",
       "      <td>0</td>\n",
       "      <td>27</td>\n",
       "      <td>2</td>\n",
       "      <td>1</td>\n",
       "      <td>2</td>\n",
       "      <td>2</td>\n",
       "    </tr>\n",
       "  </tbody>\n",
       "</table>\n",
       "</div>"
      ],
      "text/plain": [
       "   Attrition  Age  DistanceFromHome  Education  YearsAtCompany  JobSatisfaction\n",
       "0          1   41                 1          2               6                4\n",
       "1          0   49                 8          1              10                2\n",
       "2          1   37                 2          2               0                3\n",
       "3          0   33                 3          4               8                3\n",
       "4          0   27                 2          1               2                2"
      ]
     },
     "execution_count": 17,
     "metadata": {},
     "output_type": "execute_result"
    }
   ],
   "source": [
    "df1.head()"
   ]
  },
  {
   "cell_type": "code",
   "execution_count": 18,
   "id": "9cb48f18-7c35-4f02-b462-78b9bb6c20ee",
   "metadata": {
    "tags": []
   },
   "outputs": [
    {
     "data": {
      "text/plain": [
       "Attrition\n",
       "0    0.839\n",
       "1    0.161\n",
       "Name: proportion, dtype: float64"
      ]
     },
     "execution_count": 18,
     "metadata": {},
     "output_type": "execute_result"
    }
   ],
   "source": [
    "df1['Attrition'].value_counts(normalize=True)"
   ]
  },
  {
   "cell_type": "code",
   "execution_count": 19,
   "id": "c4534b06-5ca7-4a98-bf50-aece950bedf0",
   "metadata": {
    "tags": []
   },
   "outputs": [
    {
     "data": {
      "image/png": "[encoded data removed]",
      "text/plain": [
       "<Figure size 1800x1200 with 6 Axes>"
      ]
     },
     "metadata": {},
     "output_type": "display_data"
    }
   ],
   "source": [
    "# assuming you have x  columns:\n",
    "fig,axes = plt.subplots(nrows=3, ncols=2, figsize=(18,12))\n",
    "# use `select_dtypes` to filter instead of `describe` : O for object\n",
    "fig.suptitle('Numeric Columns')\n",
    "for col, ax in zip(df1.select_dtypes(include='number'), axes.ravel()):\n",
    "    df1[col].plot.hist(ax=ax)\n",
    "    ax.set_title(col)\n",
    "plt.show()"
   ]
  },
  {
   "cell_type": "markdown",
   "id": "9687609b-44d3-4aac-a078-ca7d7827490a",
   "metadata": {
    "tags": []
   },
   "source": []
  },
  {
   "cell_type": "code",
   "execution_count": 20,
   "id": "5e929fc0",
   "metadata": {
    "tags": []
   },
   "outputs": [],
   "source": [
    "#additional libraries\n",
    "from sklearn.linear_model import LogisticRegression\n",
    "from sklearn.metrics import classification_report, confusion_matrix\n",
    "from sklearn.model_selection import train_test_split  #split\n",
    "import statsmodels.api as sm\n",
    "#seaborn to create confusion matrix"
   ]
  },
  {
   "cell_type": "code",
   "execution_count": 21,
   "id": "0d18a5e6-1331-48b3-8d06-cf6bc92d140b",
   "metadata": {
    "tags": []
   },
   "outputs": [
    {
     "data": {
      "text/plain": [
       "Attrition\n",
       "0    1233\n",
       "1     237\n",
       "Name: count, dtype: int64"
      ]
     },
     "execution_count": 21,
     "metadata": {},
     "output_type": "execute_result"
    }
   ],
   "source": [
    "df1.Attrition.value_counts()"
   ]
  },
  {
   "cell_type": "code",
   "execution_count": 22,
   "id": "0cafcb3f-9ed0-4e9f-b472-bebb4d0dc871",
   "metadata": {
    "tags": []
   },
   "outputs": [
    {
     "name": "stdout",
     "output_type": "stream",
     "text": [
      "<class 'pandas.core.frame.DataFrame'>\n",
      "RangeIndex: 1470 entries, 0 to 1469\n",
      "Data columns (total 6 columns):\n",
      " #   Column            Non-Null Count  Dtype\n",
      "---  ------            --------------  -----\n",
      " 0   Attrition         1470 non-null   int32\n",
      " 1   Age               1470 non-null   int64\n",
      " 2   DistanceFromHome  1470 non-null   int64\n",
      " 3   Education         1470 non-null   int64\n",
      " 4   YearsAtCompany    1470 non-null   int64\n",
      " 5   JobSatisfaction   1470 non-null   int64\n",
      "dtypes: int32(1), int64(5)\n",
      "memory usage: 63.3 KB\n"
     ]
    }
   ],
   "source": [
    "df1.info()"
   ]
  },
  {
   "cell_type": "code",
   "execution_count": 23,
   "id": "6238ade0",
   "metadata": {
    "tags": []
   },
   "outputs": [
    {
     "name": "stdout",
     "output_type": "stream",
     "text": [
      "(1470, 5) (1470,)\n"
     ]
    }
   ],
   "source": [
    "df2 = df1.copy()\n",
    "X = df2.drop(columns='Attrition')\n",
    "y = df2.Attrition\n",
    "print(X.shape, y.shape)"
   ]
  },
  {
   "cell_type": "code",
   "execution_count": 24,
   "id": "33f2ecad-0e2f-4418-87e7-403dec1c847a",
   "metadata": {
    "tags": []
   },
   "outputs": [
    {
     "name": "stdout",
     "output_type": "stream",
     "text": [
      "   Age  DistanceFromHome  Education  YearsAtCompany  JobSatisfaction\n",
      "0   41                 1          2               6                4\n",
      "1   49                 8          1              10                2\n",
      "2   37                 2          2               0                3\n",
      "3   33                 3          4               8                3\n",
      "4   27                 2          1               2                2 \n",
      " 0    1\n",
      "1    0\n",
      "2    1\n",
      "3    0\n",
      "4    0\n",
      "Name: Attrition, dtype: int32\n"
     ]
    }
   ],
   "source": [
    "print(X.head(), '\\n', y.head())"
   ]
  },
  {
   "cell_type": "code",
   "execution_count": 25,
   "id": "a04f79be-1238-406e-91df-f75c0000b8fa",
   "metadata": {
    "tags": []
   },
   "outputs": [
    {
     "name": "stdout",
     "output_type": "stream",
     "text": [
      "(1029, 5) (441, 5) (1029,) (441,)\n"
     ]
    }
   ],
   "source": [
    "X_train, X_test, y_train, y_test = train_test_split(X, y, test_size=.3, random_state = 107, stratify=df2['Attrition'])\n",
    "print(X_train.shape, X_test.shape, y_train.shape, y_test.shape)"
   ]
  },
  {
   "cell_type": "code",
   "execution_count": 26,
   "id": "f409eb2f-3488-4ddb-825e-504c730865a7",
   "metadata": {
    "tags": []
   },
   "outputs": [
    {
     "name": "stdout",
     "output_type": "stream",
     "text": [
      "Attrition\n",
      "0    863\n",
      "1    166\n",
      "Name: count, dtype: int64  Test  Attrition\n",
      "0    370\n",
      "1     71\n",
      "Name: count, dtype: int64\n"
     ]
    }
   ],
   "source": [
    "#row = train + test rows  : 1029 + 441 = 1470\n",
    "print(y_train.value_counts(normalize=False), ' Test ', y_test.value_counts(normalize=False))"
   ]
  },
  {
   "cell_type": "code",
   "execution_count": 27,
   "id": "9a6b6854",
   "metadata": {
    "tags": []
   },
   "outputs": [
    {
     "data": {
      "text/html": [
       "<div>\n",
       "<style scoped>\n",
       "    .dataframe tbody tr th:only-of-type {\n",
       "        vertical-align: middle;\n",
       "    }\n",
       "\n",
       "    .dataframe tbody tr th {\n",
       "        vertical-align: top;\n",
       "    }\n",
       "\n",
       "    .dataframe thead th {\n",
       "        text-align: right;\n",
       "    }\n",
       "</style>\n",
       "<table border=\"1\" class=\"dataframe\">\n",
       "  <thead>\n",
       "    <tr style=\"text-align: right;\">\n",
       "      <th></th>\n",
       "      <th>Attrition</th>\n",
       "      <th>Age</th>\n",
       "      <th>DistanceFromHome</th>\n",
       "      <th>Education</th>\n",
       "      <th>YearsAtCompany</th>\n",
       "      <th>JobSatisfaction</th>\n",
       "    </tr>\n",
       "  </thead>\n",
       "  <tbody>\n",
       "    <tr>\n",
       "      <th>633</th>\n",
       "      <td>0</td>\n",
       "      <td>36</td>\n",
       "      <td>8</td>\n",
       "      <td>3</td>\n",
       "      <td>5</td>\n",
       "      <td>1</td>\n",
       "    </tr>\n",
       "    <tr>\n",
       "      <th>205</th>\n",
       "      <td>1</td>\n",
       "      <td>29</td>\n",
       "      <td>27</td>\n",
       "      <td>3</td>\n",
       "      <td>10</td>\n",
       "      <td>4</td>\n",
       "    </tr>\n",
       "    <tr>\n",
       "      <th>727</th>\n",
       "      <td>0</td>\n",
       "      <td>18</td>\n",
       "      <td>5</td>\n",
       "      <td>2</td>\n",
       "      <td>0</td>\n",
       "      <td>4</td>\n",
       "    </tr>\n",
       "    <tr>\n",
       "      <th>864</th>\n",
       "      <td>1</td>\n",
       "      <td>41</td>\n",
       "      <td>5</td>\n",
       "      <td>2</td>\n",
       "      <td>1</td>\n",
       "      <td>1</td>\n",
       "    </tr>\n",
       "    <tr>\n",
       "      <th>954</th>\n",
       "      <td>0</td>\n",
       "      <td>42</td>\n",
       "      <td>2</td>\n",
       "      <td>1</td>\n",
       "      <td>20</td>\n",
       "      <td>3</td>\n",
       "    </tr>\n",
       "  </tbody>\n",
       "</table>\n",
       "</div>"
      ],
      "text/plain": [
       "     Attrition  Age  DistanceFromHome  Education  YearsAtCompany  JobSatisfaction\n",
       "633          0   36                 8          3               5                1\n",
       "205          1   29                27          3              10                4\n",
       "727          0   18                 5          2               0                4\n",
       "864          1   41                 5          2               1                1\n",
       "954          0   42                 2          1              20                3"
      ]
     },
     "execution_count": 27,
     "metadata": {},
     "output_type": "execute_result"
    }
   ],
   "source": [
    "pd.concat([y_train.head(), X_train.head()], axis=1)"
   ]
  },
  {
   "cell_type": "code",
   "execution_count": 30,
   "id": "86fd53b8",
   "metadata": {
    "tags": []
   },
   "outputs": [],
   "source": [
    "#ogreg1 = LogisticRegression(solver='liblinear', random_state=123).fit(X,y)\n",
    "logreg1 = LogisticRegression(random_state=123, max_iter=100000).fit(X_train, y_train)"
   ]
  },
  {
   "cell_type": "code",
   "execution_count": 31,
   "id": "53c64e54-65fa-46df-9ffd-0e481406759c",
   "metadata": {
    "tags": []
   },
   "outputs": [
    {
     "data": {
      "text/html": [
       "<style>#sk-container-id-2 {color: black;background-color: white;}#sk-container-id-2 pre{padding: 0;}#sk-container-id-2 div.sk-toggleable {background-color: white;}#sk-container-id-2 label.sk-toggleable__label {cursor: pointer;display: block;width: 100%;margin-bottom: 0;padding: 0.3em;box-sizing: border-box;text-align: center;}#sk-container-id-2 label.sk-toggleable__label-arrow:before {content: \"▸\";float: left;margin-right: 0.25em;color: #696969;}#sk-container-id-2 label.sk-toggleable__label-arrow:hover:before {color: black;}#sk-container-id-2 div.sk-estimator:hover label.sk-toggleable__label-arrow:before {color: black;}#sk-container-id-2 div.sk-toggleable__content {max-height: 0;max-width: 0;overflow: hidden;text-align: left;background-color: #f0f8ff;}#sk-container-id-2 div.sk-toggleable__content pre {margin: 0.2em;color: black;border-radius: 0.25em;background-color: #f0f8ff;}#sk-container-id-2 input.sk-toggleable__control:checked~div.sk-toggleable__content {max-height: 200px;max-width: 100%;overflow: auto;}#sk-container-id-2 input.sk-toggleable__control:checked~label.sk-toggleable__label-arrow:before {content: \"▾\";}#sk-container-id-2 div.sk-estimator input.sk-toggleable__control:checked~label.sk-toggleable__label {background-color: #d4ebff;}#sk-container-id-2 div.sk-label input.sk-toggleable__control:checked~label.sk-toggleable__label {background-color: #d4ebff;}#sk-container-id-2 input.sk-hidden--visually {border: 0;clip: rect(1px 1px 1px 1px);clip: rect(1px, 1px, 1px, 1px);height: 1px;margin: -1px;overflow: hidden;padding: 0;position: absolute;width: 1px;}#sk-container-id-2 div.sk-estimator {font-family: monospace;background-color: #f0f8ff;border: 1px dotted black;border-radius: 0.25em;box-sizing: border-box;margin-bottom: 0.5em;}#sk-container-id-2 div.sk-estimator:hover {background-color: #d4ebff;}#sk-container-id-2 div.sk-parallel-item::after {content: \"\";width: 100%;border-bottom: 1px solid gray;flex-grow: 1;}#sk-container-id-2 div.sk-label:hover label.sk-toggleable__label {background-color: #d4ebff;}#sk-container-id-2 div.sk-serial::before {content: \"\";position: absolute;border-left: 1px solid gray;box-sizing: border-box;top: 0;bottom: 0;left: 50%;z-index: 0;}#sk-container-id-2 div.sk-serial {display: flex;flex-direction: column;align-items: center;background-color: white;padding-right: 0.2em;padding-left: 0.2em;position: relative;}#sk-container-id-2 div.sk-item {position: relative;z-index: 1;}#sk-container-id-2 div.sk-parallel {display: flex;align-items: stretch;justify-content: center;background-color: white;position: relative;}#sk-container-id-2 div.sk-item::before, #sk-container-id-2 div.sk-parallel-item::before {content: \"\";position: absolute;border-left: 1px solid gray;box-sizing: border-box;top: 0;bottom: 0;left: 50%;z-index: -1;}#sk-container-id-2 div.sk-parallel-item {display: flex;flex-direction: column;z-index: 1;position: relative;background-color: white;}#sk-container-id-2 div.sk-parallel-item:first-child::after {align-self: flex-end;width: 50%;}#sk-container-id-2 div.sk-parallel-item:last-child::after {align-self: flex-start;width: 50%;}#sk-container-id-2 div.sk-parallel-item:only-child::after {width: 0;}#sk-container-id-2 div.sk-dashed-wrapped {border: 1px dashed gray;margin: 0 0.4em 0.5em 0.4em;box-sizing: border-box;padding-bottom: 0.4em;background-color: white;}#sk-container-id-2 div.sk-label label {font-family: monospace;font-weight: bold;display: inline-block;line-height: 1.2em;}#sk-container-id-2 div.sk-label-container {text-align: center;}#sk-container-id-2 div.sk-container {/* jupyter's `normalize.less` sets `[hidden] { display: none; }` but bootstrap.min.css set `[hidden] { display: none !important; }` so we also need the `!important` here to be able to override the default hidden behavior on the sphinx rendered scikit-learn.org. See: https://github.com/scikit-learn/scikit-learn/issues/21755 */display: inline-block !important;position: relative;}#sk-container-id-2 div.sk-text-repr-fallback {display: none;}</style><div id=\"sk-container-id-2\" class=\"sk-top-container\"><div class=\"sk-text-repr-fallback\"><pre>LogisticRegression(max_iter=100000, random_state=123)</pre><b>In a Jupyter environment, please rerun this cell to show the HTML representation or trust the notebook. <br />On GitHub, the HTML representation is unable to render, please try loading this page with nbviewer.org.</b></div><div class=\"sk-container\" hidden><div class=\"sk-item\"><div class=\"sk-estimator sk-toggleable\"><input class=\"sk-toggleable__control sk-hidden--visually\" id=\"sk-estimator-id-2\" type=\"checkbox\" checked><label for=\"sk-estimator-id-2\" class=\"sk-toggleable__label sk-toggleable__label-arrow\">LogisticRegression</label><div class=\"sk-toggleable__content\"><pre>LogisticRegression(max_iter=100000, random_state=123)</pre></div></div></div></div></div>"
      ],
      "text/plain": [
       "LogisticRegression(max_iter=100000, random_state=123)"
      ]
     },
     "execution_count": 31,
     "metadata": {},
     "output_type": "execute_result"
    }
   ],
   "source": [
    "logreg1"
   ]
  },
  {
   "cell_type": "code",
   "execution_count": 32,
   "id": "272acd31-faf2-4962-8a0c-5d51c9c72fe7",
   "metadata": {
    "tags": []
   },
   "outputs": [
    {
     "name": "stdout",
     "output_type": "stream",
     "text": [
      " Classes  [0 1]\n"
     ]
    }
   ],
   "source": [
    "print(' Classes ', logreg1.classes_)"
   ]
  },
  {
   "cell_type": "code",
   "execution_count": 33,
   "id": "7c0bac30",
   "metadata": {
    "tags": []
   },
   "outputs": [
    {
     "name": "stdout",
     "output_type": "stream",
     "text": [
      " Classes  [0 1] \n",
      " : Coeff  [[-0.05, 0.02, -0.01, -0.03, -0.23]] \n",
      " : Intercept  [0.6738283]\n",
      "Index(['Age', 'DistanceFromHome', 'Education', 'YearsAtCompany', 'JobSatisfaction'], dtype='object')\n"
     ]
    }
   ],
   "source": [
    "print(' Classes ', logreg1.classes_, '\\n : Coeff ', np.round(logreg1.coef_,2).tolist(), '\\n : Intercept ', logreg1.intercept_)\n",
    "print(X_train.columns)"
   ]
  },
  {
   "cell_type": "code",
   "execution_count": 34,
   "id": "5b237c62-ce6b-4a3e-aa12-7a6509e5556e",
   "metadata": {
    "tags": []
   },
   "outputs": [
    {
     "name": "stdout",
     "output_type": "stream",
     "text": [
      "[[0.78410684 0.21589316]\n",
      " [0.79872386 0.20127614]\n",
      " [0.73091202 0.26908798]\n",
      " [0.80976478 0.19023522]\n",
      " [0.93550522 0.06449478]]\n"
     ]
    }
   ],
   "source": [
    "print(logreg1.predict_proba(X_train)[0:5])"
   ]
  },
  {
   "cell_type": "code",
   "execution_count": 35,
   "id": "299f51a6-e4a7-4840-bbb4-c11c23f35f8a",
   "metadata": {
    "tags": []
   },
   "outputs": [
    {
     "name": "stdout",
     "output_type": "stream",
     "text": [
      "[0 0 0 0 0]\n"
     ]
    }
   ],
   "source": [
    "print(logreg1.predict(X_train)[0:5])"
   ]
  },
  {
   "cell_type": "code",
   "execution_count": 36,
   "id": "4d565408-3941-479b-9811-6c8fca09bf5e",
   "metadata": {
    "tags": []
   },
   "outputs": [
    {
     "name": "stdout",
     "output_type": "stream",
     "text": [
      "[0 0 0 ... 0 0 0] 1029\n"
     ]
    }
   ],
   "source": [
    "y_pred_train = logreg1.predict(X_train)\n",
    "print(y_pred_train,  len(y_train)) # if prob(0) is higher then class is 0"
   ]
  },
  {
   "cell_type": "code",
   "execution_count": 37,
   "id": "15620c4a-5224-4c3f-ba05-bbd1d188a493",
   "metadata": {
    "tags": []
   },
   "outputs": [
    {
     "data": {
      "text/plain": [
       "863"
      ]
     },
     "execution_count": 37,
     "metadata": {},
     "output_type": "execute_result"
    }
   ],
   "source": [
    "pd.concat([y_train.reset_index(drop=True), pd.Series(y_pred_train, name='PredTrain').reset_index(drop=True)], axis=1)\n",
    "#compare \n",
    "(y_train.reset_index(drop=True) == pd.Series(y_pred_train, name='PredTrain').reset_index(drop=True)).sum()"
   ]
  },
  {
   "cell_type": "code",
   "execution_count": 87,
   "id": "42b414ad-76da-4adf-a9d9-918eb88e0684",
   "metadata": {
    "tags": []
   },
   "outputs": [
    {
     "data": {
      "text/plain": [
       "'              precision    recall  f1-score   support\\n\\n           0       0.84      1.00      0.91       863\\n           1       0.00      0.00      0.00       166\\n\\n    accuracy                           0.84      1029\\n   macro avg       0.42      0.50      0.46      1029\\nweighted avg       0.70      0.84      0.77      1029\\n'"
      ]
     },
     "execution_count": 87,
     "metadata": {},
     "output_type": "execute_result"
    },
    {
     "data": {
      "image/png": "[encoded data removed]",
      "text/plain": [
       "<Figure size 640x480 with 2 Axes>"
      ]
     },
     "metadata": {},
     "output_type": "display_data"
    }
   ],
   "source": [
    "cm_train = confusion_matrix(y_train, y_pred_train)\n",
    "sns.heatmap(pd.DataFrame(cm_train), annot=True, cmap=\"YlGnBu\" ,fmt='g')\n",
    "clsReportTrain = classification_report(y_train,y_pred_train)\n",
    "clsReportTrain"
   ]
  },
  {
   "cell_type": "code",
   "execution_count": 38,
   "id": "e0a66772-5f00-4ca4-aaae-5937802fe192",
   "metadata": {
    "tags": []
   },
   "outputs": [
    {
     "name": "stdout",
     "output_type": "stream",
     "text": [
      "[0 0 0 0 0 0 0 0 0 0 0 0 0 0 0 0 0 0 0 0 0 0 0 0 0 0 0 0 0 0 0 0 0 0 0 0 0\n",
      " 0 0 0 0 0 0 0 0 0 0 0 0 0 0 0 0 0 0 0 0 0 0 0 0 0 0 0 0 0 0 0 0 0 0 0 0 0\n",
      " 0 0 0 0 0 0 0 0 0 0 0 0 0 0 0 0 0 0 0 0 0 0 0 0 0 0 0 0 0 0 0 0 0 0 0 0 0\n",
      " 0 0 0 0 0 0 0 0 0 0 0 0 0 0 0 0 0 0 0 0 0 0 0 0 0 0 0 0 0 0 0 0 0 0 0 0 0\n",
      " 0 0 0 0 0 0 0 0 0 0 0 0 0 0 0 0 0 0 0 0 0 0 0 0 0 0 0 0 0 0 0 0 0 0 0 0 0\n",
      " 0 0 0 0 0 0 0 0 0 0 0 0 0 0 0 0 0 0 0 0 0 0 0 0 0 0 0 0 0 0 0 0 0 0 0 0 0\n",
      " 0 0 0 0 0 0 0 0 0 0 0 0 0 0 0 0 0 0 0 0 0 0 0 0 0 0 0 0 0 0 0 0 0 0 0 0 0\n",
      " 0 0 0 0 0 0 0 0 0 0 0 0 0 0 0 0 0 0 0 0 0 0 0 0 0 0 0 0 0 0 0 0 0 0 0 0 0\n",
      " 0 0 0 0 0 0 0 0 0 0 0 0 0 0 0 0 0 0 0 0 0 0 0 0 0 0 0 0 0 0 0 0 0 0 0 0 0\n",
      " 0 0 0 0 0 0 0 0 0 0 0 0 0 0 0 0 0 0 0 0 0 0 0 0 0 0 0 0 0 0 0 0 0 0 0 0 0\n",
      " 0 0 0 0 0 0 0 0 0 0 0 0 0 0 0 0 0 0 0 0 0 0 0 0 0 0 0 0 0 0 0 0 0 0 0 0 0\n",
      " 0 0 0 0 0 0 0 0 0 0 0 0 0 0 0 0 0 0 0 0 0 0 0 0 0 0 0 0 0 0 0 0 0 0] 441\n"
     ]
    }
   ],
   "source": [
    "## Accuracy of prediction on test data\n",
    "y_pred_test = logreg1.predict(X_test)\n",
    "print(y_pred_test,  len(y_test)) # if prob(0) is higher then class is 0"
   ]
  },
  {
   "cell_type": "code",
   "execution_count": 39,
   "id": "61b2770d-7c4b-45c3-8968-f7161d3eec38",
   "metadata": {
    "tags": []
   },
   "outputs": [
    {
     "data": {
      "text/plain": [
       "370"
      ]
     },
     "execution_count": 39,
     "metadata": {},
     "output_type": "execute_result"
    }
   ],
   "source": [
    "pd.concat([y_test.reset_index(drop=True), pd.Series(y_pred_test, name='PredTest').reset_index(drop=True)], axis=1)\n",
    "#compare \n",
    "(y_test.reset_index(drop=True) == pd.Series(y_pred_test, name='PredTest').reset_index(drop=True)).sum()"
   ]
  },
  {
   "cell_type": "code",
   "execution_count": 40,
   "id": "aa2b51cb-7c3a-46d3-abe6-cbb35617fc6c",
   "metadata": {
    "tags": []
   },
   "outputs": [
    {
     "data": {
      "text/plain": [
       "'              precision    recall  f1-score   support\\n\\n           0       0.84      1.00      0.91       370\\n           1       0.00      0.00      0.00        71\\n\\n    accuracy                           0.84       441\\n   macro avg       0.42      0.50      0.46       441\\nweighted avg       0.70      0.84      0.77       441\\n'"
      ]
     },
     "execution_count": 40,
     "metadata": {},
     "output_type": "execute_result"
    },
    {
     "data": {
      "image/png": "[encoded data removed]",
      "text/plain": [
       "<Figure size 640x480 with 2 Axes>"
      ]
     },
     "metadata": {},
     "output_type": "display_data"
    }
   ],
   "source": [
    "cm_test = confusion_matrix(y_test, y_pred_test)\n",
    "sns.heatmap(pd.DataFrame(cm_test), annot=True, cmap=\"YlGnBu\" ,fmt='g')\n",
    "clsReportTest = classification_report(y_test,y_pred_test)\n",
    "clsReportTest"
   ]
  },
  {
   "cell_type": "code",
   "execution_count": 42,
   "id": "eb0c2e7a-a4d1-42de-88f3-05f8d1114ee5",
   "metadata": {
    "tags": []
   },
   "outputs": [
    {
     "data": {
      "text/plain": [
       "0.8371040723981901"
      ]
     },
     "execution_count": 42,
     "metadata": {},
     "output_type": "execute_result"
    }
   ],
   "source": [
    "(370 + 0)/(371+71 + 0 + 0) "
   ]
  },
  {
   "cell_type": "markdown",
   "id": "a8621fb9-a31c-4975-aea4-075308795bc4",
   "metadata": {},
   "source": [
    "# Predict from new Data"
   ]
  },
  {
   "cell_type": "code",
   "execution_count": 149,
   "id": "f0ebc39b-be3d-45bd-9402-f28ffcdb25a9",
   "metadata": {
    "tags": []
   },
   "outputs": [
    {
     "data": {
      "text/html": [
       "<div>\n",
       "<style scoped>\n",
       "    .dataframe tbody tr th:only-of-type {\n",
       "        vertical-align: middle;\n",
       "    }\n",
       "\n",
       "    .dataframe tbody tr th {\n",
       "        vertical-align: top;\n",
       "    }\n",
       "\n",
       "    .dataframe thead th {\n",
       "        text-align: right;\n",
       "    }\n",
       "</style>\n",
       "<table border=\"1\" class=\"dataframe\">\n",
       "  <thead>\n",
       "    <tr style=\"text-align: right;\">\n",
       "      <th></th>\n",
       "      <th>Attrition</th>\n",
       "      <th>Age</th>\n",
       "      <th>DistanceFromHome</th>\n",
       "      <th>Education</th>\n",
       "      <th>YearsAtCompany</th>\n",
       "      <th>JobSatisfaction</th>\n",
       "    </tr>\n",
       "  </thead>\n",
       "  <tbody>\n",
       "    <tr>\n",
       "      <th>0</th>\n",
       "      <td>1</td>\n",
       "      <td>41</td>\n",
       "      <td>1</td>\n",
       "      <td>2</td>\n",
       "      <td>6</td>\n",
       "      <td>4</td>\n",
       "    </tr>\n",
       "    <tr>\n",
       "      <th>1</th>\n",
       "      <td>0</td>\n",
       "      <td>49</td>\n",
       "      <td>8</td>\n",
       "      <td>1</td>\n",
       "      <td>10</td>\n",
       "      <td>2</td>\n",
       "    </tr>\n",
       "  </tbody>\n",
       "</table>\n",
       "</div>"
      ],
      "text/plain": [
       "   Attrition  Age  DistanceFromHome  Education  YearsAtCompany  JobSatisfaction\n",
       "0          1   41                 1          2               6                4\n",
       "1          0   49                 8          1              10                2"
      ]
     },
     "execution_count": 149,
     "metadata": {},
     "output_type": "execute_result"
    }
   ],
   "source": [
    "df1.head(2)"
   ]
  },
  {
   "cell_type": "code",
   "execution_count": 150,
   "id": "c0c46648-8f60-44f6-9dda-a40118530801",
   "metadata": {
    "tags": []
   },
   "outputs": [
    {
     "data": {
      "text/html": [
       "<div>\n",
       "<style scoped>\n",
       "    .dataframe tbody tr th:only-of-type {\n",
       "        vertical-align: middle;\n",
       "    }\n",
       "\n",
       "    .dataframe tbody tr th {\n",
       "        vertical-align: top;\n",
       "    }\n",
       "\n",
       "    .dataframe thead th {\n",
       "        text-align: right;\n",
       "    }\n",
       "</style>\n",
       "<table border=\"1\" class=\"dataframe\">\n",
       "  <thead>\n",
       "    <tr style=\"text-align: right;\">\n",
       "      <th></th>\n",
       "      <th>Attrition</th>\n",
       "      <th>Age</th>\n",
       "      <th>DistanceFromHome</th>\n",
       "      <th>Education</th>\n",
       "      <th>YearsAtCompany</th>\n",
       "      <th>JobSatisfaction</th>\n",
       "    </tr>\n",
       "  </thead>\n",
       "  <tbody>\n",
       "    <tr>\n",
       "      <th>count</th>\n",
       "      <td>1470.000</td>\n",
       "      <td>1470.000</td>\n",
       "      <td>1470.000</td>\n",
       "      <td>1470.000</td>\n",
       "      <td>1470.000</td>\n",
       "      <td>1470.000</td>\n",
       "    </tr>\n",
       "    <tr>\n",
       "      <th>mean</th>\n",
       "      <td>0.161</td>\n",
       "      <td>36.924</td>\n",
       "      <td>9.193</td>\n",
       "      <td>2.913</td>\n",
       "      <td>7.008</td>\n",
       "      <td>2.729</td>\n",
       "    </tr>\n",
       "    <tr>\n",
       "      <th>std</th>\n",
       "      <td>0.368</td>\n",
       "      <td>9.135</td>\n",
       "      <td>8.107</td>\n",
       "      <td>1.024</td>\n",
       "      <td>6.127</td>\n",
       "      <td>1.103</td>\n",
       "    </tr>\n",
       "    <tr>\n",
       "      <th>min</th>\n",
       "      <td>0.000</td>\n",
       "      <td>18.000</td>\n",
       "      <td>1.000</td>\n",
       "      <td>1.000</td>\n",
       "      <td>0.000</td>\n",
       "      <td>1.000</td>\n",
       "    </tr>\n",
       "    <tr>\n",
       "      <th>25%</th>\n",
       "      <td>0.000</td>\n",
       "      <td>30.000</td>\n",
       "      <td>2.000</td>\n",
       "      <td>2.000</td>\n",
       "      <td>3.000</td>\n",
       "      <td>2.000</td>\n",
       "    </tr>\n",
       "    <tr>\n",
       "      <th>50%</th>\n",
       "      <td>0.000</td>\n",
       "      <td>36.000</td>\n",
       "      <td>7.000</td>\n",
       "      <td>3.000</td>\n",
       "      <td>5.000</td>\n",
       "      <td>3.000</td>\n",
       "    </tr>\n",
       "    <tr>\n",
       "      <th>75%</th>\n",
       "      <td>0.000</td>\n",
       "      <td>43.000</td>\n",
       "      <td>14.000</td>\n",
       "      <td>4.000</td>\n",
       "      <td>9.000</td>\n",
       "      <td>4.000</td>\n",
       "    </tr>\n",
       "    <tr>\n",
       "      <th>max</th>\n",
       "      <td>1.000</td>\n",
       "      <td>60.000</td>\n",
       "      <td>29.000</td>\n",
       "      <td>5.000</td>\n",
       "      <td>40.000</td>\n",
       "      <td>4.000</td>\n",
       "    </tr>\n",
       "  </tbody>\n",
       "</table>\n",
       "</div>"
      ],
      "text/plain": [
       "       Attrition       Age  DistanceFromHome  Education  YearsAtCompany  JobSatisfaction\n",
       "count   1470.000  1470.000          1470.000   1470.000        1470.000         1470.000\n",
       "mean       0.161    36.924             9.193      2.913           7.008            2.729\n",
       "std        0.368     9.135             8.107      1.024           6.127            1.103\n",
       "min        0.000    18.000             1.000      1.000           0.000            1.000\n",
       "25%        0.000    30.000             2.000      2.000           3.000            2.000\n",
       "50%        0.000    36.000             7.000      3.000           5.000            3.000\n",
       "75%        0.000    43.000            14.000      4.000           9.000            4.000\n",
       "max        1.000    60.000            29.000      5.000          40.000            4.000"
      ]
     },
     "execution_count": 150,
     "metadata": {},
     "output_type": "execute_result"
    }
   ],
   "source": [
    "df1.describe()"
   ]
  },
  {
   "cell_type": "code",
   "execution_count": 158,
   "id": "89042df3-ceed-44d9-b649-fe81f6a21863",
   "metadata": {
    "tags": []
   },
   "outputs": [
    {
     "data": {
      "text/html": [
       "<div>\n",
       "<style scoped>\n",
       "    .dataframe tbody tr th:only-of-type {\n",
       "        vertical-align: middle;\n",
       "    }\n",
       "\n",
       "    .dataframe tbody tr th {\n",
       "        vertical-align: top;\n",
       "    }\n",
       "\n",
       "    .dataframe thead th {\n",
       "        text-align: right;\n",
       "    }\n",
       "</style>\n",
       "<table border=\"1\" class=\"dataframe\">\n",
       "  <thead>\n",
       "    <tr style=\"text-align: right;\">\n",
       "      <th></th>\n",
       "      <th>Attrition</th>\n",
       "      <th>Age</th>\n",
       "      <th>DistanceFromHome</th>\n",
       "      <th>Education</th>\n",
       "      <th>YearsAtCompany</th>\n",
       "      <th>JobSatisfaction</th>\n",
       "    </tr>\n",
       "  </thead>\n",
       "  <tbody>\n",
       "    <tr>\n",
       "      <th>0</th>\n",
       "      <td>1</td>\n",
       "      <td>41</td>\n",
       "      <td>1</td>\n",
       "      <td>2</td>\n",
       "      <td>6</td>\n",
       "      <td>4</td>\n",
       "    </tr>\n",
       "    <tr>\n",
       "      <th>2</th>\n",
       "      <td>1</td>\n",
       "      <td>37</td>\n",
       "      <td>2</td>\n",
       "      <td>2</td>\n",
       "      <td>0</td>\n",
       "      <td>3</td>\n",
       "    </tr>\n",
       "    <tr>\n",
       "      <th>14</th>\n",
       "      <td>1</td>\n",
       "      <td>28</td>\n",
       "      <td>24</td>\n",
       "      <td>3</td>\n",
       "      <td>4</td>\n",
       "      <td>3</td>\n",
       "    </tr>\n",
       "    <tr>\n",
       "      <th>21</th>\n",
       "      <td>1</td>\n",
       "      <td>36</td>\n",
       "      <td>9</td>\n",
       "      <td>4</td>\n",
       "      <td>5</td>\n",
       "      <td>1</td>\n",
       "    </tr>\n",
       "    <tr>\n",
       "      <th>24</th>\n",
       "      <td>1</td>\n",
       "      <td>34</td>\n",
       "      <td>6</td>\n",
       "      <td>1</td>\n",
       "      <td>4</td>\n",
       "      <td>1</td>\n",
       "    </tr>\n",
       "    <tr>\n",
       "      <th>...</th>\n",
       "      <td>...</td>\n",
       "      <td>...</td>\n",
       "      <td>...</td>\n",
       "      <td>...</td>\n",
       "      <td>...</td>\n",
       "      <td>...</td>\n",
       "    </tr>\n",
       "    <tr>\n",
       "      <th>1438</th>\n",
       "      <td>1</td>\n",
       "      <td>23</td>\n",
       "      <td>9</td>\n",
       "      <td>3</td>\n",
       "      <td>1</td>\n",
       "      <td>1</td>\n",
       "    </tr>\n",
       "    <tr>\n",
       "      <th>1442</th>\n",
       "      <td>1</td>\n",
       "      <td>29</td>\n",
       "      <td>1</td>\n",
       "      <td>4</td>\n",
       "      <td>2</td>\n",
       "      <td>4</td>\n",
       "    </tr>\n",
       "    <tr>\n",
       "      <th>1444</th>\n",
       "      <td>1</td>\n",
       "      <td>56</td>\n",
       "      <td>7</td>\n",
       "      <td>2</td>\n",
       "      <td>10</td>\n",
       "      <td>3</td>\n",
       "    </tr>\n",
       "    <tr>\n",
       "      <th>1452</th>\n",
       "      <td>1</td>\n",
       "      <td>50</td>\n",
       "      <td>1</td>\n",
       "      <td>4</td>\n",
       "      <td>6</td>\n",
       "      <td>3</td>\n",
       "    </tr>\n",
       "    <tr>\n",
       "      <th>1461</th>\n",
       "      <td>1</td>\n",
       "      <td>50</td>\n",
       "      <td>28</td>\n",
       "      <td>3</td>\n",
       "      <td>3</td>\n",
       "      <td>1</td>\n",
       "    </tr>\n",
       "  </tbody>\n",
       "</table>\n",
       "<p>237 rows × 6 columns</p>\n",
       "</div>"
      ],
      "text/plain": [
       "      Attrition  Age  DistanceFromHome  Education  YearsAtCompany  JobSatisfaction\n",
       "0             1   41                 1          2               6                4\n",
       "2             1   37                 2          2               0                3\n",
       "14            1   28                24          3               4                3\n",
       "21            1   36                 9          4               5                1\n",
       "24            1   34                 6          1               4                1\n",
       "...         ...  ...               ...        ...             ...              ...\n",
       "1438          1   23                 9          3               1                1\n",
       "1442          1   29                 1          4               2                4\n",
       "1444          1   56                 7          2              10                3\n",
       "1452          1   50                 1          4               6                3\n",
       "1461          1   50                28          3               3                1\n",
       "\n",
       "[237 rows x 6 columns]"
      ]
     },
     "execution_count": 158,
     "metadata": {},
     "output_type": "execute_result"
    }
   ],
   "source": [
    "df1[df1['Attrition'] == 1]"
   ]
  },
  {
   "cell_type": "code",
   "execution_count": 53,
   "id": "7e87c043",
   "metadata": {
    "tags": []
   },
   "outputs": [
    {
     "data": {
      "text/html": [
       "<div>\n",
       "<style scoped>\n",
       "    .dataframe tbody tr th:only-of-type {\n",
       "        vertical-align: middle;\n",
       "    }\n",
       "\n",
       "    .dataframe tbody tr th {\n",
       "        vertical-align: top;\n",
       "    }\n",
       "\n",
       "    .dataframe thead th {\n",
       "        text-align: right;\n",
       "    }\n",
       "</style>\n",
       "<table border=\"1\" class=\"dataframe\">\n",
       "  <thead>\n",
       "    <tr style=\"text-align: right;\">\n",
       "      <th></th>\n",
       "      <th>Age</th>\n",
       "      <th>DistanceFromHome</th>\n",
       "      <th>Education</th>\n",
       "      <th>YearsAtCompany</th>\n",
       "      <th>JobSatisfaction</th>\n",
       "    </tr>\n",
       "  </thead>\n",
       "  <tbody>\n",
       "    <tr>\n",
       "      <th>0</th>\n",
       "      <td>30</td>\n",
       "      <td>5</td>\n",
       "      <td>1</td>\n",
       "      <td>5</td>\n",
       "      <td>1</td>\n",
       "    </tr>\n",
       "    <tr>\n",
       "      <th>1</th>\n",
       "      <td>50</td>\n",
       "      <td>6</td>\n",
       "      <td>2</td>\n",
       "      <td>8</td>\n",
       "      <td>2</td>\n",
       "    </tr>\n",
       "    <tr>\n",
       "      <th>2</th>\n",
       "      <td>43</td>\n",
       "      <td>20</td>\n",
       "      <td>4</td>\n",
       "      <td>5</td>\n",
       "      <td>4</td>\n",
       "    </tr>\n",
       "    <tr>\n",
       "      <th>3</th>\n",
       "      <td>38</td>\n",
       "      <td>7</td>\n",
       "      <td>3</td>\n",
       "      <td>10</td>\n",
       "      <td>3</td>\n",
       "    </tr>\n",
       "    <tr>\n",
       "      <th>4</th>\n",
       "      <td>49</td>\n",
       "      <td>17</td>\n",
       "      <td>2</td>\n",
       "      <td>7</td>\n",
       "      <td>2</td>\n",
       "    </tr>\n",
       "    <tr>\n",
       "      <th>5</th>\n",
       "      <td>25</td>\n",
       "      <td>108</td>\n",
       "      <td>3</td>\n",
       "      <td>5</td>\n",
       "      <td>3</td>\n",
       "    </tr>\n",
       "    <tr>\n",
       "      <th>6</th>\n",
       "      <td>50</td>\n",
       "      <td>29</td>\n",
       "      <td>8</td>\n",
       "      <td>13</td>\n",
       "      <td>1</td>\n",
       "    </tr>\n",
       "  </tbody>\n",
       "</table>\n",
       "</div>"
      ],
      "text/plain": [
       "   Age  DistanceFromHome  Education  YearsAtCompany  JobSatisfaction\n",
       "0   30                 5          1               5                1\n",
       "1   50                 6          2               8                2\n",
       "2   43                20          4               5                4\n",
       "3   38                 7          3              10                3\n",
       "4   49                17          2               7                2\n",
       "5   25               108          3               5                3\n",
       "6   50                29          8              13                1"
      ]
     },
     "execution_count": 53,
     "metadata": {},
     "output_type": "execute_result"
    }
   ],
   "source": [
    "newData2 = pd.DataFrame({'Age':[30,50,43, 38, 49, 25, 50], 'DistanceFromHome':[5,6,20,7,17,108,29], 'Education':[1,2,4,3,2,3,8], 'YearsAtCompany':[5,8,5,10,7,5,13], \\\n",
    "                         'JobSatisfaction':[1,2,4,3,2,3,1]})\n",
    "newData2"
   ]
  },
  {
   "cell_type": "code",
   "execution_count": 54,
   "id": "163bb01a",
   "metadata": {
    "tags": []
   },
   "outputs": [
    {
     "data": {
      "text/plain": [
       "array([[0.74159753, 0.25840247],\n",
       "       [0.91109188, 0.08890812],\n",
       "       [0.88504069, 0.11495931],\n",
       "       [0.88473061, 0.11526939],\n",
       "       [0.88001301, 0.11998699],\n",
       "       [0.25551394, 0.74448606],\n",
       "       [0.85825032, 0.14174968]])"
      ]
     },
     "execution_count": 54,
     "metadata": {},
     "output_type": "execute_result"
    }
   ],
   "source": [
    "logreg1.predict_proba(newData2)"
   ]
  },
  {
   "cell_type": "code",
   "execution_count": 55,
   "id": "8bf9c80a",
   "metadata": {
    "tags": []
   },
   "outputs": [
    {
     "data": {
      "text/plain": [
       "array([0, 0, 0, 0, 0, 1, 0])"
      ]
     },
     "execution_count": 55,
     "metadata": {},
     "output_type": "execute_result"
    }
   ],
   "source": [
    "logreg1.predict(newData2)\n",
    "#will the above employees leave or not  : No with the current model"
   ]
  },
  {
   "cell_type": "code",
   "execution_count": null,
   "id": "6405cbc9",
   "metadata": {},
   "outputs": [],
   "source": []
  },
  {
   "cell_type": "code",
   "execution_count": 101,
   "id": "779eff44",
   "metadata": {
    "tags": []
   },
   "outputs": [
    {
     "name": "stdout",
     "output_type": "stream",
     "text": [
      "['C', '__annotations__', '__class__', '__delattr__', '__dict__', '__dir__', '__doc__', '__eq__', '__format__', '__ge__', '__getattribute__', '__getstate__', '__gt__', '__hash__', '__init__', '__init_subclass__', '__le__', '__lt__', '__module__', '__ne__', '__new__', '__reduce__', '__reduce_ex__', '__repr__', '__setattr__', '__setstate__', '__sizeof__', '__sklearn_clone__', '__str__', '__subclasshook__', '__weakref__', '_build_request_for_signature', '_check_feature_names', '_check_n_features', '_estimator_type', '_get_default_requests', '_get_metadata_request', '_get_param_names', '_get_tags', '_more_tags', '_parameter_constraints', '_predict_proba_lr', '_repr_html_', '_repr_html_inner', '_repr_mimebundle_', '_validate_data', '_validate_params', 'class_weight', 'classes_', 'coef_', 'decision_function', 'densify', 'dual', 'feature_names_in_', 'fit', 'fit_intercept', 'get_metadata_routing', 'get_params', 'intercept_', 'intercept_scaling', 'l1_ratio', 'max_iter', 'multi_class', 'n_features_in_', 'n_iter_', 'n_jobs', 'penalty', 'predict', 'predict_log_proba', 'predict_proba', 'random_state', 'score', 'set_fit_request', 'set_params', 'set_score_request', 'solver', 'sparsify', 'tol', 'verbose', 'warm_start']\n"
     ]
    }
   ],
   "source": [
    "print(dir(logreg1))  #functions available"
   ]
  },
  {
   "cell_type": "code",
   "execution_count": 103,
   "id": "9291402b",
   "metadata": {
    "tags": []
   },
   "outputs": [],
   "source": [
    "from sklearn.metrics import log_loss, roc_auc_score, recall_score, precision_score, average_precision_score, f1_score, classification_report, accuracy_score"
   ]
  },
  {
   "cell_type": "code",
   "execution_count": 105,
   "id": "7ba33476",
   "metadata": {
    "tags": []
   },
   "outputs": [
    {
     "name": "stdout",
     "output_type": "stream",
     "text": [
      "Log loss = 5.80295\n",
      "AUC = 0.50000\n",
      "Average Precision = 0.16100\n"
     ]
    }
   ],
   "source": [
    "print('Log loss = {:.5f}'.format(log_loss(y_test, y_pred_test)))\n",
    "print('AUC = {:.5f}'.format(roc_auc_score(y_test, y_pred_test)))\n",
    "print('Average Precision = {:.5f}'.format(average_precision_score(y_test, y_pred_test)))"
   ]
  },
  {
   "cell_type": "code",
   "execution_count": 107,
   "id": "ef82b016-5d98-4de2-b009-c44cd4730606",
   "metadata": {
    "tags": []
   },
   "outputs": [],
   "source": [
    "from sklearn.metrics import confusion_matrix, ConfusionMatrixDisplay"
   ]
  },
  {
   "cell_type": "code",
   "execution_count": 108,
   "id": "01d81d3c-5bb8-4a1f-a125-506b7e3a78a4",
   "metadata": {},
   "outputs": [
    {
     "data": {
      "image/png": "[encoded data removed]",
      "text/plain": [
       "<Figure size 640x480 with 2 Axes>"
      ]
     },
     "metadata": {},
     "output_type": "display_data"
    }
   ],
   "source": [
    "disp_cm  = ConfusionMatrixDisplay(cm_test, display_labels = ['No','Yes'])\n",
    "disp_cm.plot()\n",
    "plt.title('Confustion Matrix of Model 1 with all variables on test set')\n",
    "plt.show()"
   ]
  },
  {
   "cell_type": "code",
   "execution_count": 64,
   "id": "61fad293",
   "metadata": {},
   "outputs": [],
   "source": [
    "#try this exercise \n",
    "# https://heds.nz/posts/logistic-regression-python/\n",
    "# https://www.justintodata.com/logistic-regression-example-in-python/"
   ]
  },
  {
   "cell_type": "markdown",
   "id": "32dba77e",
   "metadata": {},
   "source": [
    "### end here"
   ]
  }
 ],
 "metadata": {
  "kernelspec": {
   "display_name": "Python 3 (ipykernel)",
   "language": "python",
   "name": "python3"
  },
  "language_info": {
   "codemirror_mode": {
    "name": "ipython",
    "version": 3
   },
   "file_extension": ".py",
   "mimetype": "text/x-python",
   "name": "python",
   "nbconvert_exporter": "python",
   "pygments_lexer": "ipython3",
   "version": "3.11.8"
  }
 },
 "nbformat": 4,
 "nbformat_minor": 5
}
