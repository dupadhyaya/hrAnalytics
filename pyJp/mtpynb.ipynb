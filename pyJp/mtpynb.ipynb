{
 "cells": [
  {
   "cell_type": "code",
   "execution_count": 1,
   "id": "e429933d",
   "metadata": {},
   "outputs": [
    {
     "data": {
      "text/plain": [
       "Index(['Mazda RX4', 'Mazda RX4 Wag', 'Datsun 710', 'Hornet 4 Drive', 'Hornet Sportabout', 'Valiant', 'Duster 360', 'Merc 240D', 'Merc 230', 'Merc 280', 'Merc 280C', 'Merc 450SE', 'Merc 450SL', 'Merc 450SLC', 'Cadillac Fleetwood', 'Lincoln Continental', 'Chrysler Imperial', 'Fiat 128', 'Honda Civic', 'Toyota Corolla', 'Toyota Corona', 'Dodge Challenger', 'AMC Javelin', 'Camaro Z28', 'Pontiac Firebird', 'Fiat X1-9', 'Porsche 914-2', 'Lotus Europa', 'Ford Pantera L', 'Ferrari Dino', 'Maserati Bora', 'Volvo 142E'], dtype='object')"
      ]
     },
     "execution_count": 1,
     "metadata": {},
     "output_type": "execute_result"
    }
   ],
   "source": [
    "#Created by DU \n",
    "#Topic : General Practise on Pandas and Matplotlib\n",
    "#%%%\n",
    "#libraries\n",
    "import pandas as pd\n",
    "import numpy as np\n",
    "import matplotlib.pyplot as plt\n",
    "#from matplotlib.pyplot import style\n",
    "import seaborn as sns\n",
    "import datetime as dt\n",
    "from datetime import timedelta\n",
    "from pydataset import data\n",
    "import random\n",
    "#%%% Options\n",
    "pd.set_option('display.max_rows', 20)\n",
    "pd.set_option('display.max_columns', 11)\n",
    "pd.set_option('display.width', 1000)\n",
    "#%%%\n",
    "data('mtcars').head\n",
    "mt = data('mtcars')\n",
    "mt.head()\n",
    "mt.describe()\n",
    "mt.shape\n",
    "mt.columns\n",
    "mt.values\n",
    "mt.dtypes\n",
    "mt.index"
   ]
  },
  {
   "cell_type": "code",
   "execution_count": null,
   "id": "00199e40",
   "metadata": {},
   "outputs": [],
   "source": []
  },
  {
   "cell_type": "code",
   "execution_count": 2,
   "id": "098a3293",
   "metadata": {},
   "outputs": [
    {
     "name": "stderr",
     "output_type": "stream",
     "text": [
      "UsageError: Line magic function `%%%dates` not found.\n"
     ]
    }
   ],
   "source": [
    "catCols = ['am','vs','gear','cyl','carb']\n",
    "numCols = ['mpg','disp', 'hp', 'drat', 'qsec']\n",
    "catCols\n",
    "numCols\n",
    "mt[numCols]\n",
    "mt[catCols] = mt[catCols].astype('category')\n",
    "mt[catCols]\n",
    "mt.describe(include='all')\n",
    "%%%dates & carnames\n",
    "mt['carnames'] = mt.index\n",
    "def generate_dates(start, end, n, seed=1, replace=False):\n",
    "    dates = pd.date_range(start, end).to_series()\n",
    "    return dates.sample(n, replace=replace, random_state=seed)\n",
    "sDate = dt.date(2020,1,1)\n",
    "eDate = dt.date.today()"
   ]
  },
  {
   "cell_type": "code",
   "execution_count": null,
   "id": "e4b9dd20",
   "metadata": {},
   "outputs": [],
   "source": [
    "dom = generate_dates(start=sDate, end=eDate, n=32, seed=22)\n",
    "dom.tolist()\n",
    "len(dom)\n",
    "type(dom.tolist())\n",
    "mt['dom'] = dom.tolist()\n",
    "mt['dom'] = pd.to_datetime(mt['dom']).dt.normalize()  #only date\n",
    "mt.head()\n",
    "mt.columns\n",
    "mt.dtypes\n",
    "#%%%\n",
    "mt.axes\n",
    "mt.shape\n",
    "mt.isna().sum(axis=1)\n",
    "mt.isna().sum(axis=0)"
   ]
  },
  {
   "cell_type": "code",
   "execution_count": null,
   "id": "99520ba2",
   "metadata": {},
   "outputs": [],
   "source": [
    "mt.iloc[3:5,4:10]\n",
    "mt.count(axis=1)\n",
    "mt.count(axis=0)\n",
    "mt.kurtosis()\n",
    "mt.skew()\n",
    "mt.max()\n",
    "mt.mean()\n",
    "mt.quantile([0., .5, .75, 1])\n",
    "mt.rank()\n",
    "mt.mad()\n",
    "mt.aggregate(['mean', 'max'])\n",
    "#apply, transform, applymap, \n",
    "mt[numCols].gt(10)\n",
    "mt.cov()\n",
    "mt.corr()\n",
    "mt.std()\n",
    "mt.var()\n",
    "mt.nunique()\n",
    "mt.duplicated()"
   ]
  },
  {
   "cell_type": "code",
   "execution_count": null,
   "id": "68694fad",
   "metadata": {},
   "outputs": [],
   "source": [
    "mt[['am','vs']]\n",
    "mt[['am','vs']].duplicated()"
   ]
  },
  {
   "cell_type": "code",
   "execution_count": null,
   "id": "a3d4ac8a",
   "metadata": {},
   "outputs": [],
   "source": [
    "#%%% indexing \n",
    "mt.axes\n",
    "mt.empty\n",
    "mt.ndim\n",
    "mt.size #row*col \n",
    "mt[['mpg','wt']].rank()\n",
    "mt.sort_index().index\n",
    "mt.index"
   ]
  },
  {
   "cell_type": "code",
   "execution_count": null,
   "id": "c26dad00",
   "metadata": {
    "lines_to_next_cell": 2
   },
   "outputs": [],
   "source": [
    "#%%% sort, functions\n",
    "mt.sort_values(by='gear')\n",
    "mt.sort_values(by=['am', 'gear']).head()\n",
    "mt.sort_values(by=['am', 'gear'], ascending=[True, False]).head()\n",
    "mt.nlargest(4, columns='hp')\n",
    "mt.nlargest(6, columns=['mpg','hp'])\n",
    "mt.nsmallest(4, columns='hp')\n",
    "mt.nsmallest(6, columns=['mpg','hp'])\n",
    "mt = mt.sort_values(by='mpg')\n",
    "mt.head()\n",
    "mt[sorted(mt.columns)]\n",
    "mt2 = mt.sort_index(axis=1)\n",
    "mt2.truncate(before='hp', after='vs', axis='columns')\n",
    "mt2B = mt.sort_index(axis=0)\n",
    "mt2B\n",
    "mt2B.truncate(before='Camaro Z28', after='Toyota Corolla', axis='rows')\n",
    "mt.fillna(100)\n",
    "mt.pivot(index=['am','vs','hp'], columns=['gear','carb'], values='mpg')\n",
    "#%%%\n",
    "mt.sort_values(by='wt').plot(x='wt',y='mpg')\n",
    "mt.plot.bar(x='gear')\n",
    "#%%% maths\n",
    "mt[numCols].abs\n",
    "mt[numCols].add(100)\n",
    "mt[numCols].count()\n",
    "mt[numCols].cummax()\n",
    "mt[numCols].max()\n",
    "mt[numCols].sum()\n",
    "mt[numCols].cumsum()\n",
    "mt[numCols].diff()  #within col : R1-R2\n",
    "mt[numCols].head()  #within col : R1-R2"
   ]
  },
  {
   "cell_type": "code",
   "execution_count": null,
   "id": "0117d553",
   "metadata": {},
   "outputs": [],
   "source": [
    "#%%%\n",
    "mt.to_dict()\n",
    "mt.to_clipboard()\n",
    "mt.to_excel()\n",
    "mt.to_csv()\n",
    "#%%%% Working with row and col position and values\n",
    "mt.index\n",
    "mt.columns\n",
    "mt\n",
    "#get and set values\n",
    "mt.at['Fiat 128','mpg']  #df.at['row','col'] #labels\n",
    "mt.loc['Fiat 128','mpg']  #same as above\n",
    "mt['mpg'].at['Fiat 128']  #same as above\n",
    "mt.iat[30,0]\n",
    "mt.iloc[30,0]\n",
    "#mt.ix  #not avl now\n",
    "#slicing & setting----\n",
    "mt.loc['Mazda RX4':'Fiat 128', 'mpg':'hp']\n",
    "mt.iloc[28:30,0:5]  #cross section\n",
    "mt.iloc[:5,11:]  #cross section\n",
    "mt.iloc[5,:]  #row as series\n",
    "mt.iloc[:,0]  #col as series\n",
    "mt.iloc[:,0:2]  #col as series"
   ]
  },
  {
   "cell_type": "code",
   "execution_count": null,
   "id": "f87e357f",
   "metadata": {},
   "outputs": [],
   "source": [
    "#select cols\n",
    "mt['mpg'] #series\n",
    "mt[['mpg']]  #DF\n",
    "mt[['mpg','wt']]  #list of cols\n",
    "mt[mt['mpg']]  #col as series\n",
    "#select rows\n",
    "mt[['mpg','wt']]\n",
    "mt2 = mt.reset_index()# index as integers\n",
    "mt2[['mpg','wt']]\n",
    "mt2[1:5]\n",
    "mt2[mt2['mpg'] > 25, 'mpg']\n",
    "mt2.loc[3:5]\n",
    "mt2.iloc[0]"
   ]
  },
  {
   "cell_type": "code",
   "execution_count": null,
   "id": "bf3efe80",
   "metadata": {
    "lines_to_next_cell": 2
   },
   "outputs": [],
   "source": [
    "#select/filter\n",
    "mt.filter(items=['mpg','am'])\n",
    "mt2.filter(items=[5], axis=0)\n",
    "mt2.filter(like='m')\n",
    "mt.filter(like='Ma', axis=0)\n",
    "mt.filter(regex='p')"
   ]
  },
  {
   "cell_type": "code",
   "execution_count": null,
   "id": "6c5cdefd",
   "metadata": {},
   "outputs": [],
   "source": [
    "#%%% indexing\n",
    "len(mt)\n",
    "range(len(mt))\n",
    "mt.reindex(index=range(len(mt)))\n",
    "mt2\n",
    "mt2.index.has_duplicates\n",
    "mt2.index.is_monotonic_increasing\n",
    "mt2.index.nlevels\n",
    "mt.index.nlevels"
   ]
  },
  {
   "cell_type": "code",
   "execution_count": null,
   "id": "24d5f2e5",
   "metadata": {},
   "outputs": [],
   "source": [
    "mt2.index.nunique\n",
    "mt2.index.min()\n",
    "mt2.index.max()\n",
    "mt.index.min()\n",
    "mt.index.max()\n",
    "#group by index\n",
    "mt.groupby(level=0).size()\n",
    "#create index col as gear\n",
    "mt2B = mt.set_index('gear')\n",
    "mt2B.groupby(level=0).size()"
   ]
  },
  {
   "cell_type": "code",
   "execution_count": null,
   "id": "dac463f6",
   "metadata": {},
   "outputs": [],
   "source": [
    "#%%% SUMMARIES\n",
    "mt.dtypes\n",
    "mt.cyl.value_counts()\n",
    "mt['cyl'].value_counts()\n",
    "mt['cyl'].value_counts().reset_index()\n",
    "mt['cyl'].value_counts().reset_index(name='count')\n",
    "mt.groupby('cyl').size() #.group.reset_index(name='count')\n",
    "mt.groupby('cyl').size().reset_index(name='count')"
   ]
  },
  {
   "cell_type": "code",
   "execution_count": null,
   "id": "f9e1c812",
   "metadata": {},
   "outputs": [],
   "source": [
    "mt.groupby(['am','cyl','gear']).size()\n",
    "mt.groupby(['am','cyl'])['gear'].count()\n",
    "mt.groupby(['am','cyl'])['gear'].agg('count')\n",
    "#resetindex\n",
    "mt.groupby(['am','cyl'])['gear'].agg('count').reset_index() #flat table\n",
    "mt.groupby(['am','cyl'], as_index=False)['gear'].agg('count') #flat table"
   ]
  },
  {
   "cell_type": "code",
   "execution_count": null,
   "id": "30cbd838",
   "metadata": {},
   "outputs": [],
   "source": [
    "mt.groupby('cyl').value_counts()"
   ]
  },
  {
   "cell_type": "code",
   "execution_count": null,
   "id": "dc993584",
   "metadata": {},
   "outputs": [],
   "source": [
    "#multiple summaries\n",
    "mt.groupby(['am','gear'])['mpg'].agg('mean')\n",
    "mt.groupby(['am','gear'], as_index=False)['mpg'].agg('mean').fillna('100')\n",
    "mt.groupby(['am','gear'], as_index=False)['mpg'].agg(['count','mean'])\n",
    "mt.groupby(['am','gear'], as_index=False)['mpg'].agg(['count','mean']).reset_index()"
   ]
  },
  {
   "cell_type": "code",
   "execution_count": null,
   "id": "1f12f2ee",
   "metadata": {},
   "outputs": [],
   "source": [
    "#not best way\n",
    "mt.groupby(['am','gear'], as_index=False)['hp', 'mpg'].agg(['count','mean'] ).reset_index()\n",
    "mt.groupby(['am','gear']).agg({'hp':['count','mean'], 'mpg':['min', 'max']}).reset_index()\n",
    "mt.groupby(['am','gear'], as_index=False).agg({'hp':['count','mean'], 'mpg':['min', 'max']})\n",
    "#https://github.com/DUanalytics/pyAnalytics/blob/master/91-CaseStudy/case_grouping.py\n",
    "%%%Missing Data\n",
    "mtS1A = mt.groupby(['gear','am']).size().reset_index(name='count')\n",
    "mtS1A\n",
    "mtS1B = mt.groupby(['gear','am'])['mpg'].agg(np.mean).reset_index()\n",
    "mtS1B\n",
    "mtS1C = mt.groupby(['gear','am']).agg({'mpg':np.mean, 'wt':[np.min, np.max]}).reset_index()\n",
    "mtS1C #2 levels of index\n",
    "mtS1C.columns.levels\n",
    "mtS1C.columns.droplevel()\n",
    "mtS1C.droplevel(0, axis='columns')\n",
    "mtS1C.columns.get_level_values(1)\n",
    "mtS1C.columns.get_level_values(0)"
   ]
  },
  {
   "cell_type": "code",
   "execution_count": null,
   "id": "7c59a779",
   "metadata": {},
   "outputs": [],
   "source": [
    "mtS1C.xs\n",
    "mtS1C2 = mtS1C.droplevel(0, axis='columns')\n",
    "mtS1C2\n",
    "mtS1C2.columns = ['gear','am','meanMPG','minWt','maxWt']\n",
    "mtS1C2"
   ]
  },
  {
   "cell_type": "code",
   "execution_count": null,
   "id": "62a807bc",
   "metadata": {},
   "outputs": [],
   "source": [
    "%%%Pandas Plots\n",
    "#plot-kind\n",
    "mt.groupby('gear').size()\n",
    "mt.groupby('gear').size().plot(kind='bar')\n",
    "mt.groupby('carb').size().plot(kind='barh')\n",
    "mt.mpg.plot(kind='hist')\n",
    "mt.hp.plot(kind='box')\n",
    "mt.hp.plot(kind='kde')\n",
    "mt.hp.plot(kind='density')\n",
    "mt.plot.scatter(x='wt', y='mpg', c='hp', colormap='winter_r') #DF\n",
    "mt.groupby('cyl').size().plot(kind='pie')\n",
    "mt.groupby('cyl').size().plot(kind='pie')"
   ]
  },
  {
   "cell_type": "code",
   "execution_count": null,
   "id": "0f13a6f9",
   "metadata": {},
   "outputs": [],
   "source": [
    "#grouping-rename-wide-long\n",
    "mt.groupby(['gear','am']).agg({'mpg':np.mean}).reset_index()\n",
    "mt.groupby(['gear','am']).agg({'mpg':np.mean}).reset_index().set_index(keys='gear')\n",
    "mtS2A= mt.groupby(['gear','am']).agg({'mpg':np.mean} ).reset_index().pivot_table( index='gear', columns='am', values='mpg', fill_value=0).add_prefix('am')\n",
    "mtS2A\n",
    "mtS2B= mt.groupby(['gear','am']).agg({'mpg':np.mean} ).reset_index().pivot_table( index='gear', columns='am', values='mpg', fill_value=0).add_prefix('am').reset_index()\n",
    "mtS2B"
   ]
  },
  {
   "cell_type": "code",
   "execution_count": null,
   "id": "7c908d61",
   "metadata": {},
   "outputs": [],
   "source": [
    "#DF---\n",
    "mt[['hp','mpg']].plot.scatter(x='mpg', y='hp',c='b') #DF\n",
    "mt.plot.scatter(x='mpg', y='hp', c='gear', colormap='viridis') #DF\n",
    "mt.sort_values(by='wt').plot.line(x='wt', y='mpg',c='g')  #line better with TS\n",
    "mtS2A.plot.area(y='am1')  #x will be index\n",
    "mtS2B.plot.area(x='gear', y='am1')  #x will be index gear col\n",
    "#mtS2A has index, mtS2B does not have\n",
    "mtS2A.plot.area(stacked=True, title='Area Pandas Plot- Stacked')\n",
    "mtS2A.plot.area(stacked=False, table=True, title='Area Pandas Plot')"
   ]
  },
  {
   "cell_type": "code",
   "execution_count": null,
   "id": "4e7835ea",
   "metadata": {
    "lines_to_next_cell": 2
   },
   "outputs": [],
   "source": []
  },
  {
   "cell_type": "code",
   "execution_count": null,
   "id": "0cbf50e2",
   "metadata": {},
   "outputs": [],
   "source": [
    "#subplots------\n",
    "mt.sort_values(by='wt').plot.line(x='wt', y='mpg', subplots=False)\n",
    "mtS2B.plot.area(x='gear', stacked=False, subplots=True)\n",
    "mtS2A.plot.line(subplots=True, legend=True)"
   ]
  },
  {
   "cell_type": "code",
   "execution_count": null,
   "id": "cc9c6be0",
   "metadata": {},
   "outputs": [],
   "source": []
  },
  {
   "cell_type": "markdown",
   "id": "90ed7e26",
   "metadata": {},
   "source": [
    "%%% Matplotlib Plots"
   ]
  },
  {
   "cell_type": "code",
   "execution_count": null,
   "id": "f060f91b",
   "metadata": {},
   "outputs": [],
   "source": [
    "plt.plot((1,2,3,4))\n",
    "plt.ylabel('Some Numbers')\n",
    "plt.show();\n",
    "#--------\n",
    "plt.plot([1,2,3,4],[4,8,3,5], 'ro')\n",
    "plt.axis([0,5,0,10])   #axis dim : x, y\n",
    "plt.ylabel('Some x & y Numbers')\n",
    "plt.show();\n",
    "#-----------\n",
    "t = np.arange(start=10, stop=100, step=5)\n",
    "t\n",
    "plt.plot(t, t, 'r--')\n",
    "plt.show();"
   ]
  },
  {
   "cell_type": "code",
   "execution_count": null,
   "id": "f0f54fd4",
   "metadata": {},
   "outputs": [],
   "source": [
    "plt.plot(t, t, 'r--',   t, t**2, 'bs',  t, t**3/100, 'g^')\n",
    "plt.show(); # x1,y1; x2,y2; x3,y3"
   ]
  },
  {
   "cell_type": "code",
   "execution_count": null,
   "id": "f99a040d",
   "metadata": {},
   "outputs": [],
   "source": [
    "plt.plot(t, linestyle='dotted', color='r', linewidth=5)\n",
    "plt.plot(t*2, linestyle='dashed', color='hotpink', linewidth='20')\n",
    "plt.plot(t*3, ls=':', c='#4CAF50', linewidth='10')\n",
    "plt.show();\n",
    "#linestyles = -, :, --, -., \", ''\n",
    "%%%bars\n",
    "x = np.array([\"A\", \"B\", \"C\", \"D\"])\n",
    "y = np.array([3, 8, 1, 10])\n",
    "plt.bar(x,y)\n",
    "plt.show();"
   ]
  },
  {
   "cell_type": "code",
   "execution_count": null,
   "id": "8413ad6d",
   "metadata": {},
   "outputs": [],
   "source": [
    "plt.barh(x, y)\n",
    "plt.show();"
   ]
  },
  {
   "cell_type": "code",
   "execution_count": null,
   "id": "1260b563",
   "metadata": {},
   "outputs": [],
   "source": [
    "plt.bar(x, y, color = \"red\", width=.7)\n",
    "plt.show();"
   ]
  },
  {
   "cell_type": "code",
   "execution_count": null,
   "id": "e3eb3752",
   "metadata": {},
   "outputs": [],
   "source": [
    "plt.barh(x, y, color = \"blue\", height=.5)\n",
    "plt.show();\n",
    "#%%% Histogram\n",
    "x = np.random.normal(170, 10, 250)\n",
    "x"
   ]
  },
  {
   "cell_type": "code",
   "execution_count": null,
   "id": "3cb8dbb3",
   "metadata": {
    "lines_to_next_cell": 2
   },
   "outputs": [],
   "source": [
    "plt.hist(x)\n",
    "plt.show();"
   ]
  },
  {
   "cell_type": "code",
   "execution_count": null,
   "id": "e74e796f",
   "metadata": {},
   "outputs": [],
   "source": [
    "#%%% Pie\n",
    "y = np.array([35, 25, 25, 15])\n",
    "mylabels = [\"Apples\", \"Bananas\", \"Cherries\", \"Dates\"]\n",
    "plt.pie(y)\n",
    "plt.show() ;"
   ]
  },
  {
   "cell_type": "code",
   "execution_count": null,
   "id": "9af832ba",
   "metadata": {},
   "outputs": [],
   "source": [
    "plt.pie(y, labels = mylabels)\n",
    "plt.show() ;"
   ]
  },
  {
   "cell_type": "code",
   "execution_count": null,
   "id": "f900abbb",
   "metadata": {},
   "outputs": [],
   "source": [
    "plt.pie(y, labels = mylabels, startangle = 180)\n",
    "plt.show() ;# 1st wedge at 180, dates-Apples"
   ]
  },
  {
   "cell_type": "code",
   "execution_count": null,
   "id": "fe6178dc",
   "metadata": {
    "lines_to_next_cell": 2
   },
   "outputs": [],
   "source": [
    "myexplode = [0.5, 0, 0, 0]\n",
    "mycolors = [\"black\", \"hotpink\", \"b\", \"#4CAF50\"]\n",
    "plt.pie(y, labels = mylabels, explode = myexplode, shadow=True, colors=mycolors)\n",
    "plt.legend()\n",
    "plt.legend(title = \"Four Fruits:\")\n",
    "plt.show() ;#wedge 0.5 from the center of the pie\n",
    "#colors - r, g, b, c, m, y, k, w\n",
    "#%%% Seaborn\n",
    "sns.pairplot(mt)"
   ]
  },
  {
   "cell_type": "markdown",
   "id": "9428d8b3",
   "metadata": {},
   "source": [
    "%%% pending topics\n",
    "drop col\n",
    "merge DF\n",
    "join DF\n",
    "concat DF\n",
    "search for values\n",
    "regex\n",
    "create dict from DF\n",
    "import from different sources\n",
    "set datatypes when importing\n",
    "duplicates\n",
    "missing values\n",
    "is in \n",
    "pivot table\n",
    "crosstab\n",
    "reshape/melt\n",
    "stack/unstack\n",
    "datetime manipulation"
   ]
  }
 ],
 "metadata": {
  "jupytext": {
   "cell_metadata_filter": "-all",
   "encoding": "# -*- coding: utf-8 -*-",
   "main_language": "python",
   "notebook_metadata_filter": "-all"
  },
  "kernelspec": {
   "display_name": "Python 3 (Spyder)",
   "language": "python3",
   "name": "python3"
  },
  "language_info": {
   "codemirror_mode": {
    "name": "ipython",
    "version": 3
   },
   "file_extension": ".py",
   "mimetype": "text/x-python",
   "name": "python",
   "nbconvert_exporter": "python",
   "pygments_lexer": "ipython3",
   "version": "3.9.16"
  }
 },
 "nbformat": 4,
 "nbformat_minor": 5
}
