{
 "cells": [
  {
   "cell_type": "markdown",
   "id": "2f5b1c47",
   "metadata": {},
   "source": [
    "# Resume Scanner/ Assessor\n",
    "-  https://www.machinelearningplus.com/nlp/cosine-similarity/\n",
    "-  https://pymupdf.readthedocs.io/en/latest/the-basics.html"
   ]
  },
  {
   "cell_type": "code",
   "execution_count": 15,
   "id": "193361d8",
   "metadata": {},
   "outputs": [],
   "source": [
    "#!pip install resume-parser\n",
    "#!pip install spaCy\n",
    "#!pip install aspose-words\n",
    "#!pip install fitz\n",
    "#!pip install frontend\n",
    "#!pip3 install PyMuPDF\n",
    "#!pip install docx2pdf"
   ]
  },
  {
   "cell_type": "code",
   "execution_count": 57,
   "id": "99c8c82a",
   "metadata": {},
   "outputs": [],
   "source": [
    "import docx2txt\n",
    "from sklearn.feature_extraction.text import CountVectorizer\n",
    "from sklearn.metrics.pairwise import cosine_similarity\n",
    "import os\n",
    "import aspose.words as aw\n",
    "import fitz\n",
    "import pandas as pd"
   ]
  },
  {
   "cell_type": "code",
   "execution_count": 17,
   "id": "a96bbcbc",
   "metadata": {},
   "outputs": [
    {
     "data": {
      "text/plain": [
       "'jdFaculty.docx'"
      ]
     },
     "execution_count": 17,
     "metadata": {},
     "output_type": "execute_result"
    }
   ],
   "source": [
    "jdDoc = 'E:/auData/hr/cv/jd/jdFaculty.docx'\n",
    "', '.join(os.listdir('E:/auData/hr/cv/jd/'))"
   ]
  },
  {
   "cell_type": "code",
   "execution_count": 18,
   "id": "886f44a3",
   "metadata": {},
   "outputs": [
    {
     "data": {
      "text/plain": [
       "'DrDayanand.pdf, DrJAnitha.pdf, DrPunamKumari.pdf, DrSwaranlatha.docx, DrSwaranlatha.pdf'"
      ]
     },
     "execution_count": 18,
     "metadata": {},
     "output_type": "execute_result"
    }
   ],
   "source": [
    "cvPath = 'E:/auData/hr/cv/cvset1/'\n",
    "', '.join(os.listdir(cvPath))"
   ]
  },
  {
   "cell_type": "code",
   "execution_count": 25,
   "id": "e445609c",
   "metadata": {},
   "outputs": [],
   "source": [
    "#job description file to strings of text\n",
    "JD = docx2txt.process(jdDoc)\n",
    "#print(JD)"
   ]
  },
  {
   "cell_type": "markdown",
   "id": "3c234b6a",
   "metadata": {},
   "source": [
    "-  import aspose.words as aw\n",
    "-  doc = aw.Document(\"xxxx.docx\")\n",
    "-  doc.save(\"xxx.pdf\")"
   ]
  },
  {
   "cell_type": "code",
   "execution_count": 26,
   "id": "2c2f3ed2",
   "metadata": {},
   "outputs": [
    {
     "data": {
      "text/plain": [
       "'DrSwaranlatha.docx'"
      ]
     },
     "execution_count": 26,
     "metadata": {},
     "output_type": "execute_result"
    }
   ],
   "source": [
    "#select only word files\n",
    "wordfiles = []\n",
    "for file in os.listdir(cvPath):\n",
    "    if file.endswith('.docx'):\n",
    "        wordfiles.append(file)\n",
    "', '.join(wordfiles)"
   ]
  },
  {
   "cell_type": "code",
   "execution_count": 27,
   "id": "2767e721",
   "metadata": {},
   "outputs": [
    {
     "data": {
      "text/plain": [
       "'DrDayanand.pdf, DrJAnitha.pdf, DrPunamKumari.pdf, DrSwaranlatha.pdf'"
      ]
     },
     "execution_count": 27,
     "metadata": {},
     "output_type": "execute_result"
    }
   ],
   "source": [
    "#select only pdf files\n",
    "pdffiles = []\n",
    "for file in os.listdir(cvPath):\n",
    "    if file.endswith('.pdf'):\n",
    "       pdffiles.append(file)\n",
    "', '.join(pdffiles)"
   ]
  },
  {
   "cell_type": "code",
   "execution_count": 28,
   "id": "82cd4204",
   "metadata": {},
   "outputs": [
    {
     "name": "stdout",
     "output_type": "stream",
     "text": [
      "4\n"
     ]
    }
   ],
   "source": [
    "fileCount = len(pdffiles)\n",
    "print(fileCount)"
   ]
  },
  {
   "cell_type": "code",
   "execution_count": 71,
   "id": "c516c4e1",
   "metadata": {},
   "outputs": [],
   "source": [
    "from sklearn.feature_extraction.text import CountVectorizer\n",
    "cv=CountVectorizer(analyzer='word', stop_words='english')\n",
    "path = 'E:/auData/hr/cv/cvset1/'"
   ]
  },
  {
   "cell_type": "code",
   "execution_count": 72,
   "id": "4f8d1336",
   "metadata": {},
   "outputs": [],
   "source": [
    "import fitz"
   ]
  },
  {
   "cell_type": "code",
   "execution_count": 73,
   "id": "a12e5e5b",
   "metadata": {},
   "outputs": [
    {
     "name": "stdout",
     "output_type": "stream",
     "text": [
      "Curriculum vitae \n",
      " \n",
      "Dr. S\n"
     ]
    }
   ],
   "source": [
    "# extract content from single pdf file\n",
    "doc = fitz.open('E:/auData/hr/cv/cvset1/DrSwaranlatha.pdf')\n",
    "text = \"\"\n",
    "for page in doc:   text += page.get_text()\n",
    "print(text[0:25])"
   ]
  },
  {
   "cell_type": "code",
   "execution_count": 74,
   "id": "dbb99cc1",
   "metadata": {},
   "outputs": [],
   "source": [
    "from sklearn.metrics.pairwise import cosine_similarity\n",
    "candidate =[ ]\n",
    "candSimilarity = []\n",
    "for i in range(fileCount):\n",
    "    fileLoc = path  + pdffiles[i]\n",
    "    #print(fileLoc)\n",
    "    doc = fitz.open(fileLoc)   #open file\n",
    "    text = \"\"\n",
    "    for page in doc:   text+=page.get_text()  #get text\n",
    "    content=[JD, text]\n",
    "    vector = cv.fit_transform(content)\n",
    "    similarity=cosine_similarity(vector)\n",
    "    #print(f'{pdffiles[i]}: Resume match by: '+ str(round((similarity[1][0]*100),2))+'%')\n",
    "    #print(fileLoc)\n",
    "    candidate.append(pdffiles[i])\n",
    "    candSimilarity.append(round((similarity[1][0]*100),2))\n",
    "    #return candidate, candSimilarity"
   ]
  },
  {
   "cell_type": "code",
   "execution_count": 75,
   "id": "31c4c2b0",
   "metadata": {},
   "outputs": [
    {
     "data": {
      "text/plain": [
       "(['DrDayanand.pdf', 'DrJAnitha.pdf', 'DrPunamKumari.pdf', 'DrSwaranlatha.pdf'],\n",
       " [14.95, 13.71, 15.25, 15.99])"
      ]
     },
     "execution_count": 75,
     "metadata": {},
     "output_type": "execute_result"
    }
   ],
   "source": [
    "candidate, candSimilarity"
   ]
  },
  {
   "cell_type": "code",
   "execution_count": 76,
   "id": "94c962a3",
   "metadata": {},
   "outputs": [
    {
     "data": {
      "text/html": [
       "<div>\n",
       "<style scoped>\n",
       "    .dataframe tbody tr th:only-of-type {\n",
       "        vertical-align: middle;\n",
       "    }\n",
       "\n",
       "    .dataframe tbody tr th {\n",
       "        vertical-align: top;\n",
       "    }\n",
       "\n",
       "    .dataframe thead th {\n",
       "        text-align: right;\n",
       "    }\n",
       "</style>\n",
       "<table border=\"1\" class=\"dataframe\">\n",
       "  <thead>\n",
       "    <tr style=\"text-align: right;\">\n",
       "      <th></th>\n",
       "      <th>candidate</th>\n",
       "      <th>similarity</th>\n",
       "    </tr>\n",
       "  </thead>\n",
       "  <tbody>\n",
       "    <tr>\n",
       "      <th>1</th>\n",
       "      <td>DrJAnitha.pdf</td>\n",
       "      <td>13.71</td>\n",
       "    </tr>\n",
       "    <tr>\n",
       "      <th>0</th>\n",
       "      <td>DrDayanand.pdf</td>\n",
       "      <td>14.95</td>\n",
       "    </tr>\n",
       "    <tr>\n",
       "      <th>2</th>\n",
       "      <td>DrPunamKumari.pdf</td>\n",
       "      <td>15.25</td>\n",
       "    </tr>\n",
       "    <tr>\n",
       "      <th>3</th>\n",
       "      <td>DrSwaranlatha.pdf</td>\n",
       "      <td>15.99</td>\n",
       "    </tr>\n",
       "  </tbody>\n",
       "</table>\n",
       "</div>"
      ],
      "text/plain": [
       "           candidate  similarity\n",
       "1      DrJAnitha.pdf       13.71\n",
       "0     DrDayanand.pdf       14.95\n",
       "2  DrPunamKumari.pdf       15.25\n",
       "3  DrSwaranlatha.pdf       15.99"
      ]
     },
     "execution_count": 76,
     "metadata": {},
     "output_type": "execute_result"
    }
   ],
   "source": [
    "cvScore = pd.DataFrame({'candidate':candidate, 'similarity':candSimilarity})\n",
    "cvScore.sort_values(by='similarity')"
   ]
  },
  {
   "cell_type": "code",
   "execution_count": 65,
   "id": "1ee4a108",
   "metadata": {},
   "outputs": [],
   "source": [
    "# convert doc\n",
    "from docx2pdf import convert\n",
    "inputFile =  'E:/auData/hr/cv/cvset1/DrSwaranlatha.doc'\n",
    "outputFile =  'E:/auData/hr/cv/cvset1/DrSwaranlatha1.pdf'\n",
    "docFolder = 'E:/auData/hr/cv/cvset1/'\n",
    "#convert(inputFile)\n",
    "#convert(inputFile, outputFile)\n",
    "#convert(docFolder)  #see that pdf file does not exist"
   ]
  },
  {
   "cell_type": "code",
   "execution_count": 7,
   "id": "e5ad96dd",
   "metadata": {},
   "outputs": [
    {
     "data": {
      "text/plain": [
       "array(['audata', 'cv', 'cvset1', 'doc', 'drswaranlatha', 'hr'],\n",
       "      dtype=object)"
      ]
     },
     "execution_count": 7,
     "metadata": {},
     "output_type": "execute_result"
    }
   ],
   "source": [
    "cv.get_feature_names_out()"
   ]
  },
  {
   "cell_type": "markdown",
   "id": "872c2ee9",
   "metadata": {},
   "source": [
    "### Convert PDF to doc - Not Working\n",
    "#!pip install pypdf2\n",
    "#!pip install pdf2docx\n",
    "import PyPDF2\n",
    "import numpy as np\n",
    "#from pdf2docx import Converter\n",
    "pdfPath = 'E:/auData/hr/cv/cvset1/DrSwaranlatha.pdf'\n",
    "\n",
    "with open(pdfPath, mode='rb') as f:\n",
    "    reader = PyPDF2.PdfReader(f)\n",
    "    numOfPages = len(reader.pages)\n",
    "    for i in range(0, numOfPages):\n",
    "        print(\"Page Number: \" + str(i))\n",
    "        print(\"- - - - - - - - - - - - - - - - - - - -\")\n",
    "        pageObj = reader.pages[i]\n",
    "        print(pageObj.extract_text)\n",
    "        print(\"- - - - - - - - - - - - - - - - - - - -\")\n",
    "def scan_resume(resume):\n",
    "    from resume_parser import resumeparse\n",
    "    data = resumeparse.read_file(resume)\n",
    "    for i, j in data.items():\n",
    "        print(f\"{i}:>>{j}\")\n",
    "scan_resume(cvPDF)"
   ]
  },
  {
   "cell_type": "code",
   "execution_count": null,
   "id": "76b5fa48",
   "metadata": {},
   "outputs": [],
   "source": []
  },
  {
   "cell_type": "code",
   "execution_count": null,
   "id": "40c15f5c",
   "metadata": {},
   "outputs": [],
   "source": []
  }
 ],
 "metadata": {
  "kernelspec": {
   "display_name": "Python 3 (ipykernel)",
   "language": "python",
   "name": "python3"
  },
  "language_info": {
   "codemirror_mode": {
    "name": "ipython",
    "version": 3
   },
   "file_extension": ".py",
   "mimetype": "text/x-python",
   "name": "python",
   "nbconvert_exporter": "python",
   "pygments_lexer": "ipython3",
   "version": "3.9.16"
  }
 },
 "nbformat": 4,
 "nbformat_minor": 5
}
