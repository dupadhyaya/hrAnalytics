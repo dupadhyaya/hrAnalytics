{
 "cells": [
  {
   "cell_type": "markdown",
   "id": "d78b1210",
   "metadata": {},
   "source": [
    "# command List"
   ]
  },
  {
   "cell_type": "code",
   "execution_count": 7,
   "id": "adcb9145",
   "metadata": {},
   "outputs": [],
   "source": [
    "# Standard Libraries\n",
    "import pandas as pd\n",
    "import numpy as np\n",
    "import matplotlib.pyplot as plt\n",
    "import seaborn as sns\n",
    "from pydataset import data\n",
    "\n",
    "df = data('mtcars')"
   ]
  },
  {
   "cell_type": "markdown",
   "id": "9d6bd7fe",
   "metadata": {},
   "source": [
    "## Group by : split - apply- combine\n",
    "https://pandas.pydata.org/docs/user_guide/groupby.html\n",
    "\n",
    "-  Splitting the data into groups based on some criteria.\n",
    "-  Applying a function to each group independently.\n",
    "-  Combining the results into a data structure.\n",
    "<br> Out of these, the split step is the most straightforward. In fact, in many situations we may wish to split the data set into groups and do something with those groups. In the apply step, we might wish to do one of the following:\n",
    "-  Aggregation: compute a summary statistic (or statistics) for each group. Some examples:\n",
    "-  Compute group sums or means.\n",
    "-  Compute group sizes / counts.\n",
    "<br> Transformation: perform some group-specific computations and return a like-indexed object. Some examples:\n",
    "-  Standardize data (zscore) within a group.\n",
    "-  Filling NAs within groups with a value derived from each group.\n",
    "<br> Filtration: discard some groups, according to a group-wise computation that evaluates True or False. Some examples:\n",
    "-  Discard data that belongs to groups with only a few members.\n",
    "-  Filter out data based on the group sum or mean."
   ]
  },
  {
   "cell_type": "code",
   "execution_count": 21,
   "id": "81fa6e5b",
   "metadata": {},
   "outputs": [
    {
     "data": {
      "text/plain": [
       "<pandas.core.groupby.generic.SeriesGroupBy object at 0x000001BD806D8E50>"
      ]
     },
     "execution_count": 21,
     "metadata": {},
     "output_type": "execute_result"
    }
   ],
   "source": [
    "grouped = df.groupby('gear', axis=0) #axis = 0 (Columns)\n",
    "grouped.first()\n",
    "grouped.last()\n",
    "grouped.sum()\n",
    "df.groupby(['gear'], sort=True).sum()\n",
    "df.groupby(['gear']).get_group(3)\n",
    "df.groupby(['gear']).groups\n",
    "len(grouped)\n",
    "grouped['gear']"
   ]
  },
  {
   "cell_type": "markdown",
   "id": "a1ccd5ed",
   "metadata": {},
   "source": [
    "df.groupby(by='gear', dropna=True).sum()"
   ]
  },
  {
   "cell_type": "markdown",
   "id": "0495fce1",
   "metadata": {},
   "source": [
    "for name, group in grouped:\n",
    "    print(name)\n",
    "    print(group)"
   ]
  },
  {
   "cell_type": "markdown",
   "id": "c381197a",
   "metadata": {},
   "source": [
    "for name, group in df.groupby(['gear', 'am']):\n",
    "    print(name)\n",
    "    print(group)"
   ]
  },
  {
   "cell_type": "code",
   "execution_count": 25,
   "id": "794078ac",
   "metadata": {},
   "outputs": [
    {
     "data": {
      "text/html": [
       "<div>\n",
       "<style scoped>\n",
       "    .dataframe tbody tr th:only-of-type {\n",
       "        vertical-align: middle;\n",
       "    }\n",
       "\n",
       "    .dataframe tbody tr th {\n",
       "        vertical-align: top;\n",
       "    }\n",
       "\n",
       "    .dataframe thead th {\n",
       "        text-align: right;\n",
       "    }\n",
       "</style>\n",
       "<table border=\"1\" class=\"dataframe\">\n",
       "  <thead>\n",
       "    <tr style=\"text-align: right;\">\n",
       "      <th></th>\n",
       "      <th>gear</th>\n",
       "      <th>am</th>\n",
       "      <th>mpg</th>\n",
       "      <th>cyl</th>\n",
       "      <th>disp</th>\n",
       "      <th>hp</th>\n",
       "      <th>drat</th>\n",
       "      <th>wt</th>\n",
       "      <th>qsec</th>\n",
       "      <th>vs</th>\n",
       "      <th>carb</th>\n",
       "    </tr>\n",
       "  </thead>\n",
       "  <tbody>\n",
       "    <tr>\n",
       "      <th>0</th>\n",
       "      <td>3</td>\n",
       "      <td>0</td>\n",
       "      <td>241.6</td>\n",
       "      <td>112</td>\n",
       "      <td>4894.5</td>\n",
       "      <td>2642</td>\n",
       "      <td>46.99</td>\n",
       "      <td>58.389</td>\n",
       "      <td>265.38</td>\n",
       "      <td>3</td>\n",
       "      <td>40</td>\n",
       "    </tr>\n",
       "    <tr>\n",
       "      <th>1</th>\n",
       "      <td>4</td>\n",
       "      <td>0</td>\n",
       "      <td>84.2</td>\n",
       "      <td>20</td>\n",
       "      <td>622.7</td>\n",
       "      <td>403</td>\n",
       "      <td>15.45</td>\n",
       "      <td>13.220</td>\n",
       "      <td>80.10</td>\n",
       "      <td>4</td>\n",
       "      <td>12</td>\n",
       "    </tr>\n",
       "    <tr>\n",
       "      <th>2</th>\n",
       "      <td>4</td>\n",
       "      <td>1</td>\n",
       "      <td>210.2</td>\n",
       "      <td>36</td>\n",
       "      <td>853.5</td>\n",
       "      <td>671</td>\n",
       "      <td>33.07</td>\n",
       "      <td>18.180</td>\n",
       "      <td>147.48</td>\n",
       "      <td>6</td>\n",
       "      <td>16</td>\n",
       "    </tr>\n",
       "    <tr>\n",
       "      <th>3</th>\n",
       "      <td>5</td>\n",
       "      <td>1</td>\n",
       "      <td>106.9</td>\n",
       "      <td>30</td>\n",
       "      <td>1012.4</td>\n",
       "      <td>978</td>\n",
       "      <td>19.58</td>\n",
       "      <td>13.163</td>\n",
       "      <td>78.20</td>\n",
       "      <td>1</td>\n",
       "      <td>22</td>\n",
       "    </tr>\n",
       "  </tbody>\n",
       "</table>\n",
       "</div>"
      ],
      "text/plain": [
       "   gear  am    mpg  cyl    disp    hp   drat      wt    qsec  vs  carb\n",
       "0     3   0  241.6  112  4894.5  2642  46.99  58.389  265.38   3    40\n",
       "1     4   0   84.2   20   622.7   403  15.45  13.220   80.10   4    12\n",
       "2     4   1  210.2   36   853.5   671  33.07  18.180  147.48   6    16\n",
       "3     5   1  106.9   30  1012.4   978  19.58  13.163   78.20   1    22"
      ]
     },
     "execution_count": 25,
     "metadata": {},
     "output_type": "execute_result"
    }
   ],
   "source": [
    "df.groupby(['gear', 'am'], as_index=False).sum()"
   ]
  },
  {
   "cell_type": "markdown",
   "id": "d73301e7",
   "metadata": {},
   "source": [
    "## build in aggregations\n",
    "-  any() = Compute whether any of the values in the groups are truthy\n",
    "-  all() = Compute whether all of the values in the groups are truthy\n",
    "-  count() = Compute the number of non-NA values in the groups\n",
    "-  cov() =  Compute the covariance of the groups, \n",
    "-  first() = Compute the first occurring value in each group\n",
    "-  idxmax() = Compute the index of the maximum value in each group\n",
    "-  idxmin() * = Compute the index of the minimum value in each group\n",
    "-  last() = Compute the last occurring value in each group\n",
    "-  max() = Compute the maximum value in each group\n",
    "-  mean() = Compute the mean of each group\n",
    "-  median() = Compute the median of each group\n",
    "-  min() = Compute the minimum value in each group\n",
    "-  nunique() = Compute the number of unique values in each group\n",
    "-  prod() = Compute the product of the values in each group\n",
    "-  quantile() = Compute a given quantile of the values in each group\n",
    "-  sem() = Compute the standard error of the mean of the values in each group\n",
    "-  size() = Compute the number of values in each group\n",
    "-  skew() * = Compute the skew of the values in each group\n",
    "-  std() = Compute the standard deviation of the values in each group\n",
    "-  sum() = Compute the sum of the values in each group\n",
    "-  var() = Compute the variance of the values in each group"
   ]
  },
  {
   "cell_type": "markdown",
   "id": "fe4207ad",
   "metadata": {},
   "source": [
    "## Aggregate Method\n",
    "The aggregate() method can accept many different types of inputs. This section details using string aliases for various GroupBy methods; other inputs are detailed in the sections below.\n",
    "Any reduction method that pandas implements can be passed as a string to aggregate(). Users are encouraged to use the shorthand, agg. It will operate as if the corresponding method was called"
   ]
  },
  {
   "cell_type": "markdown",
   "id": "061b9ff7",
   "metadata": {},
   "source": [
    "grouped.aggregate('sum')\n",
    "grouped.agg('sum')\n",
    "df.groupby(['gear', 'am'], as_index=False).agg('sum')\n",
    "df.groupby(['gear', 'am']).agg('sum').reset_index()  #same as above\n",
    "grouped['mpg'].agg(['sum','mean', 'min', 'max'])\n",
    "grouped[['mpg','wt']].agg(['sum','mean', 'min', 'max'])\n",
    "grouped['mpg'].agg(['sum','mean', 'min', 'max']).rename(columns={'sum':'SUMmpg', 'mean':'MEANmpg','min':'MINIMUM','max':'ABC'})\n",
    "grouped[['mpg','wt']].agg(['sum','mean', 'min', 'max']).rename(columns={'sum':'SUM', 'mean':'MEAN','min':'MIN','max':'MAX'})"
   ]
  },
  {
   "cell_type": "markdown",
   "id": "5d8ce4b1",
   "metadata": {},
   "source": [
    "#aggregation with User Defined Functions\n",
    "df.groupby(['gear'])['mpg'].agg(lambda x : x.astype(float).sum())\n",
    "grouped[['wt','mpg']].agg([lambda x: x.max() - x.min(), lambda x: x.median() - x.mean()])\n",
    "#grouped[['wt','mpg']].agg([lambda x: x.max() - x.min(), lambda x: x.median() - x.mean()]).rename(columns={'lambda_0':'Max_Min', 'lambda_1':'Med_Mean'}) "
   ]
  },
  {
   "cell_type": "markdown",
   "id": "0f4e40f4",
   "metadata": {},
   "source": [
    "### named aggregation\n",
    "grouped.agg(min_mpg=pd.NamedAgg(column=\"mpg\", aggfunc=\"min\"), max_wt=pd.NamedAgg(column=\"wt\", aggfunc=\"max\"),  average_hp=pd.NamedAgg(column=\"hp\", aggfunc=\"mean\"))\n",
    "grouped.agg(  min_mpg=(\"mpg\", \"min\"),  max_wt=(\"wt\", \"max\"), average_hp=(\"hp\", \"mean\"))\n",
    "#series\n",
    "grouped.mpg.agg(min_mpg ='min', max_mpg = 'max')\n",
    "grouped.agg({\"mpg\": \"sum\", \"wt\": lambda x: np.std(x, ddof=1)})"
   ]
  },
  {
   "cell_type": "code",
   "execution_count": 61,
   "id": "39a376a9",
   "metadata": {},
   "outputs": [
    {
     "data": {
      "text/plain": [
       "Mazda RX4               NaN\n",
       "Mazda RX4 Wag           0.0\n",
       "Datsun 710              1.8\n",
       "Hornet 4 Drive          NaN\n",
       "Hornet Sportabout      -2.7\n",
       "Valiant                -0.6\n",
       "Duster 360             -3.8\n",
       "Merc 240D               1.6\n",
       "Merc 230               -1.6\n",
       "Merc 280               -3.6\n",
       "Merc 280C              -1.4\n",
       "Merc 450SE              2.1\n",
       "Merc 450SL              0.9\n",
       "Merc 450SLC            -2.1\n",
       "Cadillac Fleetwood     -4.8\n",
       "Lincoln Continental     0.0\n",
       "Chrysler Imperial       4.3\n",
       "Fiat 128               14.6\n",
       "Honda Civic            -2.0\n",
       "Toyota Corolla          3.5\n",
       "Toyota Corona           6.8\n",
       "Dodge Challenger       -6.0\n",
       "AMC Javelin            -0.3\n",
       "Camaro Z28             -1.9\n",
       "Pontiac Firebird        5.9\n",
       "Fiat X1-9              -6.6\n",
       "Porsche 914-2           NaN\n",
       "Lotus Europa            4.4\n",
       "Ford Pantera L        -14.6\n",
       "Ferrari Dino            3.9\n",
       "Maserati Bora          -4.7\n",
       "Volvo 142E             -5.9\n",
       "Name: mpg, dtype: float64"
      ]
     },
     "execution_count": 61,
     "metadata": {},
     "output_type": "execute_result"
    }
   ],
   "source": [
    "###  Transformation\n",
    "grouped = df.groupby(\"gear\")[\"mpg\"]\n",
    "grouped\n",
    "grouped.cumsum()\n",
    "grouped.diff()\n"
   ]
  },
  {
   "cell_type": "markdown",
   "id": "df13473f",
   "metadata": {},
   "source": [
    "-  bfill() = Back fill NA values within each group\n",
    "-  cumcount() = Compute the cumulative count within each group\n",
    "-  cummax() = Compute the cumulative max within each group\n",
    "-  cummin() = Compute the cumulative min within each group\n",
    "-  cumprod() = Compute the cumulative product within each group\n",
    "-  cumsum() = Compute the cumulative sum within each group\n",
    "-  diff() = Compute the difference between adjacent values within each group\n",
    "-  ffill() = Forward fill NA values within each group\n",
    "-  fillna() = Fill NA values within each group\n",
    "-  pct_change() = Compute the percent change between adjacent values within each group\n",
    "-  rank() =  Compute the rank of each value within each group\n",
    "-  shift() = Shift values up or down within each group"
   ]
  },
  {
   "cell_type": "code",
   "execution_count": 70,
   "id": "e923754b",
   "metadata": {},
   "outputs": [
    {
     "data": {
      "text/plain": [
       "Mazda RX4              294.4\n",
       "Mazda RX4 Wag          294.4\n",
       "Datsun 710             294.4\n",
       "Hornet 4 Drive         241.6\n",
       "Hornet Sportabout      241.6\n",
       "Valiant                241.6\n",
       "Duster 360             241.6\n",
       "Merc 240D              294.4\n",
       "Merc 230               294.4\n",
       "Merc 280               294.4\n",
       "Merc 280C              294.4\n",
       "Merc 450SE             241.6\n",
       "Merc 450SL             241.6\n",
       "Merc 450SLC            241.6\n",
       "Cadillac Fleetwood     241.6\n",
       "Lincoln Continental    241.6\n",
       "Chrysler Imperial      241.6\n",
       "Fiat 128               294.4\n",
       "Honda Civic            294.4\n",
       "Toyota Corolla         294.4\n",
       "Toyota Corona          241.6\n",
       "Dodge Challenger       241.6\n",
       "AMC Javelin            241.6\n",
       "Camaro Z28             241.6\n",
       "Pontiac Firebird       241.6\n",
       "Fiat X1-9              294.4\n",
       "Porsche 914-2          106.9\n",
       "Lotus Europa           106.9\n",
       "Ford Pantera L         106.9\n",
       "Ferrari Dino           106.9\n",
       "Maserati Bora          106.9\n",
       "Volvo 142E             294.4\n",
       "Name: mpg, dtype: float64"
      ]
     },
     "execution_count": 70,
     "metadata": {},
     "output_type": "execute_result"
    }
   ],
   "source": [
    "grouped = df.groupby('gear')['mpg']\n",
    "grouped.describe()\n",
    "grouped.transform('sum')"
   ]
  },
  {
   "cell_type": "markdown",
   "id": "ee846bdd",
   "metadata": {},
   "source": [
    "## Pandas Options\n",
    "https://pandas.pydata.org/docs/user_guide/options.html\n",
    "get_option()\n",
    "set_option()\n",
    "reset_option()\n",
    "describe_options()\n",
    "#follow re.search style to match unambigious substrings\n"
   ]
  },
  {
   "cell_type": "code",
   "execution_count": 5,
   "id": "df94fe89",
   "metadata": {},
   "outputs": [],
   "source": [
    "#pd.describe_option()"
   ]
  },
  {
   "cell_type": "code",
   "execution_count": 1,
   "id": "ad0abdbc",
   "metadata": {},
   "outputs": [
    {
     "data": {
      "text/plain": [
       "999"
      ]
     },
     "execution_count": 1,
     "metadata": {},
     "output_type": "execute_result"
    }
   ],
   "source": [
    "import pandas as pd\n",
    "pd.options.display.max_rows\n",
    "pd.options.display.max_rows = 999\n",
    "pd.options.display.max_rows"
   ]
  },
  {
   "cell_type": "markdown",
   "id": "f910826c",
   "metadata": {},
   "source": [
    "- display.chop_threshold : float or None  #all float values < x will be displayed as 0\n",
    "- display.max_colwidth : display.max_colwidth : int or None =  The maximum width in characters of a column in the repr of a pandas data structure. When the column overflows, a \"...\" placeholder is embedded in the output. A 'None' value means unlimited.\n",
    "- display.max_rows : int =  If max_rows is exceeded, switch to truncate view. Depending on `large_repr`, objects are either centrally truncated or printed as  a summary view. 'None' value means unlimited.\n",
    "- display.max_columns : int =  If max_cols is exceeded, switch to truncate view. Depending on  `large_repr`, objects are either centrally truncated or printed as  a summary view. 'None' value means unlimited.\n",
    "- display.colheader_justify : 'left'/'right' =    Controls the justification of column headers. used by DataFrameFormatter.\n",
    "- display.date_dayfirst : boolean =     When True, prints and parses dates with the day first, eg 20/01/2005\n",
    "- display.expand_frame_repr : boolean =  Whether to print out the full DataFrame repr for wide DataFrames across  multiple lines, `max_columns` is still respected, but the output will wrap-around across multiple \"pages\" if its width exceeds `display.width`.    [default: True] [currently: True]\n",
    "- display.max_categories : int =  This sets the maximum number of categories pandas should output when printing out a `Categorical` or a Series of dtype \"category\".   [default: 8] [currently: 8]\n",
    "- display.max_info_columns : int =    max_info_columns is used in DataFrame.info method to decide if  per column information will be printed.\n",
    "-  display.min_rows : int =  The numbers of rows to show in a truncated view (when `max_rows` is exceeded). Ignored when `max_rows` is set to None or 0. When set to  None, follows the value of `max_rows`.  [default: 10] [currently: 10]\n",
    "-  display.precision : int = Floating point output precision in terms of number of places after the   decimal, for regular formatting as well as scientific notation. Similar  to ``precision`` in :meth:`numpy.set_printoptions`.  [default: 6] [currently: 6]\n",
    "-  display.width : int =  Width of the display in characters. In case python/IPython is running in a terminal this can be set to None and pandas will correctly auto-detect   the width.  Note that the IPython notebook, IPython qtconsole, or IDLE do not run in a  terminal and hence it is not possible to correctly detect the width.  [default: 80] [currently: 80]"
   ]
  },
  {
   "cell_type": "markdown",
   "id": "4436fd0c",
   "metadata": {},
   "source": [
    "# Startup Options\n",
    "<br> Using startup scripts for the Python/IPython environment to import pandas and set options makes working with pandas more efficient. To do this, create a .py or .ipy script in the startup directory of the desired profile. An example where the startup folder is in a default IPython profile can be found at:\n",
    "-  $IPYTHONDIR/profile_default/startup\n",
    "<br>An example startup script for pandas is displayed below:\n",
    "-  import pandas as pd\n",
    "-  pd.set_option(\"display.max_rows\", 999)\n",
    "-  pd.set_option(\"display.precision\", 5)"
   ]
  },
  {
   "cell_type": "markdown",
   "id": "892d637b",
   "metadata": {},
   "source": []
  }
 ],
 "metadata": {
  "kernelspec": {
   "display_name": "Python 3 (ipykernel)",
   "language": "python",
   "name": "python3"
  },
  "language_info": {
   "codemirror_mode": {
    "name": "ipython",
    "version": 3
   },
   "file_extension": ".py",
   "mimetype": "text/x-python",
   "name": "python",
   "nbconvert_exporter": "python",
   "pygments_lexer": "ipython3",
   "version": "3.9.16"
  }
 },
 "nbformat": 4,
 "nbformat_minor": 5
}
