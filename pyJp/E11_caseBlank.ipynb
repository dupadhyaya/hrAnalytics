{
 "cells": [
  {
   "cell_type": "markdown",
   "id": "f12da250",
   "metadata": {},
   "source": [
    "# HR Analytics Case Study\n",
    "-  Clustering\n",
    "-  https://medium.com/@JamFlores/k-prototypes-clustering-for-hr-analytics-a-working-hours-oriented-analysis-6472d38e9add\n",
    "-https://github.com/joeytuason83/joeytuason83.github.io/blob/360b78c00c23353778e28ba007c8e7e67515a532/Machine%20Learning/BIA_HR%20Analytics/HR_Analytics_on_Employee_Retention_and_Attrition_(k_Prototype)_Group_1.ipynb?fbclid=IwAR11Nou8nvDEN-oZp0azzkGFQ7nKqbE-JNGPueUJH2aAFwgoBhpB0_s06SQ"
   ]
  },
  {
   "cell_type": "markdown",
   "id": "b086b38b",
   "metadata": {},
   "source": [
    "## About Data\n",
    "-  The data simulates a typical Business environment dataset related to Human Resources information. It contains 3 data sets:\n",
    "    -  Employee data, with information like, name, Date of Birth, Date of hire, Department, etc.\n",
    "    -  Action data, indicating actions like, hiring, promotions, demotions, attrition.\n",
    "    -  Performance data. For each employee for each period.\n",
    "-  The 3 data set can be related through the Employee ID.\n",
    "-  The current data set spans over 10 periods (2015-2024) with an average active employees of 1000 per year.\n",
    "-  The replacement rate (new hire and attrition) is set to be about 5% per year.\n",
    "-  The age of employment is coherent with the typical distribution of ages.\n",
    "-  The likelihood of promotions is linked to performance rate.\n",
    "-  There are 2 planted biases in the data:\n",
    "    -  A Gender Bias (Female(1) employees tend to get better performance ratings)\n",
    "    -  A Race Bias (Asians (1) are more likely to be promoted)"
   ]
  },
  {
   "cell_type": "markdown",
   "id": "4e68bcad",
   "metadata": {},
   "source": [
    "## Tasks\n",
    "-  You are tasked to give a presentation to the HR Director of a Company that answers the following:\n",
    "    -  What are the most influential factors that cause an employee to leave the company?\n",
    "    -  Are there inherent clusters among those who left the company? What does it mean for us?\n",
    "    -  Can we predict which employee will leave (churn rate)? You may use different ML models, please report your Accuracy, Precision, and Recall?\n",
    "-  What recommendations can you give the HR director?"
   ]
  },
  {
   "cell_type": "code",
   "execution_count": 7,
   "id": "383f4799",
   "metadata": {},
   "outputs": [],
   "source": [
    "#libraries\n",
    "import pandas as pd\n",
    "import numpy as np\n",
    "import matplotlib.pyplot as plt\n",
    "import seaborn as sns\n",
    "from pydataset import data\n",
    "import plotnine\n",
    "from plotnine import *\n",
    "import sweetviz as sv\n",
    "from matplotlib import rcParams, cycler"
   ]
  },
  {
   "cell_type": "code",
   "execution_count": 8,
   "id": "168d6016",
   "metadata": {},
   "outputs": [],
   "source": [
    "#!pip install sweetviz\n",
    "#!pip install kmodes"
   ]
  },
  {
   "cell_type": "code",
   "execution_count": 10,
   "id": "54304616",
   "metadata": {},
   "outputs": [],
   "source": [
    "#other libraries if required # category clustering\n",
    "from sklearn.cluster import KMeans\n",
    "from kmodes.kprototypes import KPrototypes\n",
    "from sklearn.preprocessing import StandardScaler, OneHotEncoder, LabelEncoder\n",
    "from sklearn.model_selection import train_test_split\n",
    "from sklearn import tree\n",
    "from sklearn import metrics\n",
    "import itertools"
   ]
  },
  {
   "cell_type": "code",
   "execution_count": 12,
   "id": "45106eaa",
   "metadata": {},
   "outputs": [
    {
     "data": {
      "text/plain": [
       "['downloadData.R',\n",
       " 'HR DATA.txt',\n",
       " 'hrAttritution',\n",
       " 'misc',\n",
       " 'set1',\n",
       " 'set11',\n",
       " 'set12',\n",
       " 'set2',\n",
       " 'set3',\n",
       " 'set4',\n",
       " 'set5',\n",
       " 'set6',\n",
       " 'set7',\n",
       " 'set8',\n",
       " 'set9',\n",
       " 'text']"
      ]
     },
     "execution_count": 12,
     "metadata": {},
     "output_type": "execute_result"
    }
   ],
   "source": [
    "import os\n",
    "os.listdir('E:/analytics/projects/hrAnalytics/data/')"
   ]
  },
  {
   "cell_type": "code",
   "execution_count": 6,
   "id": "915bd10e",
   "metadata": {},
   "outputs": [],
   "source": [
    "#data\n",
    "fileLoc = 'E:/analytics/projects/hrAnalytics/data/hrAttrition/hrData.csv'"
   ]
  },
  {
   "cell_type": "code",
   "execution_count": 7,
   "id": "2c20d2ae",
   "metadata": {},
   "outputs": [],
   "source": [
    "#understand"
   ]
  },
  {
   "cell_type": "code",
   "execution_count": 8,
   "id": "12b0afc6",
   "metadata": {},
   "outputs": [],
   "source": [
    "#clean"
   ]
  },
  {
   "cell_type": "code",
   "execution_count": 9,
   "id": "28dac774",
   "metadata": {},
   "outputs": [],
   "source": [
    "#visualise"
   ]
  },
  {
   "cell_type": "code",
   "execution_count": 10,
   "id": "c14482ba",
   "metadata": {},
   "outputs": [],
   "source": [
    "#model"
   ]
  },
  {
   "cell_type": "code",
   "execution_count": 11,
   "id": "1e00c875",
   "metadata": {},
   "outputs": [],
   "source": [
    "#evalulate"
   ]
  },
  {
   "cell_type": "code",
   "execution_count": 12,
   "id": "ae6f3a39",
   "metadata": {},
   "outputs": [],
   "source": [
    "#conclude"
   ]
  },
  {
   "cell_type": "code",
   "execution_count": null,
   "id": "4ab35530",
   "metadata": {},
   "outputs": [],
   "source": [
    "#Links"
   ]
  }
 ],
 "metadata": {
  "kernelspec": {
   "display_name": "Python 3 (ipykernel)",
   "language": "python",
   "name": "python3"
  },
  "language_info": {
   "codemirror_mode": {
    "name": "ipython",
    "version": 3
   },
   "file_extension": ".py",
   "mimetype": "text/x-python",
   "name": "python",
   "nbconvert_exporter": "python",
   "pygments_lexer": "ipython3",
   "version": "3.9.16"
  }
 },
 "nbformat": 4,
 "nbformat_minor": 5
}
