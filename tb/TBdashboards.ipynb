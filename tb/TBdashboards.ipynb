{
 "cells": [
  {
   "cell_type": "markdown",
   "id": "2a24aa7a",
   "metadata": {},
   "source": [
    "# Tableau Dashboard Links"
   ]
  },
  {
   "cell_type": "markdown",
   "id": "ef844809",
   "metadata": {},
   "source": [
    "https://public.tableau.com/app/profile/dhiraj.upadhyaya"
   ]
  }
 ],
 "metadata": {
  "kernelspec": {
   "display_name": "Python 3 (ipykernel)",
   "language": "python",
   "name": "python3"
  },
  "language_info": {
   "codemirror_mode": {
    "name": "ipython",
    "version": 3
   },
   "file_extension": ".py",
   "mimetype": "text/x-python",
   "name": "python",
   "nbconvert_exporter": "python",
   "pygments_lexer": "ipython3",
   "version": "3.9.16"
  }
 },
 "nbformat": 4,
 "nbformat_minor": 5
}
